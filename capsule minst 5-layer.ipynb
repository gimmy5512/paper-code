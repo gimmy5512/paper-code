{
 "cells": [
  {
   "cell_type": "code",
   "execution_count": 1,
   "metadata": {},
   "outputs": [
    {
     "name": "stderr",
     "output_type": "stream",
     "text": [
      "Using TensorFlow backend.\n"
     ]
    }
   ],
   "source": [
    "from __future__ import print_function\n",
    "from keras import backend as K\n",
    "from keras.layers import Layer\n",
    "from keras import activations\n",
    "from keras import utils\n",
    "from keras.datasets import mnist\n",
    "from keras.models import Model\n",
    "from keras.layers import *\n",
    "from keras.preprocessing.image import ImageDataGenerator\n",
    "import cv2"
   ]
  },
  {
   "cell_type": "code",
   "execution_count": null,
   "metadata": {},
   "outputs": [],
   "source": []
  },
  {
   "cell_type": "code",
   "execution_count": 2,
   "metadata": {},
   "outputs": [],
   "source": [
    "Vld_Splt= 0.0909\n",
    "batch_size = 200\n",
    "num_classes = 10\n",
    "epochs = 25"
   ]
  },
  {
   "cell_type": "code",
   "execution_count": 3,
   "metadata": {},
   "outputs": [],
   "source": [
    "(x_train, y_train), (x_test, y_test) = mnist.load_data()\n",
    "\n",
    "x_train = x_train.reshape(x_train.shape[0], x_train.shape[1], x_train.shape[2], 1)\\\n",
    "         .astype('float32')\n",
    "x_test = x_test.reshape(x_test.shape[0], x_test.shape[1], x_test.shape[2], 1).\\\n",
    "         astype('float32')\n",
    "x_train /= 255\n",
    "x_test /= 255\n",
    "y_train = utils.to_categorical(y_train, num_classes)\n",
    "y_test = utils.to_categorical(y_test, num_classes)"
   ]
  },
  {
   "cell_type": "code",
   "execution_count": 4,
   "metadata": {},
   "outputs": [
    {
     "name": "stdout",
     "output_type": "stream",
     "text": [
      "(60000, 10) \n",
      " (10000, 10) \n",
      " (60000, 28, 28, 1) \n",
      " (10000, 28, 28, 1)\n"
     ]
    }
   ],
   "source": [
    "print(y_train.shape, '\\n',y_test.shape,'\\n',\n",
    "      x_train.shape,'\\n', x_test.shape)"
   ]
  },
  {
   "cell_type": "code",
   "execution_count": 5,
   "metadata": {},
   "outputs": [],
   "source": [
    "# the squashing function.\n",
    "# we use 0.5 in stead of 1 in hinton's paper.\n",
    "# if 1, the norm of vector will be zoomed out.\n",
    "# if 0.5, the norm will be zoomed in while original norm is less than 0.5\n",
    "# and be zoomed out while original norm is greater than 0.5.\n",
    "def squash(x, axis=-1):\n",
    "    s_squared_norm = K.sum(K.square(x), axis, keepdims=True) + K.epsilon()\n",
    "    scale = K.sqrt(s_squared_norm) / (0.5 + s_squared_norm)\n",
    "    return scale * x\n",
    "\n",
    "\n",
    "# define our own softmax function instead of K.softmax\n",
    "# because K.softmax can not specify axis.\n",
    "def softmax(x, axis=-1):\n",
    "    ex = K.exp(x - K.max(x, axis=axis, keepdims=True))\n",
    "    return ex / K.sum(ex, axis=axis, keepdims=True)\n",
    "\n",
    "\n",
    "# define the margin loss like hinge loss\n",
    "def margin_loss(y_true, y_pred):\n",
    "    lamb, margin = 0.5, 0.1\n",
    "    return K.sum(y_true * K.square(K.relu(1 - margin - y_pred)) + lamb * (\n",
    "        1 - y_true) * K.square(K.relu(y_pred - margin)), axis=-1)\n",
    "\n",
    "\n",
    "class Capsule(Layer):\n",
    "    \"\"\"A Capsule Implement with Pure Keras\n",
    "    There are two vesions of Capsule.\n",
    "    One is like dense layer (for the fixed-shape input),\n",
    "    and the other is like timedistributed dense (for various length input).\n",
    "\n",
    "    The input shape of Capsule must be (batch_size,\n",
    "                                        input_num_capsule,\n",
    "                                        input_dim_capsule\n",
    "                                       )\n",
    "    and the output shape is (batch_size,\n",
    "                             num_capsule,\n",
    "                             dim_capsule\n",
    "                            )\n",
    "\n",
    "    Capsule Implement is from https://github.com/bojone/Capsule/\n",
    "    Capsule Paper: https://arxiv.org/abs/1710.09829\n",
    "    \"\"\"\n",
    "\n",
    "    def __init__(self,\n",
    "                 num_capsule,\n",
    "                 dim_capsule,\n",
    "                 routings=3,\n",
    "                 share_weights=True,\n",
    "                 activation='squash',\n",
    "                 **kwargs):\n",
    "        super(Capsule, self).__init__(**kwargs)\n",
    "        self.num_capsule = num_capsule\n",
    "        self.dim_capsule = dim_capsule\n",
    "        self.routings = routings\n",
    "        self.share_weights = share_weights\n",
    "        if activation == 'squash':\n",
    "            self.activation = squash\n",
    "        else:\n",
    "            self.activation = activations.get(activation)\n",
    "\n",
    "    def build(self, input_shape):\n",
    "        input_dim_capsule = input_shape[-1]\n",
    "        if self.share_weights:\n",
    "            self.kernel = self.add_weight(\n",
    "                name='capsule_kernel',\n",
    "                shape=(1, input_dim_capsule,\n",
    "                       self.num_capsule * self.dim_capsule),\n",
    "                initializer='glorot_uniform',\n",
    "                trainable=True)\n",
    "        else:\n",
    "            input_num_capsule = input_shape[-2]\n",
    "            self.kernel = self.add_weight(\n",
    "                name='capsule_kernel',\n",
    "                shape=(input_num_capsule, input_dim_capsule,\n",
    "                       self.num_capsule * self.dim_capsule),\n",
    "                initializer='glorot_uniform',\n",
    "                trainable=True)\n",
    "\n",
    "    def call(self, inputs):\n",
    "        \"\"\"Following the routing algorithm from Hinton's paper,\n",
    "        but replace b = b + <u,v> with b = <u,v>.\n",
    "\n",
    "        This change can improve the feature representation of Capsule.\n",
    "\n",
    "        However, you can replace\n",
    "            b = K.batch_dot(outputs, hat_inputs, [2, 3])\n",
    "        with\n",
    "            b += K.batch_dot(outputs, hat_inputs, [2, 3])\n",
    "        to realize a standard routing.\n",
    "        \"\"\"\n",
    "\n",
    "        if self.share_weights:\n",
    "            hat_inputs = K.conv1d(inputs, self.kernel)\n",
    "        else:\n",
    "            hat_inputs = K.local_conv1d(inputs, self.kernel, [1], [1])\n",
    "\n",
    "        batch_size = K.shape(inputs)[0]\n",
    "        input_num_capsule = K.shape(inputs)[1]\n",
    "        hat_inputs = K.reshape(hat_inputs,\n",
    "                               (batch_size, input_num_capsule,\n",
    "                                self.num_capsule, self.dim_capsule))\n",
    "        hat_inputs = K.permute_dimensions(hat_inputs, (0, 2, 1, 3))\n",
    "\n",
    "        b = K.zeros_like(hat_inputs[:, :, :, 0])\n",
    "        for i in range(self.routings):\n",
    "            c = softmax(b, 1)\n",
    "            o = self.activation(K.batch_dot(c, hat_inputs, [2, 2]))\n",
    "            if i < self.routings - 1:\n",
    "                b = K.batch_dot(o, hat_inputs, [2, 3])\n",
    "                if K.backend() == 'theano':\n",
    "                    o = K.sum(o, axis=1)\n",
    "\n",
    "        return o\n",
    "\n",
    "    def compute_output_shape(self, input_shape):\n",
    "        return (None, self.num_capsule, self.dim_capsule)"
   ]
  },
  {
   "cell_type": "code",
   "execution_count": 6,
   "metadata": {},
   "outputs": [
    {
     "name": "stdout",
     "output_type": "stream",
     "text": [
      "_________________________________________________________________\n",
      "Layer (type)                 Output Shape              Param #   \n",
      "=================================================================\n",
      "input_1 (InputLayer)         (None, 28, 28, 1)         0         \n",
      "_________________________________________________________________\n",
      "conv2d_1 (Conv2D)            (None, 26, 26, 10)        100       \n",
      "_________________________________________________________________\n",
      "dropout_1 (Dropout)          (None, 26, 26, 10)        0         \n",
      "_________________________________________________________________\n",
      "conv2d_2 (Conv2D)            (None, 12, 12, 20)        1820      \n",
      "_________________________________________________________________\n",
      "dropout_2 (Dropout)          (None, 12, 12, 20)        0         \n",
      "_________________________________________________________________\n",
      "conv2d_3 (Conv2D)            (None, 10, 10, 30)        5430      \n",
      "_________________________________________________________________\n",
      "dropout_3 (Dropout)          (None, 10, 10, 30)        0         \n",
      "_________________________________________________________________\n",
      "conv2d_4 (Conv2D)            (None, 4, 4, 40)          10840     \n",
      "_________________________________________________________________\n",
      "dropout_4 (Dropout)          (None, 4, 4, 40)          0         \n",
      "_________________________________________________________________\n",
      "conv2d_5 (Conv2D)            (None, 2, 2, 50)          18050     \n",
      "_________________________________________________________________\n",
      "dropout_5 (Dropout)          (None, 2, 2, 50)          0         \n",
      "_________________________________________________________________\n",
      "reshape_1 (Reshape)          (None, 4, 50)             0         \n",
      "_________________________________________________________________\n",
      "capsule_1 (Capsule)          (None, 10, 16)            8000      \n",
      "_________________________________________________________________\n",
      "lambda_1 (Lambda)            (None, 10)                0         \n",
      "=================================================================\n",
      "Total params: 44,240\n",
      "Trainable params: 44,240\n",
      "Non-trainable params: 0\n",
      "_________________________________________________________________\n"
     ]
    }
   ],
   "source": [
    "\"\"\"FIVE-CONV-LAYERS-THICK\"\"\"\n",
    "input_image = Input(shape=(x_train.shape[1], x_train.shape[2], x_train.shape[3]))\n",
    "x_0 = Conv2D(filters= 10, kernel_size= 3, activation='relu', \n",
    "             padding= 'valid')(input_image)\n",
    "x_0= Dropout(0.2)(x_0)\n",
    "x_0 = Conv2D(filters= 20, kernel_size= 3, activation='relu',\n",
    "             strides= 2)(x_0)\n",
    "x_0 = Dropout(0.2)(x_0)\n",
    "x_0 = Conv2D(filters= 30, kernel_size= 3, activation='relu',\n",
    "             strides= 1)(x_0)\n",
    "x_0= Dropout(0.2)(x_0)\n",
    "x_0 = Conv2D(filters= 40, kernel_size= 3, activation='relu', \n",
    "             strides= 2)(x_0)\n",
    "x_0= Dropout(0.2)(x_0)\n",
    "x_0= Conv2D(filters= 50, kernel_size= 3, activation='relu', \n",
    "             strides= 1)(x_0)\n",
    "x_0= Dropout(0.2)(x_0)\n",
    "\n",
    "\"\"\"now we reshape it as (batch_size, input_num_capsule, input_dim_capsule)\n",
    "then connect a Capsule layer.\n",
    "\n",
    "the output of final model is the lengths of 10 Capsule, whose dim=16.\n",
    "\n",
    "the length of Capsule is the proba,\n",
    "so the problem becomes a 10 two-classification problem.\n",
    "\"\"\"\n",
    "\n",
    "x_0 = Reshape((-1, 50))(x_0)\n",
    "capsule_0 = Capsule(num_classes, 16, 3, True)(x_0)\n",
    "output_0 = Lambda(lambda z: K.sqrt(K.sum(K.square(z), 2)))(capsule_0)\n",
    "model_0 = Model(inputs= input_image, outputs= output_0)\n",
    "\n",
    "# we use a margin loss\n",
    "model_0.compile(loss =margin_loss, optimizer='adam', metrics=['accuracy'])\n",
    "model_0.summary()\n",
    "\n",
    "# we can compare the performance with or without data augmentation\n",
    "data_augmentation = False"
   ]
  },
  {
   "cell_type": "code",
   "execution_count": 7,
   "metadata": {},
   "outputs": [
    {
     "name": "stdout",
     "output_type": "stream",
     "text": [
      "Not using data augmentation.\n",
      "Train on 54546 samples, validate on 5454 samples\n",
      "Epoch 1/25\n",
      "54546/54546 [==============================] - 31s 563us/step - loss: 0.2434 - acc: 0.6900 - val_loss: 0.0441 - val_acc: 0.9584\n",
      "Epoch 2/25\n",
      "54546/54546 [==============================] - 31s 567us/step - loss: 0.0629 - acc: 0.9364 - val_loss: 0.0218 - val_acc: 0.9767\n",
      "Epoch 3/25\n",
      "54546/54546 [==============================] - 31s 560us/step - loss: 0.0416 - acc: 0.9579 - val_loss: 0.0163 - val_acc: 0.9842\n",
      "Epoch 4/25\n",
      "54546/54546 [==============================] - 32s 589us/step - loss: 0.0327 - acc: 0.9678 - val_loss: 0.0122 - val_acc: 0.9879\n",
      "Epoch 5/25\n",
      "54546/54546 [==============================] - 30s 555us/step - loss: 0.0270 - acc: 0.9733 - val_loss: 0.0116 - val_acc: 0.9868\n",
      "Epoch 6/25\n",
      "54546/54546 [==============================] - 30s 553us/step - loss: 0.0237 - acc: 0.9760 - val_loss: 0.0101 - val_acc: 0.9899\n",
      "Epoch 7/25\n",
      "54546/54546 [==============================] - 30s 554us/step - loss: 0.0214 - acc: 0.9792 - val_loss: 0.0087 - val_acc: 0.9908\n",
      "Epoch 8/25\n",
      "54546/54546 [==============================] - 30s 545us/step - loss: 0.0191 - acc: 0.9810 - val_loss: 0.0082 - val_acc: 0.9901\n",
      "Epoch 9/25\n",
      "54546/54546 [==============================] - 30s 558us/step - loss: 0.0179 - acc: 0.9820 - val_loss: 0.0089 - val_acc: 0.9908\n",
      "Epoch 10/25\n",
      "54546/54546 [==============================] - 32s 581us/step - loss: 0.0167 - acc: 0.9837 - val_loss: 0.0078 - val_acc: 0.9919\n",
      "Epoch 11/25\n",
      "54546/54546 [==============================] - 32s 581us/step - loss: 0.0156 - acc: 0.9842 - val_loss: 0.0070 - val_acc: 0.9914\n",
      "Epoch 12/25\n",
      "54546/54546 [==============================] - 31s 576us/step - loss: 0.0145 - acc: 0.9859 - val_loss: 0.0071 - val_acc: 0.9928\n",
      "Epoch 13/25\n",
      "54546/54546 [==============================] - 31s 576us/step - loss: 0.0139 - acc: 0.9862 - val_loss: 0.0069 - val_acc: 0.9919\n",
      "Epoch 14/25\n",
      "54546/54546 [==============================] - 30s 559us/step - loss: 0.0136 - acc: 0.9865 - val_loss: 0.0061 - val_acc: 0.9932\n",
      "Epoch 15/25\n",
      "54546/54546 [==============================] - 31s 560us/step - loss: 0.0134 - acc: 0.9869 - val_loss: 0.0059 - val_acc: 0.9943\n",
      "Epoch 16/25\n",
      "54546/54546 [==============================] - 31s 568us/step - loss: 0.0126 - acc: 0.9874 - val_loss: 0.0062 - val_acc: 0.9936\n",
      "Epoch 17/25\n",
      "54546/54546 [==============================] - 31s 570us/step - loss: 0.0123 - acc: 0.9874 - val_loss: 0.0059 - val_acc: 0.9936\n",
      "Epoch 18/25\n",
      "54546/54546 [==============================] - 30s 557us/step - loss: 0.0119 - acc: 0.9876 - val_loss: 0.0059 - val_acc: 0.9936\n",
      "Epoch 19/25\n",
      "54546/54546 [==============================] - 30s 547us/step - loss: 0.0110 - acc: 0.9889 - val_loss: 0.0054 - val_acc: 0.9938\n",
      "Epoch 20/25\n",
      "54546/54546 [==============================] - 30s 550us/step - loss: 0.0110 - acc: 0.9889 - val_loss: 0.0054 - val_acc: 0.9938\n",
      "Epoch 21/25\n",
      "54546/54546 [==============================] - 31s 566us/step - loss: 0.0110 - acc: 0.9892 - val_loss: 0.0060 - val_acc: 0.9925\n",
      "Epoch 22/25\n",
      "54546/54546 [==============================] - 31s 574us/step - loss: 0.0105 - acc: 0.9897 - val_loss: 0.0053 - val_acc: 0.9938\n",
      "Epoch 23/25\n",
      "54546/54546 [==============================] - 32s 592us/step - loss: 0.0102 - acc: 0.9896 - val_loss: 0.0055 - val_acc: 0.9938\n",
      "Epoch 24/25\n",
      "54546/54546 [==============================] - 33s 611us/step - loss: 0.0104 - acc: 0.9893 - val_loss: 0.0052 - val_acc: 0.9939\n",
      "Epoch 25/25\n",
      "54546/54546 [==============================] - 32s 581us/step - loss: 0.0100 - acc: 0.9897 - val_loss: 0.0053 - val_acc: 0.9938\n"
     ]
    }
   ],
   "source": [
    "\"\"\"FOUR-CONV-LAYERS-THICK\"\"\"\n",
    "if not data_augmentation:\n",
    "    print('Not using data augmentation.')\n",
    "    train_history_0= model_0.fit(\n",
    "        x_train,\n",
    "        y_train,\n",
    "        batch_size=batch_size,\n",
    "        epochs=epochs,\n",
    "        validation_split= Vld_Splt,\n",
    "        shuffle=True)\n",
    "else:\n",
    "    print('Using real-time data augmentation.')\n",
    "    # This will do preprocessing and realtime data augmentation:\n",
    "    datagen = ImageDataGenerator(\n",
    "        featurewise_center=False,  # set input mean to 0 over the dataset\n",
    "        samplewise_center=False,  # set each sample mean to 0\n",
    "        featurewise_std_normalization=False,  # divide inputs by dataset std\n",
    "        samplewise_std_normalization=False,  # divide each input by its std\n",
    "        zca_whitening=False,  # apply ZCA whitening\n",
    "        zca_epsilon=1e-06,  # epsilon for ZCA whitening\n",
    "        rotation_range=0,  # randomly rotate images in 0 to 180 degrees\n",
    "        width_shift_range=0.1,  # randomly shift images horizontally\n",
    "        height_shift_range=0.1,  # randomly shift images vertically\n",
    "        shear_range=0.,  # set range for random shear\n",
    "        zoom_range=0.,  # set range for random zoom\n",
    "        channel_shift_range=0.,  # set range for random channel shifts\n",
    "        # set mode for filling points outside the input boundaries\n",
    "        fill_mode='nearest',\n",
    "        cval=0.,  # value used for fill_mode = \"constant\"\n",
    "        horizontal_flip=True,  # randomly flip images\n",
    "        vertical_flip=False,  # randomly flip images\n",
    "        # set rescaling factor (applied before any other transformation)\n",
    "        rescale=None,\n",
    "        # set function that will be applied on each input\n",
    "        preprocessing_function=None,\n",
    "        # image data format, either \"channels_first\" or \"channels_last\"\n",
    "        data_format=None,\n",
    "        # fraction of images reserved for validation (strictly between 0 and 1)\n",
    "        validation_split=0.0)\n",
    "\n",
    "    # Compute quantities required for feature-wise normalization\n",
    "    # (std, mean, and principal components if ZCA whitening is applied).\n",
    "    datagen.fit(x_train)\n",
    "\n",
    "    # Fit the model on the batches generated by datagen.flow().\n",
    "    train_history_0= model_0.fit_generator(\n",
    "        datagen.flow(x_train, y_train, batch_size=batch_size),\n",
    "        epochs= epochs,\n",
    "        validation_split= Vld_Splt,\n",
    "        steps_per_epoch= int(x_train.shape[0]/ batch_size),\n",
    "        workers=4)"
   ]
  },
  {
   "cell_type": "code",
   "execution_count": 8,
   "metadata": {},
   "outputs": [
    {
     "name": "stdout",
     "output_type": "stream",
     "text": [
      "10000/10000 [==============================] - 2s 234us/step\n"
     ]
    },
    {
     "data": {
      "text/plain": [
       "0.994"
      ]
     },
     "execution_count": 8,
     "metadata": {},
     "output_type": "execute_result"
    }
   ],
   "source": [
    "\"\"\"FOUR-CONV-LAYERS-THICK\"\"\"\n",
    "scores_0= model_0.evaluate(x_test, y_test)\n",
    "scores_0[1]"
   ]
  },
  {
   "cell_type": "code",
   "execution_count": 9,
   "metadata": {},
   "outputs": [],
   "source": [
    "import matplotlib.pyplot as plt\n",
    "def show_train_history(train_history, train, validation):\n",
    "    plt.plot(train_history.history[train])\n",
    "    plt.plot(train_history.history[validation])\n",
    "    plt.title('Train History')\n",
    "    plt.ylabel(train)\n",
    "    plt.xlabel('Epoch')\n",
    "    plt.legend(['train', 'validation'], loc='best')\n",
    "    plt.show()"
   ]
  },
  {
   "cell_type": "code",
   "execution_count": 11,
   "metadata": {},
   "outputs": [
    {
     "data": {
      "image/png": "[encoded data removed]",
      "text/plain": [
       "<Figure size 432x288 with 1 Axes>"
      ]
     },
     "metadata": {
      "needs_background": "light"
     },
     "output_type": "display_data"
    }
   ],
   "source": [
    "show_train_history(train_history_0, 'acc', 'val_acc')"
   ]
  },
  {
   "cell_type": "code",
   "execution_count": 12,
   "metadata": {},
   "outputs": [
    {
     "data": {
      "image/png": "[encoded data removed]",
      "text/plain": [
       "<Figure size 432x288 with 1 Axes>"
      ]
     },
     "metadata": {
      "needs_background": "light"
     },
     "output_type": "display_data"
    }
   ],
   "source": [
    "plt.plot(train_history_0.history['val_acc'], 'r')\n",
    "plt.title('Training with mnist')\n",
    "plt.ylabel('Validation Accuracy')\n",
    "plt.xlabel('Epoch')\n",
    "plt.legend(['CapsNet: 5-conv.,'], loc='lower right')\n",
    "plt.show()"
   ]
  },
  {
   "cell_type": "code",
   "execution_count": null,
   "metadata": {},
   "outputs": [],
   "source": []
  }
 ],
 "metadata": {
  "kernelspec": {
   "display_name": "Python 3",
   "language": "python",
   "name": "python3"
  },
  "language_info": {
   "codemirror_mode": {
    "name": "ipython",
    "version": 3
   },
   "file_extension": ".py",
   "mimetype": "text/x-python",
   "name": "python",
   "nbconvert_exporter": "python",
   "pygments_lexer": "ipython3",
   "version": "3.6.9"
  }
 },
 "nbformat": 4,
 "nbformat_minor": 2
}
