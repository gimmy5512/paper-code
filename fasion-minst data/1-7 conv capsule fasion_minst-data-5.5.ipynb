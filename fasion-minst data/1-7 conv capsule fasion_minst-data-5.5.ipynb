{
 "cells": [
  {
   "cell_type": "code",
   "execution_count": 1,
   "metadata": {},
   "outputs": [],
   "source": [
    "import os\n"
   ]
  },
  {
   "cell_type": "code",
   "execution_count": 2,
   "metadata": {},
   "outputs": [
    {
     "name": "stderr",
     "output_type": "stream",
     "text": [
      "Using TensorFlow backend.\n",
      "C:\\Users\\ASUS\\Anaconda3\\envs\\tensorflow-gpu\\lib\\site-packages\\tensorflow\\python\\framework\\dtypes.py:526: FutureWarning: Passing (type, 1) or '1type' as a synonym of type is deprecated; in a future version of numpy, it will be understood as (type, (1,)) / '(1,)type'.\n",
      "  _np_qint8 = np.dtype([(\"qint8\", np.int8, 1)])\n",
      "C:\\Users\\ASUS\\Anaconda3\\envs\\tensorflow-gpu\\lib\\site-packages\\tensorflow\\python\\framework\\dtypes.py:527: FutureWarning: Passing (type, 1) or '1type' as a synonym of type is deprecated; in a future version of numpy, it will be understood as (type, (1,)) / '(1,)type'.\n",
      "  _np_quint8 = np.dtype([(\"quint8\", np.uint8, 1)])\n",
      "C:\\Users\\ASUS\\Anaconda3\\envs\\tensorflow-gpu\\lib\\site-packages\\tensorflow\\python\\framework\\dtypes.py:528: FutureWarning: Passing (type, 1) or '1type' as a synonym of type is deprecated; in a future version of numpy, it will be understood as (type, (1,)) / '(1,)type'.\n",
      "  _np_qint16 = np.dtype([(\"qint16\", np.int16, 1)])\n",
      "C:\\Users\\ASUS\\Anaconda3\\envs\\tensorflow-gpu\\lib\\site-packages\\tensorflow\\python\\framework\\dtypes.py:529: FutureWarning: Passing (type, 1) or '1type' as a synonym of type is deprecated; in a future version of numpy, it will be understood as (type, (1,)) / '(1,)type'.\n",
      "  _np_quint16 = np.dtype([(\"quint16\", np.uint16, 1)])\n",
      "C:\\Users\\ASUS\\Anaconda3\\envs\\tensorflow-gpu\\lib\\site-packages\\tensorflow\\python\\framework\\dtypes.py:530: FutureWarning: Passing (type, 1) or '1type' as a synonym of type is deprecated; in a future version of numpy, it will be understood as (type, (1,)) / '(1,)type'.\n",
      "  _np_qint32 = np.dtype([(\"qint32\", np.int32, 1)])\n",
      "C:\\Users\\ASUS\\Anaconda3\\envs\\tensorflow-gpu\\lib\\site-packages\\tensorflow\\python\\framework\\dtypes.py:535: FutureWarning: Passing (type, 1) or '1type' as a synonym of type is deprecated; in a future version of numpy, it will be understood as (type, (1,)) / '(1,)type'.\n",
      "  np_resource = np.dtype([(\"resource\", np.ubyte, 1)])\n"
     ]
    }
   ],
   "source": [
    "from __future__ import print_function\n",
    "from keras import backend as K\n",
    "from keras.layers import Layer\n",
    "from keras import activations\n",
    "from keras import utils\n",
    "from keras.datasets import fashion_mnist\n",
    "from keras.datasets import mnist\n",
    "from keras.models import Model\n",
    "from keras.layers import *\n",
    "from keras.preprocessing.image import ImageDataGenerator\n",
    "import cv2"
   ]
  },
  {
   "cell_type": "code",
   "execution_count": 3,
   "metadata": {},
   "outputs": [],
   "source": [
    "from tensorflow.compat.v1 import ConfigProto\n",
    "from tensorflow.compat.v1 import InteractiveSession\n",
    "\n",
    "config = ConfigProto()\n",
    "config.gpu_options.allow_growth = True\n",
    "session = InteractiveSession(config=config)"
   ]
  },
  {
   "cell_type": "code",
   "execution_count": 4,
   "metadata": {},
   "outputs": [],
   "source": [
    "Vld_Splt= 0.0909\n",
    "batch_size = 200\n",
    "num_classes = 10\n",
    "epochs = 30"
   ]
  },
  {
   "cell_type": "code",
   "execution_count": 5,
   "metadata": {},
   "outputs": [],
   "source": [
    "(x_train, y_train), (x_test, y_test) = fashion_mnist.load_data()\n",
    "\n",
    "x_train = x_train.reshape(x_train.shape[0], x_train.shape[1], x_train.shape[2], 1)\\\n",
    "         .astype('float32')\n",
    "x_test = x_test.reshape(x_test.shape[0], x_test.shape[1], x_test.shape[2], 1).\\\n",
    "         astype('float32')\n",
    "x_train /= 255\n",
    "x_test /= 255\n",
    "y_train = utils.to_categorical(y_train, num_classes)\n",
    "y_test = utils.to_categorical(y_test, num_classes)"
   ]
  },
  {
   "cell_type": "code",
   "execution_count": 6,
   "metadata": {},
   "outputs": [
    {
     "name": "stdout",
     "output_type": "stream",
     "text": [
      "(60000, 10) \n",
      " (10000, 10) \n",
      " (60000, 28, 28, 1) \n",
      " (10000, 28, 28, 1)\n"
     ]
    }
   ],
   "source": [
    "print(y_train.shape, '\\n',y_test.shape,'\\n',\n",
    "      x_train.shape,'\\n', x_test.shape)"
   ]
  },
  {
   "cell_type": "code",
   "execution_count": 7,
   "metadata": {},
   "outputs": [],
   "source": [
    "# the squashing function.\n",
    "# we use 0.5 in stead of 1 in hinton's paper.\n",
    "# if 1, the norm of vector will be zoomed out.\n",
    "# if 0.5, the norm will be zoomed in while original norm is less than 0.5\n",
    "# and be zoomed out while original norm is greater than 0.5.\n",
    "def squash(x, axis=-1):\n",
    "    s_squared_norm = K.sum(K.square(x), axis, keepdims=True) + K.epsilon()\n",
    "    scale = K.sqrt(s_squared_norm) / (0.5 + s_squared_norm)\n",
    "    return scale * x\n",
    "\n",
    "\n",
    "# define our own softmax function instead of K.softmax\n",
    "# because K.softmax can not specify axis.\n",
    "def softmax(x, axis=-1):\n",
    "    ex = K.exp(x - K.max(x, axis=axis, keepdims=True))\n",
    "    return ex / K.sum(ex, axis=axis, keepdims=True)\n",
    "\n",
    "\n",
    "# define the margin loss like hinge loss\n",
    "def margin_loss(y_true, y_pred):\n",
    "    lamb, margin = 0.5, 0.1\n",
    "    return K.sum(y_true * K.square(K.relu(1 - margin - y_pred)) + lamb * (\n",
    "        1 - y_true) * K.square(K.relu(y_pred - margin)), axis=-1)\n",
    "\n",
    "\n",
    "class Capsule(Layer):\n",
    "    \"\"\"A Capsule Implement with Pure Keras\n",
    "    There are two vesions of Capsule.\n",
    "    One is like dense layer (for the fixed-shape input),\n",
    "    and the other is like timedistributed dense (for various length input).\n",
    "\n",
    "    The input shape of Capsule must be (batch_size,\n",
    "                                        input_num_capsule,\n",
    "                                        input_dim_capsule\n",
    "                                       )\n",
    "    and the output shape is (batch_size,\n",
    "                             num_capsule,\n",
    "                             dim_capsule\n",
    "                            )\n",
    "\n",
    "    Capsule Implement is from https://github.com/bojone/Capsule/\n",
    "    Capsule Paper: https://arxiv.org/abs/1710.09829\n",
    "    \"\"\"\n",
    "\n",
    "    def __init__(self,\n",
    "                 num_capsule,\n",
    "                 dim_capsule,\n",
    "                 routings=3,\n",
    "                 share_weights=True,\n",
    "                 activation='squash',\n",
    "                 **kwargs):\n",
    "        super(Capsule, self).__init__(**kwargs)\n",
    "        self.num_capsule = num_capsule\n",
    "        self.dim_capsule = dim_capsule\n",
    "        self.routings = routings\n",
    "        self.share_weights = share_weights\n",
    "        if activation == 'squash':\n",
    "            self.activation = squash\n",
    "        else:\n",
    "            self.activation = activations.get(activation)\n",
    "\n",
    "    def build(self, input_shape):\n",
    "        input_dim_capsule = input_shape[-1]\n",
    "        if self.share_weights:\n",
    "            self.kernel = self.add_weight(\n",
    "                name='capsule_kernel',\n",
    "                shape=(1, input_dim_capsule,\n",
    "                       self.num_capsule * self.dim_capsule),\n",
    "                initializer='glorot_uniform',\n",
    "                trainable=True)\n",
    "        else:\n",
    "            input_num_capsule = input_shape[-2]\n",
    "            self.kernel = self.add_weight(\n",
    "                name='capsule_kernel',\n",
    "                shape=(input_num_capsule, input_dim_capsule,\n",
    "                       self.num_capsule * self.dim_capsule),\n",
    "                initializer='glorot_uniform',\n",
    "                trainable=True)\n",
    "\n",
    "    def call(self, inputs):\n",
    "        \"\"\"Following the routing algorithm from Hinton's paper,\n",
    "        but replace b = b + <u,v> with b = <u,v>.\n",
    "\n",
    "        This change can improve the feature representation of Capsule.\n",
    "\n",
    "        However, you can replace\n",
    "            b = K.batch_dot(outputs, hat_inputs, [2, 3])\n",
    "        with\n",
    "            b += K.batch_dot(outputs, hat_inputs, [2, 3])\n",
    "        to realize a standard routing.\n",
    "        \"\"\"\n",
    "\n",
    "        if self.share_weights:\n",
    "            hat_inputs = K.conv1d(inputs, self.kernel)\n",
    "        else:\n",
    "            hat_inputs = K.local_conv1d(inputs, self.kernel, [1], [1])\n",
    "\n",
    "        batch_size = K.shape(inputs)[0]\n",
    "        input_num_capsule = K.shape(inputs)[1]\n",
    "        hat_inputs = K.reshape(hat_inputs,\n",
    "                               (batch_size, input_num_capsule,\n",
    "                                self.num_capsule, self.dim_capsule))\n",
    "        hat_inputs = K.permute_dimensions(hat_inputs, (0, 2, 1, 3))\n",
    "\n",
    "        b = K.zeros_like(hat_inputs[:, :, :, 0])\n",
    "        for i in range(self.routings):\n",
    "            c = softmax(b, 1)\n",
    "            o = self.activation(K.batch_dot(c, hat_inputs, [2, 2]))\n",
    "            if i < self.routings - 1:\n",
    "                b = K.batch_dot(o, hat_inputs, [2, 3])\n",
    "                if K.backend() == 'theano':\n",
    "                    o = K.sum(o, axis=1)\n",
    "\n",
    "        return o\n",
    "\n",
    "    def compute_output_shape(self, input_shape):\n",
    "        return (None, self.num_capsule, self.dim_capsule)"
   ]
  },
  {
   "cell_type": "code",
   "execution_count": 8,
   "metadata": {},
   "outputs": [
    {
     "name": "stdout",
     "output_type": "stream",
     "text": [
      "WARNING:tensorflow:From C:\\Users\\ASUS\\Anaconda3\\envs\\tensorflow-gpu\\lib\\site-packages\\tensorflow\\python\\framework\\op_def_library.py:263: colocate_with (from tensorflow.python.framework.ops) is deprecated and will be removed in a future version.\n",
      "Instructions for updating:\n",
      "Colocations handled automatically by placer.\n",
      "WARNING:tensorflow:From C:\\Users\\ASUS\\Anaconda3\\envs\\tensorflow-gpu\\lib\\site-packages\\keras\\backend\\tensorflow_backend.py:3445: calling dropout (from tensorflow.python.ops.nn_ops) with keep_prob is deprecated and will be removed in a future version.\n",
      "Instructions for updating:\n",
      "Please use `rate` instead of `keep_prob`. Rate should be set to `rate = 1 - keep_prob`.\n",
      "_________________________________________________________________\n",
      "Layer (type)                 Output Shape              Param #   \n",
      "=================================================================\n",
      "input_1 (InputLayer)         (None, 28, 28, 1)         0         \n",
      "_________________________________________________________________\n",
      "conv2d_1 (Conv2D)            (None, 24, 24, 300)       7800      \n",
      "_________________________________________________________________\n",
      "dropout_1 (Dropout)          (None, 24, 24, 300)       0         \n",
      "_________________________________________________________________\n",
      "reshape_1 (Reshape)          (None, 576, 300)          0         \n",
      "_________________________________________________________________\n",
      "capsule_1 (Capsule)          (None, 10, 16)            48000     \n",
      "_________________________________________________________________\n",
      "lambda_1 (Lambda)            (None, 10)                0         \n",
      "=================================================================\n",
      "Total params: 55,800\n",
      "Trainable params: 55,800\n",
      "Non-trainable params: 0\n",
      "_________________________________________________________________\n"
     ]
    }
   ],
   "source": [
    "\"\"\"one-CONV-LAYERS-THICK\"\"\"\n",
    "input_image = Input(shape=(x_train.shape[1], x_train.shape[2], x_train.shape[3]))\n",
    "x_0 = Conv2D(filters= 300, kernel_size= 5, activation='relu', \n",
    "             padding= 'valid')(input_image)\n",
    "x_0= Dropout(0.1)(x_0)\n",
    "\n",
    "\n",
    "\"\"\"now we reshape it as (batch_size, input_num_capsule, input_dim_capsule)\n",
    "then connect a Capsule layer.\n",
    "\n",
    "the output of final model is the lengths of 10 Capsule, whose dim=16.\n",
    "\n",
    "the length of Capsule is the proba,\n",
    "so the problem becomes a 10 two-classification problem.\n",
    "\"\"\"\n",
    "\n",
    "x_0 = Reshape((-1, 300))(x_0)\n",
    "capsule_0 = Capsule(num_classes, 16, 3, True)(x_0)\n",
    "output_0 = Lambda(lambda z: K.sqrt(K.sum(K.square(z), 2)))(capsule_0)\n",
    "model_0 = Model(inputs= input_image, outputs= output_0)\n",
    "\n",
    "# we use a margin loss\n",
    "model_0.compile(loss =margin_loss, optimizer='adam', metrics=['accuracy'])\n",
    "model_0.summary()\n",
    "\n",
    "# we can compare the performance with or without data augmentation\n",
    "data_augmentation = False"
   ]
  },
  {
   "cell_type": "code",
   "execution_count": 9,
   "metadata": {},
   "outputs": [
    {
     "name": "stdout",
     "output_type": "stream",
     "text": [
      "_________________________________________________________________\n",
      "Layer (type)                 Output Shape              Param #   \n",
      "=================================================================\n",
      "input_2 (InputLayer)         (None, 28, 28, 1)         0         \n",
      "_________________________________________________________________\n",
      "conv2d_2 (Conv2D)            (None, 24, 24, 30)        780       \n",
      "_________________________________________________________________\n",
      "dropout_2 (Dropout)          (None, 24, 24, 30)        0         \n",
      "_________________________________________________________________\n",
      "conv2d_3 (Conv2D)            (None, 20, 20, 60)        45060     \n",
      "_________________________________________________________________\n",
      "dropout_3 (Dropout)          (None, 20, 20, 60)        0         \n",
      "_________________________________________________________________\n",
      "reshape_2 (Reshape)          (None, 400, 60)           0         \n",
      "_________________________________________________________________\n",
      "capsule_2 (Capsule)          (None, 10, 16)            9600      \n",
      "_________________________________________________________________\n",
      "lambda_2 (Lambda)            (None, 10)                0         \n",
      "=================================================================\n",
      "Total params: 55,440\n",
      "Trainable params: 55,440\n",
      "Non-trainable params: 0\n",
      "_________________________________________________________________\n"
     ]
    }
   ],
   "source": [
    "\"\"\"two-CONV-LAYERS-THICK\"\"\"\n",
    "input_image = Input(shape=(x_train.shape[1], x_train.shape[2], x_train.shape[3]))\n",
    "x_1 = Conv2D(filters= 30, kernel_size= 5, activation='relu', \n",
    "             padding= 'valid')(input_image)\n",
    "x_1= Dropout(0.1)(x_1)\n",
    "x_1 = Conv2D(filters= 60, kernel_size= 5, activation='relu',\n",
    "             strides= 1)(x_1)\n",
    "x_1 = Dropout(0.1)(x_1)\n",
    "\n",
    "\n",
    "\"\"\"now we reshape it as (batch_size, input_num_capsule, input_dim_capsule)\n",
    "then connect a Capsule layer.\n",
    "\n",
    "the output of final model is the lengths of 10 Capsule, whose dim=16.\n",
    "\n",
    "the length of Capsule is the proba,\n",
    "so the problem becomes a 10 two-classification problem.\n",
    "\"\"\"\n",
    "\n",
    "x_1 = Reshape((-1, 60))(x_1)\n",
    "capsule_1 = Capsule(num_classes, 16, 3, True)(x_1)\n",
    "output_1 = Lambda(lambda z: K.sqrt(K.sum(K.square(z), 2)))(capsule_1)\n",
    "model_1= Model(inputs= input_image, outputs= output_1)\n",
    "\n",
    "# we use a margin loss\n",
    "model_1.compile(loss =margin_loss, optimizer='adam', metrics=['accuracy'])\n",
    "model_1.summary()\n",
    "\n",
    "# we can compare the performance with or without data augmentation\n",
    "data_augmentation = False"
   ]
  },
  {
   "cell_type": "code",
   "execution_count": 10,
   "metadata": {},
   "outputs": [
    {
     "name": "stdout",
     "output_type": "stream",
     "text": [
      "_________________________________________________________________\n",
      "Layer (type)                 Output Shape              Param #   \n",
      "=================================================================\n",
      "input_3 (InputLayer)         (None, 28, 28, 1)         0         \n",
      "_________________________________________________________________\n",
      "conv2d_4 (Conv2D)            (None, 24, 24, 15)        390       \n",
      "_________________________________________________________________\n",
      "dropout_4 (Dropout)          (None, 24, 24, 15)        0         \n",
      "_________________________________________________________________\n",
      "conv2d_5 (Conv2D)            (None, 20, 20, 30)        11280     \n",
      "_________________________________________________________________\n",
      "dropout_5 (Dropout)          (None, 20, 20, 30)        0         \n",
      "_________________________________________________________________\n",
      "conv2d_6 (Conv2D)            (None, 16, 16, 45)        33795     \n",
      "_________________________________________________________________\n",
      "dropout_6 (Dropout)          (None, 16, 16, 45)        0         \n",
      "_________________________________________________________________\n",
      "reshape_3 (Reshape)          (None, 256, 45)           0         \n",
      "_________________________________________________________________\n",
      "capsule_3 (Capsule)          (None, 10, 16)            7200      \n",
      "_________________________________________________________________\n",
      "lambda_3 (Lambda)            (None, 10)                0         \n",
      "=================================================================\n",
      "Total params: 52,665\n",
      "Trainable params: 52,665\n",
      "Non-trainable params: 0\n",
      "_________________________________________________________________\n"
     ]
    }
   ],
   "source": [
    "\"\"\"three-CONV-LAYERS-THICK\"\"\"\n",
    "input_image = Input(shape=(x_train.shape[1], x_train.shape[2], x_train.shape[3]))\n",
    "x_2 = Conv2D(filters= 15, kernel_size= 5, activation='relu', \n",
    "             padding= 'valid')(input_image)\n",
    "x_2= Dropout(0.1)(x_2)\n",
    "x_2 = Conv2D(filters= 30, kernel_size= 5, activation='relu',\n",
    "             strides= 1)(x_2)\n",
    "x_2 = Dropout(0.1)(x_2)\n",
    "x_2 = Conv2D(filters= 45, kernel_size= 5, activation='relu',\n",
    "             strides= 1)(x_2)\n",
    "x_2 = Dropout(0.1)(x_2)\n",
    "\n",
    "\n",
    "\"\"\"now we reshape it as (batch_size, input_num_capsule, input_dim_capsule)\n",
    "then connect a Capsule layer.\n",
    "\n",
    "the output of final model is the lengths of 10 Capsule, whose dim=16.\n",
    "\n",
    "the length of Capsule is the proba,\n",
    "so the problem becomes a 10 two-classification problem.\n",
    "\"\"\"\n",
    "\n",
    "x_2 = Reshape((-1, 45))(x_2)\n",
    "capsule_2 = Capsule(num_classes, 16, 3, True)(x_2)\n",
    "output_2 = Lambda(lambda z: K.sqrt(K.sum(K.square(z), 2)))(capsule_2)\n",
    "model_2= Model(inputs= input_image, outputs= output_2)\n",
    "\n",
    "# we use a margin loss\n",
    "model_2.compile(loss =margin_loss, optimizer='adam', metrics=['accuracy'])\n",
    "model_2.summary()\n",
    "\n",
    "# we can compare the performance with or without data augmentation\n",
    "data_augmentation = False"
   ]
  },
  {
   "cell_type": "code",
   "execution_count": 11,
   "metadata": {},
   "outputs": [
    {
     "name": "stdout",
     "output_type": "stream",
     "text": [
      "_________________________________________________________________\n",
      "Layer (type)                 Output Shape              Param #   \n",
      "=================================================================\n",
      "input_4 (InputLayer)         (None, 28, 28, 1)         0         \n",
      "_________________________________________________________________\n",
      "conv2d_7 (Conv2D)            (None, 24, 24, 15)        390       \n",
      "_________________________________________________________________\n",
      "dropout_7 (Dropout)          (None, 24, 24, 15)        0         \n",
      "_________________________________________________________________\n",
      "conv2d_8 (Conv2D)            (None, 20, 20, 20)        7520      \n",
      "_________________________________________________________________\n",
      "dropout_8 (Dropout)          (None, 20, 20, 20)        0         \n",
      "_________________________________________________________________\n",
      "conv2d_9 (Conv2D)            (None, 16, 16, 30)        15030     \n",
      "_________________________________________________________________\n",
      "dropout_9 (Dropout)          (None, 16, 16, 30)        0         \n",
      "_________________________________________________________________\n",
      "conv2d_10 (Conv2D)           (None, 12, 12, 30)        22530     \n",
      "_________________________________________________________________\n",
      "dropout_10 (Dropout)         (None, 12, 12, 30)        0         \n",
      "_________________________________________________________________\n",
      "reshape_4 (Reshape)          (None, 144, 30)           0         \n",
      "_________________________________________________________________\n",
      "capsule_4 (Capsule)          (None, 10, 16)            4800      \n",
      "_________________________________________________________________\n",
      "lambda_4 (Lambda)            (None, 10)                0         \n",
      "=================================================================\n",
      "Total params: 50,270\n",
      "Trainable params: 50,270\n",
      "Non-trainable params: 0\n",
      "_________________________________________________________________\n"
     ]
    }
   ],
   "source": [
    "\"\"\"four-CONV-LAYERS-THICK\"\"\"\n",
    "input_image = Input(shape=(x_train.shape[1], x_train.shape[2], x_train.shape[3]))\n",
    "x_3 = Conv2D(filters= 15, kernel_size= 5, activation='relu', \n",
    "             padding= 'valid')(input_image)\n",
    "x_3= Dropout(0.1)(x_3)\n",
    "x_3 = Conv2D(filters= 20 ,kernel_size= 5, activation='relu',\n",
    "             strides= 1)(x_3)\n",
    "x_3 = Dropout(0.1)(x_3)\n",
    "x_3 = Conv2D(filters= 30, kernel_size= 5, activation='relu',\n",
    "             strides= 1)(x_3)\n",
    "x_3= Dropout(0.1)(x_3)\n",
    "x_3 = Conv2D(filters= 30,kernel_size= 5, activation='relu',\n",
    "             strides= 1)(x_3)\n",
    "x_3= Dropout(0.1)(x_3)\n",
    "\n",
    "\n",
    "\"\"\"now we reshape it as (batch_size, input_num_capsule, input_dim_capsule)\n",
    "then connect a Capsule layer.\n",
    "\n",
    "the output of final model is the lengths of 10 Capsule, whose dim=16.\n",
    "\n",
    "the length of Capsule is the proba,\n",
    "so the problem becomes a 10 two-classification problem.\n",
    "\"\"\"\n",
    "\n",
    "x_3 = Reshape((-1, 30))(x_3)\n",
    "capsule_3 = Capsule(num_classes, 16, 3, True)(x_3)\n",
    "output_3 = Lambda(lambda z: K.sqrt(K.sum(K.square(z), 2)))(capsule_3)\n",
    "model_3= Model(inputs= input_image, outputs= output_3)\n",
    "\n",
    "# we use a margin loss\n",
    "model_3.compile(loss =margin_loss, optimizer='adam', metrics=['accuracy'])\n",
    "model_3.summary()\n",
    "\n",
    "# we can compare the performance with or without data augmentation\n",
    "data_augmentation = False"
   ]
  },
  {
   "cell_type": "code",
   "execution_count": 42,
   "metadata": {},
   "outputs": [
    {
     "name": "stdout",
     "output_type": "stream",
     "text": [
      "_________________________________________________________________\n",
      "Layer (type)                 Output Shape              Param #   \n",
      "=================================================================\n",
      "input_8 (InputLayer)         (None, 28, 28, 1)         0         \n",
      "_________________________________________________________________\n",
      "conv2d_31 (Conv2D)           (None, 24, 24, 15)        390       \n",
      "_________________________________________________________________\n",
      "dropout_31 (Dropout)         (None, 24, 24, 15)        0         \n",
      "_________________________________________________________________\n",
      "conv2d_32 (Conv2D)           (None, 20, 20, 20)        7520      \n",
      "_________________________________________________________________\n",
      "dropout_32 (Dropout)         (None, 20, 20, 20)        0         \n",
      "_________________________________________________________________\n",
      "conv2d_33 (Conv2D)           (None, 8, 8, 20)          10020     \n",
      "_________________________________________________________________\n",
      "dropout_33 (Dropout)         (None, 8, 8, 20)          0         \n",
      "_________________________________________________________________\n",
      "conv2d_34 (Conv2D)           (None, 8, 8, 25)          12525     \n",
      "_________________________________________________________________\n",
      "dropout_34 (Dropout)         (None, 8, 8, 25)          0         \n",
      "_________________________________________________________________\n",
      "conv2d_35 (Conv2D)           (None, 4, 4, 28)          17528     \n",
      "_________________________________________________________________\n",
      "dropout_35 (Dropout)         (None, 4, 4, 28)          0         \n",
      "_________________________________________________________________\n",
      "reshape_8 (Reshape)          (None, 16, 28)            0         \n",
      "_________________________________________________________________\n",
      "capsule_8 (Capsule)          (None, 10, 16)            4480      \n",
      "_________________________________________________________________\n",
      "lambda_8 (Lambda)            (None, 10)                0         \n",
      "=================================================================\n",
      "Total params: 52,463\n",
      "Trainable params: 52,463\n",
      "Non-trainable params: 0\n",
      "_________________________________________________________________\n"
     ]
    }
   ],
   "source": [
    "\"\"\"five-CONV-LAYERS-THICK\"\"\"\n",
    "input_image = Input(shape=(x_train.shape[1], x_train.shape[2], x_train.shape[3]))\n",
    "x_4 = Conv2D(filters= 15, kernel_size= 5, activation='relu', \n",
    "             padding= 'valid')(input_image)\n",
    "x_4= Dropout(0.1)(x_4)\n",
    "x_4 = Conv2D(filters= 20 ,kernel_size= 5, activation='relu',\n",
    "             strides= 1)(x_4)\n",
    "x_4 = Dropout(0.1)(x_4)\n",
    "x_4 = Conv2D(filters= 20, kernel_size= 5, activation='relu',\n",
    "             strides= 2)(x_4)\n",
    "x_4= Dropout(0.1)(x_4)\n",
    "x_4 = Conv2D(filters= 25,kernel_size= 5, activation='relu',\n",
    "             padding= 'same')(x_4)\n",
    "x_4= Dropout(0.1)(x_4)\n",
    "x_4 = Conv2D(filters= 28,kernel_size= 5, activation='relu',\n",
    "             strides= 1)(x_4)\n",
    "x_4= Dropout(0.1)(x_4)\n",
    "\n",
    "\"\"\"now we reshape it as (batch_size, input_num_capsule, input_dim_capsule)\n",
    "then connect a Capsule layer.\n",
    "\n",
    "the output of final model is the lengths of 10 Capsule, whose dim=16.\n",
    "\n",
    "the length of Capsule is the proba,\n",
    "so the problem becomes a 10 two-classification problem.\n",
    "\"\"\"\n",
    "\n",
    "x_4 = Reshape((-1, 28))(x_4)\n",
    "capsule_4 = Capsule(num_classes, 16, 3, True)(x_4)\n",
    "output_4 = Lambda(lambda z: K.sqrt(K.sum(K.square(z), 2)))(capsule_4)\n",
    "model_4= Model(inputs= input_image, outputs= output_4)\n",
    "\n",
    "# we use a margin loss\n",
    "model_4.compile(loss =margin_loss, optimizer='adam', metrics=['accuracy'])\n",
    "model_4.summary()\n",
    "\n",
    "# we can compare the performance with or without data augmentation\n",
    "data_augmentation = False"
   ]
  },
  {
   "cell_type": "code",
   "execution_count": 43,
   "metadata": {},
   "outputs": [
    {
     "name": "stdout",
     "output_type": "stream",
     "text": [
      "_________________________________________________________________\n",
      "Layer (type)                 Output Shape              Param #   \n",
      "=================================================================\n",
      "input_9 (InputLayer)         (None, 28, 28, 1)         0         \n",
      "_________________________________________________________________\n",
      "conv2d_36 (Conv2D)           (None, 24, 24, 15)        390       \n",
      "_________________________________________________________________\n",
      "dropout_36 (Dropout)         (None, 24, 24, 15)        0         \n",
      "_________________________________________________________________\n",
      "conv2d_37 (Conv2D)           (None, 24, 24, 15)        5640      \n",
      "_________________________________________________________________\n",
      "dropout_37 (Dropout)         (None, 24, 24, 15)        0         \n",
      "_________________________________________________________________\n",
      "conv2d_38 (Conv2D)           (None, 10, 10, 18)        6768      \n",
      "_________________________________________________________________\n",
      "dropout_38 (Dropout)         (None, 10, 10, 18)        0         \n",
      "_________________________________________________________________\n",
      "conv2d_39 (Conv2D)           (None, 6, 6, 20)          9020      \n",
      "_________________________________________________________________\n",
      "dropout_39 (Dropout)         (None, 6, 6, 20)          0         \n",
      "_________________________________________________________________\n",
      "conv2d_40 (Conv2D)           (None, 6, 6, 25)          12525     \n",
      "_________________________________________________________________\n",
      "dropout_40 (Dropout)         (None, 6, 6, 25)          0         \n",
      "_________________________________________________________________\n",
      "conv2d_41 (Conv2D)           (None, 2, 2, 30)          18780     \n",
      "_________________________________________________________________\n",
      "dropout_41 (Dropout)         (None, 2, 2, 30)          0         \n",
      "_________________________________________________________________\n",
      "reshape_9 (Reshape)          (None, 4, 30)             0         \n",
      "_________________________________________________________________\n",
      "capsule_9 (Capsule)          (None, 10, 16)            4800      \n",
      "_________________________________________________________________\n",
      "lambda_9 (Lambda)            (None, 10)                0         \n",
      "=================================================================\n",
      "Total params: 57,923\n",
      "Trainable params: 57,923\n",
      "Non-trainable params: 0\n",
      "_________________________________________________________________\n"
     ]
    }
   ],
   "source": [
    "\"\"\"six-CONV-LAYERS-THICK\"\"\"\n",
    "input_image = Input(shape=(x_train.shape[1], x_train.shape[2], x_train.shape[3]))\n",
    "x_5 = Conv2D(filters= 15, kernel_size= 5, activation='relu', \n",
    "             padding= 'valid')(input_image)\n",
    "x_5= Dropout(0.1)(x_5)\n",
    "x_5 = Conv2D(filters= 15 ,kernel_size= 5, activation='relu',\n",
    "             padding= 'same')(x_5)\n",
    "x_5 = Dropout(0.1)(x_5)\n",
    "x_5 = Conv2D(filters= 18, kernel_size= 5, activation='relu',\n",
    "             strides= 2)(x_5)\n",
    "x_5= Dropout(0.1)(x_5)\n",
    "x_5 = Conv2D(filters= 20,kernel_size= 5, activation='relu',\n",
    "             strides= 1)(x_5)\n",
    "x_5= Dropout(0.1)(x_5)\n",
    "x_5 = Conv2D(filters= 25,kernel_size= 5, activation='relu',\n",
    "             padding= 'same')(x_5)\n",
    "x_5= Dropout(0.1)(x_5)\n",
    "x_5 = Conv2D(filters= 30,kernel_size= 5, activation='relu',\n",
    "             strides= 1)(x_5)\n",
    "x_5= Dropout(0.1)(x_5)\n",
    "\n",
    "\"\"\"now we reshape it as (batch_size, input_num_capsule, input_dim_capsule)\n",
    "then connect a Capsule layer.\n",
    "\n",
    "the output of final model is the lengths of 10 Capsule, whose dim=16.\n",
    "\n",
    "the length of Capsule is the proba,\n",
    "so the problem becomes a 10 two-classification problem.\n",
    "\"\"\"\n",
    "\n",
    "x_5 = Reshape((-1, 30))(x_5)\n",
    "capsule_5 = Capsule(num_classes, 16, 3, True)(x_5)\n",
    "output_5 = Lambda(lambda z: K.sqrt(K.sum(K.square(z), 2)))(capsule_5)\n",
    "model_5= Model(inputs= input_image, outputs= output_5)\n",
    "\n",
    "# we use a margin loss\n",
    "model_5.compile(loss =margin_loss, optimizer='adam', metrics=['accuracy'])\n",
    "model_5.summary()\n",
    "\n",
    "# we can compare the performance with or without data augmentation\n",
    "data_augmentation = False"
   ]
  },
  {
   "cell_type": "code",
   "execution_count": 44,
   "metadata": {},
   "outputs": [
    {
     "name": "stdout",
     "output_type": "stream",
     "text": [
      "_________________________________________________________________\n",
      "Layer (type)                 Output Shape              Param #   \n",
      "=================================================================\n",
      "input_10 (InputLayer)        (None, 28, 28, 1)         0         \n",
      "_________________________________________________________________\n",
      "conv2d_42 (Conv2D)           (None, 24, 24, 15)        390       \n",
      "_________________________________________________________________\n",
      "dropout_42 (Dropout)         (None, 24, 24, 15)        0         \n",
      "_________________________________________________________________\n",
      "conv2d_43 (Conv2D)           (None, 24, 24, 15)        5640      \n",
      "_________________________________________________________________\n",
      "dropout_43 (Dropout)         (None, 24, 24, 15)        0         \n",
      "_________________________________________________________________\n",
      "conv2d_44 (Conv2D)           (None, 10, 10, 15)        5640      \n",
      "_________________________________________________________________\n",
      "dropout_44 (Dropout)         (None, 10, 10, 15)        0         \n",
      "_________________________________________________________________\n",
      "conv2d_45 (Conv2D)           (None, 10, 10, 20)        7520      \n",
      "_________________________________________________________________\n",
      "dropout_45 (Dropout)         (None, 10, 10, 20)        0         \n",
      "_________________________________________________________________\n",
      "conv2d_46 (Conv2D)           (None, 10, 10, 20)        10020     \n",
      "_________________________________________________________________\n",
      "dropout_46 (Dropout)         (None, 10, 10, 20)        0         \n",
      "_________________________________________________________________\n",
      "conv2d_47 (Conv2D)           (None, 6, 6, 25)          12525     \n",
      "_________________________________________________________________\n",
      "dropout_47 (Dropout)         (None, 6, 6, 25)          0         \n",
      "_________________________________________________________________\n",
      "conv2d_48 (Conv2D)           (None, 2, 2, 25)          15650     \n",
      "_________________________________________________________________\n",
      "dropout_48 (Dropout)         (None, 2, 2, 25)          0         \n",
      "_________________________________________________________________\n",
      "reshape_10 (Reshape)         (None, 4, 25)             0         \n",
      "_________________________________________________________________\n",
      "capsule_10 (Capsule)         (None, 10, 16)            4000      \n",
      "_________________________________________________________________\n",
      "lambda_10 (Lambda)           (None, 10)                0         \n",
      "=================================================================\n",
      "Total params: 61,385\n",
      "Trainable params: 61,385\n",
      "Non-trainable params: 0\n",
      "_________________________________________________________________\n"
     ]
    }
   ],
   "source": [
    "\"\"\"seven-CONV-LAYERS-THICK\"\"\"\n",
    "input_image = Input(shape=(x_train.shape[1], x_train.shape[2], x_train.shape[3]))\n",
    "x_6 = Conv2D(filters= 15, kernel_size= 5, activation='relu', \n",
    "             padding= 'valid')(input_image)\n",
    "x_6= Dropout(0.1)(x_6)\n",
    "x_6 = Conv2D(filters= 15 ,kernel_size= 5, activation='relu',\n",
    "            padding= 'same')(x_6)\n",
    "x_6 = Dropout(0.1)(x_6)\n",
    "x_6 = Conv2D(filters= 15, kernel_size= 5, activation='relu',\n",
    "              strides= 2)(x_6)\n",
    "x_6= Dropout(0.1)(x_6)\n",
    "x_6 = Conv2D(filters= 20,kernel_size= 5, activation='relu',\n",
    "              padding= 'same')(x_6)\n",
    "x_6= Dropout(0.1)(x_6)\n",
    "x_6 = Conv2D(filters= 20,kernel_size= 5, activation='relu',\n",
    "             padding= 'same')(x_6)\n",
    "x_6= Dropout(0.1)(x_6)\n",
    "x_6 = Conv2D(filters= 25,kernel_size= 5, activation='relu',\n",
    "              strides= 1)(x_6)\n",
    "x_6= Dropout(0.1)(x_6)\n",
    "x_6 = Conv2D(filters= 25,kernel_size= 5, activation='relu',\n",
    "             strides= 1)(x_6)\n",
    "x_6= Dropout(0.1)(x_6)\n",
    "\n",
    "\"\"\"now we reshape it as (batch_size, input_num_capsule, input_dim_capsule)\n",
    "then connect a Capsule layer.\n",
    "\n",
    "the output of final model is the lengths of 10 Capsule, whose dim=16.\n",
    "\n",
    "the length of Capsule is the proba,\n",
    "so the problem becomes a 10 two-classification problem.\n",
    "\"\"\"\n",
    "\n",
    "x_6 = Reshape((-1, 25))(x_6)\n",
    "capsule_6 = Capsule(num_classes, 16, 3, True)(x_6)\n",
    "output_6 = Lambda(lambda z: K.sqrt(K.sum(K.square(z), 2)))(capsule_6)\n",
    "model_6= Model(inputs= input_image, outputs= output_6)\n",
    "\n",
    "# we use a margin loss\n",
    "model_6.compile(loss =margin_loss, optimizer='adam', metrics=['accuracy'])\n",
    "model_6.summary()\n",
    "\n",
    "# we can compare the performance with or without data augmentation\n",
    "data_augmentation = False"
   ]
  },
  {
   "cell_type": "code",
   "execution_count": 15,
   "metadata": {},
   "outputs": [
    {
     "name": "stdout",
     "output_type": "stream",
     "text": [
      "_________________________________________________________________\n",
      "Layer (type)                 Output Shape              Param #   \n",
      "=================================================================\n",
      "conv2d_29 (Conv2D)           (None, 28, 28, 5)         130       \n",
      "_________________________________________________________________\n",
      "max_pooling2d_1 (MaxPooling2 (None, 14, 14, 5)         0         \n",
      "_________________________________________________________________\n",
      "conv2d_30 (Conv2D)           (None, 10, 10, 18)        2268      \n",
      "_________________________________________________________________\n",
      "dropout_29 (Dropout)         (None, 10, 10, 18)        0         \n",
      "_________________________________________________________________\n",
      "max_pooling2d_2 (MaxPooling2 (None, 5, 5, 18)          0         \n",
      "_________________________________________________________________\n",
      "flatten_1 (Flatten)          (None, 450)               0         \n",
      "_________________________________________________________________\n",
      "dropout_30 (Dropout)         (None, 450)               0         \n",
      "_________________________________________________________________\n",
      "dense_1 (Dense)              (None, 256)               115456    \n",
      "_________________________________________________________________\n",
      "dense_2 (Dense)              (None, 10)                2570      \n",
      "=================================================================\n",
      "Total params: 120,424\n",
      "Trainable params: 120,424\n",
      "Non-trainable params: 0\n",
      "_________________________________________________________________\n",
      "None\n"
     ]
    }
   ],
   "source": [
    "\"\"\"CNN-3-CONV-LAYERS\"\"\"\n",
    "from keras.models import Sequential\n",
    "from keras.layers import Dense, Dropout, Activation, Flatten, Conv2D, MaxPooling2D, \\\n",
    "                         ZeroPadding2D\n",
    "\n",
    "model_7= Sequential()\n",
    "model_7.add(Conv2D(filters= 5, kernel_size= (5, 5), padding= 'same', \n",
    "                   input_shape=(x_train.shape[1], x_train.shape[2], x_train.shape[3]), \n",
    "                   activation='relu'))\n",
    "model_7.add(MaxPooling2D(pool_size=(2,2)))\n",
    "model_7.add(Conv2D(filters= 18, kernel_size= (5, 5), \n",
    "                    padding= 'valid', activation='relu'))\n",
    "model_7.add(Dropout(0.3))\n",
    "model_7.add(MaxPooling2D(pool_size=(2,2)))\n",
    "\n",
    "model_7.add(Flatten())\n",
    "model_7.add(Dropout(0.4))\n",
    "model_7.add(Dense(256, activation='relu'))\n",
    "model_7.add(Dense(num_classes, activation='softmax'))\n",
    "print(model_7.summary())"
   ]
  },
  {
   "cell_type": "code",
   "execution_count": 16,
   "metadata": {},
   "outputs": [
    {
     "name": "stdout",
     "output_type": "stream",
     "text": [
      "Not using data augmentation.\n",
      "WARNING:tensorflow:From C:\\Users\\ASUS\\Anaconda3\\envs\\tensorflow-gpu\\lib\\site-packages\\tensorflow\\python\\ops\\math_ops.py:3066: to_int32 (from tensorflow.python.ops.math_ops) is deprecated and will be removed in a future version.\n",
      "Instructions for updating:\n",
      "Use tf.cast instead.\n",
      "WARNING:tensorflow:From C:\\Users\\ASUS\\Anaconda3\\envs\\tensorflow-gpu\\lib\\site-packages\\tensorflow\\python\\ops\\math_grad.py:102: div (from tensorflow.python.ops.math_ops) is deprecated and will be removed in a future version.\n",
      "Instructions for updating:\n",
      "Deprecated in favor of operator or tf.math.divide.\n",
      "Train on 54546 samples, validate on 5454 samples\n",
      "Epoch 1/30\n",
      "54546/54546 [==============================] - 20s 362us/step - loss: 0.3403 - acc: 0.6499 - val_loss: 0.2128 - val_acc: 0.7627\n",
      "Epoch 2/30\n",
      "54546/54546 [==============================] - 18s 322us/step - loss: 0.2029 - acc: 0.7607 - val_loss: 0.1889 - val_acc: 0.7816\n",
      "Epoch 3/30\n",
      "54546/54546 [==============================] - 18s 326us/step - loss: 0.1843 - acc: 0.7821 - val_loss: 0.1829 - val_acc: 0.7941\n",
      "Epoch 4/30\n",
      "54546/54546 [==============================] - 18s 325us/step - loss: 0.1753 - acc: 0.7934 - val_loss: 0.1645 - val_acc: 0.8099\n",
      "Epoch 5/30\n",
      "54546/54546 [==============================] - 18s 326us/step - loss: 0.1687 - acc: 0.8015 - val_loss: 0.1665 - val_acc: 0.7968\n",
      "Epoch 6/30\n",
      "54546/54546 [==============================] - 17s 320us/step - loss: 0.1619 - acc: 0.8091 - val_loss: 0.1542 - val_acc: 0.8209\n",
      "Epoch 7/30\n",
      "54546/54546 [==============================] - 17s 320us/step - loss: 0.1580 - acc: 0.8141 - val_loss: 0.1536 - val_acc: 0.8183\n",
      "Epoch 8/30\n",
      "54546/54546 [==============================] - 17s 320us/step - loss: 0.1550 - acc: 0.8157 - val_loss: 0.1533 - val_acc: 0.8205\n",
      "Epoch 9/30\n",
      "54546/54546 [==============================] - 18s 322us/step - loss: 0.1520 - acc: 0.8208 - val_loss: 0.1567 - val_acc: 0.8190\n",
      "Epoch 10/30\n",
      "54546/54546 [==============================] - 17s 320us/step - loss: 0.1499 - acc: 0.8235 - val_loss: 0.1487 - val_acc: 0.8282\n",
      "Epoch 11/30\n",
      "54546/54546 [==============================] - 17s 320us/step - loss: 0.1477 - acc: 0.8260 - val_loss: 0.1429 - val_acc: 0.8306 1s - los\n",
      "Epoch 12/30\n",
      "54546/54546 [==============================] - 18s 324us/step - loss: 0.1465 - acc: 0.8275 - val_loss: 0.1474 - val_acc: 0.8289\n",
      "Epoch 13/30\n",
      "54546/54546 [==============================] - 18s 322us/step - loss: 0.1438 - acc: 0.8313 - val_loss: 0.1455 - val_acc: 0.8275\n",
      "Epoch 14/30\n",
      "54546/54546 [==============================] - 17s 321us/step - loss: 0.1421 - acc: 0.8339 - val_loss: 0.1362 - val_acc: 0.8344\n",
      "Epoch 15/30\n",
      "54546/54546 [==============================] - 18s 321us/step - loss: 0.1411 - acc: 0.8331 - val_loss: 0.1436 - val_acc: 0.8260\n",
      "Epoch 16/30\n",
      "54546/54546 [==============================] - 18s 322us/step - loss: 0.1403 - acc: 0.8351 - val_loss: 0.1412 - val_acc: 0.8286\n",
      "Epoch 17/30\n",
      "54546/54546 [==============================] - 18s 323us/step - loss: 0.1387 - acc: 0.8381 - val_loss: 0.1395 - val_acc: 0.8359\n",
      "Epoch 18/30\n",
      "54546/54546 [==============================] - 18s 322us/step - loss: 0.1372 - acc: 0.8381 - val_loss: 0.1336 - val_acc: 0.8425\n",
      "Epoch 19/30\n",
      "54546/54546 [==============================] - 18s 325us/step - loss: 0.1363 - acc: 0.8400 - val_loss: 0.1334 - val_acc: 0.8326\n",
      "Epoch 20/30\n",
      "54546/54546 [==============================] - 18s 332us/step - loss: 0.1348 - acc: 0.8418 - val_loss: 0.1320 - val_acc: 0.8394\n",
      "Epoch 21/30\n",
      "54546/54546 [==============================] - 18s 334us/step - loss: 0.1345 - acc: 0.8421 - val_loss: 0.1348 - val_acc: 0.8396\n",
      "Epoch 22/30\n",
      "54546/54546 [==============================] - 18s 328us/step - loss: 0.1339 - acc: 0.8423 - val_loss: 0.1288 - val_acc: 0.8434\n",
      "Epoch 23/30\n",
      "54546/54546 [==============================] - 18s 330us/step - loss: 0.1330 - acc: 0.8445 - val_loss: 0.1313 - val_acc: 0.8502\n",
      "Epoch 24/30\n",
      "54546/54546 [==============================] - 18s 323us/step - loss: 0.1330 - acc: 0.8436 - val_loss: 0.1314 - val_acc: 0.8524\n",
      "Epoch 25/30\n",
      "54546/54546 [==============================] - 18s 323us/step - loss: 0.1317 - acc: 0.8453 - val_loss: 0.1388 - val_acc: 0.8343\n",
      "Epoch 26/30\n",
      "54546/54546 [==============================] - 18s 323us/step - loss: 0.1311 - acc: 0.8465 - val_loss: 0.1259 - val_acc: 0.8495\n",
      "Epoch 27/30\n",
      "54546/54546 [==============================] - 18s 322us/step - loss: 0.1306 - acc: 0.8477 - val_loss: 0.1280 - val_acc: 0.8493\n",
      "Epoch 28/30\n",
      "54546/54546 [==============================] - 18s 323us/step - loss: 0.1291 - acc: 0.8500 - val_loss: 0.1266 - val_acc: 0.8458\n",
      "Epoch 29/30\n",
      "54546/54546 [==============================] - 18s 323us/step - loss: 0.1285 - acc: 0.8499 - val_loss: 0.1315 - val_acc: 0.8456\n",
      "Epoch 30/30\n",
      "54546/54546 [==============================] - 18s 323us/step - loss: 0.1278 - acc: 0.8504 - val_loss: 0.1322 - val_acc: 0.8445\n"
     ]
    }
   ],
   "source": [
    "\"\"\"one-CONV-LAYERS-THICK\"\"\"\n",
    "if not data_augmentation:\n",
    "    print('Not using data augmentation.')\n",
    "    train_history_0= model_0.fit(\n",
    "        x_train,\n",
    "        y_train,\n",
    "        batch_size=batch_size,\n",
    "        epochs=epochs,\n",
    "        validation_split= Vld_Splt,\n",
    "        shuffle=True)\n",
    "else:\n",
    "    print('Using real-time data augmentation.')\n",
    "    # This will do preprocessing and realtime data augmentation:\n",
    "    datagen = ImageDataGenerator(\n",
    "        featurewise_center=False,  # set input mean to 0 over the dataset\n",
    "        samplewise_center=False,  # set each sample mean to 0\n",
    "        featurewise_std_normalization=False,  # divide inputs by dataset std\n",
    "        samplewise_std_normalization=False,  # divide each input by its std\n",
    "        zca_whitening=False,  # apply ZCA whitening\n",
    "        zca_epsilon=1e-06,  # epsilon for ZCA whitening\n",
    "        rotation_range=0,  # randomly rotate images in 0 to 180 degrees\n",
    "        width_shift_range=0.1,  # randomly shift images horizontally\n",
    "        height_shift_range=0.1,  # randomly shift images vertically\n",
    "        shear_range=0.,  # set range for random shear\n",
    "        zoom_range=0.,  # set range for random zoom\n",
    "        channel_shift_range=0.,  # set range for random channel shifts\n",
    "        # set mode for filling points outside the input boundaries\n",
    "        fill_mode='nearest',\n",
    "        cval=0.,  # value used for fill_mode = \"constant\"\n",
    "        horizontal_flip=True,  # randomly flip images\n",
    "        vertical_flip=False,  # randomly flip images\n",
    "        # set rescaling factor (applied before any other transformation)\n",
    "        rescale=None,\n",
    "        # set function that will be applied on each input\n",
    "        preprocessing_function=None,\n",
    "        # image data format, either \"channels_first\" or \"channels_last\"\n",
    "        data_format=None,\n",
    "        # fraction of images reserved for validation (strictly between 0 and 1)\n",
    "        validation_split=0.0)\n",
    "\n",
    "    # Compute quantities required for feature-wise normalization\n",
    "    # (std, mean, and principal components if ZCA whitening is applied).\n",
    "    datagen.fit(x_train)\n",
    "\n",
    "    # Fit the model on the batches generated by datagen.flow().\n",
    "    train_history_0= model_0.fit_generator(\n",
    "        datagen.flow(x_train, y_train, batch_size=batch_size),\n",
    "        epochs= epochs,\n",
    "        validation_split= Vld_Splt,\n",
    "        steps_per_epoch= int(x_train.shape[0]/ batch_size),\n",
    "        workers=4)"
   ]
  },
  {
   "cell_type": "code",
   "execution_count": 17,
   "metadata": {},
   "outputs": [
    {
     "name": "stdout",
     "output_type": "stream",
     "text": [
      "Not using data augmentation.\n",
      "Train on 54546 samples, validate on 5454 samples\n",
      "Epoch 1/30\n",
      "54546/54546 [==============================] - 10s 181us/step - loss: 0.3136 - acc: 0.6495 - val_loss: 0.1790 - val_acc: 0.7697\n",
      "Epoch 2/30\n",
      "54546/54546 [==============================] - 9s 169us/step - loss: 0.1683 - acc: 0.7776 - val_loss: 0.1491 - val_acc: 0.8022\n",
      "Epoch 3/30\n",
      "54546/54546 [==============================] - 9s 170us/step - loss: 0.1482 - acc: 0.8045 - val_loss: 0.1343 - val_acc: 0.8247\n",
      "Epoch 4/30\n",
      "54546/54546 [==============================] - 9s 170us/step - loss: 0.1353 - acc: 0.8251 - val_loss: 0.1262 - val_acc: 0.8383\n",
      "Epoch 5/30\n",
      "54546/54546 [==============================] - 9s 171us/step - loss: 0.1263 - acc: 0.8380 - val_loss: 0.1178 - val_acc: 0.8458\n",
      "Epoch 6/30\n",
      "54546/54546 [==============================] - 9s 170us/step - loss: 0.1207 - acc: 0.8452 - val_loss: 0.1127 - val_acc: 0.8531\n",
      "Epoch 7/30\n",
      "54546/54546 [==============================] - 10s 174us/step - loss: 0.1158 - acc: 0.8530 - val_loss: 0.1077 - val_acc: 0.8594\n",
      "Epoch 8/30\n",
      "54546/54546 [==============================] - 10s 177us/step - loss: 0.1114 - acc: 0.8579 - val_loss: 0.1115 - val_acc: 0.8599\n",
      "Epoch 9/30\n",
      "54546/54546 [==============================] - 9s 171us/step - loss: 0.1094 - acc: 0.8624 - val_loss: 0.1058 - val_acc: 0.8649\n",
      "Epoch 10/30\n",
      "54546/54546 [==============================] - 9s 170us/step - loss: 0.1068 - acc: 0.8643 - val_loss: 0.1042 - val_acc: 0.8649\n",
      "Epoch 11/30\n",
      "54546/54546 [==============================] - 9s 172us/step - loss: 0.1043 - acc: 0.8682 - val_loss: 0.0998 - val_acc: 0.8707\n",
      "Epoch 12/30\n",
      "54546/54546 [==============================] - 9s 173us/step - loss: 0.1020 - acc: 0.8722 - val_loss: 0.0992 - val_acc: 0.8728\n",
      "Epoch 13/30\n",
      "54546/54546 [==============================] - 10s 175us/step - loss: 0.1001 - acc: 0.8735 - val_loss: 0.0980 - val_acc: 0.8729\n",
      "Epoch 14/30\n",
      "54546/54546 [==============================] - 9s 171us/step - loss: 0.0984 - acc: 0.8767 - val_loss: 0.0960 - val_acc: 0.8808\n",
      "Epoch 15/30\n",
      "54546/54546 [==============================] - 9s 172us/step - loss: 0.0976 - acc: 0.8779 - val_loss: 0.0973 - val_acc: 0.8777\n",
      "Epoch 16/30\n",
      "54546/54546 [==============================] - 9s 172us/step - loss: 0.0949 - acc: 0.8828 - val_loss: 0.0927 - val_acc: 0.8795\n",
      "Epoch 17/30\n",
      "54546/54546 [==============================] - 9s 170us/step - loss: 0.0940 - acc: 0.8835 - val_loss: 0.0948 - val_acc: 0.8854\n",
      "Epoch 18/30\n",
      "54546/54546 [==============================] - 9s 169us/step - loss: 0.0920 - acc: 0.8876 - val_loss: 0.0948 - val_acc: 0.8816\n",
      "Epoch 19/30\n",
      "54546/54546 [==============================] - 9s 170us/step - loss: 0.0901 - acc: 0.8894 - val_loss: 0.0913 - val_acc: 0.8849\n",
      "Epoch 20/30\n",
      "54546/54546 [==============================] - 9s 169us/step - loss: 0.0896 - acc: 0.8913 - val_loss: 0.0916 - val_acc: 0.8852\n",
      "Epoch 21/30\n",
      "54546/54546 [==============================] - 9s 169us/step - loss: 0.0887 - acc: 0.8915 - val_loss: 0.0895 - val_acc: 0.8878\n",
      "Epoch 22/30\n",
      "54546/54546 [==============================] - 9s 169us/step - loss: 0.0867 - acc: 0.8960 - val_loss: 0.0886 - val_acc: 0.8916\n",
      "Epoch 23/30\n",
      "54546/54546 [==============================] - 9s 169us/step - loss: 0.0861 - acc: 0.8967 - val_loss: 0.0865 - val_acc: 0.8922\n",
      "Epoch 24/30\n",
      "54546/54546 [==============================] - 9s 169us/step - loss: 0.0852 - acc: 0.8975 - val_loss: 0.0889 - val_acc: 0.8902\n",
      "Epoch 25/30\n",
      "54546/54546 [==============================] - 9s 170us/step - loss: 0.0833 - acc: 0.9010 - val_loss: 0.0847 - val_acc: 0.8926\n",
      "Epoch 26/30\n",
      "54546/54546 [==============================] - 9s 172us/step - loss: 0.0831 - acc: 0.9006 - val_loss: 0.0857 - val_acc: 0.8973\n",
      "Epoch 27/30\n",
      "54546/54546 [==============================] - 10s 177us/step - loss: 0.0826 - acc: 0.9010 - val_loss: 0.0911 - val_acc: 0.8874\n",
      "Epoch 28/30\n",
      "54546/54546 [==============================] - 9s 173us/step - loss: 0.0816 - acc: 0.9024 - val_loss: 0.0831 - val_acc: 0.8964\n",
      "Epoch 29/30\n",
      "54546/54546 [==============================] - 9s 174us/step - loss: 0.0808 - acc: 0.9039 - val_loss: 0.0841 - val_acc: 0.8938\n",
      "Epoch 30/30\n",
      "54546/54546 [==============================] - 10s 177us/step - loss: 0.0796 - acc: 0.9062 - val_loss: 0.0820 - val_acc: 0.8984\n"
     ]
    }
   ],
   "source": [
    "\"\"\"two-CONV-LAYERS-THICK\"\"\"\n",
    "if not data_augmentation:\n",
    "    print('Not using data augmentation.')\n",
    "    train_history_1= model_1.fit(\n",
    "        x_train,\n",
    "        y_train,\n",
    "        batch_size=batch_size,\n",
    "        epochs=epochs,\n",
    "        validation_split= Vld_Splt,\n",
    "        shuffle=True)\n",
    "else:\n",
    "    print('Using real-time data augmentation.')\n",
    "    # This will do preprocessing and realtime data augmentation:\n",
    "    datagen = ImageDataGenerator(\n",
    "        featurewise_center=False,  # set input mean to 0 over the dataset\n",
    "        samplewise_center=False,  # set each sample mean to 0\n",
    "        featurewise_std_normalization=False,  # divide inputs by dataset std\n",
    "        samplewise_std_normalization=False,  # divide each input by its std\n",
    "        zca_whitening=False,  # apply ZCA whitening\n",
    "        zca_epsilon=1e-06,  # epsilon for ZCA whitening\n",
    "        rotation_range=0,  # randomly rotate images in 0 to 180 degrees\n",
    "        width_shift_range=0.1,  # randomly shift images horizontally\n",
    "        height_shift_range=0.1,  # randomly shift images vertically\n",
    "        shear_range=0.,  # set range for random shear\n",
    "        zoom_range=0.,  # set range for random zoom\n",
    "        channel_shift_range=0.,  # set range for random channel shifts\n",
    "        # set mode for filling points outside the input boundaries\n",
    "        fill_mode='nearest',\n",
    "        cval=0.,  # value used for fill_mode = \"constant\"\n",
    "        horizontal_flip=True,  # randomly flip images\n",
    "        vertical_flip=False,  # randomly flip images\n",
    "        # set rescaling factor (applied before any other transformation)\n",
    "        rescale=None,\n",
    "        # set function that will be applied on each input\n",
    "        preprocessing_function=None,\n",
    "        # image data format, either \"channels_first\" or \"channels_last\"\n",
    "        data_format=None,\n",
    "        # fraction of images reserved for validation (strictly between 0 and 1)\n",
    "        validation_split=0.0)\n",
    "\n",
    "    # Compute quantities required for feature-wise normalization\n",
    "    # (std, mean, and principal components if ZCA whitening is applied).\n",
    "    datagen.fit(x_train)\n",
    "\n",
    "    # Fit the model on the batches generated by datagen.flow().\n",
    "    train_history_1= model_1.fit_generator(\n",
    "        datagen.flow(x_train, y_train, batch_size=batch_size),\n",
    "        epochs= epochs,\n",
    "        validation_split= Vld_Splt,\n",
    "        steps_per_epoch= int(x_train.shape[0]/ batch_size),\n",
    "        workers=4)"
   ]
  },
  {
   "cell_type": "code",
   "execution_count": 18,
   "metadata": {},
   "outputs": [
    {
     "name": "stdout",
     "output_type": "stream",
     "text": [
      "Not using data augmentation.\n",
      "Train on 54546 samples, validate on 5454 samples\n",
      "Epoch 1/30\n",
      "54546/54546 [==============================] - 8s 154us/step - loss: 0.3223 - acc: 0.5960 - val_loss: 0.1684 - val_acc: 0.7719\n",
      "Epoch 2/30\n",
      "54546/54546 [==============================] - 8s 138us/step - loss: 0.1583 - acc: 0.7826 - val_loss: 0.1415 - val_acc: 0.7972\n",
      "Epoch 3/30\n",
      "54546/54546 [==============================] - 8s 138us/step - loss: 0.1360 - acc: 0.8137 - val_loss: 0.1213 - val_acc: 0.8311\n",
      "Epoch 4/30\n",
      "54546/54546 [==============================] - 7s 137us/step - loss: 0.1221 - acc: 0.8355 - val_loss: 0.1104 - val_acc: 0.8480\n",
      "Epoch 5/30\n",
      "54546/54546 [==============================] - 7s 135us/step - loss: 0.1133 - acc: 0.8494 - val_loss: 0.1041 - val_acc: 0.8568\n",
      "Epoch 6/30\n",
      "54546/54546 [==============================] - 7s 135us/step - loss: 0.1081 - acc: 0.8563 - val_loss: 0.0977 - val_acc: 0.8663\n",
      "Epoch 7/30\n",
      "54546/54546 [==============================] - 7s 135us/step - loss: 0.1027 - acc: 0.8647 - val_loss: 0.0954 - val_acc: 0.8707\n",
      "Epoch 8/30\n",
      "54546/54546 [==============================] - 7s 137us/step - loss: 0.0989 - acc: 0.8700 - val_loss: 0.0941 - val_acc: 0.8762\n",
      "Epoch 9/30\n",
      "54546/54546 [==============================] - 8s 143us/step - loss: 0.0961 - acc: 0.8719 - val_loss: 0.0915 - val_acc: 0.8772\n",
      "Epoch 10/30\n",
      "54546/54546 [==============================] - 8s 139us/step - loss: 0.0928 - acc: 0.8784 - val_loss: 0.0905 - val_acc: 0.8803\n",
      "Epoch 11/30\n",
      "54546/54546 [==============================] - 7s 137us/step - loss: 0.0911 - acc: 0.8813 - val_loss: 0.0865 - val_acc: 0.8841\n",
      "Epoch 12/30\n",
      "54546/54546 [==============================] - 8s 146us/step - loss: 0.0888 - acc: 0.8857 - val_loss: 0.0944 - val_acc: 0.8643\n",
      "Epoch 13/30\n",
      "54546/54546 [==============================] - 7s 136us/step - loss: 0.0864 - acc: 0.8880 - val_loss: 0.0827 - val_acc: 0.8896\n",
      "Epoch 14/30\n",
      "54546/54546 [==============================] - 8s 139us/step - loss: 0.0849 - acc: 0.8898 - val_loss: 0.0823 - val_acc: 0.8937\n",
      "Epoch 15/30\n",
      "54546/54546 [==============================] - 7s 136us/step - loss: 0.0832 - acc: 0.8942 - val_loss: 0.0845 - val_acc: 0.8869\n",
      "Epoch 16/30\n",
      "54546/54546 [==============================] - 8s 139us/step - loss: 0.0813 - acc: 0.8949 - val_loss: 0.0806 - val_acc: 0.8904\n",
      "Epoch 17/30\n",
      "54546/54546 [==============================] - 8s 138us/step - loss: 0.0790 - acc: 0.8992 - val_loss: 0.0794 - val_acc: 0.8924\n",
      "Epoch 18/30\n",
      "54546/54546 [==============================] - 7s 135us/step - loss: 0.0790 - acc: 0.8997 - val_loss: 0.0790 - val_acc: 0.8982\n",
      "Epoch 19/30\n",
      "54546/54546 [==============================] - 7s 136us/step - loss: 0.0780 - acc: 0.9010 - val_loss: 0.0754 - val_acc: 0.9047\n",
      "Epoch 20/30\n",
      "54546/54546 [==============================] - 7s 134us/step - loss: 0.0757 - acc: 0.9044 - val_loss: 0.0762 - val_acc: 0.8992\n",
      "Epoch 21/30\n",
      "54546/54546 [==============================] - 7s 134us/step - loss: 0.0745 - acc: 0.9063 - val_loss: 0.0752 - val_acc: 0.9050\n",
      "Epoch 22/30\n",
      "54546/54546 [==============================] - 7s 135us/step - loss: 0.0731 - acc: 0.9083 - val_loss: 0.0767 - val_acc: 0.8999\n",
      "Epoch 23/30\n",
      "54546/54546 [==============================] - 8s 142us/step - loss: 0.0719 - acc: 0.9102 - val_loss: 0.0749 - val_acc: 0.8993\n",
      "Epoch 24/30\n",
      "54546/54546 [==============================] - 8s 153us/step - loss: 0.0710 - acc: 0.9107 - val_loss: 0.0715 - val_acc: 0.9050\n",
      "Epoch 25/30\n",
      "54546/54546 [==============================] - 8s 139us/step - loss: 0.0703 - acc: 0.9118 - val_loss: 0.0729 - val_acc: 0.9052\n",
      "Epoch 26/30\n",
      "54546/54546 [==============================] - 8s 140us/step - loss: 0.0698 - acc: 0.9153 - val_loss: 0.0746 - val_acc: 0.9023\n",
      "Epoch 27/30\n",
      "54546/54546 [==============================] - 14s 249us/step - loss: 0.0699 - acc: 0.9131 - val_loss: 0.0724 - val_acc: 0.9063\n",
      "Epoch 28/30\n",
      "54546/54546 [==============================] - 7s 135us/step - loss: 0.0690 - acc: 0.9143 - val_loss: 0.0714 - val_acc: 0.9045\n",
      "Epoch 29/30\n",
      "54546/54546 [==============================] - 8s 139us/step - loss: 0.0676 - acc: 0.9154 - val_loss: 0.0717 - val_acc: 0.9063\n",
      "Epoch 30/30\n",
      "54546/54546 [==============================] - 8s 150us/step - loss: 0.0669 - acc: 0.9177 - val_loss: 0.0727 - val_acc: 0.9021\n"
     ]
    }
   ],
   "source": [
    "\"\"\"three-CONV-LAYERS-THICK\"\"\"\n",
    "if not data_augmentation:\n",
    "    print('Not using data augmentation.')\n",
    "    train_history_2= model_2.fit(\n",
    "        x_train,\n",
    "        y_train,\n",
    "        batch_size=batch_size,\n",
    "        epochs=epochs,\n",
    "        validation_split= Vld_Splt,\n",
    "        shuffle=True)\n",
    "else:\n",
    "    print('Using real-time data augmentation.')\n",
    "    # This will do preprocessing and realtime data augmentation:\n",
    "    datagen = ImageDataGenerator(\n",
    "        featurewise_center=False,  # set input mean to 0 over the dataset\n",
    "        samplewise_center=False,  # set each sample mean to 0\n",
    "        featurewise_std_normalization=False,  # divide inputs by dataset std\n",
    "        samplewise_std_normalization=False,  # divide each input by its std\n",
    "        zca_whitening=False,  # apply ZCA whitening\n",
    "        zca_epsilon=1e-06,  # epsilon for ZCA whitening\n",
    "        rotation_range=0,  # randomly rotate images in 0 to 180 degrees\n",
    "        width_shift_range=0.1,  # randomly shift images horizontally\n",
    "        height_shift_range=0.1,  # randomly shift images vertically\n",
    "        shear_range=0.,  # set range for random shear\n",
    "        zoom_range=0.,  # set range for random zoom\n",
    "        channel_shift_range=0.,  # set range for random channel shifts\n",
    "        # set mode for filling points outside the input boundaries\n",
    "        fill_mode='nearest',\n",
    "        cval=0.,  # value used for fill_mode = \"constant\"\n",
    "        horizontal_flip=True,  # randomly flip images\n",
    "        vertical_flip=False,  # randomly flip images\n",
    "        # set rescaling factor (applied before any other transformation)\n",
    "        rescale=None,\n",
    "        # set function that will be applied on each input\n",
    "        preprocessing_function=None,\n",
    "        # image data format, either \"channels_first\" or \"channels_last\"\n",
    "        data_format=None,\n",
    "        # fraction of images reserved for validation (strictly between 0 and 1)\n",
    "        validation_split=0.0)\n",
    "\n",
    "    # Compute quantities required for feature-wise normalization\n",
    "    # (std, mean, and principal components if ZCA whitening is applied).\n",
    "    datagen.fit(x_train)\n",
    "\n",
    "    # Fit the model on the batches generated by datagen.flow().\n",
    "    train_history_2= model_2.fit_generator(\n",
    "        datagen.flow(x_train, y_train, batch_size=batch_size),\n",
    "        epochs= epochs,\n",
    "        validation_split= Vld_Splt,\n",
    "        steps_per_epoch= int(x_train.shape[0]/ batch_size),\n",
    "        workers=4)"
   ]
  },
  {
   "cell_type": "code",
   "execution_count": 19,
   "metadata": {},
   "outputs": [
    {
     "name": "stdout",
     "output_type": "stream",
     "text": [
      "Not using data augmentation.\n",
      "Train on 54546 samples, validate on 5454 samples\n",
      "Epoch 1/30\n",
      "54546/54546 [==============================] - 14s 264us/step - loss: 0.2505 - acc: 0.6685 - val_loss: 0.1456 - val_acc: 0.7928\n",
      "Epoch 2/30\n",
      "54546/54546 [==============================] - 13s 247us/step - loss: 0.1399 - acc: 0.8018 - val_loss: 0.1246 - val_acc: 0.8220\n",
      "Epoch 3/30\n",
      "54546/54546 [==============================] - 6s 114us/step - loss: 0.1181 - acc: 0.8372 - val_loss: 0.1089 - val_acc: 0.8462\n",
      "Epoch 4/30\n",
      "54546/54546 [==============================] - 6s 112us/step - loss: 0.1056 - acc: 0.8569 - val_loss: 0.0953 - val_acc: 0.8691\n",
      "Epoch 5/30\n",
      "54546/54546 [==============================] - 6s 110us/step - loss: 0.0968 - acc: 0.8694 - val_loss: 0.0895 - val_acc: 0.8726\n",
      "Epoch 6/30\n",
      "54546/54546 [==============================] - 6s 112us/step - loss: 0.0924 - acc: 0.8764 - val_loss: 0.0885 - val_acc: 0.8792\n",
      "Epoch 7/30\n",
      "54546/54546 [==============================] - 6s 110us/step - loss: 0.0874 - acc: 0.8846 - val_loss: 0.0825 - val_acc: 0.8896\n",
      "Epoch 8/30\n",
      "54546/54546 [==============================] - 6s 111us/step - loss: 0.0845 - acc: 0.8888 - val_loss: 0.0808 - val_acc: 0.8902\n",
      "Epoch 9/30\n",
      "54546/54546 [==============================] - 6s 110us/step - loss: 0.0807 - acc: 0.8952 - val_loss: 0.0791 - val_acc: 0.8959\n",
      "Epoch 10/30\n",
      "54546/54546 [==============================] - 6s 111us/step - loss: 0.0796 - acc: 0.8961 - val_loss: 0.0806 - val_acc: 0.8935\n",
      "Epoch 11/30\n",
      "54546/54546 [==============================] - 6s 111us/step - loss: 0.0770 - acc: 0.8991 - val_loss: 0.0759 - val_acc: 0.8993\n",
      "Epoch 12/30\n",
      "54546/54546 [==============================] - 6s 112us/step - loss: 0.0764 - acc: 0.9013 - val_loss: 0.0775 - val_acc: 0.8995\n",
      "Epoch 13/30\n",
      "54546/54546 [==============================] - 6s 113us/step - loss: 0.0741 - acc: 0.9044 - val_loss: 0.0722 - val_acc: 0.9067\n",
      "Epoch 14/30\n",
      "54546/54546 [==============================] - 6s 113us/step - loss: 0.0731 - acc: 0.9056 - val_loss: 0.0736 - val_acc: 0.9023\n",
      "Epoch 15/30\n",
      "54546/54546 [==============================] - 6s 115us/step - loss: 0.0718 - acc: 0.9070 - val_loss: 0.0747 - val_acc: 0.8993\n",
      "Epoch 16/30\n",
      "54546/54546 [==============================] - 6s 115us/step - loss: 0.0704 - acc: 0.9095 - val_loss: 0.0727 - val_acc: 0.9045\n",
      "Epoch 17/30\n",
      "54546/54546 [==============================] - 6s 112us/step - loss: 0.0692 - acc: 0.9114 - val_loss: 0.0703 - val_acc: 0.9047\n",
      "Epoch 18/30\n",
      "54546/54546 [==============================] - 6s 113us/step - loss: 0.0680 - acc: 0.9124 - val_loss: 0.0725 - val_acc: 0.9050\n",
      "Epoch 19/30\n",
      "54546/54546 [==============================] - 6s 111us/step - loss: 0.0669 - acc: 0.9143 - val_loss: 0.0682 - val_acc: 0.9089\n",
      "Epoch 20/30\n",
      "54546/54546 [==============================] - 6s 114us/step - loss: 0.0658 - acc: 0.9158 - val_loss: 0.0671 - val_acc: 0.9103\n",
      "Epoch 21/30\n",
      "54546/54546 [==============================] - 6s 111us/step - loss: 0.0650 - acc: 0.9172 - val_loss: 0.0678 - val_acc: 0.9081\n",
      "Epoch 22/30\n",
      "54546/54546 [==============================] - 6s 111us/step - loss: 0.0648 - acc: 0.9168 - val_loss: 0.0670 - val_acc: 0.9081\n",
      "Epoch 23/30\n",
      "54546/54546 [==============================] - 6s 110us/step - loss: 0.0634 - acc: 0.9195 - val_loss: 0.0656 - val_acc: 0.9125\n",
      "Epoch 24/30\n",
      "54546/54546 [==============================] - 6s 110us/step - loss: 0.0629 - acc: 0.9203 - val_loss: 0.0677 - val_acc: 0.9065\n",
      "Epoch 25/30\n",
      "54546/54546 [==============================] - 6s 112us/step - loss: 0.0621 - acc: 0.9219 - val_loss: 0.0666 - val_acc: 0.9113\n",
      "Epoch 26/30\n",
      "54546/54546 [==============================] - 6s 111us/step - loss: 0.0614 - acc: 0.9231 - val_loss: 0.0667 - val_acc: 0.9096\n",
      "Epoch 27/30\n",
      "54546/54546 [==============================] - 6s 110us/step - loss: 0.0610 - acc: 0.9228 - val_loss: 0.0667 - val_acc: 0.9098\n",
      "Epoch 28/30\n",
      "54546/54546 [==============================] - 6s 110us/step - loss: 0.0600 - acc: 0.9239 - val_loss: 0.0669 - val_acc: 0.9118\n",
      "Epoch 29/30\n",
      "54546/54546 [==============================] - 6s 113us/step - loss: 0.0591 - acc: 0.9260 - val_loss: 0.0691 - val_acc: 0.9059: 1s - loss\n",
      "Epoch 30/30\n",
      "54546/54546 [==============================] - 7s 120us/step - loss: 0.0593 - acc: 0.9255 - val_loss: 0.0670 - val_acc: 0.9114\n"
     ]
    }
   ],
   "source": [
    "\"\"\"four-CONV-LAYERS-THICK\"\"\"\n",
    "if not data_augmentation:\n",
    "    print('Not using data augmentation.')\n",
    "    train_history_3= model_3.fit(\n",
    "        x_train,\n",
    "        y_train,\n",
    "        batch_size=batch_size,\n",
    "        epochs=epochs,\n",
    "        validation_split= Vld_Splt,\n",
    "        shuffle=True)\n",
    "else:\n",
    "    print('Using real-time data augmentation.')\n",
    "    # This will do preprocessing and realtime data augmentation:\n",
    "    datagen = ImageDataGenerator(\n",
    "        featurewise_center=False,  # set input mean to 0 over the dataset\n",
    "        samplewise_center=False,  # set each sample mean to 0\n",
    "        featurewise_std_normalization=False,  # divide inputs by dataset std\n",
    "        samplewise_std_normalization=False,  # divide each input by its std\n",
    "        zca_whitening=False,  # apply ZCA whitening\n",
    "        zca_epsilon=1e-06,  # epsilon for ZCA whitening\n",
    "        rotation_range=0,  # randomly rotate images in 0 to 180 degrees\n",
    "        width_shift_range=0.1,  # randomly shift images horizontally\n",
    "        height_shift_range=0.1,  # randomly shift images vertically\n",
    "        shear_range=0.,  # set range for random shear\n",
    "        zoom_range=0.,  # set range for random zoom\n",
    "        channel_shift_range=0.,  # set range for random channel shifts\n",
    "        # set mode for filling points outside the input boundaries\n",
    "        fill_mode='nearest',\n",
    "        cval=0.,  # value used for fill_mode = \"constant\"\n",
    "        horizontal_flip=True,  # randomly flip images\n",
    "        vertical_flip=False,  # randomly flip images\n",
    "        # set rescaling factor (applied before any other transformation)\n",
    "        rescale=None,\n",
    "        # set function that will be applied on each input\n",
    "        preprocessing_function=None,\n",
    "        # image data format, either \"channels_first\" or \"channels_last\"\n",
    "        data_format=None,\n",
    "        # fraction of images reserved for validation (strictly between 0 and 1)\n",
    "        validation_split=0.0)\n",
    "\n",
    "    # Compute quantities required for feature-wise normalization\n",
    "    # (std, mean, and principal components if ZCA whitening is applied).\n",
    "    datagen.fit(x_train)\n",
    "\n",
    "    # Fit the model on the batches generated by datagen.flow().\n",
    "    train_history_3= model_3.fit_generator(\n",
    "        datagen.flow(x_train, y_train, batch_size=batch_size),\n",
    "        epochs= epochs,\n",
    "        validation_split= Vld_Splt,\n",
    "        steps_per_epoch= int(x_train.shape[0]/ batch_size),\n",
    "        workers=4)"
   ]
  },
  {
   "cell_type": "code",
   "execution_count": 45,
   "metadata": {},
   "outputs": [
    {
     "name": "stdout",
     "output_type": "stream",
     "text": [
      "Not using data augmentation.\n",
      "Train on 54546 samples, validate on 5454 samples\n",
      "Epoch 1/30\n",
      "54546/54546 [==============================] - 6s 107us/step - loss: 0.2366 - acc: 0.6737 - val_loss: 0.1440 - val_acc: 0.7855\n",
      "Epoch 2/30\n",
      "54546/54546 [==============================] - 4s 76us/step - loss: 0.1346 - acc: 0.8066 - val_loss: 0.1130 - val_acc: 0.8469\n",
      "Epoch 3/30\n",
      "54546/54546 [==============================] - 4s 78us/step - loss: 0.1110 - acc: 0.8446 - val_loss: 0.0953 - val_acc: 0.8632\n",
      "Epoch 4/30\n",
      "54546/54546 [==============================] - 5s 86us/step - loss: 0.0998 - acc: 0.8595 - val_loss: 0.0898 - val_acc: 0.8711\n",
      "Epoch 5/30\n",
      "54546/54546 [==============================] - 4s 73us/step - loss: 0.0913 - acc: 0.8714 - val_loss: 0.0842 - val_acc: 0.8750\n",
      "Epoch 6/30\n",
      "54546/54546 [==============================] - 4s 73us/step - loss: 0.0858 - acc: 0.8797 - val_loss: 0.0783 - val_acc: 0.8843\n",
      "Epoch 7/30\n",
      "54546/54546 [==============================] - 4s 75us/step - loss: 0.0815 - acc: 0.8858 - val_loss: 0.0814 - val_acc: 0.8843\n",
      "Epoch 8/30\n",
      "54546/54546 [==============================] - 4s 76us/step - loss: 0.0777 - acc: 0.8904 - val_loss: 0.0713 - val_acc: 0.9004\n",
      "Epoch 9/30\n",
      "54546/54546 [==============================] - 4s 78us/step - loss: 0.0748 - acc: 0.8964 - val_loss: 0.0702 - val_acc: 0.8997\n",
      "Epoch 10/30\n",
      "54546/54546 [==============================] - 4s 71us/step - loss: 0.0717 - acc: 0.9004 - val_loss: 0.0690 - val_acc: 0.9037\n",
      "Epoch 11/30\n",
      "54546/54546 [==============================] - 4s 73us/step - loss: 0.0698 - acc: 0.9036 - val_loss: 0.0712 - val_acc: 0.8993\n",
      "Epoch 12/30\n",
      "54546/54546 [==============================] - 4s 73us/step - loss: 0.0696 - acc: 0.9032 - val_loss: 0.0676 - val_acc: 0.9058\n",
      "Epoch 13/30\n",
      "54546/54546 [==============================] - 4s 71us/step - loss: 0.0663 - acc: 0.9089 - val_loss: 0.0674 - val_acc: 0.9019\n",
      "Epoch 14/30\n",
      "54546/54546 [==============================] - 4s 71us/step - loss: 0.0655 - acc: 0.9082 - val_loss: 0.0650 - val_acc: 0.9080\n",
      "Epoch 15/30\n",
      "54546/54546 [==============================] - 4s 71us/step - loss: 0.0635 - acc: 0.9123 - val_loss: 0.0629 - val_acc: 0.9094\n",
      "Epoch 16/30\n",
      "54546/54546 [==============================] - 4s 71us/step - loss: 0.0627 - acc: 0.9131 - val_loss: 0.0650 - val_acc: 0.9072\n",
      "Epoch 17/30\n",
      "54546/54546 [==============================] - 4s 70us/step - loss: 0.0611 - acc: 0.9152 - val_loss: 0.0643 - val_acc: 0.9067\n",
      "Epoch 18/30\n",
      "54546/54546 [==============================] - 4s 70us/step - loss: 0.0612 - acc: 0.9158 - val_loss: 0.0638 - val_acc: 0.9098\n",
      "Epoch 19/30\n",
      "54546/54546 [==============================] - 4s 70us/step - loss: 0.0601 - acc: 0.9158 - val_loss: 0.0608 - val_acc: 0.9138\n",
      "Epoch 20/30\n",
      "54546/54546 [==============================] - 4s 70us/step - loss: 0.0589 - acc: 0.9185 - val_loss: 0.0610 - val_acc: 0.9151\n",
      "Epoch 21/30\n",
      "54546/54546 [==============================] - 4s 69us/step - loss: 0.0574 - acc: 0.9214 - val_loss: 0.0620 - val_acc: 0.9122\n",
      "Epoch 22/30\n",
      "54546/54546 [==============================] - 4s 70us/step - loss: 0.0579 - acc: 0.9197 - val_loss: 0.0649 - val_acc: 0.9103\n",
      "Epoch 23/30\n",
      "54546/54546 [==============================] - 4s 70us/step - loss: 0.0569 - acc: 0.9213 - val_loss: 0.0601 - val_acc: 0.9157\n",
      "Epoch 24/30\n",
      "54546/54546 [==============================] - 4s 70us/step - loss: 0.0556 - acc: 0.9231 - val_loss: 0.0593 - val_acc: 0.9201\n",
      "Epoch 25/30\n",
      "54546/54546 [==============================] - 4s 70us/step - loss: 0.0553 - acc: 0.9243 - val_loss: 0.0582 - val_acc: 0.9195\n",
      "Epoch 26/30\n",
      "54546/54546 [==============================] - 4s 70us/step - loss: 0.0546 - acc: 0.9254 - val_loss: 0.0592 - val_acc: 0.9184\n",
      "Epoch 27/30\n",
      "54546/54546 [==============================] - 4s 70us/step - loss: 0.0541 - acc: 0.9244 - val_loss: 0.0600 - val_acc: 0.9173\n",
      "Epoch 28/30\n",
      "54546/54546 [==============================] - 4s 74us/step - loss: 0.0538 - acc: 0.9259 - val_loss: 0.0615 - val_acc: 0.9135\n",
      "Epoch 29/30\n",
      "54546/54546 [==============================] - 4s 74us/step - loss: 0.0534 - acc: 0.9273 - val_loss: 0.0569 - val_acc: 0.9206\n",
      "Epoch 30/30\n",
      "54546/54546 [==============================] - 4s 72us/step - loss: 0.0526 - acc: 0.9284 - val_loss: 0.0603 - val_acc: 0.9157\n"
     ]
    }
   ],
   "source": [
    "\"\"\"five-CONV-LAYERS-THICK\"\"\"\n",
    "if not data_augmentation:\n",
    "    print('Not using data augmentation.')\n",
    "    train_history_4= model_4.fit(\n",
    "        x_train,\n",
    "        y_train,\n",
    "        batch_size=batch_size,\n",
    "        epochs=epochs,\n",
    "        validation_split= Vld_Splt,\n",
    "        shuffle=True)\n",
    "else:\n",
    "    print('Using real-time data augmentation.')\n",
    "    # This will do preprocessing and realtime data augmentation:\n",
    "    datagen = ImageDataGenerator(\n",
    "        featurewise_center=False,  # set input mean to 0 over the dataset\n",
    "        samplewise_center=False,  # set each sample mean to 0\n",
    "        featurewise_std_normalization=False,  # divide inputs by dataset std\n",
    "        samplewise_std_normalization=False,  # divide each input by its std\n",
    "        zca_whitening=False,  # apply ZCA whitening\n",
    "        zca_epsilon=1e-06,  # epsilon for ZCA whitening\n",
    "        rotation_range=0,  # randomly rotate images in 0 to 180 degrees\n",
    "        width_shift_range=0.1,  # randomly shift images horizontally\n",
    "        height_shift_range=0.1,  # randomly shift images vertically\n",
    "        shear_range=0.,  # set range for random shear\n",
    "        zoom_range=0.,  # set range for random zoom\n",
    "        channel_shift_range=0.,  # set range for random channel shifts\n",
    "        # set mode for filling points outside the input boundaries\n",
    "        fill_mode='nearest',\n",
    "        cval=0.,  # value used for fill_mode = \"constant\"\n",
    "        horizontal_flip=True,  # randomly flip images\n",
    "        vertical_flip=False,  # randomly flip images\n",
    "        # set rescaling factor (applied before any other transformation)\n",
    "        rescale=None,\n",
    "        # set function that will be applied on each input\n",
    "        preprocessing_function=None,\n",
    "        # image data format, either \"channels_first\" or \"channels_last\"\n",
    "        data_format=None,\n",
    "        # fraction of images reserved for validation (strictly between 0 and 1)\n",
    "        validation_split=0.0)\n",
    "\n",
    "    # Compute quantities required for feature-wise normalization\n",
    "    # (std, mean, and principal components if ZCA whitening is applied).\n",
    "    datagen.fit(x_train)\n",
    "\n",
    "    # Fit the model on the batches generated by datagen.flow().\n",
    "    train_history_4= model_4.fit_generator(\n",
    "        datagen.flow(x_train, y_train, batch_size=batch_size),\n",
    "        epochs= epochs,\n",
    "        validation_split= Vld_Splt,\n",
    "        steps_per_epoch= int(x_train.shape[0]/ batch_size),\n",
    "        workers=4)"
   ]
  },
  {
   "cell_type": "code",
   "execution_count": 46,
   "metadata": {},
   "outputs": [
    {
     "name": "stdout",
     "output_type": "stream",
     "text": [
      "Not using data augmentation.\n",
      "Train on 54546 samples, validate on 5454 samples\n",
      "Epoch 1/30\n",
      "54546/54546 [==============================] - 5s 97us/step - loss: 0.2490 - acc: 0.6416 - val_loss: 0.1305 - val_acc: 0.8062\n",
      "Epoch 2/30\n",
      "54546/54546 [==============================] - 4s 73us/step - loss: 0.1323 - acc: 0.8134 - val_loss: 0.1141 - val_acc: 0.8377\n",
      "Epoch 3/30\n",
      "54546/54546 [==============================] - 4s 73us/step - loss: 0.1115 - acc: 0.8461 - val_loss: 0.0998 - val_acc: 0.8541\n",
      "Epoch 4/30\n",
      "54546/54546 [==============================] - 4s 74us/step - loss: 0.0994 - acc: 0.8621 - val_loss: 0.0887 - val_acc: 0.8755\n",
      "Epoch 5/30\n",
      "54546/54546 [==============================] - 4s 75us/step - loss: 0.0917 - acc: 0.8734 - val_loss: 0.0817 - val_acc: 0.8841\n",
      "Epoch 6/30\n",
      "54546/54546 [==============================] - 4s 76us/step - loss: 0.0862 - acc: 0.8794 - val_loss: 0.0785 - val_acc: 0.8825\n",
      "Epoch 7/30\n",
      "54546/54546 [==============================] - 4s 82us/step - loss: 0.0821 - acc: 0.8860 - val_loss: 0.0760 - val_acc: 0.8889\n",
      "Epoch 8/30\n",
      "54546/54546 [==============================] - 4s 77us/step - loss: 0.0786 - acc: 0.8900 - val_loss: 0.0723 - val_acc: 0.8959\n",
      "Epoch 9/30\n",
      "54546/54546 [==============================] - 4s 74us/step - loss: 0.0760 - acc: 0.8938 - val_loss: 0.0704 - val_acc: 0.8990\n",
      "Epoch 10/30\n",
      "54546/54546 [==============================] - 4s 77us/step - loss: 0.0739 - acc: 0.8975 - val_loss: 0.0702 - val_acc: 0.8964\n",
      "Epoch 11/30\n",
      "54546/54546 [==============================] - 4s 78us/step - loss: 0.0715 - acc: 0.9012 - val_loss: 0.0697 - val_acc: 0.8984\n",
      "Epoch 12/30\n",
      "54546/54546 [==============================] - 4s 75us/step - loss: 0.0697 - acc: 0.9039 - val_loss: 0.0659 - val_acc: 0.9039\n",
      "Epoch 13/30\n",
      "54546/54546 [==============================] - 4s 76us/step - loss: 0.0675 - acc: 0.9064 - val_loss: 0.0638 - val_acc: 0.9069\n",
      "Epoch 14/30\n",
      "54546/54546 [==============================] - 4s 76us/step - loss: 0.0661 - acc: 0.9087 - val_loss: 0.0642 - val_acc: 0.9072\n",
      "Epoch 15/30\n",
      "54546/54546 [==============================] - 4s 72us/step - loss: 0.0655 - acc: 0.9095 - val_loss: 0.0627 - val_acc: 0.9083\n",
      "Epoch 16/30\n",
      "54546/54546 [==============================] - 4s 74us/step - loss: 0.0627 - acc: 0.9128 - val_loss: 0.0614 - val_acc: 0.9113\n",
      "Epoch 17/30\n",
      "54546/54546 [==============================] - 4s 73us/step - loss: 0.0623 - acc: 0.9151 - val_loss: 0.0624 - val_acc: 0.9105\n",
      "Epoch 18/30\n",
      "54546/54546 [==============================] - 4s 73us/step - loss: 0.0613 - acc: 0.9145 - val_loss: 0.0612 - val_acc: 0.9136\n",
      "Epoch 19/30\n",
      "54546/54546 [==============================] - 4s 74us/step - loss: 0.0604 - acc: 0.9163 - val_loss: 0.0641 - val_acc: 0.9091\n",
      "Epoch 20/30\n",
      "54546/54546 [==============================] - 4s 74us/step - loss: 0.0592 - acc: 0.9184 - val_loss: 0.0600 - val_acc: 0.9127\n",
      "Epoch 21/30\n",
      "54546/54546 [==============================] - 4s 75us/step - loss: 0.0581 - acc: 0.9198 - val_loss: 0.0597 - val_acc: 0.9135\n",
      "Epoch 22/30\n",
      "54546/54546 [==============================] - 4s 75us/step - loss: 0.0570 - acc: 0.9215 - val_loss: 0.0593 - val_acc: 0.9146\n",
      "Epoch 23/30\n",
      "54546/54546 [==============================] - 4s 75us/step - loss: 0.0568 - acc: 0.9225 - val_loss: 0.0598 - val_acc: 0.9173\n",
      "Epoch 24/30\n",
      "54546/54546 [==============================] - 4s 77us/step - loss: 0.0565 - acc: 0.9223 - val_loss: 0.0604 - val_acc: 0.9164\n",
      "Epoch 25/30\n",
      "54546/54546 [==============================] - 4s 78us/step - loss: 0.0547 - acc: 0.9251 - val_loss: 0.0591 - val_acc: 0.9153\n",
      "Epoch 26/30\n",
      "54546/54546 [==============================] - 4s 76us/step - loss: 0.0559 - acc: 0.9233 - val_loss: 0.0584 - val_acc: 0.9164\n",
      "Epoch 27/30\n",
      "54546/54546 [==============================] - 4s 82us/step - loss: 0.0539 - acc: 0.9267 - val_loss: 0.0612 - val_acc: 0.9105\n",
      "Epoch 28/30\n",
      "54546/54546 [==============================] - 4s 79us/step - loss: 0.0535 - acc: 0.9259 - val_loss: 0.0622 - val_acc: 0.9127\n",
      "Epoch 29/30\n",
      "54546/54546 [==============================] - 4s 79us/step - loss: 0.0516 - acc: 0.9299 - val_loss: 0.0588 - val_acc: 0.9160\n",
      "Epoch 30/30\n",
      "54546/54546 [==============================] - 4s 79us/step - loss: 0.0519 - acc: 0.9280 - val_loss: 0.0597 - val_acc: 0.9158\n"
     ]
    }
   ],
   "source": [
    "\"\"\"six-CONV-LAYERS-THICK\"\"\"\n",
    "if not data_augmentation:\n",
    "    print('Not using data augmentation.')\n",
    "    train_history_5= model_5.fit(\n",
    "        x_train,\n",
    "        y_train,\n",
    "        batch_size=batch_size,\n",
    "        epochs=epochs,\n",
    "        validation_split= Vld_Splt,\n",
    "        shuffle=True)\n",
    "else:\n",
    "    print('Using real-time data augmentation.')\n",
    "    # This will do preprocessing and realtime data augmentation:\n",
    "    datagen = ImageDataGenerator(\n",
    "        featurewise_center=False,  # set input mean to 0 over the dataset\n",
    "        samplewise_center=False,  # set each sample mean to 0\n",
    "        featurewise_std_normalization=False,  # divide inputs by dataset std\n",
    "        samplewise_std_normalization=False,  # divide each input by its std\n",
    "        zca_whitening=False,  # apply ZCA whitening\n",
    "        zca_epsilon=1e-06,  # epsilon for ZCA whitening\n",
    "        rotation_range=0,  # randomly rotate images in 0 to 180 degrees\n",
    "        width_shift_range=0.1,  # randomly shift images horizontally\n",
    "        height_shift_range=0.1,  # randomly shift images vertically\n",
    "        shear_range=0.,  # set range for random shear\n",
    "        zoom_range=0.,  # set range for random zoom\n",
    "        channel_shift_range=0.,  # set range for random channel shifts\n",
    "        # set mode for filling points outside the input boundaries\n",
    "        fill_mode='nearest',\n",
    "        cval=0.,  # value used for fill_mode = \"constant\"\n",
    "        horizontal_flip=True,  # randomly flip images\n",
    "        vertical_flip=False,  # randomly flip images\n",
    "        # set rescaling factor (applied before any other transformation)\n",
    "        rescale=None,\n",
    "        # set function that will be applied on each input\n",
    "        preprocessing_function=None,\n",
    "        # image data format, either \"channels_first\" or \"channels_last\"\n",
    "        data_format=None,\n",
    "        # fraction of images reserved for validation (strictly between 0 and 1)\n",
    "        validation_split=0.0)\n",
    "\n",
    "    # Compute quantities required for feature-wise normalization\n",
    "    # (std, mean, and principal components if ZCA whitening is applied).\n",
    "    datagen.fit(x_train)\n",
    "\n",
    "    # Fit the model on the batches generated by datagen.flow().\n",
    "    train_history_5= model_5.fit_generator(\n",
    "        datagen.flow(x_train, y_train, batch_size=batch_size),\n",
    "        epochs= epochs,\n",
    "        validation_split= Vld_Splt,\n",
    "        steps_per_epoch= int(x_train.shape[0]/ batch_size),\n",
    "        workers=4)"
   ]
  },
  {
   "cell_type": "code",
   "execution_count": 47,
   "metadata": {},
   "outputs": [
    {
     "name": "stdout",
     "output_type": "stream",
     "text": [
      "Not using data augmentation.\n",
      "Train on 54546 samples, validate on 5454 samples\n",
      "Epoch 1/30\n",
      "54546/54546 [==============================] - 6s 109us/step - loss: 0.3215 - acc: 0.5262 - val_loss: 0.1535 - val_acc: 0.7697\n",
      "Epoch 2/30\n",
      "54546/54546 [==============================] - 4s 79us/step - loss: 0.1401 - acc: 0.8001 - val_loss: 0.1076 - val_acc: 0.8443\n",
      "Epoch 3/30\n",
      "54546/54546 [==============================] - 4s 82us/step - loss: 0.1119 - acc: 0.8429 - val_loss: 0.0955 - val_acc: 0.8619\n",
      "Epoch 4/30\n",
      "54546/54546 [==============================] - 4s 82us/step - loss: 0.0969 - acc: 0.8666 - val_loss: 0.0851 - val_acc: 0.8755\n",
      "Epoch 5/30\n",
      "54546/54546 [==============================] - 5s 86us/step - loss: 0.0891 - acc: 0.8747 - val_loss: 0.0810 - val_acc: 0.8876\n",
      "Epoch 6/30\n",
      "54546/54546 [==============================] - 5s 83us/step - loss: 0.0840 - acc: 0.8828 - val_loss: 0.0784 - val_acc: 0.8896\n",
      "Epoch 7/30\n",
      "54546/54546 [==============================] - 4s 81us/step - loss: 0.0795 - acc: 0.8902 - val_loss: 0.0708 - val_acc: 0.8981\n",
      "Epoch 8/30\n",
      "54546/54546 [==============================] - 4s 82us/step - loss: 0.0758 - acc: 0.8943 - val_loss: 0.0678 - val_acc: 0.9039\n",
      "Epoch 9/30\n",
      "54546/54546 [==============================] - 4s 82us/step - loss: 0.0738 - acc: 0.8971 - val_loss: 0.0724 - val_acc: 0.8979\n",
      "Epoch 10/30\n",
      "54546/54546 [==============================] - 5s 83us/step - loss: 0.0718 - acc: 0.9007 - val_loss: 0.0694 - val_acc: 0.9019\n",
      "Epoch 11/30\n",
      "54546/54546 [==============================] - 5s 86us/step - loss: 0.0695 - acc: 0.9035 - val_loss: 0.0657 - val_acc: 0.9054\n",
      "Epoch 12/30\n",
      "54546/54546 [==============================] - 5s 96us/step - loss: 0.0688 - acc: 0.9044 - val_loss: 0.0695 - val_acc: 0.8968\n",
      "Epoch 13/30\n",
      "54546/54546 [==============================] - 5s 83us/step - loss: 0.0670 - acc: 0.9074 - val_loss: 0.0635 - val_acc: 0.9094\n",
      "Epoch 14/30\n",
      "54546/54546 [==============================] - 6s 103us/step - loss: 0.0659 - acc: 0.9085 - val_loss: 0.0666 - val_acc: 0.9072\n",
      "Epoch 15/30\n",
      "54546/54546 [==============================] - 4s 81us/step - loss: 0.0637 - acc: 0.9103 - val_loss: 0.0631 - val_acc: 0.9096\n",
      "Epoch 16/30\n",
      "54546/54546 [==============================] - 5s 91us/step - loss: 0.0626 - acc: 0.9130 - val_loss: 0.0603 - val_acc: 0.9125\n",
      "Epoch 17/30\n",
      "54546/54546 [==============================] - 5s 97us/step - loss: 0.0621 - acc: 0.9147 - val_loss: 0.0605 - val_acc: 0.9146\n",
      "Epoch 18/30\n",
      "54546/54546 [==============================] - 5s 100us/step - loss: 0.0605 - acc: 0.9159 - val_loss: 0.0621 - val_acc: 0.9109\n",
      "Epoch 19/30\n",
      "54546/54546 [==============================] - 5s 97us/step - loss: 0.0598 - acc: 0.9178 - val_loss: 0.0587 - val_acc: 0.9190\n",
      "Epoch 20/30\n",
      "54546/54546 [==============================] - 5s 92us/step - loss: 0.0586 - acc: 0.9195 - val_loss: 0.0589 - val_acc: 0.9157\n",
      "Epoch 21/30\n",
      "54546/54546 [==============================] - 6s 102us/step - loss: 0.0586 - acc: 0.9193 - val_loss: 0.0585 - val_acc: 0.9186\n",
      "Epoch 22/30\n",
      "54546/54546 [==============================] - 5s 96us/step - loss: 0.0581 - acc: 0.9202 - val_loss: 0.0590 - val_acc: 0.9168\n",
      "Epoch 23/30\n",
      "54546/54546 [==============================] - 5s 88us/step - loss: 0.0565 - acc: 0.9223 - val_loss: 0.0615 - val_acc: 0.9118\n",
      "Epoch 24/30\n",
      "54546/54546 [==============================] - 5s 86us/step - loss: 0.0552 - acc: 0.9244 - val_loss: 0.0564 - val_acc: 0.9191\n",
      "Epoch 25/30\n",
      "54546/54546 [==============================] - 5s 86us/step - loss: 0.0549 - acc: 0.9238 - val_loss: 0.0587 - val_acc: 0.9169\n",
      "Epoch 26/30\n",
      "54546/54546 [==============================] - 5s 92us/step - loss: 0.0545 - acc: 0.9250 - val_loss: 0.0586 - val_acc: 0.9180\n",
      "Epoch 27/30\n",
      "54546/54546 [==============================] - 5s 90us/step - loss: 0.0549 - acc: 0.9249 - val_loss: 0.0578 - val_acc: 0.9195\n",
      "Epoch 28/30\n",
      "54546/54546 [==============================] - 5s 87us/step - loss: 0.0536 - acc: 0.9263 - val_loss: 0.0556 - val_acc: 0.9212\n",
      "Epoch 29/30\n",
      "54546/54546 [==============================] - 5s 87us/step - loss: 0.0523 - acc: 0.9272 - val_loss: 0.0569 - val_acc: 0.9213\n",
      "Epoch 30/30\n",
      "54546/54546 [==============================] - 5s 87us/step - loss: 0.0518 - acc: 0.9282 - val_loss: 0.0549 - val_acc: 0.9230\n"
     ]
    }
   ],
   "source": [
    "\"\"\"seven-CONV-LAYERS-THICK\"\"\"\n",
    "if not data_augmentation:\n",
    "    print('Not using data augmentation.')\n",
    "    train_history_6= model_6.fit(\n",
    "        x_train,\n",
    "        y_train,\n",
    "        batch_size=batch_size,\n",
    "        epochs=epochs,\n",
    "        validation_split= Vld_Splt,\n",
    "        shuffle=True)\n",
    "else:\n",
    "    print('Using real-time data augmentation.')\n",
    "    # This will do preprocessing and realtime data augmentation:\n",
    "    datagen = ImageDataGenerator(\n",
    "        featurewise_center=False,  # set input mean to 0 over the dataset\n",
    "        samplewise_center=False,  # set each sample mean to 0\n",
    "        featurewise_std_normalization=False,  # divide inputs by dataset std\n",
    "        samplewise_std_normalization=False,  # divide each input by its std\n",
    "        zca_whitening=False,  # apply ZCA whitening\n",
    "        zca_epsilon=1e-06,  # epsilon for ZCA whitening\n",
    "        rotation_range=0,  # randomly rotate images in 0 to 180 degrees\n",
    "        width_shift_range=0.1,  # randomly shift images horizontally\n",
    "        height_shift_range=0.1,  # randomly shift images vertically\n",
    "        shear_range=0.,  # set range for random shear\n",
    "        zoom_range=0.,  # set range for random zoom\n",
    "        channel_shift_range=0.,  # set range for random channel shifts\n",
    "        # set mode for filling points outside the input boundaries\n",
    "        fill_mode='nearest',\n",
    "        cval=0.,  # value used for fill_mode = \"constant\"\n",
    "        horizontal_flip=True,  # randomly flip images\n",
    "        vertical_flip=False,  # randomly flip images\n",
    "        # set rescaling factor (applied before any other transformation)\n",
    "        rescale=None,\n",
    "        # set function that will be applied on each input\n",
    "        preprocessing_function=None,\n",
    "        # image data format, either \"channels_first\" or \"channels_last\"\n",
    "        data_format=None,\n",
    "        # fraction of images reserved for validation (strictly between 0 and 1)\n",
    "        validation_split=0.0)\n",
    "\n",
    "    # Compute quantities required for feature-wise normalization\n",
    "    # (std, mean, and principal components if ZCA whitening is applied).\n",
    "    datagen.fit(x_train)\n",
    "\n",
    "    # Fit the model on the batches generated by datagen.flow().\n",
    "    train_history_6= model_6.fit_generator(\n",
    "        datagen.flow(x_train, y_train, batch_size=batch_size),\n",
    "        epochs= epochs,\n",
    "        validation_split= Vld_Splt,\n",
    "        steps_per_epoch= int(x_train.shape[0]/ batch_size),\n",
    "        workers=4)"
   ]
  },
  {
   "cell_type": "code",
   "execution_count": 23,
   "metadata": {},
   "outputs": [
    {
     "name": "stdout",
     "output_type": "stream",
     "text": [
      "Train on 54546 samples, validate on 5454 samples\n",
      "Epoch 1/30\n",
      "54546/54546 [==============================] - 3s 53us/step - loss: 0.7183 - acc: 0.7422 - val_loss: 0.4852 - val_acc: 0.8330\n",
      "Epoch 2/30\n",
      "54546/54546 [==============================] - 2s 34us/step - loss: 0.4959 - acc: 0.8196 - val_loss: 0.4303 - val_acc: 0.8533\n",
      "Epoch 3/30\n",
      "54546/54546 [==============================] - 2s 34us/step - loss: 0.4434 - acc: 0.8382 - val_loss: 0.3831 - val_acc: 0.8640\n",
      "Epoch 4/30\n",
      "54546/54546 [==============================] - 2s 33us/step - loss: 0.4143 - acc: 0.8501 - val_loss: 0.3577 - val_acc: 0.8717\n",
      "Epoch 5/30\n",
      "54546/54546 [==============================] - 2s 33us/step - loss: 0.3899 - acc: 0.8581 - val_loss: 0.3431 - val_acc: 0.8773\n",
      "Epoch 6/30\n",
      "54546/54546 [==============================] - 2s 33us/step - loss: 0.3727 - acc: 0.8638 - val_loss: 0.3249 - val_acc: 0.8794\n",
      "Epoch 7/30\n",
      "54546/54546 [==============================] - 2s 33us/step - loss: 0.3576 - acc: 0.8688 - val_loss: 0.3232 - val_acc: 0.8816\n",
      "Epoch 8/30\n",
      "54546/54546 [==============================] - 2s 33us/step - loss: 0.3443 - acc: 0.8723 - val_loss: 0.3092 - val_acc: 0.8909\n",
      "Epoch 9/30\n",
      "54546/54546 [==============================] - 2s 33us/step - loss: 0.3345 - acc: 0.8768 - val_loss: 0.3136 - val_acc: 0.8806\n",
      "Epoch 10/30\n",
      "54546/54546 [==============================] - 2s 33us/step - loss: 0.3250 - acc: 0.8796 - val_loss: 0.2969 - val_acc: 0.8920\n",
      "Epoch 11/30\n",
      "54546/54546 [==============================] - 2s 33us/step - loss: 0.3156 - acc: 0.8826 - val_loss: 0.2881 - val_acc: 0.8986\n",
      "Epoch 12/30\n",
      "54546/54546 [==============================] - 2s 33us/step - loss: 0.3097 - acc: 0.8862 - val_loss: 0.2852 - val_acc: 0.9001\n",
      "Epoch 13/30\n",
      "54546/54546 [==============================] - 2s 33us/step - loss: 0.3054 - acc: 0.8876 - val_loss: 0.2797 - val_acc: 0.8988\n",
      "Epoch 14/30\n",
      "54546/54546 [==============================] - 2s 33us/step - loss: 0.2961 - acc: 0.8905 - val_loss: 0.2684 - val_acc: 0.9015\n",
      "Epoch 15/30\n",
      "54546/54546 [==============================] - 2s 33us/step - loss: 0.2912 - acc: 0.8896 - val_loss: 0.2716 - val_acc: 0.9019\n",
      "Epoch 16/30\n",
      "54546/54546 [==============================] - 2s 33us/step - loss: 0.2835 - acc: 0.8947 - val_loss: 0.2703 - val_acc: 0.9006\n",
      "Epoch 17/30\n",
      "54546/54546 [==============================] - 2s 34us/step - loss: 0.2841 - acc: 0.8934 - val_loss: 0.2621 - val_acc: 0.9054\n",
      "Epoch 18/30\n",
      "54546/54546 [==============================] - 2s 32us/step - loss: 0.2789 - acc: 0.8959 - val_loss: 0.2641 - val_acc: 0.9058\n",
      "Epoch 19/30\n",
      "54546/54546 [==============================] - 2s 31us/step - loss: 0.2708 - acc: 0.8981 - val_loss: 0.2576 - val_acc: 0.9063\n",
      "Epoch 20/30\n",
      "54546/54546 [==============================] - 2s 32us/step - loss: 0.2696 - acc: 0.8998 - val_loss: 0.2602 - val_acc: 0.9100\n",
      "Epoch 21/30\n",
      "54546/54546 [==============================] - 2s 32us/step - loss: 0.2657 - acc: 0.8990 - val_loss: 0.2515 - val_acc: 0.9113\n",
      "Epoch 22/30\n",
      "54546/54546 [==============================] - 2s 33us/step - loss: 0.2619 - acc: 0.9022 - val_loss: 0.2655 - val_acc: 0.9014\n",
      "Epoch 23/30\n",
      "54546/54546 [==============================] - 2s 33us/step - loss: 0.2563 - acc: 0.9043 - val_loss: 0.2484 - val_acc: 0.9116\n",
      "Epoch 24/30\n",
      "54546/54546 [==============================] - 2s 33us/step - loss: 0.2549 - acc: 0.9049 - val_loss: 0.2479 - val_acc: 0.9091\n",
      "Epoch 25/30\n",
      "54546/54546 [==============================] - 2s 33us/step - loss: 0.2517 - acc: 0.9055 - val_loss: 0.2426 - val_acc: 0.9142\n",
      "Epoch 26/30\n",
      "54546/54546 [==============================] - 2s 33us/step - loss: 0.2496 - acc: 0.9071 - val_loss: 0.2444 - val_acc: 0.9105\n",
      "Epoch 27/30\n",
      "54546/54546 [==============================] - 2s 33us/step - loss: 0.2473 - acc: 0.9082 - val_loss: 0.2442 - val_acc: 0.9102\n",
      "Epoch 28/30\n",
      "54546/54546 [==============================] - 2s 33us/step - loss: 0.2421 - acc: 0.9099 - val_loss: 0.2434 - val_acc: 0.9120\n",
      "Epoch 29/30\n",
      "54546/54546 [==============================] - 2s 33us/step - loss: 0.2407 - acc: 0.9084 - val_loss: 0.2440 - val_acc: 0.9102\n",
      "Epoch 30/30\n",
      "54546/54546 [==============================] - 2s 33us/step - loss: 0.2360 - acc: 0.9122 - val_loss: 0.2422 - val_acc: 0.9100\n"
     ]
    }
   ],
   "source": [
    "\"\"\"CNN-3-CONV-LAYERS\"\"\"\n",
    "model_7.compile(loss='categorical_crossentropy',\n",
    "              optimizer='adam', metrics=['accuracy'])\n",
    "train_history_7= model_7.fit(x= x_train, y= y_train, validation_split= Vld_Splt,\n",
    "                         epochs= epochs, batch_size= batch_size, verbose=1)"
   ]
  },
  {
   "cell_type": "code",
   "execution_count": 24,
   "metadata": {},
   "outputs": [
    {
     "name": "stdout",
     "output_type": "stream",
     "text": [
      "10000/10000 [==============================] - 1s 120us/step\n"
     ]
    },
    {
     "data": {
      "text/plain": [
       "0.8376"
      ]
     },
     "execution_count": 24,
     "metadata": {},
     "output_type": "execute_result"
    }
   ],
   "source": [
    "\"\"\"one-CONV-LAYERS-THICK\"\"\"\n",
    "scores_0= model_0.evaluate(x_test, y_test)\n",
    "scores_0[1]"
   ]
  },
  {
   "cell_type": "code",
   "execution_count": 25,
   "metadata": {},
   "outputs": [
    {
     "name": "stdout",
     "output_type": "stream",
     "text": [
      "10000/10000 [==============================] - 1s 86us/step\n"
     ]
    },
    {
     "data": {
      "text/plain": [
       "0.8931"
      ]
     },
     "execution_count": 25,
     "metadata": {},
     "output_type": "execute_result"
    }
   ],
   "source": [
    "\"\"\"two-CONV-LAYERS-THICK\"\"\"\n",
    "scores_1= model_1.evaluate(x_test, y_test)\n",
    "scores_1[1]"
   ]
  },
  {
   "cell_type": "code",
   "execution_count": 26,
   "metadata": {},
   "outputs": [
    {
     "name": "stdout",
     "output_type": "stream",
     "text": [
      "10000/10000 [==============================] - 1s 79us/step\n"
     ]
    },
    {
     "data": {
      "text/plain": [
       "0.8979"
      ]
     },
     "execution_count": 26,
     "metadata": {},
     "output_type": "execute_result"
    }
   ],
   "source": [
    "\"\"\"three-CONV-LAYERS-THICK\"\"\"\n",
    "scores_2= model_2.evaluate(x_test, y_test)\n",
    "scores_2[1]"
   ]
  },
  {
   "cell_type": "code",
   "execution_count": 48,
   "metadata": {},
   "outputs": [
    {
     "name": "stdout",
     "output_type": "stream",
     "text": [
      "10000/10000 [==============================] - 1s 94us/step\n"
     ]
    },
    {
     "data": {
      "text/plain": [
       "0.9085"
      ]
     },
     "execution_count": 48,
     "metadata": {},
     "output_type": "execute_result"
    }
   ],
   "source": [
    "\"\"\"four-CONV-LAYERS-THICK\"\"\"\n",
    "scores_3= model_3.evaluate(x_test, y_test)\n",
    "scores_3[1]"
   ]
  },
  {
   "cell_type": "code",
   "execution_count": 49,
   "metadata": {},
   "outputs": [
    {
     "name": "stdout",
     "output_type": "stream",
     "text": [
      "10000/10000 [==============================] - 1s 95us/step\n"
     ]
    },
    {
     "data": {
      "text/plain": [
       "0.9114"
      ]
     },
     "execution_count": 49,
     "metadata": {},
     "output_type": "execute_result"
    }
   ],
   "source": [
    "\"\"\"five-CONV-LAYERS-THICK\"\"\"\n",
    "scores_4= model_4.evaluate(x_test, y_test)\n",
    "scores_4[1]"
   ]
  },
  {
   "cell_type": "code",
   "execution_count": 50,
   "metadata": {},
   "outputs": [
    {
     "name": "stdout",
     "output_type": "stream",
     "text": [
      "10000/10000 [==============================] - 1s 98us/step\n"
     ]
    },
    {
     "data": {
      "text/plain": [
       "0.9116"
      ]
     },
     "execution_count": 50,
     "metadata": {},
     "output_type": "execute_result"
    }
   ],
   "source": [
    "\"\"\"six-CONV-LAYERS-THICK\"\"\"\n",
    "scores_5= model_5.evaluate(x_test, y_test)\n",
    "scores_5[1]"
   ]
  },
  {
   "cell_type": "code",
   "execution_count": 51,
   "metadata": {},
   "outputs": [
    {
     "name": "stdout",
     "output_type": "stream",
     "text": [
      "10000/10000 [==============================] - 1s 101us/step\n"
     ]
    },
    {
     "data": {
      "text/plain": [
       "0.9185"
      ]
     },
     "execution_count": 51,
     "metadata": {},
     "output_type": "execute_result"
    }
   ],
   "source": [
    "\"\"\"seven-CONV-LAYERS-THICK\"\"\"\n",
    "scores_6= model_6.evaluate(x_test, y_test)\n",
    "scores_6[1]"
   ]
  },
  {
   "cell_type": "code",
   "execution_count": 52,
   "metadata": {},
   "outputs": [
    {
     "name": "stdout",
     "output_type": "stream",
     "text": [
      "10000/10000 [==============================] - 1s 71us/step\n"
     ]
    },
    {
     "data": {
      "text/plain": [
       "0.9106"
      ]
     },
     "execution_count": 52,
     "metadata": {},
     "output_type": "execute_result"
    }
   ],
   "source": [
    "\"\"\"CNN\"\"\"\n",
    "scores_7= model_7.evaluate(x_test, y_test)\n",
    "scores_7[1]"
   ]
  },
  {
   "cell_type": "code",
   "execution_count": 53,
   "metadata": {},
   "outputs": [],
   "source": [
    "import matplotlib.pyplot as plt\n",
    "def show_train_history(train_history, train, validation):\n",
    "    plt.plot(train_history.history[train])\n",
    "    plt.plot(train_history.history[validation])\n",
    "    plt.title('Train History')\n",
    "    plt.ylabel(train)\n",
    "    plt.xlabel('Epoch')\n",
    "    plt.legend(['train', 'validation'], loc='best')\n",
    "    plt.show()"
   ]
  },
  {
   "cell_type": "code",
   "execution_count": 54,
   "metadata": {},
   "outputs": [
    {
     "data": {
      "image/png": "[encoded data removed]",
      "text/plain": [
       "<Figure size 432x288 with 1 Axes>"
      ]
     },
     "metadata": {
      "needs_background": "light"
     },
     "output_type": "display_data"
    }
   ],
   "source": [
    "show_train_history(train_history_0, 'acc', 'val_acc')"
   ]
  },
  {
   "cell_type": "code",
   "execution_count": 55,
   "metadata": {},
   "outputs": [
    {
     "data": {
      "image/png": "[encoded data removed]",
      "text/plain": [
       "<Figure size 432x288 with 1 Axes>"
      ]
     },
     "metadata": {
      "needs_background": "light"
     },
     "output_type": "display_data"
    }
   ],
   "source": [
    "show_train_history(train_history_1, 'acc', 'val_acc')"
   ]
  },
  {
   "cell_type": "code",
   "execution_count": 56,
   "metadata": {},
   "outputs": [
    {
     "data": {
      "image/png": "[encoded data removed]",
      "text/plain": [
       "<Figure size 432x288 with 1 Axes>"
      ]
     },
     "metadata": {
      "needs_background": "light"
     },
     "output_type": "display_data"
    }
   ],
   "source": [
    "show_train_history(train_history_2, 'acc', 'val_acc')"
   ]
  },
  {
   "cell_type": "code",
   "execution_count": 57,
   "metadata": {},
   "outputs": [
    {
     "data": {
      "image/png": "[encoded data removed]",
      "text/plain": [
       "<Figure size 432x288 with 1 Axes>"
      ]
     },
     "metadata": {
      "needs_background": "light"
     },
     "output_type": "display_data"
    }
   ],
   "source": [
    "show_train_history(train_history_3, 'acc', 'val_acc')"
   ]
  },
  {
   "cell_type": "code",
   "execution_count": 58,
   "metadata": {},
   "outputs": [
    {
     "data": {
      "image/png": "[encoded data removed]",
      "text/plain": [
       "<Figure size 432x288 with 1 Axes>"
      ]
     },
     "metadata": {
      "needs_background": "light"
     },
     "output_type": "display_data"
    }
   ],
   "source": [
    "show_train_history(train_history_4, 'acc', 'val_acc')"
   ]
  },
  {
   "cell_type": "code",
   "execution_count": 59,
   "metadata": {},
   "outputs": [
    {
     "data": {
      "image/png": "[encoded data removed]",
      "text/plain": [
       "<Figure size 432x288 with 1 Axes>"
      ]
     },
     "metadata": {
      "needs_background": "light"
     },
     "output_type": "display_data"
    }
   ],
   "source": [
    "show_train_history(train_history_5, 'acc', 'val_acc')"
   ]
  },
  {
   "cell_type": "code",
   "execution_count": 60,
   "metadata": {},
   "outputs": [
    {
     "data": {
      "image/png": "[encoded data removed]",
      "text/plain": [
       "<Figure size 432x288 with 1 Axes>"
      ]
     },
     "metadata": {
      "needs_background": "light"
     },
     "output_type": "display_data"
    }
   ],
   "source": [
    "show_train_history(train_history_6, 'acc', 'val_acc')"
   ]
  },
  {
   "cell_type": "code",
   "execution_count": 61,
   "metadata": {},
   "outputs": [
    {
     "data": {
      "image/png": "[encoded data removed]",
      "text/plain": [
       "<Figure size 432x288 with 1 Axes>"
      ]
     },
     "metadata": {
      "needs_background": "light"
     },
     "output_type": "display_data"
    }
   ],
   "source": [
    "show_train_history(train_history_7, 'acc', 'val_acc')"
   ]
  },
  {
   "cell_type": "code",
   "execution_count": 62,
   "metadata": {},
   "outputs": [
    {
     "data": {
      "image/png": "[encoded data removed]",
      "text/plain": [
       "<Figure size 432x288 with 1 Axes>"
      ]
     },
     "metadata": {
      "needs_background": "light"
     },
     "output_type": "display_data"
    }
   ],
   "source": [
    "plt.plot(train_history_0.history['val_acc'], 'r-')\n",
    "plt.plot(train_history_1.history['val_acc'], 'b--')\n",
    "plt.plot(train_history_2.history['val_acc'], 'k.')\n",
    "plt.plot(train_history_3.history['val_acc'], 'b-')\n",
    "plt.plot(train_history_4.history['val_acc'], 'h-')\n",
    "plt.plot(train_history_5.history['val_acc'], 'c-')\n",
    "plt.plot(train_history_6.history['val_acc'], 'g*-')\n",
    "plt.plot(train_history_7.history['val_acc'], 'k-.')\n",
    "plt.title('Training on fasion_MNIST')\n",
    "plt.ylabel('Validation Accuracy')\n",
    "plt.xlabel('Epoch')\n",
    "plt.legend(['CapsNet: 1-conv','CapsNet: 2-conv','CapsNet: 3-conv','CapsNet: 4-conv','CapsNet: 5-conv','CapsNet: 6-conv',\n",
    "           'CapsNet: 7-conv','CNN-2CONV'], loc='best')\n",
    "plt.show()"
   ]
  },
  {
   "cell_type": "code",
   "execution_count": null,
   "metadata": {},
   "outputs": [],
   "source": []
  },
  {
   "cell_type": "code",
   "execution_count": null,
   "metadata": {},
   "outputs": [],
   "source": []
  }
 ],
 "metadata": {
  "kernelspec": {
   "display_name": "Python 3",
   "language": "python",
   "name": "python3"
  },
  "language_info": {
   "codemirror_mode": {
    "name": "ipython",
    "version": 3
   },
   "file_extension": ".py",
   "mimetype": "text/x-python",
   "name": "python",
   "nbconvert_exporter": "python",
   "pygments_lexer": "ipython3",
   "version": "3.6.10"
  }
 },
 "nbformat": 4,
 "nbformat_minor": 2
}
