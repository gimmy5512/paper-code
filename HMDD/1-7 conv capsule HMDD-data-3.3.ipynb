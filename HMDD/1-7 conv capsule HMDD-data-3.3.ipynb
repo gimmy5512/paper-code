{
 "cells": [
  {
   "cell_type": "code",
   "execution_count": 1,
   "metadata": {},
   "outputs": [],
   "source": [
    "import os\n"
   ]
  },
  {
   "cell_type": "code",
   "execution_count": 2,
   "metadata": {},
   "outputs": [
    {
     "name": "stderr",
     "output_type": "stream",
     "text": [
      "Using TensorFlow backend.\n",
      "C:\\Users\\ASUS\\Anaconda3\\envs\\tensorflow-gpu\\lib\\site-packages\\tensorflow\\python\\framework\\dtypes.py:526: FutureWarning: Passing (type, 1) or '1type' as a synonym of type is deprecated; in a future version of numpy, it will be understood as (type, (1,)) / '(1,)type'.\n",
      "  _np_qint8 = np.dtype([(\"qint8\", np.int8, 1)])\n",
      "C:\\Users\\ASUS\\Anaconda3\\envs\\tensorflow-gpu\\lib\\site-packages\\tensorflow\\python\\framework\\dtypes.py:527: FutureWarning: Passing (type, 1) or '1type' as a synonym of type is deprecated; in a future version of numpy, it will be understood as (type, (1,)) / '(1,)type'.\n",
      "  _np_quint8 = np.dtype([(\"quint8\", np.uint8, 1)])\n",
      "C:\\Users\\ASUS\\Anaconda3\\envs\\tensorflow-gpu\\lib\\site-packages\\tensorflow\\python\\framework\\dtypes.py:528: FutureWarning: Passing (type, 1) or '1type' as a synonym of type is deprecated; in a future version of numpy, it will be understood as (type, (1,)) / '(1,)type'.\n",
      "  _np_qint16 = np.dtype([(\"qint16\", np.int16, 1)])\n",
      "C:\\Users\\ASUS\\Anaconda3\\envs\\tensorflow-gpu\\lib\\site-packages\\tensorflow\\python\\framework\\dtypes.py:529: FutureWarning: Passing (type, 1) or '1type' as a synonym of type is deprecated; in a future version of numpy, it will be understood as (type, (1,)) / '(1,)type'.\n",
      "  _np_quint16 = np.dtype([(\"quint16\", np.uint16, 1)])\n",
      "C:\\Users\\ASUS\\Anaconda3\\envs\\tensorflow-gpu\\lib\\site-packages\\tensorflow\\python\\framework\\dtypes.py:530: FutureWarning: Passing (type, 1) or '1type' as a synonym of type is deprecated; in a future version of numpy, it will be understood as (type, (1,)) / '(1,)type'.\n",
      "  _np_qint32 = np.dtype([(\"qint32\", np.int32, 1)])\n",
      "C:\\Users\\ASUS\\Anaconda3\\envs\\tensorflow-gpu\\lib\\site-packages\\tensorflow\\python\\framework\\dtypes.py:535: FutureWarning: Passing (type, 1) or '1type' as a synonym of type is deprecated; in a future version of numpy, it will be understood as (type, (1,)) / '(1,)type'.\n",
      "  np_resource = np.dtype([(\"resource\", np.ubyte, 1)])\n"
     ]
    }
   ],
   "source": [
    "from __future__ import print_function\n",
    "from keras import backend as K\n",
    "from keras.layers import Layer\n",
    "from keras import activations\n",
    "from keras import utils\n",
    "from keras.datasets import mnist\n",
    "from keras.datasets import fashion_mnist\n",
    "from keras.models import Model\n",
    "from keras.layers import *\n",
    "from keras.preprocessing.image import ImageDataGenerator\n",
    "import cv2"
   ]
  },
  {
   "cell_type": "code",
   "execution_count": 3,
   "metadata": {},
   "outputs": [],
   "source": [
    "from tensorflow.compat.v1 import ConfigProto\n",
    "from tensorflow.compat.v1 import InteractiveSession\n",
    "\n",
    "config = ConfigProto()\n",
    "config.gpu_options.allow_growth = True\n",
    "session = InteractiveSession(config=config)"
   ]
  },
  {
   "cell_type": "code",
   "execution_count": 4,
   "metadata": {},
   "outputs": [],
   "source": [
    "Vld_Splt= 0.0909\n",
    "batch_size = 200\n",
    "num_classes = 10\n",
    "epochs = 30"
   ]
  },
  {
   "cell_type": "code",
   "execution_count": 5,
   "metadata": {},
   "outputs": [],
   "source": [
    "from keras.utils import np_utils\n",
    "\n",
    "'''LOAD DATA'''\n",
    "Dir= 'C:/pythonwork/MHDD/'\n",
    "x_train= np.load(Dir+'HMDD_Train_X.npy')\n",
    "y_train=np.load(Dir+'HMDD_Train_Y.npy')\n",
    "x_test=np.load(Dir+'HMDD_Test_X.npy')\n",
    "y_test=np.load(Dir+'HMDD_Test_Y.npy')\n",
    "\n",
    "'''PRE-PROCESSING'''\n",
    "x_train = x_train.reshape(-1, 28, 28, 1).astype('float32') / 255.\n",
    "x_test = x_test.reshape(-1, 28, 28, 1).astype('float32') / 255.\n",
    "# n_Vld= int(np.floor(Vld_Splt* x_train.shape[0]))  # Num. of validation data"
   ]
  },
  {
   "cell_type": "code",
   "execution_count": 6,
   "metadata": {},
   "outputs": [],
   "source": [
    "# (x_train, y_train), (x_test, y_test) = fashion_mnist.load_data()\n",
    "\n",
    "# x_train = x_train.reshape(x_train.shape[0], x_train.shape[1], x_train.shape[2], 1)\\\n",
    "#          .astype('float32')\n",
    "# x_test = x_test.reshape(x_test.shape[0], x_test.shape[1], x_test.shape[2], 1).\\\n",
    "#          astype('float32')\n",
    "# x_train /= 255\n",
    "# x_test /= 255\n",
    "# y_train = utils.to_categorical(y_train, num_classes)\n",
    "# y_test = utils.to_categorical(y_test, num_classes)"
   ]
  },
  {
   "cell_type": "code",
   "execution_count": 7,
   "metadata": {},
   "outputs": [
    {
     "name": "stdout",
     "output_type": "stream",
     "text": [
      " (60000, 28, 28, 1) \n",
      " (60000, 10) \n",
      " (10000, 28, 28, 1) \n",
      " (10000, 10) \n",
      "\n"
     ]
    }
   ],
   "source": [
    "print('', x_train.shape,'\\n',y_train.shape,'\\n',x_test.shape,'\\n',y_test.shape,'\\n')"
   ]
  },
  {
   "cell_type": "code",
   "execution_count": 8,
   "metadata": {},
   "outputs": [],
   "source": [
    "# the squashing function.\n",
    "# we use 0.5 in stead of 1 in hinton's paper.\n",
    "# if 1, the norm of vector will be zoomed out.\n",
    "# if 0.5, the norm will be zoomed in while original norm is less than 0.5\n",
    "# and be zoomed out while original norm is greater than 0.5.\n",
    "def squash(x, axis=-1):\n",
    "    s_squared_norm = K.sum(K.square(x), axis, keepdims=True) + K.epsilon()\n",
    "    scale = K.sqrt(s_squared_norm) / (0.5 + s_squared_norm)\n",
    "    return scale * x\n",
    "\n",
    "\n",
    "# define our own softmax function instead of K.softmax\n",
    "# because K.softmax can not specify axis.\n",
    "def softmax(x, axis=-1):\n",
    "    ex = K.exp(x - K.max(x, axis=axis, keepdims=True))\n",
    "    return ex / K.sum(ex, axis=axis, keepdims=True)\n",
    "\n",
    "\n",
    "# define the margin loss like hinge loss\n",
    "def margin_loss(y_true, y_pred):\n",
    "    lamb, margin = 0.5, 0.1\n",
    "    return K.sum(y_true * K.square(K.relu(1 - margin - y_pred)) + lamb * (\n",
    "        1 - y_true) * K.square(K.relu(y_pred - margin)), axis=-1)\n",
    "\n",
    "\n",
    "class Capsule(Layer):\n",
    "    \"\"\"A Capsule Implement with Pure Keras\n",
    "    There are two vesions of Capsule.\n",
    "    One is like dense layer (for the fixed-shape input),\n",
    "    and the other is like timedistributed dense (for various length input).\n",
    "\n",
    "    The input shape of Capsule must be (batch_size,\n",
    "                                        input_num_capsule,\n",
    "                                        input_dim_capsule\n",
    "                                       )\n",
    "    and the output shape is (batch_size,\n",
    "                             num_capsule,\n",
    "                             dim_capsule\n",
    "                            )\n",
    "\n",
    "    Capsule Implement is from https://github.com/bojone/Capsule/\n",
    "    Capsule Paper: https://arxiv.org/abs/1710.09829\n",
    "    \"\"\"\n",
    "\n",
    "    def __init__(self,\n",
    "                 num_capsule,\n",
    "                 dim_capsule,\n",
    "                 routings=3,\n",
    "                 share_weights=True,\n",
    "                 activation='squash',\n",
    "                 **kwargs):\n",
    "        super(Capsule, self).__init__(**kwargs)\n",
    "        self.num_capsule = num_capsule\n",
    "        self.dim_capsule = dim_capsule\n",
    "        self.routings = routings\n",
    "        self.share_weights = share_weights\n",
    "        if activation == 'squash':\n",
    "            self.activation = squash\n",
    "        else:\n",
    "            self.activation = activations.get(activation)\n",
    "\n",
    "    def build(self, input_shape):\n",
    "        input_dim_capsule = input_shape[-1]\n",
    "        if self.share_weights:\n",
    "            self.kernel = self.add_weight(\n",
    "                name='capsule_kernel',\n",
    "                shape=(1, input_dim_capsule,\n",
    "                       self.num_capsule * self.dim_capsule),\n",
    "                initializer='glorot_uniform',\n",
    "                trainable=True)\n",
    "        else:\n",
    "            input_num_capsule = input_shape[-2]\n",
    "            self.kernel = self.add_weight(\n",
    "                name='capsule_kernel',\n",
    "                shape=(input_num_capsule, input_dim_capsule,\n",
    "                       self.num_capsule * self.dim_capsule),\n",
    "                initializer='glorot_uniform',\n",
    "                trainable=True)\n",
    "\n",
    "    def call(self, inputs):\n",
    "        \"\"\"Following the routing algorithm from Hinton's paper,\n",
    "        but replace b = b + <u,v> with b = <u,v>.\n",
    "\n",
    "        This change can improve the feature representation of Capsule.\n",
    "\n",
    "        However, you can replace\n",
    "            b = K.batch_dot(outputs, hat_inputs, [2, 3])\n",
    "        with\n",
    "            b += K.batch_dot(outputs, hat_inputs, [2, 3])\n",
    "        to realize a standard routing.\n",
    "        \"\"\"\n",
    "\n",
    "        if self.share_weights:\n",
    "            hat_inputs = K.conv1d(inputs, self.kernel)\n",
    "        else:\n",
    "            hat_inputs = K.local_conv1d(inputs, self.kernel, [1], [1])\n",
    "\n",
    "        batch_size = K.shape(inputs)[0]\n",
    "        input_num_capsule = K.shape(inputs)[1]\n",
    "        hat_inputs = K.reshape(hat_inputs,\n",
    "                               (batch_size, input_num_capsule,\n",
    "                                self.num_capsule, self.dim_capsule))\n",
    "        hat_inputs = K.permute_dimensions(hat_inputs, (0, 2, 1, 3))\n",
    "\n",
    "        b = K.zeros_like(hat_inputs[:, :, :, 0])\n",
    "        for i in range(self.routings):\n",
    "            c = softmax(b, 1)\n",
    "            o = self.activation(K.batch_dot(c, hat_inputs, [2, 2]))\n",
    "            if i < self.routings - 1:\n",
    "                b = K.batch_dot(o, hat_inputs, [2, 3])\n",
    "                if K.backend() == 'theano':\n",
    "                    o = K.sum(o, axis=1)\n",
    "\n",
    "        return o\n",
    "\n",
    "    def compute_output_shape(self, input_shape):\n",
    "        return (None, self.num_capsule, self.dim_capsule)"
   ]
  },
  {
   "cell_type": "code",
   "execution_count": 9,
   "metadata": {},
   "outputs": [
    {
     "name": "stdout",
     "output_type": "stream",
     "text": [
      "WARNING:tensorflow:From C:\\Users\\ASUS\\Anaconda3\\envs\\tensorflow-gpu\\lib\\site-packages\\tensorflow\\python\\framework\\op_def_library.py:263: colocate_with (from tensorflow.python.framework.ops) is deprecated and will be removed in a future version.\n",
      "Instructions for updating:\n",
      "Colocations handled automatically by placer.\n",
      "WARNING:tensorflow:From C:\\Users\\ASUS\\Anaconda3\\envs\\tensorflow-gpu\\lib\\site-packages\\keras\\backend\\tensorflow_backend.py:3445: calling dropout (from tensorflow.python.ops.nn_ops) with keep_prob is deprecated and will be removed in a future version.\n",
      "Instructions for updating:\n",
      "Please use `rate` instead of `keep_prob`. Rate should be set to `rate = 1 - keep_prob`.\n",
      "_________________________________________________________________\n",
      "Layer (type)                 Output Shape              Param #   \n",
      "=================================================================\n",
      "input_1 (InputLayer)         (None, 28, 28, 1)         0         \n",
      "_________________________________________________________________\n",
      "conv2d_1 (Conv2D)            (None, 26, 26, 300)       3000      \n",
      "_________________________________________________________________\n",
      "dropout_1 (Dropout)          (None, 26, 26, 300)       0         \n",
      "_________________________________________________________________\n",
      "reshape_1 (Reshape)          (None, 676, 300)          0         \n",
      "_________________________________________________________________\n",
      "capsule_1 (Capsule)          (None, 10, 16)            48000     \n",
      "_________________________________________________________________\n",
      "lambda_1 (Lambda)            (None, 10)                0         \n",
      "=================================================================\n",
      "Total params: 51,000\n",
      "Trainable params: 51,000\n",
      "Non-trainable params: 0\n",
      "_________________________________________________________________\n"
     ]
    }
   ],
   "source": [
    "\"\"\"one-CONV-LAYERS-THICK\"\"\"\n",
    "input_image = Input(shape=(x_train.shape[1], x_train.shape[2], x_train.shape[3]))\n",
    "x_0 = Conv2D(filters= 300, kernel_size= 3, activation='relu', \n",
    "             padding= 'valid')(input_image)\n",
    "x_0= Dropout(0.1)(x_0)\n",
    "\n",
    "\n",
    "\"\"\"now we reshape it as (batch_size, input_num_capsule, input_dim_capsule)\n",
    "then connect a Capsule layer.\n",
    "\n",
    "the output of final model is the lengths of 10 Capsule, whose dim=16.\n",
    "\n",
    "the length of Capsule is the proba,\n",
    "so the problem becomes a 10 two-classification problem.\n",
    "\"\"\"\n",
    "\n",
    "x_0 = Reshape((-1, 300))(x_0)\n",
    "capsule_0 = Capsule(num_classes, 16, 3, True)(x_0)\n",
    "output_0 = Lambda(lambda z: K.sqrt(K.sum(K.square(z), 2)))(capsule_0)\n",
    "model_0 = Model(inputs= input_image, outputs= output_0)\n",
    "\n",
    "# we use a margin loss\n",
    "model_0.compile(loss =margin_loss, optimizer='adam', metrics=['accuracy'])\n",
    "model_0.summary()\n",
    "\n",
    "# we can compare the performance with or without data augmentation\n",
    "data_augmentation = False"
   ]
  },
  {
   "cell_type": "code",
   "execution_count": 10,
   "metadata": {},
   "outputs": [
    {
     "name": "stdout",
     "output_type": "stream",
     "text": [
      "_________________________________________________________________\n",
      "Layer (type)                 Output Shape              Param #   \n",
      "=================================================================\n",
      "input_2 (InputLayer)         (None, 28, 28, 1)         0         \n",
      "_________________________________________________________________\n",
      "conv2d_2 (Conv2D)            (None, 26, 26, 20)        200       \n",
      "_________________________________________________________________\n",
      "dropout_2 (Dropout)          (None, 26, 26, 20)        0         \n",
      "_________________________________________________________________\n",
      "conv2d_3 (Conv2D)            (None, 24, 24, 150)       27150     \n",
      "_________________________________________________________________\n",
      "dropout_3 (Dropout)          (None, 24, 24, 150)       0         \n",
      "_________________________________________________________________\n",
      "reshape_2 (Reshape)          (None, 576, 150)          0         \n",
      "_________________________________________________________________\n",
      "capsule_2 (Capsule)          (None, 10, 16)            24000     \n",
      "_________________________________________________________________\n",
      "lambda_2 (Lambda)            (None, 10)                0         \n",
      "=================================================================\n",
      "Total params: 51,350\n",
      "Trainable params: 51,350\n",
      "Non-trainable params: 0\n",
      "_________________________________________________________________\n"
     ]
    }
   ],
   "source": [
    "\"\"\"two-CONV-LAYERS-THICK\"\"\"\n",
    "input_image = Input(shape=(x_train.shape[1], x_train.shape[2], x_train.shape[3]))\n",
    "x_1 = Conv2D(filters= 20, kernel_size= 3, activation='relu', \n",
    "             padding= 'valid')(input_image)\n",
    "x_1= Dropout(0.1)(x_1)\n",
    "x_1 = Conv2D(filters= 150, kernel_size= 3, activation='relu',\n",
    "             strides= 1)(x_1)\n",
    "x_1 = Dropout(0.1)(x_1)\n",
    "\n",
    "\n",
    "\"\"\"now we reshape it as (batch_size, input_num_capsule, input_dim_capsule)\n",
    "then connect a Capsule layer.\n",
    "\n",
    "the output of final model is the lengths of 10 Capsule, whose dim=16.\n",
    "\n",
    "the length of Capsule is the proba,\n",
    "so the problem becomes a 10 two-classification problem.\n",
    "\"\"\"\n",
    "\n",
    "x_1 = Reshape((-1, 150))(x_1)\n",
    "capsule_1 = Capsule(num_classes, 16, 3, True)(x_1)\n",
    "output_1 = Lambda(lambda z: K.sqrt(K.sum(K.square(z), 2)))(capsule_1)\n",
    "model_1= Model(inputs= input_image, outputs= output_1)\n",
    "\n",
    "# we use a margin loss\n",
    "model_1.compile(loss =margin_loss, optimizer='adam', metrics=['accuracy'])\n",
    "model_1.summary()\n",
    "\n",
    "# we can compare the performance with or without data augmentation\n",
    "data_augmentation = False"
   ]
  },
  {
   "cell_type": "code",
   "execution_count": 11,
   "metadata": {},
   "outputs": [
    {
     "name": "stdout",
     "output_type": "stream",
     "text": [
      "_________________________________________________________________\n",
      "Layer (type)                 Output Shape              Param #   \n",
      "=================================================================\n",
      "input_3 (InputLayer)         (None, 28, 28, 1)         0         \n",
      "_________________________________________________________________\n",
      "conv2d_4 (Conv2D)            (None, 26, 26, 20)        200       \n",
      "_________________________________________________________________\n",
      "dropout_4 (Dropout)          (None, 26, 26, 20)        0         \n",
      "_________________________________________________________________\n",
      "conv2d_5 (Conv2D)            (None, 24, 24, 55)        9955      \n",
      "_________________________________________________________________\n",
      "dropout_5 (Dropout)          (None, 24, 24, 55)        0         \n",
      "_________________________________________________________________\n",
      "conv2d_6 (Conv2D)            (None, 22, 22, 62)        30752     \n",
      "_________________________________________________________________\n",
      "dropout_6 (Dropout)          (None, 22, 22, 62)        0         \n",
      "_________________________________________________________________\n",
      "reshape_3 (Reshape)          (None, 484, 62)           0         \n",
      "_________________________________________________________________\n",
      "capsule_3 (Capsule)          (None, 10, 16)            9920      \n",
      "_________________________________________________________________\n",
      "lambda_3 (Lambda)            (None, 10)                0         \n",
      "=================================================================\n",
      "Total params: 50,827\n",
      "Trainable params: 50,827\n",
      "Non-trainable params: 0\n",
      "_________________________________________________________________\n"
     ]
    }
   ],
   "source": [
    "\"\"\"three-CONV-LAYERS-THICK\"\"\"\n",
    "input_image = Input(shape=(x_train.shape[1], x_train.shape[2], x_train.shape[3]))\n",
    "x_2 = Conv2D(filters= 20, kernel_size= 3, activation='relu', \n",
    "             padding= 'valid')(input_image)\n",
    "x_2=  Dropout(0.1)(x_2)\n",
    "x_2 = Conv2D(filters= 55, kernel_size= 3, activation='relu',\n",
    "             strides= 1)(x_2)\n",
    "x_2 = Dropout(0.1)(x_2)\n",
    "x_2 = Conv2D(filters= 62, kernel_size= 3, activation='relu',\n",
    "             strides= 1)(x_2)\n",
    "x_2 = Dropout(0.1)(x_2)\n",
    "\n",
    "\n",
    "\"\"\"now we reshape it as (batch_size, input_num_capsule, input_dim_capsule)\n",
    "then connect a Capsule layer.\n",
    "\n",
    "the output of final model is the lengths of 10 Capsule, whose dim=16.\n",
    "\n",
    "the length of Capsule is the proba,\n",
    "so the problem becomes a 10 two-classification problem.\n",
    "\"\"\"\n",
    "\n",
    "x_2 = Reshape((-1, 62))(x_2)\n",
    "capsule_2 = Capsule(num_classes, 16, 3, True)(x_2)\n",
    "output_2 = Lambda(lambda z: K.sqrt(K.sum(K.square(z), 2)))(capsule_2)\n",
    "model_2= Model(inputs= input_image, outputs= output_2)\n",
    "\n",
    "# we use a margin loss\n",
    "model_2.compile(loss =margin_loss, optimizer='adam', metrics=['accuracy'])\n",
    "model_2.summary()\n",
    "\n",
    "# we can compare the performance with or without data augmentation\n",
    "data_augmentation = False"
   ]
  },
  {
   "cell_type": "code",
   "execution_count": 12,
   "metadata": {},
   "outputs": [
    {
     "name": "stdout",
     "output_type": "stream",
     "text": [
      "_________________________________________________________________\n",
      "Layer (type)                 Output Shape              Param #   \n",
      "=================================================================\n",
      "input_4 (InputLayer)         (None, 28, 28, 1)         0         \n",
      "_________________________________________________________________\n",
      "conv2d_7 (Conv2D)            (None, 26, 26, 20)        200       \n",
      "_________________________________________________________________\n",
      "dropout_7 (Dropout)          (None, 26, 26, 20)        0         \n",
      "_________________________________________________________________\n",
      "conv2d_8 (Conv2D)            (None, 24, 24, 35)        6335      \n",
      "_________________________________________________________________\n",
      "dropout_8 (Dropout)          (None, 24, 24, 35)        0         \n",
      "_________________________________________________________________\n",
      "conv2d_9 (Conv2D)            (None, 22, 22, 45)        14220     \n",
      "_________________________________________________________________\n",
      "dropout_9 (Dropout)          (None, 22, 22, 45)        0         \n",
      "_________________________________________________________________\n",
      "conv2d_10 (Conv2D)           (None, 20, 20, 55)        22330     \n",
      "_________________________________________________________________\n",
      "dropout_10 (Dropout)         (None, 20, 20, 55)        0         \n",
      "_________________________________________________________________\n",
      "reshape_4 (Reshape)          (None, 400, 55)           0         \n",
      "_________________________________________________________________\n",
      "capsule_4 (Capsule)          (None, 10, 16)            8800      \n",
      "_________________________________________________________________\n",
      "lambda_4 (Lambda)            (None, 10)                0         \n",
      "=================================================================\n",
      "Total params: 51,885\n",
      "Trainable params: 51,885\n",
      "Non-trainable params: 0\n",
      "_________________________________________________________________\n"
     ]
    }
   ],
   "source": [
    "\"\"\"four-CONV-LAYERS-THICK\"\"\"\n",
    "input_image = Input(shape=(x_train.shape[1], x_train.shape[2], x_train.shape[3]))\n",
    "x_3 = Conv2D(filters= 20, kernel_size= 3, activation='relu', \n",
    "             padding= 'valid')(input_image)\n",
    "x_3= Dropout(0.1)(x_3)\n",
    "x_3 = Conv2D(filters= 35,kernel_size= 3, activation='relu',\n",
    "             strides= 1)(x_3)\n",
    "x_3 = Dropout(0.1)(x_3)\n",
    "x_3 = Conv2D(filters= 45 , kernel_size= 3, activation='relu',\n",
    "             strides= 1)(x_3)\n",
    "x_3= Dropout(0.1)(x_3)\n",
    "x_3 = Conv2D(filters= 55, kernel_size= 3, activation='relu',\n",
    "             strides= 1)(x_3)\n",
    "x_3= Dropout(0.1)(x_3)\n",
    "\n",
    "\n",
    "\"\"\"now we reshape it as (batch_size, input_num_capsule, input_dim_capsule)\n",
    "then connect a Capsule layer.\n",
    "\n",
    "the output of final model is the lengths of 10 Capsule, whose dim=16.\n",
    "\n",
    "the length of Capsule is the proba,\n",
    "so the problem becomes a 10 two-classification problem.\n",
    "\"\"\"\n",
    "\n",
    "x_3 = Reshape((-1, 55))(x_3)\n",
    "capsule_3 = Capsule(num_classes, 16, 3, True)(x_3)\n",
    "output_3 = Lambda(lambda z: K.sqrt(K.sum(K.square(z), 2)))(capsule_3)\n",
    "model_3= Model(inputs= input_image, outputs= output_3)\n",
    "\n",
    "# we use a margin loss\n",
    "model_3.compile(loss =margin_loss, optimizer='adam', metrics=['accuracy'])\n",
    "model_3.summary()\n",
    "\n",
    "# we can compare the performance with or without data augmentation\n",
    "data_augmentation = False"
   ]
  },
  {
   "cell_type": "code",
   "execution_count": 13,
   "metadata": {},
   "outputs": [
    {
     "name": "stdout",
     "output_type": "stream",
     "text": [
      "_________________________________________________________________\n",
      "Layer (type)                 Output Shape              Param #   \n",
      "=================================================================\n",
      "input_5 (InputLayer)         (None, 28, 28, 1)         0         \n",
      "_________________________________________________________________\n",
      "conv2d_11 (Conv2D)           (None, 26, 26, 20)        200       \n",
      "_________________________________________________________________\n",
      "dropout_11 (Dropout)         (None, 26, 26, 20)        0         \n",
      "_________________________________________________________________\n",
      "conv2d_12 (Conv2D)           (None, 12, 12, 30)        5430      \n",
      "_________________________________________________________________\n",
      "dropout_12 (Dropout)         (None, 12, 12, 30)        0         \n",
      "_________________________________________________________________\n",
      "conv2d_13 (Conv2D)           (None, 10, 10, 30)        8130      \n",
      "_________________________________________________________________\n",
      "dropout_13 (Dropout)         (None, 10, 10, 30)        0         \n",
      "_________________________________________________________________\n",
      "conv2d_14 (Conv2D)           (None, 8, 8, 35)          9485      \n",
      "_________________________________________________________________\n",
      "dropout_14 (Dropout)         (None, 8, 8, 35)          0         \n",
      "_________________________________________________________________\n",
      "conv2d_15 (Conv2D)           (None, 6, 6, 57)          18012     \n",
      "_________________________________________________________________\n",
      "dropout_15 (Dropout)         (None, 6, 6, 57)          0         \n",
      "_________________________________________________________________\n",
      "reshape_5 (Reshape)          (None, 36, 57)            0         \n",
      "_________________________________________________________________\n",
      "capsule_5 (Capsule)          (None, 10, 16)            9120      \n",
      "_________________________________________________________________\n",
      "lambda_5 (Lambda)            (None, 10)                0         \n",
      "=================================================================\n",
      "Total params: 50,377\n",
      "Trainable params: 50,377\n",
      "Non-trainable params: 0\n",
      "_________________________________________________________________\n"
     ]
    }
   ],
   "source": [
    "\"\"\"five-CONV-LAYERS-THICK\"\"\"\n",
    "input_image = Input(shape=(x_train.shape[1], x_train.shape[2], x_train.shape[3]))\n",
    "x_4 = Conv2D(filters= 20, kernel_size= 3, activation='relu', \n",
    "             padding= 'valid')(input_image)\n",
    "x_4= Dropout(0.1)(x_4)\n",
    "x_4 = Conv2D(filters= 30 ,kernel_size= 3, activation='relu',\n",
    "             strides= 2)(x_4)\n",
    "x_4 = Dropout(0.1)(x_4)\n",
    "x_4 = Conv2D(filters= 30 , kernel_size= 3, activation='relu',\n",
    "             strides= 1)(x_4)\n",
    "x_4= Dropout(0.1)(x_4)\n",
    "x_4 = Conv2D(filters= 35,kernel_size= 3, activation='relu',\n",
    "             strides= 1)(x_4)\n",
    "x_4= Dropout(0.1)(x_4)\n",
    "x_4 = Conv2D(filters= 57,kernel_size= 3, activation='relu',\n",
    "             strides= 1)(x_4)\n",
    "x_4= Dropout(0.1)(x_4)\n",
    "\n",
    "\"\"\"now we reshape it as (batch_size, input_num_capsule, input_dim_capsule)\n",
    "then connect a Capsule layer.\n",
    "\n",
    "the output of final model is the lengths of 10 Capsule, whose dim=16.\n",
    "\n",
    "the length of Capsule is the proba,\n",
    "so the problem becomes a 10 two-classification problem.\n",
    "\"\"\"\n",
    "\n",
    "x_4 = Reshape((-1, 57))(x_4)\n",
    "capsule_4 = Capsule(num_classes, 16, 3, True)(x_4)\n",
    "output_4 = Lambda(lambda z: K.sqrt(K.sum(K.square(z), 2)))(capsule_4)\n",
    "model_4= Model(inputs= input_image, outputs= output_4)\n",
    "\n",
    "# we use a margin loss\n",
    "model_4.compile(loss =margin_loss, optimizer='adam', metrics=['accuracy'])\n",
    "model_4.summary()\n",
    "\n",
    "# we can compare the performance with or without data augmentation\n",
    "data_augmentation = False"
   ]
  },
  {
   "cell_type": "code",
   "execution_count": 14,
   "metadata": {},
   "outputs": [
    {
     "name": "stdout",
     "output_type": "stream",
     "text": [
      "_________________________________________________________________\n",
      "Layer (type)                 Output Shape              Param #   \n",
      "=================================================================\n",
      "input_6 (InputLayer)         (None, 28, 28, 1)         0         \n",
      "_________________________________________________________________\n",
      "conv2d_16 (Conv2D)           (None, 26, 26, 20)        200       \n",
      "_________________________________________________________________\n",
      "dropout_16 (Dropout)         (None, 26, 26, 20)        0         \n",
      "_________________________________________________________________\n",
      "conv2d_17 (Conv2D)           (None, 12, 12, 25)        4525      \n",
      "_________________________________________________________________\n",
      "dropout_17 (Dropout)         (None, 12, 12, 25)        0         \n",
      "_________________________________________________________________\n",
      "conv2d_18 (Conv2D)           (None, 10, 10, 30)        6780      \n",
      "_________________________________________________________________\n",
      "dropout_18 (Dropout)         (None, 10, 10, 30)        0         \n",
      "_________________________________________________________________\n",
      "conv2d_19 (Conv2D)           (None, 8, 8, 30)          8130      \n",
      "_________________________________________________________________\n",
      "dropout_19 (Dropout)         (None, 8, 8, 30)          0         \n",
      "_________________________________________________________________\n",
      "conv2d_20 (Conv2D)           (None, 6, 6, 35)          9485      \n",
      "_________________________________________________________________\n",
      "dropout_20 (Dropout)         (None, 6, 6, 35)          0         \n",
      "_________________________________________________________________\n",
      "conv2d_21 (Conv2D)           (None, 4, 4, 45)          14220     \n",
      "_________________________________________________________________\n",
      "dropout_21 (Dropout)         (None, 4, 4, 45)          0         \n",
      "_________________________________________________________________\n",
      "reshape_6 (Reshape)          (None, 16, 45)            0         \n",
      "_________________________________________________________________\n",
      "capsule_6 (Capsule)          (None, 10, 16)            7200      \n",
      "_________________________________________________________________\n",
      "lambda_6 (Lambda)            (None, 10)                0         \n",
      "=================================================================\n",
      "Total params: 50,540\n",
      "Trainable params: 50,540\n",
      "Non-trainable params: 0\n",
      "_________________________________________________________________\n"
     ]
    }
   ],
   "source": [
    "\"\"\"six-CONV-LAYERS-THICK\"\"\"\n",
    "input_image = Input(shape=(x_train.shape[1], x_train.shape[2], x_train.shape[3]))\n",
    "x_5 = Conv2D(filters= 20, kernel_size= 3, activation='relu', \n",
    "             padding= 'valid')(input_image)\n",
    "x_5= Dropout(0.1)(x_5)\n",
    "x_5 = Conv2D(filters= 25 ,kernel_size= 3, activation='relu',\n",
    "             strides= 2)(x_5)\n",
    "x_5 = Dropout(0.1)(x_5)\n",
    "x_5 = Conv2D(filters= 30, kernel_size= 3, activation='relu',\n",
    "             strides= 1)(x_5)\n",
    "x_5= Dropout(0.1)(x_5)\n",
    "x_5 = Conv2D(filters= 30,kernel_size= 3, activation='relu',\n",
    "             strides= 1)(x_5)\n",
    "x_5= Dropout(0.1)(x_5)\n",
    "x_5 = Conv2D(filters= 35,kernel_size= 3, activation='relu',\n",
    "             strides= 1)(x_5)\n",
    "x_5= Dropout(0.1)(x_5)\n",
    "x_5 = Conv2D(filters= 45,kernel_size= 3, activation='relu',\n",
    "             strides= 1)(x_5)\n",
    "x_5= Dropout(0.1)(x_5)\n",
    "\n",
    "\"\"\"now we reshape it as (batch_size, input_num_capsule, input_dim_capsule)\n",
    "then connect a Capsule layer.\n",
    "\n",
    "the output of final model is the lengths of 10 Capsule, whose dim=16.\n",
    "\n",
    "the length of Capsule is the proba,\n",
    "so the problem becomes a 10 two-classification problem.\n",
    "\"\"\"\n",
    "\n",
    "x_5 = Reshape((-1, 45))(x_5)\n",
    "capsule_5 = Capsule(num_classes, 16, 3, True)(x_5)\n",
    "output_5 = Lambda(lambda z: K.sqrt(K.sum(K.square(z), 2)))(capsule_5)\n",
    "model_5= Model(inputs= input_image, outputs= output_5)\n",
    "\n",
    "# we use a margin loss\n",
    "model_5.compile(loss =margin_loss, optimizer='adam', metrics=['accuracy'])\n",
    "model_5.summary()\n",
    "\n",
    "# we can compare the performance with or without data augmentation\n",
    "data_augmentation = False"
   ]
  },
  {
   "cell_type": "code",
   "execution_count": 15,
   "metadata": {},
   "outputs": [
    {
     "name": "stdout",
     "output_type": "stream",
     "text": [
      "_________________________________________________________________\n",
      "Layer (type)                 Output Shape              Param #   \n",
      "=================================================================\n",
      "input_7 (InputLayer)         (None, 28, 28, 1)         0         \n",
      "_________________________________________________________________\n",
      "conv2d_22 (Conv2D)           (None, 26, 26, 20)        200       \n",
      "_________________________________________________________________\n",
      "dropout_22 (Dropout)         (None, 26, 26, 20)        0         \n",
      "_________________________________________________________________\n",
      "conv2d_23 (Conv2D)           (None, 26, 26, 20)        3620      \n",
      "_________________________________________________________________\n",
      "dropout_23 (Dropout)         (None, 26, 26, 20)        0         \n",
      "_________________________________________________________________\n",
      "conv2d_24 (Conv2D)           (None, 12, 12, 25)        4525      \n",
      "_________________________________________________________________\n",
      "dropout_24 (Dropout)         (None, 12, 12, 25)        0         \n",
      "_________________________________________________________________\n",
      "conv2d_25 (Conv2D)           (None, 10, 10, 30)        6780      \n",
      "_________________________________________________________________\n",
      "dropout_25 (Dropout)         (None, 10, 10, 30)        0         \n",
      "_________________________________________________________________\n",
      "conv2d_26 (Conv2D)           (None, 10, 10, 30)        8130      \n",
      "_________________________________________________________________\n",
      "dropout_26 (Dropout)         (None, 10, 10, 30)        0         \n",
      "_________________________________________________________________\n",
      "conv2d_27 (Conv2D)           (None, 8, 8, 40)          10840     \n",
      "_________________________________________________________________\n",
      "dropout_27 (Dropout)         (None, 8, 8, 40)          0         \n",
      "_________________________________________________________________\n",
      "conv2d_28 (Conv2D)           (None, 6, 6, 40)          14440     \n",
      "_________________________________________________________________\n",
      "dropout_28 (Dropout)         (None, 6, 6, 40)          0         \n",
      "_________________________________________________________________\n",
      "reshape_7 (Reshape)          (None, 36, 40)            0         \n",
      "_________________________________________________________________\n",
      "capsule_7 (Capsule)          (None, 10, 16)            6400      \n",
      "_________________________________________________________________\n",
      "lambda_7 (Lambda)            (None, 10)                0         \n",
      "=================================================================\n",
      "Total params: 54,935\n",
      "Trainable params: 54,935\n",
      "Non-trainable params: 0\n",
      "_________________________________________________________________\n"
     ]
    }
   ],
   "source": [
    "\"\"\"seven-CONV-LAYERS-THICK\"\"\"\n",
    "input_image = Input(shape=(x_train.shape[1], x_train.shape[2], x_train.shape[3]))\n",
    "x_6 = Conv2D(filters= 20, kernel_size= 3, activation='relu', \n",
    "             padding= 'valid')(input_image)\n",
    "x_6= Dropout(0.1)(x_6)\n",
    "x_6 = Conv2D(filters= 20 ,kernel_size= 3, activation='relu',\n",
    "             padding= 'same')(x_6)\n",
    "x_6 = Dropout(0.1)(x_6)\n",
    "x_6 = Conv2D(filters= 25, kernel_size= 3, activation='relu',\n",
    "             strides= 2)(x_6)\n",
    "x_6= Dropout(0.1)(x_6)\n",
    "x_6 = Conv2D(filters= 30,kernel_size= 3, activation='relu',\n",
    "             strides= 1)(x_6)\n",
    "x_6= Dropout(0.1)(x_6)\n",
    "x_6 = Conv2D(filters= 30,kernel_size= 3, activation='relu',\n",
    "             padding= 'same')(x_6)\n",
    "x_6= Dropout(0.1)(x_6)\n",
    "x_6 = Conv2D(filters= 40,kernel_size= 3, activation='relu',\n",
    "             strides= 1)(x_6)\n",
    "x_6= Dropout(0.1)(x_6)\n",
    "x_6 = Conv2D(filters= 40,kernel_size= 3, activation='relu',\n",
    "             strides= 1)(x_6)\n",
    "x_6= Dropout(0.1)(x_6)\n",
    "\n",
    "\"\"\"now we reshape it as (batch_size, input_num_capsule, input_dim_capsule)\n",
    "then connect a Capsule layer.\n",
    "\n",
    "the output of final model is the lengths of 10 Capsule, whose dim=16.\n",
    "\n",
    "the length of Capsule is the proba,\n",
    "so the problem becomes a 10 two-classification problem.\n",
    "\"\"\"\n",
    "\n",
    "x_6 = Reshape((-1, 40))(x_6)\n",
    "capsule_6 = Capsule(num_classes, 16, 3, True)(x_6)\n",
    "output_6 = Lambda(lambda z: K.sqrt(K.sum(K.square(z), 2)))(capsule_6)\n",
    "model_6= Model(inputs= input_image, outputs= output_6)\n",
    "\n",
    "# we use a margin loss\n",
    "model_6.compile(loss =margin_loss, optimizer='adam', metrics=['accuracy'])\n",
    "model_6.summary()\n",
    "\n",
    "# we can compare the performance with or without data augmentation\n",
    "data_augmentation = False"
   ]
  },
  {
   "cell_type": "code",
   "execution_count": 16,
   "metadata": {},
   "outputs": [
    {
     "name": "stdout",
     "output_type": "stream",
     "text": [
      "_________________________________________________________________\n",
      "Layer (type)                 Output Shape              Param #   \n",
      "=================================================================\n",
      "conv2d_29 (Conv2D)           (None, 26, 26, 10)        100       \n",
      "_________________________________________________________________\n",
      "max_pooling2d_1 (MaxPooling2 (None, 13, 13, 10)        0         \n",
      "_________________________________________________________________\n",
      "conv2d_30 (Conv2D)           (None, 11, 11, 20)        1820      \n",
      "_________________________________________________________________\n",
      "dropout_29 (Dropout)         (None, 11, 11, 20)        0         \n",
      "_________________________________________________________________\n",
      "max_pooling2d_2 (MaxPooling2 (None, 5, 5, 20)          0         \n",
      "_________________________________________________________________\n",
      "flatten_1 (Flatten)          (None, 500)               0         \n",
      "_________________________________________________________________\n",
      "dropout_30 (Dropout)         (None, 500)               0         \n",
      "_________________________________________________________________\n",
      "dense_1 (Dense)              (None, 256)               128256    \n",
      "_________________________________________________________________\n",
      "dense_2 (Dense)              (None, 10)                2570      \n",
      "=================================================================\n",
      "Total params: 132,746\n",
      "Trainable params: 132,746\n",
      "Non-trainable params: 0\n",
      "_________________________________________________________________\n",
      "None\n"
     ]
    }
   ],
   "source": [
    "\"\"\"CNN-3-CONV-LAYERS\"\"\"\n",
    "from keras.models import Sequential\n",
    "from keras.layers import Dense, Dropout, Activation, Flatten, Conv2D, MaxPooling2D, \\\n",
    "                         ZeroPadding2D\n",
    "\n",
    "model_7= Sequential()\n",
    "model_7.add(Conv2D(filters= 10, kernel_size= (3, 3), padding= 'valid', \n",
    "                   input_shape=(x_train.shape[1], x_train.shape[2], x_train.shape[3]), \n",
    "                   activation='relu'))\n",
    "model_7.add(MaxPooling2D(pool_size=(2,2)))\n",
    "model_7.add(Conv2D(filters= 20, kernel_size= (3, 3), \n",
    "                    padding= 'valid', activation='relu'))\n",
    "model_7.add(Dropout(0.4))\n",
    "model_7.add(MaxPooling2D(pool_size=(2,2)))\n",
    "\n",
    "model_7.add(Flatten())\n",
    "model_7.add(Dropout(0.5))\n",
    "model_7.add(Dense(256, activation='relu'))\n",
    "model_7.add(Dense(num_classes, activation='softmax'))\n",
    "print(model_7.summary())"
   ]
  },
  {
   "cell_type": "code",
   "execution_count": 17,
   "metadata": {},
   "outputs": [
    {
     "name": "stdout",
     "output_type": "stream",
     "text": [
      "Not using data augmentation.\n",
      "WARNING:tensorflow:From C:\\Users\\ASUS\\Anaconda3\\envs\\tensorflow-gpu\\lib\\site-packages\\tensorflow\\python\\ops\\math_ops.py:3066: to_int32 (from tensorflow.python.ops.math_ops) is deprecated and will be removed in a future version.\n",
      "Instructions for updating:\n",
      "Use tf.cast instead.\n",
      "WARNING:tensorflow:From C:\\Users\\ASUS\\Anaconda3\\envs\\tensorflow-gpu\\lib\\site-packages\\tensorflow\\python\\ops\\math_grad.py:102: div (from tensorflow.python.ops.math_ops) is deprecated and will be removed in a future version.\n",
      "Instructions for updating:\n",
      "Deprecated in favor of operator or tf.math.divide.\n",
      "Train on 54546 samples, validate on 5454 samples\n",
      "Epoch 1/30\n",
      "54546/54546 [==============================] - 23s 422us/step - loss: 0.4386 - acc: 0.4128 - val_loss: 0.3727 - val_acc: 0.4791\n",
      "Epoch 2/30\n",
      "54546/54546 [==============================] - 20s 374us/step - loss: 0.3591 - acc: 0.5560 - val_loss: 0.3417 - val_acc: 0.6014\n",
      "Epoch 3/30\n",
      "54546/54546 [==============================] - 21s 378us/step - loss: 0.3334 - acc: 0.6219 - val_loss: 0.3161 - val_acc: 0.6652\n",
      "Epoch 4/30\n",
      "54546/54546 [==============================] - 20s 373us/step - loss: 0.3165 - acc: 0.6609 - val_loss: 0.3010 - val_acc: 0.6907\n",
      "Epoch 5/30\n",
      "54546/54546 [==============================] - 20s 371us/step - loss: 0.3077 - acc: 0.6770 - val_loss: 0.2939 - val_acc: 0.7127\n",
      "Epoch 6/30\n",
      "54546/54546 [==============================] - 20s 371us/step - loss: 0.2969 - acc: 0.6976 - val_loss: 0.3002 - val_acc: 0.7041\n",
      "Epoch 7/30\n",
      "54546/54546 [==============================] - 20s 372us/step - loss: 0.2908 - acc: 0.7061 - val_loss: 0.2864 - val_acc: 0.7164\n",
      "Epoch 8/30\n",
      "54546/54546 [==============================] - 20s 374us/step - loss: 0.2865 - acc: 0.7119 - val_loss: 0.2809 - val_acc: 0.7175\n",
      "Epoch 9/30\n",
      "54546/54546 [==============================] - 21s 376us/step - loss: 0.2821 - acc: 0.7198 - val_loss: 0.2713 - val_acc: 0.7660\n",
      "Epoch 10/30\n",
      "54546/54546 [==============================] - 21s 377us/step - loss: 0.2812 - acc: 0.7189 - val_loss: 0.2777 - val_acc: 0.7576\n",
      "Epoch 11/30\n",
      "54546/54546 [==============================] - 21s 387us/step - loss: 0.2772 - acc: 0.7271 - val_loss: 0.2644 - val_acc: 0.7710\n",
      "Epoch 12/30\n",
      "54546/54546 [==============================] - 20s 374us/step - loss: 0.2749 - acc: 0.7323 - val_loss: 0.2682 - val_acc: 0.7567\n",
      "Epoch 13/30\n",
      "54546/54546 [==============================] - 21s 377us/step - loss: 0.2738 - acc: 0.7329 - val_loss: 0.2674 - val_acc: 0.7538\n",
      "Epoch 14/30\n",
      "54546/54546 [==============================] - 20s 373us/step - loss: 0.2722 - acc: 0.7357 - val_loss: 0.2594 - val_acc: 0.7796\n",
      "Epoch 15/30\n",
      "54546/54546 [==============================] - 20s 373us/step - loss: 0.2697 - acc: 0.7410 - val_loss: 0.2578 - val_acc: 0.7660\n",
      "Epoch 16/30\n",
      "54546/54546 [==============================] - 21s 377us/step - loss: 0.2683 - acc: 0.7431 - val_loss: 0.2629 - val_acc: 0.7550\n",
      "Epoch 17/30\n",
      "54546/54546 [==============================] - 21s 377us/step - loss: 0.2663 - acc: 0.7457 - val_loss: 0.2648 - val_acc: 0.7492\n",
      "Epoch 18/30\n",
      "54546/54546 [==============================] - 21s 376us/step - loss: 0.2652 - acc: 0.7482 - val_loss: 0.2560 - val_acc: 0.7776\n",
      "Epoch 19/30\n",
      "54546/54546 [==============================] - 20s 373us/step - loss: 0.2629 - acc: 0.7520 - val_loss: 0.2530 - val_acc: 0.7838\n",
      "Epoch 20/30\n",
      "54546/54546 [==============================] - 20s 373us/step - loss: 0.2613 - acc: 0.7545 - val_loss: 0.2629 - val_acc: 0.7648\n",
      "Epoch 21/30\n",
      "54546/54546 [==============================] - 20s 375us/step - loss: 0.2605 - acc: 0.7536 - val_loss: 0.2583 - val_acc: 0.7484\n",
      "Epoch 22/30\n",
      "54546/54546 [==============================] - 20s 373us/step - loss: 0.2595 - acc: 0.7573 - val_loss: 0.2506 - val_acc: 0.7785\n",
      "Epoch 23/30\n",
      "54546/54546 [==============================] - 20s 373us/step - loss: 0.2584 - acc: 0.7572 - val_loss: 0.2504 - val_acc: 0.7871\n",
      "Epoch 24/30\n",
      "54546/54546 [==============================] - 21s 379us/step - loss: 0.2570 - acc: 0.7608 - val_loss: 0.2471 - val_acc: 0.7890\n",
      "Epoch 25/30\n",
      "54546/54546 [==============================] - 20s 375us/step - loss: 0.2570 - acc: 0.7600 - val_loss: 0.2526 - val_acc: 0.7789\n",
      "Epoch 26/30\n",
      "54546/54546 [==============================] - 22s 398us/step - loss: 0.2550 - acc: 0.7633 - val_loss: 0.2470 - val_acc: 0.7989\n",
      "Epoch 27/30\n",
      "54546/54546 [==============================] - 22s 403us/step - loss: 0.2534 - acc: 0.7662 - val_loss: 0.2460 - val_acc: 0.7921\n",
      "Epoch 28/30\n",
      "54546/54546 [==============================] - 21s 384us/step - loss: 0.2528 - acc: 0.7661 - val_loss: 0.2478 - val_acc: 0.7952\n",
      "Epoch 29/30\n",
      "54546/54546 [==============================] - 21s 377us/step - loss: 0.2515 - acc: 0.7705 - val_loss: 0.2457 - val_acc: 0.7919\n",
      "Epoch 30/30\n",
      "54546/54546 [==============================] - 20s 374us/step - loss: 0.2514 - acc: 0.7702 - val_loss: 0.2440 - val_acc: 0.7978\n"
     ]
    }
   ],
   "source": [
    "\"\"\"one-CONV-LAYERS-THICK\"\"\"\n",
    "if not data_augmentation:\n",
    "    print('Not using data augmentation.')\n",
    "    train_history_0= model_0.fit(\n",
    "        x_train,\n",
    "        y_train,\n",
    "        batch_size=batch_size,\n",
    "        epochs=epochs,\n",
    "        validation_split= Vld_Splt,\n",
    "        shuffle=True)\n",
    "else:\n",
    "    print('Using real-time data augmentation.')\n",
    "    # This will do preprocessing and realtime data augmentation:\n",
    "    datagen = ImageDataGenerator(\n",
    "        featurewise_center=False,  # set input mean to 0 over the dataset\n",
    "        samplewise_center=False,  # set each sample mean to 0\n",
    "        featurewise_std_normalization=False,  # divide inputs by dataset std\n",
    "        samplewise_std_normalization=False,  # divide each input by its std\n",
    "        zca_whitening=False,  # apply ZCA whitening\n",
    "        zca_epsilon=1e-06,  # epsilon for ZCA whitening\n",
    "        rotation_range=0,  # randomly rotate images in 0 to 180 degrees\n",
    "        width_shift_range=0.1,  # randomly shift images horizontally\n",
    "        height_shift_range=0.1,  # randomly shift images vertically\n",
    "        shear_range=0.,  # set range for random shear\n",
    "        zoom_range=0.,  # set range for random zoom\n",
    "        channel_shift_range=0.,  # set range for random channel shifts\n",
    "        # set mode for filling points outside the input boundaries\n",
    "        fill_mode='nearest',\n",
    "        cval=0.,  # value used for fill_mode = \"constant\"\n",
    "        horizontal_flip=True,  # randomly flip images\n",
    "        vertical_flip=False,  # randomly flip images\n",
    "        # set rescaling factor (applied before any other transformation)\n",
    "        rescale=None,\n",
    "        # set function that will be applied on each input\n",
    "        preprocessing_function=None,\n",
    "        # image data format, either \"channels_first\" or \"channels_last\"\n",
    "        data_format=None,\n",
    "        # fraction of images reserved for validation (strictly between 0 and 1)\n",
    "        validation_split=0.0)\n",
    "\n",
    "    # Compute quantities required for feature-wise normalization\n",
    "    # (std, mean, and principal components if ZCA whitening is applied).\n",
    "    datagen.fit(x_train)\n",
    "\n",
    "    # Fit the model on the batches generated by datagen.flow().\n",
    "    train_history_0= model_0.fit_generator(\n",
    "        datagen.flow(x_train, y_train, batch_size=batch_size),\n",
    "        epochs= epochs,\n",
    "        validation_split= Vld_Splt,\n",
    "        steps_per_epoch= int(x_train.shape[0]/ batch_size),\n",
    "        workers=4)"
   ]
  },
  {
   "cell_type": "code",
   "execution_count": 18,
   "metadata": {},
   "outputs": [
    {
     "name": "stdout",
     "output_type": "stream",
     "text": [
      "Not using data augmentation.\n",
      "Train on 54546 samples, validate on 5454 samples\n",
      "Epoch 1/30\n",
      "54546/54546 [==============================] - 16s 291us/step - loss: 0.4323 - acc: 0.4573 - val_loss: 0.3267 - val_acc: 0.6591\n",
      "Epoch 2/30\n",
      "54546/54546 [==============================] - 15s 278us/step - loss: 0.2936 - acc: 0.7069 - val_loss: 0.2579 - val_acc: 0.7692\n",
      "Epoch 3/30\n",
      "54546/54546 [==============================] - 15s 278us/step - loss: 0.2500 - acc: 0.7694 - val_loss: 0.2327 - val_acc: 0.7934\n",
      "Epoch 4/30\n",
      "54546/54546 [==============================] - 15s 278us/step - loss: 0.2336 - acc: 0.7863 - val_loss: 0.2158 - val_acc: 0.8205\n",
      "Epoch 5/30\n",
      "54546/54546 [==============================] - 15s 278us/step - loss: 0.2225 - acc: 0.8005 - val_loss: 0.2070 - val_acc: 0.8203\n",
      "Epoch 6/30\n",
      "54546/54546 [==============================] - 15s 278us/step - loss: 0.2127 - acc: 0.8132 - val_loss: 0.1952 - val_acc: 0.8454\n",
      "Epoch 7/30\n",
      "54546/54546 [==============================] - 15s 277us/step - loss: 0.2056 - acc: 0.8215 - val_loss: 0.1966 - val_acc: 0.8286\n",
      "Epoch 8/30\n",
      "54546/54546 [==============================] - 15s 278us/step - loss: 0.1992 - acc: 0.8275 - val_loss: 0.1906 - val_acc: 0.8357\n",
      "Epoch 9/30\n",
      "54546/54546 [==============================] - 15s 278us/step - loss: 0.1932 - acc: 0.8330 - val_loss: 0.1787 - val_acc: 0.8592\n",
      "Epoch 10/30\n",
      "54546/54546 [==============================] - 15s 284us/step - loss: 0.1891 - acc: 0.8383 - val_loss: 0.1736 - val_acc: 0.8636\n",
      "Epoch 11/30\n",
      "54546/54546 [==============================] - 15s 283us/step - loss: 0.1850 - acc: 0.8439 - val_loss: 0.1737 - val_acc: 0.8665\n",
      "Epoch 12/30\n",
      "54546/54546 [==============================] - 15s 278us/step - loss: 0.1810 - acc: 0.8472 - val_loss: 0.1679 - val_acc: 0.8656\n",
      "Epoch 13/30\n",
      "54546/54546 [==============================] - 15s 278us/step - loss: 0.1782 - acc: 0.8495 - val_loss: 0.1634 - val_acc: 0.8777\n",
      "Epoch 14/30\n",
      "54546/54546 [==============================] - 15s 278us/step - loss: 0.1745 - acc: 0.8556 - val_loss: 0.1579 - val_acc: 0.8750\n",
      "Epoch 15/30\n",
      "54546/54546 [==============================] - 15s 278us/step - loss: 0.1716 - acc: 0.8572 - val_loss: 0.1555 - val_acc: 0.8832\n",
      "Epoch 16/30\n",
      "54546/54546 [==============================] - 15s 278us/step - loss: 0.1686 - acc: 0.8620 - val_loss: 0.1523 - val_acc: 0.8834\n",
      "Epoch 17/30\n",
      "54546/54546 [==============================] - 15s 278us/step - loss: 0.1665 - acc: 0.8631 - val_loss: 0.1521 - val_acc: 0.8894\n",
      "Epoch 18/30\n",
      "54546/54546 [==============================] - 15s 278us/step - loss: 0.1643 - acc: 0.8666 - val_loss: 0.1515 - val_acc: 0.8900\n",
      "Epoch 19/30\n",
      "54546/54546 [==============================] - 15s 278us/step - loss: 0.1630 - acc: 0.8686 - val_loss: 0.1496 - val_acc: 0.8808\n",
      "Epoch 20/30\n",
      "54546/54546 [==============================] - 15s 280us/step - loss: 0.1611 - acc: 0.8692 - val_loss: 0.1474 - val_acc: 0.8883\n",
      "Epoch 21/30\n",
      "54546/54546 [==============================] - 15s 283us/step - loss: 0.1581 - acc: 0.8723 - val_loss: 0.1441 - val_acc: 0.8953\n",
      "Epoch 22/30\n",
      "54546/54546 [==============================] - 15s 278us/step - loss: 0.1581 - acc: 0.8715 - val_loss: 0.1533 - val_acc: 0.8775\n",
      "Epoch 23/30\n",
      "54546/54546 [==============================] - 15s 278us/step - loss: 0.1552 - acc: 0.8747 - val_loss: 0.1418 - val_acc: 0.8977\n",
      "Epoch 24/30\n",
      "54546/54546 [==============================] - 15s 278us/step - loss: 0.1547 - acc: 0.8771 - val_loss: 0.1476 - val_acc: 0.8918\n",
      "Epoch 25/30\n",
      "54546/54546 [==============================] - 15s 278us/step - loss: 0.1534 - acc: 0.8778 - val_loss: 0.1405 - val_acc: 0.8957\n",
      "Epoch 26/30\n",
      "54546/54546 [==============================] - 15s 278us/step - loss: 0.1513 - acc: 0.8808 - val_loss: 0.1380 - val_acc: 0.8981\n",
      "Epoch 27/30\n",
      "54546/54546 [==============================] - 15s 279us/step - loss: 0.1508 - acc: 0.8820 - val_loss: 0.1416 - val_acc: 0.8992\n",
      "Epoch 28/30\n",
      "54546/54546 [==============================] - 15s 279us/step - loss: 0.1493 - acc: 0.8829 - val_loss: 0.1383 - val_acc: 0.8981\n",
      "Epoch 29/30\n",
      "54546/54546 [==============================] - 15s 283us/step - loss: 0.1483 - acc: 0.8825 - val_loss: 0.1351 - val_acc: 0.9015\n",
      "Epoch 30/30\n",
      "54546/54546 [==============================] - 16s 285us/step - loss: 0.1460 - acc: 0.8886 - val_loss: 0.1328 - val_acc: 0.9056\n"
     ]
    }
   ],
   "source": [
    "\"\"\"two-CONV-LAYERS-THICK\"\"\"\n",
    "if not data_augmentation:\n",
    "    print('Not using data augmentation.')\n",
    "    train_history_1= model_1.fit(\n",
    "        x_train,\n",
    "        y_train,\n",
    "        batch_size=batch_size,\n",
    "        epochs=epochs,\n",
    "        validation_split= Vld_Splt,\n",
    "        shuffle=True)\n",
    "else:\n",
    "    print('Using real-time data augmentation.')\n",
    "    # This will do preprocessing and realtime data augmentation:\n",
    "    datagen = ImageDataGenerator(\n",
    "        featurewise_center=False,  # set input mean to 0 over the dataset\n",
    "        samplewise_center=False,  # set each sample mean to 0\n",
    "        featurewise_std_normalization=False,  # divide inputs by dataset std\n",
    "        samplewise_std_normalization=False,  # divide each input by its std\n",
    "        zca_whitening=False,  # apply ZCA whitening\n",
    "        zca_epsilon=1e-06,  # epsilon for ZCA whitening\n",
    "        rotation_range=0,  # randomly rotate images in 0 to 180 degrees\n",
    "        width_shift_range=0.1,  # randomly shift images horizontally\n",
    "        height_shift_range=0.1,  # randomly shift images vertically\n",
    "        shear_range=0.,  # set range for random shear\n",
    "        zoom_range=0.,  # set range for random zoom\n",
    "        channel_shift_range=0.,  # set range for random channel shifts\n",
    "        # set mode for filling points outside the input boundaries\n",
    "        fill_mode='nearest',\n",
    "        cval=0.,  # value used for fill_mode = \"constant\"\n",
    "        horizontal_flip=True,  # randomly flip images\n",
    "        vertical_flip=False,  # randomly flip images\n",
    "        # set rescaling factor (applied before any other transformation)\n",
    "        rescale=None,\n",
    "        # set function that will be applied on each input\n",
    "        preprocessing_function=None,\n",
    "        # image data format, either \"channels_first\" or \"channels_last\"\n",
    "        data_format=None,\n",
    "        # fraction of images reserved for validation (strictly between 0 and 1)\n",
    "        validation_split=0.0)\n",
    "\n",
    "    # Compute quantities required for feature-wise normalization\n",
    "    # (std, mean, and principal components if ZCA whitening is applied).\n",
    "    datagen.fit(x_train)\n",
    "\n",
    "    # Fit the model on the batches generated by datagen.flow().\n",
    "    train_history_1= model_1.fit_generator(\n",
    "        datagen.flow(x_train, y_train, batch_size=batch_size),\n",
    "        epochs= epochs,\n",
    "        validation_split= Vld_Splt,\n",
    "        steps_per_epoch= int(x_train.shape[0]/ batch_size),\n",
    "        workers=4)"
   ]
  },
  {
   "cell_type": "code",
   "execution_count": 19,
   "metadata": {},
   "outputs": [
    {
     "name": "stdout",
     "output_type": "stream",
     "text": [
      "Not using data augmentation.\n",
      "Train on 54546 samples, validate on 5454 samples\n",
      "Epoch 1/30\n",
      "54546/54546 [==============================] - 13s 243us/step - loss: 0.4504 - acc: 0.4109 - val_loss: 0.3400 - val_acc: 0.6478\n",
      "Epoch 2/30\n",
      "54546/54546 [==============================] - 13s 231us/step - loss: 0.2975 - acc: 0.6938 - val_loss: 0.2379 - val_acc: 0.7912\n",
      "Epoch 3/30\n",
      "54546/54546 [==============================] - 17s 319us/step - loss: 0.2301 - acc: 0.7901 - val_loss: 0.2022 - val_acc: 0.8350\n",
      "Epoch 4/30\n",
      "54546/54546 [==============================] - 13s 231us/step - loss: 0.1983 - acc: 0.8258 - val_loss: 0.1680 - val_acc: 0.8638\n",
      "Epoch 5/30\n",
      "54546/54546 [==============================] - 12s 225us/step - loss: 0.1785 - acc: 0.8446 - val_loss: 0.1563 - val_acc: 0.8735\n",
      "Epoch 6/30\n",
      "54546/54546 [==============================] - 13s 233us/step - loss: 0.1658 - acc: 0.8562 - val_loss: 0.1448 - val_acc: 0.8856\n",
      "Epoch 7/30\n",
      "54546/54546 [==============================] - 12s 227us/step - loss: 0.1545 - acc: 0.8673 - val_loss: 0.1370 - val_acc: 0.8949\n",
      "Epoch 8/30\n",
      "54546/54546 [==============================] - 12s 226us/step - loss: 0.1462 - acc: 0.8758 - val_loss: 0.1321 - val_acc: 0.8905\n",
      "Epoch 9/30\n",
      "54546/54546 [==============================] - 13s 232us/step - loss: 0.1404 - acc: 0.8808 - val_loss: 0.1262 - val_acc: 0.9028\n",
      "Epoch 10/30\n",
      "54546/54546 [==============================] - 13s 236us/step - loss: 0.1350 - acc: 0.8853 - val_loss: 0.1206 - val_acc: 0.9026\n",
      "Epoch 11/30\n",
      "54546/54546 [==============================] - 18s 332us/step - loss: 0.1303 - acc: 0.8913 - val_loss: 0.1181 - val_acc: 0.9085\n",
      "Epoch 12/30\n",
      "54546/54546 [==============================] - 13s 230us/step - loss: 0.1261 - acc: 0.8942 - val_loss: 0.1109 - val_acc: 0.9107\n",
      "Epoch 13/30\n",
      "54546/54546 [==============================] - 12s 228us/step - loss: 0.1231 - acc: 0.8980 - val_loss: 0.1105 - val_acc: 0.9120\n",
      "Epoch 14/30\n",
      "54546/54546 [==============================] - 12s 226us/step - loss: 0.1204 - acc: 0.9018 - val_loss: 0.1068 - val_acc: 0.9098\n",
      "Epoch 15/30\n",
      "54546/54546 [==============================] - 12s 226us/step - loss: 0.1161 - acc: 0.9059 - val_loss: 0.1011 - val_acc: 0.9210\n",
      "Epoch 16/30\n",
      "54546/54546 [==============================] - 13s 237us/step - loss: 0.1138 - acc: 0.9089 - val_loss: 0.1027 - val_acc: 0.9195\n",
      "Epoch 17/30\n",
      "54546/54546 [==============================] - 13s 233us/step - loss: 0.1116 - acc: 0.9114 - val_loss: 0.0996 - val_acc: 0.9197\n",
      "Epoch 18/30\n",
      "54546/54546 [==============================] - 13s 230us/step - loss: 0.1094 - acc: 0.9121 - val_loss: 0.0992 - val_acc: 0.9166\n",
      "Epoch 19/30\n",
      "54546/54546 [==============================] - 12s 229us/step - loss: 0.1079 - acc: 0.9148 - val_loss: 0.0965 - val_acc: 0.9202\n",
      "Epoch 20/30\n",
      "54546/54546 [==============================] - 13s 232us/step - loss: 0.1054 - acc: 0.9165 - val_loss: 0.0950 - val_acc: 0.9257\n",
      "Epoch 21/30\n",
      "54546/54546 [==============================] - 12s 229us/step - loss: 0.1039 - acc: 0.9189 - val_loss: 0.0939 - val_acc: 0.9259\n",
      "Epoch 22/30\n",
      "54546/54546 [==============================] - 13s 240us/step - loss: 0.1035 - acc: 0.9178 - val_loss: 0.0982 - val_acc: 0.9142\n",
      "Epoch 23/30\n",
      "54546/54546 [==============================] - 13s 230us/step - loss: 0.1018 - acc: 0.9206 - val_loss: 0.0957 - val_acc: 0.9184\n",
      "Epoch 24/30\n",
      "54546/54546 [==============================] - 12s 226us/step - loss: 0.0994 - acc: 0.9236 - val_loss: 0.0902 - val_acc: 0.9290\n",
      "Epoch 25/30\n",
      "54546/54546 [==============================] - 12s 226us/step - loss: 0.0989 - acc: 0.9238 - val_loss: 0.0917 - val_acc: 0.9265\n",
      "Epoch 26/30\n",
      "54546/54546 [==============================] - 12s 226us/step - loss: 0.0983 - acc: 0.9236 - val_loss: 0.0884 - val_acc: 0.9285\n",
      "Epoch 27/30\n",
      "54546/54546 [==============================] - 12s 225us/step - loss: 0.0963 - acc: 0.9263 - val_loss: 0.0906 - val_acc: 0.9285\n",
      "Epoch 28/30\n",
      "54546/54546 [==============================] - 12s 227us/step - loss: 0.0959 - acc: 0.9276 - val_loss: 0.0866 - val_acc: 0.9329\n",
      "Epoch 29/30\n",
      "54546/54546 [==============================] - 12s 228us/step - loss: 0.0947 - acc: 0.9280 - val_loss: 0.0868 - val_acc: 0.9322\n",
      "Epoch 30/30\n",
      "54546/54546 [==============================] - 12s 225us/step - loss: 0.0936 - acc: 0.9284 - val_loss: 0.0862 - val_acc: 0.9323\n"
     ]
    }
   ],
   "source": [
    "\"\"\"three-CONV-LAYERS-THICK\"\"\"\n",
    "if not data_augmentation:\n",
    "    print('Not using data augmentation.')\n",
    "    train_history_2= model_2.fit(\n",
    "        x_train,\n",
    "        y_train,\n",
    "        batch_size=batch_size,\n",
    "        epochs=epochs,\n",
    "        validation_split= Vld_Splt,\n",
    "        shuffle=True)\n",
    "else:\n",
    "    print('Using real-time data augmentation.')\n",
    "    # This will do preprocessing and realtime data augmentation:\n",
    "    datagen = ImageDataGenerator(\n",
    "        featurewise_center=False,  # set input mean to 0 over the dataset\n",
    "        samplewise_center=False,  # set each sample mean to 0\n",
    "        featurewise_std_normalization=False,  # divide inputs by dataset std\n",
    "        samplewise_std_normalization=False,  # divide each input by its std\n",
    "        zca_whitening=False,  # apply ZCA whitening\n",
    "        zca_epsilon=1e-06,  # epsilon for ZCA whitening\n",
    "        rotation_range=0,  # randomly rotate images in 0 to 180 degrees\n",
    "        width_shift_range=0.1,  # randomly shift images horizontally\n",
    "        height_shift_range=0.1,  # randomly shift images vertically\n",
    "        shear_range=0.,  # set range for random shear\n",
    "        zoom_range=0.,  # set range for random zoom\n",
    "        channel_shift_range=0.,  # set range for random channel shifts\n",
    "        # set mode for filling points outside the input boundaries\n",
    "        fill_mode='nearest',\n",
    "        cval=0.,  # value used for fill_mode = \"constant\"\n",
    "        horizontal_flip=True,  # randomly flip images\n",
    "        vertical_flip=False,  # randomly flip images\n",
    "        # set rescaling factor (applied before any other transformation)\n",
    "        rescale=None,\n",
    "        # set function that will be applied on each input\n",
    "        preprocessing_function=None,\n",
    "        # image data format, either \"channels_first\" or \"channels_last\"\n",
    "        data_format=None,\n",
    "        # fraction of images reserved for validation (strictly between 0 and 1)\n",
    "        validation_split=0.0)\n",
    "\n",
    "    # Compute quantities required for feature-wise normalization\n",
    "    # (std, mean, and principal components if ZCA whitening is applied).\n",
    "    datagen.fit(x_train)\n",
    "\n",
    "    # Fit the model on the batches generated by datagen.flow().\n",
    "    train_history_2= model_2.fit_generator(\n",
    "        datagen.flow(x_train, y_train, batch_size=batch_size),\n",
    "        epochs= epochs,\n",
    "        validation_split= Vld_Splt,\n",
    "        steps_per_epoch= int(x_train.shape[0]/ batch_size),\n",
    "        workers=4)"
   ]
  },
  {
   "cell_type": "code",
   "execution_count": 20,
   "metadata": {},
   "outputs": [
    {
     "name": "stdout",
     "output_type": "stream",
     "text": [
      "Not using data augmentation.\n",
      "Train on 54546 samples, validate on 5454 samples\n",
      "Epoch 1/30\n",
      "54546/54546 [==============================] - 13s 242us/step - loss: 0.4177 - acc: 0.4492 - val_loss: 0.3100 - val_acc: 0.6296\n",
      "Epoch 2/30\n",
      "54546/54546 [==============================] - 12s 225us/step - loss: 0.2583 - acc: 0.7446 - val_loss: 0.2080 - val_acc: 0.8165\n",
      "Epoch 3/30\n",
      "54546/54546 [==============================] - 12s 226us/step - loss: 0.1968 - acc: 0.8193 - val_loss: 0.1665 - val_acc: 0.8559: 0.1970 - acc: 0.81\n",
      "Epoch 4/30\n",
      "54546/54546 [==============================] - 12s 225us/step - loss: 0.1636 - acc: 0.8497 - val_loss: 0.1354 - val_acc: 0.8854\n",
      "Epoch 5/30\n",
      "54546/54546 [==============================] - 12s 226us/step - loss: 0.1451 - acc: 0.8680 - val_loss: 0.1223 - val_acc: 0.8993\n",
      "Epoch 6/30\n",
      "54546/54546 [==============================] - 12s 225us/step - loss: 0.1336 - acc: 0.8792 - val_loss: 0.1129 - val_acc: 0.9015\n",
      "Epoch 7/30\n",
      "54546/54546 [==============================] - 12s 225us/step - loss: 0.1227 - acc: 0.8907 - val_loss: 0.1056 - val_acc: 0.9098\n",
      "Epoch 8/30\n",
      "54546/54546 [==============================] - 12s 225us/step - loss: 0.1147 - acc: 0.8996 - val_loss: 0.0989 - val_acc: 0.9180\n",
      "Epoch 9/30\n",
      "54546/54546 [==============================] - 12s 225us/step - loss: 0.1093 - acc: 0.9071 - val_loss: 0.0947 - val_acc: 0.9202\n",
      "Epoch 10/30\n",
      "54546/54546 [==============================] - 12s 225us/step - loss: 0.1047 - acc: 0.9110 - val_loss: 0.0926 - val_acc: 0.9232\n",
      "Epoch 11/30\n",
      "54546/54546 [==============================] - 12s 225us/step - loss: 0.0997 - acc: 0.9156 - val_loss: 0.0861 - val_acc: 0.9333\n",
      "Epoch 12/30\n",
      "54546/54546 [==============================] - 12s 228us/step - loss: 0.0953 - acc: 0.9209 - val_loss: 0.0844 - val_acc: 0.9316\n",
      "Epoch 13/30\n",
      "54546/54546 [==============================] - 13s 229us/step - loss: 0.0928 - acc: 0.9245 - val_loss: 0.0828 - val_acc: 0.9316\n",
      "Epoch 14/30\n",
      "54546/54546 [==============================] - 12s 226us/step - loss: 0.0900 - acc: 0.9277 - val_loss: 0.0817 - val_acc: 0.9290\n",
      "Epoch 15/30\n",
      "54546/54546 [==============================] - 12s 225us/step - loss: 0.0871 - acc: 0.9295 - val_loss: 0.0781 - val_acc: 0.9353\n",
      "Epoch 16/30\n",
      "54546/54546 [==============================] - 12s 226us/step - loss: 0.0839 - acc: 0.9330 - val_loss: 0.0735 - val_acc: 0.9441\n",
      "Epoch 17/30\n",
      "54546/54546 [==============================] - 12s 226us/step - loss: 0.0827 - acc: 0.9348 - val_loss: 0.0743 - val_acc: 0.9371\n",
      "Epoch 18/30\n",
      "54546/54546 [==============================] - 12s 225us/step - loss: 0.0801 - acc: 0.9371 - val_loss: 0.0766 - val_acc: 0.9344\n",
      "Epoch 19/30\n",
      "54546/54546 [==============================] - 12s 225us/step - loss: 0.0790 - acc: 0.9391 - val_loss: 0.0707 - val_acc: 0.9455\n",
      "Epoch 20/30\n",
      "54546/54546 [==============================] - 12s 226us/step - loss: 0.0778 - acc: 0.9405 - val_loss: 0.0694 - val_acc: 0.9459\n",
      "Epoch 21/30\n",
      "54546/54546 [==============================] - 12s 225us/step - loss: 0.0752 - acc: 0.9424 - val_loss: 0.0676 - val_acc: 0.9463\n",
      "Epoch 22/30\n",
      "54546/54546 [==============================] - 12s 225us/step - loss: 0.0741 - acc: 0.9436 - val_loss: 0.0673 - val_acc: 0.9448\n",
      "Epoch 23/30\n",
      "54546/54546 [==============================] - 12s 226us/step - loss: 0.0732 - acc: 0.9439 - val_loss: 0.0646 - val_acc: 0.9505\n",
      "Epoch 24/30\n",
      "54546/54546 [==============================] - 12s 225us/step - loss: 0.0713 - acc: 0.9456 - val_loss: 0.0644 - val_acc: 0.9474\n",
      "Epoch 25/30\n",
      "54546/54546 [==============================] - 12s 225us/step - loss: 0.0699 - acc: 0.9475 - val_loss: 0.0639 - val_acc: 0.9499\n",
      "Epoch 26/30\n",
      "54546/54546 [==============================] - 12s 225us/step - loss: 0.0692 - acc: 0.9478 - val_loss: 0.0608 - val_acc: 0.9512\n",
      "Epoch 27/30\n",
      "54546/54546 [==============================] - 12s 225us/step - loss: 0.0685 - acc: 0.9487 - val_loss: 0.0646 - val_acc: 0.9443\n",
      "Epoch 28/30\n",
      "54546/54546 [==============================] - 12s 225us/step - loss: 0.0668 - acc: 0.9509 - val_loss: 0.0613 - val_acc: 0.9518\n",
      "Epoch 29/30\n",
      "54546/54546 [==============================] - 12s 225us/step - loss: 0.0657 - acc: 0.9517 - val_loss: 0.0601 - val_acc: 0.9498\n",
      "Epoch 30/30\n",
      "54546/54546 [==============================] - 12s 226us/step - loss: 0.0653 - acc: 0.9518 - val_loss: 0.0626 - val_acc: 0.9498\n"
     ]
    }
   ],
   "source": [
    "\"\"\"four-CONV-LAYERS-THICK\"\"\"\n",
    "if not data_augmentation:\n",
    "    print('Not using data augmentation.')\n",
    "    train_history_3= model_3.fit(\n",
    "        x_train,\n",
    "        y_train,\n",
    "        batch_size=batch_size,\n",
    "        epochs=epochs,\n",
    "        validation_split= Vld_Splt,\n",
    "        shuffle=True)\n",
    "else:\n",
    "    print('Using real-time data augmentation.')\n",
    "    # This will do preprocessing and realtime data augmentation:\n",
    "    datagen = ImageDataGenerator(\n",
    "        featurewise_center=False,  # set input mean to 0 over the dataset\n",
    "        samplewise_center=False,  # set each sample mean to 0\n",
    "        featurewise_std_normalization=False,  # divide inputs by dataset std\n",
    "        samplewise_std_normalization=False,  # divide each input by its std\n",
    "        zca_whitening=False,  # apply ZCA whitening\n",
    "        zca_epsilon=1e-06,  # epsilon for ZCA whitening\n",
    "        rotation_range=0,  # randomly rotate images in 0 to 180 degrees\n",
    "        width_shift_range=0.1,  # randomly shift images horizontally\n",
    "        height_shift_range=0.1,  # randomly shift images vertically\n",
    "        shear_range=0.,  # set range for random shear\n",
    "        zoom_range=0.,  # set range for random zoom\n",
    "        channel_shift_range=0.,  # set range for random channel shifts\n",
    "        # set mode for filling points outside the input boundaries\n",
    "        fill_mode='nearest',\n",
    "        cval=0.,  # value used for fill_mode = \"constant\"\n",
    "        horizontal_flip=True,  # randomly flip images\n",
    "        vertical_flip=False,  # randomly flip images\n",
    "        # set rescaling factor (applied before any other transformation)\n",
    "        rescale=None,\n",
    "        # set function that will be applied on each input\n",
    "        preprocessing_function=None,\n",
    "        # image data format, either \"channels_first\" or \"channels_last\"\n",
    "        data_format=None,\n",
    "        # fraction of images reserved for validation (strictly between 0 and 1)\n",
    "        validation_split=0.0)\n",
    "\n",
    "    # Compute quantities required for feature-wise normalization\n",
    "    # (std, mean, and principal components if ZCA whitening is applied).\n",
    "    datagen.fit(x_train)\n",
    "\n",
    "    # Fit the model on the batches generated by datagen.flow().\n",
    "    train_history_3= model_3.fit_generator(\n",
    "        datagen.flow(x_train, y_train, batch_size=batch_size),\n",
    "        epochs= epochs,\n",
    "        validation_split= Vld_Splt,\n",
    "        steps_per_epoch= int(x_train.shape[0]/ batch_size),\n",
    "        workers=4)"
   ]
  },
  {
   "cell_type": "code",
   "execution_count": 21,
   "metadata": {},
   "outputs": [
    {
     "name": "stdout",
     "output_type": "stream",
     "text": [
      "Not using data augmentation.\n",
      "Train on 54546 samples, validate on 5454 samples\n",
      "Epoch 1/30\n",
      "54546/54546 [==============================] - 5s 87us/step - loss: 0.3417 - acc: 0.5423 - val_loss: 0.2008 - val_acc: 0.7825\n",
      "Epoch 2/30\n",
      "54546/54546 [==============================] - 4s 70us/step - loss: 0.1711 - acc: 0.8139 - val_loss: 0.1167 - val_acc: 0.8762\n",
      "Epoch 3/30\n",
      "54546/54546 [==============================] - 4s 70us/step - loss: 0.1199 - acc: 0.8727 - val_loss: 0.0901 - val_acc: 0.9021\n",
      "Epoch 4/30\n",
      "54546/54546 [==============================] - 4s 70us/step - loss: 0.0968 - acc: 0.8978 - val_loss: 0.0701 - val_acc: 0.9234\n",
      "Epoch 5/30\n",
      "54546/54546 [==============================] - 4s 75us/step - loss: 0.0821 - acc: 0.9136 - val_loss: 0.0654 - val_acc: 0.9263\n",
      "Epoch 6/30\n",
      "54546/54546 [==============================] - 4s 77us/step - loss: 0.0732 - acc: 0.9231 - val_loss: 0.0578 - val_acc: 0.9345\n",
      "Epoch 7/30\n",
      "54546/54546 [==============================] - 4s 71us/step - loss: 0.0670 - acc: 0.9301 - val_loss: 0.0512 - val_acc: 0.9432\n",
      "Epoch 8/30\n",
      "54546/54546 [==============================] - 4s 70us/step - loss: 0.0615 - acc: 0.9350 - val_loss: 0.0503 - val_acc: 0.9428\n",
      "Epoch 9/30\n",
      "54546/54546 [==============================] - 4s 70us/step - loss: 0.0580 - acc: 0.9393 - val_loss: 0.0475 - val_acc: 0.9452\n",
      "Epoch 10/30\n",
      "54546/54546 [==============================] - 4s 70us/step - loss: 0.0542 - acc: 0.9438 - val_loss: 0.0429 - val_acc: 0.9503\n",
      "Epoch 11/30\n",
      "54546/54546 [==============================] - 4s 70us/step - loss: 0.0511 - acc: 0.9473 - val_loss: 0.0416 - val_acc: 0.9560\n",
      "Epoch 12/30\n",
      "54546/54546 [==============================] - 4s 70us/step - loss: 0.0490 - acc: 0.9490 - val_loss: 0.0401 - val_acc: 0.9582\n",
      "Epoch 13/30\n",
      "54546/54546 [==============================] - 4s 70us/step - loss: 0.0473 - acc: 0.9502 - val_loss: 0.0379 - val_acc: 0.9565\n",
      "Epoch 14/30\n",
      "54546/54546 [==============================] - 4s 73us/step - loss: 0.0452 - acc: 0.9542 - val_loss: 0.0361 - val_acc: 0.9608\n",
      "Epoch 15/30\n",
      "54546/54546 [==============================] - 4s 72us/step - loss: 0.0434 - acc: 0.9554 - val_loss: 0.0360 - val_acc: 0.9593\n",
      "Epoch 16/30\n",
      "54546/54546 [==============================] - 4s 71us/step - loss: 0.0427 - acc: 0.9564 - val_loss: 0.0419 - val_acc: 0.9527\n",
      "Epoch 17/30\n",
      "54546/54546 [==============================] - 4s 70us/step - loss: 0.0405 - acc: 0.9594 - val_loss: 0.0351 - val_acc: 0.9597\n",
      "Epoch 18/30\n",
      "54546/54546 [==============================] - 4s 70us/step - loss: 0.0400 - acc: 0.9595 - val_loss: 0.0321 - val_acc: 0.9650\n",
      "Epoch 19/30\n",
      "54546/54546 [==============================] - 4s 70us/step - loss: 0.0391 - acc: 0.9597 - val_loss: 0.0312 - val_acc: 0.9668\n",
      "Epoch 20/30\n",
      "54546/54546 [==============================] - 4s 70us/step - loss: 0.0374 - acc: 0.9627 - val_loss: 0.0326 - val_acc: 0.9637\n",
      "Epoch 21/30\n",
      "54546/54546 [==============================] - 4s 70us/step - loss: 0.0363 - acc: 0.9640 - val_loss: 0.0307 - val_acc: 0.9655\n",
      "Epoch 22/30\n",
      "54546/54546 [==============================] - 4s 70us/step - loss: 0.0356 - acc: 0.9641 - val_loss: 0.0321 - val_acc: 0.9650\n",
      "Epoch 23/30\n",
      "54546/54546 [==============================] - 4s 71us/step - loss: 0.0351 - acc: 0.9653 - val_loss: 0.0313 - val_acc: 0.9655\n",
      "Epoch 24/30\n",
      "54546/54546 [==============================] - 4s 70us/step - loss: 0.0349 - acc: 0.9659 - val_loss: 0.0291 - val_acc: 0.9690\n",
      "Epoch 25/30\n",
      "54546/54546 [==============================] - 4s 70us/step - loss: 0.0335 - acc: 0.9669 - val_loss: 0.0292 - val_acc: 0.9696\n",
      "Epoch 26/30\n",
      "54546/54546 [==============================] - 4s 70us/step - loss: 0.0334 - acc: 0.9663 - val_loss: 0.0315 - val_acc: 0.9644\n",
      "Epoch 27/30\n",
      "54546/54546 [==============================] - 4s 70us/step - loss: 0.0318 - acc: 0.9696 - val_loss: 0.0290 - val_acc: 0.9725\n",
      "Epoch 28/30\n",
      "54546/54546 [==============================] - 4s 71us/step - loss: 0.0315 - acc: 0.9698 - val_loss: 0.0284 - val_acc: 0.9710\n",
      "Epoch 29/30\n",
      "54546/54546 [==============================] - 4s 70us/step - loss: 0.0313 - acc: 0.9696 - val_loss: 0.0288 - val_acc: 0.9710\n",
      "Epoch 30/30\n",
      "54546/54546 [==============================] - 4s 74us/step - loss: 0.0312 - acc: 0.9694 - val_loss: 0.0269 - val_acc: 0.9730\n"
     ]
    }
   ],
   "source": [
    "\"\"\"five-CONV-LAYERS-THICK\"\"\"\n",
    "if not data_augmentation:\n",
    "    print('Not using data augmentation.')\n",
    "    train_history_4= model_4.fit(\n",
    "        x_train,\n",
    "        y_train,\n",
    "        batch_size=batch_size,\n",
    "        epochs=epochs,\n",
    "        validation_split= Vld_Splt,\n",
    "        shuffle=True)\n",
    "else:\n",
    "    print('Using real-time data augmentation.')\n",
    "    # This will do preprocessing and realtime data augmentation:\n",
    "    datagen = ImageDataGenerator(\n",
    "        featurewise_center=False,  # set input mean to 0 over the dataset\n",
    "        samplewise_center=False,  # set each sample mean to 0\n",
    "        featurewise_std_normalization=False,  # divide inputs by dataset std\n",
    "        samplewise_std_normalization=False,  # divide each input by its std\n",
    "        zca_whitening=False,  # apply ZCA whitening\n",
    "        zca_epsilon=1e-06,  # epsilon for ZCA whitening\n",
    "        rotation_range=0,  # randomly rotate images in 0 to 180 degrees\n",
    "        width_shift_range=0.1,  # randomly shift images horizontally\n",
    "        height_shift_range=0.1,  # randomly shift images vertically\n",
    "        shear_range=0.,  # set range for random shear\n",
    "        zoom_range=0.,  # set range for random zoom\n",
    "        channel_shift_range=0.,  # set range for random channel shifts\n",
    "        # set mode for filling points outside the input boundaries\n",
    "        fill_mode='nearest',\n",
    "        cval=0.,  # value used for fill_mode = \"constant\"\n",
    "        horizontal_flip=True,  # randomly flip images\n",
    "        vertical_flip=False,  # randomly flip images\n",
    "        # set rescaling factor (applied before any other transformation)\n",
    "        rescale=None,\n",
    "        # set function that will be applied on each input\n",
    "        preprocessing_function=None,\n",
    "        # image data format, either \"channels_first\" or \"channels_last\"\n",
    "        data_format=None,\n",
    "        # fraction of images reserved for validation (strictly between 0 and 1)\n",
    "        validation_split=0.0)\n",
    "\n",
    "    # Compute quantities required for feature-wise normalization\n",
    "    # (std, mean, and principal components if ZCA whitening is applied).\n",
    "    datagen.fit(x_train)\n",
    "\n",
    "    # Fit the model on the batches generated by datagen.flow().\n",
    "    train_history_4= model_4.fit_generator(\n",
    "        datagen.flow(x_train, y_train, batch_size=batch_size),\n",
    "        epochs= epochs,\n",
    "        validation_split= Vld_Splt,\n",
    "        steps_per_epoch= int(x_train.shape[0]/ batch_size),\n",
    "        workers=4)"
   ]
  },
  {
   "cell_type": "code",
   "execution_count": 22,
   "metadata": {},
   "outputs": [
    {
     "name": "stdout",
     "output_type": "stream",
     "text": [
      "Not using data augmentation.\n",
      "Train on 54546 samples, validate on 5454 samples\n",
      "Epoch 1/30\n",
      "54546/54546 [==============================] - 6s 118us/step - loss: 0.3636 - acc: 0.4869 - val_loss: 0.2074 - val_acc: 0.7341\n",
      "Epoch 2/30\n",
      "54546/54546 [==============================] - 5s 85us/step - loss: 0.1692 - acc: 0.7938 - val_loss: 0.1099 - val_acc: 0.8662\n",
      "Epoch 3/30\n",
      "54546/54546 [==============================] - 4s 82us/step - loss: 0.1155 - acc: 0.8621 - val_loss: 0.0772 - val_acc: 0.9074\n",
      "Epoch 4/30\n",
      "54546/54546 [==============================] - 4s 76us/step - loss: 0.0907 - acc: 0.8934 - val_loss: 0.0670 - val_acc: 0.9168\n",
      "Epoch 5/30\n",
      "54546/54546 [==============================] - 4s 74us/step - loss: 0.0769 - acc: 0.9087 - val_loss: 0.0569 - val_acc: 0.9338\n",
      "Epoch 6/30\n",
      "54546/54546 [==============================] - 4s 73us/step - loss: 0.0676 - acc: 0.9203 - val_loss: 0.0524 - val_acc: 0.9364\n",
      "Epoch 7/30\n",
      "54546/54546 [==============================] - 4s 72us/step - loss: 0.0624 - acc: 0.9269 - val_loss: 0.0452 - val_acc: 0.9503\n",
      "Epoch 8/30\n",
      "54546/54546 [==============================] - 4s 72us/step - loss: 0.0561 - acc: 0.9345 - val_loss: 0.0400 - val_acc: 0.9529\n",
      "Epoch 9/30\n",
      "54546/54546 [==============================] - 4s 72us/step - loss: 0.0515 - acc: 0.9400 - val_loss: 0.0401 - val_acc: 0.9531\n",
      "Epoch 10/30\n",
      "54546/54546 [==============================] - 4s 72us/step - loss: 0.0498 - acc: 0.9417 - val_loss: 0.0372 - val_acc: 0.9543\n",
      "Epoch 11/30\n",
      "54546/54546 [==============================] - 4s 72us/step - loss: 0.0465 - acc: 0.9459 - val_loss: 0.0415 - val_acc: 0.9525\n",
      "Epoch 12/30\n",
      "54546/54546 [==============================] - 4s 71us/step - loss: 0.0443 - acc: 0.9482 - val_loss: 0.0351 - val_acc: 0.9591\n",
      "Epoch 13/30\n",
      "54546/54546 [==============================] - 4s 70us/step - loss: 0.0428 - acc: 0.9502 - val_loss: 0.0350 - val_acc: 0.9576\n",
      "Epoch 14/30\n",
      "54546/54546 [==============================] - 4s 71us/step - loss: 0.0412 - acc: 0.9523 - val_loss: 0.0328 - val_acc: 0.9624\n",
      "Epoch 15/30\n",
      "54546/54546 [==============================] - 4s 70us/step - loss: 0.0390 - acc: 0.9559 - val_loss: 0.0296 - val_acc: 0.9657\n",
      "Epoch 16/30\n",
      "54546/54546 [==============================] - 4s 73us/step - loss: 0.0383 - acc: 0.9553 - val_loss: 0.0346 - val_acc: 0.9589\n",
      "Epoch 17/30\n",
      "54546/54546 [==============================] - 4s 72us/step - loss: 0.0366 - acc: 0.9581 - val_loss: 0.0334 - val_acc: 0.9584\n",
      "Epoch 18/30\n",
      "54546/54546 [==============================] - 4s 70us/step - loss: 0.0362 - acc: 0.9574 - val_loss: 0.0305 - val_acc: 0.9608\n",
      "Epoch 19/30\n",
      "54546/54546 [==============================] - 4s 71us/step - loss: 0.0344 - acc: 0.9603 - val_loss: 0.0290 - val_acc: 0.9633\n",
      "Epoch 20/30\n",
      "54546/54546 [==============================] - 4s 70us/step - loss: 0.0322 - acc: 0.9636 - val_loss: 0.0280 - val_acc: 0.9655\n",
      "Epoch 21/30\n",
      "54546/54546 [==============================] - 4s 70us/step - loss: 0.0324 - acc: 0.9629 - val_loss: 0.0330 - val_acc: 0.9586\n",
      "Epoch 22/30\n",
      "54546/54546 [==============================] - 4s 72us/step - loss: 0.0324 - acc: 0.9630 - val_loss: 0.0284 - val_acc: 0.9677\n",
      "Epoch 23/30\n",
      "54546/54546 [==============================] - 4s 70us/step - loss: 0.0322 - acc: 0.9630 - val_loss: 0.0302 - val_acc: 0.9635\n",
      "Epoch 24/30\n",
      "54546/54546 [==============================] - 4s 74us/step - loss: 0.0300 - acc: 0.9663 - val_loss: 0.0255 - val_acc: 0.9690\n",
      "Epoch 25/30\n",
      "54546/54546 [==============================] - 5s 85us/step - loss: 0.0296 - acc: 0.9662 - val_loss: 0.0277 - val_acc: 0.9666\n",
      "Epoch 26/30\n",
      "54546/54546 [==============================] - 5s 87us/step - loss: 0.0286 - acc: 0.9677 - val_loss: 0.0223 - val_acc: 0.9732\n",
      "Epoch 27/30\n",
      "54546/54546 [==============================] - 5s 84us/step - loss: 0.0282 - acc: 0.9679 - val_loss: 0.0245 - val_acc: 0.9703\n",
      "Epoch 28/30\n",
      "54546/54546 [==============================] - 4s 82us/step - loss: 0.0282 - acc: 0.9681 - val_loss: 0.0237 - val_acc: 0.9730\n",
      "Epoch 29/30\n",
      "54546/54546 [==============================] - 4s 80us/step - loss: 0.0268 - acc: 0.9699 - val_loss: 0.0256 - val_acc: 0.9701\n",
      "Epoch 30/30\n",
      "54546/54546 [==============================] - 5s 96us/step - loss: 0.0265 - acc: 0.9706 - val_loss: 0.0238 - val_acc: 0.9730\n"
     ]
    }
   ],
   "source": [
    "\"\"\"six-CONV-LAYERS-THICK\"\"\"\n",
    "if not data_augmentation:\n",
    "    print('Not using data augmentation.')\n",
    "    train_history_5= model_5.fit(\n",
    "        x_train,\n",
    "        y_train,\n",
    "        batch_size=batch_size,\n",
    "        epochs=epochs,\n",
    "        validation_split= Vld_Splt,\n",
    "        shuffle=True)\n",
    "else:\n",
    "    print('Using real-time data augmentation.')\n",
    "    # This will do preprocessing and realtime data augmentation:\n",
    "    datagen = ImageDataGenerator(\n",
    "        featurewise_center=False,  # set input mean to 0 over the dataset\n",
    "        samplewise_center=False,  # set each sample mean to 0\n",
    "        featurewise_std_normalization=False,  # divide inputs by dataset std\n",
    "        samplewise_std_normalization=False,  # divide each input by its std\n",
    "        zca_whitening=False,  # apply ZCA whitening\n",
    "        zca_epsilon=1e-06,  # epsilon for ZCA whitening\n",
    "        rotation_range=0,  # randomly rotate images in 0 to 180 degrees\n",
    "        width_shift_range=0.1,  # randomly shift images horizontally\n",
    "        height_shift_range=0.1,  # randomly shift images vertically\n",
    "        shear_range=0.,  # set range for random shear\n",
    "        zoom_range=0.,  # set range for random zoom\n",
    "        channel_shift_range=0.,  # set range for random channel shifts\n",
    "        # set mode for filling points outside the input boundaries\n",
    "        fill_mode='nearest',\n",
    "        cval=0.,  # value used for fill_mode = \"constant\"\n",
    "        horizontal_flip=True,  # randomly flip images\n",
    "        vertical_flip=False,  # randomly flip images\n",
    "        # set rescaling factor (applied before any other transformation)\n",
    "        rescale=None,\n",
    "        # set function that will be applied on each input\n",
    "        preprocessing_function=None,\n",
    "        # image data format, either \"channels_first\" or \"channels_last\"\n",
    "        data_format=None,\n",
    "        # fraction of images reserved for validation (strictly between 0 and 1)\n",
    "        validation_split=0.0)\n",
    "\n",
    "    # Compute quantities required for feature-wise normalization\n",
    "    # (std, mean, and principal components if ZCA whitening is applied).\n",
    "    datagen.fit(x_train)\n",
    "\n",
    "    # Fit the model on the batches generated by datagen.flow().\n",
    "    train_history_5= model_5.fit_generator(\n",
    "        datagen.flow(x_train, y_train, batch_size=batch_size),\n",
    "        epochs= epochs,\n",
    "        validation_split= Vld_Splt,\n",
    "        steps_per_epoch= int(x_train.shape[0]/ batch_size),\n",
    "        workers=4)"
   ]
  },
  {
   "cell_type": "code",
   "execution_count": 23,
   "metadata": {},
   "outputs": [
    {
     "name": "stdout",
     "output_type": "stream",
     "text": [
      "Not using data augmentation.\n",
      "Train on 54546 samples, validate on 5454 samples\n",
      "Epoch 1/30\n",
      "54546/54546 [==============================] - 8s 147us/step - loss: 0.4189 - acc: 0.3782 - val_loss: 0.2217 - val_acc: 0.7409\n",
      "Epoch 2/30\n",
      "54546/54546 [==============================] - 6s 110us/step - loss: 0.1642 - acc: 0.8169 - val_loss: 0.1053 - val_acc: 0.8746\n",
      "Epoch 3/30\n",
      "54546/54546 [==============================] - 6s 108us/step - loss: 0.0994 - acc: 0.8866 - val_loss: 0.0667 - val_acc: 0.9252\n",
      "Epoch 4/30\n",
      "54546/54546 [==============================] - 6s 105us/step - loss: 0.0765 - acc: 0.9133 - val_loss: 0.0575 - val_acc: 0.9331\n",
      "Epoch 5/30\n",
      "54546/54546 [==============================] - 6s 113us/step - loss: 0.0634 - acc: 0.9286 - val_loss: 0.0541 - val_acc: 0.9356\n",
      "Epoch 6/30\n",
      "54546/54546 [==============================] - 6s 109us/step - loss: 0.0558 - acc: 0.9359 - val_loss: 0.0468 - val_acc: 0.9454\n",
      "Epoch 7/30\n",
      "54546/54546 [==============================] - 6s 114us/step - loss: 0.0502 - acc: 0.9419 - val_loss: 0.0350 - val_acc: 0.9591\n",
      "Epoch 8/30\n",
      "54546/54546 [==============================] - 6s 111us/step - loss: 0.0454 - acc: 0.9482 - val_loss: 0.0345 - val_acc: 0.9586\n",
      "Epoch 9/30\n",
      "54546/54546 [==============================] - 6s 107us/step - loss: 0.0417 - acc: 0.9528 - val_loss: 0.0370 - val_acc: 0.9587\n",
      "Epoch 10/30\n",
      "54546/54546 [==============================] - 6s 104us/step - loss: 0.0391 - acc: 0.9556 - val_loss: 0.0305 - val_acc: 0.9668s: 0.0394 - ac\n",
      "Epoch 11/30\n",
      "54546/54546 [==============================] - 6s 107us/step - loss: 0.0367 - acc: 0.9579 - val_loss: 0.0290 - val_acc: 0.9696\n",
      "Epoch 12/30\n",
      "54546/54546 [==============================] - 6s 113us/step - loss: 0.0353 - acc: 0.9596 - val_loss: 0.0295 - val_acc: 0.9659\n",
      "Epoch 13/30\n",
      "54546/54546 [==============================] - 6s 113us/step - loss: 0.0341 - acc: 0.9609 - val_loss: 0.0239 - val_acc: 0.9714\n",
      "Epoch 14/30\n",
      "54546/54546 [==============================] - 6s 108us/step - loss: 0.0314 - acc: 0.9646 - val_loss: 0.0228 - val_acc: 0.9751\n",
      "Epoch 15/30\n",
      "54546/54546 [==============================] - 6s 110us/step - loss: 0.0293 - acc: 0.9671 - val_loss: 0.0268 - val_acc: 0.9705\n",
      "Epoch 16/30\n",
      "54546/54546 [==============================] - 6s 107us/step - loss: 0.0285 - acc: 0.9681 - val_loss: 0.0338 - val_acc: 0.9598\n",
      "Epoch 17/30\n",
      "54546/54546 [==============================] - 6s 109us/step - loss: 0.0269 - acc: 0.9691 - val_loss: 0.0236 - val_acc: 0.9718\n",
      "Epoch 18/30\n",
      "54546/54546 [==============================] - 6s 109us/step - loss: 0.0263 - acc: 0.9713 - val_loss: 0.0214 - val_acc: 0.9762\n",
      "Epoch 19/30\n",
      "54546/54546 [==============================] - 6s 112us/step - loss: 0.0258 - acc: 0.9718 - val_loss: 0.0200 - val_acc: 0.9774\n",
      "Epoch 20/30\n",
      "54546/54546 [==============================] - 6s 102us/step - loss: 0.0244 - acc: 0.9730 - val_loss: 0.0223 - val_acc: 0.9745\n",
      "Epoch 21/30\n",
      "54546/54546 [==============================] - 5s 99us/step - loss: 0.0245 - acc: 0.9727 - val_loss: 0.0195 - val_acc: 0.9774\n",
      "Epoch 22/30\n",
      "54546/54546 [==============================] - 5s 100us/step - loss: 0.0229 - acc: 0.9743 - val_loss: 0.0223 - val_acc: 0.9736\n",
      "Epoch 23/30\n",
      "54546/54546 [==============================] - 6s 106us/step - loss: 0.0231 - acc: 0.9743 - val_loss: 0.0200 - val_acc: 0.9765\n",
      "Epoch 24/30\n",
      "54546/54546 [==============================] - 6s 102us/step - loss: 0.0217 - acc: 0.9758 - val_loss: 0.0175 - val_acc: 0.9813\n",
      "Epoch 25/30\n",
      "54546/54546 [==============================] - 6s 104us/step - loss: 0.0215 - acc: 0.9759 - val_loss: 0.0172 - val_acc: 0.9806\n",
      "Epoch 26/30\n",
      "54546/54546 [==============================] - 6s 102us/step - loss: 0.0208 - acc: 0.9772 - val_loss: 0.0218 - val_acc: 0.9749\n",
      "Epoch 27/30\n",
      "54546/54546 [==============================] - 6s 104us/step - loss: 0.0200 - acc: 0.9777 - val_loss: 0.0183 - val_acc: 0.9789\n",
      "Epoch 28/30\n",
      "54546/54546 [==============================] - 6s 102us/step - loss: 0.0200 - acc: 0.9783 - val_loss: 0.0166 - val_acc: 0.9806\n",
      "Epoch 29/30\n",
      "54546/54546 [==============================] - 6s 101us/step - loss: 0.0192 - acc: 0.9792 - val_loss: 0.0195 - val_acc: 0.9767\n",
      "Epoch 30/30\n",
      "54546/54546 [==============================] - 5s 100us/step - loss: 0.0191 - acc: 0.9796 - val_loss: 0.0176 - val_acc: 0.9813\n"
     ]
    }
   ],
   "source": [
    "\"\"\"seven-CONV-LAYERS-THICK\"\"\"\n",
    "if not data_augmentation:\n",
    "    print('Not using data augmentation.')\n",
    "    train_history_6= model_6.fit(\n",
    "        x_train,\n",
    "        y_train,\n",
    "        batch_size=batch_size,\n",
    "        epochs=epochs,\n",
    "        validation_split= Vld_Splt,\n",
    "        shuffle=True)\n",
    "else:\n",
    "    print('Using real-time data augmentation.')\n",
    "    # This will do preprocessing and realtime data augmentation:\n",
    "    datagen = ImageDataGenerator(\n",
    "        featurewise_center=False,  # set input mean to 0 over the dataset\n",
    "        samplewise_center=False,  # set each sample mean to 0\n",
    "        featurewise_std_normalization=False,  # divide inputs by dataset std\n",
    "        samplewise_std_normalization=False,  # divide each input by its std\n",
    "        zca_whitening=False,  # apply ZCA whitening\n",
    "        zca_epsilon=1e-06,  # epsilon for ZCA whitening\n",
    "        rotation_range=0,  # randomly rotate images in 0 to 180 degrees\n",
    "        width_shift_range=0.1,  # randomly shift images horizontally\n",
    "        height_shift_range=0.1,  # randomly shift images vertically\n",
    "        shear_range=0.,  # set range for random shear\n",
    "        zoom_range=0.,  # set range for random zoom\n",
    "        channel_shift_range=0.,  # set range for random channel shifts\n",
    "        # set mode for filling points outside the input boundaries\n",
    "        fill_mode='nearest',\n",
    "        cval=0.,  # value used for fill_mode = \"constant\"\n",
    "        horizontal_flip=True,  # randomly flip images\n",
    "        vertical_flip=False,  # randomly flip images\n",
    "        # set rescaling factor (applied before any other transformation)\n",
    "        rescale=None,\n",
    "        # set function that will be applied on each input\n",
    "        preprocessing_function=None,\n",
    "        # image data format, either \"channels_first\" or \"channels_last\"\n",
    "        data_format=None,\n",
    "        # fraction of images reserved for validation (strictly between 0 and 1)\n",
    "        validation_split=0.0)\n",
    "\n",
    "    # Compute quantities required for feature-wise normalization\n",
    "    # (std, mean, and principal components if ZCA whitening is applied).\n",
    "    datagen.fit(x_train)\n",
    "\n",
    "    # Fit the model on the batches generated by datagen.flow().\n",
    "    train_history_6= model_6.fit_generator(\n",
    "        datagen.flow(x_train, y_train, batch_size=batch_size),\n",
    "        epochs= epochs,\n",
    "        validation_split= Vld_Splt,\n",
    "        steps_per_epoch= int(x_train.shape[0]/ batch_size),\n",
    "        workers=4)"
   ]
  },
  {
   "cell_type": "code",
   "execution_count": 24,
   "metadata": {},
   "outputs": [
    {
     "name": "stdout",
     "output_type": "stream",
     "text": [
      "Train on 54546 samples, validate on 5454 samples\n",
      "Epoch 1/30\n",
      "54546/54546 [==============================] - 3s 63us/step - loss: 1.3348 - acc: 0.5353 - val_loss: 0.8406 - val_acc: 0.7662\n",
      "Epoch 2/30\n",
      "54546/54546 [==============================] - 2s 40us/step - loss: 0.8255 - acc: 0.7235 - val_loss: 0.6139 - val_acc: 0.8414\n",
      "Epoch 3/30\n",
      "54546/54546 [==============================] - 2s 40us/step - loss: 0.6833 - acc: 0.7730 - val_loss: 0.5379 - val_acc: 0.8544\n",
      "Epoch 4/30\n",
      "54546/54546 [==============================] - 2s 41us/step - loss: 0.5897 - acc: 0.8028 - val_loss: 0.4373 - val_acc: 0.8907\n",
      "Epoch 5/30\n",
      "54546/54546 [==============================] - 2s 41us/step - loss: 0.5292 - acc: 0.8244 - val_loss: 0.3964 - val_acc: 0.8977\n",
      "Epoch 6/30\n",
      "54546/54546 [==============================] - 2s 42us/step - loss: 0.4847 - acc: 0.8387 - val_loss: 0.3492 - val_acc: 0.9087\n",
      "Epoch 7/30\n",
      "54546/54546 [==============================] - 2s 43us/step - loss: 0.4503 - acc: 0.8500 - val_loss: 0.3379 - val_acc: 0.9113\n",
      "Epoch 8/30\n",
      "54546/54546 [==============================] - 2s 46us/step - loss: 0.4248 - acc: 0.8580 - val_loss: 0.3046 - val_acc: 0.9219\n",
      "Epoch 9/30\n",
      "54546/54546 [==============================] - 2s 40us/step - loss: 0.4097 - acc: 0.8637 - val_loss: 0.2911 - val_acc: 0.9204\n",
      "Epoch 10/30\n",
      "54546/54546 [==============================] - 2s 42us/step - loss: 0.3886 - acc: 0.8693 - val_loss: 0.2816 - val_acc: 0.9259\n",
      "Epoch 11/30\n",
      "54546/54546 [==============================] - 2s 40us/step - loss: 0.3761 - acc: 0.8746 - val_loss: 0.2659 - val_acc: 0.9283\n",
      "Epoch 12/30\n",
      "54546/54546 [==============================] - 3s 48us/step - loss: 0.3635 - acc: 0.8782 - val_loss: 0.2733 - val_acc: 0.9274\n",
      "Epoch 13/30\n",
      "54546/54546 [==============================] - 2s 39us/step - loss: 0.3530 - acc: 0.8825 - val_loss: 0.2535 - val_acc: 0.9309\n",
      "Epoch 14/30\n",
      "54546/54546 [==============================] - 2s 41us/step - loss: 0.3410 - acc: 0.8860 - val_loss: 0.2497 - val_acc: 0.9336\n",
      "Epoch 15/30\n",
      "54546/54546 [==============================] - 2s 39us/step - loss: 0.3326 - acc: 0.8888 - val_loss: 0.2496 - val_acc: 0.9320\n",
      "Epoch 16/30\n",
      "54546/54546 [==============================] - 2s 36us/step - loss: 0.3262 - acc: 0.8908 - val_loss: 0.2460 - val_acc: 0.9316\n",
      "Epoch 17/30\n",
      "54546/54546 [==============================] - 2s 37us/step - loss: 0.3183 - acc: 0.8935 - val_loss: 0.2318 - val_acc: 0.9334\n",
      "Epoch 18/30\n",
      "54546/54546 [==============================] - 2s 39us/step - loss: 0.3119 - acc: 0.8938 - val_loss: 0.2239 - val_acc: 0.9369\n",
      "Epoch 19/30\n",
      "54546/54546 [==============================] - 2s 35us/step - loss: 0.3056 - acc: 0.8971 - val_loss: 0.2208 - val_acc: 0.9384\n",
      "Epoch 20/30\n",
      "54546/54546 [==============================] - 2s 39us/step - loss: 0.3016 - acc: 0.8997 - val_loss: 0.2105 - val_acc: 0.9441\n",
      "Epoch 21/30\n",
      "54546/54546 [==============================] - 2s 35us/step - loss: 0.2958 - acc: 0.9013 - val_loss: 0.2124 - val_acc: 0.9397\n",
      "Epoch 22/30\n",
      "54546/54546 [==============================] - 2s 35us/step - loss: 0.2930 - acc: 0.8995 - val_loss: 0.2140 - val_acc: 0.9413\n",
      "Epoch 23/30\n",
      "54546/54546 [==============================] - 2s 38us/step - loss: 0.2850 - acc: 0.9042 - val_loss: 0.2092 - val_acc: 0.9377\n",
      "Epoch 24/30\n",
      "54546/54546 [==============================] - 2s 34us/step - loss: 0.2839 - acc: 0.9037 - val_loss: 0.2019 - val_acc: 0.9433\n",
      "Epoch 25/30\n",
      "54546/54546 [==============================] - 2s 36us/step - loss: 0.2777 - acc: 0.9074 - val_loss: 0.2009 - val_acc: 0.9428\n",
      "Epoch 26/30\n",
      "54546/54546 [==============================] - 2s 35us/step - loss: 0.2728 - acc: 0.9076 - val_loss: 0.1987 - val_acc: 0.9430\n",
      "Epoch 27/30\n",
      "54546/54546 [==============================] - 2s 40us/step - loss: 0.2657 - acc: 0.9110 - val_loss: 0.1887 - val_acc: 0.9474\n",
      "Epoch 28/30\n",
      "54546/54546 [==============================] - 3s 47us/step - loss: 0.2658 - acc: 0.9090 - val_loss: 0.1899 - val_acc: 0.9472\n",
      "Epoch 29/30\n",
      "54546/54546 [==============================] - 2s 42us/step - loss: 0.2593 - acc: 0.9119 - val_loss: 0.1912 - val_acc: 0.9422\n",
      "Epoch 30/30\n",
      "54546/54546 [==============================] - 3s 46us/step - loss: 0.2581 - acc: 0.9124 - val_loss: 0.1979 - val_acc: 0.9419\n"
     ]
    }
   ],
   "source": [
    "\"\"\"CNN-3-CONV-LAYERS\"\"\"\n",
    "model_7.compile(loss='categorical_crossentropy',\n",
    "              optimizer='adam', metrics=['accuracy'])\n",
    "train_history_7= model_7.fit(x= x_train, y= y_train, validation_split= Vld_Splt,\n",
    "                         epochs= epochs, batch_size= batch_size, verbose=1)"
   ]
  },
  {
   "cell_type": "code",
   "execution_count": 25,
   "metadata": {},
   "outputs": [
    {
     "name": "stdout",
     "output_type": "stream",
     "text": [
      "10000/10000 [==============================] - 1s 144us/step\n"
     ]
    },
    {
     "data": {
      "text/plain": [
       "0.7934"
      ]
     },
     "execution_count": 25,
     "metadata": {},
     "output_type": "execute_result"
    }
   ],
   "source": [
    "\"\"\"one-CONV-LAYERS-THICK\"\"\"\n",
    "scores_0= model_0.evaluate(x_test, y_test)\n",
    "scores_0[1]"
   ]
  },
  {
   "cell_type": "code",
   "execution_count": 26,
   "metadata": {},
   "outputs": [
    {
     "name": "stdout",
     "output_type": "stream",
     "text": [
      "10000/10000 [==============================] - 1s 115us/step\n"
     ]
    },
    {
     "data": {
      "text/plain": [
       "0.8903"
      ]
     },
     "execution_count": 26,
     "metadata": {},
     "output_type": "execute_result"
    }
   ],
   "source": [
    "\"\"\"two-CONV-LAYERS-THICK\"\"\"\n",
    "scores_1= model_1.evaluate(x_test, y_test)\n",
    "scores_1[1]"
   ]
  },
  {
   "cell_type": "code",
   "execution_count": 27,
   "metadata": {},
   "outputs": [
    {
     "name": "stdout",
     "output_type": "stream",
     "text": [
      "10000/10000 [==============================] - 1s 112us/step\n"
     ]
    },
    {
     "data": {
      "text/plain": [
       "0.9206"
      ]
     },
     "execution_count": 27,
     "metadata": {},
     "output_type": "execute_result"
    }
   ],
   "source": [
    "\"\"\"three-CONV-LAYERS-THICK\"\"\"\n",
    "scores_2= model_2.evaluate(x_test, y_test)\n",
    "scores_2[1]"
   ]
  },
  {
   "cell_type": "code",
   "execution_count": 28,
   "metadata": {},
   "outputs": [
    {
     "name": "stdout",
     "output_type": "stream",
     "text": [
      "10000/10000 [==============================] - 1s 105us/step\n"
     ]
    },
    {
     "data": {
      "text/plain": [
       "0.9469"
      ]
     },
     "execution_count": 28,
     "metadata": {},
     "output_type": "execute_result"
    }
   ],
   "source": [
    "\"\"\"four-CONV-LAYERS-THICK\"\"\"\n",
    "scores_3= model_3.evaluate(x_test, y_test)\n",
    "scores_3[1]"
   ]
  },
  {
   "cell_type": "code",
   "execution_count": 29,
   "metadata": {},
   "outputs": [
    {
     "name": "stdout",
     "output_type": "stream",
     "text": [
      "10000/10000 [==============================] - 1s 89us/step\n"
     ]
    },
    {
     "data": {
      "text/plain": [
       "0.9704"
      ]
     },
     "execution_count": 29,
     "metadata": {},
     "output_type": "execute_result"
    }
   ],
   "source": [
    "\"\"\"five-CONV-LAYERS-THICK\"\"\"\n",
    "scores_4= model_4.evaluate(x_test, y_test)\n",
    "scores_4[1]"
   ]
  },
  {
   "cell_type": "code",
   "execution_count": 30,
   "metadata": {},
   "outputs": [
    {
     "name": "stdout",
     "output_type": "stream",
     "text": [
      "10000/10000 [==============================] - 1s 98us/step\n"
     ]
    },
    {
     "data": {
      "text/plain": [
       "0.9712"
      ]
     },
     "execution_count": 30,
     "metadata": {},
     "output_type": "execute_result"
    }
   ],
   "source": [
    "\"\"\"six-CONV-LAYERS-THICK\"\"\"\n",
    "scores_5= model_5.evaluate(x_test, y_test)\n",
    "scores_5[1]"
   ]
  },
  {
   "cell_type": "code",
   "execution_count": 31,
   "metadata": {},
   "outputs": [
    {
     "name": "stdout",
     "output_type": "stream",
     "text": [
      "10000/10000 [==============================] - 1s 122us/step\n"
     ]
    },
    {
     "data": {
      "text/plain": [
       "0.9779"
      ]
     },
     "execution_count": 31,
     "metadata": {},
     "output_type": "execute_result"
    }
   ],
   "source": [
    "\"\"\"seven-CONV-LAYERS-THICK\"\"\"\n",
    "scores_6= model_6.evaluate(x_test, y_test)\n",
    "scores_6[1]"
   ]
  },
  {
   "cell_type": "code",
   "execution_count": 32,
   "metadata": {},
   "outputs": [
    {
     "name": "stdout",
     "output_type": "stream",
     "text": [
      "10000/10000 [==============================] - 1s 93us/step\n"
     ]
    },
    {
     "data": {
      "text/plain": [
       "0.9435"
      ]
     },
     "execution_count": 32,
     "metadata": {},
     "output_type": "execute_result"
    }
   ],
   "source": [
    "\"\"\"CNN\"\"\"\n",
    "scores_7= model_7.evaluate(x_test, y_test)\n",
    "scores_7[1]"
   ]
  },
  {
   "cell_type": "code",
   "execution_count": 33,
   "metadata": {},
   "outputs": [],
   "source": [
    "import matplotlib.pyplot as plt\n",
    "def show_train_history(train_history, train, validation):\n",
    "    plt.plot(train_history.history[train])\n",
    "    plt.plot(train_history.history[validation])\n",
    "    plt.title('Train History')\n",
    "    plt.ylabel(train)\n",
    "    plt.xlabel('Epoch')\n",
    "    plt.legend(['train', 'validation'], loc='best')\n",
    "    plt.show()"
   ]
  },
  {
   "cell_type": "code",
   "execution_count": 34,
   "metadata": {},
   "outputs": [
    {
     "data": {
      "image/png": "[encoded data removed]",
      "text/plain": [
       "<Figure size 432x288 with 1 Axes>"
      ]
     },
     "metadata": {
      "needs_background": "light"
     },
     "output_type": "display_data"
    }
   ],
   "source": [
    "show_train_history(train_history_0, 'acc', 'val_acc')"
   ]
  },
  {
   "cell_type": "code",
   "execution_count": 35,
   "metadata": {},
   "outputs": [
    {
     "data": {
      "image/png": "[encoded data removed]",
      "text/plain": [
       "<Figure size 432x288 with 1 Axes>"
      ]
     },
     "metadata": {
      "needs_background": "light"
     },
     "output_type": "display_data"
    }
   ],
   "source": [
    "show_train_history(train_history_1, 'acc', 'val_acc')"
   ]
  },
  {
   "cell_type": "code",
   "execution_count": 36,
   "metadata": {},
   "outputs": [
    {
     "data": {
      "image/png": "[encoded data removed]",
      "text/plain": [
       "<Figure size 432x288 with 1 Axes>"
      ]
     },
     "metadata": {
      "needs_background": "light"
     },
     "output_type": "display_data"
    }
   ],
   "source": [
    "show_train_history(train_history_2, 'acc', 'val_acc')"
   ]
  },
  {
   "cell_type": "code",
   "execution_count": 37,
   "metadata": {},
   "outputs": [
    {
     "data": {
      "image/png": "[encoded data removed]",
      "text/plain": [
       "<Figure size 432x288 with 1 Axes>"
      ]
     },
     "metadata": {
      "needs_background": "light"
     },
     "output_type": "display_data"
    }
   ],
   "source": [
    "show_train_history(train_history_3, 'acc', 'val_acc')"
   ]
  },
  {
   "cell_type": "code",
   "execution_count": 38,
   "metadata": {},
   "outputs": [
    {
     "data": {
      "image/png": "[encoded data removed]",
      "text/plain": [
       "<Figure size 432x288 with 1 Axes>"
      ]
     },
     "metadata": {
      "needs_background": "light"
     },
     "output_type": "display_data"
    }
   ],
   "source": [
    "show_train_history(train_history_4, 'acc', 'val_acc')"
   ]
  },
  {
   "cell_type": "code",
   "execution_count": 39,
   "metadata": {},
   "outputs": [
    {
     "data": {
      "image/png": "[encoded data removed]",
      "text/plain": [
       "<Figure size 432x288 with 1 Axes>"
      ]
     },
     "metadata": {
      "needs_background": "light"
     },
     "output_type": "display_data"
    }
   ],
   "source": [
    "show_train_history(train_history_5, 'acc', 'val_acc')"
   ]
  },
  {
   "cell_type": "code",
   "execution_count": 40,
   "metadata": {},
   "outputs": [
    {
     "data": {
      "image/png": "[encoded data removed]",
      "text/plain": [
       "<Figure size 432x288 with 1 Axes>"
      ]
     },
     "metadata": {
      "needs_background": "light"
     },
     "output_type": "display_data"
    }
   ],
   "source": [
    "show_train_history(train_history_6, 'acc', 'val_acc')"
   ]
  },
  {
   "cell_type": "code",
   "execution_count": 41,
   "metadata": {},
   "outputs": [
    {
     "data": {
      "image/png": "[encoded data removed]",
      "text/plain": [
       "<Figure size 432x288 with 1 Axes>"
      ]
     },
     "metadata": {
      "needs_background": "light"
     },
     "output_type": "display_data"
    }
   ],
   "source": [
    "show_train_history(train_history_7, 'acc', 'val_acc')"
   ]
  },
  {
   "cell_type": "code",
   "execution_count": 42,
   "metadata": {},
   "outputs": [
    {
     "data": {
      "image/png": "[encoded data removed]",
      "text/plain": [
       "<Figure size 432x288 with 1 Axes>"
      ]
     },
     "metadata": {
      "needs_background": "light"
     },
     "output_type": "display_data"
    }
   ],
   "source": [
    "plt.plot(train_history_0.history['val_acc'], 'r-')\n",
    "plt.plot(train_history_1.history['val_acc'], 'b--')\n",
    "plt.plot(train_history_2.history['val_acc'], 'k.')\n",
    "plt.plot(train_history_3.history['val_acc'], 'b-')\n",
    "plt.plot(train_history_4.history['val_acc'], 'h-')\n",
    "plt.plot(train_history_5.history['val_acc'], 'c-')\n",
    "plt.plot(train_history_6.history['val_acc'], 'g*-')\n",
    "plt.plot(train_history_7.history['val_acc'], 'k-.')\n",
    "plt.title('Training on Fasion_MNIST')\n",
    "plt.ylabel('Validation Accuracy')\n",
    "plt.xlabel('Epoch')\n",
    "plt.legend(['CapsNet: 1-conv','CapsNet: 2-conv','CapsNet: 3-conv','CapsNet: 4-conv','CapsNet: 5-conv','CapsNet: 6-conv',\n",
    "           'CapsNet: 7-conv','CNN-2CONV'], loc='best')\n",
    "plt.show()"
   ]
  },
  {
   "cell_type": "code",
   "execution_count": null,
   "metadata": {},
   "outputs": [],
   "source": []
  }
 ],
 "metadata": {
  "kernelspec": {
   "display_name": "Python 3",
   "language": "python",
   "name": "python3"
  },
  "language_info": {
   "codemirror_mode": {
    "name": "ipython",
    "version": 3
   },
   "file_extension": ".py",
   "mimetype": "text/x-python",
   "name": "python",
   "nbconvert_exporter": "python",
   "pygments_lexer": "ipython3",
   "version": "3.6.10"
  }
 },
 "nbformat": 4,
 "nbformat_minor": 2
}
