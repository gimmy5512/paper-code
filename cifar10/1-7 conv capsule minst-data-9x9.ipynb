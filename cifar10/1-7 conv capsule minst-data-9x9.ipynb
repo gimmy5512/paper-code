{
 "cells": [
  {
   "cell_type": "code",
   "execution_count": 1,
   "metadata": {},
   "outputs": [],
   "source": [
    "import os\n"
   ]
  },
  {
   "cell_type": "code",
   "execution_count": 2,
   "metadata": {},
   "outputs": [
    {
     "name": "stderr",
     "output_type": "stream",
     "text": [
      "Using TensorFlow backend.\n",
      "C:\\Users\\ASUS\\Anaconda3\\envs\\tensorflow-gpu\\lib\\site-packages\\tensorflow\\python\\framework\\dtypes.py:526: FutureWarning: Passing (type, 1) or '1type' as a synonym of type is deprecated; in a future version of numpy, it will be understood as (type, (1,)) / '(1,)type'.\n",
      "  _np_qint8 = np.dtype([(\"qint8\", np.int8, 1)])\n",
      "C:\\Users\\ASUS\\Anaconda3\\envs\\tensorflow-gpu\\lib\\site-packages\\tensorflow\\python\\framework\\dtypes.py:527: FutureWarning: Passing (type, 1) or '1type' as a synonym of type is deprecated; in a future version of numpy, it will be understood as (type, (1,)) / '(1,)type'.\n",
      "  _np_quint8 = np.dtype([(\"quint8\", np.uint8, 1)])\n",
      "C:\\Users\\ASUS\\Anaconda3\\envs\\tensorflow-gpu\\lib\\site-packages\\tensorflow\\python\\framework\\dtypes.py:528: FutureWarning: Passing (type, 1) or '1type' as a synonym of type is deprecated; in a future version of numpy, it will be understood as (type, (1,)) / '(1,)type'.\n",
      "  _np_qint16 = np.dtype([(\"qint16\", np.int16, 1)])\n",
      "C:\\Users\\ASUS\\Anaconda3\\envs\\tensorflow-gpu\\lib\\site-packages\\tensorflow\\python\\framework\\dtypes.py:529: FutureWarning: Passing (type, 1) or '1type' as a synonym of type is deprecated; in a future version of numpy, it will be understood as (type, (1,)) / '(1,)type'.\n",
      "  _np_quint16 = np.dtype([(\"quint16\", np.uint16, 1)])\n",
      "C:\\Users\\ASUS\\Anaconda3\\envs\\tensorflow-gpu\\lib\\site-packages\\tensorflow\\python\\framework\\dtypes.py:530: FutureWarning: Passing (type, 1) or '1type' as a synonym of type is deprecated; in a future version of numpy, it will be understood as (type, (1,)) / '(1,)type'.\n",
      "  _np_qint32 = np.dtype([(\"qint32\", np.int32, 1)])\n",
      "C:\\Users\\ASUS\\Anaconda3\\envs\\tensorflow-gpu\\lib\\site-packages\\tensorflow\\python\\framework\\dtypes.py:535: FutureWarning: Passing (type, 1) or '1type' as a synonym of type is deprecated; in a future version of numpy, it will be understood as (type, (1,)) / '(1,)type'.\n",
      "  np_resource = np.dtype([(\"resource\", np.ubyte, 1)])\n"
     ]
    }
   ],
   "source": [
    "from __future__ import print_function\n",
    "from keras import backend as K\n",
    "from keras.layers import Layer\n",
    "from keras import activations\n",
    "from keras import utils\n",
    "from keras.datasets import fashion_mnist\n",
    "from keras.datasets import mnist\n",
    "from keras.datasets import cifar10\n",
    "from keras.models import Model\n",
    "from keras.layers import *\n",
    "from keras.preprocessing.image import ImageDataGenerator\n",
    "import cv2"
   ]
  },
  {
   "cell_type": "code",
   "execution_count": 3,
   "metadata": {},
   "outputs": [],
   "source": [
    "from tensorflow.compat.v1 import ConfigProto\n",
    "from tensorflow.compat.v1 import InteractiveSession\n",
    "\n",
    "config = ConfigProto()\n",
    "config.gpu_options.allow_growth = True\n",
    "session = InteractiveSession(config=config)"
   ]
  },
  {
   "cell_type": "code",
   "execution_count": 4,
   "metadata": {},
   "outputs": [],
   "source": [
    "Vld_Splt= 0.0909\n",
    "batch_size = 200\n",
    "num_classes = 10\n",
    "epochs = 30"
   ]
  },
  {
   "cell_type": "code",
   "execution_count": 5,
   "metadata": {},
   "outputs": [],
   "source": [
    "(x_train, y_train), (x_test, y_test) = cifar10.load_data()\n",
    "\n",
    "x_train = x_train.astype('float32')\n",
    "x_test = x_test.astype('float32')\n",
    "x_train /= 255\n",
    "x_test /= 255\n",
    "y_train = utils.to_categorical(y_train, num_classes)\n",
    "y_test = utils.to_categorical(y_test, num_classes)"
   ]
  },
  {
   "cell_type": "code",
   "execution_count": 6,
   "metadata": {},
   "outputs": [
    {
     "name": "stdout",
     "output_type": "stream",
     "text": [
      "(50000, 10) \n",
      " (10000, 10) \n",
      " (50000, 32, 32, 3) \n",
      " (10000, 32, 32, 3)\n"
     ]
    }
   ],
   "source": [
    "print(y_train.shape, '\\n',y_test.shape,'\\n',\n",
    "      x_train.shape,'\\n', x_test.shape)"
   ]
  },
  {
   "cell_type": "code",
   "execution_count": 7,
   "metadata": {},
   "outputs": [],
   "source": [
    "# the squashing function.\n",
    "# we use 0.5 in stead of 1 in hinton's paper.\n",
    "# if 1, the norm of vector will be zoomed out.\n",
    "# if 0.5, the norm will be zoomed in while original norm is less than 0.5\n",
    "# and be zoomed out while original norm is greater than 0.5.\n",
    "def squash(x, axis=-1):\n",
    "    s_squared_norm = K.sum(K.square(x), axis, keepdims=True) + K.epsilon()\n",
    "    scale = K.sqrt(s_squared_norm) / (0.5 + s_squared_norm)\n",
    "    return scale * x\n",
    "\n",
    "\n",
    "# define our own softmax function instead of K.softmax\n",
    "# because K.softmax can not specify axis.\n",
    "def softmax(x, axis=-1):\n",
    "    ex = K.exp(x - K.max(x, axis=axis, keepdims=True))\n",
    "    return ex / K.sum(ex, axis=axis, keepdims=True)\n",
    "\n",
    "\n",
    "# define the margin loss like hinge loss\n",
    "def margin_loss(y_true, y_pred):\n",
    "    lamb, margin = 0.5, 0.1\n",
    "    return K.sum(y_true * K.square(K.relu(1 - margin - y_pred)) + lamb * (\n",
    "        1 - y_true) * K.square(K.relu(y_pred - margin)), axis=-1)\n",
    "\n",
    "\n",
    "class Capsule(Layer):\n",
    "    \"\"\"A Capsule Implement with Pure Keras\n",
    "    There are two vesions of Capsule.\n",
    "    One is like dense layer (for the fixed-shape input),\n",
    "    and the other is like timedistributed dense (for various length input).\n",
    "\n",
    "    The input shape of Capsule must be (batch_size,\n",
    "                                        input_num_capsule,\n",
    "                                        input_dim_capsule\n",
    "                                       )\n",
    "    and the output shape is (batch_size,\n",
    "                             num_capsule,\n",
    "                             dim_capsule\n",
    "                            )\n",
    "\n",
    "    Capsule Implement is from https://github.com/bojone/Capsule/\n",
    "    Capsule Paper: https://arxiv.org/abs/1710.09829\n",
    "    \"\"\"\n",
    "\n",
    "    def __init__(self,\n",
    "                 num_capsule,\n",
    "                 dim_capsule,\n",
    "                 routings=3,\n",
    "                 share_weights=True,\n",
    "                 activation='squash',\n",
    "                 **kwargs):\n",
    "        super(Capsule, self).__init__(**kwargs)\n",
    "        self.num_capsule = num_capsule\n",
    "        self.dim_capsule = dim_capsule\n",
    "        self.routings = routings\n",
    "        self.share_weights = share_weights\n",
    "        if activation == 'squash':\n",
    "            self.activation = squash\n",
    "        else:\n",
    "            self.activation = activations.get(activation)\n",
    "\n",
    "    def build(self, input_shape):\n",
    "        input_dim_capsule = input_shape[-1]\n",
    "        if self.share_weights:\n",
    "            self.kernel = self.add_weight(\n",
    "                name='capsule_kernel',\n",
    "                shape=(1, input_dim_capsule,\n",
    "                       self.num_capsule * self.dim_capsule),\n",
    "                initializer='glorot_uniform',\n",
    "                trainable=True)\n",
    "        else:\n",
    "            input_num_capsule = input_shape[-2]\n",
    "            self.kernel = self.add_weight(\n",
    "                name='capsule_kernel',\n",
    "                shape=(input_num_capsule, input_dim_capsule,\n",
    "                       self.num_capsule * self.dim_capsule),\n",
    "                initializer='glorot_uniform',\n",
    "                trainable=True)\n",
    "\n",
    "    def call(self, inputs):\n",
    "        \"\"\"Following the routing algorithm from Hinton's paper,\n",
    "        but replace b = b + <u,v> with b = <u,v>.\n",
    "\n",
    "        This change can improve the feature representation of Capsule.\n",
    "\n",
    "        However, you can replace\n",
    "            b = K.batch_dot(outputs, hat_inputs, [2, 3])\n",
    "        with\n",
    "            b += K.batch_dot(outputs, hat_inputs, [2, 3])\n",
    "        to realize a standard routing.\n",
    "        \"\"\"\n",
    "\n",
    "        if self.share_weights:\n",
    "            hat_inputs = K.conv1d(inputs, self.kernel)\n",
    "        else:\n",
    "            hat_inputs = K.local_conv1d(inputs, self.kernel, [1], [1])\n",
    "\n",
    "        batch_size = K.shape(inputs)[0]\n",
    "        input_num_capsule = K.shape(inputs)[1]\n",
    "        hat_inputs = K.reshape(hat_inputs,\n",
    "                               (batch_size, input_num_capsule,\n",
    "                                self.num_capsule, self.dim_capsule))\n",
    "        hat_inputs = K.permute_dimensions(hat_inputs, (0, 2, 1, 3))\n",
    "\n",
    "        b = K.zeros_like(hat_inputs[:, :, :, 0])\n",
    "        for i in range(self.routings):\n",
    "            c = softmax(b, 1)\n",
    "            o = self.activation(K.batch_dot(c, hat_inputs, [2, 2]))\n",
    "            if i < self.routings - 1:\n",
    "                b = K.batch_dot(o, hat_inputs, [2, 3])\n",
    "                if K.backend() == 'theano':\n",
    "                    o = K.sum(o, axis=1)\n",
    "\n",
    "        return o\n",
    "\n",
    "    def compute_output_shape(self, input_shape):\n",
    "        return (None, self.num_capsule, self.dim_capsule)"
   ]
  },
  {
   "cell_type": "code",
   "execution_count": 34,
   "metadata": {},
   "outputs": [
    {
     "name": "stdout",
     "output_type": "stream",
     "text": [
      "_________________________________________________________________\n",
      "Layer (type)                 Output Shape              Param #   \n",
      "=================================================================\n",
      "input_7 (InputLayer)         (None, 32, 32, 3)         0         \n",
      "_________________________________________________________________\n",
      "conv2d_15 (Conv2D)           (None, 12, 12, 140)       34160     \n",
      "_________________________________________________________________\n",
      "dropout_15 (Dropout)         (None, 12, 12, 140)       0         \n",
      "_________________________________________________________________\n",
      "reshape_7 (Reshape)          (None, 144, 140)          0         \n",
      "_________________________________________________________________\n",
      "capsule_7 (Capsule)          (None, 10, 16)            22400     \n",
      "_________________________________________________________________\n",
      "lambda_7 (Lambda)            (None, 10)                0         \n",
      "=================================================================\n",
      "Total params: 56,560\n",
      "Trainable params: 56,560\n",
      "Non-trainable params: 0\n",
      "_________________________________________________________________\n"
     ]
    }
   ],
   "source": [
    "\"\"\"one-CONV-LAYERS-THICK\"\"\"\n",
    "input_image = Input(shape=(x_train.shape[1], x_train.shape[2], x_train.shape[3]))\n",
    "x_0 = Conv2D(filters= 140, kernel_size= 9, activation='relu', \n",
    "             strides= 2)(input_image)\n",
    "x_0= Dropout(0.1)(x_0)\n",
    "\n",
    "\n",
    "\"\"\"now we reshape it as (batch_size, input_num_capsule, input_dim_capsule)\n",
    "then connect a Capsule layer.\n",
    "\n",
    "the output of final model is the lengths of 10 Capsule, whose dim=16.\n",
    "\n",
    "the length of Capsule is the proba,\n",
    "so the problem becomes a 10 two-classification problem.\n",
    "\"\"\"\n",
    "\n",
    "x_0 = Reshape((-1, 140))(x_0)\n",
    "capsule_0 = Capsule(num_classes, 16, 3, True)(x_0)\n",
    "output_0 = Lambda(lambda z: K.sqrt(K.sum(K.square(z), 2)))(capsule_0)\n",
    "model_0 = Model(inputs= input_image, outputs= output_0)\n",
    "\n",
    "# we use a margin loss\n",
    "model_0.compile(loss =margin_loss, optimizer='adam', metrics=['accuracy'])\n",
    "model_0.summary()\n",
    "\n",
    "# we can compare the performance with or without data augmentation\n",
    "data_augmentation = False"
   ]
  },
  {
   "cell_type": "code",
   "execution_count": 9,
   "metadata": {},
   "outputs": [
    {
     "name": "stdout",
     "output_type": "stream",
     "text": [
      "_________________________________________________________________\n",
      "Layer (type)                 Output Shape              Param #   \n",
      "=================================================================\n",
      "input_2 (InputLayer)         (None, 32, 32, 3)         0         \n",
      "_________________________________________________________________\n",
      "conv2d_2 (Conv2D)            (None, 24, 24, 10)        2440      \n",
      "_________________________________________________________________\n",
      "dropout_2 (Dropout)          (None, 24, 24, 10)        0         \n",
      "_________________________________________________________________\n",
      "conv2d_3 (Conv2D)            (None, 16, 16, 52)        42172     \n",
      "_________________________________________________________________\n",
      "dropout_3 (Dropout)          (None, 16, 16, 52)        0         \n",
      "_________________________________________________________________\n",
      "reshape_2 (Reshape)          (None, 256, 52)           0         \n",
      "_________________________________________________________________\n",
      "capsule_2 (Capsule)          (None, 10, 16)            8320      \n",
      "_________________________________________________________________\n",
      "lambda_2 (Lambda)            (None, 10)                0         \n",
      "=================================================================\n",
      "Total params: 52,932\n",
      "Trainable params: 52,932\n",
      "Non-trainable params: 0\n",
      "_________________________________________________________________\n"
     ]
    }
   ],
   "source": [
    "\"\"\"two-CONV-LAYERS-THICK\"\"\"\n",
    "input_image = Input(shape=(x_train.shape[1], x_train.shape[2], x_train.shape[3]))\n",
    "x_1 = Conv2D(filters= 10, kernel_size= 9, activation='relu', \n",
    "             padding= 'valid')(input_image)\n",
    "x_1= Dropout(0.1)(x_1)\n",
    "x_1 = Conv2D(filters= 52, kernel_size= 9, activation='relu',\n",
    "             strides= 1)(x_1)\n",
    "x_1 = Dropout(0.1)(x_1)\n",
    "\n",
    "\n",
    "\"\"\"now we reshape it as (batch_size, input_num_capsule, input_dim_capsule)\n",
    "then connect a Capsule layer.\n",
    "\n",
    "the output of final model is the lengths of 10 Capsule, whose dim=16.\n",
    "\n",
    "the length of Capsule is the proba,\n",
    "so the problem becomes a 10 two-classification problem.\n",
    "\"\"\"\n",
    "\n",
    "x_1 = Reshape((-1, 52))(x_1)\n",
    "capsule_1 = Capsule(num_classes, 16, 3, True)(x_1)\n",
    "output_1 = Lambda(lambda z: K.sqrt(K.sum(K.square(z), 2)))(capsule_1)\n",
    "model_1= Model(inputs= input_image, outputs= output_1)\n",
    "\n",
    "# we use a margin loss\n",
    "model_1.compile(loss =margin_loss, optimizer='adam', metrics=['accuracy'])\n",
    "model_1.summary()\n",
    "\n",
    "# we can compare the performance with or without data augmentation\n",
    "data_augmentation = False"
   ]
  },
  {
   "cell_type": "code",
   "execution_count": 10,
   "metadata": {},
   "outputs": [
    {
     "name": "stdout",
     "output_type": "stream",
     "text": [
      "_________________________________________________________________\n",
      "Layer (type)                 Output Shape              Param #   \n",
      "=================================================================\n",
      "input_3 (InputLayer)         (None, 32, 32, 3)         0         \n",
      "_________________________________________________________________\n",
      "conv2d_4 (Conv2D)            (None, 24, 24, 10)        2440      \n",
      "_________________________________________________________________\n",
      "dropout_4 (Dropout)          (None, 24, 24, 10)        0         \n",
      "_________________________________________________________________\n",
      "conv2d_5 (Conv2D)            (None, 16, 16, 20)        16220     \n",
      "_________________________________________________________________\n",
      "dropout_5 (Dropout)          (None, 16, 16, 20)        0         \n",
      "_________________________________________________________________\n",
      "conv2d_6 (Conv2D)            (None, 8, 8, 22)          35662     \n",
      "_________________________________________________________________\n",
      "dropout_6 (Dropout)          (None, 8, 8, 22)          0         \n",
      "_________________________________________________________________\n",
      "reshape_3 (Reshape)          (None, 64, 22)            0         \n",
      "_________________________________________________________________\n",
      "capsule_3 (Capsule)          (None, 10, 16)            3520      \n",
      "_________________________________________________________________\n",
      "lambda_3 (Lambda)            (None, 10)                0         \n",
      "=================================================================\n",
      "Total params: 57,842\n",
      "Trainable params: 57,842\n",
      "Non-trainable params: 0\n",
      "_________________________________________________________________\n"
     ]
    }
   ],
   "source": [
    "\"\"\"three-CONV-LAYERS-THICK\"\"\"\n",
    "input_image = Input(shape=(x_train.shape[1], x_train.shape[2], x_train.shape[3]))\n",
    "x_2 = Conv2D(filters=10, kernel_size= 9, activation='relu', \n",
    "             padding= 'valid')(input_image)\n",
    "x_2= Dropout(0.1)(x_2)\n",
    "x_2 = Conv2D(filters= 20 , kernel_size= 9, activation='relu',\n",
    "             strides= 1)(x_2)\n",
    "x_2 = Dropout(0.1)(x_2)\n",
    "x_2 = Conv2D(filters= 22, kernel_size= 9, activation='relu',\n",
    "             strides= 1)(x_2)\n",
    "x_2 = Dropout(0.1)(x_2)\n",
    "\n",
    "\n",
    "\"\"\"now we reshape it as (batch_size, input_num_capsule, input_dim_capsule)\n",
    "then connect a Capsule layer.\n",
    "\n",
    "the output of final model is the lengths of 10 Capsule, whose dim=16.\n",
    "\n",
    "the length of Capsule is the proba,\n",
    "so the problem becomes a 10 two-classification problem.\n",
    "\"\"\"\n",
    "\n",
    "x_2 = Reshape((-1, 22))(x_2)\n",
    "capsule_2 = Capsule(num_classes, 16, 3, True)(x_2)\n",
    "output_2 = Lambda(lambda z: K.sqrt(K.sum(K.square(z), 2)))(capsule_2)\n",
    "model_2= Model(inputs= input_image, outputs= output_2)\n",
    "\n",
    "# we use a margin loss\n",
    "model_2.compile(loss =margin_loss, optimizer='adam', metrics=['accuracy'])\n",
    "model_2.summary()\n",
    "\n",
    "# we can compare the performance with or without data augmentation\n",
    "data_augmentation = False"
   ]
  },
  {
   "cell_type": "code",
   "execution_count": 11,
   "metadata": {},
   "outputs": [
    {
     "name": "stdout",
     "output_type": "stream",
     "text": [
      "_________________________________________________________________\n",
      "Layer (type)                 Output Shape              Param #   \n",
      "=================================================================\n",
      "input_4 (InputLayer)         (None, 32, 32, 3)         0         \n",
      "_________________________________________________________________\n",
      "conv2d_7 (Conv2D)            (None, 32, 32, 10)        2440      \n",
      "_________________________________________________________________\n",
      "dropout_7 (Dropout)          (None, 32, 32, 10)        0         \n",
      "_________________________________________________________________\n",
      "conv2d_8 (Conv2D)            (None, 24, 24, 15)        12165     \n",
      "_________________________________________________________________\n",
      "dropout_8 (Dropout)          (None, 24, 24, 15)        0         \n",
      "_________________________________________________________________\n",
      "conv2d_9 (Conv2D)            (None, 16, 16, 15)        18240     \n",
      "_________________________________________________________________\n",
      "dropout_9 (Dropout)          (None, 16, 16, 15)        0         \n",
      "_________________________________________________________________\n",
      "conv2d_10 (Conv2D)           (None, 8, 8, 20)          24320     \n",
      "_________________________________________________________________\n",
      "dropout_10 (Dropout)         (None, 8, 8, 20)          0         \n",
      "_________________________________________________________________\n",
      "reshape_4 (Reshape)          (None, 64, 20)            0         \n",
      "_________________________________________________________________\n",
      "capsule_4 (Capsule)          (None, 10, 16)            3200      \n",
      "_________________________________________________________________\n",
      "lambda_4 (Lambda)            (None, 10)                0         \n",
      "=================================================================\n",
      "Total params: 60,365\n",
      "Trainable params: 60,365\n",
      "Non-trainable params: 0\n",
      "_________________________________________________________________\n"
     ]
    }
   ],
   "source": [
    "\"\"\"four-CONV-LAYERS-THICK\"\"\"\n",
    "input_image = Input(shape=(x_train.shape[1], x_train.shape[2], x_train.shape[3]))\n",
    "x_3 = Conv2D(filters= 10, kernel_size= 9, activation='relu', \n",
    "              padding= 'same')(input_image)\n",
    "x_3= Dropout(0.1)(x_3)\n",
    "x_3 = Conv2D(filters= 15 ,kernel_size= 9, activation='relu',\n",
    "             strides= 1)(x_3)\n",
    "x_3 = Dropout(0.1)(x_3)\n",
    "x_3 = Conv2D(filters= 15, kernel_size= 9, activation='relu',\n",
    "             strides= 1)(x_3)\n",
    "x_3= Dropout(0.1)(x_3)\n",
    "x_3 = Conv2D(filters= 20,kernel_size= 9, activation='relu',\n",
    "             strides= 1)(x_3)\n",
    "x_3= Dropout(0.1)(x_3)\n",
    "\n",
    "\n",
    "\"\"\"now we reshape it as (batch_size, input_num_capsule, input_dim_capsule)\n",
    "then connect a Capsule layer.\n",
    "\n",
    "the output of final model is the lengths of 10 Capsule, whose dim=16.\n",
    "\n",
    "the length of Capsule is the proba,\n",
    "so the problem becomes a 10 two-classification problem.\n",
    "\"\"\"\n",
    "\n",
    "x_3 = Reshape((-1, 20))(x_3)\n",
    "capsule_3 = Capsule(num_classes, 16, 3, True)(x_3)\n",
    "output_3 = Lambda(lambda z: K.sqrt(K.sum(K.square(z), 2)))(capsule_3)\n",
    "model_3= Model(inputs= input_image, outputs= output_3)\n",
    "\n",
    "# we use a margin loss\n",
    "model_3.compile(loss =margin_loss, optimizer='adam', metrics=['accuracy'])\n",
    "model_3.summary()\n",
    "\n",
    "# we can compare the performance with or without data augmentation\n",
    "data_augmentation = False"
   ]
  },
  {
   "cell_type": "code",
   "execution_count": 50,
   "metadata": {},
   "outputs": [
    {
     "name": "stdout",
     "output_type": "stream",
     "text": [
      "_________________________________________________________________\n",
      "Layer (type)                 Output Shape              Param #   \n",
      "=================================================================\n",
      "conv2d_16 (Conv2D)           (None, 24, 24, 5)         1220      \n",
      "_________________________________________________________________\n",
      "max_pooling2d_3 (MaxPooling2 (None, 12, 12, 5)         0         \n",
      "_________________________________________________________________\n",
      "conv2d_17 (Conv2D)           (None, 12, 12, 15)        6090      \n",
      "_________________________________________________________________\n",
      "dropout_16 (Dropout)         (None, 12, 12, 15)        0         \n",
      "_________________________________________________________________\n",
      "max_pooling2d_4 (MaxPooling2 (None, 6, 6, 15)          0         \n",
      "_________________________________________________________________\n",
      "flatten_2 (Flatten)          (None, 540)               0         \n",
      "_________________________________________________________________\n",
      "dropout_17 (Dropout)         (None, 540)               0         \n",
      "_________________________________________________________________\n",
      "dense_3 (Dense)              (None, 256)               138496    \n",
      "_________________________________________________________________\n",
      "dense_4 (Dense)              (None, 10)                2570      \n",
      "=================================================================\n",
      "Total params: 148,376\n",
      "Trainable params: 148,376\n",
      "Non-trainable params: 0\n",
      "_________________________________________________________________\n",
      "None\n"
     ]
    }
   ],
   "source": [
    "\"\"\"CNN-3-CONV-LAYERS\"\"\"\n",
    "from keras.models import Sequential\n",
    "from keras.layers import Dense, Dropout, Activation, Flatten, Conv2D, MaxPooling2D, \\\n",
    "                         ZeroPadding2D\n",
    "\n",
    "model_4= Sequential()\n",
    "model_4.add(Conv2D(filters= 5, kernel_size= (9, 9), padding= 'valid', \n",
    "                   input_shape=(x_train.shape[1], x_train.shape[2], x_train.shape[3]), \n",
    "                   activation='relu'))\n",
    "model_4.add(MaxPooling2D(pool_size=(2,2)))\n",
    "model_4.add(Conv2D(filters= 15, kernel_size= (9, 9), \n",
    "                    padding='same', activation='relu'))\n",
    "model_4.add(Dropout(0.4))\n",
    "model_4.add(MaxPooling2D(pool_size=(2,2)))\n",
    "\n",
    "model_4.add(Flatten())\n",
    "model_4.add(Dropout(0.6))\n",
    "model_4.add(Dense(256, activation='relu'))\n",
    "model_4.add(Dense(num_classes, activation='softmax'))\n",
    "print(model_4.summary())"
   ]
  },
  {
   "cell_type": "code",
   "execution_count": 35,
   "metadata": {},
   "outputs": [
    {
     "name": "stdout",
     "output_type": "stream",
     "text": [
      "Not using data augmentation.\n",
      "Train on 45455 samples, validate on 4545 samples\n",
      "Epoch 1/30\n",
      "45455/45455 [==============================] - 6s 132us/step - loss: 0.5452 - acc: 0.1960 - val_loss: 0.4948 - val_acc: 0.1864\n",
      "Epoch 2/30\n",
      "45455/45455 [==============================] - 5s 106us/step - loss: 0.4704 - acc: 0.2459 - val_loss: 0.4612 - val_acc: 0.2550\n",
      "Epoch 3/30\n",
      "45455/45455 [==============================] - 5s 102us/step - loss: 0.4549 - acc: 0.2724 - val_loss: 0.4490 - val_acc: 0.2834\n",
      "Epoch 4/30\n",
      "45455/45455 [==============================] - 5s 109us/step - loss: 0.4504 - acc: 0.2857 - val_loss: 0.4506 - val_acc: 0.2845\n",
      "Epoch 5/30\n",
      "45455/45455 [==============================] - 5s 111us/step - loss: 0.4482 - acc: 0.2928 - val_loss: 0.4442 - val_acc: 0.3043\n",
      "Epoch 6/30\n",
      "45455/45455 [==============================] - 5s 99us/step - loss: 0.4435 - acc: 0.3043 - val_loss: 0.4337 - val_acc: 0.3226\n",
      "Epoch 7/30\n",
      "45455/45455 [==============================] - 5s 103us/step - loss: 0.4389 - acc: 0.3168 - val_loss: 0.4323 - val_acc: 0.3294\n",
      "Epoch 8/30\n",
      "45455/45455 [==============================] - 5s 108us/step - loss: 0.4351 - acc: 0.3273 - val_loss: 0.4359 - val_acc: 0.3388\n",
      "Epoch 9/30\n",
      "45455/45455 [==============================] - 5s 109us/step - loss: 0.4318 - acc: 0.3390 - val_loss: 0.4223 - val_acc: 0.3578\n",
      "Epoch 10/30\n",
      "45455/45455 [==============================] - 5s 103us/step - loss: 0.4288 - acc: 0.3451 - val_loss: 0.4308 - val_acc: 0.3421\n",
      "Epoch 11/30\n",
      "45455/45455 [==============================] - 5s 102us/step - loss: 0.4271 - acc: 0.3503 - val_loss: 0.4166 - val_acc: 0.3804\n",
      "Epoch 12/30\n",
      "45455/45455 [==============================] - 5s 102us/step - loss: 0.4214 - acc: 0.3688 - val_loss: 0.4124 - val_acc: 0.3793\n",
      "Epoch 13/30\n",
      "45455/45455 [==============================] - 5s 105us/step - loss: 0.4200 - acc: 0.3680 - val_loss: 0.4276 - val_acc: 0.3582\n",
      "Epoch 14/30\n",
      "45455/45455 [==============================] - 5s 102us/step - loss: 0.4164 - acc: 0.3789 - val_loss: 0.4171 - val_acc: 0.3692\n",
      "Epoch 15/30\n",
      "45455/45455 [==============================] - 5s 102us/step - loss: 0.4154 - acc: 0.3804 - val_loss: 0.4270 - val_acc: 0.3593\n",
      "Epoch 16/30\n",
      "45455/45455 [==============================] - 5s 100us/step - loss: 0.4140 - acc: 0.3829 - val_loss: 0.4157 - val_acc: 0.3780\n",
      "Epoch 17/30\n",
      "45455/45455 [==============================] - 5s 102us/step - loss: 0.4105 - acc: 0.3890 - val_loss: 0.4035 - val_acc: 0.4075\n",
      "Epoch 18/30\n",
      "45455/45455 [==============================] - 5s 101us/step - loss: 0.4098 - acc: 0.3914 - val_loss: 0.4137 - val_acc: 0.3901\n",
      "Epoch 19/30\n",
      "45455/45455 [==============================] - 5s 100us/step - loss: 0.4069 - acc: 0.3968 - val_loss: 0.4105 - val_acc: 0.3967\n",
      "Epoch 20/30\n",
      "45455/45455 [==============================] - 5s 101us/step - loss: 0.4075 - acc: 0.3975 - val_loss: 0.4021 - val_acc: 0.3945\n",
      "Epoch 21/30\n",
      "45455/45455 [==============================] - 5s 101us/step - loss: 0.4027 - acc: 0.4044 - val_loss: 0.4093 - val_acc: 0.4026\n",
      "Epoch 22/30\n",
      "45455/45455 [==============================] - 5s 101us/step - loss: 0.4004 - acc: 0.4099 - val_loss: 0.4002 - val_acc: 0.4246\n",
      "Epoch 23/30\n",
      "45455/45455 [==============================] - 5s 101us/step - loss: 0.3990 - acc: 0.4140 - val_loss: 0.4122 - val_acc: 0.3657\n",
      "Epoch 24/30\n",
      "45455/45455 [==============================] - 5s 102us/step - loss: 0.3994 - acc: 0.4132 - val_loss: 0.3982 - val_acc: 0.4224\n",
      "Epoch 25/30\n",
      "45455/45455 [==============================] - 5s 106us/step - loss: 0.3976 - acc: 0.4181 - val_loss: 0.4054 - val_acc: 0.4024\n",
      "Epoch 26/30\n",
      "45455/45455 [==============================] - 5s 110us/step - loss: 0.3961 - acc: 0.4170 - val_loss: 0.3974 - val_acc: 0.4143\n",
      "Epoch 27/30\n",
      "45455/45455 [==============================] - 5s 103us/step - loss: 0.3953 - acc: 0.4186 - val_loss: 0.3935 - val_acc: 0.4213\n",
      "Epoch 28/30\n",
      "45455/45455 [==============================] - 5s 103us/step - loss: 0.3957 - acc: 0.4202 - val_loss: 0.3927 - val_acc: 0.4251\n",
      "Epoch 29/30\n",
      "45455/45455 [==============================] - 5s 104us/step - loss: 0.3954 - acc: 0.4212 - val_loss: 0.4048 - val_acc: 0.4033\n",
      "Epoch 30/30\n",
      "45455/45455 [==============================] - 5s 109us/step - loss: 0.3944 - acc: 0.4198 - val_loss: 0.4053 - val_acc: 0.3949\n"
     ]
    }
   ],
   "source": [
    "\"\"\"one-CONV-LAYERS-THICK\"\"\"\n",
    "if not data_augmentation:\n",
    "    print('Not using data augmentation.')\n",
    "    train_history_0= model_0.fit(\n",
    "        x_train,\n",
    "        y_train,\n",
    "        batch_size=batch_size,\n",
    "        epochs=epochs,\n",
    "        validation_split= Vld_Splt,\n",
    "        shuffle=True)\n",
    "else:\n",
    "    print('Using real-time data augmentation.')\n",
    "    # This will do preprocessing and realtime data augmentation:\n",
    "    datagen = ImageDataGenerator(\n",
    "        featurewise_center=False,  # set input mean to 0 over the dataset\n",
    "        samplewise_center=False,  # set each sample mean to 0\n",
    "        featurewise_std_normalization=False,  # divide inputs by dataset std\n",
    "        samplewise_std_normalization=False,  # divide each input by its std\n",
    "        zca_whitening=False,  # apply ZCA whitening\n",
    "        zca_epsilon=1e-06,  # epsilon for ZCA whitening\n",
    "        rotation_range=0,  # randomly rotate images in 0 to 180 degrees\n",
    "        width_shift_range=0.1,  # randomly shift images horizontally\n",
    "        height_shift_range=0.1,  # randomly shift images vertically\n",
    "        shear_range=0.,  # set range for random shear\n",
    "        zoom_range=0.,  # set range for random zoom\n",
    "        channel_shift_range=0.,  # set range for random channel shifts\n",
    "        # set mode for filling points outside the input boundaries\n",
    "        fill_mode='nearest',\n",
    "        cval=0.,  # value used for fill_mode = \"constant\"\n",
    "        horizontal_flip=True,  # randomly flip images\n",
    "        vertical_flip=False,  # randomly flip images\n",
    "        # set rescaling factor (applied before any other transformation)\n",
    "        rescale=None,\n",
    "        # set function that will be applied on each input\n",
    "        preprocessing_function=None,\n",
    "        # image data format, either \"channels_first\" or \"channels_last\"\n",
    "        data_format=None,\n",
    "        # fraction of images reserved for validation (strictly between 0 and 1)\n",
    "        validation_split=0.0)\n",
    "\n",
    "    # Compute quantities required for feature-wise normalization\n",
    "    # (std, mean, and principal components if ZCA whitening is applied).\n",
    "    datagen.fit(x_train)\n",
    "\n",
    "    # Fit the model on the batches generated by datagen.flow().\n",
    "    train_history_0= model_0.fit_generator(\n",
    "        datagen.flow(x_train, y_train, batch_size=batch_size),\n",
    "        epochs= epochs,\n",
    "        validation_split= Vld_Splt,\n",
    "        steps_per_epoch= int(x_train.shape[0]/ batch_size),\n",
    "        workers=4)"
   ]
  },
  {
   "cell_type": "code",
   "execution_count": 14,
   "metadata": {},
   "outputs": [
    {
     "name": "stdout",
     "output_type": "stream",
     "text": [
      "Not using data augmentation.\n",
      "Train on 45455 samples, validate on 4545 samples\n",
      "Epoch 1/30\n",
      "45455/45455 [==============================] - 6s 141us/step - loss: 0.4939 - acc: 0.2840 - val_loss: 0.4173 - val_acc: 0.3571\n",
      "Epoch 2/30\n",
      "45455/45455 [==============================] - 6s 130us/step - loss: 0.4066 - acc: 0.3906 - val_loss: 0.3952 - val_acc: 0.4176\n",
      "Epoch 3/30\n",
      "45455/45455 [==============================] - 6s 130us/step - loss: 0.3837 - acc: 0.4391 - val_loss: 0.3724 - val_acc: 0.4466\n",
      "Epoch 4/30\n",
      "45455/45455 [==============================] - 6s 130us/step - loss: 0.3719 - acc: 0.4595 - val_loss: 0.3699 - val_acc: 0.4640\n",
      "Epoch 5/30\n",
      "45455/45455 [==============================] - 6s 130us/step - loss: 0.3610 - acc: 0.4791 - val_loss: 0.3632 - val_acc: 0.4682\n",
      "Epoch 6/30\n",
      "45455/45455 [==============================] - 6s 130us/step - loss: 0.3544 - acc: 0.4916 - val_loss: 0.3601 - val_acc: 0.4807\n",
      "Epoch 7/30\n",
      "45455/45455 [==============================] - 6s 130us/step - loss: 0.3463 - acc: 0.5051 - val_loss: 0.3463 - val_acc: 0.4926\n",
      "Epoch 8/30\n",
      "45455/45455 [==============================] - 6s 131us/step - loss: 0.3411 - acc: 0.5129 - val_loss: 0.3436 - val_acc: 0.5190\n",
      "Epoch 9/30\n",
      "45455/45455 [==============================] - 6s 130us/step - loss: 0.3354 - acc: 0.5226 - val_loss: 0.3333 - val_acc: 0.5237\n",
      "Epoch 10/30\n",
      "45455/45455 [==============================] - 6s 129us/step - loss: 0.3322 - acc: 0.5293 - val_loss: 0.3365 - val_acc: 0.5182\n",
      "Epoch 11/30\n",
      "45455/45455 [==============================] - 6s 135us/step - loss: 0.3294 - acc: 0.5357 - val_loss: 0.3325 - val_acc: 0.5252\n",
      "Epoch 12/30\n",
      "45455/45455 [==============================] - 7s 143us/step - loss: 0.3254 - acc: 0.5400 - val_loss: 0.3278 - val_acc: 0.5404\n",
      "Epoch 13/30\n",
      "45455/45455 [==============================] - 6s 139us/step - loss: 0.3236 - acc: 0.5440 - val_loss: 0.3251 - val_acc: 0.5417\n",
      "Epoch 14/30\n",
      "45455/45455 [==============================] - 6s 140us/step - loss: 0.3190 - acc: 0.5501 - val_loss: 0.3318 - val_acc: 0.5342\n",
      "Epoch 15/30\n",
      "45455/45455 [==============================] - 6s 135us/step - loss: 0.3172 - acc: 0.5551 - val_loss: 0.3234 - val_acc: 0.5373\n",
      "Epoch 16/30\n",
      "45455/45455 [==============================] - 6s 131us/step - loss: 0.3145 - acc: 0.5615 - val_loss: 0.3269 - val_acc: 0.5386\n",
      "Epoch 17/30\n",
      "45455/45455 [==============================] - 6s 135us/step - loss: 0.3124 - acc: 0.5648 - val_loss: 0.3139 - val_acc: 0.5639\n",
      "Epoch 18/30\n",
      "45455/45455 [==============================] - 6s 135us/step - loss: 0.3110 - acc: 0.5668 - val_loss: 0.3292 - val_acc: 0.5415\n",
      "Epoch 19/30\n",
      "45455/45455 [==============================] - 6s 136us/step - loss: 0.3088 - acc: 0.5718 - val_loss: 0.3142 - val_acc: 0.5575\n",
      "Epoch 20/30\n",
      "45455/45455 [==============================] - 6s 131us/step - loss: 0.3061 - acc: 0.5773 - val_loss: 0.3239 - val_acc: 0.5419\n",
      "Epoch 21/30\n",
      "45455/45455 [==============================] - 6s 130us/step - loss: 0.3034 - acc: 0.5800 - val_loss: 0.3090 - val_acc: 0.5736\n",
      "Epoch 22/30\n",
      "45455/45455 [==============================] - 6s 129us/step - loss: 0.3032 - acc: 0.5802 - val_loss: 0.3140 - val_acc: 0.5650\n",
      "Epoch 23/30\n",
      "45455/45455 [==============================] - 6s 129us/step - loss: 0.2989 - acc: 0.5923 - val_loss: 0.3111 - val_acc: 0.5624\n",
      "Epoch 24/30\n",
      "45455/45455 [==============================] - 6s 129us/step - loss: 0.2992 - acc: 0.5917 - val_loss: 0.3103 - val_acc: 0.5780\n",
      "Epoch 25/30\n",
      "45455/45455 [==============================] - 6s 129us/step - loss: 0.2975 - acc: 0.5929 - val_loss: 0.3153 - val_acc: 0.5602\n",
      "Epoch 26/30\n",
      "45455/45455 [==============================] - 6s 133us/step - loss: 0.2966 - acc: 0.5942 - val_loss: 0.3115 - val_acc: 0.5602\n",
      "Epoch 27/30\n",
      "45455/45455 [==============================] - 6s 130us/step - loss: 0.2941 - acc: 0.5984 - val_loss: 0.3104 - val_acc: 0.5694\n",
      "Epoch 28/30\n",
      "45455/45455 [==============================] - 6s 130us/step - loss: 0.2912 - acc: 0.6052 - val_loss: 0.3041 - val_acc: 0.5780\n",
      "Epoch 29/30\n",
      "45455/45455 [==============================] - 6s 130us/step - loss: 0.2914 - acc: 0.6025 - val_loss: 0.3216 - val_acc: 0.5457\n",
      "Epoch 30/30\n",
      "45455/45455 [==============================] - 6s 129us/step - loss: 0.2896 - acc: 0.6071 - val_loss: 0.2934 - val_acc: 0.5916\n"
     ]
    }
   ],
   "source": [
    "\"\"\"two-CONV-LAYERS-THICK\"\"\"\n",
    "if not data_augmentation:\n",
    "    print('Not using data augmentation.')\n",
    "    train_history_1= model_1.fit(\n",
    "        x_train,\n",
    "        y_train,\n",
    "        batch_size=batch_size,\n",
    "        epochs=epochs,\n",
    "        validation_split= Vld_Splt,\n",
    "        shuffle=True)\n",
    "else:\n",
    "    print('Using real-time data augmentation.')\n",
    "    # This will do preprocessing and realtime data augmentation:\n",
    "    datagen = ImageDataGenerator(\n",
    "        featurewise_center=False,  # set input mean to 0 over the dataset\n",
    "        samplewise_center=False,  # set each sample mean to 0\n",
    "        featurewise_std_normalization=False,  # divide inputs by dataset std\n",
    "        samplewise_std_normalization=False,  # divide each input by its std\n",
    "        zca_whitening=False,  # apply ZCA whitening\n",
    "        zca_epsilon=1e-06,  # epsilon for ZCA whitening\n",
    "        rotation_range=0,  # randomly rotate images in 0 to 180 degrees\n",
    "        width_shift_range=0.1,  # randomly shift images horizontally\n",
    "        height_shift_range=0.1,  # randomly shift images vertically\n",
    "        shear_range=0.,  # set range for random shear\n",
    "        zoom_range=0.,  # set range for random zoom\n",
    "        channel_shift_range=0.,  # set range for random channel shifts\n",
    "        # set mode for filling points outside the input boundaries\n",
    "        fill_mode='nearest',\n",
    "        cval=0.,  # value used for fill_mode = \"constant\"\n",
    "        horizontal_flip=True,  # randomly flip images\n",
    "        vertical_flip=False,  # randomly flip images\n",
    "        # set rescaling factor (applied before any other transformation)\n",
    "        rescale=None,\n",
    "        # set function that will be applied on each input\n",
    "        preprocessing_function=None,\n",
    "        # image data format, either \"channels_first\" or \"channels_last\"\n",
    "        data_format=None,\n",
    "        # fraction of images reserved for validation (strictly between 0 and 1)\n",
    "        validation_split=0.0)\n",
    "\n",
    "    # Compute quantities required for feature-wise normalization\n",
    "    # (std, mean, and principal components if ZCA whitening is applied).\n",
    "    datagen.fit(x_train)\n",
    "\n",
    "    # Fit the model on the batches generated by datagen.flow().\n",
    "    train_history_1= model_1.fit_generator(\n",
    "        datagen.flow(x_train, y_train, batch_size=batch_size),\n",
    "        epochs= epochs,\n",
    "        validation_split= Vld_Splt,\n",
    "        steps_per_epoch= int(x_train.shape[0]/ batch_size),\n",
    "        workers=4)"
   ]
  },
  {
   "cell_type": "code",
   "execution_count": 15,
   "metadata": {},
   "outputs": [
    {
     "name": "stdout",
     "output_type": "stream",
     "text": [
      "Not using data augmentation.\n",
      "Train on 45455 samples, validate on 4545 samples\n",
      "Epoch 1/30\n",
      "45455/45455 [==============================] - 5s 108us/step - loss: 0.5313 - acc: 0.1485 - val_loss: 0.4778 - val_acc: 0.1991\n",
      "Epoch 2/30\n",
      "45455/45455 [==============================] - 4s 97us/step - loss: 0.4739 - acc: 0.1980 - val_loss: 0.4602 - val_acc: 0.2273\n",
      "Epoch 3/30\n",
      "45455/45455 [==============================] - 5s 102us/step - loss: 0.4532 - acc: 0.2717 - val_loss: 0.4415 - val_acc: 0.2948\n",
      "Epoch 4/30\n",
      "45455/45455 [==============================] - 4s 97us/step - loss: 0.4393 - acc: 0.3049 - val_loss: 0.4325 - val_acc: 0.3298\n",
      "Epoch 5/30\n",
      "45455/45455 [==============================] - 5s 100us/step - loss: 0.4214 - acc: 0.3482 - val_loss: 0.4196 - val_acc: 0.3461\n",
      "Epoch 6/30\n",
      "45455/45455 [==============================] - 4s 92us/step - loss: 0.4063 - acc: 0.3849 - val_loss: 0.3929 - val_acc: 0.3967\n",
      "Epoch 7/30\n",
      "45455/45455 [==============================] - 4s 89us/step - loss: 0.3863 - acc: 0.4177 - val_loss: 0.3834 - val_acc: 0.4233\n",
      "Epoch 8/30\n",
      "45455/45455 [==============================] - 4s 88us/step - loss: 0.3743 - acc: 0.4416 - val_loss: 0.3711 - val_acc: 0.4548\n",
      "Epoch 9/30\n",
      "45455/45455 [==============================] - 4s 88us/step - loss: 0.3608 - acc: 0.4645 - val_loss: 0.3491 - val_acc: 0.4821\n",
      "Epoch 10/30\n",
      "45455/45455 [==============================] - 4s 88us/step - loss: 0.3514 - acc: 0.4831 - val_loss: 0.3432 - val_acc: 0.5047\n",
      "Epoch 11/30\n",
      "45455/45455 [==============================] - 4s 88us/step - loss: 0.3418 - acc: 0.4969 - val_loss: 0.3307 - val_acc: 0.5314\n",
      "Epoch 12/30\n",
      "45455/45455 [==============================] - 4s 87us/step - loss: 0.3362 - acc: 0.5080 - val_loss: 0.3448 - val_acc: 0.4959\n",
      "Epoch 13/30\n",
      "45455/45455 [==============================] - 4s 88us/step - loss: 0.3281 - acc: 0.5202 - val_loss: 0.3375 - val_acc: 0.5190\n",
      "Epoch 14/30\n",
      "45455/45455 [==============================] - 4s 90us/step - loss: 0.3224 - acc: 0.5314 - val_loss: 0.3159 - val_acc: 0.5402\n",
      "Epoch 15/30\n",
      "45455/45455 [==============================] - 4s 92us/step - loss: 0.3135 - acc: 0.5468 - val_loss: 0.3157 - val_acc: 0.5333\n",
      "Epoch 16/30\n",
      "45455/45455 [==============================] - 5s 99us/step - loss: 0.3107 - acc: 0.5517 - val_loss: 0.3061 - val_acc: 0.5582\n",
      "Epoch 17/30\n",
      "45455/45455 [==============================] - 4s 91us/step - loss: 0.3059 - acc: 0.5586 - val_loss: 0.3083 - val_acc: 0.5490\n",
      "Epoch 18/30\n",
      "45455/45455 [==============================] - 4s 95us/step - loss: 0.3032 - acc: 0.5636 - val_loss: 0.3203 - val_acc: 0.5344\n",
      "Epoch 19/30\n",
      "45455/45455 [==============================] - 4s 88us/step - loss: 0.2992 - acc: 0.5710 - val_loss: 0.2983 - val_acc: 0.5674\n",
      "Epoch 20/30\n",
      "45455/45455 [==============================] - 4s 84us/step - loss: 0.2926 - acc: 0.5833 - val_loss: 0.3098 - val_acc: 0.5518\n",
      "Epoch 21/30\n",
      "45455/45455 [==============================] - 4s 80us/step - loss: 0.2916 - acc: 0.5848 - val_loss: 0.2952 - val_acc: 0.5703\n",
      "Epoch 22/30\n",
      "45455/45455 [==============================] - 4s 86us/step - loss: 0.2879 - acc: 0.5914 - val_loss: 0.2994 - val_acc: 0.5712\n",
      "Epoch 23/30\n",
      "45455/45455 [==============================] - 4s 83us/step - loss: 0.2858 - acc: 0.5949 - val_loss: 0.3067 - val_acc: 0.5474 - \n",
      "Epoch 24/30\n",
      "45455/45455 [==============================] - 4s 83us/step - loss: 0.2823 - acc: 0.6016 - val_loss: 0.2984 - val_acc: 0.5727\n",
      "Epoch 25/30\n",
      "45455/45455 [==============================] - 4s 83us/step - loss: 0.2815 - acc: 0.6040 - val_loss: 0.2912 - val_acc: 0.5817\n",
      "Epoch 26/30\n",
      "45455/45455 [==============================] - 4s 86us/step - loss: 0.2795 - acc: 0.6064 - val_loss: 0.2909 - val_acc: 0.5833\n",
      "Epoch 27/30\n",
      "45455/45455 [==============================] - 4s 83us/step - loss: 0.2775 - acc: 0.6117 - val_loss: 0.2855 - val_acc: 0.5888\n",
      "Epoch 28/30\n",
      "45455/45455 [==============================] - 4s 81us/step - loss: 0.2733 - acc: 0.6159 - val_loss: 0.2830 - val_acc: 0.5912\n",
      "Epoch 29/30\n",
      "45455/45455 [==============================] - 4s 81us/step - loss: 0.2707 - acc: 0.6198 - val_loss: 0.2875 - val_acc: 0.5916\n",
      "Epoch 30/30\n",
      "45455/45455 [==============================] - 4s 82us/step - loss: 0.2712 - acc: 0.6192 - val_loss: 0.2817 - val_acc: 0.5877\n"
     ]
    }
   ],
   "source": [
    "\"\"\"three-CONV-LAYERS-THICK\"\"\"\n",
    "if not data_augmentation:\n",
    "    print('Not using data augmentation.')\n",
    "    train_history_2= model_2.fit(\n",
    "        x_train,\n",
    "        y_train,\n",
    "        batch_size=batch_size,\n",
    "        epochs=epochs,\n",
    "        validation_split= Vld_Splt,\n",
    "        shuffle=True)\n",
    "else:\n",
    "    print('Using real-time data augmentation.')\n",
    "    # This will do preprocessing and realtime data augmentation:\n",
    "    datagen = ImageDataGenerator(\n",
    "        featurewise_center=False,  # set input mean to 0 over the dataset\n",
    "        samplewise_center=False,  # set each sample mean to 0\n",
    "        featurewise_std_normalization=False,  # divide inputs by dataset std\n",
    "        samplewise_std_normalization=False,  # divide each input by its std\n",
    "        zca_whitening=False,  # apply ZCA whitening\n",
    "        zca_epsilon=1e-06,  # epsilon for ZCA whitening\n",
    "        rotation_range=0,  # randomly rotate images in 0 to 180 degrees\n",
    "        width_shift_range=0.1,  # randomly shift images horizontally\n",
    "        height_shift_range=0.1,  # randomly shift images vertically\n",
    "        shear_range=0.,  # set range for random shear\n",
    "        zoom_range=0.,  # set range for random zoom\n",
    "        channel_shift_range=0.,  # set range for random channel shifts\n",
    "        # set mode for filling points outside the input boundaries\n",
    "        fill_mode='nearest',\n",
    "        cval=0.,  # value used for fill_mode = \"constant\"\n",
    "        horizontal_flip=True,  # randomly flip images\n",
    "        vertical_flip=False,  # randomly flip images\n",
    "        # set rescaling factor (applied before any other transformation)\n",
    "        rescale=None,\n",
    "        # set function that will be applied on each input\n",
    "        preprocessing_function=None,\n",
    "        # image data format, either \"channels_first\" or \"channels_last\"\n",
    "        data_format=None,\n",
    "        # fraction of images reserved for validation (strictly between 0 and 1)\n",
    "        validation_split=0.0)\n",
    "\n",
    "    # Compute quantities required for feature-wise normalization\n",
    "    # (std, mean, and principal components if ZCA whitening is applied).\n",
    "    datagen.fit(x_train)\n",
    "\n",
    "    # Fit the model on the batches generated by datagen.flow().\n",
    "    train_history_2= model_2.fit_generator(\n",
    "        datagen.flow(x_train, y_train, batch_size=batch_size),\n",
    "        epochs= epochs,\n",
    "        validation_split= Vld_Splt,\n",
    "        steps_per_epoch= int(x_train.shape[0]/ batch_size),\n",
    "        workers=4)"
   ]
  },
  {
   "cell_type": "code",
   "execution_count": 16,
   "metadata": {},
   "outputs": [
    {
     "name": "stdout",
     "output_type": "stream",
     "text": [
      "Not using data augmentation.\n",
      "Train on 45455 samples, validate on 4545 samples\n",
      "Epoch 1/30\n",
      "45455/45455 [==============================] - 6s 139us/step - loss: 0.5309 - acc: 0.1377 - val_loss: 0.4871 - val_acc: 0.1943\n",
      "Epoch 2/30\n",
      "45455/45455 [==============================] - 5s 119us/step - loss: 0.4415 - acc: 0.3094 - val_loss: 0.4081 - val_acc: 0.3710\n",
      "Epoch 3/30\n",
      "45455/45455 [==============================] - 6s 122us/step - loss: 0.3985 - acc: 0.3926 - val_loss: 0.3817 - val_acc: 0.4169\n",
      "Epoch 4/30\n",
      "45455/45455 [==============================] - 6s 122us/step - loss: 0.3767 - acc: 0.4326 - val_loss: 0.3696 - val_acc: 0.4469\n",
      "Epoch 5/30\n",
      "45455/45455 [==============================] - 5s 120us/step - loss: 0.3615 - acc: 0.4620 - val_loss: 0.3475 - val_acc: 0.4836\n",
      "Epoch 6/30\n",
      "45455/45455 [==============================] - 5s 120us/step - loss: 0.3479 - acc: 0.4895 - val_loss: 0.3416 - val_acc: 0.5120\n",
      "Epoch 7/30\n",
      "45455/45455 [==============================] - 5s 119us/step - loss: 0.3367 - acc: 0.5078 - val_loss: 0.3313 - val_acc: 0.5133\n",
      "Epoch 8/30\n",
      "45455/45455 [==============================] - 5s 120us/step - loss: 0.3255 - acc: 0.5239 - val_loss: 0.3132 - val_acc: 0.5432\n",
      "Epoch 9/30\n",
      "45455/45455 [==============================] - 6s 123us/step - loss: 0.3188 - acc: 0.5354 - val_loss: 0.3175 - val_acc: 0.5377\n",
      "Epoch 10/30\n",
      "45455/45455 [==============================] - 5s 120us/step - loss: 0.3090 - acc: 0.5540 - val_loss: 0.3141 - val_acc: 0.5496\n",
      "Epoch 11/30\n",
      "45455/45455 [==============================] - 5s 120us/step - loss: 0.3014 - acc: 0.5657 - val_loss: 0.2962 - val_acc: 0.5674\n",
      "Epoch 12/30\n",
      "45455/45455 [==============================] - 5s 119us/step - loss: 0.2959 - acc: 0.5732 - val_loss: 0.3046 - val_acc: 0.5591\n",
      "Epoch 13/30\n",
      "45455/45455 [==============================] - 6s 122us/step - loss: 0.2905 - acc: 0.5813 - val_loss: 0.2825 - val_acc: 0.6004\n",
      "Epoch 14/30\n",
      "45455/45455 [==============================] - 6s 124us/step - loss: 0.2860 - acc: 0.5901 - val_loss: 0.2864 - val_acc: 0.5925\n",
      "Epoch 15/30\n",
      "45455/45455 [==============================] - 6s 127us/step - loss: 0.2830 - acc: 0.5949 - val_loss: 0.2837 - val_acc: 0.5883\n",
      "Epoch 16/30\n",
      "45455/45455 [==============================] - 5s 121us/step - loss: 0.2811 - acc: 0.5981 - val_loss: 0.2884 - val_acc: 0.5842\n",
      "Epoch 17/30\n",
      "45455/45455 [==============================] - 5s 121us/step - loss: 0.2769 - acc: 0.6038 - val_loss: 0.2811 - val_acc: 0.5969\n",
      "Epoch 18/30\n",
      "45455/45455 [==============================] - 5s 121us/step - loss: 0.2740 - acc: 0.6071 - val_loss: 0.2849 - val_acc: 0.5969\n",
      "Epoch 19/30\n",
      "45455/45455 [==============================] - 6s 124us/step - loss: 0.2701 - acc: 0.6128 - val_loss: 0.2787 - val_acc: 0.6026\n",
      "Epoch 20/30\n",
      "45455/45455 [==============================] - 6s 122us/step - loss: 0.2703 - acc: 0.6146 - val_loss: 0.2720 - val_acc: 0.6176\n",
      "Epoch 21/30\n",
      "45455/45455 [==============================] - 5s 121us/step - loss: 0.2650 - acc: 0.6237 - val_loss: 0.2689 - val_acc: 0.6172\n",
      "Epoch 22/30\n",
      "45455/45455 [==============================] - 6s 121us/step - loss: 0.2654 - acc: 0.6235 - val_loss: 0.2711 - val_acc: 0.6114\n",
      "Epoch 23/30\n",
      "45455/45455 [==============================] - 6s 121us/step - loss: 0.2618 - acc: 0.6290 - val_loss: 0.2658 - val_acc: 0.6262\n",
      "Epoch 24/30\n",
      "45455/45455 [==============================] - 5s 120us/step - loss: 0.2611 - acc: 0.6311 - val_loss: 0.2639 - val_acc: 0.6233\n",
      "Epoch 25/30\n",
      "45455/45455 [==============================] - 5s 120us/step - loss: 0.2581 - acc: 0.6344 - val_loss: 0.2665 - val_acc: 0.6262\n",
      "Epoch 26/30\n",
      "45455/45455 [==============================] - 5s 119us/step - loss: 0.2572 - acc: 0.6360 - val_loss: 0.2720 - val_acc: 0.6103\n",
      "Epoch 27/30\n",
      "45455/45455 [==============================] - 5s 119us/step - loss: 0.2567 - acc: 0.6364 - val_loss: 0.2721 - val_acc: 0.6200\n",
      "Epoch 28/30\n",
      "45455/45455 [==============================] - 5s 119us/step - loss: 0.2547 - acc: 0.6417 - val_loss: 0.2657 - val_acc: 0.6266\n",
      "Epoch 29/30\n",
      "45455/45455 [==============================] - 5s 119us/step - loss: 0.2516 - acc: 0.6453 - val_loss: 0.2623 - val_acc: 0.6286\n",
      "Epoch 30/30\n",
      "45455/45455 [==============================] - 5s 119us/step - loss: 0.2494 - acc: 0.6495 - val_loss: 0.2673 - val_acc: 0.6235\n"
     ]
    }
   ],
   "source": [
    "\"\"\"four-CONV-LAYERS-THICK\"\"\"\n",
    "if not data_augmentation:\n",
    "    print('Not using data augmentation.')\n",
    "    train_history_3= model_3.fit(\n",
    "        x_train,\n",
    "        y_train,\n",
    "        batch_size=batch_size,\n",
    "        epochs=epochs,\n",
    "        validation_split= Vld_Splt,\n",
    "        shuffle=True)\n",
    "else:\n",
    "    print('Using real-time data augmentation.')\n",
    "    # This will do preprocessing and realtime data augmentation:\n",
    "    datagen = ImageDataGenerator(\n",
    "        featurewise_center=False,  # set input mean to 0 over the dataset\n",
    "        samplewise_center=False,  # set each sample mean to 0\n",
    "        featurewise_std_normalization=False,  # divide inputs by dataset std\n",
    "        samplewise_std_normalization=False,  # divide each input by its std\n",
    "        zca_whitening=False,  # apply ZCA whitening\n",
    "        zca_epsilon=1e-06,  # epsilon for ZCA whitening\n",
    "        rotation_range=0,  # randomly rotate images in 0 to 180 degrees\n",
    "        width_shift_range=0.1,  # randomly shift images horizontally\n",
    "        height_shift_range=0.1,  # randomly shift images vertically\n",
    "        shear_range=0.,  # set range for random shear\n",
    "        zoom_range=0.,  # set range for random zoom\n",
    "        channel_shift_range=0.,  # set range for random channel shifts\n",
    "        # set mode for filling points outside the input boundaries\n",
    "        fill_mode='nearest',\n",
    "        cval=0.,  # value used for fill_mode = \"constant\"\n",
    "        horizontal_flip=True,  # randomly flip images\n",
    "        vertical_flip=False,  # randomly flip images\n",
    "        # set rescaling factor (applied before any other transformation)\n",
    "        rescale=None,\n",
    "        # set function that will be applied on each input\n",
    "        preprocessing_function=None,\n",
    "        # image data format, either \"channels_first\" or \"channels_last\"\n",
    "        data_format=None,\n",
    "        # fraction of images reserved for validation (strictly between 0 and 1)\n",
    "        validation_split=0.0)\n",
    "\n",
    "    # Compute quantities required for feature-wise normalization\n",
    "    # (std, mean, and principal components if ZCA whitening is applied).\n",
    "    datagen.fit(x_train)\n",
    "\n",
    "    # Fit the model on the batches generated by datagen.flow().\n",
    "    train_history_3= model_3.fit_generator(\n",
    "        datagen.flow(x_train, y_train, batch_size=batch_size),\n",
    "        epochs= epochs,\n",
    "        validation_split= Vld_Splt,\n",
    "        steps_per_epoch= int(x_train.shape[0]/ batch_size),\n",
    "        workers=4)"
   ]
  },
  {
   "cell_type": "code",
   "execution_count": 51,
   "metadata": {},
   "outputs": [
    {
     "name": "stdout",
     "output_type": "stream",
     "text": [
      "Train on 45455 samples, validate on 4545 samples\n",
      "Epoch 1/30\n",
      "45455/45455 [==============================] - 4s 78us/step - loss: 1.9260 - acc: 0.2907 - val_loss: 1.7145 - val_acc: 0.4002\n",
      "Epoch 2/30\n",
      "45455/45455 [==============================] - 3s 56us/step - loss: 1.6796 - acc: 0.3862 - val_loss: 1.6291 - val_acc: 0.4330\n",
      "Epoch 3/30\n",
      "45455/45455 [==============================] - 3s 57us/step - loss: 1.6085 - acc: 0.4141 - val_loss: 1.5397 - val_acc: 0.4623\n",
      "Epoch 4/30\n",
      "45455/45455 [==============================] - 3s 57us/step - loss: 1.5654 - acc: 0.4347 - val_loss: 1.5268 - val_acc: 0.4733\n",
      "Epoch 5/30\n",
      "45455/45455 [==============================] - 3s 57us/step - loss: 1.5367 - acc: 0.4415 - val_loss: 1.4999 - val_acc: 0.4794\n",
      "Epoch 6/30\n",
      "45455/45455 [==============================] - 3s 58us/step - loss: 1.5041 - acc: 0.4548 - val_loss: 1.4959 - val_acc: 0.4766\n",
      "Epoch 7/30\n",
      "45455/45455 [==============================] - 3s 59us/step - loss: 1.4743 - acc: 0.4694 - val_loss: 1.4518 - val_acc: 0.4898\n",
      "Epoch 8/30\n",
      "45455/45455 [==============================] - 3s 59us/step - loss: 1.4475 - acc: 0.4782 - val_loss: 1.4075 - val_acc: 0.5226\n",
      "Epoch 9/30\n",
      "45455/45455 [==============================] - 3s 60us/step - loss: 1.4309 - acc: 0.4847 - val_loss: 1.4034 - val_acc: 0.5153\n",
      "Epoch 10/30\n",
      "45455/45455 [==============================] - 3s 65us/step - loss: 1.4147 - acc: 0.4928 - val_loss: 1.3837 - val_acc: 0.5195\n",
      "Epoch 11/30\n",
      "45455/45455 [==============================] - 3s 57us/step - loss: 1.4019 - acc: 0.4945 - val_loss: 1.3912 - val_acc: 0.5285\n",
      "Epoch 12/30\n",
      "45455/45455 [==============================] - 2s 54us/step - loss: 1.3855 - acc: 0.5012 - val_loss: 1.3566 - val_acc: 0.5307\n",
      "Epoch 13/30\n",
      "45455/45455 [==============================] - 2s 53us/step - loss: 1.3793 - acc: 0.5045 - val_loss: 1.3711 - val_acc: 0.5309\n",
      "Epoch 14/30\n",
      "45455/45455 [==============================] - 2s 54us/step - loss: 1.3585 - acc: 0.5127 - val_loss: 1.3214 - val_acc: 0.5494\n",
      "Epoch 15/30\n",
      "45455/45455 [==============================] - 2s 54us/step - loss: 1.3507 - acc: 0.5147 - val_loss: 1.3185 - val_acc: 0.5474\n",
      "Epoch 16/30\n",
      "45455/45455 [==============================] - 2s 53us/step - loss: 1.3397 - acc: 0.5190 - val_loss: 1.3245 - val_acc: 0.5424\n",
      "Epoch 17/30\n",
      "45455/45455 [==============================] - 3s 57us/step - loss: 1.3231 - acc: 0.5258 - val_loss: 1.3071 - val_acc: 0.5595\n",
      "Epoch 18/30\n",
      "45455/45455 [==============================] - 3s 58us/step - loss: 1.3239 - acc: 0.5261 - val_loss: 1.2884 - val_acc: 0.5685\n",
      "Epoch 19/30\n",
      "45455/45455 [==============================] - 2s 55us/step - loss: 1.3042 - acc: 0.5318 - val_loss: 1.3101 - val_acc: 0.5452\n",
      "Epoch 20/30\n",
      "45455/45455 [==============================] - 3s 57us/step - loss: 1.3014 - acc: 0.5317 - val_loss: 1.2865 - val_acc: 0.5646\n",
      "Epoch 21/30\n",
      "45455/45455 [==============================] - 3s 59us/step - loss: 1.2912 - acc: 0.5371 - val_loss: 1.2852 - val_acc: 0.5714\n",
      "Epoch 22/30\n",
      "45455/45455 [==============================] - 3s 64us/step - loss: 1.2872 - acc: 0.5388 - val_loss: 1.2880 - val_acc: 0.5688\n",
      "Epoch 23/30\n",
      "45455/45455 [==============================] - 3s 67us/step - loss: 1.2820 - acc: 0.5394 - val_loss: 1.2688 - val_acc: 0.5727\n",
      "Epoch 24/30\n",
      "45455/45455 [==============================] - 3s 61us/step - loss: 1.2705 - acc: 0.5441 - val_loss: 1.2723 - val_acc: 0.5721\n",
      "Epoch 25/30\n",
      "45455/45455 [==============================] - 3s 62us/step - loss: 1.2628 - acc: 0.5454 - val_loss: 1.2643 - val_acc: 0.5787\n",
      "Epoch 26/30\n",
      "45455/45455 [==============================] - 3s 59us/step - loss: 1.2673 - acc: 0.5455 - val_loss: 1.2570 - val_acc: 0.5762\n",
      "Epoch 27/30\n",
      "45455/45455 [==============================] - 3s 59us/step - loss: 1.2599 - acc: 0.5493 - val_loss: 1.2437 - val_acc: 0.5762\n",
      "Epoch 28/30\n",
      "45455/45455 [==============================] - 3s 59us/step - loss: 1.2464 - acc: 0.5525 - val_loss: 1.2829 - val_acc: 0.5738\n",
      "Epoch 29/30\n",
      "45455/45455 [==============================] - 3s 58us/step - loss: 1.2487 - acc: 0.5518 - val_loss: 1.2692 - val_acc: 0.5666\n",
      "Epoch 30/30\n",
      "45455/45455 [==============================] - 3s 60us/step - loss: 1.2377 - acc: 0.5572 - val_loss: 1.2420 - val_acc: 0.5809\n"
     ]
    }
   ],
   "source": [
    "\"\"\"CNN-3-CONV-LAYERS\"\"\"\n",
    "model_4.compile(loss='categorical_crossentropy',\n",
    "              optimizer='adam', metrics=['accuracy'])\n",
    "train_history_4= model_4.fit(x= x_train, y= y_train, validation_split= Vld_Splt,\n",
    "                         epochs= epochs, batch_size= batch_size, verbose=1)"
   ]
  },
  {
   "cell_type": "code",
   "execution_count": 36,
   "metadata": {},
   "outputs": [
    {
     "name": "stdout",
     "output_type": "stream",
     "text": [
      "10000/10000 [==============================] - 1s 90us/step\n"
     ]
    },
    {
     "data": {
      "text/plain": [
       "0.3983"
      ]
     },
     "execution_count": 36,
     "metadata": {},
     "output_type": "execute_result"
    }
   ],
   "source": [
    "\"\"\"one-CONV-LAYERS-THICK\"\"\"\n",
    "scores_0= model_0.evaluate(x_test, y_test)\n",
    "scores_0[1]"
   ]
  },
  {
   "cell_type": "code",
   "execution_count": 37,
   "metadata": {},
   "outputs": [
    {
     "name": "stdout",
     "output_type": "stream",
     "text": [
      "10000/10000 [==============================] - 1s 93us/step\n"
     ]
    },
    {
     "data": {
      "text/plain": [
       "0.5805"
      ]
     },
     "execution_count": 37,
     "metadata": {},
     "output_type": "execute_result"
    }
   ],
   "source": [
    "\"\"\"two-CONV-LAYERS-THICK\"\"\"\n",
    "scores_1= model_1.evaluate(x_test, y_test)\n",
    "scores_1[1]"
   ]
  },
  {
   "cell_type": "code",
   "execution_count": 38,
   "metadata": {},
   "outputs": [
    {
     "name": "stdout",
     "output_type": "stream",
     "text": [
      "10000/10000 [==============================] - 1s 87us/step\n"
     ]
    },
    {
     "data": {
      "text/plain": [
       "0.5876"
      ]
     },
     "execution_count": 38,
     "metadata": {},
     "output_type": "execute_result"
    }
   ],
   "source": [
    "\"\"\"three-CONV-LAYERS-THICK\"\"\"\n",
    "scores_2= model_2.evaluate(x_test, y_test)\n",
    "scores_2[1]"
   ]
  },
  {
   "cell_type": "code",
   "execution_count": 39,
   "metadata": {},
   "outputs": [
    {
     "name": "stdout",
     "output_type": "stream",
     "text": [
      "10000/10000 [==============================] - 1s 94us/step\n"
     ]
    },
    {
     "data": {
      "text/plain": [
       "0.6104"
      ]
     },
     "execution_count": 39,
     "metadata": {},
     "output_type": "execute_result"
    }
   ],
   "source": [
    "\"\"\"four-CONV-LAYERS-THICK\"\"\"\n",
    "scores_3= model_3.evaluate(x_test, y_test)\n",
    "scores_3[1]"
   ]
  },
  {
   "cell_type": "code",
   "execution_count": 52,
   "metadata": {},
   "outputs": [
    {
     "name": "stdout",
     "output_type": "stream",
     "text": [
      "10000/10000 [==============================] - 1s 83us/step\n"
     ]
    },
    {
     "data": {
      "text/plain": [
       "0.5724"
      ]
     },
     "execution_count": 52,
     "metadata": {},
     "output_type": "execute_result"
    }
   ],
   "source": [
    "\"\"\"CNN\"\"\"\n",
    "scores_4= model_4.evaluate(x_test, y_test)\n",
    "scores_4[1]"
   ]
  },
  {
   "cell_type": "code",
   "execution_count": 53,
   "metadata": {},
   "outputs": [],
   "source": [
    "import matplotlib.pyplot as plt\n",
    "def show_train_history(train_history, train, validation):\n",
    "    plt.plot(train_history.history[train])\n",
    "    plt.plot(train_history.history[validation])\n",
    "    plt.title('Train History')\n",
    "    plt.ylabel(train)\n",
    "    plt.xlabel('Epoch')\n",
    "    plt.legend(['train', 'validation'], loc='best')\n",
    "    plt.show()"
   ]
  },
  {
   "cell_type": "code",
   "execution_count": 54,
   "metadata": {},
   "outputs": [
    {
     "data": {
      "image/png": "[encoded data removed]",
      "text/plain": [
       "<Figure size 432x288 with 1 Axes>"
      ]
     },
     "metadata": {
      "needs_background": "light"
     },
     "output_type": "display_data"
    }
   ],
   "source": [
    "show_train_history(train_history_0, 'acc', 'val_acc')"
   ]
  },
  {
   "cell_type": "code",
   "execution_count": 55,
   "metadata": {},
   "outputs": [
    {
     "data": {
      "image/png": "[encoded data removed]",
      "text/plain": [
       "<Figure size 432x288 with 1 Axes>"
      ]
     },
     "metadata": {
      "needs_background": "light"
     },
     "output_type": "display_data"
    }
   ],
   "source": [
    "show_train_history(train_history_1, 'acc', 'val_acc')"
   ]
  },
  {
   "cell_type": "code",
   "execution_count": 56,
   "metadata": {},
   "outputs": [
    {
     "data": {
      "image/png": "[encoded data removed]",
      "text/plain": [
       "<Figure size 432x288 with 1 Axes>"
      ]
     },
     "metadata": {
      "needs_background": "light"
     },
     "output_type": "display_data"
    }
   ],
   "source": [
    "show_train_history(train_history_2, 'acc', 'val_acc')"
   ]
  },
  {
   "cell_type": "code",
   "execution_count": 57,
   "metadata": {},
   "outputs": [
    {
     "data": {
      "image/png": "[encoded data removed]",
      "text/plain": [
       "<Figure size 432x288 with 1 Axes>"
      ]
     },
     "metadata": {
      "needs_background": "light"
     },
     "output_type": "display_data"
    }
   ],
   "source": [
    "show_train_history(train_history_3, 'acc', 'val_acc')"
   ]
  },
  {
   "cell_type": "code",
   "execution_count": 58,
   "metadata": {},
   "outputs": [
    {
     "data": {
      "image/png": "[encoded data removed]",
      "text/plain": [
       "<Figure size 432x288 with 1 Axes>"
      ]
     },
     "metadata": {
      "needs_background": "light"
     },
     "output_type": "display_data"
    }
   ],
   "source": [
    "show_train_history(train_history_4, 'acc', 'val_acc')"
   ]
  },
  {
   "cell_type": "code",
   "execution_count": 59,
   "metadata": {},
   "outputs": [],
   "source": [
    "# show_train_history(train_history_5, 'acc', 'val_acc')"
   ]
  },
  {
   "cell_type": "code",
   "execution_count": 60,
   "metadata": {},
   "outputs": [],
   "source": [
    "# show_train_history(train_history_6, 'acc', 'val_acc')"
   ]
  },
  {
   "cell_type": "code",
   "execution_count": 62,
   "metadata": {},
   "outputs": [
    {
     "data": {
      "image/png": "[encoded data removed]",
      "text/plain": [
       "<Figure size 432x288 with 1 Axes>"
      ]
     },
     "metadata": {
      "needs_background": "light"
     },
     "output_type": "display_data"
    }
   ],
   "source": [
    "plt.plot(train_history_0.history['val_acc'], 'r-')\n",
    "plt.plot(train_history_1.history['val_acc'], 'b--')\n",
    "plt.plot(train_history_2.history['val_acc'], 'k.')\n",
    "plt.plot(train_history_3.history['val_acc'], 'b-')\n",
    "plt.plot(train_history_4.history['val_acc'], 'h-')\n",
    "# plt.plot(train_history_5.history['val_acc'], 'c-')\n",
    "# plt.plot(train_history_6.history['val_acc'], 'g*-')\n",
    "# plt.plot(train_history_7.history['val_acc'], 'k-.')\n",
    "plt.title('Training on cifar10')\n",
    "plt.ylabel('Validation Accuracy')\n",
    "plt.xlabel('Epoch')\n",
    "plt.legend(['CapsNet: 1-conv','CapsNet: 2-conv','CapsNet: 3-conv','CapsNet: 4-conv','CNN-2CONV'], loc='best')\n",
    "plt.show()"
   ]
  },
  {
   "cell_type": "code",
   "execution_count": null,
   "metadata": {},
   "outputs": [],
   "source": []
  }
 ],
 "metadata": {
  "kernelspec": {
   "display_name": "Python 3",
   "language": "python",
   "name": "python3"
  },
  "language_info": {
   "codemirror_mode": {
    "name": "ipython",
    "version": 3
   },
   "file_extension": ".py",
   "mimetype": "text/x-python",
   "name": "python",
   "nbconvert_exporter": "python",
   "pygments_lexer": "ipython3",
   "version": "3.6.10"
  }
 },
 "nbformat": 4,
 "nbformat_minor": 2
}
