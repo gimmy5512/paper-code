{
 "cells": [
  {
   "cell_type": "code",
   "execution_count": 1,
   "metadata": {},
   "outputs": [],
   "source": [
    "import os\n"
   ]
  },
  {
   "cell_type": "code",
   "execution_count": 2,
   "metadata": {},
   "outputs": [
    {
     "name": "stderr",
     "output_type": "stream",
     "text": [
      "Using TensorFlow backend.\n",
      "C:\\Users\\ASUS\\Anaconda3\\envs\\tensorflow-gpu\\lib\\site-packages\\tensorflow\\python\\framework\\dtypes.py:526: FutureWarning: Passing (type, 1) or '1type' as a synonym of type is deprecated; in a future version of numpy, it will be understood as (type, (1,)) / '(1,)type'.\n",
      "  _np_qint8 = np.dtype([(\"qint8\", np.int8, 1)])\n",
      "C:\\Users\\ASUS\\Anaconda3\\envs\\tensorflow-gpu\\lib\\site-packages\\tensorflow\\python\\framework\\dtypes.py:527: FutureWarning: Passing (type, 1) or '1type' as a synonym of type is deprecated; in a future version of numpy, it will be understood as (type, (1,)) / '(1,)type'.\n",
      "  _np_quint8 = np.dtype([(\"quint8\", np.uint8, 1)])\n",
      "C:\\Users\\ASUS\\Anaconda3\\envs\\tensorflow-gpu\\lib\\site-packages\\tensorflow\\python\\framework\\dtypes.py:528: FutureWarning: Passing (type, 1) or '1type' as a synonym of type is deprecated; in a future version of numpy, it will be understood as (type, (1,)) / '(1,)type'.\n",
      "  _np_qint16 = np.dtype([(\"qint16\", np.int16, 1)])\n",
      "C:\\Users\\ASUS\\Anaconda3\\envs\\tensorflow-gpu\\lib\\site-packages\\tensorflow\\python\\framework\\dtypes.py:529: FutureWarning: Passing (type, 1) or '1type' as a synonym of type is deprecated; in a future version of numpy, it will be understood as (type, (1,)) / '(1,)type'.\n",
      "  _np_quint16 = np.dtype([(\"quint16\", np.uint16, 1)])\n",
      "C:\\Users\\ASUS\\Anaconda3\\envs\\tensorflow-gpu\\lib\\site-packages\\tensorflow\\python\\framework\\dtypes.py:530: FutureWarning: Passing (type, 1) or '1type' as a synonym of type is deprecated; in a future version of numpy, it will be understood as (type, (1,)) / '(1,)type'.\n",
      "  _np_qint32 = np.dtype([(\"qint32\", np.int32, 1)])\n",
      "C:\\Users\\ASUS\\Anaconda3\\envs\\tensorflow-gpu\\lib\\site-packages\\tensorflow\\python\\framework\\dtypes.py:535: FutureWarning: Passing (type, 1) or '1type' as a synonym of type is deprecated; in a future version of numpy, it will be understood as (type, (1,)) / '(1,)type'.\n",
      "  np_resource = np.dtype([(\"resource\", np.ubyte, 1)])\n"
     ]
    }
   ],
   "source": [
    "from __future__ import print_function\n",
    "from keras import backend as K\n",
    "from keras.layers import Layer\n",
    "from keras import activations\n",
    "from keras import utils\n",
    "from keras.datasets import fashion_mnist\n",
    "from keras.datasets import mnist\n",
    "from keras.models import Model\n",
    "from keras.layers import *\n",
    "from keras.preprocessing.image import ImageDataGenerator\n",
    "import cv2"
   ]
  },
  {
   "cell_type": "code",
   "execution_count": 3,
   "metadata": {},
   "outputs": [],
   "source": [
    "from tensorflow.compat.v1 import ConfigProto\n",
    "from tensorflow.compat.v1 import InteractiveSession\n",
    "\n",
    "config = ConfigProto()\n",
    "config.gpu_options.allow_growth = True\n",
    "session = InteractiveSession(config=config)"
   ]
  },
  {
   "cell_type": "code",
   "execution_count": 4,
   "metadata": {},
   "outputs": [],
   "source": [
    "Vld_Splt= 0.0909\n",
    "batch_size = 200\n",
    "num_classes = 10\n",
    "epochs = 30"
   ]
  },
  {
   "cell_type": "code",
   "execution_count": 5,
   "metadata": {},
   "outputs": [],
   "source": [
    "from keras.utils import np_utils\n",
    "\n",
    "'''LOAD DATA'''\n",
    "Dir= 'C:/pythonwork/MHDD/'\n",
    "x_train= np.load(Dir+'HMDD_Train_X.npy')\n",
    "y_train=np.load(Dir+'HMDD_Train_Y.npy')\n",
    "x_test=np.load(Dir+'HMDD_Test_X.npy')\n",
    "y_test=np.load(Dir+'HMDD_Test_Y.npy')\n",
    "\n",
    "'''PRE-PROCESSING'''\n",
    "x_train = x_train.reshape(-1, 28, 28, 1).astype('float32') / 255.\n",
    "x_test = x_test.reshape(-1, 28, 28, 1).astype('float32') / 255.\n",
    "# n_Vld= int(np.floor(Vld_Splt* x_train.shape[0]))  # Num. of validation data"
   ]
  },
  {
   "cell_type": "code",
   "execution_count": 6,
   "metadata": {},
   "outputs": [
    {
     "name": "stdout",
     "output_type": "stream",
     "text": [
      " (60000, 28, 28, 1) \n",
      " (60000, 10) \n",
      " (10000, 28, 28, 1) \n",
      " (10000, 10) \n",
      "\n"
     ]
    }
   ],
   "source": [
    "print('', x_train.shape,'\\n',y_train.shape,'\\n',x_test.shape,'\\n',y_test.shape,'\\n')"
   ]
  },
  {
   "cell_type": "code",
   "execution_count": 7,
   "metadata": {},
   "outputs": [],
   "source": [
    "# the squashing function.\n",
    "# we use 0.5 in stead of 1 in hinton's paper.\n",
    "# if 1, the norm of vector will be zoomed out.\n",
    "# if 0.5, the norm will be zoomed in while original norm is less than 0.5\n",
    "# and be zoomed out while original norm is greater than 0.5.\n",
    "def squash(x, axis=-1):\n",
    "    s_squared_norm = K.sum(K.square(x), axis, keepdims=True) + K.epsilon()\n",
    "    scale = K.sqrt(s_squared_norm) / (0.5 + s_squared_norm)\n",
    "    return scale * x\n",
    "\n",
    "\n",
    "# define our own softmax function instead of K.softmax\n",
    "# because K.softmax can not specify axis.\n",
    "def softmax(x, axis=-1):\n",
    "    ex = K.exp(x - K.max(x, axis=axis, keepdims=True))\n",
    "    return ex / K.sum(ex, axis=axis, keepdims=True)\n",
    "\n",
    "\n",
    "# define the margin loss like hinge loss\n",
    "def margin_loss(y_true, y_pred):\n",
    "    lamb, margin = 0.5, 0.1\n",
    "    return K.sum(y_true * K.square(K.relu(1 - margin - y_pred)) + lamb * (\n",
    "        1 - y_true) * K.square(K.relu(y_pred - margin)), axis=-1)\n",
    "\n",
    "\n",
    "class Capsule(Layer):\n",
    "    \"\"\"A Capsule Implement with Pure Keras\n",
    "    There are two vesions of Capsule.\n",
    "    One is like dense layer (for the fixed-shape input),\n",
    "    and the other is like timedistributed dense (for various length input).\n",
    "\n",
    "    The input shape of Capsule must be (batch_size,\n",
    "                                        input_num_capsule,\n",
    "                                        input_dim_capsule\n",
    "                                       )\n",
    "    and the output shape is (batch_size,\n",
    "                             num_capsule,\n",
    "                             dim_capsule\n",
    "                            )\n",
    "\n",
    "    Capsule Implement is from https://github.com/bojone/Capsule/\n",
    "    Capsule Paper: https://arxiv.org/abs/1710.09829\n",
    "    \"\"\"\n",
    "\n",
    "    def __init__(self,\n",
    "                 num_capsule,\n",
    "                 dim_capsule,\n",
    "                 routings=3,\n",
    "                 share_weights=True,\n",
    "                 activation='squash',\n",
    "                 **kwargs):\n",
    "        super(Capsule, self).__init__(**kwargs)\n",
    "        self.num_capsule = num_capsule\n",
    "        self.dim_capsule = dim_capsule\n",
    "        self.routings = routings\n",
    "        self.share_weights = share_weights\n",
    "        if activation == 'squash':\n",
    "            self.activation = squash\n",
    "        else:\n",
    "            self.activation = activations.get(activation)\n",
    "\n",
    "    def build(self, input_shape):\n",
    "        input_dim_capsule = input_shape[-1]\n",
    "        if self.share_weights:\n",
    "            self.kernel = self.add_weight(\n",
    "                name='capsule_kernel',\n",
    "                shape=(1, input_dim_capsule,\n",
    "                       self.num_capsule * self.dim_capsule),\n",
    "                initializer='glorot_uniform',\n",
    "                trainable=True)\n",
    "        else:\n",
    "            input_num_capsule = input_shape[-2]\n",
    "            self.kernel = self.add_weight(\n",
    "                name='capsule_kernel',\n",
    "                shape=(input_num_capsule, input_dim_capsule,\n",
    "                       self.num_capsule * self.dim_capsule),\n",
    "                initializer='glorot_uniform',\n",
    "                trainable=True)\n",
    "\n",
    "    def call(self, inputs):\n",
    "        \"\"\"Following the routing algorithm from Hinton's paper,\n",
    "        but replace b = b + <u,v> with b = <u,v>.\n",
    "\n",
    "        This change can improve the feature representation of Capsule.\n",
    "\n",
    "        However, you can replace\n",
    "            b = K.batch_dot(outputs, hat_inputs, [2, 3])\n",
    "        with\n",
    "            b += K.batch_dot(outputs, hat_inputs, [2, 3])\n",
    "        to realize a standard routing.\n",
    "        \"\"\"\n",
    "\n",
    "        if self.share_weights:\n",
    "            hat_inputs = K.conv1d(inputs, self.kernel)\n",
    "        else:\n",
    "            hat_inputs = K.local_conv1d(inputs, self.kernel, [1], [1])\n",
    "\n",
    "        batch_size = K.shape(inputs)[0]\n",
    "        input_num_capsule = K.shape(inputs)[1]\n",
    "        hat_inputs = K.reshape(hat_inputs,\n",
    "                               (batch_size, input_num_capsule,\n",
    "                                self.num_capsule, self.dim_capsule))\n",
    "        hat_inputs = K.permute_dimensions(hat_inputs, (0, 2, 1, 3))\n",
    "\n",
    "        b = K.zeros_like(hat_inputs[:, :, :, 0])\n",
    "        for i in range(self.routings):\n",
    "            c = softmax(b, 1)\n",
    "            o = self.activation(K.batch_dot(c, hat_inputs, [2, 2]))\n",
    "            if i < self.routings - 1:\n",
    "                b = K.batch_dot(o, hat_inputs, [2, 3])\n",
    "                if K.backend() == 'theano':\n",
    "                    o = K.sum(o, axis=1)\n",
    "\n",
    "        return o\n",
    "\n",
    "    def compute_output_shape(self, input_shape):\n",
    "        return (None, self.num_capsule, self.dim_capsule)"
   ]
  },
  {
   "cell_type": "code",
   "execution_count": 8,
   "metadata": {},
   "outputs": [
    {
     "name": "stdout",
     "output_type": "stream",
     "text": [
      "WARNING:tensorflow:From C:\\Users\\ASUS\\Anaconda3\\envs\\tensorflow-gpu\\lib\\site-packages\\tensorflow\\python\\framework\\op_def_library.py:263: colocate_with (from tensorflow.python.framework.ops) is deprecated and will be removed in a future version.\n",
      "Instructions for updating:\n",
      "Colocations handled automatically by placer.\n",
      "WARNING:tensorflow:From C:\\Users\\ASUS\\Anaconda3\\envs\\tensorflow-gpu\\lib\\site-packages\\keras\\backend\\tensorflow_backend.py:3445: calling dropout (from tensorflow.python.ops.nn_ops) with keep_prob is deprecated and will be removed in a future version.\n",
      "Instructions for updating:\n",
      "Please use `rate` instead of `keep_prob`. Rate should be set to `rate = 1 - keep_prob`.\n",
      "_________________________________________________________________\n",
      "Layer (type)                 Output Shape              Param #   \n",
      "=================================================================\n",
      "input_1 (InputLayer)         (None, 28, 28, 1)         0         \n",
      "_________________________________________________________________\n",
      "conv2d_1 (Conv2D)            (None, 24, 24, 300)       7800      \n",
      "_________________________________________________________________\n",
      "dropout_1 (Dropout)          (None, 24, 24, 300)       0         \n",
      "_________________________________________________________________\n",
      "reshape_1 (Reshape)          (None, 576, 300)          0         \n",
      "_________________________________________________________________\n",
      "capsule_1 (Capsule)          (None, 10, 16)            48000     \n",
      "_________________________________________________________________\n",
      "lambda_1 (Lambda)            (None, 10)                0         \n",
      "=================================================================\n",
      "Total params: 55,800\n",
      "Trainable params: 55,800\n",
      "Non-trainable params: 0\n",
      "_________________________________________________________________\n"
     ]
    }
   ],
   "source": [
    "\"\"\"one-CONV-LAYERS-THICK\"\"\"\n",
    "input_image = Input(shape=(x_train.shape[1], x_train.shape[2], x_train.shape[3]))\n",
    "x_0 = Conv2D(filters= 300, kernel_size= 5, activation='relu', \n",
    "             padding= 'valid')(input_image)\n",
    "x_0= Dropout(0.1)(x_0)\n",
    "\n",
    "\n",
    "\"\"\"now we reshape it as (batch_size, input_num_capsule, input_dim_capsule)\n",
    "then connect a Capsule layer.\n",
    "\n",
    "the output of final model is the lengths of 10 Capsule, whose dim=16.\n",
    "\n",
    "the length of Capsule is the proba,\n",
    "so the problem becomes a 10 two-classification problem.\n",
    "\"\"\"\n",
    "\n",
    "x_0 = Reshape((-1, 300))(x_0)\n",
    "capsule_0 = Capsule(num_classes, 16, 3, True)(x_0)\n",
    "output_0 = Lambda(lambda z: K.sqrt(K.sum(K.square(z), 2)))(capsule_0)\n",
    "model_0 = Model(inputs= input_image, outputs= output_0)\n",
    "\n",
    "# we use a margin loss\n",
    "model_0.compile(loss =margin_loss, optimizer='adam', metrics=['accuracy'])\n",
    "model_0.summary()\n",
    "\n",
    "# we can compare the performance with or without data augmentation\n",
    "data_augmentation = False"
   ]
  },
  {
   "cell_type": "code",
   "execution_count": 9,
   "metadata": {},
   "outputs": [
    {
     "name": "stdout",
     "output_type": "stream",
     "text": [
      "_________________________________________________________________\n",
      "Layer (type)                 Output Shape              Param #   \n",
      "=================================================================\n",
      "input_2 (InputLayer)         (None, 28, 28, 1)         0         \n",
      "_________________________________________________________________\n",
      "conv2d_2 (Conv2D)            (None, 24, 24, 30)        780       \n",
      "_________________________________________________________________\n",
      "dropout_2 (Dropout)          (None, 24, 24, 30)        0         \n",
      "_________________________________________________________________\n",
      "conv2d_3 (Conv2D)            (None, 20, 20, 60)        45060     \n",
      "_________________________________________________________________\n",
      "dropout_3 (Dropout)          (None, 20, 20, 60)        0         \n",
      "_________________________________________________________________\n",
      "reshape_2 (Reshape)          (None, 400, 60)           0         \n",
      "_________________________________________________________________\n",
      "capsule_2 (Capsule)          (None, 10, 16)            9600      \n",
      "_________________________________________________________________\n",
      "lambda_2 (Lambda)            (None, 10)                0         \n",
      "=================================================================\n",
      "Total params: 55,440\n",
      "Trainable params: 55,440\n",
      "Non-trainable params: 0\n",
      "_________________________________________________________________\n"
     ]
    }
   ],
   "source": [
    "\"\"\"two-CONV-LAYERS-THICK\"\"\"\n",
    "input_image = Input(shape=(x_train.shape[1], x_train.shape[2], x_train.shape[3]))\n",
    "x_1 = Conv2D(filters= 30, kernel_size= 5, activation='relu', \n",
    "             padding= 'valid')(input_image)\n",
    "x_1= Dropout(0.1)(x_1)\n",
    "x_1 = Conv2D(filters= 60, kernel_size= 5, activation='relu',\n",
    "             strides= 1)(x_1)\n",
    "x_1 = Dropout(0.1)(x_1)\n",
    "\n",
    "\n",
    "\"\"\"now we reshape it as (batch_size, input_num_capsule, input_dim_capsule)\n",
    "then connect a Capsule layer.\n",
    "\n",
    "the output of final model is the lengths of 10 Capsule, whose dim=16.\n",
    "\n",
    "the length of Capsule is the proba,\n",
    "so the problem becomes a 10 two-classification problem.\n",
    "\"\"\"\n",
    "\n",
    "x_1 = Reshape((-1, 60))(x_1)\n",
    "capsule_1 = Capsule(num_classes, 16, 3, True)(x_1)\n",
    "output_1 = Lambda(lambda z: K.sqrt(K.sum(K.square(z), 2)))(capsule_1)\n",
    "model_1= Model(inputs= input_image, outputs= output_1)\n",
    "\n",
    "# we use a margin loss\n",
    "model_1.compile(loss =margin_loss, optimizer='adam', metrics=['accuracy'])\n",
    "model_1.summary()\n",
    "\n",
    "# we can compare the performance with or without data augmentation\n",
    "data_augmentation = False"
   ]
  },
  {
   "cell_type": "code",
   "execution_count": 10,
   "metadata": {},
   "outputs": [
    {
     "name": "stdout",
     "output_type": "stream",
     "text": [
      "_________________________________________________________________\n",
      "Layer (type)                 Output Shape              Param #   \n",
      "=================================================================\n",
      "input_3 (InputLayer)         (None, 28, 28, 1)         0         \n",
      "_________________________________________________________________\n",
      "conv2d_4 (Conv2D)            (None, 24, 24, 15)        390       \n",
      "_________________________________________________________________\n",
      "dropout_4 (Dropout)          (None, 24, 24, 15)        0         \n",
      "_________________________________________________________________\n",
      "conv2d_5 (Conv2D)            (None, 20, 20, 30)        11280     \n",
      "_________________________________________________________________\n",
      "dropout_5 (Dropout)          (None, 20, 20, 30)        0         \n",
      "_________________________________________________________________\n",
      "conv2d_6 (Conv2D)            (None, 16, 16, 45)        33795     \n",
      "_________________________________________________________________\n",
      "dropout_6 (Dropout)          (None, 16, 16, 45)        0         \n",
      "_________________________________________________________________\n",
      "reshape_3 (Reshape)          (None, 256, 45)           0         \n",
      "_________________________________________________________________\n",
      "capsule_3 (Capsule)          (None, 10, 16)            7200      \n",
      "_________________________________________________________________\n",
      "lambda_3 (Lambda)            (None, 10)                0         \n",
      "=================================================================\n",
      "Total params: 52,665\n",
      "Trainable params: 52,665\n",
      "Non-trainable params: 0\n",
      "_________________________________________________________________\n"
     ]
    }
   ],
   "source": [
    "\"\"\"three-CONV-LAYERS-THICK\"\"\"\n",
    "input_image = Input(shape=(x_train.shape[1], x_train.shape[2], x_train.shape[3]))\n",
    "x_2 = Conv2D(filters= 15, kernel_size= 5, activation='relu', \n",
    "             padding= 'valid')(input_image)\n",
    "x_2= Dropout(0.1)(x_2)\n",
    "x_2 = Conv2D(filters= 30, kernel_size= 5, activation='relu',\n",
    "             strides= 1)(x_2)\n",
    "x_2 = Dropout(0.1)(x_2)\n",
    "x_2 = Conv2D(filters= 45, kernel_size= 5, activation='relu',\n",
    "             strides= 1)(x_2)\n",
    "x_2 = Dropout(0.1)(x_2)\n",
    "\n",
    "\n",
    "\"\"\"now we reshape it as (batch_size, input_num_capsule, input_dim_capsule)\n",
    "then connect a Capsule layer.\n",
    "\n",
    "the output of final model is the lengths of 10 Capsule, whose dim=16.\n",
    "\n",
    "the length of Capsule is the proba,\n",
    "so the problem becomes a 10 two-classification problem.\n",
    "\"\"\"\n",
    "\n",
    "x_2 = Reshape((-1, 45))(x_2)\n",
    "capsule_2 = Capsule(num_classes, 16, 3, True)(x_2)\n",
    "output_2 = Lambda(lambda z: K.sqrt(K.sum(K.square(z), 2)))(capsule_2)\n",
    "model_2= Model(inputs= input_image, outputs= output_2)\n",
    "\n",
    "# we use a margin loss\n",
    "model_2.compile(loss =margin_loss, optimizer='adam', metrics=['accuracy'])\n",
    "model_2.summary()\n",
    "\n",
    "# we can compare the performance with or without data augmentation\n",
    "data_augmentation = False"
   ]
  },
  {
   "cell_type": "code",
   "execution_count": 11,
   "metadata": {},
   "outputs": [
    {
     "name": "stdout",
     "output_type": "stream",
     "text": [
      "_________________________________________________________________\n",
      "Layer (type)                 Output Shape              Param #   \n",
      "=================================================================\n",
      "input_4 (InputLayer)         (None, 28, 28, 1)         0         \n",
      "_________________________________________________________________\n",
      "conv2d_7 (Conv2D)            (None, 24, 24, 15)        390       \n",
      "_________________________________________________________________\n",
      "dropout_7 (Dropout)          (None, 24, 24, 15)        0         \n",
      "_________________________________________________________________\n",
      "conv2d_8 (Conv2D)            (None, 20, 20, 20)        7520      \n",
      "_________________________________________________________________\n",
      "dropout_8 (Dropout)          (None, 20, 20, 20)        0         \n",
      "_________________________________________________________________\n",
      "conv2d_9 (Conv2D)            (None, 16, 16, 30)        15030     \n",
      "_________________________________________________________________\n",
      "dropout_9 (Dropout)          (None, 16, 16, 30)        0         \n",
      "_________________________________________________________________\n",
      "conv2d_10 (Conv2D)           (None, 12, 12, 30)        22530     \n",
      "_________________________________________________________________\n",
      "dropout_10 (Dropout)         (None, 12, 12, 30)        0         \n",
      "_________________________________________________________________\n",
      "reshape_4 (Reshape)          (None, 144, 30)           0         \n",
      "_________________________________________________________________\n",
      "capsule_4 (Capsule)          (None, 10, 16)            4800      \n",
      "_________________________________________________________________\n",
      "lambda_4 (Lambda)            (None, 10)                0         \n",
      "=================================================================\n",
      "Total params: 50,270\n",
      "Trainable params: 50,270\n",
      "Non-trainable params: 0\n",
      "_________________________________________________________________\n"
     ]
    }
   ],
   "source": [
    "\"\"\"four-CONV-LAYERS-THICK\"\"\"\n",
    "input_image = Input(shape=(x_train.shape[1], x_train.shape[2], x_train.shape[3]))\n",
    "x_3 = Conv2D(filters= 15, kernel_size= 5, activation='relu', \n",
    "             padding= 'valid')(input_image)\n",
    "x_3= Dropout(0.1)(x_3)\n",
    "x_3 = Conv2D(filters= 20 ,kernel_size= 5, activation='relu',\n",
    "             strides= 1)(x_3)\n",
    "x_3 = Dropout(0.1)(x_3)\n",
    "x_3 = Conv2D(filters= 30, kernel_size= 5, activation='relu',\n",
    "             strides= 1)(x_3)\n",
    "x_3= Dropout(0.1)(x_3)\n",
    "x_3 = Conv2D(filters= 30,kernel_size= 5, activation='relu',\n",
    "             strides= 1)(x_3)\n",
    "x_3= Dropout(0.1)(x_3)\n",
    "\n",
    "\n",
    "\"\"\"now we reshape it as (batch_size, input_num_capsule, input_dim_capsule)\n",
    "then connect a Capsule layer.\n",
    "\n",
    "the output of final model is the lengths of 10 Capsule, whose dim=16.\n",
    "\n",
    "the length of Capsule is the proba,\n",
    "so the problem becomes a 10 two-classification problem.\n",
    "\"\"\"\n",
    "\n",
    "x_3 = Reshape((-1, 30))(x_3)\n",
    "capsule_3 = Capsule(num_classes, 16, 3, True)(x_3)\n",
    "output_3 = Lambda(lambda z: K.sqrt(K.sum(K.square(z), 2)))(capsule_3)\n",
    "model_3= Model(inputs= input_image, outputs= output_3)\n",
    "\n",
    "# we use a margin loss\n",
    "model_3.compile(loss =margin_loss, optimizer='adam', metrics=['accuracy'])\n",
    "model_3.summary()\n",
    "\n",
    "# we can compare the performance with or without data augmentation\n",
    "data_augmentation = False"
   ]
  },
  {
   "cell_type": "code",
   "execution_count": 89,
   "metadata": {},
   "outputs": [
    {
     "name": "stdout",
     "output_type": "stream",
     "text": [
      "_________________________________________________________________\n",
      "Layer (type)                 Output Shape              Param #   \n",
      "=================================================================\n",
      "input_14 (InputLayer)        (None, 28, 28, 1)         0         \n",
      "_________________________________________________________________\n",
      "conv2d_67 (Conv2D)           (None, 24, 24, 15)        390       \n",
      "_________________________________________________________________\n",
      "dropout_67 (Dropout)         (None, 24, 24, 15)        0         \n",
      "_________________________________________________________________\n",
      "conv2d_68 (Conv2D)           (None, 10, 10, 20)        7520      \n",
      "_________________________________________________________________\n",
      "dropout_68 (Dropout)         (None, 10, 10, 20)        0         \n",
      "_________________________________________________________________\n",
      "conv2d_69 (Conv2D)           (None, 6, 6, 20)          10020     \n",
      "_________________________________________________________________\n",
      "dropout_69 (Dropout)         (None, 6, 6, 20)          0         \n",
      "_________________________________________________________________\n",
      "conv2d_70 (Conv2D)           (None, 6, 6, 25)          12525     \n",
      "_________________________________________________________________\n",
      "dropout_70 (Dropout)         (None, 6, 6, 25)          0         \n",
      "_________________________________________________________________\n",
      "conv2d_71 (Conv2D)           (None, 2, 2, 27)          16902     \n",
      "_________________________________________________________________\n",
      "dropout_71 (Dropout)         (None, 2, 2, 27)          0         \n",
      "_________________________________________________________________\n",
      "reshape_14 (Reshape)         (None, 4, 27)             0         \n",
      "_________________________________________________________________\n",
      "capsule_14 (Capsule)         (None, 10, 16)            4320      \n",
      "_________________________________________________________________\n",
      "lambda_14 (Lambda)           (None, 10)                0         \n",
      "=================================================================\n",
      "Total params: 51,677\n",
      "Trainable params: 51,677\n",
      "Non-trainable params: 0\n",
      "_________________________________________________________________\n"
     ]
    }
   ],
   "source": [
    "\"\"\"five-CONV-LAYERS-THICK\"\"\"\n",
    "input_image = Input(shape=(x_train.shape[1], x_train.shape[2], x_train.shape[3]))\n",
    "x_4 = Conv2D(filters= 15, kernel_size= 5, activation='relu', \n",
    "             padding= 'valid')(input_image)\n",
    "x_4= Dropout(0.1)(x_4)\n",
    "x_4 = Conv2D(filters= 20 ,kernel_size= 5, activation='relu',\n",
    "             strides= 2)(x_4)\n",
    "x_4 = Dropout(0.1)(x_4)\n",
    "x_4 = Conv2D(filters= 20, kernel_size= 5, activation='relu',\n",
    "             strides= 1)(x_4)\n",
    "x_4= Dropout(0.1)(x_4)\n",
    "x_4 = Conv2D(filters= 25,kernel_size= 5, activation='relu',\n",
    "             padding= 'same')(x_4)\n",
    "x_4= Dropout(0.1)(x_4)\n",
    "x_4 = Conv2D(filters= 27,kernel_size= 5, activation='relu',\n",
    "             strides= 1)(x_4)\n",
    "x_4= Dropout(0.1)(x_4)\n",
    "\n",
    "\"\"\"now we reshape it as (batch_size, input_num_capsule, input_dim_capsule)\n",
    "then connect a Capsule layer.\n",
    "\n",
    "the output of final model is the lengths of 10 Capsule, whose dim=16.\n",
    "\n",
    "the length of Capsule is the proba,\n",
    "so the problem becomes a 10 two-classification problem.\n",
    "\"\"\"\n",
    "\n",
    "x_4 = Reshape((-1, 27))(x_4)\n",
    "capsule_4 = Capsule(num_classes, 16, 3, True)(x_4)\n",
    "output_4 = Lambda(lambda z: K.sqrt(K.sum(K.square(z), 2)))(capsule_4)\n",
    "model_4= Model(inputs= input_image, outputs= output_4)\n",
    "\n",
    "# we use a margin loss\n",
    "model_4.compile(loss =margin_loss, optimizer='adam', metrics=['accuracy'])\n",
    "model_4.summary()\n",
    "\n",
    "# we can compare the performance with or without data augmentation\n",
    "data_augmentation = False"
   ]
  },
  {
   "cell_type": "code",
   "execution_count": 69,
   "metadata": {},
   "outputs": [
    {
     "name": "stdout",
     "output_type": "stream",
     "text": [
      "_________________________________________________________________\n",
      "Layer (type)                 Output Shape              Param #   \n",
      "=================================================================\n",
      "input_13 (InputLayer)        (None, 28, 28, 1)         0         \n",
      "_________________________________________________________________\n",
      "conv2d_61 (Conv2D)           (None, 24, 24, 15)        390       \n",
      "_________________________________________________________________\n",
      "dropout_61 (Dropout)         (None, 24, 24, 15)        0         \n",
      "_________________________________________________________________\n",
      "conv2d_62 (Conv2D)           (None, 24, 24, 15)        5640      \n",
      "_________________________________________________________________\n",
      "dropout_62 (Dropout)         (None, 24, 24, 15)        0         \n",
      "_________________________________________________________________\n",
      "conv2d_63 (Conv2D)           (None, 10, 10, 19)        7144      \n",
      "_________________________________________________________________\n",
      "dropout_63 (Dropout)         (None, 10, 10, 19)        0         \n",
      "_________________________________________________________________\n",
      "conv2d_64 (Conv2D)           (None, 6, 6, 20)          9520      \n",
      "_________________________________________________________________\n",
      "dropout_64 (Dropout)         (None, 6, 6, 20)          0         \n",
      "_________________________________________________________________\n",
      "conv2d_65 (Conv2D)           (None, 6, 6, 25)          12525     \n",
      "_________________________________________________________________\n",
      "dropout_65 (Dropout)         (None, 6, 6, 25)          0         \n",
      "_________________________________________________________________\n",
      "conv2d_66 (Conv2D)           (None, 2, 2, 30)          18780     \n",
      "_________________________________________________________________\n",
      "dropout_66 (Dropout)         (None, 2, 2, 30)          0         \n",
      "_________________________________________________________________\n",
      "reshape_13 (Reshape)         (None, 4, 30)             0         \n",
      "_________________________________________________________________\n",
      "capsule_13 (Capsule)         (None, 10, 16)            4800      \n",
      "_________________________________________________________________\n",
      "lambda_13 (Lambda)           (None, 10)                0         \n",
      "=================================================================\n",
      "Total params: 58,799\n",
      "Trainable params: 58,799\n",
      "Non-trainable params: 0\n",
      "_________________________________________________________________\n"
     ]
    }
   ],
   "source": [
    "\"\"\"six-CONV-LAYERS-THICK\"\"\"\n",
    "input_image = Input(shape=(x_train.shape[1], x_train.shape[2], x_train.shape[3]))\n",
    "x_5 = Conv2D(filters= 15, kernel_size= 5, activation='relu', \n",
    "             padding= 'valid')(input_image)\n",
    "x_5= Dropout(0.1)(x_5)\n",
    "x_5 = Conv2D(filters= 15 ,kernel_size= 5, activation='relu',\n",
    "             padding= 'same')(x_5)\n",
    "x_5 = Dropout(0.1)(x_5)\n",
    "x_5 = Conv2D(filters= 19, kernel_size= 5, activation='relu',\n",
    "             strides= 2)(x_5)\n",
    "x_5= Dropout(0.1)(x_5)\n",
    "x_5 = Conv2D(filters= 20,kernel_size= 5, activation='relu',\n",
    "             strides= 1)(x_5)\n",
    "x_5= Dropout(0.1)(x_5)\n",
    "x_5 = Conv2D(filters= 25,kernel_size= 5, activation='relu',\n",
    "             padding= 'same')(x_5)\n",
    "x_5= Dropout(0.1)(x_5)\n",
    "x_5 = Conv2D(filters= 30,kernel_size= 5, activation='relu',\n",
    "             strides= 1)(x_5)\n",
    "x_5= Dropout(0.1)(x_5)\n",
    "\n",
    "\"\"\"now we reshape it as (batch_size, input_num_capsule, input_dim_capsule)\n",
    "then connect a Capsule layer.\n",
    "\n",
    "the output of final model is the lengths of 10 Capsule, whose dim=16.\n",
    "\n",
    "the length of Capsule is the proba,\n",
    "so the problem becomes a 10 two-classification problem.\n",
    "\"\"\"\n",
    "\n",
    "x_5 = Reshape((-1, 30))(x_5)\n",
    "capsule_5 = Capsule(num_classes, 16, 3, True)(x_5)\n",
    "output_5 = Lambda(lambda z: K.sqrt(K.sum(K.square(z), 2)))(capsule_5)\n",
    "model_5= Model(inputs= input_image, outputs= output_5)\n",
    "\n",
    "# we use a margin loss\n",
    "model_5.compile(loss =margin_loss, optimizer='adam', metrics=['accuracy'])\n",
    "model_5.summary()\n",
    "\n",
    "# we can compare the performance with or without data augmentation\n",
    "data_augmentation = False"
   ]
  },
  {
   "cell_type": "code",
   "execution_count": 46,
   "metadata": {},
   "outputs": [
    {
     "name": "stdout",
     "output_type": "stream",
     "text": [
      "_________________________________________________________________\n",
      "Layer (type)                 Output Shape              Param #   \n",
      "=================================================================\n",
      "input_12 (InputLayer)        (None, 28, 28, 1)         0         \n",
      "_________________________________________________________________\n",
      "conv2d_54 (Conv2D)           (None, 24, 24, 15)        390       \n",
      "_________________________________________________________________\n",
      "dropout_54 (Dropout)         (None, 24, 24, 15)        0         \n",
      "_________________________________________________________________\n",
      "conv2d_55 (Conv2D)           (None, 24, 24, 15)        5640      \n",
      "_________________________________________________________________\n",
      "dropout_55 (Dropout)         (None, 24, 24, 15)        0         \n",
      "_________________________________________________________________\n",
      "conv2d_56 (Conv2D)           (None, 10, 10, 15)        5640      \n",
      "_________________________________________________________________\n",
      "dropout_56 (Dropout)         (None, 10, 10, 15)        0         \n",
      "_________________________________________________________________\n",
      "conv2d_57 (Conv2D)           (None, 10, 10, 20)        7520      \n",
      "_________________________________________________________________\n",
      "dropout_57 (Dropout)         (None, 10, 10, 20)        0         \n",
      "_________________________________________________________________\n",
      "conv2d_58 (Conv2D)           (None, 10, 10, 20)        10020     \n",
      "_________________________________________________________________\n",
      "dropout_58 (Dropout)         (None, 10, 10, 20)        0         \n",
      "_________________________________________________________________\n",
      "conv2d_59 (Conv2D)           (None, 6, 6, 24)          12024     \n",
      "_________________________________________________________________\n",
      "dropout_59 (Dropout)         (None, 6, 6, 24)          0         \n",
      "_________________________________________________________________\n",
      "conv2d_60 (Conv2D)           (None, 2, 2, 25)          15025     \n",
      "_________________________________________________________________\n",
      "dropout_60 (Dropout)         (None, 2, 2, 25)          0         \n",
      "_________________________________________________________________\n",
      "reshape_12 (Reshape)         (None, 4, 25)             0         \n",
      "_________________________________________________________________\n",
      "capsule_12 (Capsule)         (None, 10, 16)            4000      \n",
      "_________________________________________________________________\n",
      "lambda_12 (Lambda)           (None, 10)                0         \n",
      "=================================================================\n",
      "Total params: 60,259\n",
      "Trainable params: 60,259\n",
      "Non-trainable params: 0\n",
      "_________________________________________________________________\n"
     ]
    }
   ],
   "source": [
    "\"\"\"seven-CONV-LAYERS-THICK\"\"\"\n",
    "input_image = Input(shape=(x_train.shape[1], x_train.shape[2], x_train.shape[3]))\n",
    "x_6 = Conv2D(filters= 15, kernel_size= 5, activation='relu', \n",
    "             padding= 'valid')(input_image)\n",
    "x_6= Dropout(0.1)(x_6)\n",
    "x_6 = Conv2D(filters= 15 ,kernel_size= 5, activation='relu',\n",
    "            padding= 'same')(x_6)\n",
    "x_6 = Dropout(0.1)(x_6)\n",
    "x_6 = Conv2D(filters= 15, kernel_size= 5, activation='relu',\n",
    "              strides= 2)(x_6)\n",
    "x_6= Dropout(0.1)(x_6)\n",
    "x_6 = Conv2D(filters= 20,kernel_size= 5, activation='relu',\n",
    "              padding= 'same')(x_6)\n",
    "x_6= Dropout(0.1)(x_6)\n",
    "x_6 = Conv2D(filters= 20,kernel_size= 5, activation='relu',\n",
    "             padding= 'same')(x_6)\n",
    "x_6= Dropout(0.1)(x_6)\n",
    "x_6 = Conv2D(filters= 24,kernel_size= 5, activation='relu',\n",
    "              strides= 1)(x_6)\n",
    "x_6= Dropout(0.1)(x_6)\n",
    "x_6 = Conv2D(filters= 25,kernel_size= 5, activation='relu',\n",
    "             strides= 1)(x_6)\n",
    "x_6= Dropout(0.1)(x_6)\n",
    "\n",
    "\"\"\"now we reshape it as (batch_size, input_num_capsule, input_dim_capsule)\n",
    "then connect a Capsule layer.\n",
    "\n",
    "the output of final model is the lengths of 10 Capsule, whose dim=16.\n",
    "\n",
    "the length of Capsule is the proba,\n",
    "so the problem becomes a 10 two-classification problem.\n",
    "\"\"\"\n",
    "\n",
    "x_6 = Reshape((-1, 25))(x_6)\n",
    "capsule_6 = Capsule(num_classes, 16, 3, True)(x_6)\n",
    "output_6 = Lambda(lambda z: K.sqrt(K.sum(K.square(z), 2)))(capsule_6)\n",
    "model_6= Model(inputs= input_image, outputs= output_6)\n",
    "\n",
    "# we use a margin loss\n",
    "model_6.compile(loss =margin_loss, optimizer='adam', metrics=['accuracy'])\n",
    "model_6.summary()\n",
    "\n",
    "# we can compare the performance with or without data augmentation\n",
    "data_augmentation = False"
   ]
  },
  {
   "cell_type": "code",
   "execution_count": 15,
   "metadata": {},
   "outputs": [
    {
     "name": "stdout",
     "output_type": "stream",
     "text": [
      "_________________________________________________________________\n",
      "Layer (type)                 Output Shape              Param #   \n",
      "=================================================================\n",
      "conv2d_29 (Conv2D)           (None, 28, 28, 5)         130       \n",
      "_________________________________________________________________\n",
      "max_pooling2d_1 (MaxPooling2 (None, 14, 14, 5)         0         \n",
      "_________________________________________________________________\n",
      "conv2d_30 (Conv2D)           (None, 10, 10, 18)        2268      \n",
      "_________________________________________________________________\n",
      "dropout_29 (Dropout)         (None, 10, 10, 18)        0         \n",
      "_________________________________________________________________\n",
      "max_pooling2d_2 (MaxPooling2 (None, 5, 5, 18)          0         \n",
      "_________________________________________________________________\n",
      "flatten_1 (Flatten)          (None, 450)               0         \n",
      "_________________________________________________________________\n",
      "dropout_30 (Dropout)         (None, 450)               0         \n",
      "_________________________________________________________________\n",
      "dense_1 (Dense)              (None, 256)               115456    \n",
      "_________________________________________________________________\n",
      "dense_2 (Dense)              (None, 10)                2570      \n",
      "=================================================================\n",
      "Total params: 120,424\n",
      "Trainable params: 120,424\n",
      "Non-trainable params: 0\n",
      "_________________________________________________________________\n",
      "None\n"
     ]
    }
   ],
   "source": [
    "\"\"\"CNN-3-CONV-LAYERS\"\"\"\n",
    "from keras.models import Sequential\n",
    "from keras.layers import Dense, Dropout, Activation, Flatten, Conv2D, MaxPooling2D, \\\n",
    "                         ZeroPadding2D\n",
    "\n",
    "model_7= Sequential()\n",
    "model_7.add(Conv2D(filters= 5, kernel_size= (5, 5), padding= 'same', \n",
    "                   input_shape=(x_train.shape[1], x_train.shape[2], x_train.shape[3]), \n",
    "                   activation='relu'))\n",
    "model_7.add(MaxPooling2D(pool_size=(2,2)))\n",
    "model_7.add(Conv2D(filters= 18, kernel_size= (5, 5), \n",
    "                    padding= 'valid', activation='relu'))\n",
    "model_7.add(Dropout(0.3))\n",
    "model_7.add(MaxPooling2D(pool_size=(2,2)))\n",
    "\n",
    "model_7.add(Flatten())\n",
    "model_7.add(Dropout(0.4))\n",
    "model_7.add(Dense(256, activation='relu'))\n",
    "model_7.add(Dense(num_classes, activation='softmax'))\n",
    "print(model_7.summary())"
   ]
  },
  {
   "cell_type": "code",
   "execution_count": 16,
   "metadata": {},
   "outputs": [
    {
     "name": "stdout",
     "output_type": "stream",
     "text": [
      "Not using data augmentation.\n",
      "WARNING:tensorflow:From C:\\Users\\ASUS\\Anaconda3\\envs\\tensorflow-gpu\\lib\\site-packages\\tensorflow\\python\\ops\\math_ops.py:3066: to_int32 (from tensorflow.python.ops.math_ops) is deprecated and will be removed in a future version.\n",
      "Instructions for updating:\n",
      "Use tf.cast instead.\n",
      "WARNING:tensorflow:From C:\\Users\\ASUS\\Anaconda3\\envs\\tensorflow-gpu\\lib\\site-packages\\tensorflow\\python\\ops\\math_grad.py:102: div (from tensorflow.python.ops.math_ops) is deprecated and will be removed in a future version.\n",
      "Instructions for updating:\n",
      "Deprecated in favor of operator or tf.math.divide.\n",
      "Train on 54546 samples, validate on 5454 samples\n",
      "Epoch 1/30\n",
      "54546/54546 [==============================] - 20s 371us/step - loss: 0.4083 - acc: 0.5013 - val_loss: 0.3134 - val_acc: 0.6773\n",
      "Epoch 2/30\n",
      "54546/54546 [==============================] - 17s 316us/step - loss: 0.2920 - acc: 0.7007 - val_loss: 0.2681 - val_acc: 0.76462961 - ETA: 2s - loss: 0.2947 - acc: 0.696 - ET\n",
      "Epoch 3/30\n",
      "54546/54546 [==============================] - 17s 315us/step - loss: 0.2568 - acc: 0.7547 - val_loss: 0.2336 - val_acc: 0.7946 1s - loss: 0.2\n",
      "Epoch 4/30\n",
      "54546/54546 [==============================] - 17s 316us/step - loss: 0.2376 - acc: 0.7798 - val_loss: 0.2183 - val_acc: 0.8258\n",
      "Epoch 5/30\n",
      "54546/54546 [==============================] - 17s 317us/step - loss: 0.2260 - acc: 0.7963 - val_loss: 0.2102 - val_acc: 0.8254\n",
      "Epoch 6/30\n",
      "54546/54546 [==============================] - 17s 316us/step - loss: 0.2202 - acc: 0.7997 - val_loss: 0.2043 - val_acc: 0.8414\n",
      "Epoch 7/30\n",
      "54546/54546 [==============================] - 17s 318us/step - loss: 0.2123 - acc: 0.8122 - val_loss: 0.2018 - val_acc: 0.8370\n",
      "Epoch 8/30\n",
      "54546/54546 [==============================] - 17s 320us/step - loss: 0.2080 - acc: 0.8159 - val_loss: 0.2027 - val_acc: 0.8293\n",
      "Epoch 9/30\n",
      "54546/54546 [==============================] - 17s 317us/step - loss: 0.2032 - acc: 0.8213 - val_loss: 0.1933 - val_acc: 0.8420\n",
      "Epoch 10/30\n",
      "54546/54546 [==============================] - 17s 317us/step - loss: 0.1987 - acc: 0.8282 - val_loss: 0.1895 - val_acc: 0.8530\n",
      "Epoch 11/30\n",
      "54546/54546 [==============================] - 17s 318us/step - loss: 0.1940 - acc: 0.8327 - val_loss: 0.1817 - val_acc: 0.8522 4s - l - ETA: 2s - loss: 0.1947 - acc: \n",
      "Epoch 12/30\n",
      "54546/54546 [==============================] - 17s 320us/step - loss: 0.1910 - acc: 0.8369 - val_loss: 0.1792 - val_acc: 0.8625\n",
      "Epoch 13/30\n",
      "54546/54546 [==============================] - 17s 321us/step - loss: 0.1910 - acc: 0.8352 - val_loss: 0.1800 - val_acc: 0.8471\n",
      "Epoch 14/30\n",
      "54546/54546 [==============================] - 18s 322us/step - loss: 0.1875 - acc: 0.8399 - val_loss: 0.1853 - val_acc: 0.8434\n",
      "Epoch 15/30\n",
      "54546/54546 [==============================] - 18s 327us/step - loss: 0.1840 - acc: 0.8437 - val_loss: 0.1723 - val_acc: 0.8634\n",
      "Epoch 16/30\n",
      "54546/54546 [==============================] - 18s 321us/step - loss: 0.1821 - acc: 0.8466 - val_loss: 0.1732 - val_acc: 0.8605\n",
      "Epoch 17/30\n",
      "54546/54546 [==============================] - 18s 324us/step - loss: 0.1806 - acc: 0.8475 - val_loss: 0.1645 - val_acc: 0.8759\n",
      "Epoch 18/30\n",
      "54546/54546 [==============================] - 17s 319us/step - loss: 0.1796 - acc: 0.8499 - val_loss: 0.1643 - val_acc: 0.8718\n",
      "Epoch 19/30\n",
      "54546/54546 [==============================] - 18s 323us/step - loss: 0.1771 - acc: 0.8517 - val_loss: 0.1700 - val_acc: 0.8748\n",
      "Epoch 20/30\n",
      "54546/54546 [==============================] - 17s 320us/step - loss: 0.1745 - acc: 0.8540 - val_loss: 0.1613 - val_acc: 0.8783\n",
      "Epoch 21/30\n",
      "54546/54546 [==============================] - 18s 322us/step - loss: 0.1743 - acc: 0.8558 - val_loss: 0.1679 - val_acc: 0.8695\n",
      "Epoch 22/30\n",
      "54546/54546 [==============================] - 17s 321us/step - loss: 0.1741 - acc: 0.8547 - val_loss: 0.1798 - val_acc: 0.8652\n",
      "Epoch 23/30\n",
      "54546/54546 [==============================] - 17s 320us/step - loss: 0.1727 - acc: 0.8569 - val_loss: 0.1596 - val_acc: 0.8739\n",
      "Epoch 24/30\n",
      "54546/54546 [==============================] - 17s 320us/step - loss: 0.1730 - acc: 0.8563 - val_loss: 0.1573 - val_acc: 0.8825\n",
      "Epoch 25/30\n",
      "54546/54546 [==============================] - 18s 322us/step - loss: 0.1689 - acc: 0.8623 - val_loss: 0.1585 - val_acc: 0.8739\n",
      "Epoch 26/30\n",
      "54546/54546 [==============================] - 18s 328us/step - loss: 0.1682 - acc: 0.8612 - val_loss: 0.1585 - val_acc: 0.8847\n",
      "Epoch 27/30\n",
      "54546/54546 [==============================] - 18s 331us/step - loss: 0.1688 - acc: 0.8614 - val_loss: 0.1617 - val_acc: 0.8724\n",
      "Epoch 28/30\n",
      "54546/54546 [==============================] - 20s 375us/step - loss: 0.1658 - acc: 0.8658 - val_loss: 0.1497 - val_acc: 0.8883\n",
      "Epoch 29/30\n",
      "54546/54546 [==============================] - 17s 320us/step - loss: 0.1669 - acc: 0.8647 - val_loss: 0.1525 - val_acc: 0.8900\n",
      "Epoch 30/30\n",
      "54546/54546 [==============================] - 17s 320us/step - loss: 0.1643 - acc: 0.8675 - val_loss: 0.1551 - val_acc: 0.8746\n"
     ]
    }
   ],
   "source": [
    "\"\"\"one-CONV-LAYERS-THICK\"\"\"\n",
    "if not data_augmentation:\n",
    "    print('Not using data augmentation.')\n",
    "    train_history_0= model_0.fit(\n",
    "        x_train,\n",
    "        y_train,\n",
    "        batch_size=batch_size,\n",
    "        epochs=epochs,\n",
    "        validation_split= Vld_Splt,\n",
    "        shuffle=True)\n",
    "else:\n",
    "    print('Using real-time data augmentation.')\n",
    "    # This will do preprocessing and realtime data augmentation:\n",
    "    datagen = ImageDataGenerator(\n",
    "        featurewise_center=False,  # set input mean to 0 over the dataset\n",
    "        samplewise_center=False,  # set each sample mean to 0\n",
    "        featurewise_std_normalization=False,  # divide inputs by dataset std\n",
    "        samplewise_std_normalization=False,  # divide each input by its std\n",
    "        zca_whitening=False,  # apply ZCA whitening\n",
    "        zca_epsilon=1e-06,  # epsilon for ZCA whitening\n",
    "        rotation_range=0,  # randomly rotate images in 0 to 180 degrees\n",
    "        width_shift_range=0.1,  # randomly shift images horizontally\n",
    "        height_shift_range=0.1,  # randomly shift images vertically\n",
    "        shear_range=0.,  # set range for random shear\n",
    "        zoom_range=0.,  # set range for random zoom\n",
    "        channel_shift_range=0.,  # set range for random channel shifts\n",
    "        # set mode for filling points outside the input boundaries\n",
    "        fill_mode='nearest',\n",
    "        cval=0.,  # value used for fill_mode = \"constant\"\n",
    "        horizontal_flip=True,  # randomly flip images\n",
    "        vertical_flip=False,  # randomly flip images\n",
    "        # set rescaling factor (applied before any other transformation)\n",
    "        rescale=None,\n",
    "        # set function that will be applied on each input\n",
    "        preprocessing_function=None,\n",
    "        # image data format, either \"channels_first\" or \"channels_last\"\n",
    "        data_format=None,\n",
    "        # fraction of images reserved for validation (strictly between 0 and 1)\n",
    "        validation_split=0.0)\n",
    "\n",
    "    # Compute quantities required for feature-wise normalization\n",
    "    # (std, mean, and principal components if ZCA whitening is applied).\n",
    "    datagen.fit(x_train)\n",
    "\n",
    "    # Fit the model on the batches generated by datagen.flow().\n",
    "    train_history_0= model_0.fit_generator(\n",
    "        datagen.flow(x_train, y_train, batch_size=batch_size),\n",
    "        epochs= epochs,\n",
    "        validation_split= Vld_Splt,\n",
    "        steps_per_epoch= int(x_train.shape[0]/ batch_size),\n",
    "        workers=4)"
   ]
  },
  {
   "cell_type": "code",
   "execution_count": 17,
   "metadata": {},
   "outputs": [
    {
     "name": "stdout",
     "output_type": "stream",
     "text": [
      "Not using data augmentation.\n",
      "Train on 54546 samples, validate on 5454 samples\n",
      "Epoch 1/30\n",
      "54546/54546 [==============================] - 10s 177us/step - loss: 0.4165 - acc: 0.4900 - val_loss: 0.3013 - val_acc: 0.7010\n",
      "Epoch 2/30\n",
      "54546/54546 [==============================] - 9s 166us/step - loss: 0.2733 - acc: 0.7231 - val_loss: 0.2278 - val_acc: 0.7899\n",
      "Epoch 3/30\n",
      "54546/54546 [==============================] - 9s 166us/step - loss: 0.2254 - acc: 0.7818 - val_loss: 0.2063 - val_acc: 0.8187\n",
      "Epoch 4/30\n",
      "54546/54546 [==============================] - 9s 167us/step - loss: 0.1979 - acc: 0.8137 - val_loss: 0.1776 - val_acc: 0.8416\n",
      "Epoch 5/30\n",
      "54546/54546 [==============================] - 9s 166us/step - loss: 0.1778 - acc: 0.8352 - val_loss: 0.1578 - val_acc: 0.8656\n",
      "Epoch 6/30\n",
      "54546/54546 [==============================] - 9s 166us/step - loss: 0.1626 - acc: 0.8503 - val_loss: 0.1433 - val_acc: 0.8777\n",
      "Epoch 7/30\n",
      "54546/54546 [==============================] - 9s 167us/step - loss: 0.1529 - acc: 0.8593 - val_loss: 0.1378 - val_acc: 0.8803\n",
      "Epoch 8/30\n",
      "54546/54546 [==============================] - 9s 167us/step - loss: 0.1461 - acc: 0.8653 - val_loss: 0.1330 - val_acc: 0.8841\n",
      "Epoch 9/30\n",
      "54546/54546 [==============================] - 9s 168us/step - loss: 0.1394 - acc: 0.8737 - val_loss: 0.1257 - val_acc: 0.8894\n",
      "Epoch 10/30\n",
      "54546/54546 [==============================] - 9s 169us/step - loss: 0.1326 - acc: 0.8799 - val_loss: 0.1184 - val_acc: 0.8990\n",
      "Epoch 11/30\n",
      "54546/54546 [==============================] - 9s 170us/step - loss: 0.1274 - acc: 0.8865 - val_loss: 0.1171 - val_acc: 0.8949\n",
      "Epoch 12/30\n",
      "54546/54546 [==============================] - 9s 169us/step - loss: 0.1235 - acc: 0.8891 - val_loss: 0.1147 - val_acc: 0.8968\n",
      "Epoch 13/30\n",
      "54546/54546 [==============================] - 9s 169us/step - loss: 0.1193 - acc: 0.8932 - val_loss: 0.1128 - val_acc: 0.9058\n",
      "Epoch 14/30\n",
      "54546/54546 [==============================] - 9s 167us/step - loss: 0.1148 - acc: 0.8983 - val_loss: 0.1065 - val_acc: 0.9142\n",
      "Epoch 15/30\n",
      "54546/54546 [==============================] - 9s 172us/step - loss: 0.1111 - acc: 0.9023 - val_loss: 0.1027 - val_acc: 0.9102\n",
      "Epoch 16/30\n",
      "54546/54546 [==============================] - 9s 168us/step - loss: 0.1077 - acc: 0.9058 - val_loss: 0.0980 - val_acc: 0.9199\n",
      "Epoch 17/30\n",
      "54546/54546 [==============================] - 9s 170us/step - loss: 0.1044 - acc: 0.9097 - val_loss: 0.0948 - val_acc: 0.9208\n",
      "Epoch 18/30\n",
      "54546/54546 [==============================] - 9s 171us/step - loss: 0.1029 - acc: 0.9108 - val_loss: 0.0970 - val_acc: 0.9188\n",
      "Epoch 19/30\n",
      "54546/54546 [==============================] - 9s 172us/step - loss: 0.0998 - acc: 0.9144 - val_loss: 0.0944 - val_acc: 0.9226\n",
      "Epoch 20/30\n",
      "54546/54546 [==============================] - 9s 170us/step - loss: 0.0987 - acc: 0.9169 - val_loss: 0.0926 - val_acc: 0.9202\n",
      "Epoch 21/30\n",
      "54546/54546 [==============================] - 9s 170us/step - loss: 0.0964 - acc: 0.9196 - val_loss: 0.0908 - val_acc: 0.9239\n",
      "Epoch 22/30\n",
      "54546/54546 [==============================] - 9s 169us/step - loss: 0.0950 - acc: 0.9199 - val_loss: 0.0905 - val_acc: 0.9287\n",
      "Epoch 23/30\n",
      "54546/54546 [==============================] - 9s 169us/step - loss: 0.0933 - acc: 0.9216 - val_loss: 0.0878 - val_acc: 0.9256\n",
      "Epoch 24/30\n",
      "54546/54546 [==============================] - 9s 168us/step - loss: 0.0910 - acc: 0.9255 - val_loss: 0.0873 - val_acc: 0.9272\n",
      "Epoch 25/30\n",
      "54546/54546 [==============================] - 9s 174us/step - loss: 0.0909 - acc: 0.9238 - val_loss: 0.0847 - val_acc: 0.9300\n",
      "Epoch 26/30\n",
      "54546/54546 [==============================] - 9s 174us/step - loss: 0.0895 - acc: 0.9252 - val_loss: 0.0856 - val_acc: 0.9243\n",
      "Epoch 27/30\n",
      "54546/54546 [==============================] - 9s 169us/step - loss: 0.0874 - acc: 0.9288 - val_loss: 0.0873 - val_acc: 0.9232\n",
      "Epoch 28/30\n",
      "54546/54546 [==============================] - 9s 169us/step - loss: 0.0875 - acc: 0.9276 - val_loss: 0.0867 - val_acc: 0.9241\n",
      "Epoch 29/30\n",
      "54546/54546 [==============================] - 9s 170us/step - loss: 0.0861 - acc: 0.9287 - val_loss: 0.0820 - val_acc: 0.9323\n",
      "Epoch 30/30\n",
      "54546/54546 [==============================] - 9s 170us/step - loss: 0.0851 - acc: 0.9304 - val_loss: 0.0819 - val_acc: 0.9329\n"
     ]
    }
   ],
   "source": [
    "\"\"\"two-CONV-LAYERS-THICK\"\"\"\n",
    "if not data_augmentation:\n",
    "    print('Not using data augmentation.')\n",
    "    train_history_1= model_1.fit(\n",
    "        x_train,\n",
    "        y_train,\n",
    "        batch_size=batch_size,\n",
    "        epochs=epochs,\n",
    "        validation_split= Vld_Splt,\n",
    "        shuffle=True)\n",
    "else:\n",
    "    print('Using real-time data augmentation.')\n",
    "    # This will do preprocessing and realtime data augmentation:\n",
    "    datagen = ImageDataGenerator(\n",
    "        featurewise_center=False,  # set input mean to 0 over the dataset\n",
    "        samplewise_center=False,  # set each sample mean to 0\n",
    "        featurewise_std_normalization=False,  # divide inputs by dataset std\n",
    "        samplewise_std_normalization=False,  # divide each input by its std\n",
    "        zca_whitening=False,  # apply ZCA whitening\n",
    "        zca_epsilon=1e-06,  # epsilon for ZCA whitening\n",
    "        rotation_range=0,  # randomly rotate images in 0 to 180 degrees\n",
    "        width_shift_range=0.1,  # randomly shift images horizontally\n",
    "        height_shift_range=0.1,  # randomly shift images vertically\n",
    "        shear_range=0.,  # set range for random shear\n",
    "        zoom_range=0.,  # set range for random zoom\n",
    "        channel_shift_range=0.,  # set range for random channel shifts\n",
    "        # set mode for filling points outside the input boundaries\n",
    "        fill_mode='nearest',\n",
    "        cval=0.,  # value used for fill_mode = \"constant\"\n",
    "        horizontal_flip=True,  # randomly flip images\n",
    "        vertical_flip=False,  # randomly flip images\n",
    "        # set rescaling factor (applied before any other transformation)\n",
    "        rescale=None,\n",
    "        # set function that will be applied on each input\n",
    "        preprocessing_function=None,\n",
    "        # image data format, either \"channels_first\" or \"channels_last\"\n",
    "        data_format=None,\n",
    "        # fraction of images reserved for validation (strictly between 0 and 1)\n",
    "        validation_split=0.0)\n",
    "\n",
    "    # Compute quantities required for feature-wise normalization\n",
    "    # (std, mean, and principal components if ZCA whitening is applied).\n",
    "    datagen.fit(x_train)\n",
    "\n",
    "    # Fit the model on the batches generated by datagen.flow().\n",
    "    train_history_1= model_1.fit_generator(\n",
    "        datagen.flow(x_train, y_train, batch_size=batch_size),\n",
    "        epochs= epochs,\n",
    "        validation_split= Vld_Splt,\n",
    "        steps_per_epoch= int(x_train.shape[0]/ batch_size),\n",
    "        workers=4)"
   ]
  },
  {
   "cell_type": "code",
   "execution_count": 18,
   "metadata": {},
   "outputs": [
    {
     "name": "stdout",
     "output_type": "stream",
     "text": [
      "Not using data augmentation.\n",
      "Train on 54546 samples, validate on 5454 samples\n",
      "Epoch 1/30\n",
      "54546/54546 [==============================] - 8s 153us/step - loss: 0.3728 - acc: 0.5394 - val_loss: 0.2391 - val_acc: 0.7651\n",
      "Epoch 2/30\n",
      "54546/54546 [==============================] - 7s 134us/step - loss: 0.1988 - acc: 0.8041 - val_loss: 0.1493 - val_acc: 0.8618\n",
      "Epoch 3/30\n",
      "54546/54546 [==============================] - 7s 133us/step - loss: 0.1456 - acc: 0.8578 - val_loss: 0.1170 - val_acc: 0.8850\n",
      "Epoch 4/30\n",
      "54546/54546 [==============================] - 7s 133us/step - loss: 0.1199 - acc: 0.8858 - val_loss: 0.1036 - val_acc: 0.8988\n",
      "Epoch 5/30\n",
      "54546/54546 [==============================] - 7s 134us/step - loss: 0.1058 - acc: 0.9006 - val_loss: 0.0893 - val_acc: 0.9127\n",
      "Epoch 6/30\n",
      "54546/54546 [==============================] - 7s 133us/step - loss: 0.0948 - acc: 0.9100 - val_loss: 0.0788 - val_acc: 0.9245\n",
      "Epoch 7/30\n",
      "54546/54546 [==============================] - 7s 134us/step - loss: 0.0878 - acc: 0.9177 - val_loss: 0.0755 - val_acc: 0.9290\n",
      "Epoch 8/30\n",
      "54546/54546 [==============================] - 7s 136us/step - loss: 0.0826 - acc: 0.9240 - val_loss: 0.0694 - val_acc: 0.9340\n",
      "Epoch 9/30\n",
      "54546/54546 [==============================] - 7s 137us/step - loss: 0.0780 - acc: 0.9284 - val_loss: 0.0663 - val_acc: 0.9400\n",
      "Epoch 10/30\n",
      "54546/54546 [==============================] - 8s 138us/step - loss: 0.0746 - acc: 0.9306 - val_loss: 0.0623 - val_acc: 0.9408\n",
      "Epoch 11/30\n",
      "54546/54546 [==============================] - 8s 140us/step - loss: 0.0714 - acc: 0.9348 - val_loss: 0.0596 - val_acc: 0.9421\n",
      "Epoch 12/30\n",
      "54546/54546 [==============================] - 8s 141us/step - loss: 0.0681 - acc: 0.9374 - val_loss: 0.0576 - val_acc: 0.9448\n",
      "Epoch 13/30\n",
      "54546/54546 [==============================] - 8s 141us/step - loss: 0.0658 - acc: 0.9408 - val_loss: 0.0569 - val_acc: 0.9485\n",
      "Epoch 14/30\n",
      "54546/54546 [==============================] - 14s 250us/step - loss: 0.0636 - acc: 0.9429 - val_loss: 0.0589 - val_acc: 0.9413\n",
      "Epoch 15/30\n",
      "54546/54546 [==============================] - 8s 147us/step - loss: 0.0620 - acc: 0.9443 - val_loss: 0.0545 - val_acc: 0.9518\n",
      "Epoch 16/30\n",
      "54546/54546 [==============================] - 8s 141us/step - loss: 0.0590 - acc: 0.9479 - val_loss: 0.0509 - val_acc: 0.9518\n",
      "Epoch 17/30\n",
      "54546/54546 [==============================] - 8s 147us/step - loss: 0.0585 - acc: 0.9481 - val_loss: 0.0518 - val_acc: 0.9505\n",
      "Epoch 18/30\n",
      "54546/54546 [==============================] - 8s 149us/step - loss: 0.0564 - acc: 0.9510 - val_loss: 0.0498 - val_acc: 0.9565\n",
      "Epoch 19/30\n",
      "54546/54546 [==============================] - 8s 142us/step - loss: 0.0554 - acc: 0.9514 - val_loss: 0.0494 - val_acc: 0.9531\n",
      "Epoch 20/30\n",
      "54546/54546 [==============================] - 8s 146us/step - loss: 0.0541 - acc: 0.9536 - val_loss: 0.0474 - val_acc: 0.9591\n",
      "Epoch 21/30\n",
      "54546/54546 [==============================] - 8s 142us/step - loss: 0.0530 - acc: 0.9552 - val_loss: 0.0506 - val_acc: 0.9512\n",
      "Epoch 22/30\n",
      "54546/54546 [==============================] - 8s 141us/step - loss: 0.0519 - acc: 0.9557 - val_loss: 0.0445 - val_acc: 0.9604\n",
      "Epoch 23/30\n",
      "54546/54546 [==============================] - 8s 139us/step - loss: 0.0508 - acc: 0.9577 - val_loss: 0.0472 - val_acc: 0.9545\n",
      "Epoch 24/30\n",
      "54546/54546 [==============================] - 8s 141us/step - loss: 0.0501 - acc: 0.9579 - val_loss: 0.0451 - val_acc: 0.9600\n",
      "Epoch 25/30\n",
      "54546/54546 [==============================] - 7s 137us/step - loss: 0.0489 - acc: 0.9596 - val_loss: 0.0423 - val_acc: 0.9633\n",
      "Epoch 26/30\n",
      "54546/54546 [==============================] - 7s 135us/step - loss: 0.0493 - acc: 0.9595 - val_loss: 0.0443 - val_acc: 0.9628\n",
      "Epoch 27/30\n",
      "54546/54546 [==============================] - 7s 134us/step - loss: 0.0483 - acc: 0.9599 - val_loss: 0.0429 - val_acc: 0.9624\n",
      "Epoch 28/30\n",
      "54546/54546 [==============================] - 7s 136us/step - loss: 0.0467 - acc: 0.9623 - val_loss: 0.0442 - val_acc: 0.9635\n",
      "Epoch 29/30\n",
      "54546/54546 [==============================] - 8s 138us/step - loss: 0.0465 - acc: 0.9626 - val_loss: 0.0405 - val_acc: 0.9679\n",
      "Epoch 30/30\n",
      "54546/54546 [==============================] - 8s 139us/step - loss: 0.0456 - acc: 0.9633 - val_loss: 0.0416 - val_acc: 0.9620\n"
     ]
    }
   ],
   "source": [
    "\"\"\"three-CONV-LAYERS-THICK\"\"\"\n",
    "if not data_augmentation:\n",
    "    print('Not using data augmentation.')\n",
    "    train_history_2= model_2.fit(\n",
    "        x_train,\n",
    "        y_train,\n",
    "        batch_size=batch_size,\n",
    "        epochs=epochs,\n",
    "        validation_split= Vld_Splt,\n",
    "        shuffle=True)\n",
    "else:\n",
    "    print('Using real-time data augmentation.')\n",
    "    # This will do preprocessing and realtime data augmentation:\n",
    "    datagen = ImageDataGenerator(\n",
    "        featurewise_center=False,  # set input mean to 0 over the dataset\n",
    "        samplewise_center=False,  # set each sample mean to 0\n",
    "        featurewise_std_normalization=False,  # divide inputs by dataset std\n",
    "        samplewise_std_normalization=False,  # divide each input by its std\n",
    "        zca_whitening=False,  # apply ZCA whitening\n",
    "        zca_epsilon=1e-06,  # epsilon for ZCA whitening\n",
    "        rotation_range=0,  # randomly rotate images in 0 to 180 degrees\n",
    "        width_shift_range=0.1,  # randomly shift images horizontally\n",
    "        height_shift_range=0.1,  # randomly shift images vertically\n",
    "        shear_range=0.,  # set range for random shear\n",
    "        zoom_range=0.,  # set range for random zoom\n",
    "        channel_shift_range=0.,  # set range for random channel shifts\n",
    "        # set mode for filling points outside the input boundaries\n",
    "        fill_mode='nearest',\n",
    "        cval=0.,  # value used for fill_mode = \"constant\"\n",
    "        horizontal_flip=True,  # randomly flip images\n",
    "        vertical_flip=False,  # randomly flip images\n",
    "        # set rescaling factor (applied before any other transformation)\n",
    "        rescale=None,\n",
    "        # set function that will be applied on each input\n",
    "        preprocessing_function=None,\n",
    "        # image data format, either \"channels_first\" or \"channels_last\"\n",
    "        data_format=None,\n",
    "        # fraction of images reserved for validation (strictly between 0 and 1)\n",
    "        validation_split=0.0)\n",
    "\n",
    "    # Compute quantities required for feature-wise normalization\n",
    "    # (std, mean, and principal components if ZCA whitening is applied).\n",
    "    datagen.fit(x_train)\n",
    "\n",
    "    # Fit the model on the batches generated by datagen.flow().\n",
    "    train_history_2= model_2.fit_generator(\n",
    "        datagen.flow(x_train, y_train, batch_size=batch_size),\n",
    "        epochs= epochs,\n",
    "        validation_split= Vld_Splt,\n",
    "        steps_per_epoch= int(x_train.shape[0]/ batch_size),\n",
    "        workers=4)"
   ]
  },
  {
   "cell_type": "code",
   "execution_count": 19,
   "metadata": {},
   "outputs": [
    {
     "name": "stdout",
     "output_type": "stream",
     "text": [
      "Not using data augmentation.\n",
      "Train on 54546 samples, validate on 5454 samples\n",
      "Epoch 1/30\n",
      "54546/54546 [==============================] - 7s 133us/step - loss: 0.3556 - acc: 0.5368 - val_loss: 0.2182 - val_acc: 0.7651\n",
      "Epoch 2/30\n",
      "54546/54546 [==============================] - 12s 218us/step - loss: 0.1799 - acc: 0.8125 - val_loss: 0.1295 - val_acc: 0.8700\n",
      "Epoch 3/30\n",
      "54546/54546 [==============================] - 6s 110us/step - loss: 0.1217 - acc: 0.8754 - val_loss: 0.0911 - val_acc: 0.9025\n",
      "Epoch 4/30\n",
      "54546/54546 [==============================] - 6s 112us/step - loss: 0.0956 - acc: 0.8999 - val_loss: 0.0769 - val_acc: 0.9204\n",
      "Epoch 5/30\n",
      "54546/54546 [==============================] - 7s 123us/step - loss: 0.0827 - acc: 0.9147 - val_loss: 0.0706 - val_acc: 0.9213\n",
      "Epoch 6/30\n",
      "54546/54546 [==============================] - 6s 117us/step - loss: 0.0740 - acc: 0.9233 - val_loss: 0.0632 - val_acc: 0.9331\n",
      "Epoch 7/30\n",
      "54546/54546 [==============================] - 6s 112us/step - loss: 0.0674 - acc: 0.9307 - val_loss: 0.0617 - val_acc: 0.9311\n",
      "Epoch 8/30\n",
      "54546/54546 [==============================] - 6s 110us/step - loss: 0.0625 - acc: 0.9368 - val_loss: 0.0565 - val_acc: 0.9399\n",
      "Epoch 9/30\n",
      "54546/54546 [==============================] - 6s 114us/step - loss: 0.0603 - acc: 0.9383 - val_loss: 0.0590 - val_acc: 0.9322\n",
      "Epoch 10/30\n",
      "54546/54546 [==============================] - 6s 111us/step - loss: 0.0562 - acc: 0.9436 - val_loss: 0.0517 - val_acc: 0.9424\n",
      "Epoch 11/30\n",
      "54546/54546 [==============================] - 6s 111us/step - loss: 0.0537 - acc: 0.9464 - val_loss: 0.0478 - val_acc: 0.9485\n",
      "Epoch 12/30\n",
      "54546/54546 [==============================] - 6s 112us/step - loss: 0.0508 - acc: 0.9498 - val_loss: 0.0451 - val_acc: 0.9507\n",
      "Epoch 13/30\n",
      "54546/54546 [==============================] - 6s 114us/step - loss: 0.0499 - acc: 0.9502 - val_loss: 0.0452 - val_acc: 0.9525\n",
      "Epoch 14/30\n",
      "54546/54546 [==============================] - 6s 111us/step - loss: 0.0473 - acc: 0.9544 - val_loss: 0.0419 - val_acc: 0.9571\n",
      "Epoch 15/30\n",
      "54546/54546 [==============================] - 6s 111us/step - loss: 0.0461 - acc: 0.9553 - val_loss: 0.0470 - val_acc: 0.9521\n",
      "Epoch 16/30\n",
      "54546/54546 [==============================] - 8s 143us/step - loss: 0.0448 - acc: 0.9569 - val_loss: 0.0432 - val_acc: 0.9591\n",
      "Epoch 17/30\n",
      "54546/54546 [==============================] - 10s 175us/step - loss: 0.0432 - acc: 0.9589 - val_loss: 0.0403 - val_acc: 0.9578\n",
      "Epoch 18/30\n",
      "54546/54546 [==============================] - 6s 111us/step - loss: 0.0420 - acc: 0.9594 - val_loss: 0.0437 - val_acc: 0.9534\n",
      "Epoch 19/30\n",
      "54546/54546 [==============================] - 6s 110us/step - loss: 0.0418 - acc: 0.9604 - val_loss: 0.0406 - val_acc: 0.9569\n",
      "Epoch 20/30\n",
      "54546/54546 [==============================] - 6s 113us/step - loss: 0.0403 - acc: 0.9621 - val_loss: 0.0404 - val_acc: 0.9597\n",
      "Epoch 21/30\n",
      "54546/54546 [==============================] - 6s 110us/step - loss: 0.0393 - acc: 0.9629 - val_loss: 0.0369 - val_acc: 0.9617\n",
      "Epoch 22/30\n",
      "54546/54546 [==============================] - 6s 111us/step - loss: 0.0381 - acc: 0.9642 - val_loss: 0.0357 - val_acc: 0.9655\n",
      "Epoch 23/30\n",
      "54546/54546 [==============================] - 13s 231us/step - loss: 0.0386 - acc: 0.9640 - val_loss: 0.0386 - val_acc: 0.9600\n",
      "Epoch 24/30\n",
      "54546/54546 [==============================] - 6s 111us/step - loss: 0.0369 - acc: 0.9662 - val_loss: 0.0351 - val_acc: 0.9639\n",
      "Epoch 25/30\n",
      "54546/54546 [==============================] - 6s 117us/step - loss: 0.0365 - acc: 0.9658 - val_loss: 0.0364 - val_acc: 0.9608\n",
      "Epoch 26/30\n",
      "54546/54546 [==============================] - 6s 114us/step - loss: 0.0363 - acc: 0.9668 - val_loss: 0.0355 - val_acc: 0.9626\n",
      "Epoch 27/30\n",
      "54546/54546 [==============================] - 7s 121us/step - loss: 0.0359 - acc: 0.9672 - val_loss: 0.0387 - val_acc: 0.9598\n",
      "Epoch 28/30\n",
      "54546/54546 [==============================] - 6s 114us/step - loss: 0.0349 - acc: 0.9684 - val_loss: 0.0388 - val_acc: 0.9584\n",
      "Epoch 29/30\n",
      "54546/54546 [==============================] - 6s 118us/step - loss: 0.0347 - acc: 0.9691 - val_loss: 0.0348 - val_acc: 0.9631\n",
      "Epoch 30/30\n",
      "54546/54546 [==============================] - 12s 211us/step - loss: 0.0336 - acc: 0.9701 - val_loss: 0.0369 - val_acc: 0.9624\n"
     ]
    }
   ],
   "source": [
    "\"\"\"four-CONV-LAYERS-THICK\"\"\"\n",
    "if not data_augmentation:\n",
    "    print('Not using data augmentation.')\n",
    "    train_history_3= model_3.fit(\n",
    "        x_train,\n",
    "        y_train,\n",
    "        batch_size=batch_size,\n",
    "        epochs=epochs,\n",
    "        validation_split= Vld_Splt,\n",
    "        shuffle=True)\n",
    "else:\n",
    "    print('Using real-time data augmentation.')\n",
    "    # This will do preprocessing and realtime data augmentation:\n",
    "    datagen = ImageDataGenerator(\n",
    "        featurewise_center=False,  # set input mean to 0 over the dataset\n",
    "        samplewise_center=False,  # set each sample mean to 0\n",
    "        featurewise_std_normalization=False,  # divide inputs by dataset std\n",
    "        samplewise_std_normalization=False,  # divide each input by its std\n",
    "        zca_whitening=False,  # apply ZCA whitening\n",
    "        zca_epsilon=1e-06,  # epsilon for ZCA whitening\n",
    "        rotation_range=0,  # randomly rotate images in 0 to 180 degrees\n",
    "        width_shift_range=0.1,  # randomly shift images horizontally\n",
    "        height_shift_range=0.1,  # randomly shift images vertically\n",
    "        shear_range=0.,  # set range for random shear\n",
    "        zoom_range=0.,  # set range for random zoom\n",
    "        channel_shift_range=0.,  # set range for random channel shifts\n",
    "        # set mode for filling points outside the input boundaries\n",
    "        fill_mode='nearest',\n",
    "        cval=0.,  # value used for fill_mode = \"constant\"\n",
    "        horizontal_flip=True,  # randomly flip images\n",
    "        vertical_flip=False,  # randomly flip images\n",
    "        # set rescaling factor (applied before any other transformation)\n",
    "        rescale=None,\n",
    "        # set function that will be applied on each input\n",
    "        preprocessing_function=None,\n",
    "        # image data format, either \"channels_first\" or \"channels_last\"\n",
    "        data_format=None,\n",
    "        # fraction of images reserved for validation (strictly between 0 and 1)\n",
    "        validation_split=0.0)\n",
    "\n",
    "    # Compute quantities required for feature-wise normalization\n",
    "    # (std, mean, and principal components if ZCA whitening is applied).\n",
    "    datagen.fit(x_train)\n",
    "\n",
    "    # Fit the model on the batches generated by datagen.flow().\n",
    "    train_history_3= model_3.fit_generator(\n",
    "        datagen.flow(x_train, y_train, batch_size=batch_size),\n",
    "        epochs= epochs,\n",
    "        validation_split= Vld_Splt,\n",
    "        steps_per_epoch= int(x_train.shape[0]/ batch_size),\n",
    "        workers=4)"
   ]
  },
  {
   "cell_type": "code",
   "execution_count": 90,
   "metadata": {},
   "outputs": [
    {
     "name": "stdout",
     "output_type": "stream",
     "text": [
      "Not using data augmentation.\n",
      "Train on 54546 samples, validate on 5454 samples\n",
      "Epoch 1/30\n",
      "54546/54546 [==============================] - 6s 102us/step - loss: 0.3712 - acc: 0.4618 - val_loss: 0.1913 - val_acc: 0.7450\n",
      "Epoch 2/30\n",
      "54546/54546 [==============================] - 4s 68us/step - loss: 0.1718 - acc: 0.7794 - val_loss: 0.1199 - val_acc: 0.8442\n",
      "Epoch 3/30\n",
      "54546/54546 [==============================] - 4s 69us/step - loss: 0.1167 - acc: 0.8512 - val_loss: 0.0776 - val_acc: 0.9030\n",
      "Epoch 4/30\n",
      "54546/54546 [==============================] - 4s 68us/step - loss: 0.0917 - acc: 0.8827 - val_loss: 0.0628 - val_acc: 0.9184\n",
      "Epoch 5/30\n",
      "54546/54546 [==============================] - 4s 66us/step - loss: 0.0808 - acc: 0.8978 - val_loss: 0.0672 - val_acc: 0.9116\n",
      "Epoch 6/30\n",
      "54546/54546 [==============================] - 3s 63us/step - loss: 0.0704 - acc: 0.9099 - val_loss: 0.0534 - val_acc: 0.9318\n",
      "Epoch 7/30\n",
      "54546/54546 [==============================] - 3s 58us/step - loss: 0.0642 - acc: 0.9179 - val_loss: 0.0456 - val_acc: 0.9430\n",
      "Epoch 8/30\n",
      "54546/54546 [==============================] - 3s 60us/step - loss: 0.0593 - acc: 0.9243 - val_loss: 0.0440 - val_acc: 0.9439\n",
      "Epoch 9/30\n",
      "54546/54546 [==============================] - 3s 60us/step - loss: 0.0544 - acc: 0.9305 - val_loss: 0.0422 - val_acc: 0.9441\n",
      "Epoch 10/30\n",
      "54546/54546 [==============================] - 4s 69us/step - loss: 0.0506 - acc: 0.9354 - val_loss: 0.0448 - val_acc: 0.9421\n",
      "Epoch 11/30\n",
      "54546/54546 [==============================] - 4s 66us/step - loss: 0.0485 - acc: 0.9375 - val_loss: 0.0366 - val_acc: 0.9527\n",
      "Epoch 12/30\n",
      "54546/54546 [==============================] - 3s 62us/step - loss: 0.0451 - acc: 0.9427 - val_loss: 0.0410 - val_acc: 0.9485\n",
      "Epoch 13/30\n",
      "54546/54546 [==============================] - 3s 58us/step - loss: 0.0451 - acc: 0.9420 - val_loss: 0.0370 - val_acc: 0.9525\n",
      "Epoch 14/30\n",
      "54546/54546 [==============================] - 3s 62us/step - loss: 0.0424 - acc: 0.9458 - val_loss: 0.0331 - val_acc: 0.9565\n",
      "Epoch 15/30\n",
      "54546/54546 [==============================] - 4s 68us/step - loss: 0.0404 - acc: 0.9484 - val_loss: 0.0327 - val_acc: 0.9549\n",
      "Epoch 16/30\n",
      "54546/54546 [==============================] - 4s 69us/step - loss: 0.0383 - acc: 0.9505 - val_loss: 0.0299 - val_acc: 0.9604\n",
      "Epoch 17/30\n",
      "54546/54546 [==============================] - 4s 71us/step - loss: 0.0381 - acc: 0.9515 - val_loss: 0.0334 - val_acc: 0.9554\n",
      "Epoch 18/30\n",
      "54546/54546 [==============================] - 3s 59us/step - loss: 0.0362 - acc: 0.9537 - val_loss: 0.0299 - val_acc: 0.9609\n",
      "Epoch 19/30\n",
      "54546/54546 [==============================] - 3s 60us/step - loss: 0.0363 - acc: 0.9540 - val_loss: 0.0310 - val_acc: 0.9589\n",
      "Epoch 20/30\n",
      "54546/54546 [==============================] - 3s 64us/step - loss: 0.0339 - acc: 0.9572 - val_loss: 0.0312 - val_acc: 0.9587\n",
      "Epoch 21/30\n",
      "54546/54546 [==============================] - 3s 60us/step - loss: 0.0330 - acc: 0.9588 - val_loss: 0.0300 - val_acc: 0.9600\n",
      "Epoch 22/30\n",
      "54546/54546 [==============================] - 3s 60us/step - loss: 0.0321 - acc: 0.9591 - val_loss: 0.0310 - val_acc: 0.9586\n",
      "Epoch 23/30\n",
      "54546/54546 [==============================] - 3s 60us/step - loss: 0.0317 - acc: 0.9599 - val_loss: 0.0288 - val_acc: 0.9609\n",
      "Epoch 24/30\n",
      "54546/54546 [==============================] - 3s 58us/step - loss: 0.0302 - acc: 0.9628 - val_loss: 0.0264 - val_acc: 0.9659\n",
      "Epoch 25/30\n",
      "54546/54546 [==============================] - 3s 62us/step - loss: 0.0300 - acc: 0.9622 - val_loss: 0.0291 - val_acc: 0.9631\n",
      "Epoch 26/30\n",
      "54546/54546 [==============================] - 3s 63us/step - loss: 0.0290 - acc: 0.9636 - val_loss: 0.0280 - val_acc: 0.9652\n",
      "Epoch 27/30\n",
      "54546/54546 [==============================] - 3s 60us/step - loss: 0.0295 - acc: 0.9627 - val_loss: 0.0284 - val_acc: 0.9635\n",
      "Epoch 28/30\n",
      "54546/54546 [==============================] - 3s 61us/step - loss: 0.0283 - acc: 0.9647 - val_loss: 0.0261 - val_acc: 0.9648\n",
      "Epoch 29/30\n",
      "54546/54546 [==============================] - 3s 63us/step - loss: 0.0280 - acc: 0.9657 - val_loss: 0.0281 - val_acc: 0.9639\n",
      "Epoch 30/30\n",
      "54546/54546 [==============================] - 3s 61us/step - loss: 0.0273 - acc: 0.9660 - val_loss: 0.0264 - val_acc: 0.9657\n"
     ]
    }
   ],
   "source": [
    "\"\"\"five-CONV-LAYERS-THICK\"\"\"\n",
    "if not data_augmentation:\n",
    "    print('Not using data augmentation.')\n",
    "    train_history_4= model_4.fit(\n",
    "        x_train,\n",
    "        y_train,\n",
    "        batch_size=batch_size,\n",
    "        epochs=epochs,\n",
    "        validation_split= Vld_Splt,\n",
    "        shuffle=True)\n",
    "else:\n",
    "    print('Using real-time data augmentation.')\n",
    "    # This will do preprocessing and realtime data augmentation:\n",
    "    datagen = ImageDataGenerator(\n",
    "        featurewise_center=False,  # set input mean to 0 over the dataset\n",
    "        samplewise_center=False,  # set each sample mean to 0\n",
    "        featurewise_std_normalization=False,  # divide inputs by dataset std\n",
    "        samplewise_std_normalization=False,  # divide each input by its std\n",
    "        zca_whitening=False,  # apply ZCA whitening\n",
    "        zca_epsilon=1e-06,  # epsilon for ZCA whitening\n",
    "        rotation_range=0,  # randomly rotate images in 0 to 180 degrees\n",
    "        width_shift_range=0.1,  # randomly shift images horizontally\n",
    "        height_shift_range=0.1,  # randomly shift images vertically\n",
    "        shear_range=0.,  # set range for random shear\n",
    "        zoom_range=0.,  # set range for random zoom\n",
    "        channel_shift_range=0.,  # set range for random channel shifts\n",
    "        # set mode for filling points outside the input boundaries\n",
    "        fill_mode='nearest',\n",
    "        cval=0.,  # value used for fill_mode = \"constant\"\n",
    "        horizontal_flip=True,  # randomly flip images\n",
    "        vertical_flip=False,  # randomly flip images\n",
    "        # set rescaling factor (applied before any other transformation)\n",
    "        rescale=None,\n",
    "        # set function that will be applied on each input\n",
    "        preprocessing_function=None,\n",
    "        # image data format, either \"channels_first\" or \"channels_last\"\n",
    "        data_format=None,\n",
    "        # fraction of images reserved for validation (strictly between 0 and 1)\n",
    "        validation_split=0.0)\n",
    "\n",
    "    # Compute quantities required for feature-wise normalization\n",
    "    # (std, mean, and principal components if ZCA whitening is applied).\n",
    "    datagen.fit(x_train)\n",
    "\n",
    "    # Fit the model on the batches generated by datagen.flow().\n",
    "    train_history_4= model_4.fit_generator(\n",
    "        datagen.flow(x_train, y_train, batch_size=batch_size),\n",
    "        epochs= epochs,\n",
    "        validation_split= Vld_Splt,\n",
    "        steps_per_epoch= int(x_train.shape[0]/ batch_size),\n",
    "        workers=4)"
   ]
  },
  {
   "cell_type": "code",
   "execution_count": 70,
   "metadata": {},
   "outputs": [
    {
     "name": "stdout",
     "output_type": "stream",
     "text": [
      "Not using data augmentation.\n",
      "Train on 54546 samples, validate on 5454 samples\n",
      "Epoch 1/30\n",
      "54546/54546 [==============================] - 6s 110us/step - loss: 0.4110 - acc: 0.3879 - val_loss: 0.2040 - val_acc: 0.7327\n",
      "Epoch 2/30\n",
      "54546/54546 [==============================] - 4s 78us/step - loss: 0.1670 - acc: 0.7863 - val_loss: 0.1029 - val_acc: 0.8640\n",
      "Epoch 3/30\n",
      "54546/54546 [==============================] - 4s 79us/step - loss: 0.1122 - acc: 0.8578 - val_loss: 0.0784 - val_acc: 0.8957\n",
      "Epoch 4/30\n",
      "54546/54546 [==============================] - 4s 74us/step - loss: 0.0885 - acc: 0.8864 - val_loss: 0.0639 - val_acc: 0.9120\n",
      "Epoch 5/30\n",
      "54546/54546 [==============================] - 4s 76us/step - loss: 0.0729 - acc: 0.9073 - val_loss: 0.0543 - val_acc: 0.9259\n",
      "Epoch 6/30\n",
      "54546/54546 [==============================] - 4s 72us/step - loss: 0.0657 - acc: 0.9160 - val_loss: 0.0486 - val_acc: 0.9356\n",
      "Epoch 7/30\n",
      "54546/54546 [==============================] - 4s 73us/step - loss: 0.0589 - acc: 0.9238 - val_loss: 0.0430 - val_acc: 0.9432\n",
      "Epoch 8/30\n",
      "54546/54546 [==============================] - 4s 72us/step - loss: 0.0542 - acc: 0.9293 - val_loss: 0.0461 - val_acc: 0.9410\n",
      "Epoch 9/30\n",
      "54546/54546 [==============================] - 4s 72us/step - loss: 0.0507 - acc: 0.9353 - val_loss: 0.0414 - val_acc: 0.9461\n",
      "Epoch 10/30\n",
      "54546/54546 [==============================] - 4s 72us/step - loss: 0.0471 - acc: 0.9391 - val_loss: 0.0422 - val_acc: 0.9450\n",
      "Epoch 11/30\n",
      "54546/54546 [==============================] - 4s 72us/step - loss: 0.0445 - acc: 0.9427 - val_loss: 0.0394 - val_acc: 0.9488\n",
      "Epoch 12/30\n",
      "54546/54546 [==============================] - 4s 72us/step - loss: 0.0427 - acc: 0.9451 - val_loss: 0.0346 - val_acc: 0.9543\n",
      "Epoch 13/30\n",
      "54546/54546 [==============================] - 4s 74us/step - loss: 0.0411 - acc: 0.9464 - val_loss: 0.0359 - val_acc: 0.9527\n",
      "Epoch 14/30\n",
      "54546/54546 [==============================] - 4s 73us/step - loss: 0.0382 - acc: 0.9506 - val_loss: 0.0342 - val_acc: 0.9529\n",
      "Epoch 15/30\n",
      "54546/54546 [==============================] - 4s 79us/step - loss: 0.0363 - acc: 0.9536 - val_loss: 0.0319 - val_acc: 0.9602\n",
      "Epoch 16/30\n",
      "54546/54546 [==============================] - 4s 78us/step - loss: 0.0356 - acc: 0.9545 - val_loss: 0.0324 - val_acc: 0.9580\n",
      "Epoch 17/30\n",
      "54546/54546 [==============================] - 4s 78us/step - loss: 0.0351 - acc: 0.9556 - val_loss: 0.0299 - val_acc: 0.9609\n",
      "Epoch 18/30\n",
      "54546/54546 [==============================] - 4s 78us/step - loss: 0.0337 - acc: 0.9564 - val_loss: 0.0285 - val_acc: 0.9619\n",
      "Epoch 19/30\n",
      "54546/54546 [==============================] - 4s 79us/step - loss: 0.0322 - acc: 0.9586 - val_loss: 0.0257 - val_acc: 0.9652\n",
      "Epoch 20/30\n",
      "54546/54546 [==============================] - 4s 79us/step - loss: 0.0314 - acc: 0.9599 - val_loss: 0.0261 - val_acc: 0.9648\n",
      "Epoch 21/30\n",
      "54546/54546 [==============================] - 4s 76us/step - loss: 0.0301 - acc: 0.9616 - val_loss: 0.0296 - val_acc: 0.9586\n",
      "Epoch 22/30\n",
      "54546/54546 [==============================] - 4s 72us/step - loss: 0.0304 - acc: 0.9614 - val_loss: 0.0290 - val_acc: 0.9613\n",
      "Epoch 23/30\n",
      "54546/54546 [==============================] - 4s 73us/step - loss: 0.0278 - acc: 0.9652 - val_loss: 0.0261 - val_acc: 0.9653\n",
      "Epoch 24/30\n",
      "54546/54546 [==============================] - 4s 74us/step - loss: 0.0277 - acc: 0.9651 - val_loss: 0.0273 - val_acc: 0.9646\n",
      "Epoch 25/30\n",
      "54546/54546 [==============================] - 4s 74us/step - loss: 0.0273 - acc: 0.9650 - val_loss: 0.0265 - val_acc: 0.9664\n",
      "Epoch 26/30\n",
      "54546/54546 [==============================] - 4s 74us/step - loss: 0.0268 - acc: 0.9657 - val_loss: 0.0294 - val_acc: 0.9622\n",
      "Epoch 27/30\n",
      "54546/54546 [==============================] - 4s 72us/step - loss: 0.0261 - acc: 0.9666 - val_loss: 0.0288 - val_acc: 0.9611\n",
      "Epoch 28/30\n",
      "54546/54546 [==============================] - 4s 72us/step - loss: 0.0266 - acc: 0.9663 - val_loss: 0.0247 - val_acc: 0.9663\n",
      "Epoch 29/30\n",
      "54546/54546 [==============================] - 5s 83us/step - loss: 0.0256 - acc: 0.9679 - val_loss: 0.0254 - val_acc: 0.9663\n",
      "Epoch 30/30\n",
      "54546/54546 [==============================] - 4s 81us/step - loss: 0.0247 - acc: 0.9687 - val_loss: 0.0265 - val_acc: 0.9650\n"
     ]
    }
   ],
   "source": [
    "\"\"\"six-CONV-LAYERS-THICK\"\"\"\n",
    "if not data_augmentation:\n",
    "    print('Not using data augmentation.')\n",
    "    train_history_5= model_5.fit(\n",
    "        x_train,\n",
    "        y_train,\n",
    "        batch_size=batch_size,\n",
    "        epochs=epochs,\n",
    "        validation_split= Vld_Splt,\n",
    "        shuffle=True)\n",
    "else:\n",
    "    print('Using real-time data augmentation.')\n",
    "    # This will do preprocessing and realtime data augmentation:\n",
    "    datagen = ImageDataGenerator(\n",
    "        featurewise_center=False,  # set input mean to 0 over the dataset\n",
    "        samplewise_center=False,  # set each sample mean to 0\n",
    "        featurewise_std_normalization=False,  # divide inputs by dataset std\n",
    "        samplewise_std_normalization=False,  # divide each input by its std\n",
    "        zca_whitening=False,  # apply ZCA whitening\n",
    "        zca_epsilon=1e-06,  # epsilon for ZCA whitening\n",
    "        rotation_range=0,  # randomly rotate images in 0 to 180 degrees\n",
    "        width_shift_range=0.1,  # randomly shift images horizontally\n",
    "        height_shift_range=0.1,  # randomly shift images vertically\n",
    "        shear_range=0.,  # set range for random shear\n",
    "        zoom_range=0.,  # set range for random zoom\n",
    "        channel_shift_range=0.,  # set range for random channel shifts\n",
    "        # set mode for filling points outside the input boundaries\n",
    "        fill_mode='nearest',\n",
    "        cval=0.,  # value used for fill_mode = \"constant\"\n",
    "        horizontal_flip=True,  # randomly flip images\n",
    "        vertical_flip=False,  # randomly flip images\n",
    "        # set rescaling factor (applied before any other transformation)\n",
    "        rescale=None,\n",
    "        # set function that will be applied on each input\n",
    "        preprocessing_function=None,\n",
    "        # image data format, either \"channels_first\" or \"channels_last\"\n",
    "        data_format=None,\n",
    "        # fraction of images reserved for validation (strictly between 0 and 1)\n",
    "        validation_split=0.0)\n",
    "\n",
    "    # Compute quantities required for feature-wise normalization\n",
    "    # (std, mean, and principal components if ZCA whitening is applied).\n",
    "    datagen.fit(x_train)\n",
    "\n",
    "    # Fit the model on the batches generated by datagen.flow().\n",
    "    train_history_5= model_5.fit_generator(\n",
    "        datagen.flow(x_train, y_train, batch_size=batch_size),\n",
    "        epochs= epochs,\n",
    "        validation_split= Vld_Splt,\n",
    "        steps_per_epoch= int(x_train.shape[0]/ batch_size),\n",
    "        workers=4)"
   ]
  },
  {
   "cell_type": "code",
   "execution_count": 49,
   "metadata": {},
   "outputs": [
    {
     "name": "stdout",
     "output_type": "stream",
     "text": [
      "Not using data augmentation.\n",
      "Train on 54546 samples, validate on 5454 samples\n",
      "Epoch 1/30\n",
      "54546/54546 [==============================] - 6s 115us/step - loss: 0.4223 - acc: 0.3724 - val_loss: 0.2295 - val_acc: 0.7079\n",
      "Epoch 2/30\n",
      "54546/54546 [==============================] - 5s 93us/step - loss: 0.1697 - acc: 0.7864 - val_loss: 0.0986 - val_acc: 0.8718\n",
      "Epoch 3/30\n",
      "54546/54546 [==============================] - 5s 99us/step - loss: 0.1108 - acc: 0.8615 - val_loss: 0.0790 - val_acc: 0.8993\n",
      "Epoch 4/30\n",
      "54546/54546 [==============================] - 6s 110us/step - loss: 0.0887 - acc: 0.8880 - val_loss: 0.0728 - val_acc: 0.9037\n",
      "Epoch 5/30\n",
      "54546/54546 [==============================] - 7s 136us/step - loss: 0.0739 - acc: 0.9067 - val_loss: 0.0545 - val_acc: 0.9274\n",
      "Epoch 6/30\n",
      "54546/54546 [==============================] - 6s 101us/step - loss: 0.0640 - acc: 0.9192 - val_loss: 0.0452 - val_acc: 0.9430\n",
      "Epoch 7/30\n",
      "54546/54546 [==============================] - 5s 86us/step - loss: 0.0576 - acc: 0.9271 - val_loss: 0.0450 - val_acc: 0.9404\n",
      "Epoch 8/30\n",
      "54546/54546 [==============================] - 4s 81us/step - loss: 0.0521 - acc: 0.9343 - val_loss: 0.0421 - val_acc: 0.9446\n",
      "Epoch 9/30\n",
      "54546/54546 [==============================] - 5s 99us/step - loss: 0.0509 - acc: 0.9344 - val_loss: 0.0373 - val_acc: 0.9536\n",
      "Epoch 10/30\n",
      "54546/54546 [==============================] - 6s 105us/step - loss: 0.0465 - acc: 0.9412 - val_loss: 0.0348 - val_acc: 0.9547\n",
      "Epoch 11/30\n",
      "54546/54546 [==============================] - 6s 103us/step - loss: 0.0431 - acc: 0.9447 - val_loss: 0.0348 - val_acc: 0.9547\n",
      "Epoch 12/30\n",
      "54546/54546 [==============================] - 5s 88us/step - loss: 0.0406 - acc: 0.9472 - val_loss: 0.0336 - val_acc: 0.9575\n",
      "Epoch 13/30\n",
      "54546/54546 [==============================] - 5s 95us/step - loss: 0.0387 - acc: 0.9504 - val_loss: 0.0303 - val_acc: 0.9606\n",
      "Epoch 14/30\n",
      "54546/54546 [==============================] - 5s 88us/step - loss: 0.0364 - acc: 0.9540 - val_loss: 0.0284 - val_acc: 0.9626\n",
      "Epoch 15/30\n",
      "54546/54546 [==============================] - 5s 87us/step - loss: 0.0350 - acc: 0.9549 - val_loss: 0.0282 - val_acc: 0.9644\n",
      "Epoch 16/30\n",
      "54546/54546 [==============================] - 5s 92us/step - loss: 0.0348 - acc: 0.9557 - val_loss: 0.0313 - val_acc: 0.9602\n",
      "Epoch 17/30\n",
      "54546/54546 [==============================] - 5s 86us/step - loss: 0.0331 - acc: 0.9579 - val_loss: 0.0300 - val_acc: 0.9598\n",
      "Epoch 18/30\n",
      "54546/54546 [==============================] - 5s 88us/step - loss: 0.0324 - acc: 0.9591 - val_loss: 0.0252 - val_acc: 0.9659\n",
      "Epoch 19/30\n",
      "54546/54546 [==============================] - 5s 96us/step - loss: 0.0305 - acc: 0.9615 - val_loss: 0.0271 - val_acc: 0.9659\n",
      "Epoch 20/30\n",
      "54546/54546 [==============================] - 5s 89us/step - loss: 0.0289 - acc: 0.9633 - val_loss: 0.0236 - val_acc: 0.9688\n",
      "Epoch 21/30\n",
      "54546/54546 [==============================] - 5s 86us/step - loss: 0.0283 - acc: 0.9644 - val_loss: 0.0252 - val_acc: 0.9670\n",
      "Epoch 22/30\n",
      "54546/54546 [==============================] - 5s 89us/step - loss: 0.0280 - acc: 0.9642 - val_loss: 0.0243 - val_acc: 0.9683\n",
      "Epoch 23/30\n",
      "54546/54546 [==============================] - 5s 88us/step - loss: 0.0267 - acc: 0.9663 - val_loss: 0.0254 - val_acc: 0.9692\n",
      "Epoch 24/30\n",
      "54546/54546 [==============================] - 5s 87us/step - loss: 0.0277 - acc: 0.9644 - val_loss: 0.0237 - val_acc: 0.9703\n",
      "Epoch 25/30\n",
      "54546/54546 [==============================] - 5s 88us/step - loss: 0.0263 - acc: 0.9669 - val_loss: 0.0212 - val_acc: 0.9725\n",
      "Epoch 26/30\n",
      "54546/54546 [==============================] - 4s 82us/step - loss: 0.0246 - acc: 0.9688 - val_loss: 0.0220 - val_acc: 0.9701\n",
      "Epoch 27/30\n",
      "54546/54546 [==============================] - 11s 196us/step - loss: 0.0249 - acc: 0.9687 - val_loss: 0.0212 - val_acc: 0.9738\n",
      "Epoch 28/30\n",
      "54546/54546 [==============================] - 5s 88us/step - loss: 0.0242 - acc: 0.9699 - val_loss: 0.0223 - val_acc: 0.9710\n",
      "Epoch 29/30\n",
      "54546/54546 [==============================] - 5s 87us/step - loss: 0.0240 - acc: 0.9700 - val_loss: 0.0234 - val_acc: 0.9707\n",
      "Epoch 30/30\n",
      "54546/54546 [==============================] - 5s 89us/step - loss: 0.0228 - acc: 0.9711 - val_loss: 0.0208 - val_acc: 0.9738\n"
     ]
    }
   ],
   "source": [
    "\"\"\"seven-CONV-LAYERS-THICK\"\"\"\n",
    "if not data_augmentation:\n",
    "    print('Not using data augmentation.')\n",
    "    train_history_6= model_6.fit(\n",
    "        x_train,\n",
    "        y_train,\n",
    "        batch_size=batch_size,\n",
    "        epochs=epochs,\n",
    "        validation_split= Vld_Splt,\n",
    "        shuffle=True)\n",
    "else:\n",
    "    print('Using real-time data augmentation.')\n",
    "    # This will do preprocessing and realtime data augmentation:\n",
    "    datagen = ImageDataGenerator(\n",
    "        featurewise_center=False,  # set input mean to 0 over the dataset\n",
    "        samplewise_center=False,  # set each sample mean to 0\n",
    "        featurewise_std_normalization=False,  # divide inputs by dataset std\n",
    "        samplewise_std_normalization=False,  # divide each input by its std\n",
    "        zca_whitening=False,  # apply ZCA whitening\n",
    "        zca_epsilon=1e-06,  # epsilon for ZCA whitening\n",
    "        rotation_range=0,  # randomly rotate images in 0 to 180 degrees\n",
    "        width_shift_range=0.1,  # randomly shift images horizontally\n",
    "        height_shift_range=0.1,  # randomly shift images vertically\n",
    "        shear_range=0.,  # set range for random shear\n",
    "        zoom_range=0.,  # set range for random zoom\n",
    "        channel_shift_range=0.,  # set range for random channel shifts\n",
    "        # set mode for filling points outside the input boundaries\n",
    "        fill_mode='nearest',\n",
    "        cval=0.,  # value used for fill_mode = \"constant\"\n",
    "        horizontal_flip=True,  # randomly flip images\n",
    "        vertical_flip=False,  # randomly flip images\n",
    "        # set rescaling factor (applied before any other transformation)\n",
    "        rescale=None,\n",
    "        # set function that will be applied on each input\n",
    "        preprocessing_function=None,\n",
    "        # image data format, either \"channels_first\" or \"channels_last\"\n",
    "        data_format=None,\n",
    "        # fraction of images reserved for validation (strictly between 0 and 1)\n",
    "        validation_split=0.0)\n",
    "\n",
    "    # Compute quantities required for feature-wise normalization\n",
    "    # (std, mean, and principal components if ZCA whitening is applied).\n",
    "    datagen.fit(x_train)\n",
    "\n",
    "    # Fit the model on the batches generated by datagen.flow().\n",
    "    train_history_6= model_6.fit_generator(\n",
    "        datagen.flow(x_train, y_train, batch_size=batch_size),\n",
    "        epochs= epochs,\n",
    "        validation_split= Vld_Splt,\n",
    "        steps_per_epoch= int(x_train.shape[0]/ batch_size),\n",
    "        workers=4)"
   ]
  },
  {
   "cell_type": "code",
   "execution_count": 50,
   "metadata": {},
   "outputs": [
    {
     "name": "stdout",
     "output_type": "stream",
     "text": [
      "Train on 54546 samples, validate on 5454 samples\n",
      "Epoch 1/30\n",
      "54546/54546 [==============================] - 4s 68us/step - loss: 0.2020 - acc: 0.9305 - val_loss: 0.1516 - val_acc: 0.9545\n",
      "Epoch 2/30\n",
      "54546/54546 [==============================] - 2s 37us/step - loss: 0.1987 - acc: 0.9323 - val_loss: 0.1520 - val_acc: 0.9540\n",
      "Epoch 3/30\n",
      "54546/54546 [==============================] - 2s 36us/step - loss: 0.1992 - acc: 0.9322 - val_loss: 0.1479 - val_acc: 0.9554\n",
      "Epoch 4/30\n",
      "54546/54546 [==============================] - 2s 36us/step - loss: 0.1909 - acc: 0.9341 - val_loss: 0.1477 - val_acc: 0.9556\n",
      "Epoch 5/30\n",
      "54546/54546 [==============================] - 2s 36us/step - loss: 0.1914 - acc: 0.9345 - val_loss: 0.1444 - val_acc: 0.9540\n",
      "Epoch 6/30\n",
      "54546/54546 [==============================] - 2s 37us/step - loss: 0.1846 - acc: 0.9361 - val_loss: 0.1489 - val_acc: 0.9534\n",
      "Epoch 7/30\n",
      "54546/54546 [==============================] - 2s 34us/step - loss: 0.1867 - acc: 0.9355 - val_loss: 0.1478 - val_acc: 0.9542\n",
      "Epoch 8/30\n",
      "54546/54546 [==============================] - 2s 34us/step - loss: 0.1840 - acc: 0.9372 - val_loss: 0.1486 - val_acc: 0.9531\n",
      "Epoch 9/30\n",
      "54546/54546 [==============================] - 2s 34us/step - loss: 0.1823 - acc: 0.9380 - val_loss: 0.1441 - val_acc: 0.9558\n",
      "Epoch 10/30\n",
      "54546/54546 [==============================] - 2s 34us/step - loss: 0.1774 - acc: 0.9394 - val_loss: 0.1370 - val_acc: 0.9565\n",
      "Epoch 11/30\n",
      "54546/54546 [==============================] - 2s 36us/step - loss: 0.1785 - acc: 0.9381 - val_loss: 0.1496 - val_acc: 0.9525\n",
      "Epoch 12/30\n",
      "54546/54546 [==============================] - 2s 42us/step - loss: 0.1739 - acc: 0.9406 - val_loss: 0.1393 - val_acc: 0.9564\n",
      "Epoch 13/30\n",
      "54546/54546 [==============================] - 2s 35us/step - loss: 0.1758 - acc: 0.9392 - val_loss: 0.1401 - val_acc: 0.9571\n",
      "Epoch 14/30\n",
      "54546/54546 [==============================] - 2s 41us/step - loss: 0.1702 - acc: 0.9422 - val_loss: 0.1416 - val_acc: 0.9545\n",
      "Epoch 15/30\n",
      "54546/54546 [==============================] - 2s 44us/step - loss: 0.1693 - acc: 0.9413 - val_loss: 0.1382 - val_acc: 0.9575\n",
      "Epoch 16/30\n",
      "54546/54546 [==============================] - 2s 39us/step - loss: 0.1695 - acc: 0.9420 - val_loss: 0.1323 - val_acc: 0.9600\n",
      "Epoch 17/30\n",
      "54546/54546 [==============================] - 2s 33us/step - loss: 0.1671 - acc: 0.9419 - val_loss: 0.1420 - val_acc: 0.9542\n",
      "Epoch 18/30\n",
      "54546/54546 [==============================] - 2s 32us/step - loss: 0.1657 - acc: 0.9430 - val_loss: 0.1371 - val_acc: 0.9576\n",
      "Epoch 19/30\n",
      "54546/54546 [==============================] - 2s 33us/step - loss: 0.1621 - acc: 0.9440 - val_loss: 0.1344 - val_acc: 0.9586\n",
      "Epoch 20/30\n",
      "54546/54546 [==============================] - 2s 33us/step - loss: 0.1593 - acc: 0.9439 - val_loss: 0.1344 - val_acc: 0.9578\n",
      "Epoch 21/30\n",
      "54546/54546 [==============================] - 2s 33us/step - loss: 0.1611 - acc: 0.9448 - val_loss: 0.1338 - val_acc: 0.9567\n",
      "Epoch 22/30\n",
      "54546/54546 [==============================] - 2s 34us/step - loss: 0.1567 - acc: 0.9452 - val_loss: 0.1267 - val_acc: 0.9595\n",
      "Epoch 23/30\n",
      "54546/54546 [==============================] - 2s 42us/step - loss: 0.1579 - acc: 0.9444 - val_loss: 0.1308 - val_acc: 0.9587\n",
      "Epoch 24/30\n",
      "54546/54546 [==============================] - 2s 39us/step - loss: 0.1559 - acc: 0.9456 - val_loss: 0.1278 - val_acc: 0.9586\n",
      "Epoch 25/30\n",
      "54546/54546 [==============================] - 2s 40us/step - loss: 0.1543 - acc: 0.9470 - val_loss: 0.1316 - val_acc: 0.9573\n",
      "Epoch 26/30\n",
      "54546/54546 [==============================] - 2s 42us/step - loss: 0.1556 - acc: 0.9448 - val_loss: 0.1384 - val_acc: 0.9551\n",
      "Epoch 27/30\n",
      "54546/54546 [==============================] - 2s 35us/step - loss: 0.1562 - acc: 0.9458 - val_loss: 0.1300 - val_acc: 0.9565\n",
      "Epoch 28/30\n",
      "54546/54546 [==============================] - 2s 35us/step - loss: 0.1545 - acc: 0.9467 - val_loss: 0.1246 - val_acc: 0.9589\n",
      "Epoch 29/30\n",
      "54546/54546 [==============================] - 2s 36us/step - loss: 0.1531 - acc: 0.9476 - val_loss: 0.1307 - val_acc: 0.9587\n",
      "Epoch 30/30\n",
      "54546/54546 [==============================] - 2s 36us/step - loss: 0.1495 - acc: 0.9476 - val_loss: 0.1237 - val_acc: 0.9602\n"
     ]
    }
   ],
   "source": [
    "\"\"\"CNN-3-CONV-LAYERS\"\"\"\n",
    "model_7.compile(loss='categorical_crossentropy',\n",
    "              optimizer='adam', metrics=['accuracy'])\n",
    "train_history_7= model_7.fit(x= x_train, y= y_train, validation_split= Vld_Splt,\n",
    "                         epochs= epochs, batch_size= batch_size, verbose=1)"
   ]
  },
  {
   "cell_type": "code",
   "execution_count": 91,
   "metadata": {},
   "outputs": [
    {
     "name": "stdout",
     "output_type": "stream",
     "text": [
      "10000/10000 [==============================] - 1s 130us/step\n"
     ]
    },
    {
     "data": {
      "text/plain": [
       "0.8597"
      ]
     },
     "execution_count": 91,
     "metadata": {},
     "output_type": "execute_result"
    }
   ],
   "source": [
    "\"\"\"one-CONV-LAYERS-THICK\"\"\"\n",
    "scores_0= model_0.evaluate(x_test, y_test)\n",
    "scores_0[1]"
   ]
  },
  {
   "cell_type": "code",
   "execution_count": 92,
   "metadata": {},
   "outputs": [
    {
     "name": "stdout",
     "output_type": "stream",
     "text": [
      "10000/10000 [==============================] - 1s 98us/step\n"
     ]
    },
    {
     "data": {
      "text/plain": [
       "0.9245"
      ]
     },
     "execution_count": 92,
     "metadata": {},
     "output_type": "execute_result"
    }
   ],
   "source": [
    "\"\"\"two-CONV-LAYERS-THICK\"\"\"\n",
    "scores_1= model_1.evaluate(x_test, y_test)\n",
    "scores_1[1]"
   ]
  },
  {
   "cell_type": "code",
   "execution_count": 93,
   "metadata": {},
   "outputs": [
    {
     "name": "stdout",
     "output_type": "stream",
     "text": [
      "10000/10000 [==============================] - 1s 89us/step\n"
     ]
    },
    {
     "data": {
      "text/plain": [
       "0.9562"
      ]
     },
     "execution_count": 93,
     "metadata": {},
     "output_type": "execute_result"
    }
   ],
   "source": [
    "\"\"\"three-CONV-LAYERS-THICK\"\"\"\n",
    "scores_2= model_2.evaluate(x_test, y_test)\n",
    "scores_2[1]"
   ]
  },
  {
   "cell_type": "code",
   "execution_count": 94,
   "metadata": {},
   "outputs": [
    {
     "name": "stdout",
     "output_type": "stream",
     "text": [
      "10000/10000 [==============================] - 1s 86us/step\n"
     ]
    },
    {
     "data": {
      "text/plain": [
       "0.9652"
      ]
     },
     "execution_count": 94,
     "metadata": {},
     "output_type": "execute_result"
    }
   ],
   "source": [
    "\"\"\"four-CONV-LAYERS-THICK\"\"\"\n",
    "scores_3= model_3.evaluate(x_test, y_test)\n",
    "scores_3[1]"
   ]
  },
  {
   "cell_type": "code",
   "execution_count": 95,
   "metadata": {},
   "outputs": [
    {
     "name": "stdout",
     "output_type": "stream",
     "text": [
      "10000/10000 [==============================] - 1s 92us/step\n"
     ]
    },
    {
     "data": {
      "text/plain": [
       "0.9656"
      ]
     },
     "execution_count": 95,
     "metadata": {},
     "output_type": "execute_result"
    }
   ],
   "source": [
    "\"\"\"five-CONV-LAYERS-THICK\"\"\"\n",
    "scores_4= model_4.evaluate(x_test, y_test)\n",
    "scores_4[1]"
   ]
  },
  {
   "cell_type": "code",
   "execution_count": 96,
   "metadata": {},
   "outputs": [
    {
     "name": "stdout",
     "output_type": "stream",
     "text": [
      "10000/10000 [==============================] - 1s 85us/step\n"
     ]
    },
    {
     "data": {
      "text/plain": [
       "0.9639"
      ]
     },
     "execution_count": 96,
     "metadata": {},
     "output_type": "execute_result"
    }
   ],
   "source": [
    "\"\"\"six-CONV-LAYERS-THICK\"\"\"\n",
    "scores_5= model_5.evaluate(x_test, y_test)\n",
    "scores_5[1]"
   ]
  },
  {
   "cell_type": "code",
   "execution_count": 97,
   "metadata": {},
   "outputs": [
    {
     "name": "stdout",
     "output_type": "stream",
     "text": [
      "10000/10000 [==============================] - 1s 91us/step\n"
     ]
    },
    {
     "data": {
      "text/plain": [
       "0.9713"
      ]
     },
     "execution_count": 97,
     "metadata": {},
     "output_type": "execute_result"
    }
   ],
   "source": [
    "\"\"\"seven-CONV-LAYERS-THICK\"\"\"\n",
    "scores_6= model_6.evaluate(x_test, y_test)\n",
    "scores_6[1]"
   ]
  },
  {
   "cell_type": "code",
   "execution_count": 98,
   "metadata": {},
   "outputs": [
    {
     "name": "stdout",
     "output_type": "stream",
     "text": [
      "10000/10000 [==============================] - 1s 68us/step\n"
     ]
    },
    {
     "data": {
      "text/plain": [
       "0.9537"
      ]
     },
     "execution_count": 98,
     "metadata": {},
     "output_type": "execute_result"
    }
   ],
   "source": [
    "\"\"\"CNN\"\"\"\n",
    "scores_7= model_7.evaluate(x_test, y_test)\n",
    "scores_7[1]"
   ]
  },
  {
   "cell_type": "code",
   "execution_count": 99,
   "metadata": {},
   "outputs": [],
   "source": [
    "import matplotlib.pyplot as plt\n",
    "def show_train_history(train_history, train, validation):\n",
    "    plt.plot(train_history.history[train])\n",
    "    plt.plot(train_history.history[validation])\n",
    "    plt.title('Train History')\n",
    "    plt.ylabel(train)\n",
    "    plt.xlabel('Epoch')\n",
    "    plt.legend(['train', 'validation'], loc='best')\n",
    "    plt.show()"
   ]
  },
  {
   "cell_type": "code",
   "execution_count": 100,
   "metadata": {},
   "outputs": [
    {
     "data": {
      "image/png": "[encoded data removed]",
      "text/plain": [
       "<Figure size 432x288 with 1 Axes>"
      ]
     },
     "metadata": {
      "needs_background": "light"
     },
     "output_type": "display_data"
    }
   ],
   "source": [
    "show_train_history(train_history_0, 'acc', 'val_acc')"
   ]
  },
  {
   "cell_type": "code",
   "execution_count": 101,
   "metadata": {},
   "outputs": [
    {
     "data": {
      "image/png": "[encoded data removed]",
      "text/plain": [
       "<Figure size 432x288 with 1 Axes>"
      ]
     },
     "metadata": {
      "needs_background": "light"
     },
     "output_type": "display_data"
    }
   ],
   "source": [
    "show_train_history(train_history_1, 'acc', 'val_acc')"
   ]
  },
  {
   "cell_type": "code",
   "execution_count": 102,
   "metadata": {},
   "outputs": [
    {
     "data": {
      "image/png": "[encoded data removed]",
      "text/plain": [
       "<Figure size 432x288 with 1 Axes>"
      ]
     },
     "metadata": {
      "needs_background": "light"
     },
     "output_type": "display_data"
    }
   ],
   "source": [
    "show_train_history(train_history_2, 'acc', 'val_acc')"
   ]
  },
  {
   "cell_type": "code",
   "execution_count": 103,
   "metadata": {},
   "outputs": [
    {
     "data": {
      "image/png": "[encoded data removed]",
      "text/plain": [
       "<Figure size 432x288 with 1 Axes>"
      ]
     },
     "metadata": {
      "needs_background": "light"
     },
     "output_type": "display_data"
    }
   ],
   "source": [
    "show_train_history(train_history_3, 'acc', 'val_acc')"
   ]
  },
  {
   "cell_type": "code",
   "execution_count": 104,
   "metadata": {},
   "outputs": [
    {
     "data": {
      "image/png": "[encoded data removed]",
      "text/plain": [
       "<Figure size 432x288 with 1 Axes>"
      ]
     },
     "metadata": {
      "needs_background": "light"
     },
     "output_type": "display_data"
    }
   ],
   "source": [
    "show_train_history(train_history_4, 'acc', 'val_acc')"
   ]
  },
  {
   "cell_type": "code",
   "execution_count": 105,
   "metadata": {},
   "outputs": [
    {
     "data": {
      "image/png": "[encoded data removed]",
      "text/plain": [
       "<Figure size 432x288 with 1 Axes>"
      ]
     },
     "metadata": {
      "needs_background": "light"
     },
     "output_type": "display_data"
    }
   ],
   "source": [
    "show_train_history(train_history_5, 'acc', 'val_acc')"
   ]
  },
  {
   "cell_type": "code",
   "execution_count": 106,
   "metadata": {},
   "outputs": [
    {
     "data": {
      "image/png": "[encoded data removed]",
      "text/plain": [
       "<Figure size 432x288 with 1 Axes>"
      ]
     },
     "metadata": {
      "needs_background": "light"
     },
     "output_type": "display_data"
    }
   ],
   "source": [
    "show_train_history(train_history_6, 'acc', 'val_acc')"
   ]
  },
  {
   "cell_type": "code",
   "execution_count": 107,
   "metadata": {},
   "outputs": [
    {
     "data": {
      "image/png": "[encoded data removed]",
      "text/plain": [
       "<Figure size 432x288 with 1 Axes>"
      ]
     },
     "metadata": {
      "needs_background": "light"
     },
     "output_type": "display_data"
    }
   ],
   "source": [
    "show_train_history(train_history_7, 'acc', 'val_acc')"
   ]
  },
  {
   "cell_type": "code",
   "execution_count": 108,
   "metadata": {},
   "outputs": [
    {
     "data": {
      "image/png": "[encoded data removed]",
      "text/plain": [
       "<Figure size 432x288 with 1 Axes>"
      ]
     },
     "metadata": {
      "needs_background": "light"
     },
     "output_type": "display_data"
    }
   ],
   "source": [
    "plt.plot(train_history_0.history['val_acc'], 'r-')\n",
    "plt.plot(train_history_1.history['val_acc'], 'b--')\n",
    "plt.plot(train_history_2.history['val_acc'], 'k.')\n",
    "plt.plot(train_history_3.history['val_acc'], 'b-')\n",
    "plt.plot(train_history_4.history['val_acc'], 'h-')\n",
    "plt.plot(train_history_5.history['val_acc'], 'c-')\n",
    "plt.plot(train_history_6.history['val_acc'], 'g*-')\n",
    "plt.plot(train_history_7.history['val_acc'], 'k-.')\n",
    "plt.title('Training on fasion_MNIST')\n",
    "plt.ylabel('Validation Accuracy')\n",
    "plt.xlabel('Epoch')\n",
    "plt.legend(['CapsNet: 1-conv','CapsNet: 2-conv','CapsNet: 3-conv','CapsNet: 4-conv','CapsNet: 5-conv','CapsNet: 6-conv',\n",
    "           'CapsNet: 7-conv','CNN-2CONV'], loc='best')\n",
    "plt.show()"
   ]
  },
  {
   "cell_type": "code",
   "execution_count": null,
   "metadata": {},
   "outputs": [],
   "source": []
  },
  {
   "cell_type": "code",
   "execution_count": null,
   "metadata": {},
   "outputs": [],
   "source": []
  }
 ],
 "metadata": {
  "kernelspec": {
   "display_name": "Python 3",
   "language": "python",
   "name": "python3"
  },
  "language_info": {
   "codemirror_mode": {
    "name": "ipython",
    "version": 3
   },
   "file_extension": ".py",
   "mimetype": "text/x-python",
   "name": "python",
   "nbconvert_exporter": "python",
   "pygments_lexer": "ipython3",
   "version": "3.6.10"
  }
 },
 "nbformat": 4,
 "nbformat_minor": 2
}
