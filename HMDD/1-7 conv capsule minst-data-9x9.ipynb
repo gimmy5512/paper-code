{
 "cells": [
  {
   "cell_type": "code",
   "execution_count": 1,
   "metadata": {},
   "outputs": [],
   "source": [
    "import os\n"
   ]
  },
  {
   "cell_type": "code",
   "execution_count": 2,
   "metadata": {},
   "outputs": [
    {
     "name": "stderr",
     "output_type": "stream",
     "text": [
      "Using TensorFlow backend.\n",
      "C:\\Users\\ASUS\\Anaconda3\\envs\\tensorflow-gpu\\lib\\site-packages\\tensorflow\\python\\framework\\dtypes.py:526: FutureWarning: Passing (type, 1) or '1type' as a synonym of type is deprecated; in a future version of numpy, it will be understood as (type, (1,)) / '(1,)type'.\n",
      "  _np_qint8 = np.dtype([(\"qint8\", np.int8, 1)])\n",
      "C:\\Users\\ASUS\\Anaconda3\\envs\\tensorflow-gpu\\lib\\site-packages\\tensorflow\\python\\framework\\dtypes.py:527: FutureWarning: Passing (type, 1) or '1type' as a synonym of type is deprecated; in a future version of numpy, it will be understood as (type, (1,)) / '(1,)type'.\n",
      "  _np_quint8 = np.dtype([(\"quint8\", np.uint8, 1)])\n",
      "C:\\Users\\ASUS\\Anaconda3\\envs\\tensorflow-gpu\\lib\\site-packages\\tensorflow\\python\\framework\\dtypes.py:528: FutureWarning: Passing (type, 1) or '1type' as a synonym of type is deprecated; in a future version of numpy, it will be understood as (type, (1,)) / '(1,)type'.\n",
      "  _np_qint16 = np.dtype([(\"qint16\", np.int16, 1)])\n",
      "C:\\Users\\ASUS\\Anaconda3\\envs\\tensorflow-gpu\\lib\\site-packages\\tensorflow\\python\\framework\\dtypes.py:529: FutureWarning: Passing (type, 1) or '1type' as a synonym of type is deprecated; in a future version of numpy, it will be understood as (type, (1,)) / '(1,)type'.\n",
      "  _np_quint16 = np.dtype([(\"quint16\", np.uint16, 1)])\n",
      "C:\\Users\\ASUS\\Anaconda3\\envs\\tensorflow-gpu\\lib\\site-packages\\tensorflow\\python\\framework\\dtypes.py:530: FutureWarning: Passing (type, 1) or '1type' as a synonym of type is deprecated; in a future version of numpy, it will be understood as (type, (1,)) / '(1,)type'.\n",
      "  _np_qint32 = np.dtype([(\"qint32\", np.int32, 1)])\n",
      "C:\\Users\\ASUS\\Anaconda3\\envs\\tensorflow-gpu\\lib\\site-packages\\tensorflow\\python\\framework\\dtypes.py:535: FutureWarning: Passing (type, 1) or '1type' as a synonym of type is deprecated; in a future version of numpy, it will be understood as (type, (1,)) / '(1,)type'.\n",
      "  np_resource = np.dtype([(\"resource\", np.ubyte, 1)])\n"
     ]
    }
   ],
   "source": [
    "from __future__ import print_function\n",
    "from keras import backend as K\n",
    "from keras.layers import Layer\n",
    "from keras import activations\n",
    "from keras import utils\n",
    "from keras.datasets import fashion_mnist\n",
    "from keras.datasets import mnist\n",
    "from keras.models import Model\n",
    "from keras.layers import *\n",
    "from keras.preprocessing.image import ImageDataGenerator\n",
    "import cv2"
   ]
  },
  {
   "cell_type": "code",
   "execution_count": 3,
   "metadata": {},
   "outputs": [],
   "source": [
    "from tensorflow.compat.v1 import ConfigProto\n",
    "from tensorflow.compat.v1 import InteractiveSession\n",
    "\n",
    "config = ConfigProto()\n",
    "config.gpu_options.allow_growth = True\n",
    "session = InteractiveSession(config=config)"
   ]
  },
  {
   "cell_type": "code",
   "execution_count": 4,
   "metadata": {},
   "outputs": [],
   "source": [
    "Vld_Splt= 0.0909\n",
    "batch_size = 200\n",
    "num_classes = 10\n",
    "epochs = 30"
   ]
  },
  {
   "cell_type": "code",
   "execution_count": 5,
   "metadata": {},
   "outputs": [],
   "source": [
    "from keras.utils import np_utils\n",
    "\n",
    "'''LOAD DATA'''\n",
    "Dir= 'C:/pythonwork/MHDD/'\n",
    "x_train= np.load(Dir+'HMDD_Train_X.npy')\n",
    "y_train=np.load(Dir+'HMDD_Train_Y.npy')\n",
    "x_test=np.load(Dir+'HMDD_Test_X.npy')\n",
    "y_test=np.load(Dir+'HMDD_Test_Y.npy')\n",
    "\n",
    "'''PRE-PROCESSING'''\n",
    "x_train = x_train.reshape(-1, 28, 28, 1).astype('float32') / 255.\n",
    "x_test = x_test.reshape(-1, 28, 28, 1).astype('float32') / 255.\n",
    "# n_Vld= int(np.floor(Vld_Splt* x_train.shape[0]))  # Num. of validation data"
   ]
  },
  {
   "cell_type": "code",
   "execution_count": 6,
   "metadata": {},
   "outputs": [
    {
     "name": "stdout",
     "output_type": "stream",
     "text": [
      " (60000, 28, 28, 1) \n",
      " (60000, 10) \n",
      " (10000, 28, 28, 1) \n",
      " (10000, 10) \n",
      "\n"
     ]
    }
   ],
   "source": [
    "print('', x_train.shape,'\\n',y_train.shape,'\\n',x_test.shape,'\\n',y_test.shape,'\\n')"
   ]
  },
  {
   "cell_type": "code",
   "execution_count": 7,
   "metadata": {},
   "outputs": [],
   "source": [
    "# the squashing function.\n",
    "# we use 0.5 in stead of 1 in hinton's paper.\n",
    "# if 1, the norm of vector will be zoomed out.\n",
    "# if 0.5, the norm will be zoomed in while original norm is less than 0.5\n",
    "# and be zoomed out while original norm is greater than 0.5.\n",
    "def squash(x, axis=-1):\n",
    "    s_squared_norm = K.sum(K.square(x), axis, keepdims=True) + K.epsilon()\n",
    "    scale = K.sqrt(s_squared_norm) / (0.5 + s_squared_norm)\n",
    "    return scale * x\n",
    "\n",
    "\n",
    "# define our own softmax function instead of K.softmax\n",
    "# because K.softmax can not specify axis.\n",
    "def softmax(x, axis=-1):\n",
    "    ex = K.exp(x - K.max(x, axis=axis, keepdims=True))\n",
    "    return ex / K.sum(ex, axis=axis, keepdims=True)\n",
    "\n",
    "\n",
    "# define the margin loss like hinge loss\n",
    "def margin_loss(y_true, y_pred):\n",
    "    lamb, margin = 0.5, 0.1\n",
    "    return K.sum(y_true * K.square(K.relu(1 - margin - y_pred)) + lamb * (\n",
    "        1 - y_true) * K.square(K.relu(y_pred - margin)), axis=-1)\n",
    "\n",
    "\n",
    "class Capsule(Layer):\n",
    "    \"\"\"A Capsule Implement with Pure Keras\n",
    "    There are two vesions of Capsule.\n",
    "    One is like dense layer (for the fixed-shape input),\n",
    "    and the other is like timedistributed dense (for various length input).\n",
    "\n",
    "    The input shape of Capsule must be (batch_size,\n",
    "                                        input_num_capsule,\n",
    "                                        input_dim_capsule\n",
    "                                       )\n",
    "    and the output shape is (batch_size,\n",
    "                             num_capsule,\n",
    "                             dim_capsule\n",
    "                            )\n",
    "\n",
    "    Capsule Implement is from https://github.com/bojone/Capsule/\n",
    "    Capsule Paper: https://arxiv.org/abs/1710.09829\n",
    "    \"\"\"\n",
    "\n",
    "    def __init__(self,\n",
    "                 num_capsule,\n",
    "                 dim_capsule,\n",
    "                 routings=3,\n",
    "                 share_weights=True,\n",
    "                 activation='squash',\n",
    "                 **kwargs):\n",
    "        super(Capsule, self).__init__(**kwargs)\n",
    "        self.num_capsule = num_capsule\n",
    "        self.dim_capsule = dim_capsule\n",
    "        self.routings = routings\n",
    "        self.share_weights = share_weights\n",
    "        if activation == 'squash':\n",
    "            self.activation = squash\n",
    "        else:\n",
    "            self.activation = activations.get(activation)\n",
    "\n",
    "    def build(self, input_shape):\n",
    "        input_dim_capsule = input_shape[-1]\n",
    "        if self.share_weights:\n",
    "            self.kernel = self.add_weight(\n",
    "                name='capsule_kernel',\n",
    "                shape=(1, input_dim_capsule,\n",
    "                       self.num_capsule * self.dim_capsule),\n",
    "                initializer='glorot_uniform',\n",
    "                trainable=True)\n",
    "        else:\n",
    "            input_num_capsule = input_shape[-2]\n",
    "            self.kernel = self.add_weight(\n",
    "                name='capsule_kernel',\n",
    "                shape=(input_num_capsule, input_dim_capsule,\n",
    "                       self.num_capsule * self.dim_capsule),\n",
    "                initializer='glorot_uniform',\n",
    "                trainable=True)\n",
    "\n",
    "    def call(self, inputs):\n",
    "        \"\"\"Following the routing algorithm from Hinton's paper,\n",
    "        but replace b = b + <u,v> with b = <u,v>.\n",
    "\n",
    "        This change can improve the feature representation of Capsule.\n",
    "\n",
    "        However, you can replace\n",
    "            b = K.batch_dot(outputs, hat_inputs, [2, 3])\n",
    "        with\n",
    "            b += K.batch_dot(outputs, hat_inputs, [2, 3])\n",
    "        to realize a standard routing.\n",
    "        \"\"\"\n",
    "\n",
    "        if self.share_weights:\n",
    "            hat_inputs = K.conv1d(inputs, self.kernel)\n",
    "        else:\n",
    "            hat_inputs = K.local_conv1d(inputs, self.kernel, [1], [1])\n",
    "\n",
    "        batch_size = K.shape(inputs)[0]\n",
    "        input_num_capsule = K.shape(inputs)[1]\n",
    "        hat_inputs = K.reshape(hat_inputs,\n",
    "                               (batch_size, input_num_capsule,\n",
    "                                self.num_capsule, self.dim_capsule))\n",
    "        hat_inputs = K.permute_dimensions(hat_inputs, (0, 2, 1, 3))\n",
    "\n",
    "        b = K.zeros_like(hat_inputs[:, :, :, 0])\n",
    "        for i in range(self.routings):\n",
    "            c = softmax(b, 1)\n",
    "            o = self.activation(K.batch_dot(c, hat_inputs, [2, 2]))\n",
    "            if i < self.routings - 1:\n",
    "                b = K.batch_dot(o, hat_inputs, [2, 3])\n",
    "                if K.backend() == 'theano':\n",
    "                    o = K.sum(o, axis=1)\n",
    "\n",
    "        return o\n",
    "\n",
    "    def compute_output_shape(self, input_shape):\n",
    "        return (None, self.num_capsule, self.dim_capsule)"
   ]
  },
  {
   "cell_type": "code",
   "execution_count": 8,
   "metadata": {},
   "outputs": [
    {
     "name": "stdout",
     "output_type": "stream",
     "text": [
      "WARNING:tensorflow:From C:\\Users\\ASUS\\Anaconda3\\envs\\tensorflow-gpu\\lib\\site-packages\\tensorflow\\python\\framework\\op_def_library.py:263: colocate_with (from tensorflow.python.framework.ops) is deprecated and will be removed in a future version.\n",
      "Instructions for updating:\n",
      "Colocations handled automatically by placer.\n",
      "WARNING:tensorflow:From C:\\Users\\ASUS\\Anaconda3\\envs\\tensorflow-gpu\\lib\\site-packages\\keras\\backend\\tensorflow_backend.py:3445: calling dropout (from tensorflow.python.ops.nn_ops) with keep_prob is deprecated and will be removed in a future version.\n",
      "Instructions for updating:\n",
      "Please use `rate` instead of `keep_prob`. Rate should be set to `rate = 1 - keep_prob`.\n",
      "_________________________________________________________________\n",
      "Layer (type)                 Output Shape              Param #   \n",
      "=================================================================\n",
      "input_1 (InputLayer)         (None, 28, 28, 1)         0         \n",
      "_________________________________________________________________\n",
      "conv2d_1 (Conv2D)            (None, 20, 20, 220)       18040     \n",
      "_________________________________________________________________\n",
      "dropout_1 (Dropout)          (None, 20, 20, 220)       0         \n",
      "_________________________________________________________________\n",
      "reshape_1 (Reshape)          (None, 400, 220)          0         \n",
      "_________________________________________________________________\n",
      "capsule_1 (Capsule)          (None, 10, 16)            35200     \n",
      "_________________________________________________________________\n",
      "lambda_1 (Lambda)            (None, 10)                0         \n",
      "=================================================================\n",
      "Total params: 53,240\n",
      "Trainable params: 53,240\n",
      "Non-trainable params: 0\n",
      "_________________________________________________________________\n"
     ]
    }
   ],
   "source": [
    "\"\"\"one-CONV-LAYERS-THICK\"\"\"\n",
    "input_image = Input(shape=(x_train.shape[1], x_train.shape[2], x_train.shape[3]))\n",
    "x_0 = Conv2D(filters= 220, kernel_size= 9, activation='relu', \n",
    "             padding= 'valid')(input_image)\n",
    "x_0= Dropout(0.1)(x_0)\n",
    "\n",
    "\n",
    "\"\"\"now we reshape it as (batch_size, input_num_capsule, input_dim_capsule)\n",
    "then connect a Capsule layer.\n",
    "\n",
    "the output of final model is the lengths of 10 Capsule, whose dim=16.\n",
    "\n",
    "the length of Capsule is the proba,\n",
    "so the problem becomes a 10 two-classification problem.\n",
    "\"\"\"\n",
    "\n",
    "x_0 = Reshape((-1, 220))(x_0)\n",
    "capsule_0 = Capsule(num_classes, 16, 3, True)(x_0)\n",
    "output_0 = Lambda(lambda z: K.sqrt(K.sum(K.square(z), 2)))(capsule_0)\n",
    "model_0 = Model(inputs= input_image, outputs= output_0)\n",
    "\n",
    "# we use a margin loss\n",
    "model_0.compile(loss =margin_loss, optimizer='adam', metrics=['accuracy'])\n",
    "model_0.summary()\n",
    "\n",
    "# we can compare the performance with or without data augmentation\n",
    "data_augmentation = False"
   ]
  },
  {
   "cell_type": "code",
   "execution_count": 9,
   "metadata": {},
   "outputs": [
    {
     "name": "stdout",
     "output_type": "stream",
     "text": [
      "_________________________________________________________________\n",
      "Layer (type)                 Output Shape              Param #   \n",
      "=================================================================\n",
      "input_2 (InputLayer)         (None, 28, 28, 1)         0         \n",
      "_________________________________________________________________\n",
      "conv2d_2 (Conv2D)            (None, 20, 20, 10)        820       \n",
      "_________________________________________________________________\n",
      "dropout_2 (Dropout)          (None, 20, 20, 10)        0         \n",
      "_________________________________________________________________\n",
      "conv2d_3 (Conv2D)            (None, 12, 12, 52)        42172     \n",
      "_________________________________________________________________\n",
      "dropout_3 (Dropout)          (None, 12, 12, 52)        0         \n",
      "_________________________________________________________________\n",
      "reshape_2 (Reshape)          (None, 144, 52)           0         \n",
      "_________________________________________________________________\n",
      "capsule_2 (Capsule)          (None, 10, 16)            8320      \n",
      "_________________________________________________________________\n",
      "lambda_2 (Lambda)            (None, 10)                0         \n",
      "=================================================================\n",
      "Total params: 51,312\n",
      "Trainable params: 51,312\n",
      "Non-trainable params: 0\n",
      "_________________________________________________________________\n"
     ]
    }
   ],
   "source": [
    "\"\"\"two-CONV-LAYERS-THICK\"\"\"\n",
    "input_image = Input(shape=(x_train.shape[1], x_train.shape[2], x_train.shape[3]))\n",
    "x_1 = Conv2D(filters= 10, kernel_size= 9, activation='relu', \n",
    "             padding= 'valid')(input_image)\n",
    "x_1= Dropout(0.1)(x_1)\n",
    "x_1 = Conv2D(filters= 52, kernel_size= 9, activation='relu',\n",
    "             strides= 1)(x_1)\n",
    "x_1 = Dropout(0.1)(x_1)\n",
    "\n",
    "\n",
    "\"\"\"now we reshape it as (batch_size, input_num_capsule, input_dim_capsule)\n",
    "then connect a Capsule layer.\n",
    "\n",
    "the output of final model is the lengths of 10 Capsule, whose dim=16.\n",
    "\n",
    "the length of Capsule is the proba,\n",
    "so the problem becomes a 10 two-classification problem.\n",
    "\"\"\"\n",
    "\n",
    "x_1 = Reshape((-1, 52))(x_1)\n",
    "capsule_1 = Capsule(num_classes, 16, 3, True)(x_1)\n",
    "output_1 = Lambda(lambda z: K.sqrt(K.sum(K.square(z), 2)))(capsule_1)\n",
    "model_1= Model(inputs= input_image, outputs= output_1)\n",
    "\n",
    "# we use a margin loss\n",
    "model_1.compile(loss =margin_loss, optimizer='adam', metrics=['accuracy'])\n",
    "model_1.summary()\n",
    "\n",
    "# we can compare the performance with or without data augmentation\n",
    "data_augmentation = False"
   ]
  },
  {
   "cell_type": "code",
   "execution_count": 10,
   "metadata": {},
   "outputs": [
    {
     "name": "stdout",
     "output_type": "stream",
     "text": [
      "_________________________________________________________________\n",
      "Layer (type)                 Output Shape              Param #   \n",
      "=================================================================\n",
      "input_3 (InputLayer)         (None, 28, 28, 1)         0         \n",
      "_________________________________________________________________\n",
      "conv2d_4 (Conv2D)            (None, 20, 20, 10)        820       \n",
      "_________________________________________________________________\n",
      "dropout_4 (Dropout)          (None, 20, 20, 10)        0         \n",
      "_________________________________________________________________\n",
      "conv2d_5 (Conv2D)            (None, 12, 12, 20)        16220     \n",
      "_________________________________________________________________\n",
      "dropout_5 (Dropout)          (None, 12, 12, 20)        0         \n",
      "_________________________________________________________________\n",
      "conv2d_6 (Conv2D)            (None, 4, 4, 21)          34041     \n",
      "_________________________________________________________________\n",
      "dropout_6 (Dropout)          (None, 4, 4, 21)          0         \n",
      "_________________________________________________________________\n",
      "reshape_3 (Reshape)          (None, 16, 21)            0         \n",
      "_________________________________________________________________\n",
      "capsule_3 (Capsule)          (None, 10, 16)            3360      \n",
      "_________________________________________________________________\n",
      "lambda_3 (Lambda)            (None, 10)                0         \n",
      "=================================================================\n",
      "Total params: 54,441\n",
      "Trainable params: 54,441\n",
      "Non-trainable params: 0\n",
      "_________________________________________________________________\n"
     ]
    }
   ],
   "source": [
    "\"\"\"three-CONV-LAYERS-THICK\"\"\"\n",
    "input_image = Input(shape=(x_train.shape[1], x_train.shape[2], x_train.shape[3]))\n",
    "x_2 = Conv2D(filters=10, kernel_size= 9, activation='relu', \n",
    "             padding= 'valid')(input_image)\n",
    "x_2= Dropout(0.1)(x_2)\n",
    "x_2 = Conv2D(filters= 20 , kernel_size= 9, activation='relu',\n",
    "             strides= 1)(x_2)\n",
    "x_2 = Dropout(0.1)(x_2)\n",
    "x_2 = Conv2D(filters= 21, kernel_size= 9, activation='relu',\n",
    "             strides= 1)(x_2)\n",
    "x_2 = Dropout(0.1)(x_2)\n",
    "\n",
    "\n",
    "\"\"\"now we reshape it as (batch_size, input_num_capsule, input_dim_capsule)\n",
    "then connect a Capsule layer.\n",
    "\n",
    "the output of final model is the lengths of 10 Capsule, whose dim=16.\n",
    "\n",
    "the length of Capsule is the proba,\n",
    "so the problem becomes a 10 two-classification problem.\n",
    "\"\"\"\n",
    "\n",
    "x_2 = Reshape((-1, 21))(x_2)\n",
    "capsule_2 = Capsule(num_classes, 16, 3, True)(x_2)\n",
    "output_2 = Lambda(lambda z: K.sqrt(K.sum(K.square(z), 2)))(capsule_2)\n",
    "model_2= Model(inputs= input_image, outputs= output_2)\n",
    "\n",
    "# we use a margin loss\n",
    "model_2.compile(loss =margin_loss, optimizer='adam', metrics=['accuracy'])\n",
    "model_2.summary()\n",
    "\n",
    "# we can compare the performance with or without data augmentation\n",
    "data_augmentation = False"
   ]
  },
  {
   "cell_type": "code",
   "execution_count": 11,
   "metadata": {},
   "outputs": [
    {
     "name": "stdout",
     "output_type": "stream",
     "text": [
      "_________________________________________________________________\n",
      "Layer (type)                 Output Shape              Param #   \n",
      "=================================================================\n",
      "input_4 (InputLayer)         (None, 28, 28, 1)         0         \n",
      "_________________________________________________________________\n",
      "conv2d_7 (Conv2D)            (None, 28, 28, 10)        820       \n",
      "_________________________________________________________________\n",
      "dropout_7 (Dropout)          (None, 28, 28, 10)        0         \n",
      "_________________________________________________________________\n",
      "conv2d_8 (Conv2D)            (None, 20, 20, 15)        12165     \n",
      "_________________________________________________________________\n",
      "dropout_8 (Dropout)          (None, 20, 20, 15)        0         \n",
      "_________________________________________________________________\n",
      "conv2d_9 (Conv2D)            (None, 12, 12, 15)        18240     \n",
      "_________________________________________________________________\n",
      "dropout_9 (Dropout)          (None, 12, 12, 15)        0         \n",
      "_________________________________________________________________\n",
      "conv2d_10 (Conv2D)           (None, 4, 4, 21)          25536     \n",
      "_________________________________________________________________\n",
      "dropout_10 (Dropout)         (None, 4, 4, 21)          0         \n",
      "_________________________________________________________________\n",
      "reshape_4 (Reshape)          (None, 16, 21)            0         \n",
      "_________________________________________________________________\n",
      "capsule_4 (Capsule)          (None, 10, 16)            3360      \n",
      "_________________________________________________________________\n",
      "lambda_4 (Lambda)            (None, 10)                0         \n",
      "=================================================================\n",
      "Total params: 60,121\n",
      "Trainable params: 60,121\n",
      "Non-trainable params: 0\n",
      "_________________________________________________________________\n"
     ]
    }
   ],
   "source": [
    "\"\"\"four-CONV-LAYERS-THICK\"\"\"\n",
    "input_image = Input(shape=(x_train.shape[1], x_train.shape[2], x_train.shape[3]))\n",
    "x_3 = Conv2D(filters= 10, kernel_size= 9, activation='relu', \n",
    "              padding= 'same')(input_image)\n",
    "x_3= Dropout(0.1)(x_3)\n",
    "x_3 = Conv2D(filters= 15 ,kernel_size= 9, activation='relu',\n",
    "             strides= 1)(x_3)\n",
    "x_3 = Dropout(0.1)(x_3)\n",
    "x_3 = Conv2D(filters= 15, kernel_size= 9, activation='relu',\n",
    "             strides= 1)(x_3)\n",
    "x_3= Dropout(0.1)(x_3)\n",
    "x_3 = Conv2D(filters= 21,kernel_size= 9, activation='relu',\n",
    "             strides= 1)(x_3)\n",
    "x_3= Dropout(0.1)(x_3)\n",
    "\n",
    "\n",
    "\"\"\"now we reshape it as (batch_size, input_num_capsule, input_dim_capsule)\n",
    "then connect a Capsule layer.\n",
    "\n",
    "the output of final model is the lengths of 10 Capsule, whose dim=16.\n",
    "\n",
    "the length of Capsule is the proba,\n",
    "so the problem becomes a 10 two-classification problem.\n",
    "\"\"\"\n",
    "\n",
    "x_3 = Reshape((-1, 21))(x_3)\n",
    "capsule_3 = Capsule(num_classes, 16, 3, True)(x_3)\n",
    "output_3 = Lambda(lambda z: K.sqrt(K.sum(K.square(z), 2)))(capsule_3)\n",
    "model_3= Model(inputs= input_image, outputs= output_3)\n",
    "\n",
    "# we use a margin loss\n",
    "model_3.compile(loss =margin_loss, optimizer='adam', metrics=['accuracy'])\n",
    "model_3.summary()\n",
    "\n",
    "# we can compare the performance with or without data augmentation\n",
    "data_augmentation = False"
   ]
  },
  {
   "cell_type": "code",
   "execution_count": 12,
   "metadata": {},
   "outputs": [
    {
     "name": "stdout",
     "output_type": "stream",
     "text": [
      "_________________________________________________________________\n",
      "Layer (type)                 Output Shape              Param #   \n",
      "=================================================================\n",
      "conv2d_11 (Conv2D)           (None, 20, 20, 5)         410       \n",
      "_________________________________________________________________\n",
      "max_pooling2d_1 (MaxPooling2 (None, 10, 10, 5)         0         \n",
      "_________________________________________________________________\n",
      "conv2d_12 (Conv2D)           (None, 10, 10, 20)        8120      \n",
      "_________________________________________________________________\n",
      "dropout_11 (Dropout)         (None, 10, 10, 20)        0         \n",
      "_________________________________________________________________\n",
      "max_pooling2d_2 (MaxPooling2 (None, 5, 5, 20)          0         \n",
      "_________________________________________________________________\n",
      "flatten_1 (Flatten)          (None, 500)               0         \n",
      "_________________________________________________________________\n",
      "dropout_12 (Dropout)         (None, 500)               0         \n",
      "_________________________________________________________________\n",
      "dense_1 (Dense)              (None, 256)               128256    \n",
      "_________________________________________________________________\n",
      "dense_2 (Dense)              (None, 10)                2570      \n",
      "=================================================================\n",
      "Total params: 139,356\n",
      "Trainable params: 139,356\n",
      "Non-trainable params: 0\n",
      "_________________________________________________________________\n",
      "None\n"
     ]
    }
   ],
   "source": [
    "\"\"\"CNN-3-CONV-LAYERS\"\"\"\n",
    "from keras.models import Sequential\n",
    "from keras.layers import Dense, Dropout, Activation, Flatten, Conv2D, MaxPooling2D, \\\n",
    "                         ZeroPadding2D\n",
    "\n",
    "model_4= Sequential()\n",
    "model_4.add(Conv2D(filters= 5, kernel_size= (9, 9), padding= 'valid', \n",
    "                   input_shape=(x_train.shape[1], x_train.shape[2], x_train.shape[3]), \n",
    "                   activation='relu'))\n",
    "model_4.add(MaxPooling2D(pool_size=(2,2)))\n",
    "model_4.add(Conv2D(filters= 20, kernel_size= (9, 9), \n",
    "                    padding='same', activation='relu'))\n",
    "model_4.add(Dropout(0.4))\n",
    "model_4.add(MaxPooling2D(pool_size=(2,2)))\n",
    "\n",
    "model_4.add(Flatten())\n",
    "model_4.add(Dropout(0.6))\n",
    "model_4.add(Dense(256, activation='relu'))\n",
    "model_4.add(Dense(num_classes, activation='softmax'))\n",
    "print(model_4.summary())"
   ]
  },
  {
   "cell_type": "code",
   "execution_count": 13,
   "metadata": {},
   "outputs": [
    {
     "name": "stdout",
     "output_type": "stream",
     "text": [
      "Not using data augmentation.\n",
      "WARNING:tensorflow:From C:\\Users\\ASUS\\Anaconda3\\envs\\tensorflow-gpu\\lib\\site-packages\\tensorflow\\python\\ops\\math_ops.py:3066: to_int32 (from tensorflow.python.ops.math_ops) is deprecated and will be removed in a future version.\n",
      "Instructions for updating:\n",
      "Use tf.cast instead.\n",
      "WARNING:tensorflow:From C:\\Users\\ASUS\\Anaconda3\\envs\\tensorflow-gpu\\lib\\site-packages\\tensorflow\\python\\ops\\math_grad.py:102: div (from tensorflow.python.ops.math_ops) is deprecated and will be removed in a future version.\n",
      "Instructions for updating:\n",
      "Deprecated in favor of operator or tf.math.divide.\n",
      "Train on 54546 samples, validate on 5454 samples\n",
      "Epoch 1/30\n",
      "54546/54546 [==============================] - 14s 260us/step - loss: 0.3648 - acc: 0.5864 - val_loss: 0.2729 - val_acc: 0.7032\n",
      "Epoch 2/30\n",
      "54546/54546 [==============================] - 11s 208us/step - loss: 0.2427 - acc: 0.7546 - val_loss: 0.2108 - val_acc: 0.8023\n",
      "Epoch 3/30\n",
      "54546/54546 [==============================] - 11s 209us/step - loss: 0.2075 - acc: 0.7976 - val_loss: 0.1978 - val_acc: 0.8308\n",
      "Epoch 4/30\n",
      "54546/54546 [==============================] - 11s 205us/step - loss: 0.1879 - acc: 0.8199 - val_loss: 0.1759 - val_acc: 0.8467\n",
      "Epoch 5/30\n",
      "54546/54546 [==============================] - 11s 207us/step - loss: 0.1745 - acc: 0.8389 - val_loss: 0.1612 - val_acc: 0.8592\n",
      "Epoch 6/30\n",
      "54546/54546 [==============================] - 11s 207us/step - loss: 0.1665 - acc: 0.8458 - val_loss: 0.1552 - val_acc: 0.8717\n",
      "Epoch 7/30\n",
      "54546/54546 [==============================] - 13s 237us/step - loss: 0.1591 - acc: 0.8576 - val_loss: 0.1463 - val_acc: 0.8790\n",
      "Epoch 8/30\n",
      "54546/54546 [==============================] - 12s 215us/step - loss: 0.1525 - acc: 0.8632 - val_loss: 0.1423 - val_acc: 0.8781\n",
      "Epoch 9/30\n",
      "54546/54546 [==============================] - 12s 220us/step - loss: 0.1500 - acc: 0.8653 - val_loss: 0.1447 - val_acc: 0.8834\n",
      "Epoch 10/30\n",
      "54546/54546 [==============================] - 12s 216us/step - loss: 0.1446 - acc: 0.8721 - val_loss: 0.1407 - val_acc: 0.8816\n",
      "Epoch 11/30\n",
      "54546/54546 [==============================] - 12s 213us/step - loss: 0.1412 - acc: 0.8764 - val_loss: 0.1319 - val_acc: 0.8929\n",
      "Epoch 12/30\n",
      "54546/54546 [==============================] - 12s 211us/step - loss: 0.1381 - acc: 0.8803 - val_loss: 0.1284 - val_acc: 0.8891\n",
      "Epoch 13/30\n",
      "54546/54546 [==============================] - 12s 215us/step - loss: 0.1356 - acc: 0.8822 - val_loss: 0.1225 - val_acc: 0.8959\n",
      "Epoch 14/30\n",
      "54546/54546 [==============================] - 12s 213us/step - loss: 0.1318 - acc: 0.8857 - val_loss: 0.1270 - val_acc: 0.8922\n",
      "Epoch 15/30\n",
      "54546/54546 [==============================] - 12s 213us/step - loss: 0.1303 - acc: 0.8886 - val_loss: 0.1239 - val_acc: 0.8992\n",
      "Epoch 16/30\n",
      "54546/54546 [==============================] - 12s 213us/step - loss: 0.1293 - acc: 0.8902 - val_loss: 0.1220 - val_acc: 0.8977\n",
      "Epoch 17/30\n",
      "54546/54546 [==============================] - 12s 215us/step - loss: 0.1257 - acc: 0.8941 - val_loss: 0.1281 - val_acc: 0.8937\n",
      "Epoch 18/30\n",
      "54546/54546 [==============================] - 12s 214us/step - loss: 0.1253 - acc: 0.8945 - val_loss: 0.1198 - val_acc: 0.9028\n",
      "Epoch 19/30\n",
      "54546/54546 [==============================] - 12s 215us/step - loss: 0.1238 - acc: 0.8961 - val_loss: 0.1141 - val_acc: 0.9070\n",
      "Epoch 20/30\n",
      "54546/54546 [==============================] - 12s 215us/step - loss: 0.1223 - acc: 0.8994 - val_loss: 0.1141 - val_acc: 0.9063\n",
      "Epoch 21/30\n",
      "54546/54546 [==============================] - 12s 215us/step - loss: 0.1197 - acc: 0.9020 - val_loss: 0.1148 - val_acc: 0.9142\n",
      "Epoch 22/30\n",
      "54546/54546 [==============================] - 12s 215us/step - loss: 0.1195 - acc: 0.9019 - val_loss: 0.1137 - val_acc: 0.9089\n",
      "Epoch 23/30\n",
      "54546/54546 [==============================] - 12s 220us/step - loss: 0.1185 - acc: 0.9014 - val_loss: 0.1122 - val_acc: 0.9122\n",
      "Epoch 24/30\n",
      "54546/54546 [==============================] - 12s 215us/step - loss: 0.1163 - acc: 0.9046 - val_loss: 0.1093 - val_acc: 0.9160\n",
      "Epoch 25/30\n",
      "54546/54546 [==============================] - 12s 215us/step - loss: 0.1165 - acc: 0.9052 - val_loss: 0.1174 - val_acc: 0.9065\n",
      "Epoch 26/30\n",
      "54546/54546 [==============================] - 11s 209us/step - loss: 0.1153 - acc: 0.9050 - val_loss: 0.1097 - val_acc: 0.9171\n",
      "Epoch 27/30\n",
      "54546/54546 [==============================] - 11s 210us/step - loss: 0.1133 - acc: 0.9095 - val_loss: 0.1074 - val_acc: 0.9191\n",
      "Epoch 28/30\n",
      "54546/54546 [==============================] - 12s 216us/step - loss: 0.1122 - acc: 0.9104 - val_loss: 0.1158 - val_acc: 0.9054\n",
      "Epoch 29/30\n",
      "54546/54546 [==============================] - 12s 214us/step - loss: 0.1124 - acc: 0.9102 - val_loss: 0.1128 - val_acc: 0.9098\n",
      "Epoch 30/30\n",
      "54546/54546 [==============================] - 12s 213us/step - loss: 0.1113 - acc: 0.9107 - val_loss: 0.1076 - val_acc: 0.9105\n"
     ]
    }
   ],
   "source": [
    "\"\"\"one-CONV-LAYERS-THICK\"\"\"\n",
    "if not data_augmentation:\n",
    "    print('Not using data augmentation.')\n",
    "    train_history_0= model_0.fit(\n",
    "        x_train,\n",
    "        y_train,\n",
    "        batch_size=batch_size,\n",
    "        epochs=epochs,\n",
    "        validation_split= Vld_Splt,\n",
    "        shuffle=True)\n",
    "else:\n",
    "    print('Using real-time data augmentation.')\n",
    "    # This will do preprocessing and realtime data augmentation:\n",
    "    datagen = ImageDataGenerator(\n",
    "        featurewise_center=False,  # set input mean to 0 over the dataset\n",
    "        samplewise_center=False,  # set each sample mean to 0\n",
    "        featurewise_std_normalization=False,  # divide inputs by dataset std\n",
    "        samplewise_std_normalization=False,  # divide each input by its std\n",
    "        zca_whitening=False,  # apply ZCA whitening\n",
    "        zca_epsilon=1e-06,  # epsilon for ZCA whitening\n",
    "        rotation_range=0,  # randomly rotate images in 0 to 180 degrees\n",
    "        width_shift_range=0.1,  # randomly shift images horizontally\n",
    "        height_shift_range=0.1,  # randomly shift images vertically\n",
    "        shear_range=0.,  # set range for random shear\n",
    "        zoom_range=0.,  # set range for random zoom\n",
    "        channel_shift_range=0.,  # set range for random channel shifts\n",
    "        # set mode for filling points outside the input boundaries\n",
    "        fill_mode='nearest',\n",
    "        cval=0.,  # value used for fill_mode = \"constant\"\n",
    "        horizontal_flip=True,  # randomly flip images\n",
    "        vertical_flip=False,  # randomly flip images\n",
    "        # set rescaling factor (applied before any other transformation)\n",
    "        rescale=None,\n",
    "        # set function that will be applied on each input\n",
    "        preprocessing_function=None,\n",
    "        # image data format, either \"channels_first\" or \"channels_last\"\n",
    "        data_format=None,\n",
    "        # fraction of images reserved for validation (strictly between 0 and 1)\n",
    "        validation_split=0.0)\n",
    "\n",
    "    # Compute quantities required for feature-wise normalization\n",
    "    # (std, mean, and principal components if ZCA whitening is applied).\n",
    "    datagen.fit(x_train)\n",
    "\n",
    "    # Fit the model on the batches generated by datagen.flow().\n",
    "    train_history_0= model_0.fit_generator(\n",
    "        datagen.flow(x_train, y_train, batch_size=batch_size),\n",
    "        epochs= epochs,\n",
    "        validation_split= Vld_Splt,\n",
    "        steps_per_epoch= int(x_train.shape[0]/ batch_size),\n",
    "        workers=4)"
   ]
  },
  {
   "cell_type": "code",
   "execution_count": 14,
   "metadata": {},
   "outputs": [
    {
     "name": "stdout",
     "output_type": "stream",
     "text": [
      "Not using data augmentation.\n",
      "Train on 54546 samples, validate on 5454 samples\n",
      "Epoch 1/30\n",
      "54546/54546 [==============================] - 5s 96us/step - loss: 0.3813 - acc: 0.4972 - val_loss: 0.2668 - val_acc: 0.6845\n",
      "Epoch 2/30\n",
      "54546/54546 [==============================] - 5s 87us/step - loss: 0.2326 - acc: 0.7360 - val_loss: 0.1964 - val_acc: 0.7989\n",
      "Epoch 3/30\n",
      "54546/54546 [==============================] - 5s 88us/step - loss: 0.1833 - acc: 0.8006 - val_loss: 0.1609 - val_acc: 0.8264\n",
      "Epoch 4/30\n",
      "54546/54546 [==============================] - 5s 89us/step - loss: 0.1586 - acc: 0.8258 - val_loss: 0.1416 - val_acc: 0.8493\n",
      "Epoch 5/30\n",
      "54546/54546 [==============================] - 5s 87us/step - loss: 0.1384 - acc: 0.8488 - val_loss: 0.1253 - val_acc: 0.8693\n",
      "Epoch 6/30\n",
      "54546/54546 [==============================] - 5s 89us/step - loss: 0.1238 - acc: 0.8670 - val_loss: 0.1084 - val_acc: 0.8887\n",
      "Epoch 7/30\n",
      "54546/54546 [==============================] - 5s 88us/step - loss: 0.1152 - acc: 0.8772 - val_loss: 0.1035 - val_acc: 0.8951\n",
      "Epoch 8/30\n",
      "54546/54546 [==============================] - 5s 89us/step - loss: 0.1099 - acc: 0.8827 - val_loss: 0.1018 - val_acc: 0.8913\n",
      "Epoch 9/30\n",
      "54546/54546 [==============================] - 5s 84us/step - loss: 0.1048 - acc: 0.8888 - val_loss: 0.1002 - val_acc: 0.8982\n",
      "Epoch 10/30\n",
      "54546/54546 [==============================] - 5s 88us/step - loss: 0.1006 - acc: 0.8929 - val_loss: 0.0898 - val_acc: 0.9041\n",
      "Epoch 11/30\n",
      "54546/54546 [==============================] - 5s 91us/step - loss: 0.0984 - acc: 0.8955 - val_loss: 0.0924 - val_acc: 0.9114\n",
      "Epoch 12/30\n",
      "54546/54546 [==============================] - 5s 88us/step - loss: 0.0955 - acc: 0.8994 - val_loss: 0.0853 - val_acc: 0.9118\n",
      "Epoch 13/30\n",
      "54546/54546 [==============================] - 5s 86us/step - loss: 0.0917 - acc: 0.9041 - val_loss: 0.0850 - val_acc: 0.9105\n",
      "Epoch 14/30\n",
      "54546/54546 [==============================] - 5s 89us/step - loss: 0.0902 - acc: 0.9054 - val_loss: 0.0830 - val_acc: 0.9151\n",
      "Epoch 15/30\n",
      "54546/54546 [==============================] - 5s 89us/step - loss: 0.0879 - acc: 0.9089 - val_loss: 0.0831 - val_acc: 0.9109\n",
      "Epoch 16/30\n",
      "54546/54546 [==============================] - 5s 85us/step - loss: 0.0850 - acc: 0.9120 - val_loss: 0.0830 - val_acc: 0.9113\n",
      "Epoch 17/30\n",
      "54546/54546 [==============================] - 5s 85us/step - loss: 0.0831 - acc: 0.9152 - val_loss: 0.0817 - val_acc: 0.9157\n",
      "Epoch 18/30\n",
      "54546/54546 [==============================] - 5s 84us/step - loss: 0.0824 - acc: 0.9158 - val_loss: 0.0758 - val_acc: 0.9177\n",
      "Epoch 19/30\n",
      "54546/54546 [==============================] - 5s 87us/step - loss: 0.0804 - acc: 0.9175 - val_loss: 0.0753 - val_acc: 0.9228\n",
      "Epoch 20/30\n",
      "54546/54546 [==============================] - 5s 85us/step - loss: 0.0789 - acc: 0.9197 - val_loss: 0.0758 - val_acc: 0.9193\n",
      "Epoch 21/30\n",
      "54546/54546 [==============================] - 5s 86us/step - loss: 0.0772 - acc: 0.9223 - val_loss: 0.0729 - val_acc: 0.9254\n",
      "Epoch 22/30\n",
      "54546/54546 [==============================] - 5s 88us/step - loss: 0.0758 - acc: 0.9249 - val_loss: 0.0726 - val_acc: 0.9228\n",
      "Epoch 23/30\n",
      "54546/54546 [==============================] - 5s 87us/step - loss: 0.0744 - acc: 0.9264 - val_loss: 0.0756 - val_acc: 0.9184\n",
      "Epoch 24/30\n",
      "54546/54546 [==============================] - 5s 89us/step - loss: 0.0730 - acc: 0.9273 - val_loss: 0.0706 - val_acc: 0.9268\n",
      "Epoch 25/30\n",
      "54546/54546 [==============================] - 5s 89us/step - loss: 0.0715 - acc: 0.9285 - val_loss: 0.0705 - val_acc: 0.9274\n",
      "Epoch 26/30\n",
      "54546/54546 [==============================] - 5s 91us/step - loss: 0.0706 - acc: 0.9308 - val_loss: 0.0701 - val_acc: 0.9294\n",
      "Epoch 27/30\n",
      "54546/54546 [==============================] - 5s 89us/step - loss: 0.0698 - acc: 0.9321 - val_loss: 0.0696 - val_acc: 0.9318\n",
      "Epoch 28/30\n",
      "54546/54546 [==============================] - 5s 87us/step - loss: 0.0679 - acc: 0.9342 - val_loss: 0.0664 - val_acc: 0.9340\n",
      "Epoch 29/30\n",
      "54546/54546 [==============================] - 5s 87us/step - loss: 0.0669 - acc: 0.9361 - val_loss: 0.0679 - val_acc: 0.9342\n",
      "Epoch 30/30\n",
      "54546/54546 [==============================] - 5s 87us/step - loss: 0.0663 - acc: 0.9360 - val_loss: 0.0700 - val_acc: 0.9256\n"
     ]
    }
   ],
   "source": [
    "\"\"\"two-CONV-LAYERS-THICK\"\"\"\n",
    "if not data_augmentation:\n",
    "    print('Not using data augmentation.')\n",
    "    train_history_1= model_1.fit(\n",
    "        x_train,\n",
    "        y_train,\n",
    "        batch_size=batch_size,\n",
    "        epochs=epochs,\n",
    "        validation_split= Vld_Splt,\n",
    "        shuffle=True)\n",
    "else:\n",
    "    print('Using real-time data augmentation.')\n",
    "    # This will do preprocessing and realtime data augmentation:\n",
    "    datagen = ImageDataGenerator(\n",
    "        featurewise_center=False,  # set input mean to 0 over the dataset\n",
    "        samplewise_center=False,  # set each sample mean to 0\n",
    "        featurewise_std_normalization=False,  # divide inputs by dataset std\n",
    "        samplewise_std_normalization=False,  # divide each input by its std\n",
    "        zca_whitening=False,  # apply ZCA whitening\n",
    "        zca_epsilon=1e-06,  # epsilon for ZCA whitening\n",
    "        rotation_range=0,  # randomly rotate images in 0 to 180 degrees\n",
    "        width_shift_range=0.1,  # randomly shift images horizontally\n",
    "        height_shift_range=0.1,  # randomly shift images vertically\n",
    "        shear_range=0.,  # set range for random shear\n",
    "        zoom_range=0.,  # set range for random zoom\n",
    "        channel_shift_range=0.,  # set range for random channel shifts\n",
    "        # set mode for filling points outside the input boundaries\n",
    "        fill_mode='nearest',\n",
    "        cval=0.,  # value used for fill_mode = \"constant\"\n",
    "        horizontal_flip=True,  # randomly flip images\n",
    "        vertical_flip=False,  # randomly flip images\n",
    "        # set rescaling factor (applied before any other transformation)\n",
    "        rescale=None,\n",
    "        # set function that will be applied on each input\n",
    "        preprocessing_function=None,\n",
    "        # image data format, either \"channels_first\" or \"channels_last\"\n",
    "        data_format=None,\n",
    "        # fraction of images reserved for validation (strictly between 0 and 1)\n",
    "        validation_split=0.0)\n",
    "\n",
    "    # Compute quantities required for feature-wise normalization\n",
    "    # (std, mean, and principal components if ZCA whitening is applied).\n",
    "    datagen.fit(x_train)\n",
    "\n",
    "    # Fit the model on the batches generated by datagen.flow().\n",
    "    train_history_1= model_1.fit_generator(\n",
    "        datagen.flow(x_train, y_train, batch_size=batch_size),\n",
    "        epochs= epochs,\n",
    "        validation_split= Vld_Splt,\n",
    "        steps_per_epoch= int(x_train.shape[0]/ batch_size),\n",
    "        workers=4)"
   ]
  },
  {
   "cell_type": "code",
   "execution_count": 15,
   "metadata": {},
   "outputs": [
    {
     "name": "stdout",
     "output_type": "stream",
     "text": [
      "Not using data augmentation.\n",
      "Train on 54546 samples, validate on 5454 samples\n",
      "Epoch 1/30\n",
      "54546/54546 [==============================] - 4s 72us/step - loss: 0.3432 - acc: 0.5394 - val_loss: 0.2116 - val_acc: 0.7576\n",
      "Epoch 2/30\n",
      "54546/54546 [==============================] - 3s 64us/step - loss: 0.1832 - acc: 0.7842 - val_loss: 0.1458 - val_acc: 0.8273\n",
      "Epoch 3/30\n",
      "54546/54546 [==============================] - 3s 62us/step - loss: 0.1379 - acc: 0.8384 - val_loss: 0.1092 - val_acc: 0.8740\n",
      "Epoch 4/30\n",
      "54546/54546 [==============================] - 3s 62us/step - loss: 0.1158 - acc: 0.8645 - val_loss: 0.0951 - val_acc: 0.8854\n",
      "Epoch 5/30\n",
      "54546/54546 [==============================] - 3s 61us/step - loss: 0.1043 - acc: 0.8770 - val_loss: 0.0895 - val_acc: 0.8916\n",
      "Epoch 6/30\n",
      "54546/54546 [==============================] - 3s 61us/step - loss: 0.0930 - acc: 0.8896 - val_loss: 0.0832 - val_acc: 0.9032\n",
      "Epoch 7/30\n",
      "54546/54546 [==============================] - 3s 61us/step - loss: 0.0877 - acc: 0.8972 - val_loss: 0.0762 - val_acc: 0.9087\n",
      "Epoch 8/30\n",
      "54546/54546 [==============================] - 3s 62us/step - loss: 0.0830 - acc: 0.9018 - val_loss: 0.0769 - val_acc: 0.9059\n",
      "Epoch 9/30\n",
      "54546/54546 [==============================] - 3s 64us/step - loss: 0.0778 - acc: 0.9080 - val_loss: 0.0669 - val_acc: 0.9193\n",
      "Epoch 10/30\n",
      "54546/54546 [==============================] - 3s 62us/step - loss: 0.0756 - acc: 0.9099 - val_loss: 0.0682 - val_acc: 0.9166\n",
      "Epoch 11/30\n",
      "54546/54546 [==============================] - 3s 63us/step - loss: 0.0725 - acc: 0.9139 - val_loss: 0.0700 - val_acc: 0.9120\n",
      "Epoch 12/30\n",
      "54546/54546 [==============================] - 3s 62us/step - loss: 0.0694 - acc: 0.9170 - val_loss: 0.0706 - val_acc: 0.9166\n",
      "Epoch 13/30\n",
      "54546/54546 [==============================] - 3s 63us/step - loss: 0.0679 - acc: 0.9194 - val_loss: 0.0665 - val_acc: 0.9182\n",
      "Epoch 14/30\n",
      "54546/54546 [==============================] - 3s 62us/step - loss: 0.0651 - acc: 0.9214 - val_loss: 0.0639 - val_acc: 0.9224\n",
      "Epoch 15/30\n",
      "54546/54546 [==============================] - 3s 62us/step - loss: 0.0644 - acc: 0.9230 - val_loss: 0.0626 - val_acc: 0.9199\n",
      "Epoch 16/30\n",
      "54546/54546 [==============================] - 3s 63us/step - loss: 0.0626 - acc: 0.9258 - val_loss: 0.0618 - val_acc: 0.9230\n",
      "Epoch 17/30\n",
      "54546/54546 [==============================] - 3s 64us/step - loss: 0.0628 - acc: 0.9259 - val_loss: 0.0598 - val_acc: 0.9274\n",
      "Epoch 18/30\n",
      "54546/54546 [==============================] - 3s 62us/step - loss: 0.0597 - acc: 0.9293 - val_loss: 0.0618 - val_acc: 0.9259\n",
      "Epoch 19/30\n",
      "54546/54546 [==============================] - 4s 65us/step - loss: 0.0593 - acc: 0.9303 - val_loss: 0.0581 - val_acc: 0.9270\n",
      "Epoch 20/30\n",
      "54546/54546 [==============================] - 3s 62us/step - loss: 0.0572 - acc: 0.9328 - val_loss: 0.0580 - val_acc: 0.9274\n",
      "Epoch 21/30\n",
      "54546/54546 [==============================] - 3s 64us/step - loss: 0.0568 - acc: 0.9326 - val_loss: 0.0583 - val_acc: 0.9294\n",
      "Epoch 22/30\n",
      "54546/54546 [==============================] - 3s 62us/step - loss: 0.0562 - acc: 0.9337 - val_loss: 0.0649 - val_acc: 0.9173\n",
      "Epoch 23/30\n",
      "54546/54546 [==============================] - 3s 63us/step - loss: 0.0549 - acc: 0.9352 - val_loss: 0.0559 - val_acc: 0.9331\n",
      "Epoch 24/30\n",
      "54546/54546 [==============================] - 4s 65us/step - loss: 0.0536 - acc: 0.9374 - val_loss: 0.0549 - val_acc: 0.9309\n",
      "Epoch 25/30\n",
      "54546/54546 [==============================] - 3s 60us/step - loss: 0.0533 - acc: 0.9377 - val_loss: 0.0571 - val_acc: 0.9283\n",
      "Epoch 26/30\n",
      "54546/54546 [==============================] - 3s 59us/step - loss: 0.0514 - acc: 0.9408 - val_loss: 0.0541 - val_acc: 0.9333\n",
      "Epoch 27/30\n",
      "54546/54546 [==============================] - 3s 58us/step - loss: 0.0518 - acc: 0.9397 - val_loss: 0.0549 - val_acc: 0.9331\n",
      "Epoch 28/30\n",
      "54546/54546 [==============================] - 3s 59us/step - loss: 0.0498 - acc: 0.9420 - val_loss: 0.0562 - val_acc: 0.9320\n",
      "Epoch 29/30\n",
      "54546/54546 [==============================] - 3s 59us/step - loss: 0.0508 - acc: 0.9408 - val_loss: 0.0555 - val_acc: 0.9329\n",
      "Epoch 30/30\n",
      "54546/54546 [==============================] - 3s 59us/step - loss: 0.0493 - acc: 0.9434 - val_loss: 0.0552 - val_acc: 0.9345\n"
     ]
    }
   ],
   "source": [
    "\"\"\"three-CONV-LAYERS-THICK\"\"\"\n",
    "if not data_augmentation:\n",
    "    print('Not using data augmentation.')\n",
    "    train_history_2= model_2.fit(\n",
    "        x_train,\n",
    "        y_train,\n",
    "        batch_size=batch_size,\n",
    "        epochs=epochs,\n",
    "        validation_split= Vld_Splt,\n",
    "        shuffle=True)\n",
    "else:\n",
    "    print('Using real-time data augmentation.')\n",
    "    # This will do preprocessing and realtime data augmentation:\n",
    "    datagen = ImageDataGenerator(\n",
    "        featurewise_center=False,  # set input mean to 0 over the dataset\n",
    "        samplewise_center=False,  # set each sample mean to 0\n",
    "        featurewise_std_normalization=False,  # divide inputs by dataset std\n",
    "        samplewise_std_normalization=False,  # divide each input by its std\n",
    "        zca_whitening=False,  # apply ZCA whitening\n",
    "        zca_epsilon=1e-06,  # epsilon for ZCA whitening\n",
    "        rotation_range=0,  # randomly rotate images in 0 to 180 degrees\n",
    "        width_shift_range=0.1,  # randomly shift images horizontally\n",
    "        height_shift_range=0.1,  # randomly shift images vertically\n",
    "        shear_range=0.,  # set range for random shear\n",
    "        zoom_range=0.,  # set range for random zoom\n",
    "        channel_shift_range=0.,  # set range for random channel shifts\n",
    "        # set mode for filling points outside the input boundaries\n",
    "        fill_mode='nearest',\n",
    "        cval=0.,  # value used for fill_mode = \"constant\"\n",
    "        horizontal_flip=True,  # randomly flip images\n",
    "        vertical_flip=False,  # randomly flip images\n",
    "        # set rescaling factor (applied before any other transformation)\n",
    "        rescale=None,\n",
    "        # set function that will be applied on each input\n",
    "        preprocessing_function=None,\n",
    "        # image data format, either \"channels_first\" or \"channels_last\"\n",
    "        data_format=None,\n",
    "        # fraction of images reserved for validation (strictly between 0 and 1)\n",
    "        validation_split=0.0)\n",
    "\n",
    "    # Compute quantities required for feature-wise normalization\n",
    "    # (std, mean, and principal components if ZCA whitening is applied).\n",
    "    datagen.fit(x_train)\n",
    "\n",
    "    # Fit the model on the batches generated by datagen.flow().\n",
    "    train_history_2= model_2.fit_generator(\n",
    "        datagen.flow(x_train, y_train, batch_size=batch_size),\n",
    "        epochs= epochs,\n",
    "        validation_split= Vld_Splt,\n",
    "        steps_per_epoch= int(x_train.shape[0]/ batch_size),\n",
    "        workers=4)"
   ]
  },
  {
   "cell_type": "code",
   "execution_count": 16,
   "metadata": {},
   "outputs": [
    {
     "name": "stdout",
     "output_type": "stream",
     "text": [
      "Not using data augmentation.\n",
      "Train on 54546 samples, validate on 5454 samples\n",
      "Epoch 1/30\n",
      "54546/54546 [==============================] - 5s 94us/step - loss: 0.4287 - acc: 0.3870 - val_loss: 0.2501 - val_acc: 0.7178\n",
      "Epoch 2/30\n",
      "54546/54546 [==============================] - 4s 82us/step - loss: 0.1991 - acc: 0.7691 - val_loss: 0.1413 - val_acc: 0.8311\n",
      "Epoch 3/30\n",
      "54546/54546 [==============================] - 5s 86us/step - loss: 0.1371 - acc: 0.8364 - val_loss: 0.1052 - val_acc: 0.8770\n",
      "Epoch 4/30\n",
      "54546/54546 [==============================] - 5s 85us/step - loss: 0.1070 - acc: 0.8716 - val_loss: 0.0850 - val_acc: 0.8931\n",
      "Epoch 5/30\n",
      "54546/54546 [==============================] - 5s 85us/step - loss: 0.0918 - acc: 0.8885 - val_loss: 0.0742 - val_acc: 0.9105\n",
      "Epoch 6/30\n",
      "54546/54546 [==============================] - 5s 85us/step - loss: 0.0792 - acc: 0.9037 - val_loss: 0.0705 - val_acc: 0.9124\n",
      "Epoch 7/30\n",
      "54546/54546 [==============================] - 5s 84us/step - loss: 0.0712 - acc: 0.9148 - val_loss: 0.0615 - val_acc: 0.9254\n",
      "Epoch 8/30\n",
      "54546/54546 [==============================] - 5s 85us/step - loss: 0.0647 - acc: 0.9211 - val_loss: 0.0570 - val_acc: 0.9300\n",
      "Epoch 9/30\n",
      "54546/54546 [==============================] - 5s 84us/step - loss: 0.0615 - acc: 0.9264 - val_loss: 0.0552 - val_acc: 0.9336\n",
      "Epoch 10/30\n",
      "54546/54546 [==============================] - 5s 84us/step - loss: 0.0571 - acc: 0.9311 - val_loss: 0.0532 - val_acc: 0.9325\n",
      "Epoch 11/30\n",
      "54546/54546 [==============================] - 5s 84us/step - loss: 0.0539 - acc: 0.9350 - val_loss: 0.0488 - val_acc: 0.9366\n",
      "Epoch 12/30\n",
      "54546/54546 [==============================] - 5s 85us/step - loss: 0.0505 - acc: 0.9397 - val_loss: 0.0442 - val_acc: 0.9441\n",
      "Epoch 13/30\n",
      "54546/54546 [==============================] - 5s 85us/step - loss: 0.0475 - acc: 0.9439 - val_loss: 0.0437 - val_acc: 0.9465\n",
      "Epoch 14/30\n",
      "54546/54546 [==============================] - 5s 84us/step - loss: 0.0462 - acc: 0.9446 - val_loss: 0.0431 - val_acc: 0.9457\n",
      "Epoch 15/30\n",
      "54546/54546 [==============================] - 5s 85us/step - loss: 0.0455 - acc: 0.9454 - val_loss: 0.0459 - val_acc: 0.9393\n",
      "Epoch 16/30\n",
      "54546/54546 [==============================] - 5s 88us/step - loss: 0.0441 - acc: 0.9478 - val_loss: 0.0431 - val_acc: 0.9452\n",
      "Epoch 17/30\n",
      "54546/54546 [==============================] - 5s 86us/step - loss: 0.0422 - acc: 0.9498 - val_loss: 0.0417 - val_acc: 0.9487\n",
      "Epoch 18/30\n",
      "54546/54546 [==============================] - 5s 85us/step - loss: 0.0409 - acc: 0.9511 - val_loss: 0.0386 - val_acc: 0.9499\n",
      "Epoch 19/30\n",
      "54546/54546 [==============================] - 5s 85us/step - loss: 0.0396 - acc: 0.9525 - val_loss: 0.0408 - val_acc: 0.9468\n",
      "Epoch 20/30\n",
      "54546/54546 [==============================] - 5s 85us/step - loss: 0.0371 - acc: 0.9555 - val_loss: 0.0356 - val_acc: 0.9554\n",
      "Epoch 21/30\n",
      "54546/54546 [==============================] - 5s 85us/step - loss: 0.0363 - acc: 0.9567 - val_loss: 0.0358 - val_acc: 0.9553\n",
      "Epoch 22/30\n",
      "54546/54546 [==============================] - 5s 84us/step - loss: 0.0340 - acc: 0.9596 - val_loss: 0.0386 - val_acc: 0.9521\n",
      "Epoch 23/30\n",
      "54546/54546 [==============================] - 5s 84us/step - loss: 0.0344 - acc: 0.9589 - val_loss: 0.0383 - val_acc: 0.9521\n",
      "Epoch 24/30\n",
      "54546/54546 [==============================] - 5s 86us/step - loss: 0.0336 - acc: 0.9605 - val_loss: 0.0400 - val_acc: 0.9490\n",
      "Epoch 25/30\n",
      "54546/54546 [==============================] - 5s 85us/step - loss: 0.0328 - acc: 0.9607 - val_loss: 0.0382 - val_acc: 0.9521\n",
      "Epoch 26/30\n",
      "54546/54546 [==============================] - 5s 84us/step - loss: 0.0318 - acc: 0.9623 - val_loss: 0.0355 - val_acc: 0.9575\n",
      "Epoch 27/30\n",
      "54546/54546 [==============================] - 5s 85us/step - loss: 0.0308 - acc: 0.9637 - val_loss: 0.0376 - val_acc: 0.9540\n",
      "Epoch 28/30\n",
      "54546/54546 [==============================] - 5s 86us/step - loss: 0.0304 - acc: 0.9636 - val_loss: 0.0380 - val_acc: 0.9503\n",
      "Epoch 29/30\n",
      "54546/54546 [==============================] - 5s 85us/step - loss: 0.0297 - acc: 0.9647 - val_loss: 0.0360 - val_acc: 0.9542\n",
      "Epoch 30/30\n",
      "54546/54546 [==============================] - 5s 91us/step - loss: 0.0293 - acc: 0.9651 - val_loss: 0.0391 - val_acc: 0.9531\n"
     ]
    }
   ],
   "source": [
    "\"\"\"four-CONV-LAYERS-THICK\"\"\"\n",
    "if not data_augmentation:\n",
    "    print('Not using data augmentation.')\n",
    "    train_history_3= model_3.fit(\n",
    "        x_train,\n",
    "        y_train,\n",
    "        batch_size=batch_size,\n",
    "        epochs=epochs,\n",
    "        validation_split= Vld_Splt,\n",
    "        shuffle=True)\n",
    "else:\n",
    "    print('Using real-time data augmentation.')\n",
    "    # This will do preprocessing and realtime data augmentation:\n",
    "    datagen = ImageDataGenerator(\n",
    "        featurewise_center=False,  # set input mean to 0 over the dataset\n",
    "        samplewise_center=False,  # set each sample mean to 0\n",
    "        featurewise_std_normalization=False,  # divide inputs by dataset std\n",
    "        samplewise_std_normalization=False,  # divide each input by its std\n",
    "        zca_whitening=False,  # apply ZCA whitening\n",
    "        zca_epsilon=1e-06,  # epsilon for ZCA whitening\n",
    "        rotation_range=0,  # randomly rotate images in 0 to 180 degrees\n",
    "        width_shift_range=0.1,  # randomly shift images horizontally\n",
    "        height_shift_range=0.1,  # randomly shift images vertically\n",
    "        shear_range=0.,  # set range for random shear\n",
    "        zoom_range=0.,  # set range for random zoom\n",
    "        channel_shift_range=0.,  # set range for random channel shifts\n",
    "        # set mode for filling points outside the input boundaries\n",
    "        fill_mode='nearest',\n",
    "        cval=0.,  # value used for fill_mode = \"constant\"\n",
    "        horizontal_flip=True,  # randomly flip images\n",
    "        vertical_flip=False,  # randomly flip images\n",
    "        # set rescaling factor (applied before any other transformation)\n",
    "        rescale=None,\n",
    "        # set function that will be applied on each input\n",
    "        preprocessing_function=None,\n",
    "        # image data format, either \"channels_first\" or \"channels_last\"\n",
    "        data_format=None,\n",
    "        # fraction of images reserved for validation (strictly between 0 and 1)\n",
    "        validation_split=0.0)\n",
    "\n",
    "    # Compute quantities required for feature-wise normalization\n",
    "    # (std, mean, and principal components if ZCA whitening is applied).\n",
    "    datagen.fit(x_train)\n",
    "\n",
    "    # Fit the model on the batches generated by datagen.flow().\n",
    "    train_history_3= model_3.fit_generator(\n",
    "        datagen.flow(x_train, y_train, batch_size=batch_size),\n",
    "        epochs= epochs,\n",
    "        validation_split= Vld_Splt,\n",
    "        steps_per_epoch= int(x_train.shape[0]/ batch_size),\n",
    "        workers=4)"
   ]
  },
  {
   "cell_type": "code",
   "execution_count": 17,
   "metadata": {},
   "outputs": [
    {
     "name": "stdout",
     "output_type": "stream",
     "text": [
      "Train on 54546 samples, validate on 5454 samples\n",
      "Epoch 1/30\n",
      "54546/54546 [==============================] - 3s 55us/step - loss: 1.3542 - acc: 0.5268 - val_loss: 0.8957 - val_acc: 0.7440\n",
      "Epoch 2/30\n",
      "54546/54546 [==============================] - 2s 37us/step - loss: 0.8478 - acc: 0.7176 - val_loss: 0.6636 - val_acc: 0.8132\n",
      "Epoch 3/30\n",
      "54546/54546 [==============================] - 2s 36us/step - loss: 0.7077 - acc: 0.7653 - val_loss: 0.5681 - val_acc: 0.8280\n",
      "Epoch 4/30\n",
      "54546/54546 [==============================] - 2s 36us/step - loss: 0.6370 - acc: 0.7894 - val_loss: 0.4826 - val_acc: 0.8574\n",
      "Epoch 5/30\n",
      "54546/54546 [==============================] - 2s 36us/step - loss: 0.5760 - acc: 0.8095 - val_loss: 0.4419 - val_acc: 0.8735\n",
      "Epoch 6/30\n",
      "54546/54546 [==============================] - 2s 36us/step - loss: 0.5330 - acc: 0.8237 - val_loss: 0.4024 - val_acc: 0.8861\n",
      "Epoch 7/30\n",
      "54546/54546 [==============================] - 2s 36us/step - loss: 0.5035 - acc: 0.8314 - val_loss: 0.3779 - val_acc: 0.8938\n",
      "Epoch 8/30\n",
      "54546/54546 [==============================] - 2s 37us/step - loss: 0.4810 - acc: 0.8398 - val_loss: 0.3619 - val_acc: 0.8988\n",
      "Epoch 9/30\n",
      "54546/54546 [==============================] - 2s 36us/step - loss: 0.4629 - acc: 0.8466 - val_loss: 0.3794 - val_acc: 0.8900\n",
      "Epoch 10/30\n",
      "54546/54546 [==============================] - 2s 37us/step - loss: 0.4427 - acc: 0.8523 - val_loss: 0.3221 - val_acc: 0.9047\n",
      "Epoch 11/30\n",
      "54546/54546 [==============================] - 2s 37us/step - loss: 0.4328 - acc: 0.8547 - val_loss: 0.3177 - val_acc: 0.9138\n",
      "Epoch 12/30\n",
      "54546/54546 [==============================] - 2s 37us/step - loss: 0.4222 - acc: 0.8601 - val_loss: 0.3030 - val_acc: 0.9131\n",
      "Epoch 13/30\n",
      "54546/54546 [==============================] - 2s 36us/step - loss: 0.4081 - acc: 0.8645 - val_loss: 0.3244 - val_acc: 0.9054\n",
      "Epoch 14/30\n",
      "54546/54546 [==============================] - 2s 37us/step - loss: 0.3993 - acc: 0.8666 - val_loss: 0.2943 - val_acc: 0.9184\n",
      "Epoch 15/30\n",
      "54546/54546 [==============================] - 2s 37us/step - loss: 0.3887 - acc: 0.8711 - val_loss: 0.2778 - val_acc: 0.9212\n",
      "Epoch 16/30\n",
      "54546/54546 [==============================] - 2s 36us/step - loss: 0.3803 - acc: 0.8720 - val_loss: 0.2760 - val_acc: 0.9188\n",
      "Epoch 17/30\n",
      "54546/54546 [==============================] - 2s 36us/step - loss: 0.3731 - acc: 0.8743 - val_loss: 0.2717 - val_acc: 0.9208\n",
      "Epoch 18/30\n",
      "54546/54546 [==============================] - 2s 37us/step - loss: 0.3664 - acc: 0.8755 - val_loss: 0.2666 - val_acc: 0.9228\n",
      "Epoch 19/30\n",
      "54546/54546 [==============================] - 2s 37us/step - loss: 0.3635 - acc: 0.8782 - val_loss: 0.2677 - val_acc: 0.9243\n",
      "Epoch 20/30\n",
      "54546/54546 [==============================] - 2s 36us/step - loss: 0.3549 - acc: 0.8814 - val_loss: 0.2526 - val_acc: 0.9281\n",
      "Epoch 21/30\n",
      "54546/54546 [==============================] - 2s 36us/step - loss: 0.3527 - acc: 0.8812 - val_loss: 0.2690 - val_acc: 0.9199\n",
      "Epoch 22/30\n",
      "54546/54546 [==============================] - 2s 35us/step - loss: 0.3458 - acc: 0.8833 - val_loss: 0.2610 - val_acc: 0.9256\n",
      "Epoch 23/30\n",
      "54546/54546 [==============================] - 2s 37us/step - loss: 0.3384 - acc: 0.8859 - val_loss: 0.2471 - val_acc: 0.9281\n",
      "Epoch 24/30\n",
      "54546/54546 [==============================] - 2s 38us/step - loss: 0.3345 - acc: 0.8858 - val_loss: 0.2476 - val_acc: 0.9278\n",
      "Epoch 25/30\n",
      "54546/54546 [==============================] - 2s 35us/step - loss: 0.3358 - acc: 0.8866 - val_loss: 0.2377 - val_acc: 0.9289\n",
      "Epoch 26/30\n",
      "54546/54546 [==============================] - 2s 36us/step - loss: 0.3258 - acc: 0.8883 - val_loss: 0.2362 - val_acc: 0.9301\n",
      "Epoch 27/30\n",
      "54546/54546 [==============================] - 2s 38us/step - loss: 0.3237 - acc: 0.8901 - val_loss: 0.2586 - val_acc: 0.9235\n",
      "Epoch 28/30\n",
      "54546/54546 [==============================] - 2s 39us/step - loss: 0.3219 - acc: 0.8900 - val_loss: 0.2337 - val_acc: 0.9320\n",
      "Epoch 29/30\n",
      "54546/54546 [==============================] - 2s 38us/step - loss: 0.3201 - acc: 0.8901 - val_loss: 0.2345 - val_acc: 0.9320\n",
      "Epoch 30/30\n",
      "54546/54546 [==============================] - 2s 37us/step - loss: 0.3147 - acc: 0.8943 - val_loss: 0.2373 - val_acc: 0.9329\n"
     ]
    }
   ],
   "source": [
    "\"\"\"CNN-3-CONV-LAYERS\"\"\"\n",
    "model_4.compile(loss='categorical_crossentropy',\n",
    "              optimizer='adam', metrics=['accuracy'])\n",
    "train_history_4= model_4.fit(x= x_train, y= y_train, validation_split= Vld_Splt,\n",
    "                         epochs= epochs, batch_size= batch_size, verbose=1)"
   ]
  },
  {
   "cell_type": "code",
   "execution_count": 18,
   "metadata": {},
   "outputs": [
    {
     "name": "stdout",
     "output_type": "stream",
     "text": [
      "10000/10000 [==============================] - 1s 94us/step\n"
     ]
    },
    {
     "data": {
      "text/plain": [
       "0.9053"
      ]
     },
     "execution_count": 18,
     "metadata": {},
     "output_type": "execute_result"
    }
   ],
   "source": [
    "\"\"\"one-CONV-LAYERS-THICK\"\"\"\n",
    "scores_0= model_0.evaluate(x_test, y_test)\n",
    "scores_0[1]"
   ]
  },
  {
   "cell_type": "code",
   "execution_count": 19,
   "metadata": {},
   "outputs": [
    {
     "name": "stdout",
     "output_type": "stream",
     "text": [
      "10000/10000 [==============================] - 1s 89us/step\n"
     ]
    },
    {
     "data": {
      "text/plain": [
       "0.9239"
      ]
     },
     "execution_count": 19,
     "metadata": {},
     "output_type": "execute_result"
    }
   ],
   "source": [
    "\"\"\"two-CONV-LAYERS-THICK\"\"\"\n",
    "scores_1= model_1.evaluate(x_test, y_test)\n",
    "scores_1[1]"
   ]
  },
  {
   "cell_type": "code",
   "execution_count": 20,
   "metadata": {},
   "outputs": [
    {
     "name": "stdout",
     "output_type": "stream",
     "text": [
      "10000/10000 [==============================] - 1s 84us/step\n"
     ]
    },
    {
     "data": {
      "text/plain": [
       "0.9228"
      ]
     },
     "execution_count": 20,
     "metadata": {},
     "output_type": "execute_result"
    }
   ],
   "source": [
    "\"\"\"three-CONV-LAYERS-THICK\"\"\"\n",
    "scores_2= model_2.evaluate(x_test, y_test)\n",
    "scores_2[1]"
   ]
  },
  {
   "cell_type": "code",
   "execution_count": 21,
   "metadata": {},
   "outputs": [
    {
     "name": "stdout",
     "output_type": "stream",
     "text": [
      "10000/10000 [==============================] - 1s 102us/step\n"
     ]
    },
    {
     "data": {
      "text/plain": [
       "0.9492"
      ]
     },
     "execution_count": 21,
     "metadata": {},
     "output_type": "execute_result"
    }
   ],
   "source": [
    "\"\"\"four-CONV-LAYERS-THICK\"\"\"\n",
    "scores_3= model_3.evaluate(x_test, y_test)\n",
    "scores_3[1]"
   ]
  },
  {
   "cell_type": "code",
   "execution_count": 22,
   "metadata": {},
   "outputs": [
    {
     "name": "stdout",
     "output_type": "stream",
     "text": [
      "10000/10000 [==============================] - 1s 73us/step\n"
     ]
    },
    {
     "data": {
      "text/plain": [
       "0.9255"
      ]
     },
     "execution_count": 22,
     "metadata": {},
     "output_type": "execute_result"
    }
   ],
   "source": [
    "\"\"\"CNN\"\"\"\n",
    "scores_4= model_4.evaluate(x_test, y_test)\n",
    "scores_4[1]"
   ]
  },
  {
   "cell_type": "code",
   "execution_count": 23,
   "metadata": {},
   "outputs": [],
   "source": [
    "import matplotlib.pyplot as plt\n",
    "def show_train_history(train_history, train, validation):\n",
    "    plt.plot(train_history.history[train])\n",
    "    plt.plot(train_history.history[validation])\n",
    "    plt.title('Train History')\n",
    "    plt.ylabel(train)\n",
    "    plt.xlabel('Epoch')\n",
    "    plt.legend(['train', 'validation'], loc='best')\n",
    "    plt.show()"
   ]
  },
  {
   "cell_type": "code",
   "execution_count": 24,
   "metadata": {},
   "outputs": [
    {
     "data": {
      "image/png": "[encoded data removed]",
      "text/plain": [
       "<Figure size 432x288 with 1 Axes>"
      ]
     },
     "metadata": {
      "needs_background": "light"
     },
     "output_type": "display_data"
    }
   ],
   "source": [
    "show_train_history(train_history_0, 'acc', 'val_acc')"
   ]
  },
  {
   "cell_type": "code",
   "execution_count": 25,
   "metadata": {},
   "outputs": [
    {
     "data": {
      "image/png": "[encoded data removed]",
      "text/plain": [
       "<Figure size 432x288 with 1 Axes>"
      ]
     },
     "metadata": {
      "needs_background": "light"
     },
     "output_type": "display_data"
    }
   ],
   "source": [
    "show_train_history(train_history_1, 'acc', 'val_acc')"
   ]
  },
  {
   "cell_type": "code",
   "execution_count": 26,
   "metadata": {},
   "outputs": [
    {
     "data": {
      "image/png": "[encoded data removed]",
      "text/plain": [
       "<Figure size 432x288 with 1 Axes>"
      ]
     },
     "metadata": {
      "needs_background": "light"
     },
     "output_type": "display_data"
    }
   ],
   "source": [
    "show_train_history(train_history_2, 'acc', 'val_acc')"
   ]
  },
  {
   "cell_type": "code",
   "execution_count": 27,
   "metadata": {},
   "outputs": [
    {
     "data": {
      "image/png": "[encoded data removed]",
      "text/plain": [
       "<Figure size 432x288 with 1 Axes>"
      ]
     },
     "metadata": {
      "needs_background": "light"
     },
     "output_type": "display_data"
    }
   ],
   "source": [
    "show_train_history(train_history_3, 'acc', 'val_acc')"
   ]
  },
  {
   "cell_type": "code",
   "execution_count": 28,
   "metadata": {},
   "outputs": [
    {
     "data": {
      "image/png": "[encoded data removed]",
      "text/plain": [
       "<Figure size 432x288 with 1 Axes>"
      ]
     },
     "metadata": {
      "needs_background": "light"
     },
     "output_type": "display_data"
    }
   ],
   "source": [
    "show_train_history(train_history_4, 'acc', 'val_acc')"
   ]
  },
  {
   "cell_type": "code",
   "execution_count": 29,
   "metadata": {},
   "outputs": [],
   "source": [
    "# show_train_history(train_history_5, 'acc', 'val_acc')"
   ]
  },
  {
   "cell_type": "code",
   "execution_count": 30,
   "metadata": {},
   "outputs": [],
   "source": [
    "# show_train_history(train_history_6, 'acc', 'val_acc')"
   ]
  },
  {
   "cell_type": "code",
   "execution_count": 31,
   "metadata": {},
   "outputs": [
    {
     "data": {
      "image/png": "[encoded data removed]",
      "text/plain": [
       "<Figure size 432x288 with 1 Axes>"
      ]
     },
     "metadata": {
      "needs_background": "light"
     },
     "output_type": "display_data"
    }
   ],
   "source": [
    "plt.plot(train_history_0.history['val_acc'], 'r-')\n",
    "plt.plot(train_history_1.history['val_acc'], 'b--')\n",
    "plt.plot(train_history_2.history['val_acc'], 'k.')\n",
    "plt.plot(train_history_3.history['val_acc'], 'b-')\n",
    "plt.plot(train_history_4.history['val_acc'], 'h-')\n",
    "# plt.plot(train_history_5.history['val_acc'], 'c-')\n",
    "# plt.plot(train_history_6.history['val_acc'], 'g*-')\n",
    "# plt.plot(train_history_7.history['val_acc'], 'k-.')\n",
    "plt.title('Training on MNIST')\n",
    "plt.ylabel('Validation Accuracy')\n",
    "plt.xlabel('Epoch')\n",
    "plt.legend(['CapsNet: 1-conv','CapsNet: 2-conv','CapsNet: 3-conv','CapsNet: 4-conv','CNN-2CONV'], loc='best')\n",
    "plt.show()"
   ]
  },
  {
   "cell_type": "code",
   "execution_count": null,
   "metadata": {},
   "outputs": [],
   "source": []
  }
 ],
 "metadata": {
  "kernelspec": {
   "display_name": "Python 3",
   "language": "python",
   "name": "python3"
  },
  "language_info": {
   "codemirror_mode": {
    "name": "ipython",
    "version": 3
   },
   "file_extension": ".py",
   "mimetype": "text/x-python",
   "name": "python",
   "nbconvert_exporter": "python",
   "pygments_lexer": "ipython3",
   "version": "3.6.10"
  }
 },
 "nbformat": 4,
 "nbformat_minor": 2
}
