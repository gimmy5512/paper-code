{
 "cells": [
  {
   "cell_type": "code",
   "execution_count": 1,
   "metadata": {},
   "outputs": [],
   "source": [
    "import os\n"
   ]
  },
  {
   "cell_type": "code",
   "execution_count": 2,
   "metadata": {},
   "outputs": [
    {
     "name": "stderr",
     "output_type": "stream",
     "text": [
      "Using TensorFlow backend.\n",
      "C:\\Users\\ASUS\\Anaconda3\\envs\\tensorflow-gpu\\lib\\site-packages\\tensorflow\\python\\framework\\dtypes.py:526: FutureWarning: Passing (type, 1) or '1type' as a synonym of type is deprecated; in a future version of numpy, it will be understood as (type, (1,)) / '(1,)type'.\n",
      "  _np_qint8 = np.dtype([(\"qint8\", np.int8, 1)])\n",
      "C:\\Users\\ASUS\\Anaconda3\\envs\\tensorflow-gpu\\lib\\site-packages\\tensorflow\\python\\framework\\dtypes.py:527: FutureWarning: Passing (type, 1) or '1type' as a synonym of type is deprecated; in a future version of numpy, it will be understood as (type, (1,)) / '(1,)type'.\n",
      "  _np_quint8 = np.dtype([(\"quint8\", np.uint8, 1)])\n",
      "C:\\Users\\ASUS\\Anaconda3\\envs\\tensorflow-gpu\\lib\\site-packages\\tensorflow\\python\\framework\\dtypes.py:528: FutureWarning: Passing (type, 1) or '1type' as a synonym of type is deprecated; in a future version of numpy, it will be understood as (type, (1,)) / '(1,)type'.\n",
      "  _np_qint16 = np.dtype([(\"qint16\", np.int16, 1)])\n",
      "C:\\Users\\ASUS\\Anaconda3\\envs\\tensorflow-gpu\\lib\\site-packages\\tensorflow\\python\\framework\\dtypes.py:529: FutureWarning: Passing (type, 1) or '1type' as a synonym of type is deprecated; in a future version of numpy, it will be understood as (type, (1,)) / '(1,)type'.\n",
      "  _np_quint16 = np.dtype([(\"quint16\", np.uint16, 1)])\n",
      "C:\\Users\\ASUS\\Anaconda3\\envs\\tensorflow-gpu\\lib\\site-packages\\tensorflow\\python\\framework\\dtypes.py:530: FutureWarning: Passing (type, 1) or '1type' as a synonym of type is deprecated; in a future version of numpy, it will be understood as (type, (1,)) / '(1,)type'.\n",
      "  _np_qint32 = np.dtype([(\"qint32\", np.int32, 1)])\n",
      "C:\\Users\\ASUS\\Anaconda3\\envs\\tensorflow-gpu\\lib\\site-packages\\tensorflow\\python\\framework\\dtypes.py:535: FutureWarning: Passing (type, 1) or '1type' as a synonym of type is deprecated; in a future version of numpy, it will be understood as (type, (1,)) / '(1,)type'.\n",
      "  np_resource = np.dtype([(\"resource\", np.ubyte, 1)])\n"
     ]
    }
   ],
   "source": [
    "from __future__ import print_function\n",
    "from keras import backend as K\n",
    "from keras.layers import Layer\n",
    "from keras import activations\n",
    "from keras import utils\n",
    "from keras.datasets import mnist\n",
    "from keras.datasets import fashion_mnist\n",
    "from keras.models import Model\n",
    "from keras.layers import *\n",
    "from keras.preprocessing.image import ImageDataGenerator\n",
    "import cv2"
   ]
  },
  {
   "cell_type": "code",
   "execution_count": 3,
   "metadata": {},
   "outputs": [],
   "source": [
    "from tensorflow.compat.v1 import ConfigProto\n",
    "from tensorflow.compat.v1 import InteractiveSession\n",
    "\n",
    "config = ConfigProto()\n",
    "config.gpu_options.allow_growth = True\n",
    "session = InteractiveSession(config=config)"
   ]
  },
  {
   "cell_type": "code",
   "execution_count": 4,
   "metadata": {},
   "outputs": [],
   "source": [
    "Vld_Splt= 0.0909\n",
    "batch_size = 200\n",
    "num_classes = 10\n",
    "epochs = 30"
   ]
  },
  {
   "cell_type": "code",
   "execution_count": 5,
   "metadata": {},
   "outputs": [],
   "source": [
    "(x_train, y_train), (x_test, y_test) = fashion_mnist.load_data()\n",
    "\n",
    "x_train = x_train.reshape(x_train.shape[0], x_train.shape[1], x_train.shape[2], 1)\\\n",
    "         .astype('float32')\n",
    "x_test = x_test.reshape(x_test.shape[0], x_test.shape[1], x_test.shape[2], 1).\\\n",
    "         astype('float32')\n",
    "x_train /= 255\n",
    "x_test /= 255\n",
    "y_train = utils.to_categorical(y_train, num_classes)\n",
    "y_test = utils.to_categorical(y_test, num_classes)"
   ]
  },
  {
   "cell_type": "code",
   "execution_count": 6,
   "metadata": {},
   "outputs": [
    {
     "name": "stdout",
     "output_type": "stream",
     "text": [
      "(60000, 10) \n",
      " (10000, 10) \n",
      " (60000, 28, 28, 1) \n",
      " (10000, 28, 28, 1)\n"
     ]
    }
   ],
   "source": [
    "print(y_train.shape, '\\n',y_test.shape,'\\n',\n",
    "      x_train.shape,'\\n', x_test.shape)"
   ]
  },
  {
   "cell_type": "code",
   "execution_count": 7,
   "metadata": {},
   "outputs": [],
   "source": [
    "# the squashing function.\n",
    "# we use 0.5 in stead of 1 in hinton's paper.\n",
    "# if 1, the norm of vector will be zoomed out.\n",
    "# if 0.5, the norm will be zoomed in while original norm is less than 0.5\n",
    "# and be zoomed out while original norm is greater than 0.5.\n",
    "def squash(x, axis=-1):\n",
    "    s_squared_norm = K.sum(K.square(x), axis, keepdims=True) + K.epsilon()\n",
    "    scale = K.sqrt(s_squared_norm) / (0.5 + s_squared_norm)\n",
    "    return scale * x\n",
    "\n",
    "\n",
    "# define our own softmax function instead of K.softmax\n",
    "# because K.softmax can not specify axis.\n",
    "def softmax(x, axis=-1):\n",
    "    ex = K.exp(x - K.max(x, axis=axis, keepdims=True))\n",
    "    return ex / K.sum(ex, axis=axis, keepdims=True)\n",
    "\n",
    "\n",
    "# define the margin loss like hinge loss\n",
    "def margin_loss(y_true, y_pred):\n",
    "    lamb, margin = 0.5, 0.1\n",
    "    return K.sum(y_true * K.square(K.relu(1 - margin - y_pred)) + lamb * (\n",
    "        1 - y_true) * K.square(K.relu(y_pred - margin)), axis=-1)\n",
    "\n",
    "\n",
    "class Capsule(Layer):\n",
    "    \"\"\"A Capsule Implement with Pure Keras\n",
    "    There are two vesions of Capsule.\n",
    "    One is like dense layer (for the fixed-shape input),\n",
    "    and the other is like timedistributed dense (for various length input).\n",
    "\n",
    "    The input shape of Capsule must be (batch_size,\n",
    "                                        input_num_capsule,\n",
    "                                        input_dim_capsule\n",
    "                                       )\n",
    "    and the output shape is (batch_size,\n",
    "                             num_capsule,\n",
    "                             dim_capsule\n",
    "                            )\n",
    "\n",
    "    Capsule Implement is from https://github.com/bojone/Capsule/\n",
    "    Capsule Paper: https://arxiv.org/abs/1710.09829\n",
    "    \"\"\"\n",
    "\n",
    "    def __init__(self,\n",
    "                 num_capsule,\n",
    "                 dim_capsule,\n",
    "                 routings=3,\n",
    "                 share_weights=True,\n",
    "                 activation='squash',\n",
    "                 **kwargs):\n",
    "        super(Capsule, self).__init__(**kwargs)\n",
    "        self.num_capsule = num_capsule\n",
    "        self.dim_capsule = dim_capsule\n",
    "        self.routings = routings\n",
    "        self.share_weights = share_weights\n",
    "        if activation == 'squash':\n",
    "            self.activation = squash\n",
    "        else:\n",
    "            self.activation = activations.get(activation)\n",
    "\n",
    "    def build(self, input_shape):\n",
    "        input_dim_capsule = input_shape[-1]\n",
    "        if self.share_weights:\n",
    "            self.kernel = self.add_weight(\n",
    "                name='capsule_kernel',\n",
    "                shape=(1, input_dim_capsule,\n",
    "                       self.num_capsule * self.dim_capsule),\n",
    "                initializer='glorot_uniform',\n",
    "                trainable=True)\n",
    "        else:\n",
    "            input_num_capsule = input_shape[-2]\n",
    "            self.kernel = self.add_weight(\n",
    "                name='capsule_kernel',\n",
    "                shape=(input_num_capsule, input_dim_capsule,\n",
    "                       self.num_capsule * self.dim_capsule),\n",
    "                initializer='glorot_uniform',\n",
    "                trainable=True)\n",
    "\n",
    "    def call(self, inputs):\n",
    "        \"\"\"Following the routing algorithm from Hinton's paper,\n",
    "        but replace b = b + <u,v> with b = <u,v>.\n",
    "\n",
    "        This change can improve the feature representation of Capsule.\n",
    "\n",
    "        However, you can replace\n",
    "            b = K.batch_dot(outputs, hat_inputs, [2, 3])\n",
    "        with\n",
    "            b += K.batch_dot(outputs, hat_inputs, [2, 3])\n",
    "        to realize a standard routing.\n",
    "        \"\"\"\n",
    "\n",
    "        if self.share_weights:\n",
    "            hat_inputs = K.conv1d(inputs, self.kernel)\n",
    "        else:\n",
    "            hat_inputs = K.local_conv1d(inputs, self.kernel, [1], [1])\n",
    "\n",
    "        batch_size = K.shape(inputs)[0]\n",
    "        input_num_capsule = K.shape(inputs)[1]\n",
    "        hat_inputs = K.reshape(hat_inputs,\n",
    "                               (batch_size, input_num_capsule,\n",
    "                                self.num_capsule, self.dim_capsule))\n",
    "        hat_inputs = K.permute_dimensions(hat_inputs, (0, 2, 1, 3))\n",
    "\n",
    "        b = K.zeros_like(hat_inputs[:, :, :, 0])\n",
    "        for i in range(self.routings):\n",
    "            c = softmax(b, 1)\n",
    "            o = self.activation(K.batch_dot(c, hat_inputs, [2, 2]))\n",
    "            if i < self.routings - 1:\n",
    "                b = K.batch_dot(o, hat_inputs, [2, 3])\n",
    "                if K.backend() == 'theano':\n",
    "                    o = K.sum(o, axis=1)\n",
    "\n",
    "        return o\n",
    "\n",
    "    def compute_output_shape(self, input_shape):\n",
    "        return (None, self.num_capsule, self.dim_capsule)"
   ]
  },
  {
   "cell_type": "code",
   "execution_count": 8,
   "metadata": {},
   "outputs": [
    {
     "name": "stdout",
     "output_type": "stream",
     "text": [
      "WARNING:tensorflow:From C:\\Users\\ASUS\\Anaconda3\\envs\\tensorflow-gpu\\lib\\site-packages\\tensorflow\\python\\framework\\op_def_library.py:263: colocate_with (from tensorflow.python.framework.ops) is deprecated and will be removed in a future version.\n",
      "Instructions for updating:\n",
      "Colocations handled automatically by placer.\n",
      "WARNING:tensorflow:From C:\\Users\\ASUS\\Anaconda3\\envs\\tensorflow-gpu\\lib\\site-packages\\keras\\backend\\tensorflow_backend.py:3445: calling dropout (from tensorflow.python.ops.nn_ops) with keep_prob is deprecated and will be removed in a future version.\n",
      "Instructions for updating:\n",
      "Please use `rate` instead of `keep_prob`. Rate should be set to `rate = 1 - keep_prob`.\n",
      "_________________________________________________________________\n",
      "Layer (type)                 Output Shape              Param #   \n",
      "=================================================================\n",
      "input_1 (InputLayer)         (None, 28, 28, 1)         0         \n",
      "_________________________________________________________________\n",
      "conv2d_1 (Conv2D)            (None, 26, 26, 300)       3000      \n",
      "_________________________________________________________________\n",
      "dropout_1 (Dropout)          (None, 26, 26, 300)       0         \n",
      "_________________________________________________________________\n",
      "reshape_1 (Reshape)          (None, 676, 300)          0         \n",
      "_________________________________________________________________\n",
      "capsule_1 (Capsule)          (None, 10, 16)            48000     \n",
      "_________________________________________________________________\n",
      "lambda_1 (Lambda)            (None, 10)                0         \n",
      "=================================================================\n",
      "Total params: 51,000\n",
      "Trainable params: 51,000\n",
      "Non-trainable params: 0\n",
      "_________________________________________________________________\n"
     ]
    }
   ],
   "source": [
    "\"\"\"one-CONV-LAYERS-THICK\"\"\"\n",
    "input_image = Input(shape=(x_train.shape[1], x_train.shape[2], x_train.shape[3]))\n",
    "x_0 = Conv2D(filters= 300, kernel_size= 3, activation='relu', \n",
    "             padding= 'valid')(input_image)\n",
    "x_0= Dropout(0.1)(x_0)\n",
    "\n",
    "\n",
    "\"\"\"now we reshape it as (batch_size, input_num_capsule, input_dim_capsule)\n",
    "then connect a Capsule layer.\n",
    "\n",
    "the output of final model is the lengths of 10 Capsule, whose dim=16.\n",
    "\n",
    "the length of Capsule is the proba,\n",
    "so the problem becomes a 10 two-classification problem.\n",
    "\"\"\"\n",
    "\n",
    "x_0 = Reshape((-1, 300))(x_0)\n",
    "capsule_0 = Capsule(num_classes, 16, 3, True)(x_0)\n",
    "output_0 = Lambda(lambda z: K.sqrt(K.sum(K.square(z), 2)))(capsule_0)\n",
    "model_0 = Model(inputs= input_image, outputs= output_0)\n",
    "\n",
    "# we use a margin loss\n",
    "model_0.compile(loss =margin_loss, optimizer='adam', metrics=['accuracy'])\n",
    "model_0.summary()\n",
    "\n",
    "# we can compare the performance with or without data augmentation\n",
    "data_augmentation = False"
   ]
  },
  {
   "cell_type": "code",
   "execution_count": 9,
   "metadata": {},
   "outputs": [
    {
     "name": "stdout",
     "output_type": "stream",
     "text": [
      "_________________________________________________________________\n",
      "Layer (type)                 Output Shape              Param #   \n",
      "=================================================================\n",
      "input_2 (InputLayer)         (None, 28, 28, 1)         0         \n",
      "_________________________________________________________________\n",
      "conv2d_2 (Conv2D)            (None, 26, 26, 20)        200       \n",
      "_________________________________________________________________\n",
      "dropout_2 (Dropout)          (None, 26, 26, 20)        0         \n",
      "_________________________________________________________________\n",
      "conv2d_3 (Conv2D)            (None, 24, 24, 150)       27150     \n",
      "_________________________________________________________________\n",
      "dropout_3 (Dropout)          (None, 24, 24, 150)       0         \n",
      "_________________________________________________________________\n",
      "reshape_2 (Reshape)          (None, 576, 150)          0         \n",
      "_________________________________________________________________\n",
      "capsule_2 (Capsule)          (None, 10, 16)            24000     \n",
      "_________________________________________________________________\n",
      "lambda_2 (Lambda)            (None, 10)                0         \n",
      "=================================================================\n",
      "Total params: 51,350\n",
      "Trainable params: 51,350\n",
      "Non-trainable params: 0\n",
      "_________________________________________________________________\n"
     ]
    }
   ],
   "source": [
    "\"\"\"two-CONV-LAYERS-THICK\"\"\"\n",
    "input_image = Input(shape=(x_train.shape[1], x_train.shape[2], x_train.shape[3]))\n",
    "x_1 = Conv2D(filters= 20, kernel_size= 3, activation='relu', \n",
    "             padding= 'valid')(input_image)\n",
    "x_1= Dropout(0.1)(x_1)\n",
    "x_1 = Conv2D(filters= 150, kernel_size= 3, activation='relu',\n",
    "             strides= 1)(x_1)\n",
    "x_1 = Dropout(0.1)(x_1)\n",
    "\n",
    "\n",
    "\"\"\"now we reshape it as (batch_size, input_num_capsule, input_dim_capsule)\n",
    "then connect a Capsule layer.\n",
    "\n",
    "the output of final model is the lengths of 10 Capsule, whose dim=16.\n",
    "\n",
    "the length of Capsule is the proba,\n",
    "so the problem becomes a 10 two-classification problem.\n",
    "\"\"\"\n",
    "\n",
    "x_1 = Reshape((-1, 150))(x_1)\n",
    "capsule_1 = Capsule(num_classes, 16, 3, True)(x_1)\n",
    "output_1 = Lambda(lambda z: K.sqrt(K.sum(K.square(z), 2)))(capsule_1)\n",
    "model_1= Model(inputs= input_image, outputs= output_1)\n",
    "\n",
    "# we use a margin loss\n",
    "model_1.compile(loss =margin_loss, optimizer='adam', metrics=['accuracy'])\n",
    "model_1.summary()\n",
    "\n",
    "# we can compare the performance with or without data augmentation\n",
    "data_augmentation = False"
   ]
  },
  {
   "cell_type": "code",
   "execution_count": 10,
   "metadata": {},
   "outputs": [
    {
     "name": "stdout",
     "output_type": "stream",
     "text": [
      "_________________________________________________________________\n",
      "Layer (type)                 Output Shape              Param #   \n",
      "=================================================================\n",
      "input_3 (InputLayer)         (None, 28, 28, 1)         0         \n",
      "_________________________________________________________________\n",
      "conv2d_4 (Conv2D)            (None, 26, 26, 20)        200       \n",
      "_________________________________________________________________\n",
      "dropout_4 (Dropout)          (None, 26, 26, 20)        0         \n",
      "_________________________________________________________________\n",
      "conv2d_5 (Conv2D)            (None, 24, 24, 55)        9955      \n",
      "_________________________________________________________________\n",
      "dropout_5 (Dropout)          (None, 24, 24, 55)        0         \n",
      "_________________________________________________________________\n",
      "conv2d_6 (Conv2D)            (None, 22, 22, 62)        30752     \n",
      "_________________________________________________________________\n",
      "dropout_6 (Dropout)          (None, 22, 22, 62)        0         \n",
      "_________________________________________________________________\n",
      "reshape_3 (Reshape)          (None, 484, 62)           0         \n",
      "_________________________________________________________________\n",
      "capsule_3 (Capsule)          (None, 10, 16)            9920      \n",
      "_________________________________________________________________\n",
      "lambda_3 (Lambda)            (None, 10)                0         \n",
      "=================================================================\n",
      "Total params: 50,827\n",
      "Trainable params: 50,827\n",
      "Non-trainable params: 0\n",
      "_________________________________________________________________\n"
     ]
    }
   ],
   "source": [
    "\"\"\"three-CONV-LAYERS-THICK\"\"\"\n",
    "input_image = Input(shape=(x_train.shape[1], x_train.shape[2], x_train.shape[3]))\n",
    "x_2 = Conv2D(filters= 20, kernel_size= 3, activation='relu', \n",
    "             padding= 'valid')(input_image)\n",
    "x_2=  Dropout(0.1)(x_2)\n",
    "x_2 = Conv2D(filters= 55, kernel_size= 3, activation='relu',\n",
    "             strides= 1)(x_2)\n",
    "x_2 = Dropout(0.1)(x_2)\n",
    "x_2 = Conv2D(filters= 62, kernel_size= 3, activation='relu',\n",
    "             strides= 1)(x_2)\n",
    "x_2 = Dropout(0.1)(x_2)\n",
    "\n",
    "\n",
    "\"\"\"now we reshape it as (batch_size, input_num_capsule, input_dim_capsule)\n",
    "then connect a Capsule layer.\n",
    "\n",
    "the output of final model is the lengths of 10 Capsule, whose dim=16.\n",
    "\n",
    "the length of Capsule is the proba,\n",
    "so the problem becomes a 10 two-classification problem.\n",
    "\"\"\"\n",
    "\n",
    "x_2 = Reshape((-1, 62))(x_2)\n",
    "capsule_2 = Capsule(num_classes, 16, 3, True)(x_2)\n",
    "output_2 = Lambda(lambda z: K.sqrt(K.sum(K.square(z), 2)))(capsule_2)\n",
    "model_2= Model(inputs= input_image, outputs= output_2)\n",
    "\n",
    "# we use a margin loss\n",
    "model_2.compile(loss =margin_loss, optimizer='adam', metrics=['accuracy'])\n",
    "model_2.summary()\n",
    "\n",
    "# we can compare the performance with or without data augmentation\n",
    "data_augmentation = False"
   ]
  },
  {
   "cell_type": "code",
   "execution_count": 11,
   "metadata": {},
   "outputs": [
    {
     "name": "stdout",
     "output_type": "stream",
     "text": [
      "_________________________________________________________________\n",
      "Layer (type)                 Output Shape              Param #   \n",
      "=================================================================\n",
      "input_4 (InputLayer)         (None, 28, 28, 1)         0         \n",
      "_________________________________________________________________\n",
      "conv2d_7 (Conv2D)            (None, 26, 26, 20)        200       \n",
      "_________________________________________________________________\n",
      "dropout_7 (Dropout)          (None, 26, 26, 20)        0         \n",
      "_________________________________________________________________\n",
      "conv2d_8 (Conv2D)            (None, 24, 24, 35)        6335      \n",
      "_________________________________________________________________\n",
      "dropout_8 (Dropout)          (None, 24, 24, 35)        0         \n",
      "_________________________________________________________________\n",
      "conv2d_9 (Conv2D)            (None, 22, 22, 45)        14220     \n",
      "_________________________________________________________________\n",
      "dropout_9 (Dropout)          (None, 22, 22, 45)        0         \n",
      "_________________________________________________________________\n",
      "conv2d_10 (Conv2D)           (None, 20, 20, 55)        22330     \n",
      "_________________________________________________________________\n",
      "dropout_10 (Dropout)         (None, 20, 20, 55)        0         \n",
      "_________________________________________________________________\n",
      "reshape_4 (Reshape)          (None, 400, 55)           0         \n",
      "_________________________________________________________________\n",
      "capsule_4 (Capsule)          (None, 10, 16)            8800      \n",
      "_________________________________________________________________\n",
      "lambda_4 (Lambda)            (None, 10)                0         \n",
      "=================================================================\n",
      "Total params: 51,885\n",
      "Trainable params: 51,885\n",
      "Non-trainable params: 0\n",
      "_________________________________________________________________\n"
     ]
    }
   ],
   "source": [
    "\"\"\"four-CONV-LAYERS-THICK\"\"\"\n",
    "input_image = Input(shape=(x_train.shape[1], x_train.shape[2], x_train.shape[3]))\n",
    "x_3 = Conv2D(filters= 20, kernel_size= 3, activation='relu', \n",
    "             padding= 'valid')(input_image)\n",
    "x_3= Dropout(0.1)(x_3)\n",
    "x_3 = Conv2D(filters= 35,kernel_size= 3, activation='relu',\n",
    "             strides= 1)(x_3)\n",
    "x_3 = Dropout(0.1)(x_3)\n",
    "x_3 = Conv2D(filters= 45 , kernel_size= 3, activation='relu',\n",
    "             strides= 1)(x_3)\n",
    "x_3= Dropout(0.1)(x_3)\n",
    "x_3 = Conv2D(filters= 55, kernel_size= 3, activation='relu',\n",
    "             strides= 1)(x_3)\n",
    "x_3= Dropout(0.1)(x_3)\n",
    "\n",
    "\n",
    "\"\"\"now we reshape it as (batch_size, input_num_capsule, input_dim_capsule)\n",
    "then connect a Capsule layer.\n",
    "\n",
    "the output of final model is the lengths of 10 Capsule, whose dim=16.\n",
    "\n",
    "the length of Capsule is the proba,\n",
    "so the problem becomes a 10 two-classification problem.\n",
    "\"\"\"\n",
    "\n",
    "x_3 = Reshape((-1, 55))(x_3)\n",
    "capsule_3 = Capsule(num_classes, 16, 3, True)(x_3)\n",
    "output_3 = Lambda(lambda z: K.sqrt(K.sum(K.square(z), 2)))(capsule_3)\n",
    "model_3= Model(inputs= input_image, outputs= output_3)\n",
    "\n",
    "# we use a margin loss\n",
    "model_3.compile(loss =margin_loss, optimizer='adam', metrics=['accuracy'])\n",
    "model_3.summary()\n",
    "\n",
    "# we can compare the performance with or without data augmentation\n",
    "data_augmentation = False"
   ]
  },
  {
   "cell_type": "code",
   "execution_count": 12,
   "metadata": {},
   "outputs": [
    {
     "name": "stdout",
     "output_type": "stream",
     "text": [
      "_________________________________________________________________\n",
      "Layer (type)                 Output Shape              Param #   \n",
      "=================================================================\n",
      "input_5 (InputLayer)         (None, 28, 28, 1)         0         \n",
      "_________________________________________________________________\n",
      "conv2d_11 (Conv2D)           (None, 26, 26, 20)        200       \n",
      "_________________________________________________________________\n",
      "dropout_11 (Dropout)         (None, 26, 26, 20)        0         \n",
      "_________________________________________________________________\n",
      "conv2d_12 (Conv2D)           (None, 12, 12, 30)        5430      \n",
      "_________________________________________________________________\n",
      "dropout_12 (Dropout)         (None, 12, 12, 30)        0         \n",
      "_________________________________________________________________\n",
      "conv2d_13 (Conv2D)           (None, 10, 10, 30)        8130      \n",
      "_________________________________________________________________\n",
      "dropout_13 (Dropout)         (None, 10, 10, 30)        0         \n",
      "_________________________________________________________________\n",
      "conv2d_14 (Conv2D)           (None, 8, 8, 35)          9485      \n",
      "_________________________________________________________________\n",
      "dropout_14 (Dropout)         (None, 8, 8, 35)          0         \n",
      "_________________________________________________________________\n",
      "conv2d_15 (Conv2D)           (None, 6, 6, 57)          18012     \n",
      "_________________________________________________________________\n",
      "dropout_15 (Dropout)         (None, 6, 6, 57)          0         \n",
      "_________________________________________________________________\n",
      "reshape_5 (Reshape)          (None, 36, 57)            0         \n",
      "_________________________________________________________________\n",
      "capsule_5 (Capsule)          (None, 10, 16)            9120      \n",
      "_________________________________________________________________\n",
      "lambda_5 (Lambda)            (None, 10)                0         \n",
      "=================================================================\n",
      "Total params: 50,377\n",
      "Trainable params: 50,377\n",
      "Non-trainable params: 0\n",
      "_________________________________________________________________\n"
     ]
    }
   ],
   "source": [
    "\"\"\"five-CONV-LAYERS-THICK\"\"\"\n",
    "input_image = Input(shape=(x_train.shape[1], x_train.shape[2], x_train.shape[3]))\n",
    "x_4 = Conv2D(filters= 20, kernel_size= 3, activation='relu', \n",
    "             padding= 'valid')(input_image)\n",
    "x_4= Dropout(0.1)(x_4)\n",
    "x_4 = Conv2D(filters= 30 ,kernel_size= 3, activation='relu',\n",
    "             strides= 2)(x_4)\n",
    "x_4 = Dropout(0.1)(x_4)\n",
    "x_4 = Conv2D(filters= 30 , kernel_size= 3, activation='relu',\n",
    "             strides= 1)(x_4)\n",
    "x_4= Dropout(0.1)(x_4)\n",
    "x_4 = Conv2D(filters= 35,kernel_size= 3, activation='relu',\n",
    "             strides= 1)(x_4)\n",
    "x_4= Dropout(0.1)(x_4)\n",
    "x_4 = Conv2D(filters= 57,kernel_size= 3, activation='relu',\n",
    "             strides= 1)(x_4)\n",
    "x_4= Dropout(0.1)(x_4)\n",
    "\n",
    "\"\"\"now we reshape it as (batch_size, input_num_capsule, input_dim_capsule)\n",
    "then connect a Capsule layer.\n",
    "\n",
    "the output of final model is the lengths of 10 Capsule, whose dim=16.\n",
    "\n",
    "the length of Capsule is the proba,\n",
    "so the problem becomes a 10 two-classification problem.\n",
    "\"\"\"\n",
    "\n",
    "x_4 = Reshape((-1, 57))(x_4)\n",
    "capsule_4 = Capsule(num_classes, 16, 3, True)(x_4)\n",
    "output_4 = Lambda(lambda z: K.sqrt(K.sum(K.square(z), 2)))(capsule_4)\n",
    "model_4= Model(inputs= input_image, outputs= output_4)\n",
    "\n",
    "# we use a margin loss\n",
    "model_4.compile(loss =margin_loss, optimizer='adam', metrics=['accuracy'])\n",
    "model_4.summary()\n",
    "\n",
    "# we can compare the performance with or without data augmentation\n",
    "data_augmentation = False"
   ]
  },
  {
   "cell_type": "code",
   "execution_count": 13,
   "metadata": {},
   "outputs": [
    {
     "name": "stdout",
     "output_type": "stream",
     "text": [
      "_________________________________________________________________\n",
      "Layer (type)                 Output Shape              Param #   \n",
      "=================================================================\n",
      "input_6 (InputLayer)         (None, 28, 28, 1)         0         \n",
      "_________________________________________________________________\n",
      "conv2d_16 (Conv2D)           (None, 26, 26, 20)        200       \n",
      "_________________________________________________________________\n",
      "dropout_16 (Dropout)         (None, 26, 26, 20)        0         \n",
      "_________________________________________________________________\n",
      "conv2d_17 (Conv2D)           (None, 12, 12, 25)        4525      \n",
      "_________________________________________________________________\n",
      "dropout_17 (Dropout)         (None, 12, 12, 25)        0         \n",
      "_________________________________________________________________\n",
      "conv2d_18 (Conv2D)           (None, 10, 10, 30)        6780      \n",
      "_________________________________________________________________\n",
      "dropout_18 (Dropout)         (None, 10, 10, 30)        0         \n",
      "_________________________________________________________________\n",
      "conv2d_19 (Conv2D)           (None, 8, 8, 30)          8130      \n",
      "_________________________________________________________________\n",
      "dropout_19 (Dropout)         (None, 8, 8, 30)          0         \n",
      "_________________________________________________________________\n",
      "conv2d_20 (Conv2D)           (None, 6, 6, 35)          9485      \n",
      "_________________________________________________________________\n",
      "dropout_20 (Dropout)         (None, 6, 6, 35)          0         \n",
      "_________________________________________________________________\n",
      "conv2d_21 (Conv2D)           (None, 4, 4, 45)          14220     \n",
      "_________________________________________________________________\n",
      "dropout_21 (Dropout)         (None, 4, 4, 45)          0         \n",
      "_________________________________________________________________\n",
      "reshape_6 (Reshape)          (None, 16, 45)            0         \n",
      "_________________________________________________________________\n",
      "capsule_6 (Capsule)          (None, 10, 16)            7200      \n",
      "_________________________________________________________________\n",
      "lambda_6 (Lambda)            (None, 10)                0         \n",
      "=================================================================\n",
      "Total params: 50,540\n",
      "Trainable params: 50,540\n",
      "Non-trainable params: 0\n",
      "_________________________________________________________________\n"
     ]
    }
   ],
   "source": [
    "\"\"\"six-CONV-LAYERS-THICK\"\"\"\n",
    "input_image = Input(shape=(x_train.shape[1], x_train.shape[2], x_train.shape[3]))\n",
    "x_5 = Conv2D(filters= 20, kernel_size= 3, activation='relu', \n",
    "             padding= 'valid')(input_image)\n",
    "x_5= Dropout(0.1)(x_5)\n",
    "x_5 = Conv2D(filters= 25 ,kernel_size= 3, activation='relu',\n",
    "             strides= 2)(x_5)\n",
    "x_5 = Dropout(0.1)(x_5)\n",
    "x_5 = Conv2D(filters= 30, kernel_size= 3, activation='relu',\n",
    "             strides= 1)(x_5)\n",
    "x_5= Dropout(0.1)(x_5)\n",
    "x_5 = Conv2D(filters= 30,kernel_size= 3, activation='relu',\n",
    "             strides= 1)(x_5)\n",
    "x_5= Dropout(0.1)(x_5)\n",
    "x_5 = Conv2D(filters= 35,kernel_size= 3, activation='relu',\n",
    "             strides= 1)(x_5)\n",
    "x_5= Dropout(0.1)(x_5)\n",
    "x_5 = Conv2D(filters= 45,kernel_size= 3, activation='relu',\n",
    "             strides= 1)(x_5)\n",
    "x_5= Dropout(0.1)(x_5)\n",
    "\n",
    "\"\"\"now we reshape it as (batch_size, input_num_capsule, input_dim_capsule)\n",
    "then connect a Capsule layer.\n",
    "\n",
    "the output of final model is the lengths of 10 Capsule, whose dim=16.\n",
    "\n",
    "the length of Capsule is the proba,\n",
    "so the problem becomes a 10 two-classification problem.\n",
    "\"\"\"\n",
    "\n",
    "x_5 = Reshape((-1, 45))(x_5)\n",
    "capsule_5 = Capsule(num_classes, 16, 3, True)(x_5)\n",
    "output_5 = Lambda(lambda z: K.sqrt(K.sum(K.square(z), 2)))(capsule_5)\n",
    "model_5= Model(inputs= input_image, outputs= output_5)\n",
    "\n",
    "# we use a margin loss\n",
    "model_5.compile(loss =margin_loss, optimizer='adam', metrics=['accuracy'])\n",
    "model_5.summary()\n",
    "\n",
    "# we can compare the performance with or without data augmentation\n",
    "data_augmentation = False"
   ]
  },
  {
   "cell_type": "code",
   "execution_count": 14,
   "metadata": {},
   "outputs": [
    {
     "name": "stdout",
     "output_type": "stream",
     "text": [
      "_________________________________________________________________\n",
      "Layer (type)                 Output Shape              Param #   \n",
      "=================================================================\n",
      "input_7 (InputLayer)         (None, 28, 28, 1)         0         \n",
      "_________________________________________________________________\n",
      "conv2d_22 (Conv2D)           (None, 26, 26, 20)        200       \n",
      "_________________________________________________________________\n",
      "dropout_22 (Dropout)         (None, 26, 26, 20)        0         \n",
      "_________________________________________________________________\n",
      "conv2d_23 (Conv2D)           (None, 26, 26, 20)        3620      \n",
      "_________________________________________________________________\n",
      "dropout_23 (Dropout)         (None, 26, 26, 20)        0         \n",
      "_________________________________________________________________\n",
      "conv2d_24 (Conv2D)           (None, 12, 12, 25)        4525      \n",
      "_________________________________________________________________\n",
      "dropout_24 (Dropout)         (None, 12, 12, 25)        0         \n",
      "_________________________________________________________________\n",
      "conv2d_25 (Conv2D)           (None, 10, 10, 30)        6780      \n",
      "_________________________________________________________________\n",
      "dropout_25 (Dropout)         (None, 10, 10, 30)        0         \n",
      "_________________________________________________________________\n",
      "conv2d_26 (Conv2D)           (None, 10, 10, 30)        8130      \n",
      "_________________________________________________________________\n",
      "dropout_26 (Dropout)         (None, 10, 10, 30)        0         \n",
      "_________________________________________________________________\n",
      "conv2d_27 (Conv2D)           (None, 8, 8, 40)          10840     \n",
      "_________________________________________________________________\n",
      "dropout_27 (Dropout)         (None, 8, 8, 40)          0         \n",
      "_________________________________________________________________\n",
      "conv2d_28 (Conv2D)           (None, 6, 6, 40)          14440     \n",
      "_________________________________________________________________\n",
      "dropout_28 (Dropout)         (None, 6, 6, 40)          0         \n",
      "_________________________________________________________________\n",
      "reshape_7 (Reshape)          (None, 36, 40)            0         \n",
      "_________________________________________________________________\n",
      "capsule_7 (Capsule)          (None, 10, 16)            6400      \n",
      "_________________________________________________________________\n",
      "lambda_7 (Lambda)            (None, 10)                0         \n",
      "=================================================================\n",
      "Total params: 54,935\n",
      "Trainable params: 54,935\n",
      "Non-trainable params: 0\n",
      "_________________________________________________________________\n"
     ]
    }
   ],
   "source": [
    "\"\"\"seven-CONV-LAYERS-THICK\"\"\"\n",
    "input_image = Input(shape=(x_train.shape[1], x_train.shape[2], x_train.shape[3]))\n",
    "x_6 = Conv2D(filters= 20, kernel_size= 3, activation='relu', \n",
    "             padding= 'valid')(input_image)\n",
    "x_6= Dropout(0.1)(x_6)\n",
    "x_6 = Conv2D(filters= 20 ,kernel_size= 3, activation='relu',\n",
    "             padding= 'same')(x_6)\n",
    "x_6 = Dropout(0.1)(x_6)\n",
    "x_6 = Conv2D(filters= 25, kernel_size= 3, activation='relu',\n",
    "             strides= 2)(x_6)\n",
    "x_6= Dropout(0.1)(x_6)\n",
    "x_6 = Conv2D(filters= 30,kernel_size= 3, activation='relu',\n",
    "             strides= 1)(x_6)\n",
    "x_6= Dropout(0.1)(x_6)\n",
    "x_6 = Conv2D(filters= 30,kernel_size= 3, activation='relu',\n",
    "             padding= 'same')(x_6)\n",
    "x_6= Dropout(0.1)(x_6)\n",
    "x_6 = Conv2D(filters= 40,kernel_size= 3, activation='relu',\n",
    "             strides= 1)(x_6)\n",
    "x_6= Dropout(0.1)(x_6)\n",
    "x_6 = Conv2D(filters= 40,kernel_size= 3, activation='relu',\n",
    "             strides= 1)(x_6)\n",
    "x_6= Dropout(0.1)(x_6)\n",
    "\n",
    "\"\"\"now we reshape it as (batch_size, input_num_capsule, input_dim_capsule)\n",
    "then connect a Capsule layer.\n",
    "\n",
    "the output of final model is the lengths of 10 Capsule, whose dim=16.\n",
    "\n",
    "the length of Capsule is the proba,\n",
    "so the problem becomes a 10 two-classification problem.\n",
    "\"\"\"\n",
    "\n",
    "x_6 = Reshape((-1, 40))(x_6)\n",
    "capsule_6 = Capsule(num_classes, 16, 3, True)(x_6)\n",
    "output_6 = Lambda(lambda z: K.sqrt(K.sum(K.square(z), 2)))(capsule_6)\n",
    "model_6= Model(inputs= input_image, outputs= output_6)\n",
    "\n",
    "# we use a margin loss\n",
    "model_6.compile(loss =margin_loss, optimizer='adam', metrics=['accuracy'])\n",
    "model_6.summary()\n",
    "\n",
    "# we can compare the performance with or without data augmentation\n",
    "data_augmentation = False"
   ]
  },
  {
   "cell_type": "code",
   "execution_count": 15,
   "metadata": {},
   "outputs": [
    {
     "name": "stdout",
     "output_type": "stream",
     "text": [
      "_________________________________________________________________\n",
      "Layer (type)                 Output Shape              Param #   \n",
      "=================================================================\n",
      "conv2d_29 (Conv2D)           (None, 26, 26, 10)        100       \n",
      "_________________________________________________________________\n",
      "max_pooling2d_1 (MaxPooling2 (None, 13, 13, 10)        0         \n",
      "_________________________________________________________________\n",
      "conv2d_30 (Conv2D)           (None, 11, 11, 20)        1820      \n",
      "_________________________________________________________________\n",
      "dropout_29 (Dropout)         (None, 11, 11, 20)        0         \n",
      "_________________________________________________________________\n",
      "max_pooling2d_2 (MaxPooling2 (None, 5, 5, 20)          0         \n",
      "_________________________________________________________________\n",
      "flatten_1 (Flatten)          (None, 500)               0         \n",
      "_________________________________________________________________\n",
      "dropout_30 (Dropout)         (None, 500)               0         \n",
      "_________________________________________________________________\n",
      "dense_1 (Dense)              (None, 256)               128256    \n",
      "_________________________________________________________________\n",
      "dense_2 (Dense)              (None, 10)                2570      \n",
      "=================================================================\n",
      "Total params: 132,746\n",
      "Trainable params: 132,746\n",
      "Non-trainable params: 0\n",
      "_________________________________________________________________\n",
      "None\n"
     ]
    }
   ],
   "source": [
    "\"\"\"CNN-3-CONV-LAYERS\"\"\"\n",
    "from keras.models import Sequential\n",
    "from keras.layers import Dense, Dropout, Activation, Flatten, Conv2D, MaxPooling2D, \\\n",
    "                         ZeroPadding2D\n",
    "\n",
    "model_7= Sequential()\n",
    "model_7.add(Conv2D(filters= 10, kernel_size= (3, 3), padding= 'valid', \n",
    "                   input_shape=(x_train.shape[1], x_train.shape[2], x_train.shape[3]), \n",
    "                   activation='relu'))\n",
    "model_7.add(MaxPooling2D(pool_size=(2,2)))\n",
    "model_7.add(Conv2D(filters= 20, kernel_size= (3, 3), \n",
    "                    padding= 'valid', activation='relu'))\n",
    "model_7.add(Dropout(0.4))\n",
    "model_7.add(MaxPooling2D(pool_size=(2,2)))\n",
    "\n",
    "model_7.add(Flatten())\n",
    "model_7.add(Dropout(0.5))\n",
    "model_7.add(Dense(256, activation='relu'))\n",
    "model_7.add(Dense(num_classes, activation='softmax'))\n",
    "print(model_7.summary())"
   ]
  },
  {
   "cell_type": "code",
   "execution_count": 16,
   "metadata": {},
   "outputs": [
    {
     "name": "stdout",
     "output_type": "stream",
     "text": [
      "Not using data augmentation.\n",
      "WARNING:tensorflow:From C:\\Users\\ASUS\\Anaconda3\\envs\\tensorflow-gpu\\lib\\site-packages\\tensorflow\\python\\ops\\math_ops.py:3066: to_int32 (from tensorflow.python.ops.math_ops) is deprecated and will be removed in a future version.\n",
      "Instructions for updating:\n",
      "Use tf.cast instead.\n",
      "WARNING:tensorflow:From C:\\Users\\ASUS\\Anaconda3\\envs\\tensorflow-gpu\\lib\\site-packages\\tensorflow\\python\\ops\\math_grad.py:102: div (from tensorflow.python.ops.math_ops) is deprecated and will be removed in a future version.\n",
      "Instructions for updating:\n",
      "Deprecated in favor of operator or tf.math.divide.\n",
      "Train on 54546 samples, validate on 5454 samples\n",
      "Epoch 1/30\n",
      "54546/54546 [==============================] - 22s 412us/step - loss: 0.4071 - acc: 0.5661 - val_loss: 0.2667 - val_acc: 0.6808\n",
      "Epoch 2/30\n",
      "54546/54546 [==============================] - 20s 371us/step - loss: 0.2504 - acc: 0.7230 - val_loss: 0.2385 - val_acc: 0.7343\n",
      "Epoch 3/30\n",
      "54546/54546 [==============================] - 20s 373us/step - loss: 0.2248 - acc: 0.7539 - val_loss: 0.2175 - val_acc: 0.7750\n",
      "Epoch 4/30\n",
      "54546/54546 [==============================] - 20s 373us/step - loss: 0.2159 - acc: 0.7646 - val_loss: 0.2153 - val_acc: 0.7651\n",
      "Epoch 5/30\n",
      "54546/54546 [==============================] - 20s 372us/step - loss: 0.2084 - acc: 0.7727 - val_loss: 0.2168 - val_acc: 0.7701\n",
      "Epoch 6/30\n",
      "54546/54546 [==============================] - 20s 373us/step - loss: 0.2039 - acc: 0.7775 - val_loss: 0.1926 - val_acc: 0.7923\n",
      "Epoch 7/30\n",
      "54546/54546 [==============================] - 20s 373us/step - loss: 0.1980 - acc: 0.7818 - val_loss: 0.1987 - val_acc: 0.7824\n",
      "Epoch 8/30\n",
      "54546/54546 [==============================] - 20s 374us/step - loss: 0.1954 - acc: 0.7834 - val_loss: 0.1896 - val_acc: 0.7956\n",
      "Epoch 9/30\n",
      "54546/54546 [==============================] - 20s 374us/step - loss: 0.1938 - acc: 0.7849 - val_loss: 0.1880 - val_acc: 0.7912\n",
      "Epoch 10/30\n",
      "54546/54546 [==============================] - 20s 374us/step - loss: 0.1894 - acc: 0.7923 - val_loss: 0.1925 - val_acc: 0.7800\n",
      "Epoch 11/30\n",
      "54546/54546 [==============================] - 20s 374us/step - loss: 0.1879 - acc: 0.7916 - val_loss: 0.1906 - val_acc: 0.7805\n",
      "Epoch 12/30\n",
      "54546/54546 [==============================] - 20s 374us/step - loss: 0.1851 - acc: 0.7938 - val_loss: 0.1838 - val_acc: 0.7959\n",
      "Epoch 13/30\n",
      "54546/54546 [==============================] - 20s 375us/step - loss: 0.1847 - acc: 0.7948 - val_loss: 0.1771 - val_acc: 0.8011\n",
      "Epoch 14/30\n",
      "54546/54546 [==============================] - 20s 375us/step - loss: 0.1833 - acc: 0.7958 - val_loss: 0.1831 - val_acc: 0.7930\n",
      "Epoch 15/30\n",
      "54546/54546 [==============================] - 21s 384us/step - loss: 0.1806 - acc: 0.7984 - val_loss: 0.1806 - val_acc: 0.7965\n",
      "Epoch 16/30\n",
      "54546/54546 [==============================] - 21s 385us/step - loss: 0.1797 - acc: 0.8001 - val_loss: 0.1776 - val_acc: 0.8044\n",
      "Epoch 17/30\n",
      "54546/54546 [==============================] - 21s 380us/step - loss: 0.1777 - acc: 0.8034 - val_loss: 0.1758 - val_acc: 0.7976\n",
      "Epoch 18/30\n",
      "54546/54546 [==============================] - 21s 376us/step - loss: 0.1772 - acc: 0.8047 - val_loss: 0.1838 - val_acc: 0.7910\n",
      "Epoch 19/30\n",
      "54546/54546 [==============================] - 20s 375us/step - loss: 0.1773 - acc: 0.8035 - val_loss: 0.1791 - val_acc: 0.8069\n",
      "Epoch 20/30\n",
      "54546/54546 [==============================] - 21s 376us/step - loss: 0.1754 - acc: 0.8044 - val_loss: 0.1741 - val_acc: 0.7952\n",
      "Epoch 21/30\n",
      "54546/54546 [==============================] - 21s 376us/step - loss: 0.1758 - acc: 0.8030 - val_loss: 0.1693 - val_acc: 0.8060\n",
      "Epoch 22/30\n",
      "54546/54546 [==============================] - 21s 377us/step - loss: 0.1732 - acc: 0.8082 - val_loss: 0.1724 - val_acc: 0.8124\n",
      "Epoch 23/30\n",
      "54546/54546 [==============================] - 21s 381us/step - loss: 0.1739 - acc: 0.8073 - val_loss: 0.1685 - val_acc: 0.8104\n",
      "Epoch 24/30\n",
      "54546/54546 [==============================] - 20s 376us/step - loss: 0.1724 - acc: 0.8096 - val_loss: 0.1687 - val_acc: 0.8139\n",
      "Epoch 25/30\n",
      "54546/54546 [==============================] - 20s 375us/step - loss: 0.1715 - acc: 0.8101 - val_loss: 0.1728 - val_acc: 0.8018\n",
      "Epoch 26/30\n",
      "54546/54546 [==============================] - 21s 376us/step - loss: 0.1700 - acc: 0.8106 - val_loss: 0.1646 - val_acc: 0.8146\n",
      "Epoch 27/30\n",
      "54546/54546 [==============================] - 21s 377us/step - loss: 0.1710 - acc: 0.8100 - val_loss: 0.1646 - val_acc: 0.8152\n",
      "Epoch 28/30\n",
      "54546/54546 [==============================] - 21s 378us/step - loss: 0.1690 - acc: 0.8137 - val_loss: 0.1680 - val_acc: 0.8119\n",
      "Epoch 29/30\n",
      "54546/54546 [==============================] - 21s 383us/step - loss: 0.1694 - acc: 0.8120 - val_loss: 0.1609 - val_acc: 0.8256\n",
      "Epoch 30/30\n",
      "54546/54546 [==============================] - 21s 377us/step - loss: 0.1675 - acc: 0.8150 - val_loss: 0.1629 - val_acc: 0.8159\n"
     ]
    }
   ],
   "source": [
    "\"\"\"one-CONV-LAYERS-THICK\"\"\"\n",
    "if not data_augmentation:\n",
    "    print('Not using data augmentation.')\n",
    "    train_history_0= model_0.fit(\n",
    "        x_train,\n",
    "        y_train,\n",
    "        batch_size=batch_size,\n",
    "        epochs=epochs,\n",
    "        validation_split= Vld_Splt,\n",
    "        shuffle=True)\n",
    "else:\n",
    "    print('Using real-time data augmentation.')\n",
    "    # This will do preprocessing and realtime data augmentation:\n",
    "    datagen = ImageDataGenerator(\n",
    "        featurewise_center=False,  # set input mean to 0 over the dataset\n",
    "        samplewise_center=False,  # set each sample mean to 0\n",
    "        featurewise_std_normalization=False,  # divide inputs by dataset std\n",
    "        samplewise_std_normalization=False,  # divide each input by its std\n",
    "        zca_whitening=False,  # apply ZCA whitening\n",
    "        zca_epsilon=1e-06,  # epsilon for ZCA whitening\n",
    "        rotation_range=0,  # randomly rotate images in 0 to 180 degrees\n",
    "        width_shift_range=0.1,  # randomly shift images horizontally\n",
    "        height_shift_range=0.1,  # randomly shift images vertically\n",
    "        shear_range=0.,  # set range for random shear\n",
    "        zoom_range=0.,  # set range for random zoom\n",
    "        channel_shift_range=0.,  # set range for random channel shifts\n",
    "        # set mode for filling points outside the input boundaries\n",
    "        fill_mode='nearest',\n",
    "        cval=0.,  # value used for fill_mode = \"constant\"\n",
    "        horizontal_flip=True,  # randomly flip images\n",
    "        vertical_flip=False,  # randomly flip images\n",
    "        # set rescaling factor (applied before any other transformation)\n",
    "        rescale=None,\n",
    "        # set function that will be applied on each input\n",
    "        preprocessing_function=None,\n",
    "        # image data format, either \"channels_first\" or \"channels_last\"\n",
    "        data_format=None,\n",
    "        # fraction of images reserved for validation (strictly between 0 and 1)\n",
    "        validation_split=0.0)\n",
    "\n",
    "    # Compute quantities required for feature-wise normalization\n",
    "    # (std, mean, and principal components if ZCA whitening is applied).\n",
    "    datagen.fit(x_train)\n",
    "\n",
    "    # Fit the model on the batches generated by datagen.flow().\n",
    "    train_history_0= model_0.fit_generator(\n",
    "        datagen.flow(x_train, y_train, batch_size=batch_size),\n",
    "        epochs= epochs,\n",
    "        validation_split= Vld_Splt,\n",
    "        steps_per_epoch= int(x_train.shape[0]/ batch_size),\n",
    "        workers=4)"
   ]
  },
  {
   "cell_type": "code",
   "execution_count": 17,
   "metadata": {},
   "outputs": [
    {
     "name": "stdout",
     "output_type": "stream",
     "text": [
      "Not using data augmentation.\n",
      "Train on 54546 samples, validate on 5454 samples\n",
      "Epoch 1/30\n",
      "54546/54546 [==============================] - 16s 294us/step - loss: 0.3736 - acc: 0.6257 - val_loss: 0.2294 - val_acc: 0.7488\n",
      "Epoch 2/30\n",
      "54546/54546 [==============================] - 15s 281us/step - loss: 0.2041 - acc: 0.7558 - val_loss: 0.1990 - val_acc: 0.7613\n",
      "Epoch 3/30\n",
      "54546/54546 [==============================] - 15s 282us/step - loss: 0.1824 - acc: 0.7803 - val_loss: 0.1764 - val_acc: 0.7923\n",
      "Epoch 4/30\n",
      "54546/54546 [==============================] - 15s 282us/step - loss: 0.1703 - acc: 0.7977 - val_loss: 0.1635 - val_acc: 0.8060\n",
      "Epoch 5/30\n",
      "54546/54546 [==============================] - 15s 281us/step - loss: 0.1619 - acc: 0.8075 - val_loss: 0.1554 - val_acc: 0.8124\n",
      "Epoch 6/30\n",
      "54546/54546 [==============================] - 15s 282us/step - loss: 0.1554 - acc: 0.8164 - val_loss: 0.1511 - val_acc: 0.8117\n",
      "Epoch 7/30\n",
      "54546/54546 [==============================] - 15s 282us/step - loss: 0.1485 - acc: 0.8256 - val_loss: 0.1406 - val_acc: 0.8343\n",
      "Epoch 8/30\n",
      "54546/54546 [==============================] - 16s 285us/step - loss: 0.1446 - acc: 0.8313 - val_loss: 0.1412 - val_acc: 0.8293\n",
      "Epoch 9/30\n",
      "54546/54546 [==============================] - 15s 283us/step - loss: 0.1406 - acc: 0.8348 - val_loss: 0.1333 - val_acc: 0.8410\n",
      "Epoch 10/30\n",
      "54546/54546 [==============================] - 16s 289us/step - loss: 0.1367 - acc: 0.8384 - val_loss: 0.1367 - val_acc: 0.8407\n",
      "Epoch 11/30\n",
      "54546/54546 [==============================] - 15s 284us/step - loss: 0.1345 - acc: 0.8410 - val_loss: 0.1322 - val_acc: 0.8392\n",
      "Epoch 12/30\n",
      "54546/54546 [==============================] - 15s 283us/step - loss: 0.1324 - acc: 0.8441 - val_loss: 0.1296 - val_acc: 0.8442\n",
      "Epoch 13/30\n",
      "54546/54546 [==============================] - 15s 282us/step - loss: 0.1297 - acc: 0.8480 - val_loss: 0.1269 - val_acc: 0.8471\n",
      "Epoch 14/30\n",
      "54546/54546 [==============================] - 15s 282us/step - loss: 0.1269 - acc: 0.8496 - val_loss: 0.1223 - val_acc: 0.8577\n",
      "Epoch 15/30\n",
      "54546/54546 [==============================] - 15s 281us/step - loss: 0.1259 - acc: 0.8520 - val_loss: 0.1240 - val_acc: 0.8498\n",
      "Epoch 16/30\n",
      "54546/54546 [==============================] - 15s 282us/step - loss: 0.1241 - acc: 0.8545 - val_loss: 0.1231 - val_acc: 0.8522\n",
      "Epoch 17/30\n",
      "54546/54546 [==============================] - 15s 281us/step - loss: 0.1231 - acc: 0.8549 - val_loss: 0.1180 - val_acc: 0.8627\n",
      "Epoch 18/30\n",
      "54546/54546 [==============================] - 15s 281us/step - loss: 0.1206 - acc: 0.8584 - val_loss: 0.1181 - val_acc: 0.8597\n",
      "Epoch 19/30\n",
      "54546/54546 [==============================] - 15s 283us/step - loss: 0.1193 - acc: 0.8595 - val_loss: 0.1157 - val_acc: 0.8665\n",
      "Epoch 20/30\n",
      "54546/54546 [==============================] - 16s 284us/step - loss: 0.1180 - acc: 0.8626 - val_loss: 0.1154 - val_acc: 0.8641\n",
      "Epoch 21/30\n",
      "54546/54546 [==============================] - 16s 285us/step - loss: 0.1173 - acc: 0.8621 - val_loss: 0.1235 - val_acc: 0.8557\n",
      "Epoch 22/30\n",
      "54546/54546 [==============================] - 15s 283us/step - loss: 0.1164 - acc: 0.8636 - val_loss: 0.1191 - val_acc: 0.8645\n",
      "Epoch 23/30\n",
      "54546/54546 [==============================] - 16s 284us/step - loss: 0.1151 - acc: 0.8655 - val_loss: 0.1163 - val_acc: 0.8731\n",
      "Epoch 24/30\n",
      "54546/54546 [==============================] - 15s 281us/step - loss: 0.1135 - acc: 0.8669 - val_loss: 0.1108 - val_acc: 0.8687\n",
      "Epoch 25/30\n",
      "54546/54546 [==============================] - 16s 288us/step - loss: 0.1134 - acc: 0.8672 - val_loss: 0.1085 - val_acc: 0.8728\n",
      "Epoch 26/30\n",
      "54546/54546 [==============================] - 16s 286us/step - loss: 0.1115 - acc: 0.8695 - val_loss: 0.1117 - val_acc: 0.8718\n",
      "Epoch 27/30\n",
      "54546/54546 [==============================] - 16s 284us/step - loss: 0.1107 - acc: 0.8724 - val_loss: 0.1074 - val_acc: 0.8775\n",
      "Epoch 28/30\n",
      "54546/54546 [==============================] - 16s 288us/step - loss: 0.1104 - acc: 0.8718 - val_loss: 0.1098 - val_acc: 0.8713\n",
      "Epoch 29/30\n",
      "54546/54546 [==============================] - 15s 283us/step - loss: 0.1100 - acc: 0.8725 - val_loss: 0.1097 - val_acc: 0.8704\n",
      "Epoch 30/30\n",
      "54546/54546 [==============================] - 15s 282us/step - loss: 0.1085 - acc: 0.8747 - val_loss: 0.1088 - val_acc: 0.8737\n"
     ]
    }
   ],
   "source": [
    "\"\"\"two-CONV-LAYERS-THICK\"\"\"\n",
    "if not data_augmentation:\n",
    "    print('Not using data augmentation.')\n",
    "    train_history_1= model_1.fit(\n",
    "        x_train,\n",
    "        y_train,\n",
    "        batch_size=batch_size,\n",
    "        epochs=epochs,\n",
    "        validation_split= Vld_Splt,\n",
    "        shuffle=True)\n",
    "else:\n",
    "    print('Using real-time data augmentation.')\n",
    "    # This will do preprocessing and realtime data augmentation:\n",
    "    datagen = ImageDataGenerator(\n",
    "        featurewise_center=False,  # set input mean to 0 over the dataset\n",
    "        samplewise_center=False,  # set each sample mean to 0\n",
    "        featurewise_std_normalization=False,  # divide inputs by dataset std\n",
    "        samplewise_std_normalization=False,  # divide each input by its std\n",
    "        zca_whitening=False,  # apply ZCA whitening\n",
    "        zca_epsilon=1e-06,  # epsilon for ZCA whitening\n",
    "        rotation_range=0,  # randomly rotate images in 0 to 180 degrees\n",
    "        width_shift_range=0.1,  # randomly shift images horizontally\n",
    "        height_shift_range=0.1,  # randomly shift images vertically\n",
    "        shear_range=0.,  # set range for random shear\n",
    "        zoom_range=0.,  # set range for random zoom\n",
    "        channel_shift_range=0.,  # set range for random channel shifts\n",
    "        # set mode for filling points outside the input boundaries\n",
    "        fill_mode='nearest',\n",
    "        cval=0.,  # value used for fill_mode = \"constant\"\n",
    "        horizontal_flip=True,  # randomly flip images\n",
    "        vertical_flip=False,  # randomly flip images\n",
    "        # set rescaling factor (applied before any other transformation)\n",
    "        rescale=None,\n",
    "        # set function that will be applied on each input\n",
    "        preprocessing_function=None,\n",
    "        # image data format, either \"channels_first\" or \"channels_last\"\n",
    "        data_format=None,\n",
    "        # fraction of images reserved for validation (strictly between 0 and 1)\n",
    "        validation_split=0.0)\n",
    "\n",
    "    # Compute quantities required for feature-wise normalization\n",
    "    # (std, mean, and principal components if ZCA whitening is applied).\n",
    "    datagen.fit(x_train)\n",
    "\n",
    "    # Fit the model on the batches generated by datagen.flow().\n",
    "    train_history_1= model_1.fit_generator(\n",
    "        datagen.flow(x_train, y_train, batch_size=batch_size),\n",
    "        epochs= epochs,\n",
    "        validation_split= Vld_Splt,\n",
    "        steps_per_epoch= int(x_train.shape[0]/ batch_size),\n",
    "        workers=4)"
   ]
  },
  {
   "cell_type": "code",
   "execution_count": 18,
   "metadata": {},
   "outputs": [
    {
     "name": "stdout",
     "output_type": "stream",
     "text": [
      "Not using data augmentation.\n",
      "Train on 54546 samples, validate on 5454 samples\n",
      "Epoch 1/30\n",
      "54546/54546 [==============================] - 13s 247us/step - loss: 0.3651 - acc: 0.5991 - val_loss: 0.2188 - val_acc: 0.7407\n",
      "Epoch 2/30\n",
      "54546/54546 [==============================] - 13s 230us/step - loss: 0.1950 - acc: 0.7538 - val_loss: 0.1872 - val_acc: 0.7736\n",
      "Epoch 3/30\n",
      "54546/54546 [==============================] - 12s 228us/step - loss: 0.1690 - acc: 0.7824 - val_loss: 0.1630 - val_acc: 0.7937\n",
      "Epoch 4/30\n",
      "54546/54546 [==============================] - 12s 229us/step - loss: 0.1561 - acc: 0.8023 - val_loss: 0.1424 - val_acc: 0.8130\n",
      "Epoch 5/30\n",
      "54546/54546 [==============================] - 13s 232us/step - loss: 0.1460 - acc: 0.8164 - val_loss: 0.1380 - val_acc: 0.8212\n",
      "Epoch 6/30\n",
      "54546/54546 [==============================] - 13s 233us/step - loss: 0.1385 - acc: 0.8261 - val_loss: 0.1317 - val_acc: 0.8388\n",
      "Epoch 7/30\n",
      "54546/54546 [==============================] - 13s 235us/step - loss: 0.1312 - acc: 0.8359 - val_loss: 0.1222 - val_acc: 0.8414\n",
      "Epoch 8/30\n",
      "54546/54546 [==============================] - 13s 230us/step - loss: 0.1263 - acc: 0.8435 - val_loss: 0.1175 - val_acc: 0.8552\n",
      "Epoch 9/30\n",
      "54546/54546 [==============================] - 13s 231us/step - loss: 0.1219 - acc: 0.8490 - val_loss: 0.1162 - val_acc: 0.8537\n",
      "Epoch 10/30\n",
      "54546/54546 [==============================] - 13s 230us/step - loss: 0.1174 - acc: 0.8557 - val_loss: 0.1100 - val_acc: 0.8649\n",
      "Epoch 11/30\n",
      "54546/54546 [==============================] - 13s 232us/step - loss: 0.1143 - acc: 0.8601 - val_loss: 0.1093 - val_acc: 0.8634\n",
      "Epoch 12/30\n",
      "54546/54546 [==============================] - 13s 232us/step - loss: 0.1117 - acc: 0.8632 - val_loss: 0.1081 - val_acc: 0.8658\n",
      "Epoch 13/30\n",
      "54546/54546 [==============================] - 13s 231us/step - loss: 0.1092 - acc: 0.8678 - val_loss: 0.1040 - val_acc: 0.8704\n",
      "Epoch 14/30\n",
      "54546/54546 [==============================] - 13s 230us/step - loss: 0.1068 - acc: 0.8712 - val_loss: 0.1011 - val_acc: 0.8746\n",
      "Epoch 15/30\n",
      "54546/54546 [==============================] - 13s 230us/step - loss: 0.1048 - acc: 0.8734 - val_loss: 0.1017 - val_acc: 0.8779\n",
      "Epoch 16/30\n",
      "54546/54546 [==============================] - 13s 231us/step - loss: 0.1030 - acc: 0.8745 - val_loss: 0.0993 - val_acc: 0.8742\n",
      "Epoch 17/30\n",
      "54546/54546 [==============================] - 14s 250us/step - loss: 0.1008 - acc: 0.8783 - val_loss: 0.0964 - val_acc: 0.8786\n",
      "Epoch 18/30\n",
      "54546/54546 [==============================] - 13s 232us/step - loss: 0.1002 - acc: 0.8791 - val_loss: 0.0951 - val_acc: 0.8861\n",
      "Epoch 19/30\n",
      "54546/54546 [==============================] - 13s 230us/step - loss: 0.0977 - acc: 0.8819 - val_loss: 0.1001 - val_acc: 0.8794\n",
      "Epoch 20/30\n",
      "54546/54546 [==============================] - 12s 229us/step - loss: 0.0969 - acc: 0.8854 - val_loss: 0.0949 - val_acc: 0.8869\n",
      "Epoch 21/30\n",
      "54546/54546 [==============================] - 13s 231us/step - loss: 0.0956 - acc: 0.8867 - val_loss: 0.0909 - val_acc: 0.8891\n",
      "Epoch 22/30\n",
      "54546/54546 [==============================] - 13s 230us/step - loss: 0.0948 - acc: 0.8875 - val_loss: 0.0904 - val_acc: 0.8915\n",
      "Epoch 23/30\n",
      "54546/54546 [==============================] - 13s 231us/step - loss: 0.0927 - acc: 0.8898 - val_loss: 0.0908 - val_acc: 0.8878\n",
      "Epoch 24/30\n",
      "54546/54546 [==============================] - 13s 233us/step - loss: 0.0918 - acc: 0.8900 - val_loss: 0.0888 - val_acc: 0.8889\n",
      "Epoch 25/30\n",
      "54546/54546 [==============================] - 13s 234us/step - loss: 0.0913 - acc: 0.8934 - val_loss: 0.0882 - val_acc: 0.8915\n",
      "Epoch 26/30\n",
      "54546/54546 [==============================] - 13s 233us/step - loss: 0.0898 - acc: 0.8954 - val_loss: 0.0883 - val_acc: 0.8915\n",
      "Epoch 27/30\n",
      "54546/54546 [==============================] - 13s 230us/step - loss: 0.0888 - acc: 0.8956 - val_loss: 0.0871 - val_acc: 0.8935 - ETA: 4s -  - ETA: 1s - loss\n",
      "Epoch 28/30\n",
      "54546/54546 [==============================] - 13s 238us/step - loss: 0.0888 - acc: 0.8959 - val_loss: 0.0911 - val_acc: 0.8900\n",
      "Epoch 29/30\n",
      "54546/54546 [==============================] - 13s 233us/step - loss: 0.0879 - acc: 0.8973 - val_loss: 0.0888 - val_acc: 0.8915\n",
      "Epoch 30/30\n",
      "54546/54546 [==============================] - 13s 230us/step - loss: 0.0870 - acc: 0.8989 - val_loss: 0.0869 - val_acc: 0.8962\n"
     ]
    }
   ],
   "source": [
    "\"\"\"three-CONV-LAYERS-THICK\"\"\"\n",
    "if not data_augmentation:\n",
    "    print('Not using data augmentation.')\n",
    "    train_history_2= model_2.fit(\n",
    "        x_train,\n",
    "        y_train,\n",
    "        batch_size=batch_size,\n",
    "        epochs=epochs,\n",
    "        validation_split= Vld_Splt,\n",
    "        shuffle=True)\n",
    "else:\n",
    "    print('Using real-time data augmentation.')\n",
    "    # This will do preprocessing and realtime data augmentation:\n",
    "    datagen = ImageDataGenerator(\n",
    "        featurewise_center=False,  # set input mean to 0 over the dataset\n",
    "        samplewise_center=False,  # set each sample mean to 0\n",
    "        featurewise_std_normalization=False,  # divide inputs by dataset std\n",
    "        samplewise_std_normalization=False,  # divide each input by its std\n",
    "        zca_whitening=False,  # apply ZCA whitening\n",
    "        zca_epsilon=1e-06,  # epsilon for ZCA whitening\n",
    "        rotation_range=0,  # randomly rotate images in 0 to 180 degrees\n",
    "        width_shift_range=0.1,  # randomly shift images horizontally\n",
    "        height_shift_range=0.1,  # randomly shift images vertically\n",
    "        shear_range=0.,  # set range for random shear\n",
    "        zoom_range=0.,  # set range for random zoom\n",
    "        channel_shift_range=0.,  # set range for random channel shifts\n",
    "        # set mode for filling points outside the input boundaries\n",
    "        fill_mode='nearest',\n",
    "        cval=0.,  # value used for fill_mode = \"constant\"\n",
    "        horizontal_flip=True,  # randomly flip images\n",
    "        vertical_flip=False,  # randomly flip images\n",
    "        # set rescaling factor (applied before any other transformation)\n",
    "        rescale=None,\n",
    "        # set function that will be applied on each input\n",
    "        preprocessing_function=None,\n",
    "        # image data format, either \"channels_first\" or \"channels_last\"\n",
    "        data_format=None,\n",
    "        # fraction of images reserved for validation (strictly between 0 and 1)\n",
    "        validation_split=0.0)\n",
    "\n",
    "    # Compute quantities required for feature-wise normalization\n",
    "    # (std, mean, and principal components if ZCA whitening is applied).\n",
    "    datagen.fit(x_train)\n",
    "\n",
    "    # Fit the model on the batches generated by datagen.flow().\n",
    "    train_history_2= model_2.fit_generator(\n",
    "        datagen.flow(x_train, y_train, batch_size=batch_size),\n",
    "        epochs= epochs,\n",
    "        validation_split= Vld_Splt,\n",
    "        steps_per_epoch= int(x_train.shape[0]/ batch_size),\n",
    "        workers=4)"
   ]
  },
  {
   "cell_type": "code",
   "execution_count": 19,
   "metadata": {},
   "outputs": [
    {
     "name": "stdout",
     "output_type": "stream",
     "text": [
      "Not using data augmentation.\n",
      "Train on 54546 samples, validate on 5454 samples\n",
      "Epoch 1/30\n",
      "54546/54546 [==============================] - 14s 248us/step - loss: 0.3107 - acc: 0.6152 - val_loss: 0.1906 - val_acc: 0.7620\n",
      "Epoch 2/30\n",
      "54546/54546 [==============================] - 13s 234us/step - loss: 0.1794 - acc: 0.7674 - val_loss: 0.1555 - val_acc: 0.7923\n",
      "Epoch 3/30\n",
      "54546/54546 [==============================] - 13s 232us/step - loss: 0.1535 - acc: 0.8000 - val_loss: 0.1417 - val_acc: 0.8100\n",
      "Epoch 4/30\n",
      "54546/54546 [==============================] - 13s 233us/step - loss: 0.1367 - acc: 0.8244 - val_loss: 0.1230 - val_acc: 0.8399\n",
      "Epoch 5/30\n",
      "54546/54546 [==============================] - 13s 230us/step - loss: 0.1254 - acc: 0.8390 - val_loss: 0.1201 - val_acc: 0.8409\n",
      "Epoch 6/30\n",
      "54546/54546 [==============================] - 13s 233us/step - loss: 0.1174 - acc: 0.8498 - val_loss: 0.1092 - val_acc: 0.8574\n",
      "Epoch 7/30\n",
      "54546/54546 [==============================] - 13s 233us/step - loss: 0.1131 - acc: 0.8546 - val_loss: 0.1072 - val_acc: 0.8603\n",
      "Epoch 8/30\n",
      "54546/54546 [==============================] - 13s 230us/step - loss: 0.1088 - acc: 0.8613 - val_loss: 0.1056 - val_acc: 0.8588\n",
      "Epoch 9/30\n",
      "54546/54546 [==============================] - 13s 237us/step - loss: 0.1052 - acc: 0.8664 - val_loss: 0.0999 - val_acc: 0.8691\n",
      "Epoch 10/30\n",
      "54546/54546 [==============================] - 13s 236us/step - loss: 0.1017 - acc: 0.8724 - val_loss: 0.0959 - val_acc: 0.8770\n",
      "Epoch 11/30\n",
      "54546/54546 [==============================] - 13s 234us/step - loss: 0.0991 - acc: 0.8752 - val_loss: 0.0935 - val_acc: 0.8830: 0.0996 - acc: 0. - ETA: 2s -\n",
      "Epoch 12/30\n",
      "54546/54546 [==============================] - 12s 229us/step - loss: 0.0979 - acc: 0.8775 - val_loss: 0.0930 - val_acc: 0.8821\n",
      "Epoch 13/30\n",
      "54546/54546 [==============================] - 13s 230us/step - loss: 0.0953 - acc: 0.8816 - val_loss: 0.0926 - val_acc: 0.8805\n",
      "Epoch 14/30\n",
      "54546/54546 [==============================] - 13s 230us/step - loss: 0.0925 - acc: 0.8858 - val_loss: 0.0917 - val_acc: 0.8828\n",
      "Epoch 15/30\n",
      "54546/54546 [==============================] - 13s 231us/step - loss: 0.0905 - acc: 0.8892 - val_loss: 0.0871 - val_acc: 0.8852\n",
      "Epoch 16/30\n",
      "54546/54546 [==============================] - 13s 229us/step - loss: 0.0891 - acc: 0.8902 - val_loss: 0.0853 - val_acc: 0.8893\n",
      "Epoch 17/30\n",
      "54546/54546 [==============================] - 12s 229us/step - loss: 0.0875 - acc: 0.8924 - val_loss: 0.0841 - val_acc: 0.8984\n",
      "Epoch 18/30\n",
      "54546/54546 [==============================] - 12s 228us/step - loss: 0.0855 - acc: 0.8972 - val_loss: 0.0832 - val_acc: 0.8926\n",
      "Epoch 19/30\n",
      "54546/54546 [==============================] - 12s 228us/step - loss: 0.0842 - acc: 0.8990 - val_loss: 0.0810 - val_acc: 0.8960\n",
      "Epoch 20/30\n",
      "54546/54546 [==============================] - 12s 228us/step - loss: 0.0829 - acc: 0.8990 - val_loss: 0.0799 - val_acc: 0.8981\n",
      "Epoch 21/30\n",
      "54546/54546 [==============================] - 12s 228us/step - loss: 0.0823 - acc: 0.9000 - val_loss: 0.0807 - val_acc: 0.9008\n",
      "Epoch 22/30\n",
      "54546/54546 [==============================] - 12s 228us/step - loss: 0.0803 - acc: 0.9033 - val_loss: 0.0787 - val_acc: 0.9015\n",
      "Epoch 23/30\n",
      "54546/54546 [==============================] - 12s 228us/step - loss: 0.0798 - acc: 0.9047 - val_loss: 0.0767 - val_acc: 0.8999\n",
      "Epoch 24/30\n",
      "54546/54546 [==============================] - 12s 228us/step - loss: 0.0792 - acc: 0.9048 - val_loss: 0.0782 - val_acc: 0.9004\n",
      "Epoch 25/30\n",
      "54546/54546 [==============================] - 12s 228us/step - loss: 0.0780 - acc: 0.9071 - val_loss: 0.0775 - val_acc: 0.9034\n",
      "Epoch 26/30\n",
      "54546/54546 [==============================] - 12s 228us/step - loss: 0.0769 - acc: 0.9085 - val_loss: 0.0788 - val_acc: 0.9026\n",
      "Epoch 27/30\n",
      "54546/54546 [==============================] - 12s 228us/step - loss: 0.0760 - acc: 0.9101 - val_loss: 0.0755 - val_acc: 0.9092\n",
      "Epoch 28/30\n",
      "54546/54546 [==============================] - 12s 228us/step - loss: 0.0756 - acc: 0.9104 - val_loss: 0.0743 - val_acc: 0.9059\n",
      "Epoch 29/30\n",
      "54546/54546 [==============================] - 12s 228us/step - loss: 0.0742 - acc: 0.9127 - val_loss: 0.0737 - val_acc: 0.9094\n",
      "Epoch 30/30\n",
      "54546/54546 [==============================] - 12s 228us/step - loss: 0.0739 - acc: 0.9135 - val_loss: 0.0718 - val_acc: 0.9125\n"
     ]
    }
   ],
   "source": [
    "\"\"\"four-CONV-LAYERS-THICK\"\"\"\n",
    "if not data_augmentation:\n",
    "    print('Not using data augmentation.')\n",
    "    train_history_3= model_3.fit(\n",
    "        x_train,\n",
    "        y_train,\n",
    "        batch_size=batch_size,\n",
    "        epochs=epochs,\n",
    "        validation_split= Vld_Splt,\n",
    "        shuffle=True)\n",
    "else:\n",
    "    print('Using real-time data augmentation.')\n",
    "    # This will do preprocessing and realtime data augmentation:\n",
    "    datagen = ImageDataGenerator(\n",
    "        featurewise_center=False,  # set input mean to 0 over the dataset\n",
    "        samplewise_center=False,  # set each sample mean to 0\n",
    "        featurewise_std_normalization=False,  # divide inputs by dataset std\n",
    "        samplewise_std_normalization=False,  # divide each input by its std\n",
    "        zca_whitening=False,  # apply ZCA whitening\n",
    "        zca_epsilon=1e-06,  # epsilon for ZCA whitening\n",
    "        rotation_range=0,  # randomly rotate images in 0 to 180 degrees\n",
    "        width_shift_range=0.1,  # randomly shift images horizontally\n",
    "        height_shift_range=0.1,  # randomly shift images vertically\n",
    "        shear_range=0.,  # set range for random shear\n",
    "        zoom_range=0.,  # set range for random zoom\n",
    "        channel_shift_range=0.,  # set range for random channel shifts\n",
    "        # set mode for filling points outside the input boundaries\n",
    "        fill_mode='nearest',\n",
    "        cval=0.,  # value used for fill_mode = \"constant\"\n",
    "        horizontal_flip=True,  # randomly flip images\n",
    "        vertical_flip=False,  # randomly flip images\n",
    "        # set rescaling factor (applied before any other transformation)\n",
    "        rescale=None,\n",
    "        # set function that will be applied on each input\n",
    "        preprocessing_function=None,\n",
    "        # image data format, either \"channels_first\" or \"channels_last\"\n",
    "        data_format=None,\n",
    "        # fraction of images reserved for validation (strictly between 0 and 1)\n",
    "        validation_split=0.0)\n",
    "\n",
    "    # Compute quantities required for feature-wise normalization\n",
    "    # (std, mean, and principal components if ZCA whitening is applied).\n",
    "    datagen.fit(x_train)\n",
    "\n",
    "    # Fit the model on the batches generated by datagen.flow().\n",
    "    train_history_3= model_3.fit_generator(\n",
    "        datagen.flow(x_train, y_train, batch_size=batch_size),\n",
    "        epochs= epochs,\n",
    "        validation_split= Vld_Splt,\n",
    "        steps_per_epoch= int(x_train.shape[0]/ batch_size),\n",
    "        workers=4)"
   ]
  },
  {
   "cell_type": "code",
   "execution_count": 20,
   "metadata": {},
   "outputs": [
    {
     "name": "stdout",
     "output_type": "stream",
     "text": [
      "Not using data augmentation.\n",
      "Train on 54546 samples, validate on 5454 samples\n",
      "Epoch 1/30\n",
      "54546/54546 [==============================] - 5s 95us/step - loss: 0.2476 - acc: 0.6561 - val_loss: 0.1541 - val_acc: 0.7701\n",
      "Epoch 2/30\n",
      "54546/54546 [==============================] - 4s 75us/step - loss: 0.1453 - acc: 0.7945 - val_loss: 0.1209 - val_acc: 0.8278\n",
      "Epoch 3/30\n",
      "54546/54546 [==============================] - 4s 75us/step - loss: 0.1243 - acc: 0.8293 - val_loss: 0.1114 - val_acc: 0.8451\n",
      "Epoch 4/30\n",
      "54546/54546 [==============================] - 4s 74us/step - loss: 0.1114 - acc: 0.8481 - val_loss: 0.0998 - val_acc: 0.8663\n",
      "Epoch 5/30\n",
      "54546/54546 [==============================] - 4s 75us/step - loss: 0.1029 - acc: 0.8593 - val_loss: 0.0983 - val_acc: 0.8658\n",
      "Epoch 6/30\n",
      "54546/54546 [==============================] - 4s 75us/step - loss: 0.0969 - acc: 0.8694 - val_loss: 0.0949 - val_acc: 0.8621\n",
      "Epoch 7/30\n",
      "54546/54546 [==============================] - 4s 75us/step - loss: 0.0923 - acc: 0.8758 - val_loss: 0.0859 - val_acc: 0.8801\n",
      "Epoch 8/30\n",
      "54546/54546 [==============================] - 4s 74us/step - loss: 0.0871 - acc: 0.8837 - val_loss: 0.0804 - val_acc: 0.8883\n",
      "Epoch 9/30\n",
      "54546/54546 [==============================] - 4s 75us/step - loss: 0.0848 - acc: 0.8868 - val_loss: 0.0818 - val_acc: 0.8860\n",
      "Epoch 10/30\n",
      "54546/54546 [==============================] - 4s 75us/step - loss: 0.0818 - acc: 0.8903 - val_loss: 0.0786 - val_acc: 0.8927\n",
      "Epoch 11/30\n",
      "54546/54546 [==============================] - 4s 75us/step - loss: 0.0797 - acc: 0.8934 - val_loss: 0.0742 - val_acc: 0.8970\n",
      "Epoch 12/30\n",
      "54546/54546 [==============================] - 4s 79us/step - loss: 0.0771 - acc: 0.8983 - val_loss: 0.0729 - val_acc: 0.8960\n",
      "Epoch 13/30\n",
      "54546/54546 [==============================] - 4s 75us/step - loss: 0.0755 - acc: 0.8990 - val_loss: 0.0718 - val_acc: 0.9008\n",
      "Epoch 14/30\n",
      "54546/54546 [==============================] - 4s 75us/step - loss: 0.0725 - acc: 0.9051 - val_loss: 0.0698 - val_acc: 0.9021\n",
      "Epoch 15/30\n",
      "54546/54546 [==============================] - 4s 74us/step - loss: 0.0719 - acc: 0.9041 - val_loss: 0.0684 - val_acc: 0.9045\n",
      "Epoch 16/30\n",
      "54546/54546 [==============================] - 4s 75us/step - loss: 0.0703 - acc: 0.9066 - val_loss: 0.0676 - val_acc: 0.9080\n",
      "Epoch 17/30\n",
      "54546/54546 [==============================] - 4s 78us/step - loss: 0.0690 - acc: 0.9097 - val_loss: 0.0665 - val_acc: 0.9083\n",
      "Epoch 18/30\n",
      "54546/54546 [==============================] - 4s 75us/step - loss: 0.0678 - acc: 0.9106 - val_loss: 0.0681 - val_acc: 0.9052\n",
      "Epoch 19/30\n",
      "54546/54546 [==============================] - 4s 75us/step - loss: 0.0671 - acc: 0.9115 - val_loss: 0.0639 - val_acc: 0.9125\n",
      "Epoch 20/30\n",
      "54546/54546 [==============================] - 4s 75us/step - loss: 0.0653 - acc: 0.9137 - val_loss: 0.0667 - val_acc: 0.9111\n",
      "Epoch 21/30\n",
      "54546/54546 [==============================] - 4s 75us/step - loss: 0.0649 - acc: 0.9144 - val_loss: 0.0631 - val_acc: 0.9109\n",
      "Epoch 22/30\n",
      "54546/54546 [==============================] - 4s 74us/step - loss: 0.0638 - acc: 0.9164 - val_loss: 0.0623 - val_acc: 0.9171\n",
      "Epoch 23/30\n",
      "54546/54546 [==============================] - 4s 75us/step - loss: 0.0632 - acc: 0.9168 - val_loss: 0.0627 - val_acc: 0.9129\n",
      "Epoch 24/30\n",
      "54546/54546 [==============================] - 4s 75us/step - loss: 0.0634 - acc: 0.9175 - val_loss: 0.0624 - val_acc: 0.9158\n",
      "Epoch 25/30\n",
      "54546/54546 [==============================] - 4s 75us/step - loss: 0.0617 - acc: 0.9199 - val_loss: 0.0605 - val_acc: 0.9158\n",
      "Epoch 26/30\n",
      "54546/54546 [==============================] - 4s 74us/step - loss: 0.0620 - acc: 0.9194 - val_loss: 0.0644 - val_acc: 0.9111\n",
      "Epoch 27/30\n",
      "54546/54546 [==============================] - 4s 75us/step - loss: 0.0603 - acc: 0.9217 - val_loss: 0.0610 - val_acc: 0.9151\n",
      "Epoch 28/30\n",
      "54546/54546 [==============================] - 4s 76us/step - loss: 0.0601 - acc: 0.9225 - val_loss: 0.0601 - val_acc: 0.9175\n",
      "Epoch 29/30\n",
      "54546/54546 [==============================] - 4s 75us/step - loss: 0.0593 - acc: 0.9232 - val_loss: 0.0610 - val_acc: 0.9149\n",
      "Epoch 30/30\n",
      "54546/54546 [==============================] - 4s 75us/step - loss: 0.0586 - acc: 0.9241 - val_loss: 0.0603 - val_acc: 0.9164\n"
     ]
    }
   ],
   "source": [
    "\"\"\"five-CONV-LAYERS-THICK\"\"\"\n",
    "if not data_augmentation:\n",
    "    print('Not using data augmentation.')\n",
    "    train_history_4= model_4.fit(\n",
    "        x_train,\n",
    "        y_train,\n",
    "        batch_size=batch_size,\n",
    "        epochs=epochs,\n",
    "        validation_split= Vld_Splt,\n",
    "        shuffle=True)\n",
    "else:\n",
    "    print('Using real-time data augmentation.')\n",
    "    # This will do preprocessing and realtime data augmentation:\n",
    "    datagen = ImageDataGenerator(\n",
    "        featurewise_center=False,  # set input mean to 0 over the dataset\n",
    "        samplewise_center=False,  # set each sample mean to 0\n",
    "        featurewise_std_normalization=False,  # divide inputs by dataset std\n",
    "        samplewise_std_normalization=False,  # divide each input by its std\n",
    "        zca_whitening=False,  # apply ZCA whitening\n",
    "        zca_epsilon=1e-06,  # epsilon for ZCA whitening\n",
    "        rotation_range=0,  # randomly rotate images in 0 to 180 degrees\n",
    "        width_shift_range=0.1,  # randomly shift images horizontally\n",
    "        height_shift_range=0.1,  # randomly shift images vertically\n",
    "        shear_range=0.,  # set range for random shear\n",
    "        zoom_range=0.,  # set range for random zoom\n",
    "        channel_shift_range=0.,  # set range for random channel shifts\n",
    "        # set mode for filling points outside the input boundaries\n",
    "        fill_mode='nearest',\n",
    "        cval=0.,  # value used for fill_mode = \"constant\"\n",
    "        horizontal_flip=True,  # randomly flip images\n",
    "        vertical_flip=False,  # randomly flip images\n",
    "        # set rescaling factor (applied before any other transformation)\n",
    "        rescale=None,\n",
    "        # set function that will be applied on each input\n",
    "        preprocessing_function=None,\n",
    "        # image data format, either \"channels_first\" or \"channels_last\"\n",
    "        data_format=None,\n",
    "        # fraction of images reserved for validation (strictly between 0 and 1)\n",
    "        validation_split=0.0)\n",
    "\n",
    "    # Compute quantities required for feature-wise normalization\n",
    "    # (std, mean, and principal components if ZCA whitening is applied).\n",
    "    datagen.fit(x_train)\n",
    "\n",
    "    # Fit the model on the batches generated by datagen.flow().\n",
    "    train_history_4= model_4.fit_generator(\n",
    "        datagen.flow(x_train, y_train, batch_size=batch_size),\n",
    "        epochs= epochs,\n",
    "        validation_split= Vld_Splt,\n",
    "        steps_per_epoch= int(x_train.shape[0]/ batch_size),\n",
    "        workers=4)"
   ]
  },
  {
   "cell_type": "code",
   "execution_count": 21,
   "metadata": {},
   "outputs": [
    {
     "name": "stdout",
     "output_type": "stream",
     "text": [
      "Not using data augmentation.\n",
      "Train on 54546 samples, validate on 5454 samples\n",
      "Epoch 1/30\n",
      "54546/54546 [==============================] - 5s 93us/step - loss: 0.2619 - acc: 0.6330 - val_loss: 0.1509 - val_acc: 0.7719\n",
      "Epoch 2/30\n",
      "54546/54546 [==============================] - 4s 76us/step - loss: 0.1453 - acc: 0.7889 - val_loss: 0.1243 - val_acc: 0.8155\n",
      "Epoch 3/30\n",
      "54546/54546 [==============================] - 4s 77us/step - loss: 0.1203 - acc: 0.8313 - val_loss: 0.1009 - val_acc: 0.8570\n",
      "Epoch 4/30\n",
      "54546/54546 [==============================] - 4s 73us/step - loss: 0.1054 - acc: 0.8538 - val_loss: 0.0979 - val_acc: 0.8629\n",
      "Epoch 5/30\n",
      "54546/54546 [==============================] - 4s 77us/step - loss: 0.0977 - acc: 0.8640 - val_loss: 0.0858 - val_acc: 0.8773\n",
      "Epoch 6/30\n",
      "54546/54546 [==============================] - 4s 78us/step - loss: 0.0912 - acc: 0.8732 - val_loss: 0.0813 - val_acc: 0.8865\n",
      "Epoch 7/30\n",
      "54546/54546 [==============================] - 4s 74us/step - loss: 0.0862 - acc: 0.8805 - val_loss: 0.0762 - val_acc: 0.8916\n",
      "Epoch 8/30\n",
      "54546/54546 [==============================] - 4s 78us/step - loss: 0.0822 - acc: 0.8864 - val_loss: 0.0753 - val_acc: 0.8926\n",
      "Epoch 9/30\n",
      "54546/54546 [==============================] - 5s 84us/step - loss: 0.0794 - acc: 0.8900 - val_loss: 0.0738 - val_acc: 0.8927\n",
      "Epoch 10/30\n",
      "54546/54546 [==============================] - 4s 80us/step - loss: 0.0766 - acc: 0.8950 - val_loss: 0.0724 - val_acc: 0.8962\n",
      "Epoch 11/30\n",
      "54546/54546 [==============================] - 4s 73us/step - loss: 0.0737 - acc: 0.8986 - val_loss: 0.0712 - val_acc: 0.8960\n",
      "Epoch 12/30\n",
      "54546/54546 [==============================] - 4s 74us/step - loss: 0.0734 - acc: 0.8977 - val_loss: 0.0649 - val_acc: 0.9092\n",
      "Epoch 13/30\n",
      "54546/54546 [==============================] - 4s 73us/step - loss: 0.0714 - acc: 0.9017 - val_loss: 0.0656 - val_acc: 0.9058\n",
      "Epoch 14/30\n",
      "54546/54546 [==============================] - 4s 73us/step - loss: 0.0698 - acc: 0.9040 - val_loss: 0.0652 - val_acc: 0.9076\n",
      "Epoch 15/30\n",
      "54546/54546 [==============================] - 4s 74us/step - loss: 0.0686 - acc: 0.9055 - val_loss: 0.0653 - val_acc: 0.9070\n",
      "Epoch 16/30\n",
      "54546/54546 [==============================] - 4s 73us/step - loss: 0.0669 - acc: 0.9065 - val_loss: 0.0658 - val_acc: 0.9041\n",
      "Epoch 17/30\n",
      "54546/54546 [==============================] - 4s 73us/step - loss: 0.0660 - acc: 0.9088 - val_loss: 0.0606 - val_acc: 0.9149\n",
      "Epoch 18/30\n",
      "54546/54546 [==============================] - 4s 76us/step - loss: 0.0641 - acc: 0.9127 - val_loss: 0.0635 - val_acc: 0.9114\n",
      "Epoch 19/30\n",
      "54546/54546 [==============================] - 4s 75us/step - loss: 0.0636 - acc: 0.9123 - val_loss: 0.0634 - val_acc: 0.9096\n",
      "Epoch 20/30\n",
      "54546/54546 [==============================] - 4s 74us/step - loss: 0.0631 - acc: 0.9144 - val_loss: 0.0610 - val_acc: 0.9136\n",
      "Epoch 21/30\n",
      "54546/54546 [==============================] - 4s 74us/step - loss: 0.0623 - acc: 0.9148 - val_loss: 0.0611 - val_acc: 0.9127\n",
      "Epoch 22/30\n",
      "54546/54546 [==============================] - 4s 73us/step - loss: 0.0615 - acc: 0.9152 - val_loss: 0.0581 - val_acc: 0.9160\n",
      "Epoch 23/30\n",
      "54546/54546 [==============================] - 4s 73us/step - loss: 0.0608 - acc: 0.9174 - val_loss: 0.0587 - val_acc: 0.9202\n",
      "Epoch 24/30\n",
      "54546/54546 [==============================] - 4s 73us/step - loss: 0.0601 - acc: 0.9183 - val_loss: 0.0596 - val_acc: 0.9169\n",
      "Epoch 25/30\n",
      "54546/54546 [==============================] - 4s 74us/step - loss: 0.0592 - acc: 0.9188 - val_loss: 0.0577 - val_acc: 0.9197\n",
      "Epoch 26/30\n",
      "54546/54546 [==============================] - 4s 73us/step - loss: 0.0585 - acc: 0.9204 - val_loss: 0.0580 - val_acc: 0.9197\n",
      "Epoch 27/30\n",
      "54546/54546 [==============================] - 4s 73us/step - loss: 0.0576 - acc: 0.9209 - val_loss: 0.0569 - val_acc: 0.9217\n",
      "Epoch 28/30\n",
      "54546/54546 [==============================] - 4s 73us/step - loss: 0.0574 - acc: 0.9217 - val_loss: 0.0555 - val_acc: 0.9239\n",
      "Epoch 29/30\n",
      "54546/54546 [==============================] - 4s 73us/step - loss: 0.0565 - acc: 0.9235 - val_loss: 0.0565 - val_acc: 0.9195\n",
      "Epoch 30/30\n",
      "54546/54546 [==============================] - 4s 74us/step - loss: 0.0566 - acc: 0.9229 - val_loss: 0.0558 - val_acc: 0.9239\n"
     ]
    }
   ],
   "source": [
    "\"\"\"six-CONV-LAYERS-THICK\"\"\"\n",
    "if not data_augmentation:\n",
    "    print('Not using data augmentation.')\n",
    "    train_history_5= model_5.fit(\n",
    "        x_train,\n",
    "        y_train,\n",
    "        batch_size=batch_size,\n",
    "        epochs=epochs,\n",
    "        validation_split= Vld_Splt,\n",
    "        shuffle=True)\n",
    "else:\n",
    "    print('Using real-time data augmentation.')\n",
    "    # This will do preprocessing and realtime data augmentation:\n",
    "    datagen = ImageDataGenerator(\n",
    "        featurewise_center=False,  # set input mean to 0 over the dataset\n",
    "        samplewise_center=False,  # set each sample mean to 0\n",
    "        featurewise_std_normalization=False,  # divide inputs by dataset std\n",
    "        samplewise_std_normalization=False,  # divide each input by its std\n",
    "        zca_whitening=False,  # apply ZCA whitening\n",
    "        zca_epsilon=1e-06,  # epsilon for ZCA whitening\n",
    "        rotation_range=0,  # randomly rotate images in 0 to 180 degrees\n",
    "        width_shift_range=0.1,  # randomly shift images horizontally\n",
    "        height_shift_range=0.1,  # randomly shift images vertically\n",
    "        shear_range=0.,  # set range for random shear\n",
    "        zoom_range=0.,  # set range for random zoom\n",
    "        channel_shift_range=0.,  # set range for random channel shifts\n",
    "        # set mode for filling points outside the input boundaries\n",
    "        fill_mode='nearest',\n",
    "        cval=0.,  # value used for fill_mode = \"constant\"\n",
    "        horizontal_flip=True,  # randomly flip images\n",
    "        vertical_flip=False,  # randomly flip images\n",
    "        # set rescaling factor (applied before any other transformation)\n",
    "        rescale=None,\n",
    "        # set function that will be applied on each input\n",
    "        preprocessing_function=None,\n",
    "        # image data format, either \"channels_first\" or \"channels_last\"\n",
    "        data_format=None,\n",
    "        # fraction of images reserved for validation (strictly between 0 and 1)\n",
    "        validation_split=0.0)\n",
    "\n",
    "    # Compute quantities required for feature-wise normalization\n",
    "    # (std, mean, and principal components if ZCA whitening is applied).\n",
    "    datagen.fit(x_train)\n",
    "\n",
    "    # Fit the model on the batches generated by datagen.flow().\n",
    "    train_history_5= model_5.fit_generator(\n",
    "        datagen.flow(x_train, y_train, batch_size=batch_size),\n",
    "        epochs= epochs,\n",
    "        validation_split= Vld_Splt,\n",
    "        steps_per_epoch= int(x_train.shape[0]/ batch_size),\n",
    "        workers=4)"
   ]
  },
  {
   "cell_type": "code",
   "execution_count": 22,
   "metadata": {},
   "outputs": [
    {
     "name": "stdout",
     "output_type": "stream",
     "text": [
      "Not using data augmentation.\n",
      "Train on 54546 samples, validate on 5454 samples\n",
      "Epoch 1/30\n",
      "54546/54546 [==============================] - 7s 123us/step - loss: 0.2645 - acc: 0.6318 - val_loss: 0.1516 - val_acc: 0.7798\n",
      "Epoch 2/30\n",
      "54546/54546 [==============================] - 5s 100us/step - loss: 0.1409 - acc: 0.7986 - val_loss: 0.1175 - val_acc: 0.8328\n",
      "Epoch 3/30\n",
      "54546/54546 [==============================] - 6s 102us/step - loss: 0.1189 - acc: 0.8332 - val_loss: 0.1013 - val_acc: 0.8537\n",
      "Epoch 4/30\n",
      "54546/54546 [==============================] - 5s 101us/step - loss: 0.1058 - acc: 0.8516 - val_loss: 0.0970 - val_acc: 0.8616\n",
      "Epoch 5/30\n",
      "54546/54546 [==============================] - 5s 100us/step - loss: 0.0978 - acc: 0.8632 - val_loss: 0.0887 - val_acc: 0.8746\n",
      "Epoch 6/30\n",
      "54546/54546 [==============================] - 5s 100us/step - loss: 0.0911 - acc: 0.8731 - val_loss: 0.0801 - val_acc: 0.8887\n",
      "Epoch 7/30\n",
      "54546/54546 [==============================] - 5s 101us/step - loss: 0.0855 - acc: 0.8821 - val_loss: 0.0761 - val_acc: 0.8916\n",
      "Epoch 8/30\n",
      "54546/54546 [==============================] - 5s 100us/step - loss: 0.0815 - acc: 0.8874 - val_loss: 0.0778 - val_acc: 0.8904\n",
      "Epoch 9/30\n",
      "54546/54546 [==============================] - 5s 100us/step - loss: 0.0782 - acc: 0.8924 - val_loss: 0.0737 - val_acc: 0.8960\n",
      "Epoch 10/30\n",
      "54546/54546 [==============================] - 5s 101us/step - loss: 0.0751 - acc: 0.8976 - val_loss: 0.0687 - val_acc: 0.9039\n",
      "Epoch 11/30\n",
      "54546/54546 [==============================] - 5s 101us/step - loss: 0.0734 - acc: 0.9000 - val_loss: 0.0698 - val_acc: 0.9032\n",
      "Epoch 12/30\n",
      "54546/54546 [==============================] - 5s 101us/step - loss: 0.0712 - acc: 0.9033 - val_loss: 0.0718 - val_acc: 0.8977\n",
      "Epoch 13/30\n",
      "54546/54546 [==============================] - 5s 100us/step - loss: 0.0695 - acc: 0.9061 - val_loss: 0.0674 - val_acc: 0.9083\n",
      "Epoch 14/30\n",
      "54546/54546 [==============================] - 5s 101us/step - loss: 0.0678 - acc: 0.9084 - val_loss: 0.0622 - val_acc: 0.9111\n",
      "Epoch 15/30\n",
      "54546/54546 [==============================] - 6s 103us/step - loss: 0.0671 - acc: 0.9089 - val_loss: 0.0634 - val_acc: 0.9109\n",
      "Epoch 16/30\n",
      "54546/54546 [==============================] - 6s 101us/step - loss: 0.0656 - acc: 0.9112 - val_loss: 0.0657 - val_acc: 0.9096\n",
      "Epoch 17/30\n",
      "54546/54546 [==============================] - 5s 100us/step - loss: 0.0640 - acc: 0.9137 - val_loss: 0.0623 - val_acc: 0.9135\n",
      "Epoch 18/30\n",
      "54546/54546 [==============================] - 5s 100us/step - loss: 0.0625 - acc: 0.9156 - val_loss: 0.0651 - val_acc: 0.9120\n",
      "Epoch 19/30\n",
      "54546/54546 [==============================] - 5s 101us/step - loss: 0.0612 - acc: 0.9174 - val_loss: 0.0604 - val_acc: 0.9168\n",
      "Epoch 20/30\n",
      "54546/54546 [==============================] - 5s 100us/step - loss: 0.0617 - acc: 0.9173 - val_loss: 0.0590 - val_acc: 0.9173\n",
      "Epoch 21/30\n",
      "54546/54546 [==============================] - 5s 100us/step - loss: 0.0602 - acc: 0.9191 - val_loss: 0.0598 - val_acc: 0.9162\n",
      "Epoch 22/30\n",
      "54546/54546 [==============================] - 6s 101us/step - loss: 0.0596 - acc: 0.9187 - val_loss: 0.0594 - val_acc: 0.9177\n",
      "Epoch 23/30\n",
      "54546/54546 [==============================] - 5s 100us/step - loss: 0.0583 - acc: 0.9215 - val_loss: 0.0613 - val_acc: 0.9144\n",
      "Epoch 24/30\n",
      "54546/54546 [==============================] - 5s 101us/step - loss: 0.0584 - acc: 0.9217 - val_loss: 0.0577 - val_acc: 0.9195\n",
      "Epoch 25/30\n",
      "54546/54546 [==============================] - 5s 100us/step - loss: 0.0573 - acc: 0.9224 - val_loss: 0.0576 - val_acc: 0.9188\n",
      "Epoch 26/30\n",
      "54546/54546 [==============================] - 5s 101us/step - loss: 0.0566 - acc: 0.9238 - val_loss: 0.0575 - val_acc: 0.9195\n",
      "Epoch 27/30\n",
      "54546/54546 [==============================] - 6s 102us/step - loss: 0.0559 - acc: 0.9247 - val_loss: 0.0557 - val_acc: 0.9221\n",
      "Epoch 28/30\n",
      "54546/54546 [==============================] - 6s 101us/step - loss: 0.0554 - acc: 0.9259 - val_loss: 0.0568 - val_acc: 0.9190\n",
      "Epoch 29/30\n",
      "54546/54546 [==============================] - 5s 100us/step - loss: 0.0547 - acc: 0.9275 - val_loss: 0.0581 - val_acc: 0.9199\n",
      "Epoch 30/30\n",
      "54546/54546 [==============================] - 6s 102us/step - loss: 0.0549 - acc: 0.9260 - val_loss: 0.0563 - val_acc: 0.9210\n"
     ]
    }
   ],
   "source": [
    "\"\"\"seven-CONV-LAYERS-THICK\"\"\"\n",
    "if not data_augmentation:\n",
    "    print('Not using data augmentation.')\n",
    "    train_history_6= model_6.fit(\n",
    "        x_train,\n",
    "        y_train,\n",
    "        batch_size=batch_size,\n",
    "        epochs=epochs,\n",
    "        validation_split= Vld_Splt,\n",
    "        shuffle=True)\n",
    "else:\n",
    "    print('Using real-time data augmentation.')\n",
    "    # This will do preprocessing and realtime data augmentation:\n",
    "    datagen = ImageDataGenerator(\n",
    "        featurewise_center=False,  # set input mean to 0 over the dataset\n",
    "        samplewise_center=False,  # set each sample mean to 0\n",
    "        featurewise_std_normalization=False,  # divide inputs by dataset std\n",
    "        samplewise_std_normalization=False,  # divide each input by its std\n",
    "        zca_whitening=False,  # apply ZCA whitening\n",
    "        zca_epsilon=1e-06,  # epsilon for ZCA whitening\n",
    "        rotation_range=0,  # randomly rotate images in 0 to 180 degrees\n",
    "        width_shift_range=0.1,  # randomly shift images horizontally\n",
    "        height_shift_range=0.1,  # randomly shift images vertically\n",
    "        shear_range=0.,  # set range for random shear\n",
    "        zoom_range=0.,  # set range for random zoom\n",
    "        channel_shift_range=0.,  # set range for random channel shifts\n",
    "        # set mode for filling points outside the input boundaries\n",
    "        fill_mode='nearest',\n",
    "        cval=0.,  # value used for fill_mode = \"constant\"\n",
    "        horizontal_flip=True,  # randomly flip images\n",
    "        vertical_flip=False,  # randomly flip images\n",
    "        # set rescaling factor (applied before any other transformation)\n",
    "        rescale=None,\n",
    "        # set function that will be applied on each input\n",
    "        preprocessing_function=None,\n",
    "        # image data format, either \"channels_first\" or \"channels_last\"\n",
    "        data_format=None,\n",
    "        # fraction of images reserved for validation (strictly between 0 and 1)\n",
    "        validation_split=0.0)\n",
    "\n",
    "    # Compute quantities required for feature-wise normalization\n",
    "    # (std, mean, and principal components if ZCA whitening is applied).\n",
    "    datagen.fit(x_train)\n",
    "\n",
    "    # Fit the model on the batches generated by datagen.flow().\n",
    "    train_history_6= model_6.fit_generator(\n",
    "        datagen.flow(x_train, y_train, batch_size=batch_size),\n",
    "        epochs= epochs,\n",
    "        validation_split= Vld_Splt,\n",
    "        steps_per_epoch= int(x_train.shape[0]/ batch_size),\n",
    "        workers=4)"
   ]
  },
  {
   "cell_type": "code",
   "execution_count": 23,
   "metadata": {},
   "outputs": [
    {
     "name": "stdout",
     "output_type": "stream",
     "text": [
      "Train on 54546 samples, validate on 5454 samples\n",
      "Epoch 1/30\n",
      "54546/54546 [==============================] - 3s 54us/step - loss: 0.7438 - acc: 0.7282 - val_loss: 0.5312 - val_acc: 0.8304\n",
      "Epoch 2/30\n",
      "54546/54546 [==============================] - 2s 36us/step - loss: 0.5257 - acc: 0.8058 - val_loss: 0.4534 - val_acc: 0.8539\n",
      "Epoch 3/30\n",
      "54546/54546 [==============================] - 2s 36us/step - loss: 0.4818 - acc: 0.8245 - val_loss: 0.4107 - val_acc: 0.8629\n",
      "Epoch 4/30\n",
      "54546/54546 [==============================] - 2s 36us/step - loss: 0.4485 - acc: 0.8347 - val_loss: 0.3879 - val_acc: 0.8682\n",
      "Epoch 5/30\n",
      "54546/54546 [==============================] - 2s 36us/step - loss: 0.4278 - acc: 0.8429 - val_loss: 0.3646 - val_acc: 0.8740\n",
      "Epoch 6/30\n",
      "54546/54546 [==============================] - 2s 36us/step - loss: 0.4089 - acc: 0.8496 - val_loss: 0.3544 - val_acc: 0.8766\n",
      "Epoch 7/30\n",
      "54546/54546 [==============================] - 2s 37us/step - loss: 0.3941 - acc: 0.8538 - val_loss: 0.3322 - val_acc: 0.8808\n",
      "Epoch 8/30\n",
      "54546/54546 [==============================] - 2s 36us/step - loss: 0.3855 - acc: 0.8578 - val_loss: 0.3296 - val_acc: 0.8854\n",
      "Epoch 9/30\n",
      "54546/54546 [==============================] - 2s 36us/step - loss: 0.3708 - acc: 0.8628 - val_loss: 0.3308 - val_acc: 0.8841\n",
      "Epoch 10/30\n",
      "54546/54546 [==============================] - 2s 36us/step - loss: 0.3613 - acc: 0.8668 - val_loss: 0.3177 - val_acc: 0.8898\n",
      "Epoch 11/30\n",
      "54546/54546 [==============================] - 2s 36us/step - loss: 0.3554 - acc: 0.8669 - val_loss: 0.3187 - val_acc: 0.8845\n",
      "Epoch 12/30\n",
      "54546/54546 [==============================] - 2s 36us/step - loss: 0.3495 - acc: 0.8710 - val_loss: 0.3017 - val_acc: 0.8962\n",
      "Epoch 13/30\n",
      "54546/54546 [==============================] - 2s 36us/step - loss: 0.3400 - acc: 0.8739 - val_loss: 0.3130 - val_acc: 0.8902\n",
      "Epoch 14/30\n",
      "54546/54546 [==============================] - 2s 36us/step - loss: 0.3323 - acc: 0.8761 - val_loss: 0.3031 - val_acc: 0.8926\n",
      "Epoch 15/30\n",
      "54546/54546 [==============================] - 2s 36us/step - loss: 0.3329 - acc: 0.8764 - val_loss: 0.3017 - val_acc: 0.8909\n",
      "Epoch 16/30\n",
      "54546/54546 [==============================] - 2s 36us/step - loss: 0.3291 - acc: 0.8768 - val_loss: 0.2930 - val_acc: 0.8979\n",
      "Epoch 17/30\n",
      "54546/54546 [==============================] - 2s 36us/step - loss: 0.3235 - acc: 0.8790 - val_loss: 0.2871 - val_acc: 0.9010\n",
      "Epoch 18/30\n",
      "54546/54546 [==============================] - 2s 37us/step - loss: 0.3199 - acc: 0.8800 - val_loss: 0.2868 - val_acc: 0.9012\n",
      "Epoch 19/30\n",
      "54546/54546 [==============================] - 2s 37us/step - loss: 0.3199 - acc: 0.8800 - val_loss: 0.2846 - val_acc: 0.8975\n",
      "Epoch 20/30\n",
      "54546/54546 [==============================] - 2s 36us/step - loss: 0.3137 - acc: 0.8833 - val_loss: 0.2860 - val_acc: 0.8981\n",
      "Epoch 21/30\n",
      "54546/54546 [==============================] - 2s 36us/step - loss: 0.3128 - acc: 0.8845 - val_loss: 0.2835 - val_acc: 0.9054\n",
      "Epoch 22/30\n",
      "54546/54546 [==============================] - 2s 36us/step - loss: 0.3054 - acc: 0.8854 - val_loss: 0.2837 - val_acc: 0.9048\n",
      "Epoch 23/30\n",
      "54546/54546 [==============================] - 2s 37us/step - loss: 0.3026 - acc: 0.8861 - val_loss: 0.2737 - val_acc: 0.9039\n",
      "Epoch 24/30\n",
      "54546/54546 [==============================] - 2s 38us/step - loss: 0.3008 - acc: 0.8869 - val_loss: 0.2734 - val_acc: 0.9058\n",
      "Epoch 25/30\n",
      "54546/54546 [==============================] - 2s 37us/step - loss: 0.2987 - acc: 0.8889 - val_loss: 0.2730 - val_acc: 0.9012\n",
      "Epoch 26/30\n",
      "54546/54546 [==============================] - 2s 36us/step - loss: 0.2962 - acc: 0.8893 - val_loss: 0.2705 - val_acc: 0.9045\n",
      "Epoch 27/30\n",
      "54546/54546 [==============================] - 2s 36us/step - loss: 0.2925 - acc: 0.8915 - val_loss: 0.2700 - val_acc: 0.9050\n",
      "Epoch 28/30\n",
      "54546/54546 [==============================] - 2s 37us/step - loss: 0.2924 - acc: 0.8895 - val_loss: 0.2676 - val_acc: 0.9063\n",
      "Epoch 29/30\n",
      "54546/54546 [==============================] - 2s 36us/step - loss: 0.2918 - acc: 0.8908 - val_loss: 0.2632 - val_acc: 0.9054\n",
      "Epoch 30/30\n",
      "54546/54546 [==============================] - 2s 36us/step - loss: 0.2843 - acc: 0.8930 - val_loss: 0.2663 - val_acc: 0.9061\n"
     ]
    }
   ],
   "source": [
    "\"\"\"CNN-3-CONV-LAYERS\"\"\"\n",
    "model_7.compile(loss='categorical_crossentropy',\n",
    "              optimizer='adam', metrics=['accuracy'])\n",
    "train_history_7= model_7.fit(x= x_train, y= y_train, validation_split= Vld_Splt,\n",
    "                         epochs= epochs, batch_size= batch_size, verbose=1)"
   ]
  },
  {
   "cell_type": "code",
   "execution_count": 24,
   "metadata": {},
   "outputs": [
    {
     "name": "stdout",
     "output_type": "stream",
     "text": [
      "10000/10000 [==============================] - 1s 136us/step\n"
     ]
    },
    {
     "data": {
      "text/plain": [
       "0.8169"
      ]
     },
     "execution_count": 24,
     "metadata": {},
     "output_type": "execute_result"
    }
   ],
   "source": [
    "\"\"\"one-CONV-LAYERS-THICK\"\"\"\n",
    "scores_0= model_0.evaluate(x_test, y_test)\n",
    "scores_0[1]"
   ]
  },
  {
   "cell_type": "code",
   "execution_count": 25,
   "metadata": {},
   "outputs": [
    {
     "name": "stdout",
     "output_type": "stream",
     "text": [
      "10000/10000 [==============================] - 1s 113us/step\n"
     ]
    },
    {
     "data": {
      "text/plain": [
       "0.8701"
      ]
     },
     "execution_count": 25,
     "metadata": {},
     "output_type": "execute_result"
    }
   ],
   "source": [
    "\"\"\"two-CONV-LAYERS-THICK\"\"\"\n",
    "scores_1= model_1.evaluate(x_test, y_test)\n",
    "scores_1[1]"
   ]
  },
  {
   "cell_type": "code",
   "execution_count": 26,
   "metadata": {},
   "outputs": [
    {
     "name": "stdout",
     "output_type": "stream",
     "text": [
      "10000/10000 [==============================] - 1s 103us/step\n"
     ]
    },
    {
     "data": {
      "text/plain": [
       "0.8897"
      ]
     },
     "execution_count": 26,
     "metadata": {},
     "output_type": "execute_result"
    }
   ],
   "source": [
    "\"\"\"three-CONV-LAYERS-THICK\"\"\"\n",
    "scores_2= model_2.evaluate(x_test, y_test)\n",
    "scores_2[1]"
   ]
  },
  {
   "cell_type": "code",
   "execution_count": 27,
   "metadata": {},
   "outputs": [
    {
     "name": "stdout",
     "output_type": "stream",
     "text": [
      "10000/10000 [==============================] - 1s 104us/step\n"
     ]
    },
    {
     "data": {
      "text/plain": [
       "0.9097"
      ]
     },
     "execution_count": 27,
     "metadata": {},
     "output_type": "execute_result"
    }
   ],
   "source": [
    "\"\"\"four-CONV-LAYERS-THICK\"\"\"\n",
    "scores_3= model_3.evaluate(x_test, y_test)\n",
    "scores_3[1]"
   ]
  },
  {
   "cell_type": "code",
   "execution_count": 28,
   "metadata": {},
   "outputs": [
    {
     "name": "stdout",
     "output_type": "stream",
     "text": [
      "10000/10000 [==============================] - 1s 89us/step\n"
     ]
    },
    {
     "data": {
      "text/plain": [
       "0.9135"
      ]
     },
     "execution_count": 28,
     "metadata": {},
     "output_type": "execute_result"
    }
   ],
   "source": [
    "\"\"\"five-CONV-LAYERS-THICK\"\"\"\n",
    "scores_4= model_4.evaluate(x_test, y_test)\n",
    "scores_4[1]"
   ]
  },
  {
   "cell_type": "code",
   "execution_count": 29,
   "metadata": {},
   "outputs": [
    {
     "name": "stdout",
     "output_type": "stream",
     "text": [
      "10000/10000 [==============================] - 1s 91us/step\n"
     ]
    },
    {
     "data": {
      "text/plain": [
       "0.9152"
      ]
     },
     "execution_count": 29,
     "metadata": {},
     "output_type": "execute_result"
    }
   ],
   "source": [
    "\"\"\"six-CONV-LAYERS-THICK\"\"\"\n",
    "scores_5= model_5.evaluate(x_test, y_test)\n",
    "scores_5[1]"
   ]
  },
  {
   "cell_type": "code",
   "execution_count": 30,
   "metadata": {},
   "outputs": [
    {
     "name": "stdout",
     "output_type": "stream",
     "text": [
      "10000/10000 [==============================] - 1s 95us/step\n"
     ]
    },
    {
     "data": {
      "text/plain": [
       "0.9181"
      ]
     },
     "execution_count": 30,
     "metadata": {},
     "output_type": "execute_result"
    }
   ],
   "source": [
    "\"\"\"seven-CONV-LAYERS-THICK\"\"\"\n",
    "scores_6= model_6.evaluate(x_test, y_test)\n",
    "scores_6[1]"
   ]
  },
  {
   "cell_type": "code",
   "execution_count": 31,
   "metadata": {},
   "outputs": [
    {
     "name": "stdout",
     "output_type": "stream",
     "text": [
      "10000/10000 [==============================] - 1s 66us/step\n"
     ]
    },
    {
     "data": {
      "text/plain": [
       "0.9027"
      ]
     },
     "execution_count": 31,
     "metadata": {},
     "output_type": "execute_result"
    }
   ],
   "source": [
    "\"\"\"CNN\"\"\"\n",
    "scores_7= model_7.evaluate(x_test, y_test)\n",
    "scores_7[1]"
   ]
  },
  {
   "cell_type": "code",
   "execution_count": 32,
   "metadata": {},
   "outputs": [],
   "source": [
    "import matplotlib.pyplot as plt\n",
    "def show_train_history(train_history, train, validation):\n",
    "    plt.plot(train_history.history[train])\n",
    "    plt.plot(train_history.history[validation])\n",
    "    plt.title('Train History')\n",
    "    plt.ylabel(train)\n",
    "    plt.xlabel('Epoch')\n",
    "    plt.legend(['train', 'validation'], loc='best')\n",
    "    plt.show()"
   ]
  },
  {
   "cell_type": "code",
   "execution_count": 33,
   "metadata": {},
   "outputs": [
    {
     "data": {
      "image/png": "[encoded data removed]",
      "text/plain": [
       "<Figure size 432x288 with 1 Axes>"
      ]
     },
     "metadata": {
      "needs_background": "light"
     },
     "output_type": "display_data"
    }
   ],
   "source": [
    "show_train_history(train_history_0, 'acc', 'val_acc')"
   ]
  },
  {
   "cell_type": "code",
   "execution_count": 34,
   "metadata": {},
   "outputs": [
    {
     "data": {
      "image/png": "[encoded data removed]",
      "text/plain": [
       "<Figure size 432x288 with 1 Axes>"
      ]
     },
     "metadata": {
      "needs_background": "light"
     },
     "output_type": "display_data"
    }
   ],
   "source": [
    "show_train_history(train_history_1, 'acc', 'val_acc')"
   ]
  },
  {
   "cell_type": "code",
   "execution_count": 35,
   "metadata": {},
   "outputs": [
    {
     "data": {
      "image/png": "[encoded data removed]",
      "text/plain": [
       "<Figure size 432x288 with 1 Axes>"
      ]
     },
     "metadata": {
      "needs_background": "light"
     },
     "output_type": "display_data"
    }
   ],
   "source": [
    "show_train_history(train_history_2, 'acc', 'val_acc')"
   ]
  },
  {
   "cell_type": "code",
   "execution_count": 36,
   "metadata": {},
   "outputs": [
    {
     "data": {
      "image/png": "[encoded data removed]",
      "text/plain": [
       "<Figure size 432x288 with 1 Axes>"
      ]
     },
     "metadata": {
      "needs_background": "light"
     },
     "output_type": "display_data"
    }
   ],
   "source": [
    "show_train_history(train_history_3, 'acc', 'val_acc')"
   ]
  },
  {
   "cell_type": "code",
   "execution_count": 37,
   "metadata": {},
   "outputs": [
    {
     "data": {
      "image/png": "[encoded data removed]",
      "text/plain": [
       "<Figure size 432x288 with 1 Axes>"
      ]
     },
     "metadata": {
      "needs_background": "light"
     },
     "output_type": "display_data"
    }
   ],
   "source": [
    "show_train_history(train_history_4, 'acc', 'val_acc')"
   ]
  },
  {
   "cell_type": "code",
   "execution_count": 38,
   "metadata": {},
   "outputs": [
    {
     "data": {
      "image/png": "[encoded data removed]",
      "text/plain": [
       "<Figure size 432x288 with 1 Axes>"
      ]
     },
     "metadata": {
      "needs_background": "light"
     },
     "output_type": "display_data"
    }
   ],
   "source": [
    "show_train_history(train_history_5, 'acc', 'val_acc')"
   ]
  },
  {
   "cell_type": "code",
   "execution_count": 39,
   "metadata": {},
   "outputs": [
    {
     "data": {
      "image/png": "[encoded data removed]",
      "text/plain": [
       "<Figure size 432x288 with 1 Axes>"
      ]
     },
     "metadata": {
      "needs_background": "light"
     },
     "output_type": "display_data"
    }
   ],
   "source": [
    "show_train_history(train_history_6, 'acc', 'val_acc')"
   ]
  },
  {
   "cell_type": "code",
   "execution_count": 40,
   "metadata": {},
   "outputs": [
    {
     "data": {
      "image/png": "[encoded data removed]",
      "text/plain": [
       "<Figure size 432x288 with 1 Axes>"
      ]
     },
     "metadata": {
      "needs_background": "light"
     },
     "output_type": "display_data"
    }
   ],
   "source": [
    "show_train_history(train_history_7, 'acc', 'val_acc')"
   ]
  },
  {
   "cell_type": "code",
   "execution_count": 42,
   "metadata": {},
   "outputs": [
    {
     "data": {
      "image/png": "[encoded data removed]",
      "text/plain": [
       "<Figure size 432x288 with 1 Axes>"
      ]
     },
     "metadata": {
      "needs_background": "light"
     },
     "output_type": "display_data"
    }
   ],
   "source": [
    "plt.plot(train_history_0.history['val_acc'], 'r-')\n",
    "plt.plot(train_history_1.history['val_acc'], 'b--')\n",
    "plt.plot(train_history_2.history['val_acc'], 'k.')\n",
    "plt.plot(train_history_3.history['val_acc'], 'b-')\n",
    "plt.plot(train_history_4.history['val_acc'], 'h-')\n",
    "plt.plot(train_history_5.history['val_acc'], 'c-')\n",
    "plt.plot(train_history_6.history['val_acc'], 'g*-')\n",
    "plt.plot(train_history_7.history['val_acc'], 'k-.')\n",
    "plt.title('Training on Fasion_MNIST')\n",
    "plt.ylabel('Validation Accuracy')\n",
    "plt.xlabel('Epoch')\n",
    "plt.legend(['CapsNet: 1-conv','CapsNet: 2-conv','CapsNet: 3-conv','CapsNet: 4-conv','CapsNet: 5-conv','CapsNet: 6-conv',\n",
    "           'CapsNet: 7-conv','CNN-2CONV'], loc='best')\n",
    "plt.show()"
   ]
  },
  {
   "cell_type": "code",
   "execution_count": null,
   "metadata": {},
   "outputs": [],
   "source": []
  }
 ],
 "metadata": {
  "kernelspec": {
   "display_name": "Python 3",
   "language": "python",
   "name": "python3"
  },
  "language_info": {
   "codemirror_mode": {
    "name": "ipython",
    "version": 3
   },
   "file_extension": ".py",
   "mimetype": "text/x-python",
   "name": "python",
   "nbconvert_exporter": "python",
   "pygments_lexer": "ipython3",
   "version": "3.6.10"
  }
 },
 "nbformat": 4,
 "nbformat_minor": 2
}
