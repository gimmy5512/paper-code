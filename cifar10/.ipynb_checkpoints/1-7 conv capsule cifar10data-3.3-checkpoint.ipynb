{
 "cells": [
  {
   "cell_type": "code",
   "execution_count": 1,
   "metadata": {},
   "outputs": [],
   "source": [
    "import os\n"
   ]
  },
  {
   "cell_type": "code",
   "execution_count": 2,
   "metadata": {},
   "outputs": [
    {
     "name": "stderr",
     "output_type": "stream",
     "text": [
      "Using TensorFlow backend.\n",
      "C:\\Users\\ASUS\\Anaconda3\\envs\\tensorflow-gpu\\lib\\site-packages\\tensorflow\\python\\framework\\dtypes.py:526: FutureWarning: Passing (type, 1) or '1type' as a synonym of type is deprecated; in a future version of numpy, it will be understood as (type, (1,)) / '(1,)type'.\n",
      "  _np_qint8 = np.dtype([(\"qint8\", np.int8, 1)])\n",
      "C:\\Users\\ASUS\\Anaconda3\\envs\\tensorflow-gpu\\lib\\site-packages\\tensorflow\\python\\framework\\dtypes.py:527: FutureWarning: Passing (type, 1) or '1type' as a synonym of type is deprecated; in a future version of numpy, it will be understood as (type, (1,)) / '(1,)type'.\n",
      "  _np_quint8 = np.dtype([(\"quint8\", np.uint8, 1)])\n",
      "C:\\Users\\ASUS\\Anaconda3\\envs\\tensorflow-gpu\\lib\\site-packages\\tensorflow\\python\\framework\\dtypes.py:528: FutureWarning: Passing (type, 1) or '1type' as a synonym of type is deprecated; in a future version of numpy, it will be understood as (type, (1,)) / '(1,)type'.\n",
      "  _np_qint16 = np.dtype([(\"qint16\", np.int16, 1)])\n",
      "C:\\Users\\ASUS\\Anaconda3\\envs\\tensorflow-gpu\\lib\\site-packages\\tensorflow\\python\\framework\\dtypes.py:529: FutureWarning: Passing (type, 1) or '1type' as a synonym of type is deprecated; in a future version of numpy, it will be understood as (type, (1,)) / '(1,)type'.\n",
      "  _np_quint16 = np.dtype([(\"quint16\", np.uint16, 1)])\n",
      "C:\\Users\\ASUS\\Anaconda3\\envs\\tensorflow-gpu\\lib\\site-packages\\tensorflow\\python\\framework\\dtypes.py:530: FutureWarning: Passing (type, 1) or '1type' as a synonym of type is deprecated; in a future version of numpy, it will be understood as (type, (1,)) / '(1,)type'.\n",
      "  _np_qint32 = np.dtype([(\"qint32\", np.int32, 1)])\n",
      "C:\\Users\\ASUS\\Anaconda3\\envs\\tensorflow-gpu\\lib\\site-packages\\tensorflow\\python\\framework\\dtypes.py:535: FutureWarning: Passing (type, 1) or '1type' as a synonym of type is deprecated; in a future version of numpy, it will be understood as (type, (1,)) / '(1,)type'.\n",
      "  np_resource = np.dtype([(\"resource\", np.ubyte, 1)])\n"
     ]
    }
   ],
   "source": [
    "from __future__ import print_function\n",
    "from keras import backend as K\n",
    "from keras.layers import Layer\n",
    "from keras import activations\n",
    "from keras import utils\n",
    "from keras.datasets import mnist\n",
    "from keras.datasets import fashion_mnist\n",
    "from keras.datasets import cifar10\n",
    "from keras.models import Model\n",
    "from keras.layers import *\n",
    "from keras.preprocessing.image import ImageDataGenerator\n",
    "import cv2"
   ]
  },
  {
   "cell_type": "code",
   "execution_count": 3,
   "metadata": {},
   "outputs": [],
   "source": [
    "from tensorflow.compat.v1 import ConfigProto\n",
    "from tensorflow.compat.v1 import InteractiveSession\n",
    "\n",
    "config = ConfigProto()\n",
    "config.gpu_options.allow_growth = True\n",
    "session = InteractiveSession(config=config)"
   ]
  },
  {
   "cell_type": "code",
   "execution_count": 4,
   "metadata": {},
   "outputs": [],
   "source": [
    "Vld_Splt= 0.0909\n",
    "batch_size = 200\n",
    "num_classes = 10\n",
    "epochs = 30"
   ]
  },
  {
   "cell_type": "code",
   "execution_count": 5,
   "metadata": {},
   "outputs": [],
   "source": [
    "(x_train, y_train), (x_test, y_test) = cifar10.load_data()\n",
    "\n",
    "x_train = x_train.astype('float32')\n",
    "x_test = x_test.astype('float32')\n",
    "x_train /= 255\n",
    "x_test /= 255\n",
    "y_train = utils.to_categorical(y_train, num_classes)\n",
    "y_test = utils.to_categorical(y_test, num_classes)"
   ]
  },
  {
   "cell_type": "code",
   "execution_count": 6,
   "metadata": {},
   "outputs": [
    {
     "name": "stdout",
     "output_type": "stream",
     "text": [
      "(50000, 10) \n",
      " (10000, 10) \n",
      " (50000, 32, 32, 3) \n",
      " (10000, 32, 32, 3)\n"
     ]
    }
   ],
   "source": [
    "print(y_train.shape, '\\n',y_test.shape,'\\n',\n",
    "      x_train.shape,'\\n', x_test.shape)"
   ]
  },
  {
   "cell_type": "code",
   "execution_count": 7,
   "metadata": {},
   "outputs": [],
   "source": [
    "# the squashing function.\n",
    "# we use 0.5 in stead of 1 in hinton's paper.\n",
    "# if 1, the norm of vector will be zoomed out.\n",
    "# if 0.5, the norm will be zoomed in while original norm is less than 0.5\n",
    "# and be zoomed out while original norm is greater than 0.5.\n",
    "def squash(x, axis=-1):\n",
    "    s_squared_norm = K.sum(K.square(x), axis, keepdims=True) + K.epsilon()\n",
    "    scale = K.sqrt(s_squared_norm) / (0.5 + s_squared_norm)\n",
    "    return scale * x\n",
    "\n",
    "\n",
    "# define our own softmax function instead of K.softmax\n",
    "# because K.softmax can not specify axis.\n",
    "def softmax(x, axis=-1):\n",
    "    ex = K.exp(x - K.max(x, axis=axis, keepdims=True))\n",
    "    return ex / K.sum(ex, axis=axis, keepdims=True)\n",
    "\n",
    "\n",
    "# define the margin loss like hinge loss\n",
    "def margin_loss(y_true, y_pred):\n",
    "    lamb, margin = 0.5, 0.1\n",
    "    return K.sum(y_true * K.square(K.relu(1 - margin - y_pred)) + lamb * (\n",
    "        1 - y_true) * K.square(K.relu(y_pred - margin)), axis=-1)\n",
    "\n",
    "\n",
    "class Capsule(Layer):\n",
    "    \"\"\"A Capsule Implement with Pure Keras\n",
    "    There are two vesions of Capsule.\n",
    "    One is like dense layer (for the fixed-shape input),\n",
    "    and the other is like timedistributed dense (for various length input).\n",
    "\n",
    "    The input shape of Capsule must be (batch_size,\n",
    "                                        input_num_capsule,\n",
    "                                        input_dim_capsule\n",
    "                                       )\n",
    "    and the output shape is (batch_size,\n",
    "                             num_capsule,\n",
    "                             dim_capsule\n",
    "                            )\n",
    "\n",
    "    Capsule Implement is from https://github.com/bojone/Capsule/\n",
    "    Capsule Paper: https://arxiv.org/abs/1710.09829\n",
    "    \"\"\"\n",
    "\n",
    "    def __init__(self,\n",
    "                 num_capsule,\n",
    "                 dim_capsule,\n",
    "                 routings=3,\n",
    "                 share_weights=True,\n",
    "                 activation='squash',\n",
    "                 **kwargs):\n",
    "        super(Capsule, self).__init__(**kwargs)\n",
    "        self.num_capsule = num_capsule\n",
    "        self.dim_capsule = dim_capsule\n",
    "        self.routings = routings\n",
    "        self.share_weights = share_weights\n",
    "        if activation == 'squash':\n",
    "            self.activation = squash\n",
    "        else:\n",
    "            self.activation = activations.get(activation)\n",
    "\n",
    "    def build(self, input_shape):\n",
    "        input_dim_capsule = input_shape[-1]\n",
    "        if self.share_weights:\n",
    "            self.kernel = self.add_weight(\n",
    "                name='capsule_kernel',\n",
    "                shape=(1, input_dim_capsule,\n",
    "                       self.num_capsule * self.dim_capsule),\n",
    "                initializer='glorot_uniform',\n",
    "                trainable=True)\n",
    "        else:\n",
    "            input_num_capsule = input_shape[-2]\n",
    "            self.kernel = self.add_weight(\n",
    "                name='capsule_kernel',\n",
    "                shape=(input_num_capsule, input_dim_capsule,\n",
    "                       self.num_capsule * self.dim_capsule),\n",
    "                initializer='glorot_uniform',\n",
    "                trainable=True)\n",
    "\n",
    "    def call(self, inputs):\n",
    "        \"\"\"Following the routing algorithm from Hinton's paper,\n",
    "        but replace b = b + <u,v> with b = <u,v>.\n",
    "\n",
    "        This change can improve the feature representation of Capsule.\n",
    "\n",
    "        However, you can replace\n",
    "            b = K.batch_dot(outputs, hat_inputs, [2, 3])\n",
    "        with\n",
    "            b += K.batch_dot(outputs, hat_inputs, [2, 3])\n",
    "        to realize a standard routing.\n",
    "        \"\"\"\n",
    "\n",
    "        if self.share_weights:\n",
    "            hat_inputs = K.conv1d(inputs, self.kernel)\n",
    "        else:\n",
    "            hat_inputs = K.local_conv1d(inputs, self.kernel, [1], [1])\n",
    "\n",
    "        batch_size = K.shape(inputs)[0]\n",
    "        input_num_capsule = K.shape(inputs)[1]\n",
    "        hat_inputs = K.reshape(hat_inputs,\n",
    "                               (batch_size, input_num_capsule,\n",
    "                                self.num_capsule, self.dim_capsule))\n",
    "        hat_inputs = K.permute_dimensions(hat_inputs, (0, 2, 1, 3))\n",
    "\n",
    "        b = K.zeros_like(hat_inputs[:, :, :, 0])\n",
    "        for i in range(self.routings):\n",
    "            c = softmax(b, 1)\n",
    "            o = self.activation(K.batch_dot(c, hat_inputs, [2, 2]))\n",
    "            if i < self.routings - 1:\n",
    "                b = K.batch_dot(o, hat_inputs, [2, 3])\n",
    "                if K.backend() == 'theano':\n",
    "                    o = K.sum(o, axis=1)\n",
    "\n",
    "        return o\n",
    "\n",
    "    def compute_output_shape(self, input_shape):\n",
    "        return (None, self.num_capsule, self.dim_capsule)"
   ]
  },
  {
   "cell_type": "code",
   "execution_count": 8,
   "metadata": {},
   "outputs": [
    {
     "name": "stdout",
     "output_type": "stream",
     "text": [
      "WARNING:tensorflow:From C:\\Users\\ASUS\\Anaconda3\\envs\\tensorflow-gpu\\lib\\site-packages\\tensorflow\\python\\framework\\op_def_library.py:263: colocate_with (from tensorflow.python.framework.ops) is deprecated and will be removed in a future version.\n",
      "Instructions for updating:\n",
      "Colocations handled automatically by placer.\n",
      "WARNING:tensorflow:From C:\\Users\\ASUS\\Anaconda3\\envs\\tensorflow-gpu\\lib\\site-packages\\keras\\backend\\tensorflow_backend.py:3445: calling dropout (from tensorflow.python.ops.nn_ops) with keep_prob is deprecated and will be removed in a future version.\n",
      "Instructions for updating:\n",
      "Please use `rate` instead of `keep_prob`. Rate should be set to `rate = 1 - keep_prob`.\n",
      "_________________________________________________________________\n",
      "Layer (type)                 Output Shape              Param #   \n",
      "=================================================================\n",
      "input_1 (InputLayer)         (None, 32, 32, 3)         0         \n",
      "_________________________________________________________________\n",
      "conv2d_1 (Conv2D)            (None, 30, 30, 280)       7840      \n",
      "_________________________________________________________________\n",
      "dropout_1 (Dropout)          (None, 30, 30, 280)       0         \n",
      "_________________________________________________________________\n",
      "reshape_1 (Reshape)          (None, 900, 280)          0         \n",
      "_________________________________________________________________\n",
      "capsule_1 (Capsule)          (None, 10, 16)            44800     \n",
      "_________________________________________________________________\n",
      "lambda_1 (Lambda)            (None, 10)                0         \n",
      "=================================================================\n",
      "Total params: 52,640\n",
      "Trainable params: 52,640\n",
      "Non-trainable params: 0\n",
      "_________________________________________________________________\n"
     ]
    }
   ],
   "source": [
    "\"\"\"one-CONV-LAYERS-THICK\"\"\"\n",
    "input_image = Input(shape=(x_train.shape[1], x_train.shape[2], x_train.shape[3]))\n",
    "x_0 = Conv2D(filters= 280, kernel_size= 3, activation='relu', \n",
    "             padding= 'valid')(input_image)\n",
    "x_0= Dropout(0.1)(x_0)\n",
    "\n",
    "\n",
    "\"\"\"now we reshape it as (batch_size, input_num_capsule, input_dim_capsule)\n",
    "then connect a Capsule layer.\n",
    "\n",
    "the output of final model is the lengths of 10 Capsule, whose dim=16.\n",
    "\n",
    "the length of Capsule is the proba,\n",
    "so the problem becomes a 10 two-classification problem.\n",
    "\"\"\"\n",
    "\n",
    "x_0 = Reshape((-1, 280))(x_0)\n",
    "capsule_0 = Capsule(num_classes, 16, 3, True)(x_0)\n",
    "output_0 = Lambda(lambda z: K.sqrt(K.sum(K.square(z), 2)))(capsule_0)\n",
    "model_0 = Model(inputs= input_image, outputs= output_0)\n",
    "\n",
    "# we use a margin loss\n",
    "model_0.compile(loss =margin_loss, optimizer='adam', metrics=['accuracy'])\n",
    "model_0.summary()\n",
    "\n",
    "# we can compare the performance with or without data augmentation\n",
    "data_augmentation = False"
   ]
  },
  {
   "cell_type": "code",
   "execution_count": 9,
   "metadata": {},
   "outputs": [
    {
     "name": "stdout",
     "output_type": "stream",
     "text": [
      "_________________________________________________________________\n",
      "Layer (type)                 Output Shape              Param #   \n",
      "=================================================================\n",
      "input_2 (InputLayer)         (None, 32, 32, 3)         0         \n",
      "_________________________________________________________________\n",
      "conv2d_2 (Conv2D)            (None, 30, 30, 20)        560       \n",
      "_________________________________________________________________\n",
      "dropout_2 (Dropout)          (None, 30, 30, 20)        0         \n",
      "_________________________________________________________________\n",
      "conv2d_3 (Conv2D)            (None, 28, 28, 150)       27150     \n",
      "_________________________________________________________________\n",
      "dropout_3 (Dropout)          (None, 28, 28, 150)       0         \n",
      "_________________________________________________________________\n",
      "reshape_2 (Reshape)          (None, 784, 150)          0         \n",
      "_________________________________________________________________\n",
      "capsule_2 (Capsule)          (None, 10, 16)            24000     \n",
      "_________________________________________________________________\n",
      "lambda_2 (Lambda)            (None, 10)                0         \n",
      "=================================================================\n",
      "Total params: 51,710\n",
      "Trainable params: 51,710\n",
      "Non-trainable params: 0\n",
      "_________________________________________________________________\n"
     ]
    }
   ],
   "source": [
    "\"\"\"two-CONV-LAYERS-THICK\"\"\"\n",
    "input_image = Input(shape=(x_train.shape[1], x_train.shape[2], x_train.shape[3]))\n",
    "x_1 = Conv2D(filters= 20, kernel_size= 3, activation='relu', \n",
    "             padding= 'valid')(input_image)\n",
    "x_1= Dropout(0.1)(x_1)\n",
    "x_1 = Conv2D(filters= 150, kernel_size= 3, activation='relu',\n",
    "             strides= 1)(x_1)\n",
    "x_1 = Dropout(0.1)(x_1)\n",
    "\n",
    "\n",
    "\"\"\"now we reshape it as (batch_size, input_num_capsule, input_dim_capsule)\n",
    "then connect a Capsule layer.\n",
    "\n",
    "the output of final model is the lengths of 10 Capsule, whose dim=16.\n",
    "\n",
    "the length of Capsule is the proba,\n",
    "so the problem becomes a 10 two-classification problem.\n",
    "\"\"\"\n",
    "\n",
    "x_1 = Reshape((-1, 150))(x_1)\n",
    "capsule_1 = Capsule(num_classes, 16, 3, True)(x_1)\n",
    "output_1 = Lambda(lambda z: K.sqrt(K.sum(K.square(z), 2)))(capsule_1)\n",
    "model_1= Model(inputs= input_image, outputs= output_1)\n",
    "\n",
    "# we use a margin loss\n",
    "model_1.compile(loss =margin_loss, optimizer='adam', metrics=['accuracy'])\n",
    "model_1.summary()\n",
    "\n",
    "# we can compare the performance with or without data augmentation\n",
    "data_augmentation = False"
   ]
  },
  {
   "cell_type": "code",
   "execution_count": 10,
   "metadata": {},
   "outputs": [
    {
     "name": "stdout",
     "output_type": "stream",
     "text": [
      "_________________________________________________________________\n",
      "Layer (type)                 Output Shape              Param #   \n",
      "=================================================================\n",
      "input_3 (InputLayer)         (None, 32, 32, 3)         0         \n",
      "_________________________________________________________________\n",
      "conv2d_4 (Conv2D)            (None, 30, 30, 20)        560       \n",
      "_________________________________________________________________\n",
      "dropout_4 (Dropout)          (None, 30, 30, 20)        0         \n",
      "_________________________________________________________________\n",
      "conv2d_5 (Conv2D)            (None, 28, 28, 45)        8145      \n",
      "_________________________________________________________________\n",
      "dropout_5 (Dropout)          (None, 28, 28, 45)        0         \n",
      "_________________________________________________________________\n",
      "conv2d_6 (Conv2D)            (None, 26, 26, 80)        32480     \n",
      "_________________________________________________________________\n",
      "dropout_6 (Dropout)          (None, 26, 26, 80)        0         \n",
      "_________________________________________________________________\n",
      "reshape_3 (Reshape)          (None, 676, 80)           0         \n",
      "_________________________________________________________________\n",
      "capsule_3 (Capsule)          (None, 10, 16)            12800     \n",
      "_________________________________________________________________\n",
      "lambda_3 (Lambda)            (None, 10)                0         \n",
      "=================================================================\n",
      "Total params: 53,985\n",
      "Trainable params: 53,985\n",
      "Non-trainable params: 0\n",
      "_________________________________________________________________\n"
     ]
    }
   ],
   "source": [
    "\"\"\"three-CONV-LAYERS-THICK\"\"\"\n",
    "input_image = Input(shape=(x_train.shape[1], x_train.shape[2], x_train.shape[3]))\n",
    "x_2 = Conv2D(filters= 20, kernel_size= 3, activation='relu', \n",
    "             padding= 'valid')(input_image)\n",
    "x_2=  Dropout(0.1)(x_2)\n",
    "x_2 = Conv2D(filters= 45, kernel_size= 3, activation='relu',\n",
    "             strides= 1)(x_2)\n",
    "x_2 = Dropout(0.1)(x_2)\n",
    "x_2 = Conv2D(filters= 80, kernel_size= 3, activation='relu',\n",
    "             strides= 1)(x_2)\n",
    "x_2 = Dropout(0.1)(x_2)\n",
    "\n",
    "\n",
    "\"\"\"now we reshape it as (batch_size, input_num_capsule, input_dim_capsule)\n",
    "then connect a Capsule layer.\n",
    "\n",
    "the output of final model is the lengths of 10 Capsule, whose dim=16.\n",
    "\n",
    "the length of Capsule is the proba,\n",
    "so the problem becomes a 10 two-classification problem.\n",
    "\"\"\"\n",
    "\n",
    "x_2 = Reshape((-1, 80))(x_2)\n",
    "capsule_2 = Capsule(num_classes, 16, 3, True)(x_2)\n",
    "output_2 = Lambda(lambda z: K.sqrt(K.sum(K.square(z), 2)))(capsule_2)\n",
    "model_2= Model(inputs= input_image, outputs= output_2)\n",
    "\n",
    "# we use a margin loss\n",
    "model_2.compile(loss =margin_loss, optimizer='adam', metrics=['accuracy'])\n",
    "model_2.summary()\n",
    "\n",
    "# we can compare the performance with or without data augmentation\n",
    "data_augmentation = False"
   ]
  },
  {
   "cell_type": "code",
   "execution_count": 11,
   "metadata": {},
   "outputs": [
    {
     "name": "stdout",
     "output_type": "stream",
     "text": [
      "_________________________________________________________________\n",
      "Layer (type)                 Output Shape              Param #   \n",
      "=================================================================\n",
      "input_4 (InputLayer)         (None, 32, 32, 3)         0         \n",
      "_________________________________________________________________\n",
      "conv2d_7 (Conv2D)            (None, 30, 30, 20)        560       \n",
      "_________________________________________________________________\n",
      "dropout_7 (Dropout)          (None, 30, 30, 20)        0         \n",
      "_________________________________________________________________\n",
      "conv2d_8 (Conv2D)            (None, 28, 28, 35)        6335      \n",
      "_________________________________________________________________\n",
      "dropout_8 (Dropout)          (None, 28, 28, 35)        0         \n",
      "_________________________________________________________________\n",
      "conv2d_9 (Conv2D)            (None, 26, 26, 45)        14220     \n",
      "_________________________________________________________________\n",
      "dropout_9 (Dropout)          (None, 26, 26, 45)        0         \n",
      "_________________________________________________________________\n",
      "conv2d_10 (Conv2D)           (None, 24, 24, 55)        22330     \n",
      "_________________________________________________________________\n",
      "dropout_10 (Dropout)         (None, 24, 24, 55)        0         \n",
      "_________________________________________________________________\n",
      "reshape_4 (Reshape)          (None, 576, 55)           0         \n",
      "_________________________________________________________________\n",
      "capsule_4 (Capsule)          (None, 10, 16)            8800      \n",
      "_________________________________________________________________\n",
      "lambda_4 (Lambda)            (None, 10)                0         \n",
      "=================================================================\n",
      "Total params: 52,245\n",
      "Trainable params: 52,245\n",
      "Non-trainable params: 0\n",
      "_________________________________________________________________\n"
     ]
    }
   ],
   "source": [
    "\"\"\"four-CONV-LAYERS-THICK\"\"\"\n",
    "input_image = Input(shape=(x_train.shape[1], x_train.shape[2], x_train.shape[3]))\n",
    "x_3 = Conv2D(filters= 20, kernel_size= 3, activation='relu', \n",
    "             padding= 'valid')(input_image)\n",
    "x_3= Dropout(0.1)(x_3)\n",
    "x_3 = Conv2D(filters= 35,kernel_size= 3, activation='relu',\n",
    "             strides= 1)(x_3)\n",
    "x_3 = Dropout(0.1)(x_3)\n",
    "x_3 = Conv2D(filters= 45, kernel_size= 3, activation='relu',\n",
    "             strides= 1)(x_3)\n",
    "x_3= Dropout(0.1)(x_3)\n",
    "x_3 = Conv2D(filters= 55, kernel_size= 3, activation='relu',\n",
    "             strides= 1)(x_3)\n",
    "x_3= Dropout(0.1)(x_3)\n",
    "\n",
    "\n",
    "\"\"\"now we reshape it as (batch_size, input_num_capsule, input_dim_capsule)\n",
    "then connect a Capsule layer.\n",
    "\n",
    "the output of final model is the lengths of 10 Capsule, whose dim=16.\n",
    "\n",
    "the length of Capsule is the proba,\n",
    "so the problem becomes a 10 two-classification problem.\n",
    "\"\"\"\n",
    "\n",
    "x_3 = Reshape((-1, 55))(x_3)\n",
    "capsule_3 = Capsule(num_classes, 16, 3, True)(x_3)\n",
    "output_3 = Lambda(lambda z: K.sqrt(K.sum(K.square(z), 2)))(capsule_3)\n",
    "model_3= Model(inputs= input_image, outputs= output_3)\n",
    "\n",
    "# we use a margin loss\n",
    "model_3.compile(loss =margin_loss, optimizer='adam', metrics=['accuracy'])\n",
    "model_3.summary()\n",
    "\n",
    "# we can compare the performance with or without data augmentation\n",
    "data_augmentation = False"
   ]
  },
  {
   "cell_type": "code",
   "execution_count": 53,
   "metadata": {},
   "outputs": [
    {
     "name": "stdout",
     "output_type": "stream",
     "text": [
      "_________________________________________________________________\n",
      "Layer (type)                 Output Shape              Param #   \n",
      "=================================================================\n",
      "input_10 (InputLayer)        (None, 32, 32, 3)         0         \n",
      "_________________________________________________________________\n",
      "conv2d_41 (Conv2D)           (None, 30, 30, 20)        560       \n",
      "_________________________________________________________________\n",
      "dropout_41 (Dropout)         (None, 30, 30, 20)        0         \n",
      "_________________________________________________________________\n",
      "conv2d_42 (Conv2D)           (None, 28, 28, 30)        5430      \n",
      "_________________________________________________________________\n",
      "dropout_42 (Dropout)         (None, 28, 28, 30)        0         \n",
      "_________________________________________________________________\n",
      "conv2d_43 (Conv2D)           (None, 26, 26, 35)        9485      \n",
      "_________________________________________________________________\n",
      "dropout_43 (Dropout)         (None, 26, 26, 35)        0         \n",
      "_________________________________________________________________\n",
      "conv2d_44 (Conv2D)           (None, 24, 24, 38)        12008     \n",
      "_________________________________________________________________\n",
      "dropout_44 (Dropout)         (None, 24, 24, 38)        0         \n",
      "_________________________________________________________________\n",
      "conv2d_45 (Conv2D)           (None, 22, 22, 50)        17150     \n",
      "_________________________________________________________________\n",
      "dropout_45 (Dropout)         (None, 22, 22, 50)        0         \n",
      "_________________________________________________________________\n",
      "reshape_10 (Reshape)         (None, 484, 50)           0         \n",
      "_________________________________________________________________\n",
      "capsule_10 (Capsule)         (None, 10, 16)            8000      \n",
      "_________________________________________________________________\n",
      "lambda_10 (Lambda)           (None, 10)                0         \n",
      "=================================================================\n",
      "Total params: 52,633\n",
      "Trainable params: 52,633\n",
      "Non-trainable params: 0\n",
      "_________________________________________________________________\n"
     ]
    }
   ],
   "source": [
    "\"\"\"five-CONV-LAYERS-THICK\"\"\"\n",
    "input_image = Input(shape=(x_train.shape[1], x_train.shape[2], x_train.shape[3]))\n",
    "x_4 = Conv2D(filters= 20, kernel_size= 3, activation='relu', \n",
    "             padding= 'valid')(input_image)\n",
    "x_4= Dropout(0.1)(x_4)\n",
    "x_4 = Conv2D(filters= 30 ,kernel_size= 3, activation='relu',\n",
    "             strides= 1)(x_4)\n",
    "x_4 = Dropout(0.1)(x_4)\n",
    "x_4 = Conv2D(filters= 35 , kernel_size= 3, activation='relu',\n",
    "             strides= 1)(x_4)\n",
    "x_4= Dropout(0.1)(x_4)\n",
    "x_4 = Conv2D(filters= 38,kernel_size= 3, activation='relu',\n",
    "             strides= 1)(x_4)\n",
    "x_4= Dropout(0.1)(x_4)\n",
    "x_4 = Conv2D(filters= 50,kernel_size= 3, activation='relu',\n",
    "             strides= 1)(x_4)\n",
    "x_4= Dropout(0.1)(x_4)\n",
    "\n",
    "\"\"\"now we reshape it as (batch_size, input_num_capsule, input_dim_capsule)\n",
    "then connect a Capsule layer.\n",
    "\n",
    "the output of final model is the lengths of 10 Capsule, whose dim=16.\n",
    "\n",
    "the length of Capsule is the proba,\n",
    "so the problem becomes a 10 two-classification problem.\n",
    "\"\"\"\n",
    "\n",
    "x_4 = Reshape((-1, 50))(x_4)\n",
    "capsule_4 = Capsule(num_classes, 16, 3, True)(x_4)\n",
    "output_4 = Lambda(lambda z: K.sqrt(K.sum(K.square(z), 2)))(capsule_4)\n",
    "model_4= Model(inputs= input_image, outputs= output_4)\n",
    "\n",
    "# we use a margin loss\n",
    "model_4.compile(loss =margin_loss, optimizer='adam', metrics=['accuracy'])\n",
    "model_4.summary()\n",
    "\n",
    "# we can compare the performance with or without data augmentation\n",
    "data_augmentation = False"
   ]
  },
  {
   "cell_type": "code",
   "execution_count": 54,
   "metadata": {},
   "outputs": [
    {
     "name": "stdout",
     "output_type": "stream",
     "text": [
      "_________________________________________________________________\n",
      "Layer (type)                 Output Shape              Param #   \n",
      "=================================================================\n",
      "input_11 (InputLayer)        (None, 32, 32, 3)         0         \n",
      "_________________________________________________________________\n",
      "conv2d_46 (Conv2D)           (None, 30, 30, 20)        560       \n",
      "_________________________________________________________________\n",
      "dropout_46 (Dropout)         (None, 30, 30, 20)        0         \n",
      "_________________________________________________________________\n",
      "conv2d_47 (Conv2D)           (None, 14, 14, 25)        4525      \n",
      "_________________________________________________________________\n",
      "dropout_47 (Dropout)         (None, 14, 14, 25)        0         \n",
      "_________________________________________________________________\n",
      "conv2d_48 (Conv2D)           (None, 12, 12, 30)        6780      \n",
      "_________________________________________________________________\n",
      "dropout_48 (Dropout)         (None, 12, 12, 30)        0         \n",
      "_________________________________________________________________\n",
      "conv2d_49 (Conv2D)           (None, 10, 10, 30)        8130      \n",
      "_________________________________________________________________\n",
      "dropout_49 (Dropout)         (None, 10, 10, 30)        0         \n",
      "_________________________________________________________________\n",
      "conv2d_50 (Conv2D)           (None, 8, 8, 35)          9485      \n",
      "_________________________________________________________________\n",
      "dropout_50 (Dropout)         (None, 8, 8, 35)          0         \n",
      "_________________________________________________________________\n",
      "conv2d_51 (Conv2D)           (None, 6, 6, 48)          15168     \n",
      "_________________________________________________________________\n",
      "dropout_51 (Dropout)         (None, 6, 6, 48)          0         \n",
      "_________________________________________________________________\n",
      "reshape_11 (Reshape)         (None, 36, 48)            0         \n",
      "_________________________________________________________________\n",
      "capsule_11 (Capsule)         (None, 10, 16)            7680      \n",
      "_________________________________________________________________\n",
      "lambda_11 (Lambda)           (None, 10)                0         \n",
      "=================================================================\n",
      "Total params: 52,328\n",
      "Trainable params: 52,328\n",
      "Non-trainable params: 0\n",
      "_________________________________________________________________\n"
     ]
    }
   ],
   "source": [
    "\"\"\"six-CONV-LAYERS-THICK\"\"\"\n",
    "input_image = Input(shape=(x_train.shape[1], x_train.shape[2], x_train.shape[3]))\n",
    "x_5 = Conv2D(filters= 20, kernel_size= 3, activation='relu', \n",
    "             padding= 'valid')(input_image)\n",
    "x_5= Dropout(0.1)(x_5)\n",
    "x_5 = Conv2D(filters= 25 ,kernel_size= 3, activation='relu',\n",
    "             strides= 2)(x_5)\n",
    "x_5 = Dropout(0.1)(x_5)\n",
    "x_5 = Conv2D(filters= 30, kernel_size= 3, activation='relu',\n",
    "             strides= 1)(x_5)\n",
    "x_5= Dropout(0.1)(x_5)\n",
    "x_5 = Conv2D(filters= 30,kernel_size= 3, activation='relu',\n",
    "             strides= 1)(x_5)\n",
    "x_5= Dropout(0.1)(x_5)\n",
    "x_5 = Conv2D(filters= 35,kernel_size= 3, activation='relu',\n",
    "             strides= 1)(x_5)\n",
    "x_5= Dropout(0.1)(x_5)\n",
    "x_5 = Conv2D(filters= 48,kernel_size= 3, activation='relu',\n",
    "             strides= 1)(x_5)\n",
    "x_5= Dropout(0.1)(x_5)\n",
    "\n",
    "\"\"\"now we reshape it as (batch_size, input_num_capsule, input_dim_capsule)\n",
    "then connect a Capsule layer.\n",
    "\n",
    "the output of final model is the lengths of 10 Capsule, whose dim=16.\n",
    "\n",
    "the length of Capsule is the proba,\n",
    "so the problem becomes a 10 two-classification problem.\n",
    "\"\"\"\n",
    "\n",
    "x_5 = Reshape((-1, 48))(x_5)\n",
    "capsule_5 = Capsule(num_classes, 16, 3, True)(x_5)\n",
    "output_5 = Lambda(lambda z: K.sqrt(K.sum(K.square(z), 2)))(capsule_5)\n",
    "model_5= Model(inputs= input_image, outputs= output_5)\n",
    "\n",
    "# we use a margin loss\n",
    "model_5.compile(loss =margin_loss, optimizer='adam', metrics=['accuracy'])\n",
    "model_5.summary()\n",
    "\n",
    "# we can compare the performance with or without data augmentation\n",
    "data_augmentation = False"
   ]
  },
  {
   "cell_type": "code",
   "execution_count": 55,
   "metadata": {},
   "outputs": [
    {
     "name": "stdout",
     "output_type": "stream",
     "text": [
      "_________________________________________________________________\n",
      "Layer (type)                 Output Shape              Param #   \n",
      "=================================================================\n",
      "input_12 (InputLayer)        (None, 32, 32, 3)         0         \n",
      "_________________________________________________________________\n",
      "conv2d_52 (Conv2D)           (None, 30, 30, 20)        560       \n",
      "_________________________________________________________________\n",
      "dropout_52 (Dropout)         (None, 30, 30, 20)        0         \n",
      "_________________________________________________________________\n",
      "conv2d_53 (Conv2D)           (None, 30, 30, 20)        3620      \n",
      "_________________________________________________________________\n",
      "dropout_53 (Dropout)         (None, 30, 30, 20)        0         \n",
      "_________________________________________________________________\n",
      "conv2d_54 (Conv2D)           (None, 14, 14, 25)        4525      \n",
      "_________________________________________________________________\n",
      "dropout_54 (Dropout)         (None, 14, 14, 25)        0         \n",
      "_________________________________________________________________\n",
      "conv2d_55 (Conv2D)           (None, 12, 12, 30)        6780      \n",
      "_________________________________________________________________\n",
      "dropout_55 (Dropout)         (None, 12, 12, 30)        0         \n",
      "_________________________________________________________________\n",
      "conv2d_56 (Conv2D)           (None, 12, 12, 30)        8130      \n",
      "_________________________________________________________________\n",
      "dropout_56 (Dropout)         (None, 12, 12, 30)        0         \n",
      "_________________________________________________________________\n",
      "conv2d_57 (Conv2D)           (None, 10, 10, 40)        10840     \n",
      "_________________________________________________________________\n",
      "dropout_57 (Dropout)         (None, 10, 10, 40)        0         \n",
      "_________________________________________________________________\n",
      "conv2d_58 (Conv2D)           (None, 8, 8, 50)          18050     \n",
      "_________________________________________________________________\n",
      "dropout_58 (Dropout)         (None, 8, 8, 50)          0         \n",
      "_________________________________________________________________\n",
      "reshape_12 (Reshape)         (None, 64, 50)            0         \n",
      "_________________________________________________________________\n",
      "capsule_12 (Capsule)         (None, 10, 16)            8000      \n",
      "_________________________________________________________________\n",
      "lambda_12 (Lambda)           (None, 10)                0         \n",
      "=================================================================\n",
      "Total params: 60,505\n",
      "Trainable params: 60,505\n",
      "Non-trainable params: 0\n",
      "_________________________________________________________________\n"
     ]
    }
   ],
   "source": [
    "\"\"\"seven-CONV-LAYERS-THICK\"\"\"\n",
    "input_image = Input(shape=(x_train.shape[1], x_train.shape[2], x_train.shape[3]))\n",
    "x_6 = Conv2D(filters= 20, kernel_size= 3, activation='relu', \n",
    "             padding= 'valid')(input_image)\n",
    "x_6= Dropout(0.1)(x_6)\n",
    "x_6 = Conv2D(filters= 20 ,kernel_size= 3, activation='relu',\n",
    "             padding= 'same')(x_6)\n",
    "x_6 = Dropout(0.1)(x_6)\n",
    "x_6 = Conv2D(filters= 25, kernel_size= 3, activation='relu',\n",
    "             strides= 2)(x_6)\n",
    "x_6= Dropout(0.1)(x_6)\n",
    "x_6 = Conv2D(filters= 30,kernel_size= 3, activation='relu',\n",
    "             strides= 1)(x_6)\n",
    "x_6= Dropout(0.1)(x_6)\n",
    "x_6 = Conv2D(filters= 30,kernel_size= 3, activation='relu',\n",
    "             padding= 'same')(x_6)\n",
    "x_6= Dropout(0.1)(x_6)\n",
    "x_6 = Conv2D(filters= 40,kernel_size= 3, activation='relu',\n",
    "             strides= 1)(x_6)\n",
    "x_6= Dropout(0.1)(x_6)\n",
    "x_6 = Conv2D(filters= 50,kernel_size= 3, activation='relu',\n",
    "             strides= 1)(x_6)\n",
    "x_6= Dropout(0.1)(x_6)\n",
    "\n",
    "\"\"\"now we reshape it as (batch_size, input_num_capsule, input_dim_capsule)\n",
    "then connect a Capsule layer.\n",
    "\n",
    "the output of final model is the lengths of 10 Capsule, whose dim=16.\n",
    "\n",
    "the length of Capsule is the proba,\n",
    "so the problem becomes a 10 two-classification problem.\n",
    "\"\"\"\n",
    "\n",
    "x_6 = Reshape((-1, 50))(x_6)\n",
    "capsule_6 = Capsule(num_classes, 16, 3, True)(x_6)\n",
    "output_6 = Lambda(lambda z: K.sqrt(K.sum(K.square(z), 2)))(capsule_6)\n",
    "model_6= Model(inputs= input_image, outputs= output_6)\n",
    "\n",
    "# we use a margin loss\n",
    "model_6.compile(loss =margin_loss, optimizer='adam', metrics=['accuracy'])\n",
    "model_6.summary()\n",
    "\n",
    "# we can compare the performance with or without data augmentation\n",
    "data_augmentation = False"
   ]
  },
  {
   "cell_type": "code",
   "execution_count": 79,
   "metadata": {},
   "outputs": [
    {
     "name": "stdout",
     "output_type": "stream",
     "text": [
      "_________________________________________________________________\n",
      "Layer (type)                 Output Shape              Param #   \n",
      "=================================================================\n",
      "conv2d_59 (Conv2D)           (None, 30, 30, 10)        280       \n",
      "_________________________________________________________________\n",
      "max_pooling2d_3 (MaxPooling2 (None, 15, 15, 10)        0         \n",
      "_________________________________________________________________\n",
      "conv2d_60 (Conv2D)           (None, 13, 13, 15)        1365      \n",
      "_________________________________________________________________\n",
      "dropout_59 (Dropout)         (None, 13, 13, 15)        0         \n",
      "_________________________________________________________________\n",
      "max_pooling2d_4 (MaxPooling2 (None, 6, 6, 15)          0         \n",
      "_________________________________________________________________\n",
      "flatten_2 (Flatten)          (None, 540)               0         \n",
      "_________________________________________________________________\n",
      "dropout_60 (Dropout)         (None, 540)               0         \n",
      "_________________________________________________________________\n",
      "dense_3 (Dense)              (None, 256)               138496    \n",
      "_________________________________________________________________\n",
      "dense_4 (Dense)              (None, 10)                2570      \n",
      "=================================================================\n",
      "Total params: 142,711\n",
      "Trainable params: 142,711\n",
      "Non-trainable params: 0\n",
      "_________________________________________________________________\n",
      "None\n"
     ]
    }
   ],
   "source": [
    "\"\"\"CNN-3-CONV-LAYERS\"\"\"\n",
    "from keras.models import Sequential\n",
    "from keras.layers import Dense, Dropout, Activation, Flatten, Conv2D, MaxPooling2D, \\\n",
    "                         ZeroPadding2D\n",
    "\n",
    "model_7= Sequential()\n",
    "model_7.add(Conv2D(filters= 10, kernel_size= (3, 3), padding= 'valid', \n",
    "                   input_shape=(x_train.shape[1], x_train.shape[2], x_train.shape[3]), \n",
    "                   activation='relu'))\n",
    "model_7.add(MaxPooling2D(pool_size=(2,2)))\n",
    "model_7.add(Conv2D(filters= 15, kernel_size= (3, 3), \n",
    "                    padding= 'valid', activation='relu'))\n",
    "model_7.add(Dropout(0.4))\n",
    "model_7.add(MaxPooling2D(pool_size=(2,2)))\n",
    "\n",
    "model_7.add(Flatten())\n",
    "model_7.add(Dropout(0.5))\n",
    "model_7.add(Dense(256, activation='relu'))\n",
    "model_7.add(Dense(num_classes, activation='softmax'))\n",
    "print(model_7.summary())"
   ]
  },
  {
   "cell_type": "code",
   "execution_count": 16,
   "metadata": {},
   "outputs": [
    {
     "name": "stdout",
     "output_type": "stream",
     "text": [
      "Not using data augmentation.\n",
      "WARNING:tensorflow:From C:\\Users\\ASUS\\Anaconda3\\envs\\tensorflow-gpu\\lib\\site-packages\\tensorflow\\python\\ops\\math_ops.py:3066: to_int32 (from tensorflow.python.ops.math_ops) is deprecated and will be removed in a future version.\n",
      "Instructions for updating:\n",
      "Use tf.cast instead.\n",
      "WARNING:tensorflow:From C:\\Users\\ASUS\\Anaconda3\\envs\\tensorflow-gpu\\lib\\site-packages\\tensorflow\\python\\ops\\math_grad.py:102: div (from tensorflow.python.ops.math_ops) is deprecated and will be removed in a future version.\n",
      "Instructions for updating:\n",
      "Deprecated in favor of operator or tf.math.divide.\n",
      "Train on 45455 samples, validate on 4545 samples\n",
      "Epoch 1/30\n",
      "45455/45455 [==============================] - 24s 529us/step - loss: 0.8503 - acc: 0.2360 - val_loss: 0.4403 - val_acc: 0.3507\n",
      "Epoch 2/30\n",
      "45455/45455 [==============================] - 22s 477us/step - loss: 0.4355 - acc: 0.3646 - val_loss: 0.4323 - val_acc: 0.3736\n",
      "Epoch 3/30\n",
      "45455/45455 [==============================] - 22s 481us/step - loss: 0.4133 - acc: 0.3996 - val_loss: 0.4079 - val_acc: 0.4044\n",
      "Epoch 4/30\n",
      "45455/45455 [==============================] - 22s 481us/step - loss: 0.4022 - acc: 0.4195 - val_loss: 0.4133 - val_acc: 0.4095\n",
      "Epoch 5/30\n",
      "45455/45455 [==============================] - 22s 490us/step - loss: 0.3952 - acc: 0.4336 - val_loss: 0.4064 - val_acc: 0.4048\n",
      "Epoch 6/30\n",
      "45455/45455 [==============================] - 22s 481us/step - loss: 0.3858 - acc: 0.4489 - val_loss: 0.3798 - val_acc: 0.4462\n",
      "Epoch 7/30\n",
      "45455/45455 [==============================] - 22s 481us/step - loss: 0.3804 - acc: 0.4599 - val_loss: 0.3830 - val_acc: 0.4570\n",
      "Epoch 8/30\n",
      "45455/45455 [==============================] - 22s 478us/step - loss: 0.3790 - acc: 0.4619 - val_loss: 0.3696 - val_acc: 0.4733\n",
      "Epoch 9/30\n",
      "45455/45455 [==============================] - 22s 479us/step - loss: 0.3774 - acc: 0.4685 - val_loss: 0.3702 - val_acc: 0.4827\n",
      "Epoch 10/30\n",
      "45455/45455 [==============================] - 22s 480us/step - loss: 0.3713 - acc: 0.4741 - val_loss: 0.3679 - val_acc: 0.4807\n",
      "Epoch 11/30\n",
      "45455/45455 [==============================] - 22s 481us/step - loss: 0.3700 - acc: 0.4781 - val_loss: 0.3743 - val_acc: 0.4664\n",
      "Epoch 12/30\n",
      "45455/45455 [==============================] - 22s 480us/step - loss: 0.3691 - acc: 0.4789 - val_loss: 0.3773 - val_acc: 0.4484\n",
      "Epoch 13/30\n",
      "45455/45455 [==============================] - 22s 481us/step - loss: 0.3682 - acc: 0.4809 - val_loss: 0.3602 - val_acc: 0.4953\n",
      "Epoch 14/30\n",
      "45455/45455 [==============================] - 22s 481us/step - loss: 0.3640 - acc: 0.4907 - val_loss: 0.3574 - val_acc: 0.5157\n",
      "Epoch 15/30\n",
      "45455/45455 [==============================] - 22s 480us/step - loss: 0.3639 - acc: 0.4863 - val_loss: 0.3675 - val_acc: 0.4730\n",
      "Epoch 16/30\n",
      "45455/45455 [==============================] - 22s 480us/step - loss: 0.3621 - acc: 0.4918 - val_loss: 0.3583 - val_acc: 0.4939\n",
      "Epoch 17/30\n",
      "45455/45455 [==============================] - 22s 480us/step - loss: 0.3603 - acc: 0.4961 - val_loss: 0.3717 - val_acc: 0.4669\n",
      "Epoch 18/30\n",
      "45455/45455 [==============================] - 22s 481us/step - loss: 0.3594 - acc: 0.4965 - val_loss: 0.3532 - val_acc: 0.4986\n",
      "Epoch 19/30\n",
      "45455/45455 [==============================] - 22s 483us/step - loss: 0.3592 - acc: 0.4975 - val_loss: 0.3678 - val_acc: 0.4876\n",
      "Epoch 20/30\n",
      "45455/45455 [==============================] - 22s 480us/step - loss: 0.3555 - acc: 0.5047 - val_loss: 0.3603 - val_acc: 0.4904\n",
      "Epoch 21/30\n",
      "45455/45455 [==============================] - 22s 480us/step - loss: 0.3563 - acc: 0.5027 - val_loss: 0.3503 - val_acc: 0.5014\n",
      "Epoch 22/30\n",
      "45455/45455 [==============================] - 22s 481us/step - loss: 0.3549 - acc: 0.5068 - val_loss: 0.3551 - val_acc: 0.4939\n",
      "Epoch 23/30\n",
      "45455/45455 [==============================] - 22s 480us/step - loss: 0.3528 - acc: 0.5074 - val_loss: 0.3504 - val_acc: 0.5063\n",
      "Epoch 24/30\n",
      "45455/45455 [==============================] - 22s 481us/step - loss: 0.3521 - acc: 0.5118 - val_loss: 0.3569 - val_acc: 0.5032\n",
      "Epoch 25/30\n",
      "45455/45455 [==============================] - 22s 481us/step - loss: 0.3518 - acc: 0.5107 - val_loss: 0.3599 - val_acc: 0.4810\n",
      "Epoch 26/30\n",
      "45455/45455 [==============================] - 22s 480us/step - loss: 0.3515 - acc: 0.5141 - val_loss: 0.3471 - val_acc: 0.5149\n",
      "Epoch 27/30\n",
      "45455/45455 [==============================] - 22s 480us/step - loss: 0.3521 - acc: 0.5098 - val_loss: 0.3496 - val_acc: 0.5083\n",
      "Epoch 28/30\n",
      "45455/45455 [==============================] - 22s 481us/step - loss: 0.3504 - acc: 0.5144 - val_loss: 0.3531 - val_acc: 0.5096\n",
      "Epoch 29/30\n",
      "45455/45455 [==============================] - 22s 481us/step - loss: 0.3483 - acc: 0.5182 - val_loss: 0.3501 - val_acc: 0.5074 - loss: 0.3482 \n",
      "Epoch 30/30\n",
      "45455/45455 [==============================] - 22s 481us/step - loss: 0.3492 - acc: 0.5197 - val_loss: 0.3450 - val_acc: 0.5228\n"
     ]
    }
   ],
   "source": [
    "\"\"\"one-CONV-LAYERS-THICK\"\"\"\n",
    "if not data_augmentation:\n",
    "    print('Not using data augmentation.')\n",
    "    train_history_0= model_0.fit(\n",
    "        x_train,\n",
    "        y_train,\n",
    "        batch_size=batch_size,\n",
    "        epochs=epochs,\n",
    "        validation_split= Vld_Splt,\n",
    "        shuffle=True)\n",
    "else:\n",
    "    print('Using real-time data augmentation.')\n",
    "    # This will do preprocessing and realtime data augmentation:\n",
    "    datagen = ImageDataGenerator(\n",
    "        featurewise_center=False,  # set input mean to 0 over the dataset\n",
    "        samplewise_center=False,  # set each sample mean to 0\n",
    "        featurewise_std_normalization=False,  # divide inputs by dataset std\n",
    "        samplewise_std_normalization=False,  # divide each input by its std\n",
    "        zca_whitening=False,  # apply ZCA whitening\n",
    "        zca_epsilon=1e-06,  # epsilon for ZCA whitening\n",
    "        rotation_range=0,  # randomly rotate images in 0 to 180 degrees\n",
    "        width_shift_range=0.1,  # randomly shift images horizontally\n",
    "        height_shift_range=0.1,  # randomly shift images vertically\n",
    "        shear_range=0.,  # set range for random shear\n",
    "        zoom_range=0.,  # set range for random zoom\n",
    "        channel_shift_range=0.,  # set range for random channel shifts\n",
    "        # set mode for filling points outside the input boundaries\n",
    "        fill_mode='nearest',\n",
    "        cval=0.,  # value used for fill_mode = \"constant\"\n",
    "        horizontal_flip=True,  # randomly flip images\n",
    "        vertical_flip=False,  # randomly flip images\n",
    "        # set rescaling factor (applied before any other transformation)\n",
    "        rescale=None,\n",
    "        # set function that will be applied on each input\n",
    "        preprocessing_function=None,\n",
    "        # image data format, either \"channels_first\" or \"channels_last\"\n",
    "        data_format=None,\n",
    "        # fraction of images reserved for validation (strictly between 0 and 1)\n",
    "        validation_split=0.0)\n",
    "\n",
    "    # Compute quantities required for feature-wise normalization\n",
    "    # (std, mean, and principal components if ZCA whitening is applied).\n",
    "    datagen.fit(x_train)\n",
    "\n",
    "    # Fit the model on the batches generated by datagen.flow().\n",
    "    train_history_0= model_0.fit_generator(\n",
    "        datagen.flow(x_train, y_train, batch_size=batch_size),\n",
    "        epochs= epochs,\n",
    "        validation_split= Vld_Splt,\n",
    "        steps_per_epoch= int(x_train.shape[0]/ batch_size),\n",
    "        workers=4)"
   ]
  },
  {
   "cell_type": "code",
   "execution_count": 17,
   "metadata": {},
   "outputs": [
    {
     "name": "stdout",
     "output_type": "stream",
     "text": [
      "Not using data augmentation.\n",
      "Train on 45455 samples, validate on 4545 samples\n",
      "Epoch 1/30\n",
      "45455/45455 [==============================] - 18s 404us/step - loss: 0.6637 - acc: 0.3155 - val_loss: 0.4294 - val_acc: 0.4165\n",
      "Epoch 2/30\n",
      "45455/45455 [==============================] - 18s 390us/step - loss: 0.3864 - acc: 0.4426 - val_loss: 0.3742 - val_acc: 0.4678\n",
      "Epoch 3/30\n",
      "45455/45455 [==============================] - 18s 390us/step - loss: 0.3613 - acc: 0.4882 - val_loss: 0.3495 - val_acc: 0.5045\n",
      "Epoch 4/30\n",
      "45455/45455 [==============================] - 18s 389us/step - loss: 0.3457 - acc: 0.5173 - val_loss: 0.3471 - val_acc: 0.5155\n",
      "Epoch 5/30\n",
      "45455/45455 [==============================] - 18s 390us/step - loss: 0.3361 - acc: 0.5331 - val_loss: 0.3326 - val_acc: 0.5564\n",
      "Epoch 6/30\n",
      "45455/45455 [==============================] - 18s 390us/step - loss: 0.3268 - acc: 0.5490 - val_loss: 0.3294 - val_acc: 0.5615\n",
      "Epoch 7/30\n",
      "45455/45455 [==============================] - 18s 390us/step - loss: 0.3207 - acc: 0.5628 - val_loss: 0.3172 - val_acc: 0.5743\n",
      "Epoch 8/30\n",
      "45455/45455 [==============================] - 18s 389us/step - loss: 0.3140 - acc: 0.5743 - val_loss: 0.3135 - val_acc: 0.5820\n",
      "Epoch 9/30\n",
      "45455/45455 [==============================] - 18s 390us/step - loss: 0.3100 - acc: 0.5820 - val_loss: 0.3173 - val_acc: 0.5789\n",
      "Epoch 10/30\n",
      "45455/45455 [==============================] - 18s 390us/step - loss: 0.3056 - acc: 0.5919 - val_loss: 0.3050 - val_acc: 0.5952\n",
      "Epoch 11/30\n",
      "45455/45455 [==============================] - 18s 391us/step - loss: 0.3018 - acc: 0.5996 - val_loss: 0.3058 - val_acc: 0.6081\n",
      "Epoch 12/30\n",
      "45455/45455 [==============================] - 18s 390us/step - loss: 0.2965 - acc: 0.6109 - val_loss: 0.2986 - val_acc: 0.6068\n",
      "Epoch 13/30\n",
      "45455/45455 [==============================] - 18s 389us/step - loss: 0.2952 - acc: 0.6118 - val_loss: 0.2931 - val_acc: 0.6185\n",
      "Epoch 14/30\n",
      "45455/45455 [==============================] - 18s 390us/step - loss: 0.2910 - acc: 0.6194 - val_loss: 0.2990 - val_acc: 0.6084\n",
      "Epoch 15/30\n",
      "45455/45455 [==============================] - 18s 388us/step - loss: 0.2885 - acc: 0.6245 - val_loss: 0.3011 - val_acc: 0.5945\n",
      "Epoch 16/30\n",
      "45455/45455 [==============================] - 18s 389us/step - loss: 0.2868 - acc: 0.6268 - val_loss: 0.2936 - val_acc: 0.6249\n",
      "Epoch 17/30\n",
      "45455/45455 [==============================] - 18s 389us/step - loss: 0.2832 - acc: 0.6329 - val_loss: 0.2858 - val_acc: 0.6334\n",
      "Epoch 18/30\n",
      "45455/45455 [==============================] - 18s 389us/step - loss: 0.2813 - acc: 0.6344 - val_loss: 0.2874 - val_acc: 0.6381\n",
      "Epoch 19/30\n",
      "45455/45455 [==============================] - 18s 388us/step - loss: 0.2797 - acc: 0.6404 - val_loss: 0.2881 - val_acc: 0.6231\n",
      "Epoch 20/30\n",
      "45455/45455 [==============================] - 18s 390us/step - loss: 0.2773 - acc: 0.6449 - val_loss: 0.2872 - val_acc: 0.6297\n",
      "Epoch 21/30\n",
      "45455/45455 [==============================] - 18s 390us/step - loss: 0.2768 - acc: 0.6428 - val_loss: 0.2778 - val_acc: 0.6480\n",
      "Epoch 22/30\n",
      "45455/45455 [==============================] - 18s 389us/step - loss: 0.2729 - acc: 0.6510 - val_loss: 0.2761 - val_acc: 0.6420\n",
      "Epoch 23/30\n",
      "45455/45455 [==============================] - 18s 389us/step - loss: 0.2712 - acc: 0.6502 - val_loss: 0.2860 - val_acc: 0.6345\n",
      "Epoch 24/30\n",
      "45455/45455 [==============================] - 18s 389us/step - loss: 0.2705 - acc: 0.6546 - val_loss: 0.2742 - val_acc: 0.6486\n",
      "Epoch 25/30\n",
      "45455/45455 [==============================] - 18s 389us/step - loss: 0.2675 - acc: 0.6598 - val_loss: 0.2773 - val_acc: 0.6471\n",
      "Epoch 26/30\n",
      "45455/45455 [==============================] - 18s 389us/step - loss: 0.2665 - acc: 0.6574 - val_loss: 0.2805 - val_acc: 0.6339\n",
      "Epoch 27/30\n",
      "45455/45455 [==============================] - 18s 390us/step - loss: 0.2665 - acc: 0.6612 - val_loss: 0.2768 - val_acc: 0.6510\n",
      "Epoch 28/30\n",
      "45455/45455 [==============================] - 18s 390us/step - loss: 0.2636 - acc: 0.6669 - val_loss: 0.2680 - val_acc: 0.6744\n",
      "Epoch 29/30\n",
      "45455/45455 [==============================] - 18s 388us/step - loss: 0.2622 - acc: 0.6660 - val_loss: 0.2673 - val_acc: 0.6733\n",
      "Epoch 30/30\n",
      "45455/45455 [==============================] - 18s 389us/step - loss: 0.2616 - acc: 0.6694 - val_loss: 0.2733 - val_acc: 0.6609\n"
     ]
    }
   ],
   "source": [
    "\"\"\"two-CONV-LAYERS-THICK\"\"\"\n",
    "if not data_augmentation:\n",
    "    print('Not using data augmentation.')\n",
    "    train_history_1= model_1.fit(\n",
    "        x_train,\n",
    "        y_train,\n",
    "        batch_size=batch_size,\n",
    "        epochs=epochs,\n",
    "        validation_split= Vld_Splt,\n",
    "        shuffle=True)\n",
    "else:\n",
    "    print('Using real-time data augmentation.')\n",
    "    # This will do preprocessing and realtime data augmentation:\n",
    "    datagen = ImageDataGenerator(\n",
    "        featurewise_center=False,  # set input mean to 0 over the dataset\n",
    "        samplewise_center=False,  # set each sample mean to 0\n",
    "        featurewise_std_normalization=False,  # divide inputs by dataset std\n",
    "        samplewise_std_normalization=False,  # divide each input by its std\n",
    "        zca_whitening=False,  # apply ZCA whitening\n",
    "        zca_epsilon=1e-06,  # epsilon for ZCA whitening\n",
    "        rotation_range=0,  # randomly rotate images in 0 to 180 degrees\n",
    "        width_shift_range=0.1,  # randomly shift images horizontally\n",
    "        height_shift_range=0.1,  # randomly shift images vertically\n",
    "        shear_range=0.,  # set range for random shear\n",
    "        zoom_range=0.,  # set range for random zoom\n",
    "        channel_shift_range=0.,  # set range for random channel shifts\n",
    "        # set mode for filling points outside the input boundaries\n",
    "        fill_mode='nearest',\n",
    "        cval=0.,  # value used for fill_mode = \"constant\"\n",
    "        horizontal_flip=True,  # randomly flip images\n",
    "        vertical_flip=False,  # randomly flip images\n",
    "        # set rescaling factor (applied before any other transformation)\n",
    "        rescale=None,\n",
    "        # set function that will be applied on each input\n",
    "        preprocessing_function=None,\n",
    "        # image data format, either \"channels_first\" or \"channels_last\"\n",
    "        data_format=None,\n",
    "        # fraction of images reserved for validation (strictly between 0 and 1)\n",
    "        validation_split=0.0)\n",
    "\n",
    "    # Compute quantities required for feature-wise normalization\n",
    "    # (std, mean, and principal components if ZCA whitening is applied).\n",
    "    datagen.fit(x_train)\n",
    "\n",
    "    # Fit the model on the batches generated by datagen.flow().\n",
    "    train_history_1= model_1.fit_generator(\n",
    "        datagen.flow(x_train, y_train, batch_size=batch_size),\n",
    "        epochs= epochs,\n",
    "        validation_split= Vld_Splt,\n",
    "        steps_per_epoch= int(x_train.shape[0]/ batch_size),\n",
    "        workers=4)"
   ]
  },
  {
   "cell_type": "code",
   "execution_count": 18,
   "metadata": {},
   "outputs": [
    {
     "name": "stdout",
     "output_type": "stream",
     "text": [
      "Not using data augmentation.\n",
      "Train on 45455 samples, validate on 4545 samples\n",
      "Epoch 1/30\n",
      "45455/45455 [==============================] - 16s 343us/step - loss: 0.5367 - acc: 0.2949 - val_loss: 0.4108 - val_acc: 0.3991\n",
      "Epoch 2/30\n",
      "45455/45455 [==============================] - 15s 323us/step - loss: 0.3894 - acc: 0.4296 - val_loss: 0.3652 - val_acc: 0.4783\n",
      "Epoch 3/30\n",
      "45455/45455 [==============================] - 15s 323us/step - loss: 0.3589 - acc: 0.4892 - val_loss: 0.3534 - val_acc: 0.4860\n",
      "Epoch 4/30\n",
      "45455/45455 [==============================] - 15s 324us/step - loss: 0.3412 - acc: 0.5218 - val_loss: 0.3352 - val_acc: 0.5298\n",
      "Epoch 5/30\n",
      "45455/45455 [==============================] - 15s 323us/step - loss: 0.3286 - acc: 0.5433 - val_loss: 0.3338 - val_acc: 0.5551\n",
      "Epoch 6/30\n",
      "45455/45455 [==============================] - 15s 324us/step - loss: 0.3204 - acc: 0.5583 - val_loss: 0.3164 - val_acc: 0.5696\n",
      "Epoch 7/30\n",
      "45455/45455 [==============================] - 15s 324us/step - loss: 0.3094 - acc: 0.5805 - val_loss: 0.3019 - val_acc: 0.5976\n",
      "Epoch 8/30\n",
      "45455/45455 [==============================] - 15s 324us/step - loss: 0.3026 - acc: 0.5909 - val_loss: 0.3107 - val_acc: 0.5806\n",
      "Epoch 9/30\n",
      "45455/45455 [==============================] - 15s 325us/step - loss: 0.2955 - acc: 0.6049 - val_loss: 0.2884 - val_acc: 0.6216\n",
      "Epoch 10/30\n",
      "45455/45455 [==============================] - 15s 324us/step - loss: 0.2908 - acc: 0.6131 - val_loss: 0.2839 - val_acc: 0.6400\n",
      "Epoch 11/30\n",
      "45455/45455 [==============================] - 15s 324us/step - loss: 0.2858 - acc: 0.6207 - val_loss: 0.2820 - val_acc: 0.6275\n",
      "Epoch 12/30\n",
      "45455/45455 [==============================] - 15s 324us/step - loss: 0.2794 - acc: 0.6327 - val_loss: 0.2748 - val_acc: 0.6451\n",
      "Epoch 13/30\n",
      "45455/45455 [==============================] - 15s 324us/step - loss: 0.2749 - acc: 0.6407 - val_loss: 0.2780 - val_acc: 0.6297\n",
      "Epoch 14/30\n",
      "45455/45455 [==============================] - 15s 327us/step - loss: 0.2721 - acc: 0.6455 - val_loss: 0.2674 - val_acc: 0.6594\n",
      "Epoch 15/30\n",
      "45455/45455 [==============================] - 15s 326us/step - loss: 0.2687 - acc: 0.6502 - val_loss: 0.2682 - val_acc: 0.6565\n",
      "Epoch 16/30\n",
      "45455/45455 [==============================] - 15s 324us/step - loss: 0.2640 - acc: 0.6564 - val_loss: 0.2616 - val_acc: 0.6726\n",
      "Epoch 17/30\n",
      "45455/45455 [==============================] - 15s 324us/step - loss: 0.2619 - acc: 0.6620 - val_loss: 0.2619 - val_acc: 0.6620\n",
      "Epoch 18/30\n",
      "45455/45455 [==============================] - 15s 324us/step - loss: 0.2602 - acc: 0.6643 - val_loss: 0.2571 - val_acc: 0.6673\n",
      "Epoch 19/30\n",
      "45455/45455 [==============================] - 15s 324us/step - loss: 0.2565 - acc: 0.6695 - val_loss: 0.2658 - val_acc: 0.6557\n",
      "Epoch 20/30\n",
      "45455/45455 [==============================] - 15s 325us/step - loss: 0.2551 - acc: 0.6702 - val_loss: 0.2515 - val_acc: 0.6807\n",
      "Epoch 21/30\n",
      "45455/45455 [==============================] - 15s 324us/step - loss: 0.2513 - acc: 0.6792 - val_loss: 0.2504 - val_acc: 0.6816\n",
      "Epoch 22/30\n",
      "45455/45455 [==============================] - 15s 324us/step - loss: 0.2500 - acc: 0.6790 - val_loss: 0.2511 - val_acc: 0.6891\n",
      "Epoch 23/30\n",
      "45455/45455 [==============================] - 15s 324us/step - loss: 0.2471 - acc: 0.6855 - val_loss: 0.2529 - val_acc: 0.6836\n",
      "Epoch 24/30\n",
      "45455/45455 [==============================] - 15s 324us/step - loss: 0.2465 - acc: 0.6852 - val_loss: 0.2475 - val_acc: 0.6865\n",
      "Epoch 25/30\n",
      "45455/45455 [==============================] - 15s 323us/step - loss: 0.2430 - acc: 0.6933 - val_loss: 0.2582 - val_acc: 0.6693\n",
      "Epoch 26/30\n",
      "45455/45455 [==============================] - 15s 324us/step - loss: 0.2411 - acc: 0.6947 - val_loss: 0.2437 - val_acc: 0.6981\n",
      "Epoch 27/30\n",
      "45455/45455 [==============================] - 15s 324us/step - loss: 0.2397 - acc: 0.6986 - val_loss: 0.2499 - val_acc: 0.6854\n",
      "Epoch 28/30\n",
      "45455/45455 [==============================] - 15s 325us/step - loss: 0.2388 - acc: 0.6980 - val_loss: 0.2431 - val_acc: 0.6957\n",
      "Epoch 29/30\n",
      "45455/45455 [==============================] - 15s 324us/step - loss: 0.2374 - acc: 0.7018 - val_loss: 0.2404 - val_acc: 0.7043\n",
      "Epoch 30/30\n",
      "45455/45455 [==============================] - 15s 323us/step - loss: 0.2347 - acc: 0.7071 - val_loss: 0.2418 - val_acc: 0.6950\n"
     ]
    }
   ],
   "source": [
    "\"\"\"three-CONV-LAYERS-THICK\"\"\"\n",
    "if not data_augmentation:\n",
    "    print('Not using data augmentation.')\n",
    "    train_history_2= model_2.fit(\n",
    "        x_train,\n",
    "        y_train,\n",
    "        batch_size=batch_size,\n",
    "        epochs=epochs,\n",
    "        validation_split= Vld_Splt,\n",
    "        shuffle=True)\n",
    "else:\n",
    "    print('Using real-time data augmentation.')\n",
    "    # This will do preprocessing and realtime data augmentation:\n",
    "    datagen = ImageDataGenerator(\n",
    "        featurewise_center=False,  # set input mean to 0 over the dataset\n",
    "        samplewise_center=False,  # set each sample mean to 0\n",
    "        featurewise_std_normalization=False,  # divide inputs by dataset std\n",
    "        samplewise_std_normalization=False,  # divide each input by its std\n",
    "        zca_whitening=False,  # apply ZCA whitening\n",
    "        zca_epsilon=1e-06,  # epsilon for ZCA whitening\n",
    "        rotation_range=0,  # randomly rotate images in 0 to 180 degrees\n",
    "        width_shift_range=0.1,  # randomly shift images horizontally\n",
    "        height_shift_range=0.1,  # randomly shift images vertically\n",
    "        shear_range=0.,  # set range for random shear\n",
    "        zoom_range=0.,  # set range for random zoom\n",
    "        channel_shift_range=0.,  # set range for random channel shifts\n",
    "        # set mode for filling points outside the input boundaries\n",
    "        fill_mode='nearest',\n",
    "        cval=0.,  # value used for fill_mode = \"constant\"\n",
    "        horizontal_flip=True,  # randomly flip images\n",
    "        vertical_flip=False,  # randomly flip images\n",
    "        # set rescaling factor (applied before any other transformation)\n",
    "        rescale=None,\n",
    "        # set function that will be applied on each input\n",
    "        preprocessing_function=None,\n",
    "        # image data format, either \"channels_first\" or \"channels_last\"\n",
    "        data_format=None,\n",
    "        # fraction of images reserved for validation (strictly between 0 and 1)\n",
    "        validation_split=0.0)\n",
    "\n",
    "    # Compute quantities required for feature-wise normalization\n",
    "    # (std, mean, and principal components if ZCA whitening is applied).\n",
    "    datagen.fit(x_train)\n",
    "\n",
    "    # Fit the model on the batches generated by datagen.flow().\n",
    "    train_history_2= model_2.fit_generator(\n",
    "        datagen.flow(x_train, y_train, batch_size=batch_size),\n",
    "        epochs= epochs,\n",
    "        validation_split= Vld_Splt,\n",
    "        steps_per_epoch= int(x_train.shape[0]/ batch_size),\n",
    "        workers=4)"
   ]
  },
  {
   "cell_type": "code",
   "execution_count": 19,
   "metadata": {},
   "outputs": [
    {
     "name": "stdout",
     "output_type": "stream",
     "text": [
      "Not using data augmentation.\n",
      "Train on 45455 samples, validate on 4545 samples\n",
      "Epoch 1/30\n",
      "45455/45455 [==============================] - 15s 339us/step - loss: 0.5207 - acc: 0.2647 - val_loss: 0.4336 - val_acc: 0.3468\n",
      "Epoch 2/30\n",
      "45455/45455 [==============================] - 14s 317us/step - loss: 0.3934 - acc: 0.4183 - val_loss: 0.3680 - val_acc: 0.4671\n",
      "Epoch 3/30\n",
      "45455/45455 [==============================] - 14s 316us/step - loss: 0.3609 - acc: 0.4830 - val_loss: 0.3426 - val_acc: 0.5226\n",
      "Epoch 4/30\n",
      "45455/45455 [==============================] - 14s 316us/step - loss: 0.3391 - acc: 0.5223 - val_loss: 0.3309 - val_acc: 0.5395\n",
      "Epoch 5/30\n",
      "45455/45455 [==============================] - 14s 316us/step - loss: 0.3240 - acc: 0.5459 - val_loss: 0.3189 - val_acc: 0.5540\n",
      "Epoch 6/30\n",
      "45455/45455 [==============================] - 14s 317us/step - loss: 0.3111 - acc: 0.5709 - val_loss: 0.3002 - val_acc: 0.5813\n",
      "Epoch 7/30\n",
      "45455/45455 [==============================] - 14s 317us/step - loss: 0.3004 - acc: 0.5890 - val_loss: 0.3009 - val_acc: 0.5875\n",
      "Epoch 8/30\n",
      "45455/45455 [==============================] - 14s 316us/step - loss: 0.2925 - acc: 0.6035 - val_loss: 0.2827 - val_acc: 0.6224\n",
      "Epoch 9/30\n",
      "45455/45455 [==============================] - 14s 316us/step - loss: 0.2836 - acc: 0.6190 - val_loss: 0.2865 - val_acc: 0.6156\n",
      "Epoch 10/30\n",
      "45455/45455 [==============================] - 14s 316us/step - loss: 0.2773 - acc: 0.6293 - val_loss: 0.2693 - val_acc: 0.6381\n",
      "Epoch 11/30\n",
      "45455/45455 [==============================] - 14s 317us/step - loss: 0.2727 - acc: 0.6383 - val_loss: 0.2734 - val_acc: 0.6282\n",
      "Epoch 12/30\n",
      "45455/45455 [==============================] - 14s 317us/step - loss: 0.2654 - acc: 0.6485 - val_loss: 0.2682 - val_acc: 0.6370\n",
      "Epoch 13/30\n",
      "45455/45455 [==============================] - 14s 317us/step - loss: 0.2605 - acc: 0.6548 - val_loss: 0.2669 - val_acc: 0.6398\n",
      "Epoch 14/30\n",
      "45455/45455 [==============================] - 14s 316us/step - loss: 0.2567 - acc: 0.6627 - val_loss: 0.2521 - val_acc: 0.6669\n",
      "Epoch 15/30\n",
      "45455/45455 [==============================] - 14s 316us/step - loss: 0.2518 - acc: 0.6700 - val_loss: 0.2531 - val_acc: 0.6660\n",
      "Epoch 16/30\n",
      "45455/45455 [==============================] - 14s 316us/step - loss: 0.2479 - acc: 0.6772 - val_loss: 0.2466 - val_acc: 0.6761\n",
      "Epoch 17/30\n",
      "45455/45455 [==============================] - 14s 316us/step - loss: 0.2465 - acc: 0.6775 - val_loss: 0.2515 - val_acc: 0.6724\n",
      "Epoch 18/30\n",
      "45455/45455 [==============================] - 14s 316us/step - loss: 0.2426 - acc: 0.6844 - val_loss: 0.2441 - val_acc: 0.6799\n",
      "Epoch 19/30\n",
      "45455/45455 [==============================] - 14s 317us/step - loss: 0.2401 - acc: 0.6901 - val_loss: 0.2411 - val_acc: 0.6902\n",
      "Epoch 20/30\n",
      "45455/45455 [==============================] - 14s 316us/step - loss: 0.2352 - acc: 0.6958 - val_loss: 0.2381 - val_acc: 0.6911\n",
      "Epoch 21/30\n",
      "45455/45455 [==============================] - 14s 317us/step - loss: 0.2364 - acc: 0.6945 - val_loss: 0.2353 - val_acc: 0.6955\n",
      "Epoch 22/30\n",
      "45455/45455 [==============================] - 14s 317us/step - loss: 0.2324 - acc: 0.7025 - val_loss: 0.2444 - val_acc: 0.6851\n",
      "Epoch 23/30\n",
      "45455/45455 [==============================] - 14s 317us/step - loss: 0.2313 - acc: 0.7020 - val_loss: 0.2315 - val_acc: 0.7034\n",
      "Epoch 24/30\n",
      "45455/45455 [==============================] - 14s 315us/step - loss: 0.2269 - acc: 0.7100 - val_loss: 0.2302 - val_acc: 0.7036\n",
      "Epoch 25/30\n",
      "45455/45455 [==============================] - 14s 317us/step - loss: 0.2261 - acc: 0.7111 - val_loss: 0.2422 - val_acc: 0.6860\n",
      "Epoch 26/30\n",
      "45455/45455 [==============================] - 14s 317us/step - loss: 0.2241 - acc: 0.7151 - val_loss: 0.2369 - val_acc: 0.6895\n",
      "Epoch 27/30\n",
      "45455/45455 [==============================] - 14s 317us/step - loss: 0.2210 - acc: 0.7191 - val_loss: 0.2291 - val_acc: 0.7030\n",
      "Epoch 28/30\n",
      "45455/45455 [==============================] - 14s 317us/step - loss: 0.2190 - acc: 0.7228 - val_loss: 0.2247 - val_acc: 0.7151\n",
      "Epoch 29/30\n",
      "45455/45455 [==============================] - 14s 317us/step - loss: 0.2195 - acc: 0.7217 - val_loss: 0.2269 - val_acc: 0.7012\n",
      "Epoch 30/30\n",
      "45455/45455 [==============================] - 14s 317us/step - loss: 0.2174 - acc: 0.7237 - val_loss: 0.2249 - val_acc: 0.7127\n"
     ]
    }
   ],
   "source": [
    "\"\"\"four-CONV-LAYERS-THICK\"\"\"\n",
    "if not data_augmentation:\n",
    "    print('Not using data augmentation.')\n",
    "    train_history_3= model_3.fit(\n",
    "        x_train,\n",
    "        y_train,\n",
    "        batch_size=batch_size,\n",
    "        epochs=epochs,\n",
    "        validation_split= Vld_Splt,\n",
    "        shuffle=True)\n",
    "else:\n",
    "    print('Using real-time data augmentation.')\n",
    "    # This will do preprocessing and realtime data augmentation:\n",
    "    datagen = ImageDataGenerator(\n",
    "        featurewise_center=False,  # set input mean to 0 over the dataset\n",
    "        samplewise_center=False,  # set each sample mean to 0\n",
    "        featurewise_std_normalization=False,  # divide inputs by dataset std\n",
    "        samplewise_std_normalization=False,  # divide each input by its std\n",
    "        zca_whitening=False,  # apply ZCA whitening\n",
    "        zca_epsilon=1e-06,  # epsilon for ZCA whitening\n",
    "        rotation_range=0,  # randomly rotate images in 0 to 180 degrees\n",
    "        width_shift_range=0.1,  # randomly shift images horizontally\n",
    "        height_shift_range=0.1,  # randomly shift images vertically\n",
    "        shear_range=0.,  # set range for random shear\n",
    "        zoom_range=0.,  # set range for random zoom\n",
    "        channel_shift_range=0.,  # set range for random channel shifts\n",
    "        # set mode for filling points outside the input boundaries\n",
    "        fill_mode='nearest',\n",
    "        cval=0.,  # value used for fill_mode = \"constant\"\n",
    "        horizontal_flip=True,  # randomly flip images\n",
    "        vertical_flip=False,  # randomly flip images\n",
    "        # set rescaling factor (applied before any other transformation)\n",
    "        rescale=None,\n",
    "        # set function that will be applied on each input\n",
    "        preprocessing_function=None,\n",
    "        # image data format, either \"channels_first\" or \"channels_last\"\n",
    "        data_format=None,\n",
    "        # fraction of images reserved for validation (strictly between 0 and 1)\n",
    "        validation_split=0.0)\n",
    "\n",
    "    # Compute quantities required for feature-wise normalization\n",
    "    # (std, mean, and principal components if ZCA whitening is applied).\n",
    "    datagen.fit(x_train)\n",
    "\n",
    "    # Fit the model on the batches generated by datagen.flow().\n",
    "    train_history_3= model_3.fit_generator(\n",
    "        datagen.flow(x_train, y_train, batch_size=batch_size),\n",
    "        epochs= epochs,\n",
    "        validation_split= Vld_Splt,\n",
    "        steps_per_epoch= int(x_train.shape[0]/ batch_size),\n",
    "        workers=4)"
   ]
  },
  {
   "cell_type": "code",
   "execution_count": 56,
   "metadata": {},
   "outputs": [
    {
     "name": "stdout",
     "output_type": "stream",
     "text": [
      "Not using data augmentation.\n",
      "Train on 45455 samples, validate on 4545 samples\n",
      "Epoch 1/30\n",
      "45455/45455 [==============================] - 16s 355us/step - loss: 0.5009 - acc: 0.2406 - val_loss: 0.4375 - val_acc: 0.2849\n",
      "Epoch 2/30\n",
      "45455/45455 [==============================] - 15s 320us/step - loss: 0.4141 - acc: 0.3571 - val_loss: 0.4019 - val_acc: 0.3897\n",
      "Epoch 3/30\n",
      "45455/45455 [==============================] - 15s 322us/step - loss: 0.3808 - acc: 0.4342 - val_loss: 0.3860 - val_acc: 0.4297\n",
      "Epoch 4/30\n",
      "45455/45455 [==============================] - 15s 324us/step - loss: 0.3541 - acc: 0.4891 - val_loss: 0.3423 - val_acc: 0.5030\n",
      "Epoch 5/30\n",
      "45455/45455 [==============================] - 15s 326us/step - loss: 0.3357 - acc: 0.5225 - val_loss: 0.3327 - val_acc: 0.5307\n",
      "Epoch 6/30\n",
      "45455/45455 [==============================] - 15s 323us/step - loss: 0.3206 - acc: 0.5508 - val_loss: 0.3136 - val_acc: 0.5683\n",
      "Epoch 7/30\n",
      "45455/45455 [==============================] - 15s 333us/step - loss: 0.3107 - acc: 0.5632 - val_loss: 0.3000 - val_acc: 0.5817\n",
      "Epoch 8/30\n",
      "45455/45455 [==============================] - 15s 321us/step - loss: 0.2980 - acc: 0.5899 - val_loss: 0.2866 - val_acc: 0.6088\n",
      "Epoch 9/30\n",
      "45455/45455 [==============================] - 15s 324us/step - loss: 0.2916 - acc: 0.5989 - val_loss: 0.2849 - val_acc: 0.6092\n",
      "Epoch 10/30\n",
      "45455/45455 [==============================] - 15s 331us/step - loss: 0.2832 - acc: 0.6135 - val_loss: 0.3011 - val_acc: 0.5762\n",
      "Epoch 11/30\n",
      "45455/45455 [==============================] - 15s 325us/step - loss: 0.2786 - acc: 0.6191 - val_loss: 0.2755 - val_acc: 0.6242\n",
      "Epoch 12/30\n",
      "45455/45455 [==============================] - 15s 325us/step - loss: 0.2714 - acc: 0.6302 - val_loss: 0.2656 - val_acc: 0.6442\n",
      "Epoch 13/30\n",
      "45455/45455 [==============================] - 15s 320us/step - loss: 0.2655 - acc: 0.6420 - val_loss: 0.2706 - val_acc: 0.6301\n",
      "Epoch 14/30\n",
      "45455/45455 [==============================] - 14s 319us/step - loss: 0.2616 - acc: 0.6468 - val_loss: 0.2648 - val_acc: 0.6409\n",
      "Epoch 15/30\n",
      "45455/45455 [==============================] - 15s 331us/step - loss: 0.2562 - acc: 0.6552 - val_loss: 0.2606 - val_acc: 0.6411\n",
      "Epoch 16/30\n",
      "45455/45455 [==============================] - 15s 320us/step - loss: 0.2533 - acc: 0.6625 - val_loss: 0.2491 - val_acc: 0.6594\n",
      "Epoch 17/30\n",
      "45455/45455 [==============================] - 15s 325us/step - loss: 0.2509 - acc: 0.6657 - val_loss: 0.2553 - val_acc: 0.6656\n",
      "Epoch 18/30\n",
      "45455/45455 [==============================] - 15s 333us/step - loss: 0.2463 - acc: 0.6720 - val_loss: 0.2530 - val_acc: 0.6554\n",
      "Epoch 19/30\n",
      "45455/45455 [==============================] - 15s 325us/step - loss: 0.2437 - acc: 0.6765 - val_loss: 0.2437 - val_acc: 0.6807\n",
      "Epoch 20/30\n",
      "45455/45455 [==============================] - 15s 328us/step - loss: 0.2395 - acc: 0.6852 - val_loss: 0.2419 - val_acc: 0.6788\n",
      "Epoch 21/30\n",
      "45455/45455 [==============================] - 15s 323us/step - loss: 0.2369 - acc: 0.6890 - val_loss: 0.2335 - val_acc: 0.6878\n",
      "Epoch 22/30\n",
      "45455/45455 [==============================] - 15s 326us/step - loss: 0.2342 - acc: 0.6920 - val_loss: 0.2351 - val_acc: 0.6849\n",
      "Epoch 23/30\n",
      "45455/45455 [==============================] - 14s 316us/step - loss: 0.2335 - acc: 0.6931 - val_loss: 0.2349 - val_acc: 0.6887\n",
      "Epoch 24/30\n",
      "45455/45455 [==============================] - 15s 331us/step - loss: 0.2299 - acc: 0.7021 - val_loss: 0.2409 - val_acc: 0.6788\n",
      "Epoch 25/30\n",
      "45455/45455 [==============================] - 15s 328us/step - loss: 0.2318 - acc: 0.6944 - val_loss: 0.2334 - val_acc: 0.6928\n",
      "Epoch 26/30\n",
      "45455/45455 [==============================] - 15s 330us/step - loss: 0.2265 - acc: 0.7053 - val_loss: 0.2298 - val_acc: 0.6915\n",
      "Epoch 27/30\n",
      "45455/45455 [==============================] - 15s 322us/step - loss: 0.2245 - acc: 0.7083 - val_loss: 0.2298 - val_acc: 0.6981\n",
      "Epoch 28/30\n",
      "45455/45455 [==============================] - 15s 323us/step - loss: 0.2228 - acc: 0.7102 - val_loss: 0.2291 - val_acc: 0.7003\n",
      "Epoch 29/30\n",
      "45455/45455 [==============================] - 14s 316us/step - loss: 0.2229 - acc: 0.7113 - val_loss: 0.2268 - val_acc: 0.7014\n",
      "Epoch 30/30\n",
      "45455/45455 [==============================] - 15s 333us/step - loss: 0.2202 - acc: 0.7151 - val_loss: 0.2251 - val_acc: 0.7021\n"
     ]
    }
   ],
   "source": [
    "\"\"\"five-CONV-LAYERS-THICK\"\"\"\n",
    "if not data_augmentation:\n",
    "    print('Not using data augmentation.')\n",
    "    train_history_4= model_4.fit(\n",
    "        x_train,\n",
    "        y_train,\n",
    "        batch_size=batch_size,\n",
    "        epochs=epochs,\n",
    "        validation_split= Vld_Splt,\n",
    "        shuffle=True)\n",
    "else:\n",
    "    print('Using real-time data augmentation.')\n",
    "    # This will do preprocessing and realtime data augmentation:\n",
    "    datagen = ImageDataGenerator(\n",
    "        featurewise_center=False,  # set input mean to 0 over the dataset\n",
    "        samplewise_center=False,  # set each sample mean to 0\n",
    "        featurewise_std_normalization=False,  # divide inputs by dataset std\n",
    "        samplewise_std_normalization=False,  # divide each input by its std\n",
    "        zca_whitening=False,  # apply ZCA whitening\n",
    "        zca_epsilon=1e-06,  # epsilon for ZCA whitening\n",
    "        rotation_range=0,  # randomly rotate images in 0 to 180 degrees\n",
    "        width_shift_range=0.1,  # randomly shift images horizontally\n",
    "        height_shift_range=0.1,  # randomly shift images vertically\n",
    "        shear_range=0.,  # set range for random shear\n",
    "        zoom_range=0.,  # set range for random zoom\n",
    "        channel_shift_range=0.,  # set range for random channel shifts\n",
    "        # set mode for filling points outside the input boundaries\n",
    "        fill_mode='nearest',\n",
    "        cval=0.,  # value used for fill_mode = \"constant\"\n",
    "        horizontal_flip=True,  # randomly flip images\n",
    "        vertical_flip=False,  # randomly flip images\n",
    "        # set rescaling factor (applied before any other transformation)\n",
    "        rescale=None,\n",
    "        # set function that will be applied on each input\n",
    "        preprocessing_function=None,\n",
    "        # image data format, either \"channels_first\" or \"channels_last\"\n",
    "        data_format=None,\n",
    "        # fraction of images reserved for validation (strictly between 0 and 1)\n",
    "        validation_split=0.0)\n",
    "\n",
    "    # Compute quantities required for feature-wise normalization\n",
    "    # (std, mean, and principal components if ZCA whitening is applied).\n",
    "    datagen.fit(x_train)\n",
    "\n",
    "    # Fit the model on the batches generated by datagen.flow().\n",
    "    train_history_4= model_4.fit_generator(\n",
    "        datagen.flow(x_train, y_train, batch_size=batch_size),\n",
    "        epochs= epochs,\n",
    "        validation_split= Vld_Splt,\n",
    "        steps_per_epoch= int(x_train.shape[0]/ batch_size),\n",
    "        workers=4)"
   ]
  },
  {
   "cell_type": "code",
   "execution_count": 57,
   "metadata": {},
   "outputs": [
    {
     "name": "stdout",
     "output_type": "stream",
     "text": [
      "Not using data augmentation.\n",
      "Train on 45455 samples, validate on 4545 samples\n",
      "Epoch 1/30\n",
      "45455/45455 [==============================] - 7s 157us/step - loss: 0.4584 - acc: 0.2761 - val_loss: 0.3918 - val_acc: 0.3993\n",
      "Epoch 2/30\n",
      "45455/45455 [==============================] - 5s 107us/step - loss: 0.3777 - acc: 0.4293 - val_loss: 0.3478 - val_acc: 0.4708\n",
      "Epoch 3/30\n",
      "45455/45455 [==============================] - 6s 125us/step - loss: 0.3407 - acc: 0.4939 - val_loss: 0.3163 - val_acc: 0.5298\n",
      "Epoch 4/30\n",
      "45455/45455 [==============================] - 5s 116us/step - loss: 0.3164 - acc: 0.5343 - val_loss: 0.3085 - val_acc: 0.5516\n",
      "Epoch 5/30\n",
      "45455/45455 [==============================] - 5s 108us/step - loss: 0.3023 - acc: 0.5586 - val_loss: 0.2798 - val_acc: 0.5949\n",
      "Epoch 6/30\n",
      "45455/45455 [==============================] - 5s 106us/step - loss: 0.2879 - acc: 0.5819 - val_loss: 0.2618 - val_acc: 0.6242\n",
      "Epoch 7/30\n",
      "45455/45455 [==============================] - 5s 101us/step - loss: 0.2776 - acc: 0.5981 - val_loss: 0.2642 - val_acc: 0.6220\n",
      "Epoch 8/30\n",
      "45455/45455 [==============================] - 5s 101us/step - loss: 0.2695 - acc: 0.6113 - val_loss: 0.2543 - val_acc: 0.6370\n",
      "Epoch 9/30\n",
      "45455/45455 [==============================] - 5s 102us/step - loss: 0.2628 - acc: 0.6227 - val_loss: 0.2604 - val_acc: 0.6218\n",
      "Epoch 10/30\n",
      "45455/45455 [==============================] - 5s 104us/step - loss: 0.2555 - acc: 0.6332 - val_loss: 0.2418 - val_acc: 0.6541\n",
      "Epoch 11/30\n",
      "45455/45455 [==============================] - 5s 100us/step - loss: 0.2488 - acc: 0.6455 - val_loss: 0.2308 - val_acc: 0.6733\n",
      "Epoch 12/30\n",
      "45455/45455 [==============================] - 5s 103us/step - loss: 0.2435 - acc: 0.6508 - val_loss: 0.2349 - val_acc: 0.6653\n",
      "Epoch 13/30\n",
      "45455/45455 [==============================] - 5s 103us/step - loss: 0.2398 - acc: 0.6575 - val_loss: 0.2269 - val_acc: 0.6785\n",
      "Epoch 14/30\n",
      "45455/45455 [==============================] - 5s 103us/step - loss: 0.2372 - acc: 0.6627 - val_loss: 0.2273 - val_acc: 0.6682\n",
      "Epoch 15/30\n",
      "45455/45455 [==============================] - 5s 105us/step - loss: 0.2322 - acc: 0.6698 - val_loss: 0.2305 - val_acc: 0.6647\n",
      "Epoch 16/30\n",
      "45455/45455 [==============================] - 5s 106us/step - loss: 0.2284 - acc: 0.6763 - val_loss: 0.2190 - val_acc: 0.6882\n",
      "Epoch 17/30\n",
      "45455/45455 [==============================] - 5s 102us/step - loss: 0.2262 - acc: 0.6790 - val_loss: 0.2254 - val_acc: 0.6805\n",
      "Epoch 18/30\n",
      "45455/45455 [==============================] - 5s 102us/step - loss: 0.2227 - acc: 0.6859 - val_loss: 0.2167 - val_acc: 0.6904\n",
      "Epoch 19/30\n",
      "45455/45455 [==============================] - 5s 101us/step - loss: 0.2197 - acc: 0.6906 - val_loss: 0.2136 - val_acc: 0.6942\n",
      "Epoch 20/30\n",
      "45455/45455 [==============================] - 5s 100us/step - loss: 0.2169 - acc: 0.6941 - val_loss: 0.2059 - val_acc: 0.7058\n",
      "Epoch 21/30\n",
      "45455/45455 [==============================] - 5s 101us/step - loss: 0.2140 - acc: 0.7009 - val_loss: 0.2122 - val_acc: 0.6975\n",
      "Epoch 22/30\n",
      "45455/45455 [==============================] - 5s 100us/step - loss: 0.2127 - acc: 0.7036 - val_loss: 0.2036 - val_acc: 0.7131\n",
      "Epoch 23/30\n",
      "45455/45455 [==============================] - 5s 101us/step - loss: 0.2095 - acc: 0.7053 - val_loss: 0.2034 - val_acc: 0.7080\n",
      "Epoch 24/30\n",
      "45455/45455 [==============================] - 5s 108us/step - loss: 0.2082 - acc: 0.7071 - val_loss: 0.2018 - val_acc: 0.7153\n",
      "Epoch 25/30\n",
      "45455/45455 [==============================] - 6s 123us/step - loss: 0.2061 - acc: 0.7137 - val_loss: 0.2091 - val_acc: 0.7045\n",
      "Epoch 26/30\n",
      "45455/45455 [==============================] - 5s 121us/step - loss: 0.2045 - acc: 0.7144 - val_loss: 0.2044 - val_acc: 0.7096\n",
      "Epoch 27/30\n",
      "45455/45455 [==============================] - 5s 119us/step - loss: 0.2033 - acc: 0.7170 - val_loss: 0.1995 - val_acc: 0.7188\n",
      "Epoch 28/30\n",
      "45455/45455 [==============================] - 6s 141us/step - loss: 0.2017 - acc: 0.7195 - val_loss: 0.1969 - val_acc: 0.7232\n",
      "Epoch 29/30\n",
      "45455/45455 [==============================] - 6s 128us/step - loss: 0.2002 - acc: 0.7210 - val_loss: 0.2018 - val_acc: 0.7122\n",
      "Epoch 30/30\n",
      "45455/45455 [==============================] - 5s 121us/step - loss: 0.1983 - acc: 0.7217 - val_loss: 0.1914 - val_acc: 0.7353\n"
     ]
    }
   ],
   "source": [
    "\"\"\"six-CONV-LAYERS-THICK\"\"\"\n",
    "if not data_augmentation:\n",
    "    print('Not using data augmentation.')\n",
    "    train_history_5= model_5.fit(\n",
    "        x_train,\n",
    "        y_train,\n",
    "        batch_size=batch_size,\n",
    "        epochs=epochs,\n",
    "        validation_split= Vld_Splt,\n",
    "        shuffle=True)\n",
    "else:\n",
    "    print('Using real-time data augmentation.')\n",
    "    # This will do preprocessing and realtime data augmentation:\n",
    "    datagen = ImageDataGenerator(\n",
    "        featurewise_center=False,  # set input mean to 0 over the dataset\n",
    "        samplewise_center=False,  # set each sample mean to 0\n",
    "        featurewise_std_normalization=False,  # divide inputs by dataset std\n",
    "        samplewise_std_normalization=False,  # divide each input by its std\n",
    "        zca_whitening=False,  # apply ZCA whitening\n",
    "        zca_epsilon=1e-06,  # epsilon for ZCA whitening\n",
    "        rotation_range=0,  # randomly rotate images in 0 to 180 degrees\n",
    "        width_shift_range=0.1,  # randomly shift images horizontally\n",
    "        height_shift_range=0.1,  # randomly shift images vertically\n",
    "        shear_range=0.,  # set range for random shear\n",
    "        zoom_range=0.,  # set range for random zoom\n",
    "        channel_shift_range=0.,  # set range for random channel shifts\n",
    "        # set mode for filling points outside the input boundaries\n",
    "        fill_mode='nearest',\n",
    "        cval=0.,  # value used for fill_mode = \"constant\"\n",
    "        horizontal_flip=True,  # randomly flip images\n",
    "        vertical_flip=False,  # randomly flip images\n",
    "        # set rescaling factor (applied before any other transformation)\n",
    "        rescale=None,\n",
    "        # set function that will be applied on each input\n",
    "        preprocessing_function=None,\n",
    "        # image data format, either \"channels_first\" or \"channels_last\"\n",
    "        data_format=None,\n",
    "        # fraction of images reserved for validation (strictly between 0 and 1)\n",
    "        validation_split=0.0)\n",
    "\n",
    "    # Compute quantities required for feature-wise normalization\n",
    "    # (std, mean, and principal components if ZCA whitening is applied).\n",
    "    datagen.fit(x_train)\n",
    "\n",
    "    # Fit the model on the batches generated by datagen.flow().\n",
    "    train_history_5= model_5.fit_generator(\n",
    "        datagen.flow(x_train, y_train, batch_size=batch_size),\n",
    "        epochs= epochs,\n",
    "        validation_split= Vld_Splt,\n",
    "        steps_per_epoch= int(x_train.shape[0]/ batch_size),\n",
    "        workers=4)"
   ]
  },
  {
   "cell_type": "code",
   "execution_count": 58,
   "metadata": {},
   "outputs": [
    {
     "name": "stdout",
     "output_type": "stream",
     "text": [
      "Not using data augmentation.\n",
      "Train on 45455 samples, validate on 4545 samples\n",
      "Epoch 1/30\n",
      "45455/45455 [==============================] - 8s 179us/step - loss: 0.4749 - acc: 0.2333 - val_loss: 0.4478 - val_acc: 0.2862\n",
      "Epoch 2/30\n",
      "45455/45455 [==============================] - 6s 140us/step - loss: 0.4073 - acc: 0.3739 - val_loss: 0.3845 - val_acc: 0.4185\n",
      "Epoch 3/30\n",
      "45455/45455 [==============================] - 7s 143us/step - loss: 0.3648 - acc: 0.4532 - val_loss: 0.3499 - val_acc: 0.4766\n",
      "Epoch 4/30\n",
      "45455/45455 [==============================] - 6s 141us/step - loss: 0.3328 - acc: 0.5089 - val_loss: 0.3146 - val_acc: 0.5419\n",
      "Epoch 5/30\n",
      "45455/45455 [==============================] - 6s 141us/step - loss: 0.3121 - acc: 0.5446 - val_loss: 0.2938 - val_acc: 0.5657\n",
      "Epoch 6/30\n",
      "45455/45455 [==============================] - 6s 142us/step - loss: 0.2939 - acc: 0.5748 - val_loss: 0.2855 - val_acc: 0.5820\n",
      "Epoch 7/30\n",
      "45455/45455 [==============================] - 6s 141us/step - loss: 0.2804 - acc: 0.5954 - val_loss: 0.2644 - val_acc: 0.6266\n",
      "Epoch 8/30\n",
      "45455/45455 [==============================] - 6s 143us/step - loss: 0.2676 - acc: 0.6178 - val_loss: 0.2552 - val_acc: 0.6387\n",
      "Epoch 9/30\n",
      "45455/45455 [==============================] - 6s 142us/step - loss: 0.2610 - acc: 0.6248 - val_loss: 0.2455 - val_acc: 0.6488\n",
      "Epoch 10/30\n",
      "45455/45455 [==============================] - 6s 140us/step - loss: 0.2508 - acc: 0.6428 - val_loss: 0.2472 - val_acc: 0.6440\n",
      "Epoch 11/30\n",
      "45455/45455 [==============================] - 6s 141us/step - loss: 0.2429 - acc: 0.6577 - val_loss: 0.2272 - val_acc: 0.6847\n",
      "Epoch 12/30\n",
      "45455/45455 [==============================] - 6s 140us/step - loss: 0.2376 - acc: 0.6632 - val_loss: 0.2211 - val_acc: 0.6928\n",
      "Epoch 13/30\n",
      "45455/45455 [==============================] - 6s 141us/step - loss: 0.2325 - acc: 0.6726 - val_loss: 0.2182 - val_acc: 0.6944\n",
      "Epoch 14/30\n",
      "45455/45455 [==============================] - 6s 140us/step - loss: 0.2294 - acc: 0.6787 - val_loss: 0.2102 - val_acc: 0.7063\n",
      "Epoch 15/30\n",
      "45455/45455 [==============================] - 6s 142us/step - loss: 0.2212 - acc: 0.6904 - val_loss: 0.2091 - val_acc: 0.7094\n",
      "Epoch 16/30\n",
      "45455/45455 [==============================] - 6s 141us/step - loss: 0.2160 - acc: 0.6991 - val_loss: 0.2001 - val_acc: 0.7219\n",
      "Epoch 17/30\n",
      "45455/45455 [==============================] - 6s 140us/step - loss: 0.2136 - acc: 0.7026 - val_loss: 0.1980 - val_acc: 0.7276\n",
      "Epoch 18/30\n",
      "45455/45455 [==============================] - 6s 142us/step - loss: 0.2088 - acc: 0.7091 - val_loss: 0.1989 - val_acc: 0.7256\n",
      "Epoch 19/30\n",
      "45455/45455 [==============================] - 6s 141us/step - loss: 0.2069 - acc: 0.7134 - val_loss: 0.2169 - val_acc: 0.6990\n",
      "Epoch 20/30\n",
      "45455/45455 [==============================] - 6s 141us/step - loss: 0.2036 - acc: 0.7196 - val_loss: 0.1984 - val_acc: 0.7206\n",
      "Epoch 21/30\n",
      "45455/45455 [==============================] - 6s 140us/step - loss: 0.1995 - acc: 0.7270 - val_loss: 0.1907 - val_acc: 0.7375\n",
      "Epoch 22/30\n",
      "45455/45455 [==============================] - 6s 140us/step - loss: 0.1978 - acc: 0.7299 - val_loss: 0.1885 - val_acc: 0.7402\n",
      "Epoch 23/30\n",
      "45455/45455 [==============================] - 6s 139us/step - loss: 0.1927 - acc: 0.7358 - val_loss: 0.1853 - val_acc: 0.7505\n",
      "Epoch 24/30\n",
      "45455/45455 [==============================] - 6s 139us/step - loss: 0.1918 - acc: 0.7389 - val_loss: 0.1804 - val_acc: 0.7490\n",
      "Epoch 25/30\n",
      "45455/45455 [==============================] - 6s 143us/step - loss: 0.1878 - acc: 0.7446 - val_loss: 0.1817 - val_acc: 0.7512\n",
      "Epoch 26/30\n",
      "45455/45455 [==============================] - 7s 144us/step - loss: 0.1869 - acc: 0.7458 - val_loss: 0.1880 - val_acc: 0.7435\n",
      "Epoch 27/30\n",
      "45455/45455 [==============================] - 6s 139us/step - loss: 0.1847 - acc: 0.7518 - val_loss: 0.1818 - val_acc: 0.7534\n",
      "Epoch 28/30\n",
      "45455/45455 [==============================] - 6s 140us/step - loss: 0.1835 - acc: 0.7522 - val_loss: 0.1786 - val_acc: 0.7529\n",
      "Epoch 29/30\n",
      "45455/45455 [==============================] - 6s 143us/step - loss: 0.1794 - acc: 0.7578 - val_loss: 0.1814 - val_acc: 0.7505\n",
      "Epoch 30/30\n",
      "45455/45455 [==============================] - 6s 140us/step - loss: 0.1771 - acc: 0.7619 - val_loss: 0.1750 - val_acc: 0.7593\n"
     ]
    }
   ],
   "source": [
    "\"\"\"seven-CONV-LAYERS-THICK\"\"\"\n",
    "if not data_augmentation:\n",
    "    print('Not using data augmentation.')\n",
    "    train_history_6= model_6.fit(\n",
    "        x_train,\n",
    "        y_train,\n",
    "        batch_size=batch_size,\n",
    "        epochs=epochs,\n",
    "        validation_split= Vld_Splt,\n",
    "        shuffle=True)\n",
    "else:\n",
    "    print('Using real-time data augmentation.')\n",
    "    # This will do preprocessing and realtime data augmentation:\n",
    "    datagen = ImageDataGenerator(\n",
    "        featurewise_center=False,  # set input mean to 0 over the dataset\n",
    "        samplewise_center=False,  # set each sample mean to 0\n",
    "        featurewise_std_normalization=False,  # divide inputs by dataset std\n",
    "        samplewise_std_normalization=False,  # divide each input by its std\n",
    "        zca_whitening=False,  # apply ZCA whitening\n",
    "        zca_epsilon=1e-06,  # epsilon for ZCA whitening\n",
    "        rotation_range=0,  # randomly rotate images in 0 to 180 degrees\n",
    "        width_shift_range=0.1,  # randomly shift images horizontally\n",
    "        height_shift_range=0.1,  # randomly shift images vertically\n",
    "        shear_range=0.,  # set range for random shear\n",
    "        zoom_range=0.,  # set range for random zoom\n",
    "        channel_shift_range=0.,  # set range for random channel shifts\n",
    "        # set mode for filling points outside the input boundaries\n",
    "        fill_mode='nearest',\n",
    "        cval=0.,  # value used for fill_mode = \"constant\"\n",
    "        horizontal_flip=True,  # randomly flip images\n",
    "        vertical_flip=False,  # randomly flip images\n",
    "        # set rescaling factor (applied before any other transformation)\n",
    "        rescale=None,\n",
    "        # set function that will be applied on each input\n",
    "        preprocessing_function=None,\n",
    "        # image data format, either \"channels_first\" or \"channels_last\"\n",
    "        data_format=None,\n",
    "        # fraction of images reserved for validation (strictly between 0 and 1)\n",
    "        validation_split=0.0)\n",
    "\n",
    "    # Compute quantities required for feature-wise normalization\n",
    "    # (std, mean, and principal components if ZCA whitening is applied).\n",
    "    datagen.fit(x_train)\n",
    "\n",
    "    # Fit the model on the batches generated by datagen.flow().\n",
    "    train_history_6= model_6.fit_generator(\n",
    "        datagen.flow(x_train, y_train, batch_size=batch_size),\n",
    "        epochs= epochs,\n",
    "        validation_split= Vld_Splt,\n",
    "        steps_per_epoch= int(x_train.shape[0]/ batch_size),\n",
    "        workers=4)"
   ]
  },
  {
   "cell_type": "code",
   "execution_count": 80,
   "metadata": {},
   "outputs": [
    {
     "name": "stdout",
     "output_type": "stream",
     "text": [
      "Train on 45455 samples, validate on 4545 samples\n",
      "Epoch 1/30\n",
      "45455/45455 [==============================] - 5s 99us/step - loss: 1.7978 - acc: 0.3437 - val_loss: 1.5724 - val_acc: 0.4616\n",
      "Epoch 2/30\n",
      "45455/45455 [==============================] - 3s 58us/step - loss: 1.5283 - acc: 0.4496 - val_loss: 1.4320 - val_acc: 0.5107\n",
      "Epoch 3/30\n",
      "45455/45455 [==============================] - 3s 57us/step - loss: 1.4480 - acc: 0.4805 - val_loss: 1.3867 - val_acc: 0.5364\n",
      "Epoch 4/30\n",
      "45455/45455 [==============================] - 3s 68us/step - loss: 1.4043 - acc: 0.4970 - val_loss: 1.3437 - val_acc: 0.5529\n",
      "Epoch 5/30\n",
      "45455/45455 [==============================] - 3s 65us/step - loss: 1.3636 - acc: 0.5158 - val_loss: 1.2977 - val_acc: 0.5650\n",
      "Epoch 6/30\n",
      "45455/45455 [==============================] - 3s 61us/step - loss: 1.3280 - acc: 0.5262 - val_loss: 1.2617 - val_acc: 0.5833\n",
      "Epoch 7/30\n",
      "45455/45455 [==============================] - 3s 60us/step - loss: 1.2978 - acc: 0.5390 - val_loss: 1.2567 - val_acc: 0.5769\n",
      "Epoch 8/30\n",
      "45455/45455 [==============================] - 3s 64us/step - loss: 1.2709 - acc: 0.5500 - val_loss: 1.2164 - val_acc: 0.5985\n",
      "Epoch 9/30\n",
      "45455/45455 [==============================] - 3s 64us/step - loss: 1.2483 - acc: 0.5585 - val_loss: 1.1839 - val_acc: 0.6022\n",
      "Epoch 10/30\n",
      "45455/45455 [==============================] - 3s 63us/step - loss: 1.2267 - acc: 0.5673 - val_loss: 1.1734 - val_acc: 0.6198\n",
      "Epoch 11/30\n",
      "45455/45455 [==============================] - 3s 66us/step - loss: 1.2029 - acc: 0.5752 - val_loss: 1.1536 - val_acc: 0.6183\n",
      "Epoch 12/30\n",
      "45455/45455 [==============================] - 3s 62us/step - loss: 1.1871 - acc: 0.5810 - val_loss: 1.1434 - val_acc: 0.6328\n",
      "Epoch 13/30\n",
      "45455/45455 [==============================] - 3s 62us/step - loss: 1.1703 - acc: 0.5883 - val_loss: 1.1222 - val_acc: 0.6460\n",
      "Epoch 14/30\n",
      "45455/45455 [==============================] - 3s 58us/step - loss: 1.1468 - acc: 0.5965 - val_loss: 1.1189 - val_acc: 0.6394\n",
      "Epoch 15/30\n",
      "45455/45455 [==============================] - 3s 57us/step - loss: 1.1396 - acc: 0.5977 - val_loss: 1.0991 - val_acc: 0.6363\n",
      "Epoch 16/30\n",
      "45455/45455 [==============================] - 3s 60us/step - loss: 1.1198 - acc: 0.6052 - val_loss: 1.0758 - val_acc: 0.6554\n",
      "Epoch 17/30\n",
      "45455/45455 [==============================] - 3s 65us/step - loss: 1.1075 - acc: 0.6106 - val_loss: 1.0921 - val_acc: 0.6416\n",
      "Epoch 18/30\n",
      "45455/45455 [==============================] - 3s 67us/step - loss: 1.0945 - acc: 0.6147 - val_loss: 1.0633 - val_acc: 0.6653\n",
      "Epoch 19/30\n",
      "45455/45455 [==============================] - 3s 62us/step - loss: 1.0775 - acc: 0.6218 - val_loss: 1.0639 - val_acc: 0.6526\n",
      "Epoch 20/30\n",
      "45455/45455 [==============================] - 3s 63us/step - loss: 1.0684 - acc: 0.6231 - val_loss: 1.0406 - val_acc: 0.6638\n",
      "Epoch 21/30\n",
      "45455/45455 [==============================] - 3s 64us/step - loss: 1.0591 - acc: 0.6259 - val_loss: 1.0153 - val_acc: 0.6695\n",
      "Epoch 22/30\n",
      "45455/45455 [==============================] - 3s 59us/step - loss: 1.0416 - acc: 0.6353 - val_loss: 1.0387 - val_acc: 0.6733\n",
      "Epoch 23/30\n",
      "45455/45455 [==============================] - 3s 62us/step - loss: 1.0357 - acc: 0.6356 - val_loss: 1.0207 - val_acc: 0.6779\n",
      "Epoch 24/30\n",
      "45455/45455 [==============================] - 3s 64us/step - loss: 1.0307 - acc: 0.6378 - val_loss: 1.0216 - val_acc: 0.6627\n",
      "Epoch 25/30\n",
      "45455/45455 [==============================] - 3s 64us/step - loss: 1.0148 - acc: 0.6444 - val_loss: 0.9925 - val_acc: 0.6814\n",
      "Epoch 26/30\n",
      "45455/45455 [==============================] - 3s 61us/step - loss: 1.0061 - acc: 0.6458 - val_loss: 1.0046 - val_acc: 0.6667\n",
      "Epoch 27/30\n",
      "45455/45455 [==============================] - 3s 59us/step - loss: 0.9972 - acc: 0.6475 - val_loss: 0.9651 - val_acc: 0.6847\n",
      "Epoch 28/30\n",
      "45455/45455 [==============================] - 3s 59us/step - loss: 0.9897 - acc: 0.6510 - val_loss: 0.9657 - val_acc: 0.6836\n",
      "Epoch 29/30\n",
      "45455/45455 [==============================] - 3s 66us/step - loss: 0.9870 - acc: 0.6507 - val_loss: 0.9646 - val_acc: 0.6880\n",
      "Epoch 30/30\n",
      "45455/45455 [==============================] - 3s 58us/step - loss: 0.9798 - acc: 0.6551 - val_loss: 0.9665 - val_acc: 0.6902\n"
     ]
    }
   ],
   "source": [
    "\"\"\"CNN-3-CONV-LAYERS\"\"\"\n",
    "model_7.compile(loss='categorical_crossentropy',\n",
    "              optimizer='adam', metrics=['accuracy'])\n",
    "train_history_7= model_7.fit(x= x_train, y= y_train, validation_split= Vld_Splt,\n",
    "                         epochs= epochs, batch_size= batch_size, verbose=1)"
   ]
  },
  {
   "cell_type": "code",
   "execution_count": 60,
   "metadata": {},
   "outputs": [
    {
     "name": "stdout",
     "output_type": "stream",
     "text": [
      "10000/10000 [==============================] - 2s 177us/step\n"
     ]
    },
    {
     "data": {
      "text/plain": [
       "0.5204"
      ]
     },
     "execution_count": 60,
     "metadata": {},
     "output_type": "execute_result"
    }
   ],
   "source": [
    "\"\"\"one-CONV-LAYERS-THICK\"\"\"\n",
    "scores_0= model_0.evaluate(x_test, y_test)\n",
    "scores_0[1]"
   ]
  },
  {
   "cell_type": "code",
   "execution_count": 61,
   "metadata": {},
   "outputs": [
    {
     "name": "stdout",
     "output_type": "stream",
     "text": [
      "10000/10000 [==============================] - 1s 148us/step\n"
     ]
    },
    {
     "data": {
      "text/plain": [
       "0.6514"
      ]
     },
     "execution_count": 61,
     "metadata": {},
     "output_type": "execute_result"
    }
   ],
   "source": [
    "\"\"\"two-CONV-LAYERS-THICK\"\"\"\n",
    "scores_1= model_1.evaluate(x_test, y_test)\n",
    "scores_1[1]"
   ]
  },
  {
   "cell_type": "code",
   "execution_count": 62,
   "metadata": {},
   "outputs": [
    {
     "name": "stdout",
     "output_type": "stream",
     "text": [
      "10000/10000 [==============================] - 1s 130us/step\n"
     ]
    },
    {
     "data": {
      "text/plain": [
       "0.6863"
      ]
     },
     "execution_count": 62,
     "metadata": {},
     "output_type": "execute_result"
    }
   ],
   "source": [
    "\"\"\"three-CONV-LAYERS-THICK\"\"\"\n",
    "scores_2= model_2.evaluate(x_test, y_test)\n",
    "scores_2[1]"
   ]
  },
  {
   "cell_type": "code",
   "execution_count": 63,
   "metadata": {},
   "outputs": [
    {
     "name": "stdout",
     "output_type": "stream",
     "text": [
      "10000/10000 [==============================] - 1s 132us/step\n"
     ]
    },
    {
     "data": {
      "text/plain": [
       "0.7026"
      ]
     },
     "execution_count": 63,
     "metadata": {},
     "output_type": "execute_result"
    }
   ],
   "source": [
    "\"\"\"four-CONV-LAYERS-THICK\"\"\"\n",
    "scores_3= model_3.evaluate(x_test, y_test)\n",
    "scores_3[1]"
   ]
  },
  {
   "cell_type": "code",
   "execution_count": 64,
   "metadata": {},
   "outputs": [
    {
     "name": "stdout",
     "output_type": "stream",
     "text": [
      "10000/10000 [==============================] - 1s 134us/step\n"
     ]
    },
    {
     "data": {
      "text/plain": [
       "0.6925"
      ]
     },
     "execution_count": 64,
     "metadata": {},
     "output_type": "execute_result"
    }
   ],
   "source": [
    "\"\"\"five-CONV-LAYERS-THICK\"\"\"\n",
    "scores_4= model_4.evaluate(x_test, y_test)\n",
    "scores_4[1]"
   ]
  },
  {
   "cell_type": "code",
   "execution_count": 65,
   "metadata": {},
   "outputs": [
    {
     "name": "stdout",
     "output_type": "stream",
     "text": [
      "10000/10000 [==============================] - 1s 99us/step\n"
     ]
    },
    {
     "data": {
      "text/plain": [
       "0.7222"
      ]
     },
     "execution_count": 65,
     "metadata": {},
     "output_type": "execute_result"
    }
   ],
   "source": [
    "\"\"\"six-CONV-LAYERS-THICK\"\"\"\n",
    "scores_5= model_5.evaluate(x_test, y_test)\n",
    "scores_5[1]"
   ]
  },
  {
   "cell_type": "code",
   "execution_count": 66,
   "metadata": {},
   "outputs": [
    {
     "name": "stdout",
     "output_type": "stream",
     "text": [
      "10000/10000 [==============================] - 1s 101us/step\n"
     ]
    },
    {
     "data": {
      "text/plain": [
       "0.753"
      ]
     },
     "execution_count": 66,
     "metadata": {},
     "output_type": "execute_result"
    }
   ],
   "source": [
    "\"\"\"seven-CONV-LAYERS-THICK\"\"\"\n",
    "scores_6= model_6.evaluate(x_test, y_test)\n",
    "scores_6[1]"
   ]
  },
  {
   "cell_type": "code",
   "execution_count": 81,
   "metadata": {},
   "outputs": [
    {
     "name": "stdout",
     "output_type": "stream",
     "text": [
      "10000/10000 [==============================] - 1s 93us/step\n"
     ]
    },
    {
     "data": {
      "text/plain": [
       "0.6705"
      ]
     },
     "execution_count": 81,
     "metadata": {},
     "output_type": "execute_result"
    }
   ],
   "source": [
    "\"\"\"CNN\"\"\"\n",
    "scores_7= model_7.evaluate(x_test, y_test)\n",
    "scores_7[1]"
   ]
  },
  {
   "cell_type": "code",
   "execution_count": 82,
   "metadata": {},
   "outputs": [],
   "source": [
    "import matplotlib.pyplot as plt\n",
    "def show_train_history(train_history, train, validation):\n",
    "    plt.plot(train_history.history[train])\n",
    "    plt.plot(train_history.history[validation])\n",
    "    plt.title('Train History')\n",
    "    plt.ylabel(train)\n",
    "    plt.xlabel('Epoch')\n",
    "    plt.legend(['train', 'validation'], loc='best')\n",
    "    plt.show()"
   ]
  },
  {
   "cell_type": "code",
   "execution_count": 83,
   "metadata": {},
   "outputs": [
    {
     "data": {
      "image/png": "[encoded data removed]",
      "text/plain": [
       "<Figure size 432x288 with 1 Axes>"
      ]
     },
     "metadata": {
      "needs_background": "light"
     },
     "output_type": "display_data"
    }
   ],
   "source": [
    "show_train_history(train_history_0, 'acc', 'val_acc')"
   ]
  },
  {
   "cell_type": "code",
   "execution_count": 84,
   "metadata": {},
   "outputs": [
    {
     "data": {
      "image/png": "[encoded data removed]",
      "text/plain": [
       "<Figure size 432x288 with 1 Axes>"
      ]
     },
     "metadata": {
      "needs_background": "light"
     },
     "output_type": "display_data"
    }
   ],
   "source": [
    "show_train_history(train_history_1, 'acc', 'val_acc')"
   ]
  },
  {
   "cell_type": "code",
   "execution_count": 85,
   "metadata": {},
   "outputs": [
    {
     "data": {
      "image/png": "[encoded data removed]",
      "text/plain": [
       "<Figure size 432x288 with 1 Axes>"
      ]
     },
     "metadata": {
      "needs_background": "light"
     },
     "output_type": "display_data"
    }
   ],
   "source": [
    "show_train_history(train_history_2, 'acc', 'val_acc')"
   ]
  },
  {
   "cell_type": "code",
   "execution_count": 86,
   "metadata": {},
   "outputs": [
    {
     "data": {
      "image/png": "[encoded data removed]",
      "text/plain": [
       "<Figure size 432x288 with 1 Axes>"
      ]
     },
     "metadata": {
      "needs_background": "light"
     },
     "output_type": "display_data"
    }
   ],
   "source": [
    "show_train_history(train_history_3, 'acc', 'val_acc')"
   ]
  },
  {
   "cell_type": "code",
   "execution_count": 87,
   "metadata": {},
   "outputs": [
    {
     "data": {
      "image/png": "[encoded data removed]",
      "text/plain": [
       "<Figure size 432x288 with 1 Axes>"
      ]
     },
     "metadata": {
      "needs_background": "light"
     },
     "output_type": "display_data"
    }
   ],
   "source": [
    "show_train_history(train_history_4, 'acc', 'val_acc')"
   ]
  },
  {
   "cell_type": "code",
   "execution_count": 88,
   "metadata": {},
   "outputs": [
    {
     "data": {
      "image/png": "[encoded data removed]",
      "text/plain": [
       "<Figure size 432x288 with 1 Axes>"
      ]
     },
     "metadata": {
      "needs_background": "light"
     },
     "output_type": "display_data"
    }
   ],
   "source": [
    "show_train_history(train_history_5, 'acc', 'val_acc')"
   ]
  },
  {
   "cell_type": "code",
   "execution_count": 89,
   "metadata": {},
   "outputs": [
    {
     "data": {
      "image/png": "[encoded data removed]",
      "text/plain": [
       "<Figure size 432x288 with 1 Axes>"
      ]
     },
     "metadata": {
      "needs_background": "light"
     },
     "output_type": "display_data"
    }
   ],
   "source": [
    "show_train_history(train_history_6, 'acc', 'val_acc')"
   ]
  },
  {
   "cell_type": "code",
   "execution_count": 90,
   "metadata": {},
   "outputs": [
    {
     "data": {
      "image/png": "[encoded data removed]",
      "text/plain": [
       "<Figure size 432x288 with 1 Axes>"
      ]
     },
     "metadata": {
      "needs_background": "light"
     },
     "output_type": "display_data"
    }
   ],
   "source": [
    "show_train_history(train_history_7, 'acc', 'val_acc')"
   ]
  },
  {
   "cell_type": "code",
   "execution_count": 91,
   "metadata": {},
   "outputs": [
    {
     "data": {
      "image/png": "[encoded data removed]",
      "text/plain": [
       "<Figure size 432x288 with 1 Axes>"
      ]
     },
     "metadata": {
      "needs_background": "light"
     },
     "output_type": "display_data"
    }
   ],
   "source": [
    "plt.plot(train_history_0.history['val_acc'], 'r-')\n",
    "plt.plot(train_history_1.history['val_acc'], 'b--')\n",
    "plt.plot(train_history_2.history['val_acc'], 'k.')\n",
    "plt.plot(train_history_3.history['val_acc'], 'b-')\n",
    "plt.plot(train_history_4.history['val_acc'], 'h-')\n",
    "plt.plot(train_history_5.history['val_acc'], 'c-')\n",
    "plt.plot(train_history_6.history['val_acc'], 'g*-')\n",
    "plt.plot(train_history_7.history['val_acc'], 'k-.')\n",
    "plt.title('Training on Cifar10')\n",
    "plt.ylabel('Validation Accuracy')\n",
    "plt.xlabel('Epoch')\n",
    "plt.legend(['CapsNet: 1-conv','CapsNet: 2-conv','CapsNet: 3-conv','CapsNet: 4-conv','CapsNet: 5-conv','CapsNet: 6-conv',\n",
    "           'CapsNet: 7-conv','CNN-2CONV'], loc='best')\n",
    "plt.show()"
   ]
  },
  {
   "cell_type": "code",
   "execution_count": null,
   "metadata": {},
   "outputs": [],
   "source": []
  }
 ],
 "metadata": {
  "kernelspec": {
   "display_name": "Python 3",
   "language": "python",
   "name": "python3"
  },
  "language_info": {
   "codemirror_mode": {
    "name": "ipython",
    "version": 3
   },
   "file_extension": ".py",
   "mimetype": "text/x-python",
   "name": "python",
   "nbconvert_exporter": "python",
   "pygments_lexer": "ipython3",
   "version": "3.6.10"
  }
 },
 "nbformat": 4,
 "nbformat_minor": 2
}
