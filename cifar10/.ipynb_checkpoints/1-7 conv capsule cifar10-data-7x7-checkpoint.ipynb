{
 "cells": [
  {
   "cell_type": "code",
   "execution_count": 1,
   "metadata": {},
   "outputs": [],
   "source": [
    "import os\n"
   ]
  },
  {
   "cell_type": "code",
   "execution_count": 2,
   "metadata": {},
   "outputs": [
    {
     "name": "stderr",
     "output_type": "stream",
     "text": [
      "Using TensorFlow backend.\n",
      "C:\\Users\\ASUS\\Anaconda3\\envs\\tensorflow-gpu\\lib\\site-packages\\tensorflow\\python\\framework\\dtypes.py:526: FutureWarning: Passing (type, 1) or '1type' as a synonym of type is deprecated; in a future version of numpy, it will be understood as (type, (1,)) / '(1,)type'.\n",
      "  _np_qint8 = np.dtype([(\"qint8\", np.int8, 1)])\n",
      "C:\\Users\\ASUS\\Anaconda3\\envs\\tensorflow-gpu\\lib\\site-packages\\tensorflow\\python\\framework\\dtypes.py:527: FutureWarning: Passing (type, 1) or '1type' as a synonym of type is deprecated; in a future version of numpy, it will be understood as (type, (1,)) / '(1,)type'.\n",
      "  _np_quint8 = np.dtype([(\"quint8\", np.uint8, 1)])\n",
      "C:\\Users\\ASUS\\Anaconda3\\envs\\tensorflow-gpu\\lib\\site-packages\\tensorflow\\python\\framework\\dtypes.py:528: FutureWarning: Passing (type, 1) or '1type' as a synonym of type is deprecated; in a future version of numpy, it will be understood as (type, (1,)) / '(1,)type'.\n",
      "  _np_qint16 = np.dtype([(\"qint16\", np.int16, 1)])\n",
      "C:\\Users\\ASUS\\Anaconda3\\envs\\tensorflow-gpu\\lib\\site-packages\\tensorflow\\python\\framework\\dtypes.py:529: FutureWarning: Passing (type, 1) or '1type' as a synonym of type is deprecated; in a future version of numpy, it will be understood as (type, (1,)) / '(1,)type'.\n",
      "  _np_quint16 = np.dtype([(\"quint16\", np.uint16, 1)])\n",
      "C:\\Users\\ASUS\\Anaconda3\\envs\\tensorflow-gpu\\lib\\site-packages\\tensorflow\\python\\framework\\dtypes.py:530: FutureWarning: Passing (type, 1) or '1type' as a synonym of type is deprecated; in a future version of numpy, it will be understood as (type, (1,)) / '(1,)type'.\n",
      "  _np_qint32 = np.dtype([(\"qint32\", np.int32, 1)])\n",
      "C:\\Users\\ASUS\\Anaconda3\\envs\\tensorflow-gpu\\lib\\site-packages\\tensorflow\\python\\framework\\dtypes.py:535: FutureWarning: Passing (type, 1) or '1type' as a synonym of type is deprecated; in a future version of numpy, it will be understood as (type, (1,)) / '(1,)type'.\n",
      "  np_resource = np.dtype([(\"resource\", np.ubyte, 1)])\n"
     ]
    }
   ],
   "source": [
    "from __future__ import print_function\n",
    "from keras import backend as K\n",
    "from keras.layers import Layer\n",
    "from keras import activations\n",
    "from keras import utils\n",
    "from keras.datasets import fashion_mnist\n",
    "from keras.datasets import mnist\n",
    "from keras.datasets import cifar10\n",
    "from keras.models import Model\n",
    "from keras.layers import *\n",
    "from keras.preprocessing.image import ImageDataGenerator\n",
    "import cv2"
   ]
  },
  {
   "cell_type": "code",
   "execution_count": 3,
   "metadata": {},
   "outputs": [],
   "source": [
    "from tensorflow.compat.v1 import ConfigProto\n",
    "from tensorflow.compat.v1 import InteractiveSession\n",
    "\n",
    "config = ConfigProto()\n",
    "config.gpu_options.allow_growth = True\n",
    "session = InteractiveSession(config=config)"
   ]
  },
  {
   "cell_type": "code",
   "execution_count": 4,
   "metadata": {},
   "outputs": [],
   "source": [
    "Vld_Splt= 0.0909\n",
    "batch_size = 200\n",
    "num_classes = 10\n",
    "epochs = 30"
   ]
  },
  {
   "cell_type": "code",
   "execution_count": 5,
   "metadata": {},
   "outputs": [],
   "source": [
    "(x_train, y_train), (x_test, y_test) = cifar10.load_data()\n",
    "\n",
    "x_train = x_train.astype('float32')\n",
    "x_test = x_test.astype('float32')\n",
    "x_train /= 255\n",
    "x_test /= 255\n",
    "y_train = utils.to_categorical(y_train, num_classes)\n",
    "y_test = utils.to_categorical(y_test, num_classes)"
   ]
  },
  {
   "cell_type": "code",
   "execution_count": 6,
   "metadata": {},
   "outputs": [
    {
     "name": "stdout",
     "output_type": "stream",
     "text": [
      "(50000, 10) \n",
      " (10000, 10) \n",
      " (50000, 32, 32, 3) \n",
      " (10000, 32, 32, 3)\n"
     ]
    }
   ],
   "source": [
    "print(y_train.shape, '\\n',y_test.shape,'\\n',\n",
    "      x_train.shape,'\\n', x_test.shape)"
   ]
  },
  {
   "cell_type": "code",
   "execution_count": 7,
   "metadata": {},
   "outputs": [],
   "source": [
    "# the squashing function.\n",
    "# we use 0.5 in stead of 1 in hinton's paper.\n",
    "# if 1, the norm of vector will be zoomed out.\n",
    "# if 0.5, the norm will be zoomed in while original norm is less than 0.5\n",
    "# and be zoomed out while original norm is greater than 0.5.\n",
    "def squash(x, axis=-1):\n",
    "    s_squared_norm = K.sum(K.square(x), axis, keepdims=True) + K.epsilon()\n",
    "    scale = K.sqrt(s_squared_norm) / (0.5 + s_squared_norm)\n",
    "    return scale * x\n",
    "\n",
    "\n",
    "# define our own softmax function instead of K.softmax\n",
    "# because K.softmax can not specify axis.\n",
    "def softmax(x, axis=-1):\n",
    "    ex = K.exp(x - K.max(x, axis=axis, keepdims=True))\n",
    "    return ex / K.sum(ex, axis=axis, keepdims=True)\n",
    "\n",
    "\n",
    "# define the margin loss like hinge loss\n",
    "def margin_loss(y_true, y_pred):\n",
    "    lamb, margin = 0.5, 0.1\n",
    "    return K.sum(y_true * K.square(K.relu(1 - margin - y_pred)) + lamb * (\n",
    "        1 - y_true) * K.square(K.relu(y_pred - margin)), axis=-1)\n",
    "\n",
    "\n",
    "class Capsule(Layer):\n",
    "    \"\"\"A Capsule Implement with Pure Keras\n",
    "    There are two vesions of Capsule.\n",
    "    One is like dense layer (for the fixed-shape input),\n",
    "    and the other is like timedistributed dense (for various length input).\n",
    "\n",
    "    The input shape of Capsule must be (batch_size,\n",
    "                                        input_num_capsule,\n",
    "                                        input_dim_capsule\n",
    "                                       )\n",
    "    and the output shape is (batch_size,\n",
    "                             num_capsule,\n",
    "                             dim_capsule\n",
    "                            )\n",
    "\n",
    "    Capsule Implement is from https://github.com/bojone/Capsule/\n",
    "    Capsule Paper: https://arxiv.org/abs/1710.09829\n",
    "    \"\"\"\n",
    "\n",
    "    def __init__(self,\n",
    "                 num_capsule,\n",
    "                 dim_capsule,\n",
    "                 routings=3,\n",
    "                 share_weights=True,\n",
    "                 activation='squash',\n",
    "                 **kwargs):\n",
    "        super(Capsule, self).__init__(**kwargs)\n",
    "        self.num_capsule = num_capsule\n",
    "        self.dim_capsule = dim_capsule\n",
    "        self.routings = routings\n",
    "        self.share_weights = share_weights\n",
    "        if activation == 'squash':\n",
    "            self.activation = squash\n",
    "        else:\n",
    "            self.activation = activations.get(activation)\n",
    "\n",
    "    def build(self, input_shape):\n",
    "        input_dim_capsule = input_shape[-1]\n",
    "        if self.share_weights:\n",
    "            self.kernel = self.add_weight(\n",
    "                name='capsule_kernel',\n",
    "                shape=(1, input_dim_capsule,\n",
    "                       self.num_capsule * self.dim_capsule),\n",
    "                initializer='glorot_uniform',\n",
    "                trainable=True)\n",
    "        else:\n",
    "            input_num_capsule = input_shape[-2]\n",
    "            self.kernel = self.add_weight(\n",
    "                name='capsule_kernel',\n",
    "                shape=(input_num_capsule, input_dim_capsule,\n",
    "                       self.num_capsule * self.dim_capsule),\n",
    "                initializer='glorot_uniform',\n",
    "                trainable=True)\n",
    "\n",
    "    def call(self, inputs):\n",
    "        \"\"\"Following the routing algorithm from Hinton's paper,\n",
    "        but replace b = b + <u,v> with b = <u,v>.\n",
    "\n",
    "        This change can improve the feature representation of Capsule.\n",
    "\n",
    "        However, you can replace\n",
    "            b = K.batch_dot(outputs, hat_inputs, [2, 3])\n",
    "        with\n",
    "            b += K.batch_dot(outputs, hat_inputs, [2, 3])\n",
    "        to realize a standard routing.\n",
    "        \"\"\"\n",
    "\n",
    "        if self.share_weights:\n",
    "            hat_inputs = K.conv1d(inputs, self.kernel)\n",
    "        else:\n",
    "            hat_inputs = K.local_conv1d(inputs, self.kernel, [1], [1])\n",
    "\n",
    "        batch_size = K.shape(inputs)[0]\n",
    "        input_num_capsule = K.shape(inputs)[1]\n",
    "        hat_inputs = K.reshape(hat_inputs,\n",
    "                               (batch_size, input_num_capsule,\n",
    "                                self.num_capsule, self.dim_capsule))\n",
    "        hat_inputs = K.permute_dimensions(hat_inputs, (0, 2, 1, 3))\n",
    "\n",
    "        b = K.zeros_like(hat_inputs[:, :, :, 0])\n",
    "        for i in range(self.routings):\n",
    "            c = softmax(b, 1)\n",
    "            o = self.activation(K.batch_dot(c, hat_inputs, [2, 2]))\n",
    "            if i < self.routings - 1:\n",
    "                b = K.batch_dot(o, hat_inputs, [2, 3])\n",
    "                if K.backend() == 'theano':\n",
    "                    o = K.sum(o, axis=1)\n",
    "\n",
    "        return o\n",
    "\n",
    "    def compute_output_shape(self, input_shape):\n",
    "        return (None, self.num_capsule, self.dim_capsule)"
   ]
  },
  {
   "cell_type": "code",
   "execution_count": 8,
   "metadata": {},
   "outputs": [
    {
     "name": "stdout",
     "output_type": "stream",
     "text": [
      "WARNING:tensorflow:From C:\\Users\\ASUS\\Anaconda3\\envs\\tensorflow-gpu\\lib\\site-packages\\tensorflow\\python\\framework\\op_def_library.py:263: colocate_with (from tensorflow.python.framework.ops) is deprecated and will be removed in a future version.\n",
      "Instructions for updating:\n",
      "Colocations handled automatically by placer.\n",
      "WARNING:tensorflow:From C:\\Users\\ASUS\\Anaconda3\\envs\\tensorflow-gpu\\lib\\site-packages\\keras\\backend\\tensorflow_backend.py:3445: calling dropout (from tensorflow.python.ops.nn_ops) with keep_prob is deprecated and will be removed in a future version.\n",
      "Instructions for updating:\n",
      "Please use `rate` instead of `keep_prob`. Rate should be set to `rate = 1 - keep_prob`.\n",
      "_________________________________________________________________\n",
      "Layer (type)                 Output Shape              Param #   \n",
      "=================================================================\n",
      "input_1 (InputLayer)         (None, 32, 32, 3)         0         \n",
      "_________________________________________________________________\n",
      "conv2d_1 (Conv2D)            (None, 13, 13, 180)       26640     \n",
      "_________________________________________________________________\n",
      "dropout_1 (Dropout)          (None, 13, 13, 180)       0         \n",
      "_________________________________________________________________\n",
      "reshape_1 (Reshape)          (None, 169, 180)          0         \n",
      "_________________________________________________________________\n",
      "capsule_1 (Capsule)          (None, 10, 16)            28800     \n",
      "_________________________________________________________________\n",
      "lambda_1 (Lambda)            (None, 10)                0         \n",
      "=================================================================\n",
      "Total params: 55,440\n",
      "Trainable params: 55,440\n",
      "Non-trainable params: 0\n",
      "_________________________________________________________________\n"
     ]
    }
   ],
   "source": [
    "\"\"\"one-CONV-LAYERS-THICK\"\"\"\n",
    "input_image = Input(shape=(x_train.shape[1], x_train.shape[2], x_train.shape[3]))\n",
    "x_0 = Conv2D(filters= 180, kernel_size= 7, activation='relu', \n",
    "             strides= 2)(input_image)\n",
    "x_0= Dropout(0.1)(x_0)\n",
    "\n",
    "\n",
    "\"\"\"now we reshape it as (batch_size, input_num_capsule, input_dim_capsule)\n",
    "then connect a Capsule layer.\n",
    "\n",
    "the output of final model is the lengths of 10 Capsule, whose dim=16.\n",
    "\n",
    "the length of Capsule is the proba,\n",
    "so the problem becomes a 10 two-classification problem.\n",
    "\"\"\"\n",
    "\n",
    "x_0 = Reshape((-1, 180))(x_0)\n",
    "capsule_0 = Capsule(num_classes, 16, 3, True)(x_0)\n",
    "output_0 = Lambda(lambda z: K.sqrt(K.sum(K.square(z), 2)))(capsule_0)\n",
    "model_0 = Model(inputs= input_image, outputs= output_0)\n",
    "\n",
    "# we use a margin loss\n",
    "model_0.compile(loss =margin_loss, optimizer='adam', metrics=['accuracy'])\n",
    "model_0.summary()\n",
    "\n",
    "# we can compare the performance with or without data augmentation\n",
    "data_augmentation = False"
   ]
  },
  {
   "cell_type": "code",
   "execution_count": 9,
   "metadata": {},
   "outputs": [
    {
     "name": "stdout",
     "output_type": "stream",
     "text": [
      "_________________________________________________________________\n",
      "Layer (type)                 Output Shape              Param #   \n",
      "=================================================================\n",
      "input_2 (InputLayer)         (None, 32, 32, 3)         0         \n",
      "_________________________________________________________________\n",
      "conv2d_2 (Conv2D)            (None, 26, 26, 15)        2220      \n",
      "_________________________________________________________________\n",
      "dropout_2 (Dropout)          (None, 26, 26, 15)        0         \n",
      "_________________________________________________________________\n",
      "conv2d_3 (Conv2D)            (None, 20, 20, 60)        44160     \n",
      "_________________________________________________________________\n",
      "dropout_3 (Dropout)          (None, 20, 20, 60)        0         \n",
      "_________________________________________________________________\n",
      "reshape_2 (Reshape)          (None, 400, 60)           0         \n",
      "_________________________________________________________________\n",
      "capsule_2 (Capsule)          (None, 10, 16)            9600      \n",
      "_________________________________________________________________\n",
      "lambda_2 (Lambda)            (None, 10)                0         \n",
      "=================================================================\n",
      "Total params: 55,980\n",
      "Trainable params: 55,980\n",
      "Non-trainable params: 0\n",
      "_________________________________________________________________\n"
     ]
    }
   ],
   "source": [
    "\"\"\"two-CONV-LAYERS-THICK\"\"\"\n",
    "input_image = Input(shape=(x_train.shape[1], x_train.shape[2], x_train.shape[3]))\n",
    "x_1 = Conv2D(filters= 15, kernel_size= 7, activation='relu', \n",
    "             padding= 'valid')(input_image)\n",
    "x_1= Dropout(0.1)(x_1)\n",
    "x_1 = Conv2D(filters= 60, kernel_size= 7, activation='relu',\n",
    "             strides= 1)(x_1)\n",
    "x_1 = Dropout(0.1)(x_1)\n",
    "\n",
    "\n",
    "\"\"\"now we reshape it as (batch_size, input_num_capsule, input_dim_capsule)\n",
    "then connect a Capsule layer.\n",
    "\n",
    "the output of final model is the lengths of 10 Capsule, whose dim=16.\n",
    "\n",
    "the length of Capsule is the proba,\n",
    "so the problem becomes a 10 two-classification problem.\n",
    "\"\"\"\n",
    "\n",
    "x_1 = Reshape((-1, 60))(x_1)\n",
    "capsule_1 = Capsule(num_classes, 16, 3, True)(x_1)\n",
    "output_1 = Lambda(lambda z: K.sqrt(K.sum(K.square(z), 2)))(capsule_1)\n",
    "model_1= Model(inputs= input_image, outputs= output_1)\n",
    "\n",
    "# we use a margin loss\n",
    "model_1.compile(loss =margin_loss, optimizer='adam', metrics=['accuracy'])\n",
    "model_1.summary()\n",
    "\n",
    "# we can compare the performance with or without data augmentation\n",
    "data_augmentation = False"
   ]
  },
  {
   "cell_type": "code",
   "execution_count": 10,
   "metadata": {},
   "outputs": [
    {
     "name": "stdout",
     "output_type": "stream",
     "text": [
      "_________________________________________________________________\n",
      "Layer (type)                 Output Shape              Param #   \n",
      "=================================================================\n",
      "input_3 (InputLayer)         (None, 32, 32, 3)         0         \n",
      "_________________________________________________________________\n",
      "conv2d_4 (Conv2D)            (None, 26, 26, 15)        2220      \n",
      "_________________________________________________________________\n",
      "dropout_4 (Dropout)          (None, 26, 26, 15)        0         \n",
      "_________________________________________________________________\n",
      "conv2d_5 (Conv2D)            (None, 20, 20, 25)        18400     \n",
      "_________________________________________________________________\n",
      "dropout_5 (Dropout)          (None, 20, 20, 25)        0         \n",
      "_________________________________________________________________\n",
      "conv2d_6 (Conv2D)            (None, 14, 14, 25)        30650     \n",
      "_________________________________________________________________\n",
      "dropout_6 (Dropout)          (None, 14, 14, 25)        0         \n",
      "_________________________________________________________________\n",
      "reshape_3 (Reshape)          (None, 196, 25)           0         \n",
      "_________________________________________________________________\n",
      "capsule_3 (Capsule)          (None, 10, 16)            4000      \n",
      "_________________________________________________________________\n",
      "lambda_3 (Lambda)            (None, 10)                0         \n",
      "=================================================================\n",
      "Total params: 55,270\n",
      "Trainable params: 55,270\n",
      "Non-trainable params: 0\n",
      "_________________________________________________________________\n"
     ]
    }
   ],
   "source": [
    "\"\"\"three-CONV-LAYERS-THICK\"\"\"\n",
    "input_image = Input(shape=(x_train.shape[1], x_train.shape[2], x_train.shape[3]))\n",
    "x_2 = Conv2D(filters= 15, kernel_size= 7, activation='relu', \n",
    "             padding= 'valid')(input_image)\n",
    "x_2= Dropout(0.1)(x_2)\n",
    "x_2 = Conv2D(filters= 25, kernel_size= 7, activation='relu',\n",
    "             strides= 1)(x_2)\n",
    "x_2 = Dropout(0.1)(x_2)\n",
    "x_2 = Conv2D(filters= 25, kernel_size= 7, activation='relu',\n",
    "             strides= 1)(x_2)\n",
    "x_2 = Dropout(0.1)(x_2)\n",
    "\n",
    "\n",
    "\"\"\"now we reshape it as (batch_size, input_num_capsule, input_dim_capsule)\n",
    "then connect a Capsule layer.\n",
    "\n",
    "the output of final model is the lengths of 10 Capsule, whose dim=16.\n",
    "\n",
    "the length of Capsule is the proba,\n",
    "so the problem becomes a 10 two-classification problem.\n",
    "\"\"\"\n",
    "\n",
    "x_2 = Reshape((-1, 25))(x_2)\n",
    "capsule_2 = Capsule(num_classes, 16, 3, True)(x_2)\n",
    "output_2 = Lambda(lambda z: K.sqrt(K.sum(K.square(z), 2)))(capsule_2)\n",
    "model_2= Model(inputs= input_image, outputs= output_2)\n",
    "\n",
    "# we use a margin loss\n",
    "model_2.compile(loss =margin_loss, optimizer='adam', metrics=['accuracy'])\n",
    "model_2.summary()\n",
    "\n",
    "# we can compare the performance with or without data augmentation\n",
    "data_augmentation = False"
   ]
  },
  {
   "cell_type": "code",
   "execution_count": 11,
   "metadata": {},
   "outputs": [
    {
     "name": "stdout",
     "output_type": "stream",
     "text": [
      "_________________________________________________________________\n",
      "Layer (type)                 Output Shape              Param #   \n",
      "=================================================================\n",
      "input_4 (InputLayer)         (None, 32, 32, 3)         0         \n",
      "_________________________________________________________________\n",
      "conv2d_7 (Conv2D)            (None, 26, 26, 15)        2220      \n",
      "_________________________________________________________________\n",
      "dropout_7 (Dropout)          (None, 26, 26, 15)        0         \n",
      "_________________________________________________________________\n",
      "conv2d_8 (Conv2D)            (None, 10, 10, 15)        11040     \n",
      "_________________________________________________________________\n",
      "dropout_8 (Dropout)          (None, 10, 10, 15)        0         \n",
      "_________________________________________________________________\n",
      "conv2d_9 (Conv2D)            (None, 10, 10, 20)        14720     \n",
      "_________________________________________________________________\n",
      "dropout_9 (Dropout)          (None, 10, 10, 20)        0         \n",
      "_________________________________________________________________\n",
      "conv2d_10 (Conv2D)           (None, 4, 4, 28)          27468     \n",
      "_________________________________________________________________\n",
      "dropout_10 (Dropout)         (None, 4, 4, 28)          0         \n",
      "_________________________________________________________________\n",
      "reshape_4 (Reshape)          (None, 16, 28)            0         \n",
      "_________________________________________________________________\n",
      "capsule_4 (Capsule)          (None, 10, 16)            4480      \n",
      "_________________________________________________________________\n",
      "lambda_4 (Lambda)            (None, 10)                0         \n",
      "=================================================================\n",
      "Total params: 59,928\n",
      "Trainable params: 59,928\n",
      "Non-trainable params: 0\n",
      "_________________________________________________________________\n"
     ]
    }
   ],
   "source": [
    "\"\"\"four-CONV-LAYERS-THICK\"\"\"\n",
    "input_image = Input(shape=(x_train.shape[1], x_train.shape[2], x_train.shape[3]))\n",
    "x_3 = Conv2D(filters= 15, kernel_size= 7, activation='relu', \n",
    "             padding= 'valid')(input_image)\n",
    "x_3= Dropout(0.1)(x_3)\n",
    "x_3 = Conv2D(filters= 15 ,kernel_size= 7, activation='relu',\n",
    "             strides= 2)(x_3)\n",
    "x_3 = Dropout(0.1)(x_3)\n",
    "x_3 = Conv2D(filters= 20, kernel_size= 7, activation='relu',\n",
    "             padding= 'same')(x_3)\n",
    "x_3= Dropout(0.1)(x_3)\n",
    "x_3 = Conv2D(filters= 28,kernel_size= 7, activation='relu',\n",
    "             strides= 1)(x_3)\n",
    "x_3= Dropout(0.1)(x_3)\n",
    "\n",
    "\n",
    "\"\"\"now we reshape it as (batch_size, input_num_capsule, input_dim_capsule)\n",
    "then connect a Capsule layer.\n",
    "\n",
    "the output of final model is the lengths of 10 Capsule, whose dim=16.\n",
    "\n",
    "the length of Capsule is the proba,\n",
    "so the problem becomes a 10 two-classification problem.\n",
    "\"\"\"\n",
    "\n",
    "x_3 = Reshape((-1, 28))(x_3)\n",
    "capsule_3 = Capsule(num_classes, 16, 3, True)(x_3)\n",
    "output_3 = Lambda(lambda z: K.sqrt(K.sum(K.square(z), 2)))(capsule_3)\n",
    "model_3= Model(inputs= input_image, outputs= output_3)\n",
    "\n",
    "# we use a margin loss\n",
    "model_3.compile(loss =margin_loss, optimizer='adam', metrics=['accuracy'])\n",
    "model_3.summary()\n",
    "\n",
    "# we can compare the performance with or without data augmentation\n",
    "data_augmentation = False"
   ]
  },
  {
   "cell_type": "code",
   "execution_count": 32,
   "metadata": {},
   "outputs": [
    {
     "name": "stdout",
     "output_type": "stream",
     "text": [
      "_________________________________________________________________\n",
      "Layer (type)                 Output Shape              Param #   \n",
      "=================================================================\n",
      "conv2d_13 (Conv2D)           (None, 32, 32, 5)         740       \n",
      "_________________________________________________________________\n",
      "max_pooling2d_3 (MaxPooling2 (None, 16, 16, 5)         0         \n",
      "_________________________________________________________________\n",
      "conv2d_14 (Conv2D)           (None, 16, 16, 8)         1968      \n",
      "_________________________________________________________________\n",
      "dropout_13 (Dropout)         (None, 16, 16, 8)         0         \n",
      "_________________________________________________________________\n",
      "max_pooling2d_4 (MaxPooling2 (None, 8, 8, 8)           0         \n",
      "_________________________________________________________________\n",
      "flatten_2 (Flatten)          (None, 512)               0         \n",
      "_________________________________________________________________\n",
      "dropout_14 (Dropout)         (None, 512)               0         \n",
      "_________________________________________________________________\n",
      "dense_3 (Dense)              (None, 256)               131328    \n",
      "_________________________________________________________________\n",
      "dense_4 (Dense)              (None, 10)                2570      \n",
      "=================================================================\n",
      "Total params: 136,606\n",
      "Trainable params: 136,606\n",
      "Non-trainable params: 0\n",
      "_________________________________________________________________\n",
      "None\n"
     ]
    }
   ],
   "source": [
    "\"\"\"CNN-3-CONV-LAYERS\"\"\"\n",
    "from keras.models import Sequential\n",
    "from keras.layers import Dense, Dropout, Activation, Flatten, Conv2D, MaxPooling2D, \\\n",
    "                         ZeroPadding2D\n",
    "\n",
    "model_4= Sequential()\n",
    "model_4.add(Conv2D(filters= 5, kernel_size= (7, 7), padding= 'same', \n",
    "                   input_shape=(x_train.shape[1], x_train.shape[2], x_train.shape[3]), \n",
    "                   activation='relu'))\n",
    "model_4.add(MaxPooling2D(pool_size=(2,2)))\n",
    "model_4.add(Conv2D(filters= 8, kernel_size= (7, 7), \n",
    "                    padding= 'same', activation='relu'))\n",
    "model_4.add(Dropout(0.4))\n",
    "model_4.add(MaxPooling2D(pool_size=(2,2)))\n",
    "\n",
    "model_4.add(Flatten())\n",
    "model_4.add(Dropout(0.5))\n",
    "model_4.add(Dense(256, activation='relu'))\n",
    "model_4.add(Dense(num_classes, activation='softmax'))\n",
    "print(model_4.summary())"
   ]
  },
  {
   "cell_type": "code",
   "execution_count": 13,
   "metadata": {},
   "outputs": [
    {
     "name": "stdout",
     "output_type": "stream",
     "text": [
      "Not using data augmentation.\n",
      "WARNING:tensorflow:From C:\\Users\\ASUS\\Anaconda3\\envs\\tensorflow-gpu\\lib\\site-packages\\tensorflow\\python\\ops\\math_ops.py:3066: to_int32 (from tensorflow.python.ops.math_ops) is deprecated and will be removed in a future version.\n",
      "Instructions for updating:\n",
      "Use tf.cast instead.\n",
      "WARNING:tensorflow:From C:\\Users\\ASUS\\Anaconda3\\envs\\tensorflow-gpu\\lib\\site-packages\\tensorflow\\python\\ops\\math_grad.py:102: div (from tensorflow.python.ops.math_ops) is deprecated and will be removed in a future version.\n",
      "Instructions for updating:\n",
      "Deprecated in favor of operator or tf.math.divide.\n",
      "Train on 45455 samples, validate on 4545 samples\n",
      "Epoch 1/30\n",
      "45455/45455 [==============================] - 7s 157us/step - loss: 0.5329 - acc: 0.2389 - val_loss: 0.4480 - val_acc: 0.3197\n",
      "Epoch 2/30\n",
      "45455/45455 [==============================] - 5s 113us/step - loss: 0.4469 - acc: 0.3049 - val_loss: 0.4446 - val_acc: 0.3124\n",
      "Epoch 3/30\n",
      "45455/45455 [==============================] - 5s 115us/step - loss: 0.4386 - acc: 0.3173 - val_loss: 0.4380 - val_acc: 0.3032\n",
      "Epoch 4/30\n",
      "45455/45455 [==============================] - 6s 123us/step - loss: 0.4312 - acc: 0.3374 - val_loss: 0.4203 - val_acc: 0.3538\n",
      "Epoch 5/30\n",
      "45455/45455 [==============================] - 5s 117us/step - loss: 0.4264 - acc: 0.3481 - val_loss: 0.4147 - val_acc: 0.3734\n",
      "Epoch 6/30\n",
      "45455/45455 [==============================] - 5s 115us/step - loss: 0.4223 - acc: 0.3573 - val_loss: 0.4344 - val_acc: 0.3421\n",
      "Epoch 7/30\n",
      "45455/45455 [==============================] - 5s 115us/step - loss: 0.4192 - acc: 0.3663 - val_loss: 0.4214 - val_acc: 0.3472\n",
      "Epoch 8/30\n",
      "45455/45455 [==============================] - 5s 114us/step - loss: 0.4168 - acc: 0.3720 - val_loss: 0.4331 - val_acc: 0.3287\n",
      "Epoch 9/30\n",
      "45455/45455 [==============================] - 5s 115us/step - loss: 0.4159 - acc: 0.3774 - val_loss: 0.4102 - val_acc: 0.3910\n",
      "Epoch 10/30\n",
      "45455/45455 [==============================] - 5s 116us/step - loss: 0.4176 - acc: 0.3731 - val_loss: 0.4045 - val_acc: 0.4026\n",
      "Epoch 11/30\n",
      "45455/45455 [==============================] - 5s 114us/step - loss: 0.4101 - acc: 0.3894 - val_loss: 0.4116 - val_acc: 0.3881\n",
      "Epoch 12/30\n",
      "45455/45455 [==============================] - 5s 114us/step - loss: 0.4091 - acc: 0.3914 - val_loss: 0.4018 - val_acc: 0.4064\n",
      "Epoch 13/30\n",
      "45455/45455 [==============================] - 5s 115us/step - loss: 0.4042 - acc: 0.4004 - val_loss: 0.4148 - val_acc: 0.3718\n",
      "Epoch 14/30\n",
      "45455/45455 [==============================] - 5s 113us/step - loss: 0.4016 - acc: 0.4070 - val_loss: 0.4053 - val_acc: 0.3822\n",
      "Epoch 15/30\n",
      "45455/45455 [==============================] - 5s 113us/step - loss: 0.3990 - acc: 0.4136 - val_loss: 0.3957 - val_acc: 0.4158\n",
      "Epoch 16/30\n",
      "45455/45455 [==============================] - 5s 117us/step - loss: 0.3973 - acc: 0.4160 - val_loss: 0.3925 - val_acc: 0.4198\n",
      "Epoch 17/30\n",
      "45455/45455 [==============================] - 6s 124us/step - loss: 0.3950 - acc: 0.4230 - val_loss: 0.3915 - val_acc: 0.4251\n",
      "Epoch 18/30\n",
      "45455/45455 [==============================] - 5s 119us/step - loss: 0.3944 - acc: 0.4214 - val_loss: 0.3931 - val_acc: 0.4249\n",
      "Epoch 19/30\n",
      "45455/45455 [==============================] - 5s 117us/step - loss: 0.3920 - acc: 0.4291 - val_loss: 0.3836 - val_acc: 0.4449\n",
      "Epoch 20/30\n",
      "45455/45455 [==============================] - 5s 115us/step - loss: 0.3926 - acc: 0.4277 - val_loss: 0.4089 - val_acc: 0.3971\n",
      "Epoch 21/30\n",
      "45455/45455 [==============================] - 6s 122us/step - loss: 0.3889 - acc: 0.4335 - val_loss: 0.3848 - val_acc: 0.4361\n",
      "Epoch 22/30\n",
      "45455/45455 [==============================] - 6s 123us/step - loss: 0.3880 - acc: 0.4347 - val_loss: 0.3977 - val_acc: 0.4075\n",
      "Epoch 23/30\n",
      "45455/45455 [==============================] - 5s 116us/step - loss: 0.3890 - acc: 0.4343 - val_loss: 0.3886 - val_acc: 0.4242\n",
      "Epoch 24/30\n",
      "45455/45455 [==============================] - 5s 113us/step - loss: 0.3860 - acc: 0.4411 - val_loss: 0.3828 - val_acc: 0.4438\n",
      "Epoch 25/30\n",
      "45455/45455 [==============================] - 5s 112us/step - loss: 0.3835 - acc: 0.4414 - val_loss: 0.3792 - val_acc: 0.4530\n",
      "Epoch 26/30\n",
      "45455/45455 [==============================] - 5s 113us/step - loss: 0.3854 - acc: 0.4443 - val_loss: 0.3919 - val_acc: 0.4200\n",
      "Epoch 27/30\n",
      "45455/45455 [==============================] - 5s 113us/step - loss: 0.3864 - acc: 0.4383 - val_loss: 0.3856 - val_acc: 0.4466\n",
      "Epoch 28/30\n",
      "45455/45455 [==============================] - 5s 117us/step - loss: 0.3828 - acc: 0.4469 - val_loss: 0.3789 - val_acc: 0.4528\n",
      "Epoch 29/30\n",
      "45455/45455 [==============================] - 5s 117us/step - loss: 0.3810 - acc: 0.4505 - val_loss: 0.3829 - val_acc: 0.4550\n",
      "Epoch 30/30\n",
      "45455/45455 [==============================] - 5s 114us/step - loss: 0.3807 - acc: 0.4483 - val_loss: 0.3766 - val_acc: 0.4605\n"
     ]
    }
   ],
   "source": [
    "\"\"\"one-CONV-LAYERS-THICK\"\"\"\n",
    "if not data_augmentation:\n",
    "    print('Not using data augmentation.')\n",
    "    train_history_0= model_0.fit(\n",
    "        x_train,\n",
    "        y_train,\n",
    "        batch_size=batch_size,\n",
    "        epochs=epochs,\n",
    "        validation_split= Vld_Splt,\n",
    "        shuffle=True)\n",
    "else:\n",
    "    print('Using real-time data augmentation.')\n",
    "    # This will do preprocessing and realtime data augmentation:\n",
    "    datagen = ImageDataGenerator(\n",
    "        featurewise_center=False,  # set input mean to 0 over the dataset\n",
    "        samplewise_center=False,  # set each sample mean to 0\n",
    "        featurewise_std_normalization=False,  # divide inputs by dataset std\n",
    "        samplewise_std_normalization=False,  # divide each input by its std\n",
    "        zca_whitening=False,  # apply ZCA whitening\n",
    "        zca_epsilon=1e-06,  # epsilon for ZCA whitening\n",
    "        rotation_range=0,  # randomly rotate images in 0 to 180 degrees\n",
    "        width_shift_range=0.1,  # randomly shift images horizontally\n",
    "        height_shift_range=0.1,  # randomly shift images vertically\n",
    "        shear_range=0.,  # set range for random shear\n",
    "        zoom_range=0.,  # set range for random zoom\n",
    "        channel_shift_range=0.,  # set range for random channel shifts\n",
    "        # set mode for filling points outside the input boundaries\n",
    "        fill_mode='nearest',\n",
    "        cval=0.,  # value used for fill_mode = \"constant\"\n",
    "        horizontal_flip=True,  # randomly flip images\n",
    "        vertical_flip=False,  # randomly flip images\n",
    "        # set rescaling factor (applied before any other transformation)\n",
    "        rescale=None,\n",
    "        # set function that will be applied on each input\n",
    "        preprocessing_function=None,\n",
    "        # image data format, either \"channels_first\" or \"channels_last\"\n",
    "        data_format=None,\n",
    "        # fraction of images reserved for validation (strictly between 0 and 1)\n",
    "        validation_split=0.0)\n",
    "\n",
    "    # Compute quantities required for feature-wise normalization\n",
    "    # (std, mean, and principal components if ZCA whitening is applied).\n",
    "    datagen.fit(x_train)\n",
    "\n",
    "    # Fit the model on the batches generated by datagen.flow().\n",
    "    train_history_0= model_0.fit_generator(\n",
    "        datagen.flow(x_train, y_train, batch_size=batch_size),\n",
    "        epochs= epochs,\n",
    "        validation_split= Vld_Splt,\n",
    "        steps_per_epoch= int(x_train.shape[0]/ batch_size),\n",
    "        workers=4)"
   ]
  },
  {
   "cell_type": "code",
   "execution_count": 14,
   "metadata": {},
   "outputs": [
    {
     "name": "stdout",
     "output_type": "stream",
     "text": [
      "Not using data augmentation.\n",
      "Train on 45455 samples, validate on 4545 samples\n",
      "Epoch 1/30\n",
      "45455/45455 [==============================] - 9s 193us/step - loss: 0.6119 - acc: 0.1511 - val_loss: 0.4750 - val_acc: 0.2352\n",
      "Epoch 2/30\n",
      "45455/45455 [==============================] - 8s 179us/step - loss: 0.4454 - acc: 0.3030 - val_loss: 0.4244 - val_acc: 0.3439\n",
      "Epoch 3/30\n",
      "45455/45455 [==============================] - 8s 180us/step - loss: 0.4161 - acc: 0.3690 - val_loss: 0.4215 - val_acc: 0.3582\n",
      "Epoch 4/30\n",
      "45455/45455 [==============================] - 8s 178us/step - loss: 0.3920 - acc: 0.4211 - val_loss: 0.3849 - val_acc: 0.4330\n",
      "Epoch 5/30\n",
      "45455/45455 [==============================] - 8s 178us/step - loss: 0.3747 - acc: 0.4598 - val_loss: 0.3781 - val_acc: 0.4519\n",
      "Epoch 6/30\n",
      "45455/45455 [==============================] - 8s 181us/step - loss: 0.3604 - acc: 0.4808 - val_loss: 0.3539 - val_acc: 0.4992\n",
      "Epoch 7/30\n",
      "45455/45455 [==============================] - 8s 179us/step - loss: 0.3493 - acc: 0.5015 - val_loss: 0.3494 - val_acc: 0.5065\n",
      "Epoch 8/30\n",
      "45455/45455 [==============================] - 8s 179us/step - loss: 0.3406 - acc: 0.5191 - val_loss: 0.3397 - val_acc: 0.5283\n",
      "Epoch 9/30\n",
      "45455/45455 [==============================] - 8s 182us/step - loss: 0.3357 - acc: 0.5273 - val_loss: 0.3390 - val_acc: 0.5252\n",
      "Epoch 10/30\n",
      "45455/45455 [==============================] - 8s 182us/step - loss: 0.3286 - acc: 0.5385 - val_loss: 0.3357 - val_acc: 0.5252\n",
      "Epoch 11/30\n",
      "45455/45455 [==============================] - 8s 178us/step - loss: 0.3220 - acc: 0.5527 - val_loss: 0.3296 - val_acc: 0.5461\n",
      "Epoch 12/30\n",
      "45455/45455 [==============================] - 8s 178us/step - loss: 0.3184 - acc: 0.5567 - val_loss: 0.3271 - val_acc: 0.5318\n",
      "Epoch 13/30\n",
      "45455/45455 [==============================] - 8s 182us/step - loss: 0.3130 - acc: 0.5651 - val_loss: 0.3279 - val_acc: 0.5505\n",
      "Epoch 14/30\n",
      "45455/45455 [==============================] - 9s 190us/step - loss: 0.3089 - acc: 0.5722 - val_loss: 0.3255 - val_acc: 0.5461\n",
      "Epoch 15/30\n",
      "45455/45455 [==============================] - 8s 187us/step - loss: 0.3043 - acc: 0.5824 - val_loss: 0.3106 - val_acc: 0.5919\n",
      "Epoch 16/30\n",
      "45455/45455 [==============================] - 8s 182us/step - loss: 0.3009 - acc: 0.5876 - val_loss: 0.3039 - val_acc: 0.5850\n",
      "Epoch 17/30\n",
      "45455/45455 [==============================] - 8s 180us/step - loss: 0.2982 - acc: 0.5947 - val_loss: 0.3154 - val_acc: 0.5650\n",
      "Epoch 18/30\n",
      "45455/45455 [==============================] - 8s 186us/step - loss: 0.2933 - acc: 0.6045 - val_loss: 0.2939 - val_acc: 0.6033\n",
      "Epoch 19/30\n",
      "45455/45455 [==============================] - 8s 184us/step - loss: 0.2910 - acc: 0.6086 - val_loss: 0.2958 - val_acc: 0.5996\n",
      "Epoch 20/30\n",
      "45455/45455 [==============================] - 9s 190us/step - loss: 0.2890 - acc: 0.6090 - val_loss: 0.2953 - val_acc: 0.6070\n",
      "Epoch 21/30\n",
      "45455/45455 [==============================] - 8s 183us/step - loss: 0.2841 - acc: 0.6169 - val_loss: 0.2902 - val_acc: 0.6004\n",
      "Epoch 22/30\n",
      "45455/45455 [==============================] - 8s 181us/step - loss: 0.2846 - acc: 0.6175 - val_loss: 0.2957 - val_acc: 0.5993\n",
      "Epoch 23/30\n",
      "45455/45455 [==============================] - 8s 178us/step - loss: 0.2813 - acc: 0.6222 - val_loss: 0.2894 - val_acc: 0.6081\n",
      "Epoch 24/30\n",
      "45455/45455 [==============================] - 8s 180us/step - loss: 0.2787 - acc: 0.6268 - val_loss: 0.2917 - val_acc: 0.6042\n",
      "Epoch 25/30\n",
      "45455/45455 [==============================] - 8s 180us/step - loss: 0.2763 - acc: 0.6304 - val_loss: 0.2886 - val_acc: 0.6187\n",
      "Epoch 26/30\n",
      "45455/45455 [==============================] - 8s 186us/step - loss: 0.2741 - acc: 0.6349 - val_loss: 0.2821 - val_acc: 0.6297\n",
      "Epoch 27/30\n",
      "45455/45455 [==============================] - 8s 180us/step - loss: 0.2726 - acc: 0.6363 - val_loss: 0.2844 - val_acc: 0.6125\n",
      "Epoch 28/30\n",
      "45455/45455 [==============================] - 8s 180us/step - loss: 0.2726 - acc: 0.6377 - val_loss: 0.2818 - val_acc: 0.6194\n",
      "Epoch 29/30\n",
      "45455/45455 [==============================] - 8s 180us/step - loss: 0.2680 - acc: 0.6447 - val_loss: 0.2847 - val_acc: 0.6207\n",
      "Epoch 30/30\n",
      "45455/45455 [==============================] - 10s 229us/step - loss: 0.2667 - acc: 0.6481 - val_loss: 0.2847 - val_acc: 0.6297\n"
     ]
    }
   ],
   "source": [
    "\"\"\"two-CONV-LAYERS-THICK\"\"\"\n",
    "if not data_augmentation:\n",
    "    print('Not using data augmentation.')\n",
    "    train_history_1= model_1.fit(\n",
    "        x_train,\n",
    "        y_train,\n",
    "        batch_size=batch_size,\n",
    "        epochs=epochs,\n",
    "        validation_split= Vld_Splt,\n",
    "        shuffle=True)\n",
    "else:\n",
    "    print('Using real-time data augmentation.')\n",
    "    # This will do preprocessing and realtime data augmentation:\n",
    "    datagen = ImageDataGenerator(\n",
    "        featurewise_center=False,  # set input mean to 0 over the dataset\n",
    "        samplewise_center=False,  # set each sample mean to 0\n",
    "        featurewise_std_normalization=False,  # divide inputs by dataset std\n",
    "        samplewise_std_normalization=False,  # divide each input by its std\n",
    "        zca_whitening=False,  # apply ZCA whitening\n",
    "        zca_epsilon=1e-06,  # epsilon for ZCA whitening\n",
    "        rotation_range=0,  # randomly rotate images in 0 to 180 degrees\n",
    "        width_shift_range=0.1,  # randomly shift images horizontally\n",
    "        height_shift_range=0.1,  # randomly shift images vertically\n",
    "        shear_range=0.,  # set range for random shear\n",
    "        zoom_range=0.,  # set range for random zoom\n",
    "        channel_shift_range=0.,  # set range for random channel shifts\n",
    "        # set mode for filling points outside the input boundaries\n",
    "        fill_mode='nearest',\n",
    "        cval=0.,  # value used for fill_mode = \"constant\"\n",
    "        horizontal_flip=True,  # randomly flip images\n",
    "        vertical_flip=False,  # randomly flip images\n",
    "        # set rescaling factor (applied before any other transformation)\n",
    "        rescale=None,\n",
    "        # set function that will be applied on each input\n",
    "        preprocessing_function=None,\n",
    "        # image data format, either \"channels_first\" or \"channels_last\"\n",
    "        data_format=None,\n",
    "        # fraction of images reserved for validation (strictly between 0 and 1)\n",
    "        validation_split=0.0)\n",
    "\n",
    "    # Compute quantities required for feature-wise normalization\n",
    "    # (std, mean, and principal components if ZCA whitening is applied).\n",
    "    datagen.fit(x_train)\n",
    "\n",
    "    # Fit the model on the batches generated by datagen.flow().\n",
    "    train_history_1= model_1.fit_generator(\n",
    "        datagen.flow(x_train, y_train, batch_size=batch_size),\n",
    "        epochs= epochs,\n",
    "        validation_split= Vld_Splt,\n",
    "        steps_per_epoch= int(x_train.shape[0]/ batch_size),\n",
    "        workers=4)"
   ]
  },
  {
   "cell_type": "code",
   "execution_count": 15,
   "metadata": {},
   "outputs": [
    {
     "name": "stdout",
     "output_type": "stream",
     "text": [
      "Not using data augmentation.\n",
      "Train on 45455 samples, validate on 4545 samples\n",
      "Epoch 1/30\n",
      "45455/45455 [==============================] - 7s 150us/step - loss: 0.5250 - acc: 0.1855 - val_loss: 0.4558 - val_acc: 0.2724\n",
      "Epoch 2/30\n",
      "45455/45455 [==============================] - 6s 141us/step - loss: 0.4400 - acc: 0.3114 - val_loss: 0.4197 - val_acc: 0.3575\n",
      "Epoch 3/30\n",
      "45455/45455 [==============================] - 6s 137us/step - loss: 0.4079 - acc: 0.3858 - val_loss: 0.3924 - val_acc: 0.4202\n",
      "Epoch 4/30\n",
      "45455/45455 [==============================] - 6s 134us/step - loss: 0.3829 - acc: 0.4342 - val_loss: 0.3703 - val_acc: 0.4552\n",
      "Epoch 5/30\n",
      "45455/45455 [==============================] - 6s 137us/step - loss: 0.3585 - acc: 0.4789 - val_loss: 0.3414 - val_acc: 0.5025\n",
      "Epoch 6/30\n",
      "45455/45455 [==============================] - 7s 144us/step - loss: 0.3411 - acc: 0.5120 - val_loss: 0.3372 - val_acc: 0.5171\n",
      "Epoch 7/30\n",
      "45455/45455 [==============================] - 6s 142us/step - loss: 0.3301 - acc: 0.5303 - val_loss: 0.3199 - val_acc: 0.5465\n",
      "Epoch 8/30\n",
      "45455/45455 [==============================] - 6s 137us/step - loss: 0.3193 - acc: 0.5444 - val_loss: 0.3197 - val_acc: 0.5443\n",
      "Epoch 9/30\n",
      "45455/45455 [==============================] - 6s 139us/step - loss: 0.3091 - acc: 0.5628 - val_loss: 0.3071 - val_acc: 0.5683\n",
      "Epoch 10/30\n",
      "45455/45455 [==============================] - 6s 141us/step - loss: 0.3022 - acc: 0.5727 - val_loss: 0.2900 - val_acc: 0.5910\n",
      "Epoch 11/30\n",
      "45455/45455 [==============================] - 6s 137us/step - loss: 0.2951 - acc: 0.5861 - val_loss: 0.2975 - val_acc: 0.5813\n",
      "Epoch 12/30\n",
      "45455/45455 [==============================] - 6s 141us/step - loss: 0.2882 - acc: 0.5957 - val_loss: 0.2862 - val_acc: 0.5969\n",
      "Epoch 13/30\n",
      "45455/45455 [==============================] - 6s 136us/step - loss: 0.2853 - acc: 0.6009 - val_loss: 0.3008 - val_acc: 0.5789\n",
      "Epoch 14/30\n",
      "45455/45455 [==============================] - 13s 290us/step - loss: 0.2800 - acc: 0.6105 - val_loss: 0.2904 - val_acc: 0.5868\n",
      "Epoch 15/30\n",
      "45455/45455 [==============================] - 7s 144us/step - loss: 0.2763 - acc: 0.6157 - val_loss: 0.2705 - val_acc: 0.6301\n",
      "Epoch 16/30\n",
      "45455/45455 [==============================] - 7s 144us/step - loss: 0.2705 - acc: 0.6246 - val_loss: 0.2739 - val_acc: 0.6158\n",
      "Epoch 17/30\n",
      "45455/45455 [==============================] - 6s 135us/step - loss: 0.2673 - acc: 0.6310 - val_loss: 0.2707 - val_acc: 0.6216\n",
      "Epoch 18/30\n",
      "45455/45455 [==============================] - 6s 136us/step - loss: 0.2646 - acc: 0.6378 - val_loss: 0.2639 - val_acc: 0.6354\n",
      "Epoch 19/30\n",
      "45455/45455 [==============================] - 7s 145us/step - loss: 0.2606 - acc: 0.6432 - val_loss: 0.2753 - val_acc: 0.6143\n",
      "Epoch 20/30\n",
      "45455/45455 [==============================] - 7s 149us/step - loss: 0.2606 - acc: 0.6433 - val_loss: 0.2697 - val_acc: 0.6255\n",
      "Epoch 21/30\n",
      "45455/45455 [==============================] - 13s 276us/step - loss: 0.2578 - acc: 0.6482 - val_loss: 0.2596 - val_acc: 0.6433\n",
      "Epoch 22/30\n",
      "45455/45455 [==============================] - 6s 133us/step - loss: 0.2550 - acc: 0.6510 - val_loss: 0.2568 - val_acc: 0.6394\n",
      "Epoch 23/30\n",
      "45455/45455 [==============================] - 6s 133us/step - loss: 0.2520 - acc: 0.6575 - val_loss: 0.2546 - val_acc: 0.6480\n",
      "Epoch 24/30\n",
      "45455/45455 [==============================] - 6s 140us/step - loss: 0.2487 - acc: 0.6599 - val_loss: 0.2714 - val_acc: 0.6189\n",
      "Epoch 25/30\n",
      "45455/45455 [==============================] - 6s 137us/step - loss: 0.2483 - acc: 0.6650 - val_loss: 0.2572 - val_acc: 0.6504\n",
      "Epoch 26/30\n",
      "45455/45455 [==============================] - 6s 141us/step - loss: 0.2447 - acc: 0.6688 - val_loss: 0.2607 - val_acc: 0.6422\n",
      "Epoch 27/30\n",
      "45455/45455 [==============================] - 7s 143us/step - loss: 0.2434 - acc: 0.6708 - val_loss: 0.2604 - val_acc: 0.6339\n",
      "Epoch 28/30\n",
      "45455/45455 [==============================] - 7s 148us/step - loss: 0.2415 - acc: 0.6740 - val_loss: 0.2660 - val_acc: 0.6279\n",
      "Epoch 29/30\n",
      "45455/45455 [==============================] - 7s 146us/step - loss: 0.2427 - acc: 0.6715 - val_loss: 0.2497 - val_acc: 0.6548\n",
      "Epoch 30/30\n",
      "45455/45455 [==============================] - 7s 155us/step - loss: 0.2382 - acc: 0.6775 - val_loss: 0.2539 - val_acc: 0.6449\n"
     ]
    }
   ],
   "source": [
    "\"\"\"three-CONV-LAYERS-THICK\"\"\"\n",
    "if not data_augmentation:\n",
    "    print('Not using data augmentation.')\n",
    "    train_history_2= model_2.fit(\n",
    "        x_train,\n",
    "        y_train,\n",
    "        batch_size=batch_size,\n",
    "        epochs=epochs,\n",
    "        validation_split= Vld_Splt,\n",
    "        shuffle=True)\n",
    "else:\n",
    "    print('Using real-time data augmentation.')\n",
    "    # This will do preprocessing and realtime data augmentation:\n",
    "    datagen = ImageDataGenerator(\n",
    "        featurewise_center=False,  # set input mean to 0 over the dataset\n",
    "        samplewise_center=False,  # set each sample mean to 0\n",
    "        featurewise_std_normalization=False,  # divide inputs by dataset std\n",
    "        samplewise_std_normalization=False,  # divide each input by its std\n",
    "        zca_whitening=False,  # apply ZCA whitening\n",
    "        zca_epsilon=1e-06,  # epsilon for ZCA whitening\n",
    "        rotation_range=0,  # randomly rotate images in 0 to 180 degrees\n",
    "        width_shift_range=0.1,  # randomly shift images horizontally\n",
    "        height_shift_range=0.1,  # randomly shift images vertically\n",
    "        shear_range=0.,  # set range for random shear\n",
    "        zoom_range=0.,  # set range for random zoom\n",
    "        channel_shift_range=0.,  # set range for random channel shifts\n",
    "        # set mode for filling points outside the input boundaries\n",
    "        fill_mode='nearest',\n",
    "        cval=0.,  # value used for fill_mode = \"constant\"\n",
    "        horizontal_flip=True,  # randomly flip images\n",
    "        vertical_flip=False,  # randomly flip images\n",
    "        # set rescaling factor (applied before any other transformation)\n",
    "        rescale=None,\n",
    "        # set function that will be applied on each input\n",
    "        preprocessing_function=None,\n",
    "        # image data format, either \"channels_first\" or \"channels_last\"\n",
    "        data_format=None,\n",
    "        # fraction of images reserved for validation (strictly between 0 and 1)\n",
    "        validation_split=0.0)\n",
    "\n",
    "    # Compute quantities required for feature-wise normalization\n",
    "    # (std, mean, and principal components if ZCA whitening is applied).\n",
    "    datagen.fit(x_train)\n",
    "\n",
    "    # Fit the model on the batches generated by datagen.flow().\n",
    "    train_history_2= model_2.fit_generator(\n",
    "        datagen.flow(x_train, y_train, batch_size=batch_size),\n",
    "        epochs= epochs,\n",
    "        validation_split= Vld_Splt,\n",
    "        steps_per_epoch= int(x_train.shape[0]/ batch_size),\n",
    "        workers=4)"
   ]
  },
  {
   "cell_type": "code",
   "execution_count": 16,
   "metadata": {},
   "outputs": [
    {
     "name": "stdout",
     "output_type": "stream",
     "text": [
      "Not using data augmentation.\n",
      "Train on 45455 samples, validate on 4545 samples\n",
      "Epoch 1/30\n",
      "45455/45455 [==============================] - 5s 107us/step - loss: 0.4713 - acc: 0.2693 - val_loss: 0.4150 - val_acc: 0.3657\n",
      "Epoch 2/30\n",
      "45455/45455 [==============================] - 11s 246us/step - loss: 0.3885 - acc: 0.4207 - val_loss: 0.3639 - val_acc: 0.4574\n",
      "Epoch 3/30\n",
      "45455/45455 [==============================] - 4s 82us/step - loss: 0.3539 - acc: 0.4788 - val_loss: 0.3457 - val_acc: 0.4981\n",
      "Epoch 4/30\n",
      "45455/45455 [==============================] - 4s 84us/step - loss: 0.3358 - acc: 0.5076 - val_loss: 0.3318 - val_acc: 0.5193\n",
      "Epoch 5/30\n",
      "45455/45455 [==============================] - 4s 80us/step - loss: 0.3177 - acc: 0.5383 - val_loss: 0.3013 - val_acc: 0.5666\n",
      "Epoch 6/30\n",
      "45455/45455 [==============================] - 4s 82us/step - loss: 0.3074 - acc: 0.5522 - val_loss: 0.2958 - val_acc: 0.5727\n",
      "Epoch 7/30\n",
      "45455/45455 [==============================] - 4s 82us/step - loss: 0.2999 - acc: 0.5650 - val_loss: 0.2968 - val_acc: 0.5613\n",
      "Epoch 8/30\n",
      "45455/45455 [==============================] - 4s 78us/step - loss: 0.2918 - acc: 0.5782 - val_loss: 0.2863 - val_acc: 0.5826\n",
      "Epoch 9/30\n",
      "45455/45455 [==============================] - 4s 81us/step - loss: 0.2837 - acc: 0.5926 - val_loss: 0.2976 - val_acc: 0.5769\n",
      "Epoch 10/30\n",
      "45455/45455 [==============================] - 3s 76us/step - loss: 0.2798 - acc: 0.5970 - val_loss: 0.2763 - val_acc: 0.6026\n",
      "Epoch 11/30\n",
      "45455/45455 [==============================] - 4s 79us/step - loss: 0.2749 - acc: 0.6078 - val_loss: 0.2655 - val_acc: 0.6136\n",
      "Epoch 12/30\n",
      "45455/45455 [==============================] - 4s 80us/step - loss: 0.2714 - acc: 0.6104 - val_loss: 0.2705 - val_acc: 0.6112\n",
      "Epoch 13/30\n",
      "45455/45455 [==============================] - 4s 84us/step - loss: 0.2687 - acc: 0.6139 - val_loss: 0.2633 - val_acc: 0.6202\n",
      "Epoch 14/30\n",
      "45455/45455 [==============================] - 4s 77us/step - loss: 0.2630 - acc: 0.6235 - val_loss: 0.2531 - val_acc: 0.6381\n",
      "Epoch 15/30\n",
      "45455/45455 [==============================] - 4s 77us/step - loss: 0.2611 - acc: 0.6260 - val_loss: 0.2528 - val_acc: 0.6403\n",
      "Epoch 16/30\n",
      "45455/45455 [==============================] - 4s 78us/step - loss: 0.2570 - acc: 0.6303 - val_loss: 0.2495 - val_acc: 0.6403\n",
      "Epoch 17/30\n",
      "45455/45455 [==============================] - 4s 81us/step - loss: 0.2555 - acc: 0.6360 - val_loss: 0.2527 - val_acc: 0.6464\n",
      "Epoch 18/30\n",
      "45455/45455 [==============================] - 4s 85us/step - loss: 0.2506 - acc: 0.6445 - val_loss: 0.2473 - val_acc: 0.6464\n",
      "Epoch 19/30\n",
      "45455/45455 [==============================] - 4s 94us/step - loss: 0.2483 - acc: 0.6481 - val_loss: 0.2505 - val_acc: 0.6372\n",
      "Epoch 20/30\n",
      "45455/45455 [==============================] - 5s 99us/step - loss: 0.2466 - acc: 0.6491 - val_loss: 0.2410 - val_acc: 0.6548\n",
      "Epoch 21/30\n",
      "45455/45455 [==============================] - 4s 99us/step - loss: 0.2454 - acc: 0.6535 - val_loss: 0.2519 - val_acc: 0.6414\n",
      "Epoch 22/30\n",
      "45455/45455 [==============================] - 4s 89us/step - loss: 0.2419 - acc: 0.6569 - val_loss: 0.2539 - val_acc: 0.6330\n",
      "Epoch 23/30\n",
      "45455/45455 [==============================] - 4s 89us/step - loss: 0.2394 - acc: 0.6617 - val_loss: 0.2402 - val_acc: 0.6607\n",
      "Epoch 24/30\n",
      "45455/45455 [==============================] - 5s 99us/step - loss: 0.2372 - acc: 0.6640 - val_loss: 0.2497 - val_acc: 0.6392\n",
      "Epoch 25/30\n",
      "45455/45455 [==============================] - 5s 104us/step - loss: 0.2352 - acc: 0.6687 - val_loss: 0.2407 - val_acc: 0.6526\n",
      "Epoch 26/30\n",
      "45455/45455 [==============================] - 4s 87us/step - loss: 0.2351 - acc: 0.6673 - val_loss: 0.2387 - val_acc: 0.6594\n",
      "Epoch 27/30\n",
      "45455/45455 [==============================] - 6s 121us/step - loss: 0.2329 - acc: 0.6721 - val_loss: 0.2369 - val_acc: 0.6636\n",
      "Epoch 28/30\n",
      "45455/45455 [==============================] - 4s 98us/step - loss: 0.2308 - acc: 0.6737 - val_loss: 0.2397 - val_acc: 0.6629\n",
      "Epoch 29/30\n",
      "45455/45455 [==============================] - 4s 95us/step - loss: 0.2284 - acc: 0.6793 - val_loss: 0.2380 - val_acc: 0.6612\n",
      "Epoch 30/30\n",
      "45455/45455 [==============================] - 4s 94us/step - loss: 0.2279 - acc: 0.6788 - val_loss: 0.2369 - val_acc: 0.6618\n"
     ]
    }
   ],
   "source": [
    "\"\"\"four-CONV-LAYERS-THICK\"\"\"\n",
    "if not data_augmentation:\n",
    "    print('Not using data augmentation.')\n",
    "    train_history_3= model_3.fit(\n",
    "        x_train,\n",
    "        y_train,\n",
    "        batch_size=batch_size,\n",
    "        epochs=epochs,\n",
    "        validation_split= Vld_Splt,\n",
    "        shuffle=True)\n",
    "else:\n",
    "    print('Using real-time data augmentation.')\n",
    "    # This will do preprocessing and realtime data augmentation:\n",
    "    datagen = ImageDataGenerator(\n",
    "        featurewise_center=False,  # set input mean to 0 over the dataset\n",
    "        samplewise_center=False,  # set each sample mean to 0\n",
    "        featurewise_std_normalization=False,  # divide inputs by dataset std\n",
    "        samplewise_std_normalization=False,  # divide each input by its std\n",
    "        zca_whitening=False,  # apply ZCA whitening\n",
    "        zca_epsilon=1e-06,  # epsilon for ZCA whitening\n",
    "        rotation_range=0,  # randomly rotate images in 0 to 180 degrees\n",
    "        width_shift_range=0.1,  # randomly shift images horizontally\n",
    "        height_shift_range=0.1,  # randomly shift images vertically\n",
    "        shear_range=0.,  # set range for random shear\n",
    "        zoom_range=0.,  # set range for random zoom\n",
    "        channel_shift_range=0.,  # set range for random channel shifts\n",
    "        # set mode for filling points outside the input boundaries\n",
    "        fill_mode='nearest',\n",
    "        cval=0.,  # value used for fill_mode = \"constant\"\n",
    "        horizontal_flip=True,  # randomly flip images\n",
    "        vertical_flip=False,  # randomly flip images\n",
    "        # set rescaling factor (applied before any other transformation)\n",
    "        rescale=None,\n",
    "        # set function that will be applied on each input\n",
    "        preprocessing_function=None,\n",
    "        # image data format, either \"channels_first\" or \"channels_last\"\n",
    "        data_format=None,\n",
    "        # fraction of images reserved for validation (strictly between 0 and 1)\n",
    "        validation_split=0.0)\n",
    "\n",
    "    # Compute quantities required for feature-wise normalization\n",
    "    # (std, mean, and principal components if ZCA whitening is applied).\n",
    "    datagen.fit(x_train)\n",
    "\n",
    "    # Fit the model on the batches generated by datagen.flow().\n",
    "    train_history_3= model_3.fit_generator(\n",
    "        datagen.flow(x_train, y_train, batch_size=batch_size),\n",
    "        epochs= epochs,\n",
    "        validation_split= Vld_Splt,\n",
    "        steps_per_epoch= int(x_train.shape[0]/ batch_size),\n",
    "        workers=4)"
   ]
  },
  {
   "cell_type": "code",
   "execution_count": 33,
   "metadata": {},
   "outputs": [
    {
     "name": "stdout",
     "output_type": "stream",
     "text": [
      "Train on 45455 samples, validate on 4545 samples\n",
      "Epoch 1/30\n",
      "45455/45455 [==============================] - 4s 77us/step - loss: 1.8570 - acc: 0.3197 - val_loss: 1.6382 - val_acc: 0.4312\n",
      "Epoch 2/30\n",
      "45455/45455 [==============================] - 3s 61us/step - loss: 1.6106 - acc: 0.4150 - val_loss: 1.5407 - val_acc: 0.4642\n",
      "Epoch 3/30\n",
      "45455/45455 [==============================] - 3s 61us/step - loss: 1.5362 - acc: 0.4426 - val_loss: 1.4884 - val_acc: 0.4829\n",
      "Epoch 4/30\n",
      "45455/45455 [==============================] - 3s 71us/step - loss: 1.4774 - acc: 0.4643 - val_loss: 1.4212 - val_acc: 0.5043\n",
      "Epoch 5/30\n",
      "45455/45455 [==============================] - 3s 68us/step - loss: 1.4439 - acc: 0.4797 - val_loss: 1.3985 - val_acc: 0.5050\n",
      "Epoch 6/30\n",
      "45455/45455 [==============================] - 3s 60us/step - loss: 1.4108 - acc: 0.4915 - val_loss: 1.4060 - val_acc: 0.5094\n",
      "Epoch 7/30\n",
      "45455/45455 [==============================] - 3s 57us/step - loss: 1.3851 - acc: 0.5018 - val_loss: 1.3661 - val_acc: 0.5364\n",
      "Epoch 8/30\n",
      "45455/45455 [==============================] - 3s 62us/step - loss: 1.3584 - acc: 0.5110 - val_loss: 1.4055 - val_acc: 0.5063\n",
      "Epoch 9/30\n",
      "45455/45455 [==============================] - 3s 59us/step - loss: 1.3469 - acc: 0.5143 - val_loss: 1.3346 - val_acc: 0.5373\n",
      "Epoch 10/30\n",
      "45455/45455 [==============================] - 3s 62us/step - loss: 1.3265 - acc: 0.5221 - val_loss: 1.3208 - val_acc: 0.5492\n",
      "Epoch 11/30\n",
      "45455/45455 [==============================] - 3s 68us/step - loss: 1.3094 - acc: 0.5303 - val_loss: 1.2899 - val_acc: 0.5617\n",
      "Epoch 12/30\n",
      "45455/45455 [==============================] - 3s 76us/step - loss: 1.2881 - acc: 0.5370 - val_loss: 1.2752 - val_acc: 0.5765\n",
      "Epoch 13/30\n",
      "45455/45455 [==============================] - 4s 79us/step - loss: 1.2728 - acc: 0.5442 - val_loss: 1.2562 - val_acc: 0.5828\n",
      "Epoch 14/30\n",
      "45455/45455 [==============================] - 3s 69us/step - loss: 1.2607 - acc: 0.5452 - val_loss: 1.2742 - val_acc: 0.5692\n",
      "Epoch 15/30\n",
      "45455/45455 [==============================] - 3s 63us/step - loss: 1.2453 - acc: 0.5541 - val_loss: 1.2264 - val_acc: 0.5969\n",
      "Epoch 16/30\n",
      "45455/45455 [==============================] - 3s 63us/step - loss: 1.2327 - acc: 0.5590 - val_loss: 1.3052 - val_acc: 0.5690\n",
      "Epoch 17/30\n",
      "45455/45455 [==============================] - 3s 69us/step - loss: 1.2282 - acc: 0.5606 - val_loss: 1.2226 - val_acc: 0.5989\n",
      "Epoch 18/30\n",
      "45455/45455 [==============================] - 3s 72us/step - loss: 1.2141 - acc: 0.5650 - val_loss: 1.2241 - val_acc: 0.5974\n",
      "Epoch 19/30\n",
      "45455/45455 [==============================] - 3s 68us/step - loss: 1.2009 - acc: 0.5714 - val_loss: 1.2641 - val_acc: 0.5729\n",
      "Epoch 20/30\n",
      "45455/45455 [==============================] - 3s 60us/step - loss: 1.1828 - acc: 0.5762 - val_loss: 1.1860 - val_acc: 0.6007\n",
      "Epoch 21/30\n",
      "45455/45455 [==============================] - 3s 61us/step - loss: 1.1736 - acc: 0.5819 - val_loss: 1.1993 - val_acc: 0.5976\n",
      "Epoch 22/30\n",
      "45455/45455 [==============================] - 3s 60us/step - loss: 1.1775 - acc: 0.5782 - val_loss: 1.1689 - val_acc: 0.6092\n",
      "Epoch 23/30\n",
      "45455/45455 [==============================] - 3s 60us/step - loss: 1.1638 - acc: 0.5844 - val_loss: 1.1637 - val_acc: 0.6196\n",
      "Epoch 24/30\n",
      "45455/45455 [==============================] - 3s 61us/step - loss: 1.1627 - acc: 0.5818 - val_loss: 1.1624 - val_acc: 0.6090\n",
      "Epoch 25/30\n",
      "45455/45455 [==============================] - 3s 63us/step - loss: 1.1461 - acc: 0.5908 - val_loss: 1.1571 - val_acc: 0.6114\n",
      "Epoch 26/30\n",
      "45455/45455 [==============================] - 3s 66us/step - loss: 1.1414 - acc: 0.5933 - val_loss: 1.1482 - val_acc: 0.6086\n",
      "Epoch 27/30\n",
      "45455/45455 [==============================] - 3s 64us/step - loss: 1.1304 - acc: 0.5963 - val_loss: 1.1455 - val_acc: 0.6147\n",
      "Epoch 28/30\n",
      "45455/45455 [==============================] - 3s 66us/step - loss: 1.1210 - acc: 0.5989 - val_loss: 1.1503 - val_acc: 0.6125\n",
      "Epoch 29/30\n",
      "45455/45455 [==============================] - 3s 69us/step - loss: 1.1263 - acc: 0.5974 - val_loss: 1.1581 - val_acc: 0.6185\n",
      "Epoch 30/30\n",
      "45455/45455 [==============================] - 3s 72us/step - loss: 1.1108 - acc: 0.6018 - val_loss: 1.1427 - val_acc: 0.6163\n"
     ]
    }
   ],
   "source": [
    "\"\"\"CNN-3-CONV-LAYERS\"\"\"\n",
    "model_4.compile(loss='categorical_crossentropy',\n",
    "              optimizer='adam', metrics=['accuracy'])\n",
    "train_history_4= model_4.fit(x= x_train, y= y_train, validation_split= Vld_Splt,\n",
    "                         epochs= epochs, batch_size= batch_size, verbose=1)"
   ]
  },
  {
   "cell_type": "code",
   "execution_count": 34,
   "metadata": {},
   "outputs": [
    {
     "name": "stdout",
     "output_type": "stream",
     "text": [
      "10000/10000 [==============================] - 1s 107us/step\n"
     ]
    },
    {
     "data": {
      "text/plain": [
       "0.4587"
      ]
     },
     "execution_count": 34,
     "metadata": {},
     "output_type": "execute_result"
    }
   ],
   "source": [
    "\"\"\"one-CONV-LAYERS-THICK\"\"\"\n",
    "scores_0= model_0.evaluate(x_test, y_test)\n",
    "scores_0[1]"
   ]
  },
  {
   "cell_type": "code",
   "execution_count": 35,
   "metadata": {},
   "outputs": [
    {
     "name": "stdout",
     "output_type": "stream",
     "text": [
      "10000/10000 [==============================] - 1s 146us/step\n"
     ]
    },
    {
     "data": {
      "text/plain": [
       "0.617"
      ]
     },
     "execution_count": 35,
     "metadata": {},
     "output_type": "execute_result"
    }
   ],
   "source": [
    "\"\"\"two-CONV-LAYERS-THICK\"\"\"\n",
    "scores_1= model_1.evaluate(x_test, y_test)\n",
    "scores_1[1]"
   ]
  },
  {
   "cell_type": "code",
   "execution_count": 36,
   "metadata": {},
   "outputs": [
    {
     "name": "stdout",
     "output_type": "stream",
     "text": [
      "10000/10000 [==============================] - 1s 111us/step\n"
     ]
    },
    {
     "data": {
      "text/plain": [
       "0.6359"
      ]
     },
     "execution_count": 36,
     "metadata": {},
     "output_type": "execute_result"
    }
   ],
   "source": [
    "\"\"\"three-CONV-LAYERS-THICK\"\"\"\n",
    "scores_2= model_2.evaluate(x_test, y_test)\n",
    "scores_2[1]"
   ]
  },
  {
   "cell_type": "code",
   "execution_count": 37,
   "metadata": {},
   "outputs": [
    {
     "name": "stdout",
     "output_type": "stream",
     "text": [
      "10000/10000 [==============================] - 1s 86us/step\n"
     ]
    },
    {
     "data": {
      "text/plain": [
       "0.6448"
      ]
     },
     "execution_count": 37,
     "metadata": {},
     "output_type": "execute_result"
    }
   ],
   "source": [
    "\"\"\"four-CONV-LAYERS-THICK\"\"\"\n",
    "scores_3= model_3.evaluate(x_test, y_test)\n",
    "scores_3[1]"
   ]
  },
  {
   "cell_type": "code",
   "execution_count": 38,
   "metadata": {},
   "outputs": [
    {
     "name": "stdout",
     "output_type": "stream",
     "text": [
      "10000/10000 [==============================] - 1s 79us/step\n"
     ]
    },
    {
     "data": {
      "text/plain": [
       "0.6104"
      ]
     },
     "execution_count": 38,
     "metadata": {},
     "output_type": "execute_result"
    }
   ],
   "source": [
    "\"\"\"CNN\"\"\"\n",
    "scores_4= model_4.evaluate(x_test, y_test)\n",
    "scores_4[1]"
   ]
  },
  {
   "cell_type": "code",
   "execution_count": 39,
   "metadata": {},
   "outputs": [],
   "source": [
    "import matplotlib.pyplot as plt\n",
    "def show_train_history(train_history, train, validation):\n",
    "    plt.plot(train_history.history[train])\n",
    "    plt.plot(train_history.history[validation])\n",
    "    plt.title('Train History')\n",
    "    plt.ylabel(train)\n",
    "    plt.xlabel('Epoch')\n",
    "    plt.legend(['train', 'validation'], loc='best')\n",
    "    plt.show()"
   ]
  },
  {
   "cell_type": "code",
   "execution_count": 40,
   "metadata": {},
   "outputs": [
    {
     "data": {
      "image/png": "[encoded data removed]",
      "text/plain": [
       "<Figure size 432x288 with 1 Axes>"
      ]
     },
     "metadata": {
      "needs_background": "light"
     },
     "output_type": "display_data"
    }
   ],
   "source": [
    "show_train_history(train_history_0, 'acc', 'val_acc')"
   ]
  },
  {
   "cell_type": "code",
   "execution_count": 41,
   "metadata": {},
   "outputs": [
    {
     "data": {
      "image/png": "[encoded data removed]",
      "text/plain": [
       "<Figure size 432x288 with 1 Axes>"
      ]
     },
     "metadata": {
      "needs_background": "light"
     },
     "output_type": "display_data"
    }
   ],
   "source": [
    "show_train_history(train_history_1, 'acc', 'val_acc')"
   ]
  },
  {
   "cell_type": "code",
   "execution_count": 42,
   "metadata": {},
   "outputs": [
    {
     "data": {
      "image/png": "[encoded data removed]",
      "text/plain": [
       "<Figure size 432x288 with 1 Axes>"
      ]
     },
     "metadata": {
      "needs_background": "light"
     },
     "output_type": "display_data"
    }
   ],
   "source": [
    "show_train_history(train_history_2, 'acc', 'val_acc')"
   ]
  },
  {
   "cell_type": "code",
   "execution_count": 43,
   "metadata": {},
   "outputs": [
    {
     "data": {
      "image/png": "[encoded data removed]",
      "text/plain": [
       "<Figure size 432x288 with 1 Axes>"
      ]
     },
     "metadata": {
      "needs_background": "light"
     },
     "output_type": "display_data"
    }
   ],
   "source": [
    "show_train_history(train_history_3, 'acc', 'val_acc')"
   ]
  },
  {
   "cell_type": "code",
   "execution_count": 44,
   "metadata": {},
   "outputs": [
    {
     "data": {
      "image/png": "[encoded data removed]",
      "text/plain": [
       "<Figure size 432x288 with 1 Axes>"
      ]
     },
     "metadata": {
      "needs_background": "light"
     },
     "output_type": "display_data"
    }
   ],
   "source": [
    "show_train_history(train_history_4, 'acc', 'val_acc')"
   ]
  },
  {
   "cell_type": "code",
   "execution_count": 45,
   "metadata": {},
   "outputs": [],
   "source": [
    "# show_train_history(train_history_5, 'acc', 'val_acc')"
   ]
  },
  {
   "cell_type": "code",
   "execution_count": 46,
   "metadata": {},
   "outputs": [],
   "source": [
    "# show_train_history(train_history_6, 'acc', 'val_acc')"
   ]
  },
  {
   "cell_type": "code",
   "execution_count": 47,
   "metadata": {},
   "outputs": [
    {
     "data": {
      "image/png": "[encoded data removed]",
      "text/plain": [
       "<Figure size 432x288 with 1 Axes>"
      ]
     },
     "metadata": {
      "needs_background": "light"
     },
     "output_type": "display_data"
    }
   ],
   "source": [
    "plt.plot(train_history_0.history['val_acc'], 'r-')\n",
    "plt.plot(train_history_1.history['val_acc'], 'b--')\n",
    "plt.plot(train_history_2.history['val_acc'], 'k.')\n",
    "plt.plot(train_history_3.history['val_acc'], 'b-')\n",
    "plt.plot(train_history_4.history['val_acc'], 'h-')\n",
    "# plt.plot(train_history_5.history['val_acc'], 'c-')\n",
    "# plt.plot(train_history_6.history['val_acc'], 'g*-')\n",
    "# plt.plot(train_history_7.history['val_acc'], 'k-.')\n",
    "plt.title('Training on cifar10')\n",
    "plt.ylabel('Validation Accuracy')\n",
    "plt.xlabel('Epoch')\n",
    "plt.legend(['CapsNet: 1-conv','CapsNet: 2-conv','CapsNet: 3-conv','CapsNet: 4-conv','CNN-2CONV'], loc='best')\n",
    "plt.show()"
   ]
  },
  {
   "cell_type": "code",
   "execution_count": null,
   "metadata": {},
   "outputs": [],
   "source": []
  }
 ],
 "metadata": {
  "kernelspec": {
   "display_name": "Python 3",
   "language": "python",
   "name": "python3"
  },
  "language_info": {
   "codemirror_mode": {
    "name": "ipython",
    "version": 3
   },
   "file_extension": ".py",
   "mimetype": "text/x-python",
   "name": "python",
   "nbconvert_exporter": "python",
   "pygments_lexer": "ipython3",
   "version": "3.6.10"
  }
 },
 "nbformat": 4,
 "nbformat_minor": 2
}
