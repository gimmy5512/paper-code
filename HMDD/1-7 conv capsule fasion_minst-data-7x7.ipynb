{
 "cells": [
  {
   "cell_type": "code",
   "execution_count": 1,
   "metadata": {},
   "outputs": [],
   "source": [
    "import os\n"
   ]
  },
  {
   "cell_type": "code",
   "execution_count": 2,
   "metadata": {},
   "outputs": [
    {
     "name": "stderr",
     "output_type": "stream",
     "text": [
      "Using TensorFlow backend.\n",
      "C:\\Users\\ASUS\\Anaconda3\\envs\\tensorflow-gpu\\lib\\site-packages\\tensorflow\\python\\framework\\dtypes.py:526: FutureWarning: Passing (type, 1) or '1type' as a synonym of type is deprecated; in a future version of numpy, it will be understood as (type, (1,)) / '(1,)type'.\n",
      "  _np_qint8 = np.dtype([(\"qint8\", np.int8, 1)])\n",
      "C:\\Users\\ASUS\\Anaconda3\\envs\\tensorflow-gpu\\lib\\site-packages\\tensorflow\\python\\framework\\dtypes.py:527: FutureWarning: Passing (type, 1) or '1type' as a synonym of type is deprecated; in a future version of numpy, it will be understood as (type, (1,)) / '(1,)type'.\n",
      "  _np_quint8 = np.dtype([(\"quint8\", np.uint8, 1)])\n",
      "C:\\Users\\ASUS\\Anaconda3\\envs\\tensorflow-gpu\\lib\\site-packages\\tensorflow\\python\\framework\\dtypes.py:528: FutureWarning: Passing (type, 1) or '1type' as a synonym of type is deprecated; in a future version of numpy, it will be understood as (type, (1,)) / '(1,)type'.\n",
      "  _np_qint16 = np.dtype([(\"qint16\", np.int16, 1)])\n",
      "C:\\Users\\ASUS\\Anaconda3\\envs\\tensorflow-gpu\\lib\\site-packages\\tensorflow\\python\\framework\\dtypes.py:529: FutureWarning: Passing (type, 1) or '1type' as a synonym of type is deprecated; in a future version of numpy, it will be understood as (type, (1,)) / '(1,)type'.\n",
      "  _np_quint16 = np.dtype([(\"quint16\", np.uint16, 1)])\n",
      "C:\\Users\\ASUS\\Anaconda3\\envs\\tensorflow-gpu\\lib\\site-packages\\tensorflow\\python\\framework\\dtypes.py:530: FutureWarning: Passing (type, 1) or '1type' as a synonym of type is deprecated; in a future version of numpy, it will be understood as (type, (1,)) / '(1,)type'.\n",
      "  _np_qint32 = np.dtype([(\"qint32\", np.int32, 1)])\n",
      "C:\\Users\\ASUS\\Anaconda3\\envs\\tensorflow-gpu\\lib\\site-packages\\tensorflow\\python\\framework\\dtypes.py:535: FutureWarning: Passing (type, 1) or '1type' as a synonym of type is deprecated; in a future version of numpy, it will be understood as (type, (1,)) / '(1,)type'.\n",
      "  np_resource = np.dtype([(\"resource\", np.ubyte, 1)])\n"
     ]
    }
   ],
   "source": [
    "from __future__ import print_function\n",
    "from keras import backend as K\n",
    "from keras.layers import Layer\n",
    "from keras import activations\n",
    "from keras import utils\n",
    "from keras.datasets import fashion_mnist\n",
    "from keras.datasets import mnist\n",
    "from keras.models import Model\n",
    "from keras.layers import *\n",
    "from keras.preprocessing.image import ImageDataGenerator\n",
    "import cv2"
   ]
  },
  {
   "cell_type": "code",
   "execution_count": 3,
   "metadata": {},
   "outputs": [],
   "source": [
    "from tensorflow.compat.v1 import ConfigProto\n",
    "from tensorflow.compat.v1 import InteractiveSession\n",
    "\n",
    "config = ConfigProto()\n",
    "config.gpu_options.allow_growth = True\n",
    "session = InteractiveSession(config=config)"
   ]
  },
  {
   "cell_type": "code",
   "execution_count": 4,
   "metadata": {},
   "outputs": [],
   "source": [
    "Vld_Splt= 0.0909\n",
    "batch_size = 200\n",
    "num_classes = 10\n",
    "epochs = 30"
   ]
  },
  {
   "cell_type": "code",
   "execution_count": 5,
   "metadata": {},
   "outputs": [],
   "source": [
    "from keras.utils import np_utils\n",
    "\n",
    "'''LOAD DATA'''\n",
    "Dir= 'C:/pythonwork/MHDD/'\n",
    "x_train= np.load(Dir+'HMDD_Train_X.npy')\n",
    "y_train=np.load(Dir+'HMDD_Train_Y.npy')\n",
    "x_test=np.load(Dir+'HMDD_Test_X.npy')\n",
    "y_test=np.load(Dir+'HMDD_Test_Y.npy')\n",
    "\n",
    "'''PRE-PROCESSING'''\n",
    "x_train = x_train.reshape(-1, 28, 28, 1).astype('float32') / 255.\n",
    "x_test = x_test.reshape(-1, 28, 28, 1).astype('float32') / 255.\n",
    "# n_Vld= int(np.floor(Vld_Splt* x_train.shape[0]))  # Num. of validation data"
   ]
  },
  {
   "cell_type": "code",
   "execution_count": 6,
   "metadata": {},
   "outputs": [
    {
     "name": "stdout",
     "output_type": "stream",
     "text": [
      " (60000, 28, 28, 1) \n",
      " (60000, 10) \n",
      " (10000, 28, 28, 1) \n",
      " (10000, 10) \n",
      "\n"
     ]
    }
   ],
   "source": [
    "print('', x_train.shape,'\\n',y_train.shape,'\\n',x_test.shape,'\\n',y_test.shape,'\\n')"
   ]
  },
  {
   "cell_type": "code",
   "execution_count": 7,
   "metadata": {},
   "outputs": [],
   "source": [
    "# the squashing function.\n",
    "# we use 0.5 in stead of 1 in hinton's paper.\n",
    "# if 1, the norm of vector will be zoomed out.\n",
    "# if 0.5, the norm will be zoomed in while original norm is less than 0.5\n",
    "# and be zoomed out while original norm is greater than 0.5.\n",
    "def squash(x, axis=-1):\n",
    "    s_squared_norm = K.sum(K.square(x), axis, keepdims=True) + K.epsilon()\n",
    "    scale = K.sqrt(s_squared_norm) / (0.5 + s_squared_norm)\n",
    "    return scale * x\n",
    "\n",
    "\n",
    "# define our own softmax function instead of K.softmax\n",
    "# because K.softmax can not specify axis.\n",
    "def softmax(x, axis=-1):\n",
    "    ex = K.exp(x - K.max(x, axis=axis, keepdims=True))\n",
    "    return ex / K.sum(ex, axis=axis, keepdims=True)\n",
    "\n",
    "\n",
    "# define the margin loss like hinge loss\n",
    "def margin_loss(y_true, y_pred):\n",
    "    lamb, margin = 0.5, 0.1\n",
    "    return K.sum(y_true * K.square(K.relu(1 - margin - y_pred)) + lamb * (\n",
    "        1 - y_true) * K.square(K.relu(y_pred - margin)), axis=-1)\n",
    "\n",
    "\n",
    "class Capsule(Layer):\n",
    "    \"\"\"A Capsule Implement with Pure Keras\n",
    "    There are two vesions of Capsule.\n",
    "    One is like dense layer (for the fixed-shape input),\n",
    "    and the other is like timedistributed dense (for various length input).\n",
    "\n",
    "    The input shape of Capsule must be (batch_size,\n",
    "                                        input_num_capsule,\n",
    "                                        input_dim_capsule\n",
    "                                       )\n",
    "    and the output shape is (batch_size,\n",
    "                             num_capsule,\n",
    "                             dim_capsule\n",
    "                            )\n",
    "\n",
    "    Capsule Implement is from https://github.com/bojone/Capsule/\n",
    "    Capsule Paper: https://arxiv.org/abs/1710.09829\n",
    "    \"\"\"\n",
    "\n",
    "    def __init__(self,\n",
    "                 num_capsule,\n",
    "                 dim_capsule,\n",
    "                 routings=3,\n",
    "                 share_weights=True,\n",
    "                 activation='squash',\n",
    "                 **kwargs):\n",
    "        super(Capsule, self).__init__(**kwargs)\n",
    "        self.num_capsule = num_capsule\n",
    "        self.dim_capsule = dim_capsule\n",
    "        self.routings = routings\n",
    "        self.share_weights = share_weights\n",
    "        if activation == 'squash':\n",
    "            self.activation = squash\n",
    "        else:\n",
    "            self.activation = activations.get(activation)\n",
    "\n",
    "    def build(self, input_shape):\n",
    "        input_dim_capsule = input_shape[-1]\n",
    "        if self.share_weights:\n",
    "            self.kernel = self.add_weight(\n",
    "                name='capsule_kernel',\n",
    "                shape=(1, input_dim_capsule,\n",
    "                       self.num_capsule * self.dim_capsule),\n",
    "                initializer='glorot_uniform',\n",
    "                trainable=True)\n",
    "        else:\n",
    "            input_num_capsule = input_shape[-2]\n",
    "            self.kernel = self.add_weight(\n",
    "                name='capsule_kernel',\n",
    "                shape=(input_num_capsule, input_dim_capsule,\n",
    "                       self.num_capsule * self.dim_capsule),\n",
    "                initializer='glorot_uniform',\n",
    "                trainable=True)\n",
    "\n",
    "    def call(self, inputs):\n",
    "        \"\"\"Following the routing algorithm from Hinton's paper,\n",
    "        but replace b = b + <u,v> with b = <u,v>.\n",
    "\n",
    "        This change can improve the feature representation of Capsule.\n",
    "\n",
    "        However, you can replace\n",
    "            b = K.batch_dot(outputs, hat_inputs, [2, 3])\n",
    "        with\n",
    "            b += K.batch_dot(outputs, hat_inputs, [2, 3])\n",
    "        to realize a standard routing.\n",
    "        \"\"\"\n",
    "\n",
    "        if self.share_weights:\n",
    "            hat_inputs = K.conv1d(inputs, self.kernel)\n",
    "        else:\n",
    "            hat_inputs = K.local_conv1d(inputs, self.kernel, [1], [1])\n",
    "\n",
    "        batch_size = K.shape(inputs)[0]\n",
    "        input_num_capsule = K.shape(inputs)[1]\n",
    "        hat_inputs = K.reshape(hat_inputs,\n",
    "                               (batch_size, input_num_capsule,\n",
    "                                self.num_capsule, self.dim_capsule))\n",
    "        hat_inputs = K.permute_dimensions(hat_inputs, (0, 2, 1, 3))\n",
    "\n",
    "        b = K.zeros_like(hat_inputs[:, :, :, 0])\n",
    "        for i in range(self.routings):\n",
    "            c = softmax(b, 1)\n",
    "            o = self.activation(K.batch_dot(c, hat_inputs, [2, 2]))\n",
    "            if i < self.routings - 1:\n",
    "                b = K.batch_dot(o, hat_inputs, [2, 3])\n",
    "                if K.backend() == 'theano':\n",
    "                    o = K.sum(o, axis=1)\n",
    "\n",
    "        return o\n",
    "\n",
    "    def compute_output_shape(self, input_shape):\n",
    "        return (None, self.num_capsule, self.dim_capsule)"
   ]
  },
  {
   "cell_type": "code",
   "execution_count": 8,
   "metadata": {},
   "outputs": [
    {
     "name": "stdout",
     "output_type": "stream",
     "text": [
      "WARNING:tensorflow:From C:\\Users\\ASUS\\Anaconda3\\envs\\tensorflow-gpu\\lib\\site-packages\\tensorflow\\python\\framework\\op_def_library.py:263: colocate_with (from tensorflow.python.framework.ops) is deprecated and will be removed in a future version.\n",
      "Instructions for updating:\n",
      "Colocations handled automatically by placer.\n",
      "WARNING:tensorflow:From C:\\Users\\ASUS\\Anaconda3\\envs\\tensorflow-gpu\\lib\\site-packages\\keras\\backend\\tensorflow_backend.py:3445: calling dropout (from tensorflow.python.ops.nn_ops) with keep_prob is deprecated and will be removed in a future version.\n",
      "Instructions for updating:\n",
      "Please use `rate` instead of `keep_prob`. Rate should be set to `rate = 1 - keep_prob`.\n",
      "_________________________________________________________________\n",
      "Layer (type)                 Output Shape              Param #   \n",
      "=================================================================\n",
      "input_1 (InputLayer)         (None, 28, 28, 1)         0         \n",
      "_________________________________________________________________\n",
      "conv2d_1 (Conv2D)            (None, 22, 22, 250)       12500     \n",
      "_________________________________________________________________\n",
      "dropout_1 (Dropout)          (None, 22, 22, 250)       0         \n",
      "_________________________________________________________________\n",
      "reshape_1 (Reshape)          (None, 484, 250)          0         \n",
      "_________________________________________________________________\n",
      "capsule_1 (Capsule)          (None, 10, 16)            40000     \n",
      "_________________________________________________________________\n",
      "lambda_1 (Lambda)            (None, 10)                0         \n",
      "=================================================================\n",
      "Total params: 52,500\n",
      "Trainable params: 52,500\n",
      "Non-trainable params: 0\n",
      "_________________________________________________________________\n"
     ]
    }
   ],
   "source": [
    "\"\"\"one-CONV-LAYERS-THICK\"\"\"\n",
    "input_image = Input(shape=(x_train.shape[1], x_train.shape[2], x_train.shape[3]))\n",
    "x_0 = Conv2D(filters= 250, kernel_size= 7, activation='relu', \n",
    "             padding= 'valid')(input_image)\n",
    "x_0= Dropout(0.1)(x_0)\n",
    "\n",
    "\n",
    "\"\"\"now we reshape it as (batch_size, input_num_capsule, input_dim_capsule)\n",
    "then connect a Capsule layer.\n",
    "\n",
    "the output of final model is the lengths of 10 Capsule, whose dim=16.\n",
    "\n",
    "the length of Capsule is the proba,\n",
    "so the problem becomes a 10 two-classification problem.\n",
    "\"\"\"\n",
    "\n",
    "x_0 = Reshape((-1, 250))(x_0)\n",
    "capsule_0 = Capsule(num_classes, 16, 3, True)(x_0)\n",
    "output_0 = Lambda(lambda z: K.sqrt(K.sum(K.square(z), 2)))(capsule_0)\n",
    "model_0 = Model(inputs= input_image, outputs= output_0)\n",
    "\n",
    "# we use a margin loss\n",
    "model_0.compile(loss =margin_loss, optimizer='adam', metrics=['accuracy'])\n",
    "model_0.summary()\n",
    "\n",
    "# we can compare the performance with or without data augmentation\n",
    "data_augmentation = False"
   ]
  },
  {
   "cell_type": "code",
   "execution_count": 9,
   "metadata": {},
   "outputs": [
    {
     "name": "stdout",
     "output_type": "stream",
     "text": [
      "_________________________________________________________________\n",
      "Layer (type)                 Output Shape              Param #   \n",
      "=================================================================\n",
      "input_2 (InputLayer)         (None, 28, 28, 1)         0         \n",
      "_________________________________________________________________\n",
      "conv2d_2 (Conv2D)            (None, 22, 22, 15)        750       \n",
      "_________________________________________________________________\n",
      "dropout_2 (Dropout)          (None, 22, 22, 15)        0         \n",
      "_________________________________________________________________\n",
      "conv2d_3 (Conv2D)            (None, 16, 16, 60)        44160     \n",
      "_________________________________________________________________\n",
      "dropout_3 (Dropout)          (None, 16, 16, 60)        0         \n",
      "_________________________________________________________________\n",
      "reshape_2 (Reshape)          (None, 256, 60)           0         \n",
      "_________________________________________________________________\n",
      "capsule_2 (Capsule)          (None, 10, 16)            9600      \n",
      "_________________________________________________________________\n",
      "lambda_2 (Lambda)            (None, 10)                0         \n",
      "=================================================================\n",
      "Total params: 54,510\n",
      "Trainable params: 54,510\n",
      "Non-trainable params: 0\n",
      "_________________________________________________________________\n"
     ]
    }
   ],
   "source": [
    "\"\"\"two-CONV-LAYERS-THICK\"\"\"\n",
    "input_image = Input(shape=(x_train.shape[1], x_train.shape[2], x_train.shape[3]))\n",
    "x_1 = Conv2D(filters= 15, kernel_size= 7, activation='relu', \n",
    "             padding= 'valid')(input_image)\n",
    "x_1= Dropout(0.1)(x_1)\n",
    "x_1 = Conv2D(filters= 60, kernel_size= 7, activation='relu',\n",
    "             strides= 1)(x_1)\n",
    "x_1 = Dropout(0.1)(x_1)\n",
    "\n",
    "\n",
    "\"\"\"now we reshape it as (batch_size, input_num_capsule, input_dim_capsule)\n",
    "then connect a Capsule layer.\n",
    "\n",
    "the output of final model is the lengths of 10 Capsule, whose dim=16.\n",
    "\n",
    "the length of Capsule is the proba,\n",
    "so the problem becomes a 10 two-classification problem.\n",
    "\"\"\"\n",
    "\n",
    "x_1 = Reshape((-1, 60))(x_1)\n",
    "capsule_1 = Capsule(num_classes, 16, 3, True)(x_1)\n",
    "output_1 = Lambda(lambda z: K.sqrt(K.sum(K.square(z), 2)))(capsule_1)\n",
    "model_1= Model(inputs= input_image, outputs= output_1)\n",
    "\n",
    "# we use a margin loss\n",
    "model_1.compile(loss =margin_loss, optimizer='adam', metrics=['accuracy'])\n",
    "model_1.summary()\n",
    "\n",
    "# we can compare the performance with or without data augmentation\n",
    "data_augmentation = False"
   ]
  },
  {
   "cell_type": "code",
   "execution_count": 10,
   "metadata": {},
   "outputs": [
    {
     "name": "stdout",
     "output_type": "stream",
     "text": [
      "_________________________________________________________________\n",
      "Layer (type)                 Output Shape              Param #   \n",
      "=================================================================\n",
      "input_3 (InputLayer)         (None, 28, 28, 1)         0         \n",
      "_________________________________________________________________\n",
      "conv2d_4 (Conv2D)            (None, 22, 22, 15)        750       \n",
      "_________________________________________________________________\n",
      "dropout_4 (Dropout)          (None, 22, 22, 15)        0         \n",
      "_________________________________________________________________\n",
      "conv2d_5 (Conv2D)            (None, 16, 16, 25)        18400     \n",
      "_________________________________________________________________\n",
      "dropout_5 (Dropout)          (None, 16, 16, 25)        0         \n",
      "_________________________________________________________________\n",
      "conv2d_6 (Conv2D)            (None, 10, 10, 25)        30650     \n",
      "_________________________________________________________________\n",
      "dropout_6 (Dropout)          (None, 10, 10, 25)        0         \n",
      "_________________________________________________________________\n",
      "reshape_3 (Reshape)          (None, 100, 25)           0         \n",
      "_________________________________________________________________\n",
      "capsule_3 (Capsule)          (None, 10, 16)            4000      \n",
      "_________________________________________________________________\n",
      "lambda_3 (Lambda)            (None, 10)                0         \n",
      "=================================================================\n",
      "Total params: 53,800\n",
      "Trainable params: 53,800\n",
      "Non-trainable params: 0\n",
      "_________________________________________________________________\n"
     ]
    }
   ],
   "source": [
    "\"\"\"three-CONV-LAYERS-THICK\"\"\"\n",
    "input_image = Input(shape=(x_train.shape[1], x_train.shape[2], x_train.shape[3]))\n",
    "x_2 = Conv2D(filters= 15, kernel_size= 7, activation='relu', \n",
    "             padding= 'valid')(input_image)\n",
    "x_2= Dropout(0.1)(x_2)\n",
    "x_2 = Conv2D(filters= 25, kernel_size= 7, activation='relu',\n",
    "             strides= 1)(x_2)\n",
    "x_2 = Dropout(0.1)(x_2)\n",
    "x_2 = Conv2D(filters= 25, kernel_size= 7, activation='relu',\n",
    "             strides= 1)(x_2)\n",
    "x_2 = Dropout(0.1)(x_2)\n",
    "\n",
    "\n",
    "\"\"\"now we reshape it as (batch_size, input_num_capsule, input_dim_capsule)\n",
    "then connect a Capsule layer.\n",
    "\n",
    "the output of final model is the lengths of 10 Capsule, whose dim=16.\n",
    "\n",
    "the length of Capsule is the proba,\n",
    "so the problem becomes a 10 two-classification problem.\n",
    "\"\"\"\n",
    "\n",
    "x_2 = Reshape((-1, 25))(x_2)\n",
    "capsule_2 = Capsule(num_classes, 16, 3, True)(x_2)\n",
    "output_2 = Lambda(lambda z: K.sqrt(K.sum(K.square(z), 2)))(capsule_2)\n",
    "model_2= Model(inputs= input_image, outputs= output_2)\n",
    "\n",
    "# we use a margin loss\n",
    "model_2.compile(loss =margin_loss, optimizer='adam', metrics=['accuracy'])\n",
    "model_2.summary()\n",
    "\n",
    "# we can compare the performance with or without data augmentation\n",
    "data_augmentation = False"
   ]
  },
  {
   "cell_type": "code",
   "execution_count": 11,
   "metadata": {},
   "outputs": [
    {
     "name": "stdout",
     "output_type": "stream",
     "text": [
      "_________________________________________________________________\n",
      "Layer (type)                 Output Shape              Param #   \n",
      "=================================================================\n",
      "input_4 (InputLayer)         (None, 28, 28, 1)         0         \n",
      "_________________________________________________________________\n",
      "conv2d_7 (Conv2D)            (None, 22, 22, 15)        750       \n",
      "_________________________________________________________________\n",
      "dropout_7 (Dropout)          (None, 22, 22, 15)        0         \n",
      "_________________________________________________________________\n",
      "conv2d_8 (Conv2D)            (None, 16, 16, 15)        11040     \n",
      "_________________________________________________________________\n",
      "dropout_8 (Dropout)          (None, 16, 16, 15)        0         \n",
      "_________________________________________________________________\n",
      "conv2d_9 (Conv2D)            (None, 10, 10, 20)        14720     \n",
      "_________________________________________________________________\n",
      "dropout_9 (Dropout)          (None, 10, 10, 20)        0         \n",
      "_________________________________________________________________\n",
      "conv2d_10 (Conv2D)           (None, 4, 4, 30)          29430     \n",
      "_________________________________________________________________\n",
      "dropout_10 (Dropout)         (None, 4, 4, 30)          0         \n",
      "_________________________________________________________________\n",
      "reshape_4 (Reshape)          (None, 16, 30)            0         \n",
      "_________________________________________________________________\n",
      "capsule_4 (Capsule)          (None, 10, 16)            4800      \n",
      "_________________________________________________________________\n",
      "lambda_4 (Lambda)            (None, 10)                0         \n",
      "=================================================================\n",
      "Total params: 60,740\n",
      "Trainable params: 60,740\n",
      "Non-trainable params: 0\n",
      "_________________________________________________________________\n"
     ]
    }
   ],
   "source": [
    "\"\"\"four-CONV-LAYERS-THICK\"\"\"\n",
    "input_image = Input(shape=(x_train.shape[1], x_train.shape[2], x_train.shape[3]))\n",
    "x_3 = Conv2D(filters= 15, kernel_size= 7, activation='relu', \n",
    "             padding= 'valid')(input_image)\n",
    "x_3= Dropout(0.1)(x_3)\n",
    "x_3 = Conv2D(filters= 15 ,kernel_size= 7, activation='relu',\n",
    "             strides= 1)(x_3)\n",
    "x_3 = Dropout(0.1)(x_3)\n",
    "x_3 = Conv2D(filters= 20, kernel_size= 7, activation='relu',\n",
    "             strides= 1)(x_3)\n",
    "x_3= Dropout(0.1)(x_3)\n",
    "x_3 = Conv2D(filters= 30,kernel_size= 7, activation='relu',\n",
    "             strides= 1)(x_3)\n",
    "x_3= Dropout(0.1)(x_3)\n",
    "\n",
    "\n",
    "\"\"\"now we reshape it as (batch_size, input_num_capsule, input_dim_capsule)\n",
    "then connect a Capsule layer.\n",
    "\n",
    "the output of final model is the lengths of 10 Capsule, whose dim=16.\n",
    "\n",
    "the length of Capsule is the proba,\n",
    "so the problem becomes a 10 two-classification problem.\n",
    "\"\"\"\n",
    "\n",
    "x_3 = Reshape((-1, 30))(x_3)\n",
    "capsule_3 = Capsule(num_classes, 16, 3, True)(x_3)\n",
    "output_3 = Lambda(lambda z: K.sqrt(K.sum(K.square(z), 2)))(capsule_3)\n",
    "model_3= Model(inputs= input_image, outputs= output_3)\n",
    "\n",
    "# we use a margin loss\n",
    "model_3.compile(loss =margin_loss, optimizer='adam', metrics=['accuracy'])\n",
    "model_3.summary()\n",
    "\n",
    "# we can compare the performance with or without data augmentation\n",
    "data_augmentation = False"
   ]
  },
  {
   "cell_type": "code",
   "execution_count": 12,
   "metadata": {},
   "outputs": [
    {
     "name": "stdout",
     "output_type": "stream",
     "text": [
      "_________________________________________________________________\n",
      "Layer (type)                 Output Shape              Param #   \n",
      "=================================================================\n",
      "conv2d_11 (Conv2D)           (None, 28, 28, 5)         250       \n",
      "_________________________________________________________________\n",
      "max_pooling2d_1 (MaxPooling2 (None, 14, 14, 5)         0         \n",
      "_________________________________________________________________\n",
      "conv2d_12 (Conv2D)           (None, 14, 14, 10)        2460      \n",
      "_________________________________________________________________\n",
      "dropout_11 (Dropout)         (None, 14, 14, 10)        0         \n",
      "_________________________________________________________________\n",
      "max_pooling2d_2 (MaxPooling2 (None, 7, 7, 10)          0         \n",
      "_________________________________________________________________\n",
      "flatten_1 (Flatten)          (None, 490)               0         \n",
      "_________________________________________________________________\n",
      "dropout_12 (Dropout)         (None, 490)               0         \n",
      "_________________________________________________________________\n",
      "dense_1 (Dense)              (None, 256)               125696    \n",
      "_________________________________________________________________\n",
      "dense_2 (Dense)              (None, 10)                2570      \n",
      "=================================================================\n",
      "Total params: 130,976\n",
      "Trainable params: 130,976\n",
      "Non-trainable params: 0\n",
      "_________________________________________________________________\n",
      "None\n"
     ]
    }
   ],
   "source": [
    "\"\"\"CNN-3-CONV-LAYERS\"\"\"\n",
    "from keras.models import Sequential\n",
    "from keras.layers import Dense, Dropout, Activation, Flatten, Conv2D, MaxPooling2D, \\\n",
    "                         ZeroPadding2D\n",
    "\n",
    "model_4= Sequential()\n",
    "model_4.add(Conv2D(filters= 5, kernel_size= (7, 7), padding= 'same', \n",
    "                   input_shape=(x_train.shape[1], x_train.shape[2], x_train.shape[3]), \n",
    "                   activation='relu'))\n",
    "model_4.add(MaxPooling2D(pool_size=(2,2)))\n",
    "model_4.add(Conv2D(filters= 10, kernel_size= (7, 7), \n",
    "                    padding= 'same', activation='relu'))\n",
    "model_4.add(Dropout(0.4))\n",
    "model_4.add(MaxPooling2D(pool_size=(2,2)))\n",
    "\n",
    "model_4.add(Flatten())\n",
    "model_4.add(Dropout(0.5))\n",
    "model_4.add(Dense(256, activation='relu'))\n",
    "model_4.add(Dense(num_classes, activation='softmax'))\n",
    "print(model_4.summary())"
   ]
  },
  {
   "cell_type": "code",
   "execution_count": 13,
   "metadata": {},
   "outputs": [
    {
     "name": "stdout",
     "output_type": "stream",
     "text": [
      "Not using data augmentation.\n",
      "WARNING:tensorflow:From C:\\Users\\ASUS\\Anaconda3\\envs\\tensorflow-gpu\\lib\\site-packages\\tensorflow\\python\\ops\\math_ops.py:3066: to_int32 (from tensorflow.python.ops.math_ops) is deprecated and will be removed in a future version.\n",
      "Instructions for updating:\n",
      "Use tf.cast instead.\n",
      "WARNING:tensorflow:From C:\\Users\\ASUS\\Anaconda3\\envs\\tensorflow-gpu\\lib\\site-packages\\tensorflow\\python\\ops\\math_grad.py:102: div (from tensorflow.python.ops.math_ops) is deprecated and will be removed in a future version.\n",
      "Instructions for updating:\n",
      "Deprecated in favor of operator or tf.math.divide.\n",
      "Train on 54546 samples, validate on 5454 samples\n",
      "Epoch 1/30\n",
      "54546/54546 [==============================] - 16s 296us/step - loss: 0.3786 - acc: 0.5682 - val_loss: 0.2773 - val_acc: 0.7250\n",
      "Epoch 2/30\n",
      "54546/54546 [==============================] - 14s 257us/step - loss: 0.2563 - acc: 0.7478 - val_loss: 0.2330 - val_acc: 0.7813\n",
      "Epoch 3/30\n",
      "54546/54546 [==============================] - 14s 259us/step - loss: 0.2234 - acc: 0.7875 - val_loss: 0.2019 - val_acc: 0.8260\n",
      "Epoch 4/30\n",
      "54546/54546 [==============================] - 14s 260us/step - loss: 0.2022 - acc: 0.8150 - val_loss: 0.1889 - val_acc: 0.8341\n",
      "Epoch 5/30\n",
      "54546/54546 [==============================] - 14s 261us/step - loss: 0.1909 - acc: 0.8281 - val_loss: 0.1754 - val_acc: 0.8531\n",
      "Epoch 6/30\n",
      "54546/54546 [==============================] - 14s 260us/step - loss: 0.1837 - acc: 0.8336 - val_loss: 0.1739 - val_acc: 0.8612\n",
      "Epoch 7/30\n",
      "54546/54546 [==============================] - 14s 261us/step - loss: 0.1753 - acc: 0.8441 - val_loss: 0.1610 - val_acc: 0.8605\n",
      "Epoch 8/30\n",
      "54546/54546 [==============================] - 15s 269us/step - loss: 0.1714 - acc: 0.8473 - val_loss: 0.1611 - val_acc: 0.8607\n",
      "Epoch 9/30\n",
      "54546/54546 [==============================] - 15s 266us/step - loss: 0.1665 - acc: 0.8520 - val_loss: 0.1571 - val_acc: 0.8682\n",
      "Epoch 10/30\n",
      "54546/54546 [==============================] - 14s 264us/step - loss: 0.1633 - acc: 0.8563 - val_loss: 0.1557 - val_acc: 0.8702\n",
      "Epoch 11/30\n",
      "54546/54546 [==============================] - 15s 266us/step - loss: 0.1602 - acc: 0.8617 - val_loss: 0.1543 - val_acc: 0.8671\n",
      "Epoch 12/30\n",
      "54546/54546 [==============================] - 14s 263us/step - loss: 0.1569 - acc: 0.8648 - val_loss: 0.1459 - val_acc: 0.8841\n",
      "Epoch 13/30\n",
      "54546/54546 [==============================] - 14s 263us/step - loss: 0.1551 - acc: 0.8665 - val_loss: 0.1522 - val_acc: 0.8794\n",
      "Epoch 14/30\n",
      "54546/54546 [==============================] - 14s 263us/step - loss: 0.1532 - acc: 0.8687 - val_loss: 0.1423 - val_acc: 0.8867\n",
      "Epoch 15/30\n",
      "54546/54546 [==============================] - 14s 264us/step - loss: 0.1498 - acc: 0.8738 - val_loss: 0.1440 - val_acc: 0.8871\n",
      "Epoch 16/30\n",
      "54546/54546 [==============================] - 14s 265us/step - loss: 0.1489 - acc: 0.8746 - val_loss: 0.1405 - val_acc: 0.8891\n",
      "Epoch 17/30\n",
      "54546/54546 [==============================] - 14s 265us/step - loss: 0.1467 - acc: 0.8778 - val_loss: 0.1344 - val_acc: 0.8902\n",
      "Epoch 18/30\n",
      "54546/54546 [==============================] - 14s 266us/step - loss: 0.1441 - acc: 0.8801 - val_loss: 0.1349 - val_acc: 0.8871\n",
      "Epoch 19/30\n",
      "54546/54546 [==============================] - 14s 265us/step - loss: 0.1437 - acc: 0.8810 - val_loss: 0.1337 - val_acc: 0.8880\n",
      "Epoch 20/30\n",
      "54546/54546 [==============================] - 14s 265us/step - loss: 0.1417 - acc: 0.8819 - val_loss: 0.1384 - val_acc: 0.8911\n",
      "Epoch 21/30\n",
      "54546/54546 [==============================] - 14s 264us/step - loss: 0.1396 - acc: 0.8855 - val_loss: 0.1271 - val_acc: 0.9010\n",
      "Epoch 22/30\n",
      "54546/54546 [==============================] - 14s 264us/step - loss: 0.1396 - acc: 0.8865 - val_loss: 0.1357 - val_acc: 0.8916\n",
      "Epoch 23/30\n",
      "54546/54546 [==============================] - 14s 266us/step - loss: 0.1385 - acc: 0.8865 - val_loss: 0.1288 - val_acc: 0.8999\n",
      "Epoch 24/30\n",
      "54546/54546 [==============================] - 14s 265us/step - loss: 0.1370 - acc: 0.8883 - val_loss: 0.1267 - val_acc: 0.8964\n",
      "Epoch 25/30\n",
      "54546/54546 [==============================] - 14s 263us/step - loss: 0.1349 - acc: 0.8899 - val_loss: 0.1288 - val_acc: 0.9001\n",
      "Epoch 26/30\n",
      "54546/54546 [==============================] - 14s 263us/step - loss: 0.1341 - acc: 0.8926 - val_loss: 0.1278 - val_acc: 0.9036\n",
      "Epoch 27/30\n",
      "54546/54546 [==============================] - 15s 268us/step - loss: 0.1330 - acc: 0.8927 - val_loss: 0.1309 - val_acc: 0.8959\n",
      "Epoch 28/30\n",
      "54546/54546 [==============================] - 15s 271us/step - loss: 0.1334 - acc: 0.8928 - val_loss: 0.1333 - val_acc: 0.9017\n",
      "Epoch 29/30\n",
      "54546/54546 [==============================] - 16s 286us/step - loss: 0.1325 - acc: 0.8935 - val_loss: 0.1233 - val_acc: 0.9028\n",
      "Epoch 30/30\n",
      "54546/54546 [==============================] - 15s 272us/step - loss: 0.1297 - acc: 0.8966 - val_loss: 0.1254 - val_acc: 0.8962\n"
     ]
    }
   ],
   "source": [
    "\"\"\"one-CONV-LAYERS-THICK\"\"\"\n",
    "if not data_augmentation:\n",
    "    print('Not using data augmentation.')\n",
    "    train_history_0= model_0.fit(\n",
    "        x_train,\n",
    "        y_train,\n",
    "        batch_size=batch_size,\n",
    "        epochs=epochs,\n",
    "        validation_split= Vld_Splt,\n",
    "        shuffle=True)\n",
    "else:\n",
    "    print('Using real-time data augmentation.')\n",
    "    # This will do preprocessing and realtime data augmentation:\n",
    "    datagen = ImageDataGenerator(\n",
    "        featurewise_center=False,  # set input mean to 0 over the dataset\n",
    "        samplewise_center=False,  # set each sample mean to 0\n",
    "        featurewise_std_normalization=False,  # divide inputs by dataset std\n",
    "        samplewise_std_normalization=False,  # divide each input by its std\n",
    "        zca_whitening=False,  # apply ZCA whitening\n",
    "        zca_epsilon=1e-06,  # epsilon for ZCA whitening\n",
    "        rotation_range=0,  # randomly rotate images in 0 to 180 degrees\n",
    "        width_shift_range=0.1,  # randomly shift images horizontally\n",
    "        height_shift_range=0.1,  # randomly shift images vertically\n",
    "        shear_range=0.,  # set range for random shear\n",
    "        zoom_range=0.,  # set range for random zoom\n",
    "        channel_shift_range=0.,  # set range for random channel shifts\n",
    "        # set mode for filling points outside the input boundaries\n",
    "        fill_mode='nearest',\n",
    "        cval=0.,  # value used for fill_mode = \"constant\"\n",
    "        horizontal_flip=True,  # randomly flip images\n",
    "        vertical_flip=False,  # randomly flip images\n",
    "        # set rescaling factor (applied before any other transformation)\n",
    "        rescale=None,\n",
    "        # set function that will be applied on each input\n",
    "        preprocessing_function=None,\n",
    "        # image data format, either \"channels_first\" or \"channels_last\"\n",
    "        data_format=None,\n",
    "        # fraction of images reserved for validation (strictly between 0 and 1)\n",
    "        validation_split=0.0)\n",
    "\n",
    "    # Compute quantities required for feature-wise normalization\n",
    "    # (std, mean, and principal components if ZCA whitening is applied).\n",
    "    datagen.fit(x_train)\n",
    "\n",
    "    # Fit the model on the batches generated by datagen.flow().\n",
    "    train_history_0= model_0.fit_generator(\n",
    "        datagen.flow(x_train, y_train, batch_size=batch_size),\n",
    "        epochs= epochs,\n",
    "        validation_split= Vld_Splt,\n",
    "        steps_per_epoch= int(x_train.shape[0]/ batch_size),\n",
    "        workers=4)"
   ]
  },
  {
   "cell_type": "code",
   "execution_count": 14,
   "metadata": {},
   "outputs": [
    {
     "name": "stdout",
     "output_type": "stream",
     "text": [
      "Not using data augmentation.\n",
      "Train on 54546 samples, validate on 5454 samples\n",
      "Epoch 1/30\n",
      "54546/54546 [==============================] - 7s 130us/step - loss: 0.3971 - acc: 0.5094 - val_loss: 0.2716 - val_acc: 0.6901\n",
      "Epoch 2/30\n",
      "54546/54546 [==============================] - 6s 117us/step - loss: 0.2404 - acc: 0.7412 - val_loss: 0.1964 - val_acc: 0.8040\n",
      "Epoch 3/30\n",
      "54546/54546 [==============================] - 7s 126us/step - loss: 0.1883 - acc: 0.8113 - val_loss: 0.1641 - val_acc: 0.8480\n",
      "Epoch 4/30\n",
      "54546/54546 [==============================] - 6s 119us/step - loss: 0.1638 - acc: 0.8360 - val_loss: 0.1431 - val_acc: 0.8627\n",
      "Epoch 5/30\n",
      "54546/54546 [==============================] - 6s 117us/step - loss: 0.1489 - acc: 0.8499 - val_loss: 0.1309 - val_acc: 0.8746\n",
      "Epoch 6/30\n",
      "54546/54546 [==============================] - 6s 116us/step - loss: 0.1390 - acc: 0.8604 - val_loss: 0.1246 - val_acc: 0.8794\n",
      "Epoch 7/30\n",
      "54546/54546 [==============================] - 6s 116us/step - loss: 0.1310 - acc: 0.8685 - val_loss: 0.1174 - val_acc: 0.8907\n",
      "Epoch 8/30\n",
      "54546/54546 [==============================] - 6s 115us/step - loss: 0.1259 - acc: 0.8728 - val_loss: 0.1137 - val_acc: 0.8938\n",
      "Epoch 9/30\n",
      "54546/54546 [==============================] - 6s 117us/step - loss: 0.1202 - acc: 0.8819 - val_loss: 0.1121 - val_acc: 0.8904\n",
      "Epoch 10/30\n",
      "54546/54546 [==============================] - 6s 115us/step - loss: 0.1163 - acc: 0.8849 - val_loss: 0.1081 - val_acc: 0.8964\n",
      "Epoch 11/30\n",
      "54546/54546 [==============================] - 6s 116us/step - loss: 0.1124 - acc: 0.8891 - val_loss: 0.1009 - val_acc: 0.9039\n",
      "Epoch 12/30\n",
      "54546/54546 [==============================] - 6s 116us/step - loss: 0.1087 - acc: 0.8935 - val_loss: 0.1017 - val_acc: 0.9012\n",
      "Epoch 13/30\n",
      "54546/54546 [==============================] - 6s 119us/step - loss: 0.1052 - acc: 0.8977 - val_loss: 0.0961 - val_acc: 0.9085\n",
      "Epoch 14/30\n",
      "54546/54546 [==============================] - 6s 115us/step - loss: 0.1027 - acc: 0.8999 - val_loss: 0.0930 - val_acc: 0.9094\n",
      "Epoch 15/30\n",
      "54546/54546 [==============================] - 6s 119us/step - loss: 0.0998 - acc: 0.9028 - val_loss: 0.0926 - val_acc: 0.9113\n",
      "Epoch 16/30\n",
      "54546/54546 [==============================] - 7s 121us/step - loss: 0.0977 - acc: 0.9049 - val_loss: 0.0882 - val_acc: 0.9164\n",
      "Epoch 17/30\n",
      "54546/54546 [==============================] - 7s 124us/step - loss: 0.0945 - acc: 0.9101 - val_loss: 0.0870 - val_acc: 0.9169\n",
      "Epoch 18/30\n",
      "54546/54546 [==============================] - 7s 123us/step - loss: 0.0925 - acc: 0.9100 - val_loss: 0.0838 - val_acc: 0.9224\n",
      "Epoch 19/30\n",
      "54546/54546 [==============================] - 7s 122us/step - loss: 0.0909 - acc: 0.9129 - val_loss: 0.0828 - val_acc: 0.9212\n",
      "Epoch 20/30\n",
      "54546/54546 [==============================] - 7s 124us/step - loss: 0.0883 - acc: 0.9164 - val_loss: 0.0848 - val_acc: 0.9213\n",
      "Epoch 21/30\n",
      "54546/54546 [==============================] - 7s 121us/step - loss: 0.0872 - acc: 0.9179 - val_loss: 0.0822 - val_acc: 0.9217\n",
      "Epoch 22/30\n",
      "54546/54546 [==============================] - 7s 120us/step - loss: 0.0850 - acc: 0.9203 - val_loss: 0.0808 - val_acc: 0.9274\n",
      "Epoch 23/30\n",
      "54546/54546 [==============================] - 7s 121us/step - loss: 0.0835 - acc: 0.9208 - val_loss: 0.0800 - val_acc: 0.9221\n",
      "Epoch 24/30\n",
      "54546/54546 [==============================] - 6s 119us/step - loss: 0.0821 - acc: 0.9233 - val_loss: 0.0769 - val_acc: 0.9279\n",
      "Epoch 25/30\n",
      "54546/54546 [==============================] - 7s 125us/step - loss: 0.0806 - acc: 0.9258 - val_loss: 0.0782 - val_acc: 0.9285\n",
      "Epoch 26/30\n",
      "54546/54546 [==============================] - 7s 129us/step - loss: 0.0793 - acc: 0.9255 - val_loss: 0.0748 - val_acc: 0.9311\n",
      "Epoch 27/30\n",
      "54546/54546 [==============================] - 7s 131us/step - loss: 0.0776 - acc: 0.9290 - val_loss: 0.0767 - val_acc: 0.9300\n",
      "Epoch 28/30\n",
      "54546/54546 [==============================] - 6s 119us/step - loss: 0.0767 - acc: 0.9299 - val_loss: 0.0740 - val_acc: 0.9268\n",
      "Epoch 29/30\n",
      "54546/54546 [==============================] - 6s 118us/step - loss: 0.0746 - acc: 0.9322 - val_loss: 0.0742 - val_acc: 0.9298\n",
      "Epoch 30/30\n",
      "54546/54546 [==============================] - 6s 118us/step - loss: 0.0744 - acc: 0.9321 - val_loss: 0.0714 - val_acc: 0.9353\n"
     ]
    }
   ],
   "source": [
    "\"\"\"two-CONV-LAYERS-THICK\"\"\"\n",
    "if not data_augmentation:\n",
    "    print('Not using data augmentation.')\n",
    "    train_history_1= model_1.fit(\n",
    "        x_train,\n",
    "        y_train,\n",
    "        batch_size=batch_size,\n",
    "        epochs=epochs,\n",
    "        validation_split= Vld_Splt,\n",
    "        shuffle=True)\n",
    "else:\n",
    "    print('Using real-time data augmentation.')\n",
    "    # This will do preprocessing and realtime data augmentation:\n",
    "    datagen = ImageDataGenerator(\n",
    "        featurewise_center=False,  # set input mean to 0 over the dataset\n",
    "        samplewise_center=False,  # set each sample mean to 0\n",
    "        featurewise_std_normalization=False,  # divide inputs by dataset std\n",
    "        samplewise_std_normalization=False,  # divide each input by its std\n",
    "        zca_whitening=False,  # apply ZCA whitening\n",
    "        zca_epsilon=1e-06,  # epsilon for ZCA whitening\n",
    "        rotation_range=0,  # randomly rotate images in 0 to 180 degrees\n",
    "        width_shift_range=0.1,  # randomly shift images horizontally\n",
    "        height_shift_range=0.1,  # randomly shift images vertically\n",
    "        shear_range=0.,  # set range for random shear\n",
    "        zoom_range=0.,  # set range for random zoom\n",
    "        channel_shift_range=0.,  # set range for random channel shifts\n",
    "        # set mode for filling points outside the input boundaries\n",
    "        fill_mode='nearest',\n",
    "        cval=0.,  # value used for fill_mode = \"constant\"\n",
    "        horizontal_flip=True,  # randomly flip images\n",
    "        vertical_flip=False,  # randomly flip images\n",
    "        # set rescaling factor (applied before any other transformation)\n",
    "        rescale=None,\n",
    "        # set function that will be applied on each input\n",
    "        preprocessing_function=None,\n",
    "        # image data format, either \"channels_first\" or \"channels_last\"\n",
    "        data_format=None,\n",
    "        # fraction of images reserved for validation (strictly between 0 and 1)\n",
    "        validation_split=0.0)\n",
    "\n",
    "    # Compute quantities required for feature-wise normalization\n",
    "    # (std, mean, and principal components if ZCA whitening is applied).\n",
    "    datagen.fit(x_train)\n",
    "\n",
    "    # Fit the model on the batches generated by datagen.flow().\n",
    "    train_history_1= model_1.fit_generator(\n",
    "        datagen.flow(x_train, y_train, batch_size=batch_size),\n",
    "        epochs= epochs,\n",
    "        validation_split= Vld_Splt,\n",
    "        steps_per_epoch= int(x_train.shape[0]/ batch_size),\n",
    "        workers=4)"
   ]
  },
  {
   "cell_type": "code",
   "execution_count": 15,
   "metadata": {},
   "outputs": [
    {
     "name": "stdout",
     "output_type": "stream",
     "text": [
      "Not using data augmentation.\n",
      "Train on 54546 samples, validate on 5454 samples\n",
      "Epoch 1/30\n",
      "54546/54546 [==============================] - 5s 96us/step - loss: 0.3600 - acc: 0.5354 - val_loss: 0.2137 - val_acc: 0.7824\n",
      "Epoch 2/30\n",
      "54546/54546 [==============================] - 5s 83us/step - loss: 0.1788 - acc: 0.7991 - val_loss: 0.1338 - val_acc: 0.8546\n",
      "Epoch 3/30\n",
      "54546/54546 [==============================] - 5s 89us/step - loss: 0.1277 - acc: 0.8607 - val_loss: 0.0987 - val_acc: 0.8891\n",
      "Epoch 4/30\n",
      "54546/54546 [==============================] - 5s 85us/step - loss: 0.1026 - acc: 0.8886 - val_loss: 0.0860 - val_acc: 0.9098\n",
      "Epoch 5/30\n",
      "54546/54546 [==============================] - 5s 88us/step - loss: 0.0899 - acc: 0.9037 - val_loss: 0.0748 - val_acc: 0.9190\n",
      "Epoch 6/30\n",
      "54546/54546 [==============================] - 5s 92us/step - loss: 0.0806 - acc: 0.9138 - val_loss: 0.0710 - val_acc: 0.9239\n",
      "Epoch 7/30\n",
      "54546/54546 [==============================] - 5s 90us/step - loss: 0.0733 - acc: 0.9220 - val_loss: 0.0648 - val_acc: 0.9314\n",
      "Epoch 8/30\n",
      "54546/54546 [==============================] - 5s 93us/step - loss: 0.0686 - acc: 0.9283 - val_loss: 0.0624 - val_acc: 0.9377\n",
      "Epoch 9/30\n",
      "54546/54546 [==============================] - 5s 97us/step - loss: 0.0650 - acc: 0.9321 - val_loss: 0.0619 - val_acc: 0.9327\n",
      "Epoch 10/30\n",
      "54546/54546 [==============================] - 6s 101us/step - loss: 0.0615 - acc: 0.9362 - val_loss: 0.0590 - val_acc: 0.9364\n",
      "Epoch 11/30\n",
      "54546/54546 [==============================] - 6s 104us/step - loss: 0.0587 - acc: 0.9389 - val_loss: 0.0561 - val_acc: 0.9395\n",
      "Epoch 12/30\n",
      "54546/54546 [==============================] - 5s 100us/step - loss: 0.0561 - acc: 0.9420 - val_loss: 0.0537 - val_acc: 0.9430\n",
      "Epoch 13/30\n",
      "54546/54546 [==============================] - 5s 98us/step - loss: 0.0546 - acc: 0.9440 - val_loss: 0.0502 - val_acc: 0.9463\n",
      "Epoch 14/30\n",
      "54546/54546 [==============================] - 5s 90us/step - loss: 0.0529 - acc: 0.9454 - val_loss: 0.0502 - val_acc: 0.9516\n",
      "Epoch 15/30\n",
      "54546/54546 [==============================] - 5s 100us/step - loss: 0.0506 - acc: 0.9492 - val_loss: 0.0496 - val_acc: 0.9452\n",
      "Epoch 16/30\n",
      "54546/54546 [==============================] - 5s 92us/step - loss: 0.0498 - acc: 0.9491 - val_loss: 0.0482 - val_acc: 0.9479\n",
      "Epoch 17/30\n",
      "54546/54546 [==============================] - 5s 87us/step - loss: 0.0482 - acc: 0.9517 - val_loss: 0.0462 - val_acc: 0.9507\n",
      "Epoch 18/30\n",
      "54546/54546 [==============================] - 5s 95us/step - loss: 0.0481 - acc: 0.9519 - val_loss: 0.0469 - val_acc: 0.9534\n",
      "Epoch 19/30\n",
      "54546/54546 [==============================] - 5s 85us/step - loss: 0.0463 - acc: 0.9555 - val_loss: 0.0484 - val_acc: 0.9490\n",
      "Epoch 20/30\n",
      "54546/54546 [==============================] - 5s 94us/step - loss: 0.0455 - acc: 0.9555 - val_loss: 0.0485 - val_acc: 0.9488\n",
      "Epoch 21/30\n",
      "54546/54546 [==============================] - 5s 85us/step - loss: 0.0439 - acc: 0.9577 - val_loss: 0.0441 - val_acc: 0.9525\n",
      "Epoch 22/30\n",
      "54546/54546 [==============================] - 4s 82us/step - loss: 0.0439 - acc: 0.9572 - val_loss: 0.0441 - val_acc: 0.9542\n",
      "Epoch 23/30\n",
      "54546/54546 [==============================] - 5s 83us/step - loss: 0.0432 - acc: 0.9586 - val_loss: 0.0447 - val_acc: 0.9547\n",
      "Epoch 24/30\n",
      "54546/54546 [==============================] - 4s 81us/step - loss: 0.0423 - acc: 0.9601 - val_loss: 0.0447 - val_acc: 0.9521\n",
      "Epoch 25/30\n",
      "54546/54546 [==============================] - 5s 83us/step - loss: 0.0413 - acc: 0.9611 - val_loss: 0.0430 - val_acc: 0.9549\n",
      "Epoch 26/30\n",
      "54546/54546 [==============================] - 5s 83us/step - loss: 0.0404 - acc: 0.9620 - val_loss: 0.0442 - val_acc: 0.9540\n",
      "Epoch 27/30\n",
      "54546/54546 [==============================] - 5s 84us/step - loss: 0.0396 - acc: 0.9627 - val_loss: 0.0442 - val_acc: 0.9551\n",
      "Epoch 28/30\n",
      "54546/54546 [==============================] - 5s 95us/step - loss: 0.0389 - acc: 0.9635 - val_loss: 0.0436 - val_acc: 0.9538\n",
      "Epoch 29/30\n",
      "54546/54546 [==============================] - 5s 93us/step - loss: 0.0389 - acc: 0.9637 - val_loss: 0.0445 - val_acc: 0.9527\n",
      "Epoch 30/30\n",
      "54546/54546 [==============================] - 5s 97us/step - loss: 0.0387 - acc: 0.9641 - val_loss: 0.0434 - val_acc: 0.9567\n"
     ]
    }
   ],
   "source": [
    "\"\"\"three-CONV-LAYERS-THICK\"\"\"\n",
    "if not data_augmentation:\n",
    "    print('Not using data augmentation.')\n",
    "    train_history_2= model_2.fit(\n",
    "        x_train,\n",
    "        y_train,\n",
    "        batch_size=batch_size,\n",
    "        epochs=epochs,\n",
    "        validation_split= Vld_Splt,\n",
    "        shuffle=True)\n",
    "else:\n",
    "    print('Using real-time data augmentation.')\n",
    "    # This will do preprocessing and realtime data augmentation:\n",
    "    datagen = ImageDataGenerator(\n",
    "        featurewise_center=False,  # set input mean to 0 over the dataset\n",
    "        samplewise_center=False,  # set each sample mean to 0\n",
    "        featurewise_std_normalization=False,  # divide inputs by dataset std\n",
    "        samplewise_std_normalization=False,  # divide each input by its std\n",
    "        zca_whitening=False,  # apply ZCA whitening\n",
    "        zca_epsilon=1e-06,  # epsilon for ZCA whitening\n",
    "        rotation_range=0,  # randomly rotate images in 0 to 180 degrees\n",
    "        width_shift_range=0.1,  # randomly shift images horizontally\n",
    "        height_shift_range=0.1,  # randomly shift images vertically\n",
    "        shear_range=0.,  # set range for random shear\n",
    "        zoom_range=0.,  # set range for random zoom\n",
    "        channel_shift_range=0.,  # set range for random channel shifts\n",
    "        # set mode for filling points outside the input boundaries\n",
    "        fill_mode='nearest',\n",
    "        cval=0.,  # value used for fill_mode = \"constant\"\n",
    "        horizontal_flip=True,  # randomly flip images\n",
    "        vertical_flip=False,  # randomly flip images\n",
    "        # set rescaling factor (applied before any other transformation)\n",
    "        rescale=None,\n",
    "        # set function that will be applied on each input\n",
    "        preprocessing_function=None,\n",
    "        # image data format, either \"channels_first\" or \"channels_last\"\n",
    "        data_format=None,\n",
    "        # fraction of images reserved for validation (strictly between 0 and 1)\n",
    "        validation_split=0.0)\n",
    "\n",
    "    # Compute quantities required for feature-wise normalization\n",
    "    # (std, mean, and principal components if ZCA whitening is applied).\n",
    "    datagen.fit(x_train)\n",
    "\n",
    "    # Fit the model on the batches generated by datagen.flow().\n",
    "    train_history_2= model_2.fit_generator(\n",
    "        datagen.flow(x_train, y_train, batch_size=batch_size),\n",
    "        epochs= epochs,\n",
    "        validation_split= Vld_Splt,\n",
    "        steps_per_epoch= int(x_train.shape[0]/ batch_size),\n",
    "        workers=4)"
   ]
  },
  {
   "cell_type": "code",
   "execution_count": 16,
   "metadata": {},
   "outputs": [
    {
     "name": "stdout",
     "output_type": "stream",
     "text": [
      "Not using data augmentation.\n",
      "Train on 54546 samples, validate on 5454 samples\n",
      "Epoch 1/30\n",
      "54546/54546 [==============================] - 6s 103us/step - loss: 0.3347 - acc: 0.5379 - val_loss: 0.1748 - val_acc: 0.7945\n",
      "Epoch 2/30\n",
      "54546/54546 [==============================] - 4s 80us/step - loss: 0.1555 - acc: 0.8076 - val_loss: 0.1162 - val_acc: 0.8537\n",
      "Epoch 3/30\n",
      "54546/54546 [==============================] - 5s 95us/step - loss: 0.1130 - acc: 0.8589 - val_loss: 0.0931 - val_acc: 0.8806- loss: 0.1144 - acc: 0.857 - ETA: 0s - loss: 0.1143 - acc:\n",
      "Epoch 4/30\n",
      "54546/54546 [==============================] - 5s 88us/step - loss: 0.0923 - acc: 0.8862 - val_loss: 0.0754 - val_acc: 0.9043\n",
      "Epoch 5/30\n",
      "54546/54546 [==============================] - 4s 82us/step - loss: 0.0812 - acc: 0.8993 - val_loss: 0.0664 - val_acc: 0.9138\n",
      "Epoch 6/30\n",
      "54546/54546 [==============================] - 4s 80us/step - loss: 0.0739 - acc: 0.9088 - val_loss: 0.0590 - val_acc: 0.9246\n",
      "Epoch 7/30\n",
      "54546/54546 [==============================] - 4s 70us/step - loss: 0.0675 - acc: 0.9170 - val_loss: 0.0613 - val_acc: 0.9226\n",
      "Epoch 8/30\n",
      "54546/54546 [==============================] - 4s 70us/step - loss: 0.0621 - acc: 0.9247 - val_loss: 0.0517 - val_acc: 0.9373\n",
      "Epoch 9/30\n",
      "54546/54546 [==============================] - 4s 66us/step - loss: 0.0597 - acc: 0.9266 - val_loss: 0.0569 - val_acc: 0.9274\n",
      "Epoch 10/30\n",
      "54546/54546 [==============================] - 4s 78us/step - loss: 0.0576 - acc: 0.9287 - val_loss: 0.0554 - val_acc: 0.9314\n",
      "Epoch 11/30\n",
      "54546/54546 [==============================] - 4s 71us/step - loss: 0.0552 - acc: 0.9318 - val_loss: 0.0537 - val_acc: 0.9316\n",
      "Epoch 12/30\n",
      "54546/54546 [==============================] - 4s 68us/step - loss: 0.0528 - acc: 0.9346 - val_loss: 0.0506 - val_acc: 0.9360\n",
      "Epoch 13/30\n",
      "54546/54546 [==============================] - 4s 73us/step - loss: 0.0504 - acc: 0.9376 - val_loss: 0.0473 - val_acc: 0.9417\n",
      "Epoch 14/30\n",
      "54546/54546 [==============================] - 4s 72us/step - loss: 0.0478 - acc: 0.9397 - val_loss: 0.0475 - val_acc: 0.9408\n",
      "Epoch 15/30\n",
      "54546/54546 [==============================] - 5s 83us/step - loss: 0.0464 - acc: 0.9431 - val_loss: 0.0442 - val_acc: 0.9444\n",
      "Epoch 16/30\n",
      "54546/54546 [==============================] - 5s 84us/step - loss: 0.0451 - acc: 0.9447 - val_loss: 0.0437 - val_acc: 0.9439\n",
      "Epoch 17/30\n",
      "54546/54546 [==============================] - 4s 79us/step - loss: 0.0439 - acc: 0.9466 - val_loss: 0.0499 - val_acc: 0.9345\n",
      "Epoch 18/30\n",
      "54546/54546 [==============================] - 5s 96us/step - loss: 0.0434 - acc: 0.9467 - val_loss: 0.0433 - val_acc: 0.9468\n",
      "Epoch 19/30\n",
      "54546/54546 [==============================] - 4s 69us/step - loss: 0.0410 - acc: 0.9510 - val_loss: 0.0410 - val_acc: 0.9479\n",
      "Epoch 20/30\n",
      "54546/54546 [==============================] - 4s 69us/step - loss: 0.0408 - acc: 0.9505 - val_loss: 0.0413 - val_acc: 0.9485\n",
      "Epoch 21/30\n",
      "54546/54546 [==============================] - 4s 70us/step - loss: 0.0394 - acc: 0.9514 - val_loss: 0.0435 - val_acc: 0.9454\n",
      "Epoch 22/30\n",
      "54546/54546 [==============================] - 4s 69us/step - loss: 0.0393 - acc: 0.9520 - val_loss: 0.0417 - val_acc: 0.9501\n",
      "Epoch 23/30\n",
      "54546/54546 [==============================] - 4s 69us/step - loss: 0.0386 - acc: 0.9538 - val_loss: 0.0404 - val_acc: 0.9498\n",
      "Epoch 24/30\n",
      "54546/54546 [==============================] - 4s 82us/step - loss: 0.0372 - acc: 0.9545 - val_loss: 0.0416 - val_acc: 0.9487\n",
      "Epoch 25/30\n",
      "54546/54546 [==============================] - 4s 75us/step - loss: 0.0369 - acc: 0.9560 - val_loss: 0.0434 - val_acc: 0.9448\n",
      "Epoch 26/30\n",
      "54546/54546 [==============================] - 4s 82us/step - loss: 0.0360 - acc: 0.9571 - val_loss: 0.0394 - val_acc: 0.9516\n",
      "Epoch 27/30\n",
      "54546/54546 [==============================] - 4s 72us/step - loss: 0.0360 - acc: 0.9568 - val_loss: 0.0396 - val_acc: 0.9518\n",
      "Epoch 28/30\n",
      "54546/54546 [==============================] - 4s 73us/step - loss: 0.0350 - acc: 0.9581 - val_loss: 0.0427 - val_acc: 0.9457\n",
      "Epoch 29/30\n",
      "54546/54546 [==============================] - 4s 77us/step - loss: 0.0341 - acc: 0.9586 - val_loss: 0.0410 - val_acc: 0.9487\n",
      "Epoch 30/30\n",
      "54546/54546 [==============================] - 4s 68us/step - loss: 0.0344 - acc: 0.9592 - val_loss: 0.0426 - val_acc: 0.9468\n"
     ]
    }
   ],
   "source": [
    "\"\"\"four-CONV-LAYERS-THICK\"\"\"\n",
    "if not data_augmentation:\n",
    "    print('Not using data augmentation.')\n",
    "    train_history_3= model_3.fit(\n",
    "        x_train,\n",
    "        y_train,\n",
    "        batch_size=batch_size,\n",
    "        epochs=epochs,\n",
    "        validation_split= Vld_Splt,\n",
    "        shuffle=True)\n",
    "else:\n",
    "    print('Using real-time data augmentation.')\n",
    "    # This will do preprocessing and realtime data augmentation:\n",
    "    datagen = ImageDataGenerator(\n",
    "        featurewise_center=False,  # set input mean to 0 over the dataset\n",
    "        samplewise_center=False,  # set each sample mean to 0\n",
    "        featurewise_std_normalization=False,  # divide inputs by dataset std\n",
    "        samplewise_std_normalization=False,  # divide each input by its std\n",
    "        zca_whitening=False,  # apply ZCA whitening\n",
    "        zca_epsilon=1e-06,  # epsilon for ZCA whitening\n",
    "        rotation_range=0,  # randomly rotate images in 0 to 180 degrees\n",
    "        width_shift_range=0.1,  # randomly shift images horizontally\n",
    "        height_shift_range=0.1,  # randomly shift images vertically\n",
    "        shear_range=0.,  # set range for random shear\n",
    "        zoom_range=0.,  # set range for random zoom\n",
    "        channel_shift_range=0.,  # set range for random channel shifts\n",
    "        # set mode for filling points outside the input boundaries\n",
    "        fill_mode='nearest',\n",
    "        cval=0.,  # value used for fill_mode = \"constant\"\n",
    "        horizontal_flip=True,  # randomly flip images\n",
    "        vertical_flip=False,  # randomly flip images\n",
    "        # set rescaling factor (applied before any other transformation)\n",
    "        rescale=None,\n",
    "        # set function that will be applied on each input\n",
    "        preprocessing_function=None,\n",
    "        # image data format, either \"channels_first\" or \"channels_last\"\n",
    "        data_format=None,\n",
    "        # fraction of images reserved for validation (strictly between 0 and 1)\n",
    "        validation_split=0.0)\n",
    "\n",
    "    # Compute quantities required for feature-wise normalization\n",
    "    # (std, mean, and principal components if ZCA whitening is applied).\n",
    "    datagen.fit(x_train)\n",
    "\n",
    "    # Fit the model on the batches generated by datagen.flow().\n",
    "    train_history_3= model_3.fit_generator(\n",
    "        datagen.flow(x_train, y_train, batch_size=batch_size),\n",
    "        epochs= epochs,\n",
    "        validation_split= Vld_Splt,\n",
    "        steps_per_epoch= int(x_train.shape[0]/ batch_size),\n",
    "        workers=4)"
   ]
  },
  {
   "cell_type": "code",
   "execution_count": 17,
   "metadata": {},
   "outputs": [
    {
     "name": "stdout",
     "output_type": "stream",
     "text": [
      "Train on 54546 samples, validate on 5454 samples\n",
      "Epoch 1/30\n",
      "54546/54546 [==============================] - 3s 48us/step - loss: 1.3374 - acc: 0.5347 - val_loss: 0.8125 - val_acc: 0.7657\n",
      "Epoch 2/30\n",
      "54546/54546 [==============================] - 2s 44us/step - loss: 0.7883 - acc: 0.7343 - val_loss: 0.5820 - val_acc: 0.8460\n",
      "Epoch 3/30\n",
      "54546/54546 [==============================] - 2s 37us/step - loss: 0.6279 - acc: 0.7894 - val_loss: 0.4869 - val_acc: 0.8722\n",
      "Epoch 4/30\n",
      "54546/54546 [==============================] - 2s 36us/step - loss: 0.5394 - acc: 0.8209 - val_loss: 0.4019 - val_acc: 0.8913\n",
      "Epoch 5/30\n",
      "54546/54546 [==============================] - 2s 36us/step - loss: 0.4834 - acc: 0.8391 - val_loss: 0.3688 - val_acc: 0.9003\n",
      "Epoch 6/30\n",
      "54546/54546 [==============================] - 2s 35us/step - loss: 0.4412 - acc: 0.8516 - val_loss: 0.3315 - val_acc: 0.9129\n",
      "Epoch 7/30\n",
      "54546/54546 [==============================] - 2s 36us/step - loss: 0.4125 - acc: 0.8611 - val_loss: 0.3172 - val_acc: 0.9180\n",
      "Epoch 8/30\n",
      "54546/54546 [==============================] - 2s 36us/step - loss: 0.3914 - acc: 0.8695 - val_loss: 0.2964 - val_acc: 0.9213\n",
      "Epoch 9/30\n",
      "54546/54546 [==============================] - 2s 35us/step - loss: 0.3680 - acc: 0.8771 - val_loss: 0.2888 - val_acc: 0.9245\n",
      "Epoch 10/30\n",
      "54546/54546 [==============================] - 2s 36us/step - loss: 0.3525 - acc: 0.8821 - val_loss: 0.2687 - val_acc: 0.9334\n",
      "Epoch 11/30\n",
      "54546/54546 [==============================] - 2s 35us/step - loss: 0.3394 - acc: 0.8852 - val_loss: 0.2553 - val_acc: 0.9334\n",
      "Epoch 12/30\n",
      "54546/54546 [==============================] - 2s 36us/step - loss: 0.3283 - acc: 0.8876 - val_loss: 0.2627 - val_acc: 0.9281\n",
      "Epoch 13/30\n",
      "54546/54546 [==============================] - 2s 36us/step - loss: 0.3177 - acc: 0.8918 - val_loss: 0.2442 - val_acc: 0.9334\n",
      "Epoch 14/30\n",
      "54546/54546 [==============================] - 2s 37us/step - loss: 0.3073 - acc: 0.8949 - val_loss: 0.2302 - val_acc: 0.9358\n",
      "Epoch 15/30\n",
      "54546/54546 [==============================] - 2s 41us/step - loss: 0.2977 - acc: 0.8973 - val_loss: 0.2220 - val_acc: 0.9380\n",
      "Epoch 16/30\n",
      "54546/54546 [==============================] - 2s 39us/step - loss: 0.2947 - acc: 0.8997 - val_loss: 0.2185 - val_acc: 0.9400\n",
      "Epoch 17/30\n",
      "54546/54546 [==============================] - 2s 45us/step - loss: 0.2898 - acc: 0.9018 - val_loss: 0.2245 - val_acc: 0.9373\n",
      "Epoch 18/30\n",
      "54546/54546 [==============================] - 3s 52us/step - loss: 0.2782 - acc: 0.9060 - val_loss: 0.2177 - val_acc: 0.9382\n",
      "Epoch 19/30\n",
      "54546/54546 [==============================] - 2s 42us/step - loss: 0.2768 - acc: 0.9057 - val_loss: 0.2135 - val_acc: 0.9411\n",
      "Epoch 20/30\n",
      "54546/54546 [==============================] - 3s 46us/step - loss: 0.2698 - acc: 0.9085 - val_loss: 0.2123 - val_acc: 0.9393\n",
      "Epoch 21/30\n",
      "54546/54546 [==============================] - 2s 45us/step - loss: 0.2677 - acc: 0.9077 - val_loss: 0.2143 - val_acc: 0.9380\n",
      "Epoch 22/30\n",
      "54546/54546 [==============================] - 2s 39us/step - loss: 0.2642 - acc: 0.9095 - val_loss: 0.2037 - val_acc: 0.9421\n",
      "Epoch 23/30\n",
      "54546/54546 [==============================] - 2s 42us/step - loss: 0.2546 - acc: 0.9133 - val_loss: 0.1939 - val_acc: 0.9435\n",
      "Epoch 24/30\n",
      "54546/54546 [==============================] - 2s 36us/step - loss: 0.2499 - acc: 0.9141 - val_loss: 0.1848 - val_acc: 0.9470\n",
      "Epoch 25/30\n",
      "54546/54546 [==============================] - 2s 42us/step - loss: 0.2525 - acc: 0.9133 - val_loss: 0.1929 - val_acc: 0.9455\n",
      "Epoch 26/30\n",
      "54546/54546 [==============================] - 2s 37us/step - loss: 0.2436 - acc: 0.9157 - val_loss: 0.1870 - val_acc: 0.9476\n",
      "Epoch 27/30\n",
      "54546/54546 [==============================] - 2s 36us/step - loss: 0.2415 - acc: 0.9170 - val_loss: 0.1910 - val_acc: 0.9452\n",
      "Epoch 28/30\n",
      "54546/54546 [==============================] - 2s 37us/step - loss: 0.2397 - acc: 0.9177 - val_loss: 0.1885 - val_acc: 0.9488\n",
      "Epoch 29/30\n",
      "54546/54546 [==============================] - 2s 45us/step - loss: 0.2346 - acc: 0.9191 - val_loss: 0.1804 - val_acc: 0.9483\n",
      "Epoch 30/30\n",
      "54546/54546 [==============================] - 2s 40us/step - loss: 0.2365 - acc: 0.9178 - val_loss: 0.1822 - val_acc: 0.9485\n"
     ]
    }
   ],
   "source": [
    "\"\"\"CNN-3-CONV-LAYERS\"\"\"\n",
    "model_4.compile(loss='categorical_crossentropy',\n",
    "              optimizer='adam', metrics=['accuracy'])\n",
    "train_history_4= model_4.fit(x= x_train, y= y_train, validation_split= Vld_Splt,\n",
    "                         epochs= epochs, batch_size= batch_size, verbose=1)"
   ]
  },
  {
   "cell_type": "code",
   "execution_count": 18,
   "metadata": {},
   "outputs": [
    {
     "name": "stdout",
     "output_type": "stream",
     "text": [
      "10000/10000 [==============================] - 1s 105us/step\n"
     ]
    },
    {
     "data": {
      "text/plain": [
       "0.8884"
      ]
     },
     "execution_count": 18,
     "metadata": {},
     "output_type": "execute_result"
    }
   ],
   "source": [
    "\"\"\"one-CONV-LAYERS-THICK\"\"\"\n",
    "scores_0= model_0.evaluate(x_test, y_test)\n",
    "scores_0[1]"
   ]
  },
  {
   "cell_type": "code",
   "execution_count": 19,
   "metadata": {},
   "outputs": [
    {
     "name": "stdout",
     "output_type": "stream",
     "text": [
      "10000/10000 [==============================] - 1s 96us/step\n"
     ]
    },
    {
     "data": {
      "text/plain": [
       "0.9261"
      ]
     },
     "execution_count": 19,
     "metadata": {},
     "output_type": "execute_result"
    }
   ],
   "source": [
    "\"\"\"two-CONV-LAYERS-THICK\"\"\"\n",
    "scores_1= model_1.evaluate(x_test, y_test)\n",
    "scores_1[1]"
   ]
  },
  {
   "cell_type": "code",
   "execution_count": 20,
   "metadata": {},
   "outputs": [
    {
     "name": "stdout",
     "output_type": "stream",
     "text": [
      "10000/10000 [==============================] - 1s 86us/step\n"
     ]
    },
    {
     "data": {
      "text/plain": [
       "0.952"
      ]
     },
     "execution_count": 20,
     "metadata": {},
     "output_type": "execute_result"
    }
   ],
   "source": [
    "\"\"\"three-CONV-LAYERS-THICK\"\"\"\n",
    "scores_2= model_2.evaluate(x_test, y_test)\n",
    "scores_2[1]"
   ]
  },
  {
   "cell_type": "code",
   "execution_count": 21,
   "metadata": {},
   "outputs": [
    {
     "name": "stdout",
     "output_type": "stream",
     "text": [
      "10000/10000 [==============================] - 1s 85us/step\n"
     ]
    },
    {
     "data": {
      "text/plain": [
       "0.9451"
      ]
     },
     "execution_count": 21,
     "metadata": {},
     "output_type": "execute_result"
    }
   ],
   "source": [
    "\"\"\"four-CONV-LAYERS-THICK\"\"\"\n",
    "scores_3= model_3.evaluate(x_test, y_test)\n",
    "scores_3[1]"
   ]
  },
  {
   "cell_type": "code",
   "execution_count": 22,
   "metadata": {},
   "outputs": [
    {
     "name": "stdout",
     "output_type": "stream",
     "text": [
      "10000/10000 [==============================] - 1s 74us/step\n"
     ]
    },
    {
     "data": {
      "text/plain": [
       "0.9427"
      ]
     },
     "execution_count": 22,
     "metadata": {},
     "output_type": "execute_result"
    }
   ],
   "source": [
    "\"\"\"CNN\"\"\"\n",
    "scores_4= model_4.evaluate(x_test, y_test)\n",
    "scores_4[1]"
   ]
  },
  {
   "cell_type": "code",
   "execution_count": 23,
   "metadata": {},
   "outputs": [],
   "source": [
    "import matplotlib.pyplot as plt\n",
    "def show_train_history(train_history, train, validation):\n",
    "    plt.plot(train_history.history[train])\n",
    "    plt.plot(train_history.history[validation])\n",
    "    plt.title('Train History')\n",
    "    plt.ylabel(train)\n",
    "    plt.xlabel('Epoch')\n",
    "    plt.legend(['train', 'validation'], loc='best')\n",
    "    plt.show()"
   ]
  },
  {
   "cell_type": "code",
   "execution_count": 24,
   "metadata": {},
   "outputs": [
    {
     "data": {
      "image/png": "[encoded data removed]",
      "text/plain": [
       "<Figure size 432x288 with 1 Axes>"
      ]
     },
     "metadata": {
      "needs_background": "light"
     },
     "output_type": "display_data"
    }
   ],
   "source": [
    "show_train_history(train_history_0, 'acc', 'val_acc')"
   ]
  },
  {
   "cell_type": "code",
   "execution_count": 25,
   "metadata": {},
   "outputs": [
    {
     "data": {
      "image/png": "[encoded data removed]",
      "text/plain": [
       "<Figure size 432x288 with 1 Axes>"
      ]
     },
     "metadata": {
      "needs_background": "light"
     },
     "output_type": "display_data"
    }
   ],
   "source": [
    "show_train_history(train_history_1, 'acc', 'val_acc')"
   ]
  },
  {
   "cell_type": "code",
   "execution_count": 26,
   "metadata": {},
   "outputs": [
    {
     "data": {
      "image/png": "[encoded data removed]",
      "text/plain": [
       "<Figure size 432x288 with 1 Axes>"
      ]
     },
     "metadata": {
      "needs_background": "light"
     },
     "output_type": "display_data"
    }
   ],
   "source": [
    "show_train_history(train_history_2, 'acc', 'val_acc')"
   ]
  },
  {
   "cell_type": "code",
   "execution_count": 27,
   "metadata": {},
   "outputs": [
    {
     "data": {
      "image/png": "[encoded data removed]",
      "text/plain": [
       "<Figure size 432x288 with 1 Axes>"
      ]
     },
     "metadata": {
      "needs_background": "light"
     },
     "output_type": "display_data"
    }
   ],
   "source": [
    "show_train_history(train_history_3, 'acc', 'val_acc')"
   ]
  },
  {
   "cell_type": "code",
   "execution_count": 28,
   "metadata": {},
   "outputs": [
    {
     "data": {
      "image/png": "[encoded data removed]",
      "text/plain": [
       "<Figure size 432x288 with 1 Axes>"
      ]
     },
     "metadata": {
      "needs_background": "light"
     },
     "output_type": "display_data"
    }
   ],
   "source": [
    "show_train_history(train_history_4, 'acc', 'val_acc')"
   ]
  },
  {
   "cell_type": "code",
   "execution_count": 29,
   "metadata": {},
   "outputs": [],
   "source": [
    "# show_train_history(train_history_5, 'acc', 'val_acc')"
   ]
  },
  {
   "cell_type": "code",
   "execution_count": 30,
   "metadata": {},
   "outputs": [],
   "source": [
    "# show_train_history(train_history_6, 'acc', 'val_acc')"
   ]
  },
  {
   "cell_type": "code",
   "execution_count": 31,
   "metadata": {},
   "outputs": [
    {
     "data": {
      "image/png": "[encoded data removed]",
      "text/plain": [
       "<Figure size 432x288 with 1 Axes>"
      ]
     },
     "metadata": {
      "needs_background": "light"
     },
     "output_type": "display_data"
    }
   ],
   "source": [
    "plt.plot(train_history_0.history['val_acc'], 'r-')\n",
    "plt.plot(train_history_1.history['val_acc'], 'b--')\n",
    "plt.plot(train_history_2.history['val_acc'], 'k.')\n",
    "plt.plot(train_history_3.history['val_acc'], 'b-')\n",
    "plt.plot(train_history_4.history['val_acc'], 'h-')\n",
    "# plt.plot(train_history_5.history['val_acc'], 'c-')\n",
    "# plt.plot(train_history_6.history['val_acc'], 'g*-')\n",
    "# plt.plot(train_history_7.history['val_acc'], 'k-.')\n",
    "plt.title('Training on fasion_MNIST')\n",
    "plt.ylabel('Validation Accuracy')\n",
    "plt.xlabel('Epoch')\n",
    "plt.legend(['CapsNet: 1-conv','CapsNet: 2-conv','CapsNet: 3-conv','CapsNet: 4-conv','CNN-2CONV'], loc='best')\n",
    "plt.show()"
   ]
  },
  {
   "cell_type": "code",
   "execution_count": null,
   "metadata": {},
   "outputs": [],
   "source": []
  }
 ],
 "metadata": {
  "kernelspec": {
   "display_name": "Python 3",
   "language": "python",
   "name": "python3"
  },
  "language_info": {
   "codemirror_mode": {
    "name": "ipython",
    "version": 3
   },
   "file_extension": ".py",
   "mimetype": "text/x-python",
   "name": "python",
   "nbconvert_exporter": "python",
   "pygments_lexer": "ipython3",
   "version": "3.6.10"
  }
 },
 "nbformat": 4,
 "nbformat_minor": 2
}
