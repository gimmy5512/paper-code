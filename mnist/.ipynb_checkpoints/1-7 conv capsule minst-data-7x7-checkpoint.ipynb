{
 "cells": [
  {
   "cell_type": "code",
   "execution_count": 1,
   "metadata": {},
   "outputs": [],
   "source": [
    "import os\n"
   ]
  },
  {
   "cell_type": "code",
   "execution_count": 2,
   "metadata": {},
   "outputs": [
    {
     "name": "stderr",
     "output_type": "stream",
     "text": [
      "Using TensorFlow backend.\n",
      "C:\\Users\\ASUS\\Anaconda3\\envs\\tensorflow-gpu\\lib\\site-packages\\tensorflow\\python\\framework\\dtypes.py:526: FutureWarning: Passing (type, 1) or '1type' as a synonym of type is deprecated; in a future version of numpy, it will be understood as (type, (1,)) / '(1,)type'.\n",
      "  _np_qint8 = np.dtype([(\"qint8\", np.int8, 1)])\n",
      "C:\\Users\\ASUS\\Anaconda3\\envs\\tensorflow-gpu\\lib\\site-packages\\tensorflow\\python\\framework\\dtypes.py:527: FutureWarning: Passing (type, 1) or '1type' as a synonym of type is deprecated; in a future version of numpy, it will be understood as (type, (1,)) / '(1,)type'.\n",
      "  _np_quint8 = np.dtype([(\"quint8\", np.uint8, 1)])\n",
      "C:\\Users\\ASUS\\Anaconda3\\envs\\tensorflow-gpu\\lib\\site-packages\\tensorflow\\python\\framework\\dtypes.py:528: FutureWarning: Passing (type, 1) or '1type' as a synonym of type is deprecated; in a future version of numpy, it will be understood as (type, (1,)) / '(1,)type'.\n",
      "  _np_qint16 = np.dtype([(\"qint16\", np.int16, 1)])\n",
      "C:\\Users\\ASUS\\Anaconda3\\envs\\tensorflow-gpu\\lib\\site-packages\\tensorflow\\python\\framework\\dtypes.py:529: FutureWarning: Passing (type, 1) or '1type' as a synonym of type is deprecated; in a future version of numpy, it will be understood as (type, (1,)) / '(1,)type'.\n",
      "  _np_quint16 = np.dtype([(\"quint16\", np.uint16, 1)])\n",
      "C:\\Users\\ASUS\\Anaconda3\\envs\\tensorflow-gpu\\lib\\site-packages\\tensorflow\\python\\framework\\dtypes.py:530: FutureWarning: Passing (type, 1) or '1type' as a synonym of type is deprecated; in a future version of numpy, it will be understood as (type, (1,)) / '(1,)type'.\n",
      "  _np_qint32 = np.dtype([(\"qint32\", np.int32, 1)])\n",
      "C:\\Users\\ASUS\\Anaconda3\\envs\\tensorflow-gpu\\lib\\site-packages\\tensorflow\\python\\framework\\dtypes.py:535: FutureWarning: Passing (type, 1) or '1type' as a synonym of type is deprecated; in a future version of numpy, it will be understood as (type, (1,)) / '(1,)type'.\n",
      "  np_resource = np.dtype([(\"resource\", np.ubyte, 1)])\n"
     ]
    }
   ],
   "source": [
    "from __future__ import print_function\n",
    "from keras import backend as K\n",
    "from keras.layers import Layer\n",
    "from keras import activations\n",
    "from keras import utils\n",
    "from keras.datasets import mnist\n",
    "from keras.models import Model\n",
    "from keras.layers import *\n",
    "from keras.preprocessing.image import ImageDataGenerator\n",
    "import cv2"
   ]
  },
  {
   "cell_type": "code",
   "execution_count": 3,
   "metadata": {},
   "outputs": [],
   "source": [
    "from tensorflow.compat.v1 import ConfigProto\n",
    "from tensorflow.compat.v1 import InteractiveSession\n",
    "\n",
    "config = ConfigProto()\n",
    "config.gpu_options.allow_growth = True\n",
    "session = InteractiveSession(config=config)"
   ]
  },
  {
   "cell_type": "code",
   "execution_count": 4,
   "metadata": {},
   "outputs": [],
   "source": [
    "Vld_Splt= 0.0909\n",
    "batch_size = 200\n",
    "num_classes = 10\n",
    "epochs = 30"
   ]
  },
  {
   "cell_type": "code",
   "execution_count": 5,
   "metadata": {},
   "outputs": [],
   "source": [
    "(x_train, y_train), (x_test, y_test) = mnist.load_data()\n",
    "\n",
    "x_train = x_train.reshape(x_train.shape[0], x_train.shape[1], x_train.shape[2], 1)\\\n",
    "         .astype('float32')\n",
    "x_test = x_test.reshape(x_test.shape[0], x_test.shape[1], x_test.shape[2], 1).\\\n",
    "         astype('float32')\n",
    "x_train /= 255\n",
    "x_test /= 255\n",
    "y_train = utils.to_categorical(y_train, num_classes)\n",
    "y_test = utils.to_categorical(y_test, num_classes)"
   ]
  },
  {
   "cell_type": "code",
   "execution_count": 6,
   "metadata": {},
   "outputs": [
    {
     "name": "stdout",
     "output_type": "stream",
     "text": [
      "(60000, 10) \n",
      " (10000, 10) \n",
      " (60000, 28, 28, 1) \n",
      " (10000, 28, 28, 1)\n"
     ]
    }
   ],
   "source": [
    "print(y_train.shape, '\\n',y_test.shape,'\\n',\n",
    "      x_train.shape,'\\n', x_test.shape)"
   ]
  },
  {
   "cell_type": "code",
   "execution_count": 7,
   "metadata": {},
   "outputs": [],
   "source": [
    "# the squashing function.\n",
    "# we use 0.5 in stead of 1 in hinton's paper.\n",
    "# if 1, the norm of vector will be zoomed out.\n",
    "# if 0.5, the norm will be zoomed in while original norm is less than 0.5\n",
    "# and be zoomed out while original norm is greater than 0.5.\n",
    "def squash(x, axis=-1):\n",
    "    s_squared_norm = K.sum(K.square(x), axis, keepdims=True) + K.epsilon()\n",
    "    scale = K.sqrt(s_squared_norm) / (0.5 + s_squared_norm)\n",
    "    return scale * x\n",
    "\n",
    "\n",
    "# define our own softmax function instead of K.softmax\n",
    "# because K.softmax can not specify axis.\n",
    "def softmax(x, axis=-1):\n",
    "    ex = K.exp(x - K.max(x, axis=axis, keepdims=True))\n",
    "    return ex / K.sum(ex, axis=axis, keepdims=True)\n",
    "\n",
    "\n",
    "# define the margin loss like hinge loss\n",
    "def margin_loss(y_true, y_pred):\n",
    "    lamb, margin = 0.5, 0.1\n",
    "    return K.sum(y_true * K.square(K.relu(1 - margin - y_pred)) + lamb * (\n",
    "        1 - y_true) * K.square(K.relu(y_pred - margin)), axis=-1)\n",
    "\n",
    "\n",
    "class Capsule(Layer):\n",
    "    \"\"\"A Capsule Implement with Pure Keras\n",
    "    There are two vesions of Capsule.\n",
    "    One is like dense layer (for the fixed-shape input),\n",
    "    and the other is like timedistributed dense (for various length input).\n",
    "\n",
    "    The input shape of Capsule must be (batch_size,\n",
    "                                        input_num_capsule,\n",
    "                                        input_dim_capsule\n",
    "                                       )\n",
    "    and the output shape is (batch_size,\n",
    "                             num_capsule,\n",
    "                             dim_capsule\n",
    "                            )\n",
    "\n",
    "    Capsule Implement is from https://github.com/bojone/Capsule/\n",
    "    Capsule Paper: https://arxiv.org/abs/1710.09829\n",
    "    \"\"\"\n",
    "\n",
    "    def __init__(self,\n",
    "                 num_capsule,\n",
    "                 dim_capsule,\n",
    "                 routings=3,\n",
    "                 share_weights=True,\n",
    "                 activation='squash',\n",
    "                 **kwargs):\n",
    "        super(Capsule, self).__init__(**kwargs)\n",
    "        self.num_capsule = num_capsule\n",
    "        self.dim_capsule = dim_capsule\n",
    "        self.routings = routings\n",
    "        self.share_weights = share_weights\n",
    "        if activation == 'squash':\n",
    "            self.activation = squash\n",
    "        else:\n",
    "            self.activation = activations.get(activation)\n",
    "\n",
    "    def build(self, input_shape):\n",
    "        input_dim_capsule = input_shape[-1]\n",
    "        if self.share_weights:\n",
    "            self.kernel = self.add_weight(\n",
    "                name='capsule_kernel',\n",
    "                shape=(1, input_dim_capsule,\n",
    "                       self.num_capsule * self.dim_capsule),\n",
    "                initializer='glorot_uniform',\n",
    "                trainable=True)\n",
    "        else:\n",
    "            input_num_capsule = input_shape[-2]\n",
    "            self.kernel = self.add_weight(\n",
    "                name='capsule_kernel',\n",
    "                shape=(input_num_capsule, input_dim_capsule,\n",
    "                       self.num_capsule * self.dim_capsule),\n",
    "                initializer='glorot_uniform',\n",
    "                trainable=True)\n",
    "\n",
    "    def call(self, inputs):\n",
    "        \"\"\"Following the routing algorithm from Hinton's paper,\n",
    "        but replace b = b + <u,v> with b = <u,v>.\n",
    "\n",
    "        This change can improve the feature representation of Capsule.\n",
    "\n",
    "        However, you can replace\n",
    "            b = K.batch_dot(outputs, hat_inputs, [2, 3])\n",
    "        with\n",
    "            b += K.batch_dot(outputs, hat_inputs, [2, 3])\n",
    "        to realize a standard routing.\n",
    "        \"\"\"\n",
    "\n",
    "        if self.share_weights:\n",
    "            hat_inputs = K.conv1d(inputs, self.kernel)\n",
    "        else:\n",
    "            hat_inputs = K.local_conv1d(inputs, self.kernel, [1], [1])\n",
    "\n",
    "        batch_size = K.shape(inputs)[0]\n",
    "        input_num_capsule = K.shape(inputs)[1]\n",
    "        hat_inputs = K.reshape(hat_inputs,\n",
    "                               (batch_size, input_num_capsule,\n",
    "                                self.num_capsule, self.dim_capsule))\n",
    "        hat_inputs = K.permute_dimensions(hat_inputs, (0, 2, 1, 3))\n",
    "\n",
    "        b = K.zeros_like(hat_inputs[:, :, :, 0])\n",
    "        for i in range(self.routings):\n",
    "            c = softmax(b, 1)\n",
    "            o = self.activation(K.batch_dot(c, hat_inputs, [2, 2]))\n",
    "            if i < self.routings - 1:\n",
    "                b = K.batch_dot(o, hat_inputs, [2, 3])\n",
    "                if K.backend() == 'theano':\n",
    "                    o = K.sum(o, axis=1)\n",
    "\n",
    "        return o\n",
    "\n",
    "    def compute_output_shape(self, input_shape):\n",
    "        return (None, self.num_capsule, self.dim_capsule)"
   ]
  },
  {
   "cell_type": "code",
   "execution_count": 8,
   "metadata": {},
   "outputs": [
    {
     "name": "stdout",
     "output_type": "stream",
     "text": [
      "WARNING:tensorflow:From C:\\Users\\ASUS\\Anaconda3\\envs\\tensorflow-gpu\\lib\\site-packages\\tensorflow\\python\\framework\\op_def_library.py:263: colocate_with (from tensorflow.python.framework.ops) is deprecated and will be removed in a future version.\n",
      "Instructions for updating:\n",
      "Colocations handled automatically by placer.\n",
      "WARNING:tensorflow:From C:\\Users\\ASUS\\Anaconda3\\envs\\tensorflow-gpu\\lib\\site-packages\\keras\\backend\\tensorflow_backend.py:3445: calling dropout (from tensorflow.python.ops.nn_ops) with keep_prob is deprecated and will be removed in a future version.\n",
      "Instructions for updating:\n",
      "Please use `rate` instead of `keep_prob`. Rate should be set to `rate = 1 - keep_prob`.\n",
      "_________________________________________________________________\n",
      "Layer (type)                 Output Shape              Param #   \n",
      "=================================================================\n",
      "input_1 (InputLayer)         (None, 28, 28, 1)         0         \n",
      "_________________________________________________________________\n",
      "conv2d_1 (Conv2D)            (None, 22, 22, 250)       12500     \n",
      "_________________________________________________________________\n",
      "dropout_1 (Dropout)          (None, 22, 22, 250)       0         \n",
      "_________________________________________________________________\n",
      "reshape_1 (Reshape)          (None, 484, 250)          0         \n",
      "_________________________________________________________________\n",
      "capsule_1 (Capsule)          (None, 10, 16)            40000     \n",
      "_________________________________________________________________\n",
      "lambda_1 (Lambda)            (None, 10)                0         \n",
      "=================================================================\n",
      "Total params: 52,500\n",
      "Trainable params: 52,500\n",
      "Non-trainable params: 0\n",
      "_________________________________________________________________\n"
     ]
    }
   ],
   "source": [
    "\"\"\"one-CONV-LAYERS-THICK\"\"\"\n",
    "input_image = Input(shape=(x_train.shape[1], x_train.shape[2], x_train.shape[3]))\n",
    "x_0 = Conv2D(filters= 250, kernel_size= 7, activation='relu', \n",
    "             padding= 'valid')(input_image)\n",
    "x_0= Dropout(0.1)(x_0)\n",
    "\n",
    "\n",
    "\"\"\"now we reshape it as (batch_size, input_num_capsule, input_dim_capsule)\n",
    "then connect a Capsule layer.\n",
    "\n",
    "the output of final model is the lengths of 10 Capsule, whose dim=16.\n",
    "\n",
    "the length of Capsule is the proba,\n",
    "so the problem becomes a 10 two-classification problem.\n",
    "\"\"\"\n",
    "\n",
    "x_0 = Reshape((-1, 250))(x_0)\n",
    "capsule_0 = Capsule(num_classes, 16, 3, True)(x_0)\n",
    "output_0 = Lambda(lambda z: K.sqrt(K.sum(K.square(z), 2)))(capsule_0)\n",
    "model_0 = Model(inputs= input_image, outputs= output_0)\n",
    "\n",
    "# we use a margin loss\n",
    "model_0.compile(loss =margin_loss, optimizer='adam', metrics=['accuracy'])\n",
    "model_0.summary()\n",
    "\n",
    "# we can compare the performance with or without data augmentation\n",
    "data_augmentation = False"
   ]
  },
  {
   "cell_type": "code",
   "execution_count": 9,
   "metadata": {},
   "outputs": [
    {
     "name": "stdout",
     "output_type": "stream",
     "text": [
      "_________________________________________________________________\n",
      "Layer (type)                 Output Shape              Param #   \n",
      "=================================================================\n",
      "input_2 (InputLayer)         (None, 28, 28, 1)         0         \n",
      "_________________________________________________________________\n",
      "conv2d_2 (Conv2D)            (None, 22, 22, 15)        750       \n",
      "_________________________________________________________________\n",
      "dropout_2 (Dropout)          (None, 22, 22, 15)        0         \n",
      "_________________________________________________________________\n",
      "conv2d_3 (Conv2D)            (None, 16, 16, 60)        44160     \n",
      "_________________________________________________________________\n",
      "dropout_3 (Dropout)          (None, 16, 16, 60)        0         \n",
      "_________________________________________________________________\n",
      "reshape_2 (Reshape)          (None, 256, 60)           0         \n",
      "_________________________________________________________________\n",
      "capsule_2 (Capsule)          (None, 10, 16)            9600      \n",
      "_________________________________________________________________\n",
      "lambda_2 (Lambda)            (None, 10)                0         \n",
      "=================================================================\n",
      "Total params: 54,510\n",
      "Trainable params: 54,510\n",
      "Non-trainable params: 0\n",
      "_________________________________________________________________\n"
     ]
    }
   ],
   "source": [
    "\"\"\"two-CONV-LAYERS-THICK\"\"\"\n",
    "input_image = Input(shape=(x_train.shape[1], x_train.shape[2], x_train.shape[3]))\n",
    "x_1 = Conv2D(filters= 15, kernel_size= 7, activation='relu', \n",
    "             padding= 'valid')(input_image)\n",
    "x_1= Dropout(0.1)(x_1)\n",
    "x_1 = Conv2D(filters= 60, kernel_size= 7, activation='relu',\n",
    "             strides= 1)(x_1)\n",
    "x_1 = Dropout(0.1)(x_1)\n",
    "\n",
    "\n",
    "\"\"\"now we reshape it as (batch_size, input_num_capsule, input_dim_capsule)\n",
    "then connect a Capsule layer.\n",
    "\n",
    "the output of final model is the lengths of 10 Capsule, whose dim=16.\n",
    "\n",
    "the length of Capsule is the proba,\n",
    "so the problem becomes a 10 two-classification problem.\n",
    "\"\"\"\n",
    "\n",
    "x_1 = Reshape((-1, 60))(x_1)\n",
    "capsule_1 = Capsule(num_classes, 16, 3, True)(x_1)\n",
    "output_1 = Lambda(lambda z: K.sqrt(K.sum(K.square(z), 2)))(capsule_1)\n",
    "model_1= Model(inputs= input_image, outputs= output_1)\n",
    "\n",
    "# we use a margin loss\n",
    "model_1.compile(loss =margin_loss, optimizer='adam', metrics=['accuracy'])\n",
    "model_1.summary()\n",
    "\n",
    "# we can compare the performance with or without data augmentation\n",
    "data_augmentation = False"
   ]
  },
  {
   "cell_type": "code",
   "execution_count": 10,
   "metadata": {},
   "outputs": [
    {
     "name": "stdout",
     "output_type": "stream",
     "text": [
      "_________________________________________________________________\n",
      "Layer (type)                 Output Shape              Param #   \n",
      "=================================================================\n",
      "input_3 (InputLayer)         (None, 28, 28, 1)         0         \n",
      "_________________________________________________________________\n",
      "conv2d_4 (Conv2D)            (None, 22, 22, 15)        750       \n",
      "_________________________________________________________________\n",
      "dropout_4 (Dropout)          (None, 22, 22, 15)        0         \n",
      "_________________________________________________________________\n",
      "conv2d_5 (Conv2D)            (None, 16, 16, 25)        18400     \n",
      "_________________________________________________________________\n",
      "dropout_5 (Dropout)          (None, 16, 16, 25)        0         \n",
      "_________________________________________________________________\n",
      "conv2d_6 (Conv2D)            (None, 10, 10, 25)        30650     \n",
      "_________________________________________________________________\n",
      "dropout_6 (Dropout)          (None, 10, 10, 25)        0         \n",
      "_________________________________________________________________\n",
      "reshape_3 (Reshape)          (None, 100, 25)           0         \n",
      "_________________________________________________________________\n",
      "capsule_3 (Capsule)          (None, 10, 16)            4000      \n",
      "_________________________________________________________________\n",
      "lambda_3 (Lambda)            (None, 10)                0         \n",
      "=================================================================\n",
      "Total params: 53,800\n",
      "Trainable params: 53,800\n",
      "Non-trainable params: 0\n",
      "_________________________________________________________________\n"
     ]
    }
   ],
   "source": [
    "\"\"\"three-CONV-LAYERS-THICK\"\"\"\n",
    "input_image = Input(shape=(x_train.shape[1], x_train.shape[2], x_train.shape[3]))\n",
    "x_2 = Conv2D(filters= 15, kernel_size= 7, activation='relu', \n",
    "             padding= 'valid')(input_image)\n",
    "x_2= Dropout(0.1)(x_2)\n",
    "x_2 = Conv2D(filters= 25, kernel_size= 7, activation='relu',\n",
    "             strides= 1)(x_2)\n",
    "x_2 = Dropout(0.1)(x_2)\n",
    "x_2 = Conv2D(filters= 25, kernel_size= 7, activation='relu',\n",
    "             strides= 1)(x_2)\n",
    "x_2 = Dropout(0.1)(x_2)\n",
    "\n",
    "\n",
    "\"\"\"now we reshape it as (batch_size, input_num_capsule, input_dim_capsule)\n",
    "then connect a Capsule layer.\n",
    "\n",
    "the output of final model is the lengths of 10 Capsule, whose dim=16.\n",
    "\n",
    "the length of Capsule is the proba,\n",
    "so the problem becomes a 10 two-classification problem.\n",
    "\"\"\"\n",
    "\n",
    "x_2 = Reshape((-1, 25))(x_2)\n",
    "capsule_2 = Capsule(num_classes, 16, 3, True)(x_2)\n",
    "output_2 = Lambda(lambda z: K.sqrt(K.sum(K.square(z), 2)))(capsule_2)\n",
    "model_2= Model(inputs= input_image, outputs= output_2)\n",
    "\n",
    "# we use a margin loss\n",
    "model_2.compile(loss =margin_loss, optimizer='adam', metrics=['accuracy'])\n",
    "model_2.summary()\n",
    "\n",
    "# we can compare the performance with or without data augmentation\n",
    "data_augmentation = False"
   ]
  },
  {
   "cell_type": "code",
   "execution_count": 11,
   "metadata": {},
   "outputs": [
    {
     "name": "stdout",
     "output_type": "stream",
     "text": [
      "_________________________________________________________________\n",
      "Layer (type)                 Output Shape              Param #   \n",
      "=================================================================\n",
      "input_4 (InputLayer)         (None, 28, 28, 1)         0         \n",
      "_________________________________________________________________\n",
      "conv2d_7 (Conv2D)            (None, 22, 22, 15)        750       \n",
      "_________________________________________________________________\n",
      "dropout_7 (Dropout)          (None, 22, 22, 15)        0         \n",
      "_________________________________________________________________\n",
      "conv2d_8 (Conv2D)            (None, 16, 16, 15)        11040     \n",
      "_________________________________________________________________\n",
      "dropout_8 (Dropout)          (None, 16, 16, 15)        0         \n",
      "_________________________________________________________________\n",
      "conv2d_9 (Conv2D)            (None, 10, 10, 20)        14720     \n",
      "_________________________________________________________________\n",
      "dropout_9 (Dropout)          (None, 10, 10, 20)        0         \n",
      "_________________________________________________________________\n",
      "conv2d_10 (Conv2D)           (None, 4, 4, 25)          24525     \n",
      "_________________________________________________________________\n",
      "dropout_10 (Dropout)         (None, 4, 4, 25)          0         \n",
      "_________________________________________________________________\n",
      "reshape_4 (Reshape)          (None, 16, 25)            0         \n",
      "_________________________________________________________________\n",
      "capsule_4 (Capsule)          (None, 10, 16)            4000      \n",
      "_________________________________________________________________\n",
      "lambda_4 (Lambda)            (None, 10)                0         \n",
      "=================================================================\n",
      "Total params: 55,035\n",
      "Trainable params: 55,035\n",
      "Non-trainable params: 0\n",
      "_________________________________________________________________\n"
     ]
    }
   ],
   "source": [
    "\"\"\"four-CONV-LAYERS-THICK\"\"\"\n",
    "input_image = Input(shape=(x_train.shape[1], x_train.shape[2], x_train.shape[3]))\n",
    "x_3 = Conv2D(filters= 15, kernel_size= 7, activation='relu', \n",
    "             padding= 'valid')(input_image)\n",
    "x_3= Dropout(0.1)(x_3)\n",
    "x_3 = Conv2D(filters= 15 ,kernel_size= 7, activation='relu',\n",
    "             strides= 1)(x_3)\n",
    "x_3 = Dropout(0.1)(x_3)\n",
    "x_3 = Conv2D(filters= 20, kernel_size= 7, activation='relu',\n",
    "             strides= 1)(x_3)\n",
    "x_3= Dropout(0.1)(x_3)\n",
    "x_3 = Conv2D(filters= 25,kernel_size= 7, activation='relu',\n",
    "             strides= 1)(x_3)\n",
    "x_3= Dropout(0.1)(x_3)\n",
    "\n",
    "\n",
    "\"\"\"now we reshape it as (batch_size, input_num_capsule, input_dim_capsule)\n",
    "then connect a Capsule layer.\n",
    "\n",
    "the output of final model is the lengths of 10 Capsule, whose dim=16.\n",
    "\n",
    "the length of Capsule is the proba,\n",
    "so the problem becomes a 10 two-classification problem.\n",
    "\"\"\"\n",
    "\n",
    "x_3 = Reshape((-1, 25))(x_3)\n",
    "capsule_3 = Capsule(num_classes, 16, 3, True)(x_3)\n",
    "output_3 = Lambda(lambda z: K.sqrt(K.sum(K.square(z), 2)))(capsule_3)\n",
    "model_3= Model(inputs= input_image, outputs= output_3)\n",
    "\n",
    "# we use a margin loss\n",
    "model_3.compile(loss =margin_loss, optimizer='adam', metrics=['accuracy'])\n",
    "model_3.summary()\n",
    "\n",
    "# we can compare the performance with or without data augmentation\n",
    "data_augmentation = False"
   ]
  },
  {
   "cell_type": "code",
   "execution_count": 12,
   "metadata": {},
   "outputs": [
    {
     "name": "stdout",
     "output_type": "stream",
     "text": [
      "_________________________________________________________________\n",
      "Layer (type)                 Output Shape              Param #   \n",
      "=================================================================\n",
      "conv2d_11 (Conv2D)           (None, 28, 28, 5)         250       \n",
      "_________________________________________________________________\n",
      "max_pooling2d_1 (MaxPooling2 (None, 14, 14, 5)         0         \n",
      "_________________________________________________________________\n",
      "conv2d_12 (Conv2D)           (None, 14, 14, 10)        2460      \n",
      "_________________________________________________________________\n",
      "dropout_11 (Dropout)         (None, 14, 14, 10)        0         \n",
      "_________________________________________________________________\n",
      "max_pooling2d_2 (MaxPooling2 (None, 7, 7, 10)          0         \n",
      "_________________________________________________________________\n",
      "flatten_1 (Flatten)          (None, 490)               0         \n",
      "_________________________________________________________________\n",
      "dropout_12 (Dropout)         (None, 490)               0         \n",
      "_________________________________________________________________\n",
      "dense_1 (Dense)              (None, 256)               125696    \n",
      "_________________________________________________________________\n",
      "dense_2 (Dense)              (None, 10)                2570      \n",
      "=================================================================\n",
      "Total params: 130,976\n",
      "Trainable params: 130,976\n",
      "Non-trainable params: 0\n",
      "_________________________________________________________________\n",
      "None\n"
     ]
    }
   ],
   "source": [
    "\"\"\"CNN-3-CONV-LAYERS\"\"\"\n",
    "from keras.models import Sequential\n",
    "from keras.layers import Dense, Dropout, Activation, Flatten, Conv2D, MaxPooling2D, \\\n",
    "                         ZeroPadding2D\n",
    "\n",
    "model_4= Sequential()\n",
    "model_4.add(Conv2D(filters= 5, kernel_size= (7, 7), padding= 'same', \n",
    "                   input_shape=(x_train.shape[1], x_train.shape[2], x_train.shape[3]), \n",
    "                   activation='relu'))\n",
    "model_4.add(MaxPooling2D(pool_size=(2,2)))\n",
    "model_4.add(Conv2D(filters= 10, kernel_size= (7, 7), \n",
    "                    padding= 'same', activation='relu'))\n",
    "model_4.add(Dropout(0.4))\n",
    "model_4.add(MaxPooling2D(pool_size=(2,2)))\n",
    "\n",
    "model_4.add(Flatten())\n",
    "model_4.add(Dropout(0.5))\n",
    "model_4.add(Dense(256, activation='relu'))\n",
    "model_4.add(Dense(num_classes, activation='softmax'))\n",
    "print(model_4.summary())"
   ]
  },
  {
   "cell_type": "code",
   "execution_count": 13,
   "metadata": {},
   "outputs": [
    {
     "name": "stdout",
     "output_type": "stream",
     "text": [
      "Not using data augmentation.\n",
      "WARNING:tensorflow:From C:\\Users\\ASUS\\Anaconda3\\envs\\tensorflow-gpu\\lib\\site-packages\\tensorflow\\python\\ops\\math_ops.py:3066: to_int32 (from tensorflow.python.ops.math_ops) is deprecated and will be removed in a future version.\n",
      "Instructions for updating:\n",
      "Use tf.cast instead.\n",
      "WARNING:tensorflow:From C:\\Users\\ASUS\\Anaconda3\\envs\\tensorflow-gpu\\lib\\site-packages\\tensorflow\\python\\ops\\math_grad.py:102: div (from tensorflow.python.ops.math_ops) is deprecated and will be removed in a future version.\n",
      "Instructions for updating:\n",
      "Deprecated in favor of operator or tf.math.divide.\n",
      "Train on 54546 samples, validate on 5454 samples\n",
      "Epoch 1/30\n",
      "54546/54546 [==============================] - 16s 293us/step - loss: 0.2825 - acc: 0.7680 - val_loss: 0.1340 - val_acc: 0.9314\n",
      "Epoch 2/30\n",
      "54546/54546 [==============================] - 14s 259us/step - loss: 0.1237 - acc: 0.9269 - val_loss: 0.1022 - val_acc: 0.9432\n",
      "Epoch 3/30\n",
      "54546/54546 [==============================] - 15s 270us/step - loss: 0.1006 - acc: 0.9405 - val_loss: 0.0828 - val_acc: 0.9529\n",
      "Epoch 4/30\n",
      "54546/54546 [==============================] - 14s 264us/step - loss: 0.0897 - acc: 0.9466 - val_loss: 0.0804 - val_acc: 0.9554\n",
      "Epoch 5/30\n",
      "54546/54546 [==============================] - 14s 264us/step - loss: 0.0820 - acc: 0.9529 - val_loss: 0.0706 - val_acc: 0.9635\n",
      "Epoch 6/30\n",
      "54546/54546 [==============================] - 14s 261us/step - loss: 0.0764 - acc: 0.9559 - val_loss: 0.0668 - val_acc: 0.9653\n",
      "Epoch 7/30\n",
      "54546/54546 [==============================] - 14s 264us/step - loss: 0.0737 - acc: 0.9591 - val_loss: 0.0595 - val_acc: 0.9696\n",
      "Epoch 8/30\n",
      "54546/54546 [==============================] - 14s 266us/step - loss: 0.0685 - acc: 0.9622 - val_loss: 0.0610 - val_acc: 0.9674\n",
      "Epoch 9/30\n",
      "54546/54546 [==============================] - 15s 269us/step - loss: 0.0662 - acc: 0.9640 - val_loss: 0.0579 - val_acc: 0.9710\n",
      "Epoch 10/30\n",
      "54546/54546 [==============================] - 15s 271us/step - loss: 0.0639 - acc: 0.9655 - val_loss: 0.0498 - val_acc: 0.9741\n",
      "Epoch 11/30\n",
      "54546/54546 [==============================] - 15s 269us/step - loss: 0.0622 - acc: 0.9663 - val_loss: 0.0555 - val_acc: 0.9716\n",
      "Epoch 12/30\n",
      "54546/54546 [==============================] - 15s 274us/step - loss: 0.0597 - acc: 0.9671 - val_loss: 0.0495 - val_acc: 0.9745\n",
      "Epoch 13/30\n",
      "54546/54546 [==============================] - 20s 360us/step - loss: 0.0581 - acc: 0.9690 - val_loss: 0.0450 - val_acc: 0.9776\n",
      "Epoch 14/30\n",
      "54546/54546 [==============================] - 20s 363us/step - loss: 0.0558 - acc: 0.9699 - val_loss: 0.0457 - val_acc: 0.9767\n",
      "Epoch 15/30\n",
      "54546/54546 [==============================] - 15s 271us/step - loss: 0.0547 - acc: 0.9704 - val_loss: 0.0437 - val_acc: 0.9774\n",
      "Epoch 16/30\n",
      "54546/54546 [==============================] - 15s 267us/step - loss: 0.0541 - acc: 0.9709 - val_loss: 0.0427 - val_acc: 0.9776\n",
      "Epoch 17/30\n",
      "54546/54546 [==============================] - 14s 265us/step - loss: 0.0517 - acc: 0.9722 - val_loss: 0.0415 - val_acc: 0.9778\n",
      "Epoch 18/30\n",
      "54546/54546 [==============================] - 15s 272us/step - loss: 0.0515 - acc: 0.9729 - val_loss: 0.0385 - val_acc: 0.9804\n",
      "Epoch 19/30\n",
      "54546/54546 [==============================] - 15s 267us/step - loss: 0.0503 - acc: 0.9733 - val_loss: 0.0430 - val_acc: 0.9776\n",
      "Epoch 20/30\n",
      "54546/54546 [==============================] - 15s 271us/step - loss: 0.0487 - acc: 0.9743 - val_loss: 0.0392 - val_acc: 0.9798\n",
      "Epoch 21/30\n",
      "54546/54546 [==============================] - 15s 268us/step - loss: 0.0485 - acc: 0.9740 - val_loss: 0.0407 - val_acc: 0.9784\n",
      "Epoch 22/30\n",
      "54546/54546 [==============================] - 15s 267us/step - loss: 0.0475 - acc: 0.9744 - val_loss: 0.0402 - val_acc: 0.9809\n",
      "Epoch 23/30\n",
      "54546/54546 [==============================] - 14s 263us/step - loss: 0.0464 - acc: 0.9757 - val_loss: 0.0375 - val_acc: 0.9784\n",
      "Epoch 24/30\n",
      "54546/54546 [==============================] - 14s 264us/step - loss: 0.0463 - acc: 0.9763 - val_loss: 0.0378 - val_acc: 0.9796\n",
      "Epoch 25/30\n",
      "54546/54546 [==============================] - 14s 263us/step - loss: 0.0458 - acc: 0.9753 - val_loss: 0.0358 - val_acc: 0.9818\n",
      "Epoch 26/30\n",
      "54546/54546 [==============================] - 15s 266us/step - loss: 0.0440 - acc: 0.9774 - val_loss: 0.0354 - val_acc: 0.9813\n",
      "Epoch 27/30\n",
      "54546/54546 [==============================] - 14s 264us/step - loss: 0.0437 - acc: 0.9773 - val_loss: 0.0350 - val_acc: 0.9833\n",
      "Epoch 28/30\n",
      "54546/54546 [==============================] - 15s 266us/step - loss: 0.0439 - acc: 0.9766 - val_loss: 0.0363 - val_acc: 0.9806\n",
      "Epoch 29/30\n",
      "54546/54546 [==============================] - 14s 266us/step - loss: 0.0422 - acc: 0.9781 - val_loss: 0.0347 - val_acc: 0.9815\n",
      "Epoch 30/30\n",
      "54546/54546 [==============================] - 14s 266us/step - loss: 0.0421 - acc: 0.9779 - val_loss: 0.0341 - val_acc: 0.9818\n"
     ]
    }
   ],
   "source": [
    "\"\"\"one-CONV-LAYERS-THICK\"\"\"\n",
    "if not data_augmentation:\n",
    "    print('Not using data augmentation.')\n",
    "    train_history_0= model_0.fit(\n",
    "        x_train,\n",
    "        y_train,\n",
    "        batch_size=batch_size,\n",
    "        epochs=epochs,\n",
    "        validation_split= Vld_Splt,\n",
    "        shuffle=True)\n",
    "else:\n",
    "    print('Using real-time data augmentation.')\n",
    "    # This will do preprocessing and realtime data augmentation:\n",
    "    datagen = ImageDataGenerator(\n",
    "        featurewise_center=False,  # set input mean to 0 over the dataset\n",
    "        samplewise_center=False,  # set each sample mean to 0\n",
    "        featurewise_std_normalization=False,  # divide inputs by dataset std\n",
    "        samplewise_std_normalization=False,  # divide each input by its std\n",
    "        zca_whitening=False,  # apply ZCA whitening\n",
    "        zca_epsilon=1e-06,  # epsilon for ZCA whitening\n",
    "        rotation_range=0,  # randomly rotate images in 0 to 180 degrees\n",
    "        width_shift_range=0.1,  # randomly shift images horizontally\n",
    "        height_shift_range=0.1,  # randomly shift images vertically\n",
    "        shear_range=0.,  # set range for random shear\n",
    "        zoom_range=0.,  # set range for random zoom\n",
    "        channel_shift_range=0.,  # set range for random channel shifts\n",
    "        # set mode for filling points outside the input boundaries\n",
    "        fill_mode='nearest',\n",
    "        cval=0.,  # value used for fill_mode = \"constant\"\n",
    "        horizontal_flip=True,  # randomly flip images\n",
    "        vertical_flip=False,  # randomly flip images\n",
    "        # set rescaling factor (applied before any other transformation)\n",
    "        rescale=None,\n",
    "        # set function that will be applied on each input\n",
    "        preprocessing_function=None,\n",
    "        # image data format, either \"channels_first\" or \"channels_last\"\n",
    "        data_format=None,\n",
    "        # fraction of images reserved for validation (strictly between 0 and 1)\n",
    "        validation_split=0.0)\n",
    "\n",
    "    # Compute quantities required for feature-wise normalization\n",
    "    # (std, mean, and principal components if ZCA whitening is applied).\n",
    "    datagen.fit(x_train)\n",
    "\n",
    "    # Fit the model on the batches generated by datagen.flow().\n",
    "    train_history_0= model_0.fit_generator(\n",
    "        datagen.flow(x_train, y_train, batch_size=batch_size),\n",
    "        epochs= epochs,\n",
    "        validation_split= Vld_Splt,\n",
    "        steps_per_epoch= int(x_train.shape[0]/ batch_size),\n",
    "        workers=4)"
   ]
  },
  {
   "cell_type": "code",
   "execution_count": 14,
   "metadata": {},
   "outputs": [
    {
     "name": "stdout",
     "output_type": "stream",
     "text": [
      "Not using data augmentation.\n",
      "Train on 54546 samples, validate on 5454 samples\n",
      "Epoch 1/30\n",
      "54546/54546 [==============================] - 7s 131us/step - loss: 0.2810 - acc: 0.7384 - val_loss: 0.1025 - val_acc: 0.9481\n",
      "Epoch 2/30\n",
      "54546/54546 [==============================] - 7s 127us/step - loss: 0.0847 - acc: 0.9495 - val_loss: 0.0526 - val_acc: 0.9694\n",
      "Epoch 3/30\n",
      "54546/54546 [==============================] - 7s 120us/step - loss: 0.0574 - acc: 0.9623 - val_loss: 0.0393 - val_acc: 0.9769\n",
      "Epoch 4/30\n",
      "54546/54546 [==============================] - 6s 117us/step - loss: 0.0473 - acc: 0.9681 - val_loss: 0.0329 - val_acc: 0.9795\n",
      "Epoch 5/30\n",
      "54546/54546 [==============================] - 7s 125us/step - loss: 0.0414 - acc: 0.9715 - val_loss: 0.0287 - val_acc: 0.9815\n",
      "Epoch 6/30\n",
      "54546/54546 [==============================] - 7s 122us/step - loss: 0.0376 - acc: 0.9747 - val_loss: 0.0267 - val_acc: 0.9839\n",
      "Epoch 7/30\n",
      "54546/54546 [==============================] - 6s 119us/step - loss: 0.0350 - acc: 0.9761 - val_loss: 0.0265 - val_acc: 0.9828\n",
      "Epoch 8/30\n",
      "54546/54546 [==============================] - 6s 119us/step - loss: 0.0332 - acc: 0.9775 - val_loss: 0.0246 - val_acc: 0.9837\n",
      "Epoch 9/30\n",
      "54546/54546 [==============================] - 6s 118us/step - loss: 0.0311 - acc: 0.9795 - val_loss: 0.0228 - val_acc: 0.9855\n",
      "Epoch 10/30\n",
      "54546/54546 [==============================] - 6s 119us/step - loss: 0.0301 - acc: 0.9795 - val_loss: 0.0222 - val_acc: 0.9857\n",
      "Epoch 11/30\n",
      "54546/54546 [==============================] - 7s 120us/step - loss: 0.0286 - acc: 0.9807 - val_loss: 0.0231 - val_acc: 0.9868\n",
      "Epoch 12/30\n",
      "54546/54546 [==============================] - 7s 120us/step - loss: 0.0270 - acc: 0.9822 - val_loss: 0.0206 - val_acc: 0.9868\n",
      "Epoch 13/30\n",
      "54546/54546 [==============================] - 7s 122us/step - loss: 0.0261 - acc: 0.9829 - val_loss: 0.0236 - val_acc: 0.9861\n",
      "Epoch 14/30\n",
      "54546/54546 [==============================] - 6s 118us/step - loss: 0.0253 - acc: 0.9834 - val_loss: 0.0210 - val_acc: 0.9872\n",
      "Epoch 15/30\n",
      "54546/54546 [==============================] - 7s 127us/step - loss: 0.0244 - acc: 0.9841 - val_loss: 0.0182 - val_acc: 0.9870\n",
      "Epoch 16/30\n",
      "54546/54546 [==============================] - 12s 225us/step - loss: 0.0236 - acc: 0.9841 - val_loss: 0.0181 - val_acc: 0.9890\n",
      "Epoch 17/30\n",
      "54546/54546 [==============================] - 7s 121us/step - loss: 0.0227 - acc: 0.9847 - val_loss: 0.0180 - val_acc: 0.9870\n",
      "Epoch 18/30\n",
      "54546/54546 [==============================] - 7s 120us/step - loss: 0.0220 - acc: 0.9855 - val_loss: 0.0191 - val_acc: 0.9879\n",
      "Epoch 19/30\n",
      "54546/54546 [==============================] - 7s 125us/step - loss: 0.0215 - acc: 0.9858 - val_loss: 0.0172 - val_acc: 0.9884\n",
      "Epoch 20/30\n",
      "54546/54546 [==============================] - 14s 251us/step - loss: 0.0208 - acc: 0.9870 - val_loss: 0.0183 - val_acc: 0.9870\n",
      "Epoch 21/30\n",
      "54546/54546 [==============================] - 7s 124us/step - loss: 0.0200 - acc: 0.9870 - val_loss: 0.0163 - val_acc: 0.9881\n",
      "Epoch 22/30\n",
      "54546/54546 [==============================] - 7s 123us/step - loss: 0.0193 - acc: 0.9875 - val_loss: 0.0163 - val_acc: 0.9890\n",
      "Epoch 23/30\n",
      "54546/54546 [==============================] - 7s 120us/step - loss: 0.0190 - acc: 0.9882 - val_loss: 0.0161 - val_acc: 0.9892\n",
      "Epoch 24/30\n",
      "54546/54546 [==============================] - 7s 119us/step - loss: 0.0182 - acc: 0.9881 - val_loss: 0.0165 - val_acc: 0.9897\n",
      "Epoch 25/30\n",
      "54546/54546 [==============================] - 7s 120us/step - loss: 0.0177 - acc: 0.9889 - val_loss: 0.0157 - val_acc: 0.9879\n",
      "Epoch 26/30\n",
      "54546/54546 [==============================] - 6s 119us/step - loss: 0.0172 - acc: 0.9892 - val_loss: 0.0153 - val_acc: 0.9897\n",
      "Epoch 27/30\n",
      "54546/54546 [==============================] - 6s 117us/step - loss: 0.0171 - acc: 0.9896 - val_loss: 0.0165 - val_acc: 0.9905\n",
      "Epoch 28/30\n",
      "54546/54546 [==============================] - 6s 119us/step - loss: 0.0163 - acc: 0.9899 - val_loss: 0.0152 - val_acc: 0.9905\n",
      "Epoch 29/30\n",
      "54546/54546 [==============================] - 7s 119us/step - loss: 0.0161 - acc: 0.9897 - val_loss: 0.0151 - val_acc: 0.9895\n",
      "Epoch 30/30\n",
      "54546/54546 [==============================] - 6s 118us/step - loss: 0.0158 - acc: 0.9901 - val_loss: 0.0144 - val_acc: 0.9908\n"
     ]
    }
   ],
   "source": [
    "\"\"\"two-CONV-LAYERS-THICK\"\"\"\n",
    "if not data_augmentation:\n",
    "    print('Not using data augmentation.')\n",
    "    train_history_1= model_1.fit(\n",
    "        x_train,\n",
    "        y_train,\n",
    "        batch_size=batch_size,\n",
    "        epochs=epochs,\n",
    "        validation_split= Vld_Splt,\n",
    "        shuffle=True)\n",
    "else:\n",
    "    print('Using real-time data augmentation.')\n",
    "    # This will do preprocessing and realtime data augmentation:\n",
    "    datagen = ImageDataGenerator(\n",
    "        featurewise_center=False,  # set input mean to 0 over the dataset\n",
    "        samplewise_center=False,  # set each sample mean to 0\n",
    "        featurewise_std_normalization=False,  # divide inputs by dataset std\n",
    "        samplewise_std_normalization=False,  # divide each input by its std\n",
    "        zca_whitening=False,  # apply ZCA whitening\n",
    "        zca_epsilon=1e-06,  # epsilon for ZCA whitening\n",
    "        rotation_range=0,  # randomly rotate images in 0 to 180 degrees\n",
    "        width_shift_range=0.1,  # randomly shift images horizontally\n",
    "        height_shift_range=0.1,  # randomly shift images vertically\n",
    "        shear_range=0.,  # set range for random shear\n",
    "        zoom_range=0.,  # set range for random zoom\n",
    "        channel_shift_range=0.,  # set range for random channel shifts\n",
    "        # set mode for filling points outside the input boundaries\n",
    "        fill_mode='nearest',\n",
    "        cval=0.,  # value used for fill_mode = \"constant\"\n",
    "        horizontal_flip=True,  # randomly flip images\n",
    "        vertical_flip=False,  # randomly flip images\n",
    "        # set rescaling factor (applied before any other transformation)\n",
    "        rescale=None,\n",
    "        # set function that will be applied on each input\n",
    "        preprocessing_function=None,\n",
    "        # image data format, either \"channels_first\" or \"channels_last\"\n",
    "        data_format=None,\n",
    "        # fraction of images reserved for validation (strictly between 0 and 1)\n",
    "        validation_split=0.0)\n",
    "\n",
    "    # Compute quantities required for feature-wise normalization\n",
    "    # (std, mean, and principal components if ZCA whitening is applied).\n",
    "    datagen.fit(x_train)\n",
    "\n",
    "    # Fit the model on the batches generated by datagen.flow().\n",
    "    train_history_1= model_1.fit_generator(\n",
    "        datagen.flow(x_train, y_train, batch_size=batch_size),\n",
    "        epochs= epochs,\n",
    "        validation_split= Vld_Splt,\n",
    "        steps_per_epoch= int(x_train.shape[0]/ batch_size),\n",
    "        workers=4)"
   ]
  },
  {
   "cell_type": "code",
   "execution_count": 15,
   "metadata": {},
   "outputs": [
    {
     "name": "stdout",
     "output_type": "stream",
     "text": [
      "Not using data augmentation.\n",
      "Train on 54546 samples, validate on 5454 samples\n",
      "Epoch 1/30\n",
      "54546/54546 [==============================] - 5s 100us/step - loss: 0.1928 - acc: 0.8186 - val_loss: 0.0402 - val_acc: 0.9751\n",
      "Epoch 2/30\n",
      "54546/54546 [==============================] - 5s 87us/step - loss: 0.0368 - acc: 0.9748 - val_loss: 0.0201 - val_acc: 0.9851\n",
      "Epoch 3/30\n",
      "54546/54546 [==============================] - 5s 92us/step - loss: 0.0234 - acc: 0.9832 - val_loss: 0.0150 - val_acc: 0.9883\n",
      "Epoch 4/30\n",
      "54546/54546 [==============================] - 5s 88us/step - loss: 0.0185 - acc: 0.9863 - val_loss: 0.0142 - val_acc: 0.9875\n",
      "Epoch 5/30\n",
      "54546/54546 [==============================] - 5s 86us/step - loss: 0.0158 - acc: 0.9879 - val_loss: 0.0118 - val_acc: 0.9914\n",
      "Epoch 6/30\n",
      "54546/54546 [==============================] - 5s 87us/step - loss: 0.0136 - acc: 0.9892 - val_loss: 0.0102 - val_acc: 0.9925\n",
      "Epoch 7/30\n",
      "54546/54546 [==============================] - 5s 86us/step - loss: 0.0124 - acc: 0.9906 - val_loss: 0.0096 - val_acc: 0.9914\n",
      "Epoch 8/30\n",
      "54546/54546 [==============================] - 5s 85us/step - loss: 0.0111 - acc: 0.9916 - val_loss: 0.0091 - val_acc: 0.9923\n",
      "Epoch 9/30\n",
      "54546/54546 [==============================] - 5s 83us/step - loss: 0.0103 - acc: 0.9921 - val_loss: 0.0086 - val_acc: 0.9917\n",
      "Epoch 10/30\n",
      "54546/54546 [==============================] - 4s 82us/step - loss: 0.0098 - acc: 0.9923 - val_loss: 0.0087 - val_acc: 0.9910\n",
      "Epoch 11/30\n",
      "54546/54546 [==============================] - 5s 85us/step - loss: 0.0090 - acc: 0.9931 - val_loss: 0.0083 - val_acc: 0.9932\n",
      "Epoch 12/30\n",
      "54546/54546 [==============================] - 5s 83us/step - loss: 0.0083 - acc: 0.9937 - val_loss: 0.0086 - val_acc: 0.9917\n",
      "Epoch 13/30\n",
      "54546/54546 [==============================] - 5s 87us/step - loss: 0.0081 - acc: 0.9933 - val_loss: 0.0080 - val_acc: 0.9930\n",
      "Epoch 14/30\n",
      "54546/54546 [==============================] - 5s 98us/step - loss: 0.0075 - acc: 0.9944 - val_loss: 0.0074 - val_acc: 0.9932\n",
      "Epoch 15/30\n",
      "54546/54546 [==============================] - 6s 104us/step - loss: 0.0076 - acc: 0.9941 - val_loss: 0.0077 - val_acc: 0.9925\n",
      "Epoch 16/30\n",
      "54546/54546 [==============================] - 5s 85us/step - loss: 0.0070 - acc: 0.9948 - val_loss: 0.0076 - val_acc: 0.9927\n",
      "Epoch 17/30\n",
      "54546/54546 [==============================] - 5s 86us/step - loss: 0.0067 - acc: 0.9951 - val_loss: 0.0073 - val_acc: 0.9936\n",
      "Epoch 18/30\n",
      "54546/54546 [==============================] - 5s 85us/step - loss: 0.0067 - acc: 0.9949 - val_loss: 0.0069 - val_acc: 0.9925\n",
      "Epoch 19/30\n",
      "54546/54546 [==============================] - 5s 85us/step - loss: 0.0063 - acc: 0.9953 - val_loss: 0.0067 - val_acc: 0.9934\n",
      "Epoch 20/30\n",
      "54546/54546 [==============================] - 11s 199us/step - loss: 0.0062 - acc: 0.9953 - val_loss: 0.0067 - val_acc: 0.9930\n",
      "Epoch 21/30\n",
      "54546/54546 [==============================] - 5s 86us/step - loss: 0.0060 - acc: 0.9957 - val_loss: 0.0066 - val_acc: 0.9945\n",
      "Epoch 22/30\n",
      "54546/54546 [==============================] - 5s 87us/step - loss: 0.0058 - acc: 0.9957 - val_loss: 0.0070 - val_acc: 0.9936\n",
      "Epoch 23/30\n",
      "54546/54546 [==============================] - 5s 83us/step - loss: 0.0057 - acc: 0.9959 - val_loss: 0.0070 - val_acc: 0.9938\n",
      "Epoch 24/30\n",
      "54546/54546 [==============================] - 5s 86us/step - loss: 0.0052 - acc: 0.9964 - val_loss: 0.0075 - val_acc: 0.9928\n",
      "Epoch 25/30\n",
      "54546/54546 [==============================] - 5s 87us/step - loss: 0.0052 - acc: 0.9963 - val_loss: 0.0083 - val_acc: 0.9925\n",
      "Epoch 26/30\n",
      "54546/54546 [==============================] - 5s 85us/step - loss: 0.0052 - acc: 0.9964 - val_loss: 0.0068 - val_acc: 0.9936\n",
      "Epoch 27/30\n",
      "54546/54546 [==============================] - 5s 88us/step - loss: 0.0049 - acc: 0.9967 - val_loss: 0.0065 - val_acc: 0.9939\n",
      "Epoch 28/30\n",
      "54546/54546 [==============================] - 5s 85us/step - loss: 0.0047 - acc: 0.9968 - val_loss: 0.0062 - val_acc: 0.9949\n",
      "Epoch 29/30\n",
      "54546/54546 [==============================] - 5s 86us/step - loss: 0.0046 - acc: 0.9968 - val_loss: 0.0070 - val_acc: 0.9947\n",
      "Epoch 30/30\n",
      "54546/54546 [==============================] - 4s 82us/step - loss: 0.0049 - acc: 0.9968 - val_loss: 0.0066 - val_acc: 0.9938\n"
     ]
    }
   ],
   "source": [
    "\"\"\"three-CONV-LAYERS-THICK\"\"\"\n",
    "if not data_augmentation:\n",
    "    print('Not using data augmentation.')\n",
    "    train_history_2= model_2.fit(\n",
    "        x_train,\n",
    "        y_train,\n",
    "        batch_size=batch_size,\n",
    "        epochs=epochs,\n",
    "        validation_split= Vld_Splt,\n",
    "        shuffle=True)\n",
    "else:\n",
    "    print('Using real-time data augmentation.')\n",
    "    # This will do preprocessing and realtime data augmentation:\n",
    "    datagen = ImageDataGenerator(\n",
    "        featurewise_center=False,  # set input mean to 0 over the dataset\n",
    "        samplewise_center=False,  # set each sample mean to 0\n",
    "        featurewise_std_normalization=False,  # divide inputs by dataset std\n",
    "        samplewise_std_normalization=False,  # divide each input by its std\n",
    "        zca_whitening=False,  # apply ZCA whitening\n",
    "        zca_epsilon=1e-06,  # epsilon for ZCA whitening\n",
    "        rotation_range=0,  # randomly rotate images in 0 to 180 degrees\n",
    "        width_shift_range=0.1,  # randomly shift images horizontally\n",
    "        height_shift_range=0.1,  # randomly shift images vertically\n",
    "        shear_range=0.,  # set range for random shear\n",
    "        zoom_range=0.,  # set range for random zoom\n",
    "        channel_shift_range=0.,  # set range for random channel shifts\n",
    "        # set mode for filling points outside the input boundaries\n",
    "        fill_mode='nearest',\n",
    "        cval=0.,  # value used for fill_mode = \"constant\"\n",
    "        horizontal_flip=True,  # randomly flip images\n",
    "        vertical_flip=False,  # randomly flip images\n",
    "        # set rescaling factor (applied before any other transformation)\n",
    "        rescale=None,\n",
    "        # set function that will be applied on each input\n",
    "        preprocessing_function=None,\n",
    "        # image data format, either \"channels_first\" or \"channels_last\"\n",
    "        data_format=None,\n",
    "        # fraction of images reserved for validation (strictly between 0 and 1)\n",
    "        validation_split=0.0)\n",
    "\n",
    "    # Compute quantities required for feature-wise normalization\n",
    "    # (std, mean, and principal components if ZCA whitening is applied).\n",
    "    datagen.fit(x_train)\n",
    "\n",
    "    # Fit the model on the batches generated by datagen.flow().\n",
    "    train_history_2= model_2.fit_generator(\n",
    "        datagen.flow(x_train, y_train, batch_size=batch_size),\n",
    "        epochs= epochs,\n",
    "        validation_split= Vld_Splt,\n",
    "        steps_per_epoch= int(x_train.shape[0]/ batch_size),\n",
    "        workers=4)"
   ]
  },
  {
   "cell_type": "code",
   "execution_count": 16,
   "metadata": {},
   "outputs": [
    {
     "name": "stdout",
     "output_type": "stream",
     "text": [
      "Not using data augmentation.\n",
      "Train on 54546 samples, validate on 5454 samples\n",
      "Epoch 1/30\n",
      "54546/54546 [==============================] - 5s 83us/step - loss: 0.1282 - acc: 0.8785 - val_loss: 0.0219 - val_acc: 0.9807\n",
      "Epoch 2/30\n",
      "54546/54546 [==============================] - 4s 72us/step - loss: 0.0234 - acc: 0.9776 - val_loss: 0.0147 - val_acc: 0.9833\n",
      "Epoch 3/30\n",
      "54546/54546 [==============================] - 4s 69us/step - loss: 0.0162 - acc: 0.9844 - val_loss: 0.0112 - val_acc: 0.9894\n",
      "Epoch 4/30\n",
      "54546/54546 [==============================] - 4s 71us/step - loss: 0.0129 - acc: 0.9873 - val_loss: 0.0091 - val_acc: 0.9912\n",
      "Epoch 5/30\n",
      "54546/54546 [==============================] - 4s 76us/step - loss: 0.0109 - acc: 0.9886 - val_loss: 0.0088 - val_acc: 0.9905\n",
      "Epoch 6/30\n",
      "54546/54546 [==============================] - 4s 74us/step - loss: 0.0105 - acc: 0.9892 - val_loss: 0.0093 - val_acc: 0.9894\n",
      "Epoch 7/30\n",
      "54546/54546 [==============================] - 4s 71us/step - loss: 0.0090 - acc: 0.9908 - val_loss: 0.0086 - val_acc: 0.9901\n",
      "Epoch 8/30\n",
      "54546/54546 [==============================] - 4s 75us/step - loss: 0.0082 - acc: 0.9914 - val_loss: 0.0070 - val_acc: 0.9925\n",
      "Epoch 9/30\n",
      "54546/54546 [==============================] - 4s 66us/step - loss: 0.0077 - acc: 0.9922 - val_loss: 0.0074 - val_acc: 0.9917\n",
      "Epoch 10/30\n",
      "54546/54546 [==============================] - 4s 66us/step - loss: 0.0074 - acc: 0.9925 - val_loss: 0.0074 - val_acc: 0.9921\n",
      "Epoch 11/30\n",
      "54546/54546 [==============================] - 9s 157us/step - loss: 0.0069 - acc: 0.9933 - val_loss: 0.0070 - val_acc: 0.9917\n",
      "Epoch 12/30\n",
      "54546/54546 [==============================] - 6s 104us/step - loss: 0.0065 - acc: 0.9938 - val_loss: 0.0074 - val_acc: 0.9916\n",
      "Epoch 13/30\n",
      "54546/54546 [==============================] - 4s 71us/step - loss: 0.0063 - acc: 0.9938 - val_loss: 0.0066 - val_acc: 0.9923\n",
      "Epoch 14/30\n",
      "54546/54546 [==============================] - 4s 71us/step - loss: 0.0060 - acc: 0.9939 - val_loss: 0.0071 - val_acc: 0.9917\n",
      "Epoch 15/30\n",
      "54546/54546 [==============================] - 4s 70us/step - loss: 0.0057 - acc: 0.9942 - val_loss: 0.0065 - val_acc: 0.9921\n",
      "Epoch 16/30\n",
      "54546/54546 [==============================] - 4s 72us/step - loss: 0.0055 - acc: 0.9945 - val_loss: 0.0073 - val_acc: 0.9927\n",
      "Epoch 17/30\n",
      "54546/54546 [==============================] - 4s 69us/step - loss: 0.0052 - acc: 0.9948 - val_loss: 0.0062 - val_acc: 0.9925\n",
      "Epoch 18/30\n",
      "54546/54546 [==============================] - 4s 68us/step - loss: 0.0051 - acc: 0.9950 - val_loss: 0.0065 - val_acc: 0.9923\n",
      "Epoch 19/30\n",
      "54546/54546 [==============================] - 4s 66us/step - loss: 0.0052 - acc: 0.9950 - val_loss: 0.0070 - val_acc: 0.9919\n",
      "Epoch 20/30\n",
      "54546/54546 [==============================] - 4s 65us/step - loss: 0.0049 - acc: 0.9956 - val_loss: 0.0061 - val_acc: 0.9936\n",
      "Epoch 21/30\n",
      "54546/54546 [==============================] - 4s 66us/step - loss: 0.0046 - acc: 0.9952 - val_loss: 0.0063 - val_acc: 0.9925\n",
      "Epoch 22/30\n",
      "54546/54546 [==============================] - 4s 68us/step - loss: 0.0044 - acc: 0.9955 - val_loss: 0.0055 - val_acc: 0.9943\n",
      "Epoch 23/30\n",
      "54546/54546 [==============================] - 4s 75us/step - loss: 0.0040 - acc: 0.9962 - val_loss: 0.0063 - val_acc: 0.9925\n",
      "Epoch 24/30\n",
      "54546/54546 [==============================] - 4s 70us/step - loss: 0.0043 - acc: 0.9958 - val_loss: 0.0062 - val_acc: 0.9936\n",
      "Epoch 25/30\n",
      "54546/54546 [==============================] - 4s 69us/step - loss: 0.0049 - acc: 0.9952 - val_loss: 0.0071 - val_acc: 0.9917\n",
      "Epoch 26/30\n",
      "54546/54546 [==============================] - 4s 76us/step - loss: 0.0038 - acc: 0.9965 - val_loss: 0.0074 - val_acc: 0.9917\n",
      "Epoch 27/30\n",
      "54546/54546 [==============================] - 4s 78us/step - loss: 0.0037 - acc: 0.9966 - val_loss: 0.0059 - val_acc: 0.9941\n",
      "Epoch 28/30\n",
      "54546/54546 [==============================] - 4s 82us/step - loss: 0.0035 - acc: 0.9968 - val_loss: 0.0058 - val_acc: 0.9930\n",
      "Epoch 29/30\n",
      "54546/54546 [==============================] - 4s 82us/step - loss: 0.0032 - acc: 0.9970 - val_loss: 0.0063 - val_acc: 0.9934\n",
      "Epoch 30/30\n",
      "54546/54546 [==============================] - 4s 74us/step - loss: 0.0037 - acc: 0.9965 - val_loss: 0.0059 - val_acc: 0.9945\n"
     ]
    }
   ],
   "source": [
    "\"\"\"four-CONV-LAYERS-THICK\"\"\"\n",
    "if not data_augmentation:\n",
    "    print('Not using data augmentation.')\n",
    "    train_history_3= model_3.fit(\n",
    "        x_train,\n",
    "        y_train,\n",
    "        batch_size=batch_size,\n",
    "        epochs=epochs,\n",
    "        validation_split= Vld_Splt,\n",
    "        shuffle=True)\n",
    "else:\n",
    "    print('Using real-time data augmentation.')\n",
    "    # This will do preprocessing and realtime data augmentation:\n",
    "    datagen = ImageDataGenerator(\n",
    "        featurewise_center=False,  # set input mean to 0 over the dataset\n",
    "        samplewise_center=False,  # set each sample mean to 0\n",
    "        featurewise_std_normalization=False,  # divide inputs by dataset std\n",
    "        samplewise_std_normalization=False,  # divide each input by its std\n",
    "        zca_whitening=False,  # apply ZCA whitening\n",
    "        zca_epsilon=1e-06,  # epsilon for ZCA whitening\n",
    "        rotation_range=0,  # randomly rotate images in 0 to 180 degrees\n",
    "        width_shift_range=0.1,  # randomly shift images horizontally\n",
    "        height_shift_range=0.1,  # randomly shift images vertically\n",
    "        shear_range=0.,  # set range for random shear\n",
    "        zoom_range=0.,  # set range for random zoom\n",
    "        channel_shift_range=0.,  # set range for random channel shifts\n",
    "        # set mode for filling points outside the input boundaries\n",
    "        fill_mode='nearest',\n",
    "        cval=0.,  # value used for fill_mode = \"constant\"\n",
    "        horizontal_flip=True,  # randomly flip images\n",
    "        vertical_flip=False,  # randomly flip images\n",
    "        # set rescaling factor (applied before any other transformation)\n",
    "        rescale=None,\n",
    "        # set function that will be applied on each input\n",
    "        preprocessing_function=None,\n",
    "        # image data format, either \"channels_first\" or \"channels_last\"\n",
    "        data_format=None,\n",
    "        # fraction of images reserved for validation (strictly between 0 and 1)\n",
    "        validation_split=0.0)\n",
    "\n",
    "    # Compute quantities required for feature-wise normalization\n",
    "    # (std, mean, and principal components if ZCA whitening is applied).\n",
    "    datagen.fit(x_train)\n",
    "\n",
    "    # Fit the model on the batches generated by datagen.flow().\n",
    "    train_history_3= model_3.fit_generator(\n",
    "        datagen.flow(x_train, y_train, batch_size=batch_size),\n",
    "        epochs= epochs,\n",
    "        validation_split= Vld_Splt,\n",
    "        steps_per_epoch= int(x_train.shape[0]/ batch_size),\n",
    "        workers=4)"
   ]
  },
  {
   "cell_type": "code",
   "execution_count": 17,
   "metadata": {},
   "outputs": [
    {
     "name": "stdout",
     "output_type": "stream",
     "text": [
      "Train on 54546 samples, validate on 5454 samples\n",
      "Epoch 1/30\n",
      "54546/54546 [==============================] - 3s 47us/step - loss: 0.4858 - acc: 0.8501 - val_loss: 0.1180 - val_acc: 0.9730\n",
      "Epoch 2/30\n",
      "54546/54546 [==============================] - 2s 37us/step - loss: 0.1705 - acc: 0.9464 - val_loss: 0.0748 - val_acc: 0.9817\n",
      "Epoch 3/30\n",
      "54546/54546 [==============================] - 2s 36us/step - loss: 0.1355 - acc: 0.9581 - val_loss: 0.0614 - val_acc: 0.9848\n",
      "Epoch 4/30\n",
      "54546/54546 [==============================] - 2s 37us/step - loss: 0.1160 - acc: 0.9642 - val_loss: 0.0550 - val_acc: 0.9842\n",
      "Epoch 5/30\n",
      "54546/54546 [==============================] - 2s 36us/step - loss: 0.0998 - acc: 0.9691 - val_loss: 0.0527 - val_acc: 0.9861\n",
      "Epoch 6/30\n",
      "54546/54546 [==============================] - 2s 36us/step - loss: 0.0923 - acc: 0.9715 - val_loss: 0.0465 - val_acc: 0.9875\n",
      "Epoch 7/30\n",
      "54546/54546 [==============================] - 2s 36us/step - loss: 0.0845 - acc: 0.9737 - val_loss: 0.0439 - val_acc: 0.9894\n",
      "Epoch 8/30\n",
      "54546/54546 [==============================] - 2s 36us/step - loss: 0.0785 - acc: 0.9753 - val_loss: 0.0408 - val_acc: 0.9886\n",
      "Epoch 9/30\n",
      "54546/54546 [==============================] - 2s 36us/step - loss: 0.0736 - acc: 0.9761 - val_loss: 0.0380 - val_acc: 0.9899\n",
      "Epoch 10/30\n",
      "54546/54546 [==============================] - 2s 36us/step - loss: 0.0688 - acc: 0.9780 - val_loss: 0.0380 - val_acc: 0.9901\n",
      "Epoch 11/30\n",
      "54546/54546 [==============================] - 2s 36us/step - loss: 0.0680 - acc: 0.9787 - val_loss: 0.0387 - val_acc: 0.9892\n",
      "Epoch 12/30\n",
      "54546/54546 [==============================] - 2s 36us/step - loss: 0.0610 - acc: 0.9798 - val_loss: 0.0368 - val_acc: 0.9908\n",
      "Epoch 13/30\n",
      "54546/54546 [==============================] - 2s 36us/step - loss: 0.0610 - acc: 0.9802 - val_loss: 0.0339 - val_acc: 0.9923\n",
      "Epoch 14/30\n",
      "54546/54546 [==============================] - 2s 36us/step - loss: 0.0570 - acc: 0.9819 - val_loss: 0.0399 - val_acc: 0.9886\n",
      "Epoch 15/30\n",
      "54546/54546 [==============================] - 2s 36us/step - loss: 0.0546 - acc: 0.9825 - val_loss: 0.0337 - val_acc: 0.9912\n",
      "Epoch 16/30\n",
      "54546/54546 [==============================] - 2s 36us/step - loss: 0.0541 - acc: 0.9828 - val_loss: 0.0315 - val_acc: 0.9912\n",
      "Epoch 17/30\n",
      "54546/54546 [==============================] - 2s 36us/step - loss: 0.0532 - acc: 0.9826 - val_loss: 0.0300 - val_acc: 0.9928\n",
      "Epoch 18/30\n",
      "54546/54546 [==============================] - 2s 37us/step - loss: 0.0488 - acc: 0.9837 - val_loss: 0.0306 - val_acc: 0.9923\n",
      "Epoch 19/30\n",
      "54546/54546 [==============================] - 2s 36us/step - loss: 0.0473 - acc: 0.9848 - val_loss: 0.0289 - val_acc: 0.9919\n",
      "Epoch 20/30\n",
      "54546/54546 [==============================] - 2s 36us/step - loss: 0.0468 - acc: 0.9846 - val_loss: 0.0305 - val_acc: 0.9923\n",
      "Epoch 21/30\n",
      "54546/54546 [==============================] - 2s 36us/step - loss: 0.0464 - acc: 0.9848 - val_loss: 0.0283 - val_acc: 0.9928\n",
      "Epoch 22/30\n",
      "54546/54546 [==============================] - 2s 36us/step - loss: 0.0444 - acc: 0.9856 - val_loss: 0.0325 - val_acc: 0.9914\n",
      "Epoch 23/30\n",
      "54546/54546 [==============================] - 2s 36us/step - loss: 0.0433 - acc: 0.9860 - val_loss: 0.0291 - val_acc: 0.9921\n",
      "Epoch 24/30\n",
      "54546/54546 [==============================] - 2s 36us/step - loss: 0.0434 - acc: 0.9855 - val_loss: 0.0274 - val_acc: 0.9928\n",
      "Epoch 25/30\n",
      "54546/54546 [==============================] - 2s 36us/step - loss: 0.0403 - acc: 0.9863 - val_loss: 0.0263 - val_acc: 0.9938\n",
      "Epoch 26/30\n",
      "54546/54546 [==============================] - 2s 36us/step - loss: 0.0398 - acc: 0.9873 - val_loss: 0.0272 - val_acc: 0.9934\n",
      "Epoch 27/30\n",
      "54546/54546 [==============================] - 2s 36us/step - loss: 0.0405 - acc: 0.9868 - val_loss: 0.0303 - val_acc: 0.9914\n",
      "Epoch 28/30\n",
      "54546/54546 [==============================] - 2s 38us/step - loss: 0.0392 - acc: 0.9877 - val_loss: 0.0256 - val_acc: 0.9939\n",
      "Epoch 29/30\n",
      "54546/54546 [==============================] - 2s 37us/step - loss: 0.0362 - acc: 0.9884 - val_loss: 0.0283 - val_acc: 0.9921\n",
      "Epoch 30/30\n",
      "54546/54546 [==============================] - 2s 38us/step - loss: 0.0387 - acc: 0.9869 - val_loss: 0.0253 - val_acc: 0.9943\n"
     ]
    }
   ],
   "source": [
    "\"\"\"CNN-3-CONV-LAYERS\"\"\"\n",
    "model_4.compile(loss='categorical_crossentropy',\n",
    "              optimizer='adam', metrics=['accuracy'])\n",
    "train_history_4= model_4.fit(x= x_train, y= y_train, validation_split= Vld_Splt,\n",
    "                         epochs= epochs, batch_size= batch_size, verbose=1)"
   ]
  },
  {
   "cell_type": "code",
   "execution_count": 18,
   "metadata": {},
   "outputs": [
    {
     "name": "stdout",
     "output_type": "stream",
     "text": [
      "10000/10000 [==============================] - 1s 110us/step\n"
     ]
    },
    {
     "data": {
      "text/plain": [
       "0.9775"
      ]
     },
     "execution_count": 18,
     "metadata": {},
     "output_type": "execute_result"
    }
   ],
   "source": [
    "\"\"\"one-CONV-LAYERS-THICK\"\"\"\n",
    "scores_0= model_0.evaluate(x_test, y_test)\n",
    "scores_0[1]"
   ]
  },
  {
   "cell_type": "code",
   "execution_count": 19,
   "metadata": {},
   "outputs": [
    {
     "name": "stdout",
     "output_type": "stream",
     "text": [
      "10000/10000 [==============================] - 1s 79us/step\n"
     ]
    },
    {
     "data": {
      "text/plain": [
       "0.9882"
      ]
     },
     "execution_count": 19,
     "metadata": {},
     "output_type": "execute_result"
    }
   ],
   "source": [
    "\"\"\"two-CONV-LAYERS-THICK\"\"\"\n",
    "scores_1= model_1.evaluate(x_test, y_test)\n",
    "scores_1[1]"
   ]
  },
  {
   "cell_type": "code",
   "execution_count": 20,
   "metadata": {},
   "outputs": [
    {
     "name": "stdout",
     "output_type": "stream",
     "text": [
      "10000/10000 [==============================] - 1s 75us/step\n"
     ]
    },
    {
     "data": {
      "text/plain": [
       "0.9929"
      ]
     },
     "execution_count": 20,
     "metadata": {},
     "output_type": "execute_result"
    }
   ],
   "source": [
    "\"\"\"three-CONV-LAYERS-THICK\"\"\"\n",
    "scores_2= model_2.evaluate(x_test, y_test)\n",
    "scores_2[1]"
   ]
  },
  {
   "cell_type": "code",
   "execution_count": 21,
   "metadata": {},
   "outputs": [
    {
     "name": "stdout",
     "output_type": "stream",
     "text": [
      "10000/10000 [==============================] - 1s 81us/step\n"
     ]
    },
    {
     "data": {
      "text/plain": [
       "0.992"
      ]
     },
     "execution_count": 21,
     "metadata": {},
     "output_type": "execute_result"
    }
   ],
   "source": [
    "\"\"\"four-CONV-LAYERS-THICK\"\"\"\n",
    "scores_3= model_3.evaluate(x_test, y_test)\n",
    "scores_3[1]"
   ]
  },
  {
   "cell_type": "code",
   "execution_count": 22,
   "metadata": {},
   "outputs": [
    {
     "name": "stdout",
     "output_type": "stream",
     "text": [
      "10000/10000 [==============================] - 1s 60us/step\n"
     ]
    },
    {
     "data": {
      "text/plain": [
       "0.9928"
      ]
     },
     "execution_count": 22,
     "metadata": {},
     "output_type": "execute_result"
    }
   ],
   "source": [
    "\"\"\"CNN\"\"\"\n",
    "scores_4= model_4.evaluate(x_test, y_test)\n",
    "scores_4[1]"
   ]
  },
  {
   "cell_type": "code",
   "execution_count": 23,
   "metadata": {},
   "outputs": [],
   "source": [
    "import matplotlib.pyplot as plt\n",
    "def show_train_history(train_history, train, validation):\n",
    "    plt.plot(train_history.history[train])\n",
    "    plt.plot(train_history.history[validation])\n",
    "    plt.title('Train History')\n",
    "    plt.ylabel(train)\n",
    "    plt.xlabel('Epoch')\n",
    "    plt.legend(['train', 'validation'], loc='best')\n",
    "    plt.show()"
   ]
  },
  {
   "cell_type": "code",
   "execution_count": 24,
   "metadata": {},
   "outputs": [
    {
     "data": {
      "image/png": "[encoded data removed]",
      "text/plain": [
       "<Figure size 432x288 with 1 Axes>"
      ]
     },
     "metadata": {
      "needs_background": "light"
     },
     "output_type": "display_data"
    }
   ],
   "source": [
    "show_train_history(train_history_0, 'acc', 'val_acc')"
   ]
  },
  {
   "cell_type": "code",
   "execution_count": 25,
   "metadata": {},
   "outputs": [
    {
     "data": {
      "image/png": "[encoded data removed]",
      "text/plain": [
       "<Figure size 432x288 with 1 Axes>"
      ]
     },
     "metadata": {
      "needs_background": "light"
     },
     "output_type": "display_data"
    }
   ],
   "source": [
    "show_train_history(train_history_1, 'acc', 'val_acc')"
   ]
  },
  {
   "cell_type": "code",
   "execution_count": 26,
   "metadata": {},
   "outputs": [
    {
     "data": {
      "image/png": "[encoded data removed]",
      "text/plain": [
       "<Figure size 432x288 with 1 Axes>"
      ]
     },
     "metadata": {
      "needs_background": "light"
     },
     "output_type": "display_data"
    }
   ],
   "source": [
    "show_train_history(train_history_2, 'acc', 'val_acc')"
   ]
  },
  {
   "cell_type": "code",
   "execution_count": 27,
   "metadata": {},
   "outputs": [
    {
     "data": {
      "image/png": "[encoded data removed]",
      "text/plain": [
       "<Figure size 432x288 with 1 Axes>"
      ]
     },
     "metadata": {
      "needs_background": "light"
     },
     "output_type": "display_data"
    }
   ],
   "source": [
    "show_train_history(train_history_3, 'acc', 'val_acc')"
   ]
  },
  {
   "cell_type": "code",
   "execution_count": 28,
   "metadata": {},
   "outputs": [
    {
     "data": {
      "image/png": "[encoded data removed]",
      "text/plain": [
       "<Figure size 432x288 with 1 Axes>"
      ]
     },
     "metadata": {
      "needs_background": "light"
     },
     "output_type": "display_data"
    }
   ],
   "source": [
    "show_train_history(train_history_4, 'acc', 'val_acc')"
   ]
  },
  {
   "cell_type": "code",
   "execution_count": 29,
   "metadata": {},
   "outputs": [],
   "source": [
    "# show_train_history(train_history_5, 'acc', 'val_acc')"
   ]
  },
  {
   "cell_type": "code",
   "execution_count": 30,
   "metadata": {},
   "outputs": [],
   "source": [
    "# show_train_history(train_history_6, 'acc', 'val_acc')"
   ]
  },
  {
   "cell_type": "code",
   "execution_count": 31,
   "metadata": {},
   "outputs": [
    {
     "data": {
      "image/png": "[encoded data removed]",
      "text/plain": [
       "<Figure size 432x288 with 1 Axes>"
      ]
     },
     "metadata": {
      "needs_background": "light"
     },
     "output_type": "display_data"
    }
   ],
   "source": [
    "plt.plot(train_history_0.history['val_acc'], 'r-')\n",
    "plt.plot(train_history_1.history['val_acc'], 'b--')\n",
    "plt.plot(train_history_2.history['val_acc'], 'k.')\n",
    "plt.plot(train_history_3.history['val_acc'], 'b-')\n",
    "plt.plot(train_history_4.history['val_acc'], 'h-')\n",
    "# plt.plot(train_history_5.history['val_acc'], 'c-')\n",
    "# plt.plot(train_history_6.history['val_acc'], 'g*-')\n",
    "# plt.plot(train_history_7.history['val_acc'], 'k-.')\n",
    "plt.title('Training on MNIST')\n",
    "plt.ylabel('Validation Accuracy')\n",
    "plt.xlabel('Epoch')\n",
    "plt.legend(['CapsNet: 1-conv','CapsNet: 2-conv','CapsNet: 3-conv','CapsNet: 4-conv','CNN-2CONV'], loc='best')\n",
    "plt.show()"
   ]
  },
  {
   "cell_type": "code",
   "execution_count": null,
   "metadata": {},
   "outputs": [],
   "source": []
  }
 ],
 "metadata": {
  "kernelspec": {
   "display_name": "Python 3",
   "language": "python",
   "name": "python3"
  },
  "language_info": {
   "codemirror_mode": {
    "name": "ipython",
    "version": 3
   },
   "file_extension": ".py",
   "mimetype": "text/x-python",
   "name": "python",
   "nbconvert_exporter": "python",
   "pygments_lexer": "ipython3",
   "version": "3.6.10"
  }
 },
 "nbformat": 4,
 "nbformat_minor": 2
}
