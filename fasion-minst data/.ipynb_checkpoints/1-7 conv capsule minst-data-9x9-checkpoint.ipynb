{
 "cells": [
  {
   "cell_type": "code",
   "execution_count": 1,
   "metadata": {},
   "outputs": [],
   "source": [
    "import os\n"
   ]
  },
  {
   "cell_type": "code",
   "execution_count": 2,
   "metadata": {},
   "outputs": [
    {
     "name": "stderr",
     "output_type": "stream",
     "text": [
      "Using TensorFlow backend.\n",
      "C:\\Users\\ASUS\\Anaconda3\\envs\\tensorflow-gpu\\lib\\site-packages\\tensorflow\\python\\framework\\dtypes.py:526: FutureWarning: Passing (type, 1) or '1type' as a synonym of type is deprecated; in a future version of numpy, it will be understood as (type, (1,)) / '(1,)type'.\n",
      "  _np_qint8 = np.dtype([(\"qint8\", np.int8, 1)])\n",
      "C:\\Users\\ASUS\\Anaconda3\\envs\\tensorflow-gpu\\lib\\site-packages\\tensorflow\\python\\framework\\dtypes.py:527: FutureWarning: Passing (type, 1) or '1type' as a synonym of type is deprecated; in a future version of numpy, it will be understood as (type, (1,)) / '(1,)type'.\n",
      "  _np_quint8 = np.dtype([(\"quint8\", np.uint8, 1)])\n",
      "C:\\Users\\ASUS\\Anaconda3\\envs\\tensorflow-gpu\\lib\\site-packages\\tensorflow\\python\\framework\\dtypes.py:528: FutureWarning: Passing (type, 1) or '1type' as a synonym of type is deprecated; in a future version of numpy, it will be understood as (type, (1,)) / '(1,)type'.\n",
      "  _np_qint16 = np.dtype([(\"qint16\", np.int16, 1)])\n",
      "C:\\Users\\ASUS\\Anaconda3\\envs\\tensorflow-gpu\\lib\\site-packages\\tensorflow\\python\\framework\\dtypes.py:529: FutureWarning: Passing (type, 1) or '1type' as a synonym of type is deprecated; in a future version of numpy, it will be understood as (type, (1,)) / '(1,)type'.\n",
      "  _np_quint16 = np.dtype([(\"quint16\", np.uint16, 1)])\n",
      "C:\\Users\\ASUS\\Anaconda3\\envs\\tensorflow-gpu\\lib\\site-packages\\tensorflow\\python\\framework\\dtypes.py:530: FutureWarning: Passing (type, 1) or '1type' as a synonym of type is deprecated; in a future version of numpy, it will be understood as (type, (1,)) / '(1,)type'.\n",
      "  _np_qint32 = np.dtype([(\"qint32\", np.int32, 1)])\n",
      "C:\\Users\\ASUS\\Anaconda3\\envs\\tensorflow-gpu\\lib\\site-packages\\tensorflow\\python\\framework\\dtypes.py:535: FutureWarning: Passing (type, 1) or '1type' as a synonym of type is deprecated; in a future version of numpy, it will be understood as (type, (1,)) / '(1,)type'.\n",
      "  np_resource = np.dtype([(\"resource\", np.ubyte, 1)])\n"
     ]
    }
   ],
   "source": [
    "from __future__ import print_function\n",
    "from keras import backend as K\n",
    "from keras.layers import Layer\n",
    "from keras import activations\n",
    "from keras import utils\n",
    "from keras.datasets import fashion_mnist\n",
    "from keras.datasets import mnist\n",
    "from keras.models import Model\n",
    "from keras.layers import *\n",
    "from keras.preprocessing.image import ImageDataGenerator\n",
    "import cv2"
   ]
  },
  {
   "cell_type": "code",
   "execution_count": 3,
   "metadata": {},
   "outputs": [],
   "source": [
    "from tensorflow.compat.v1 import ConfigProto\n",
    "from tensorflow.compat.v1 import InteractiveSession\n",
    "\n",
    "config = ConfigProto()\n",
    "config.gpu_options.allow_growth = True\n",
    "session = InteractiveSession(config=config)"
   ]
  },
  {
   "cell_type": "code",
   "execution_count": 4,
   "metadata": {},
   "outputs": [],
   "source": [
    "Vld_Splt= 0.0909\n",
    "batch_size = 200\n",
    "num_classes = 10\n",
    "epochs = 30"
   ]
  },
  {
   "cell_type": "code",
   "execution_count": 5,
   "metadata": {},
   "outputs": [],
   "source": [
    "(x_train, y_train), (x_test, y_test) = fashion_mnist.load_data()\n",
    "\n",
    "x_train = x_train.reshape(x_train.shape[0], x_train.shape[1], x_train.shape[2], 1)\\\n",
    "         .astype('float32')\n",
    "x_test = x_test.reshape(x_test.shape[0], x_test.shape[1], x_test.shape[2], 1).\\\n",
    "         astype('float32')\n",
    "x_train /= 255\n",
    "x_test /= 255\n",
    "y_train = utils.to_categorical(y_train, num_classes)\n",
    "y_test = utils.to_categorical(y_test, num_classes)"
   ]
  },
  {
   "cell_type": "code",
   "execution_count": 6,
   "metadata": {},
   "outputs": [
    {
     "name": "stdout",
     "output_type": "stream",
     "text": [
      "(60000, 10) \n",
      " (10000, 10) \n",
      " (60000, 28, 28, 1) \n",
      " (10000, 28, 28, 1)\n"
     ]
    }
   ],
   "source": [
    "print(y_train.shape, '\\n',y_test.shape,'\\n',\n",
    "      x_train.shape,'\\n', x_test.shape)"
   ]
  },
  {
   "cell_type": "code",
   "execution_count": 7,
   "metadata": {},
   "outputs": [],
   "source": [
    "# the squashing function.\n",
    "# we use 0.5 in stead of 1 in hinton's paper.\n",
    "# if 1, the norm of vector will be zoomed out.\n",
    "# if 0.5, the norm will be zoomed in while original norm is less than 0.5\n",
    "# and be zoomed out while original norm is greater than 0.5.\n",
    "def squash(x, axis=-1):\n",
    "    s_squared_norm = K.sum(K.square(x), axis, keepdims=True) + K.epsilon()\n",
    "    scale = K.sqrt(s_squared_norm) / (0.5 + s_squared_norm)\n",
    "    return scale * x\n",
    "\n",
    "\n",
    "# define our own softmax function instead of K.softmax\n",
    "# because K.softmax can not specify axis.\n",
    "def softmax(x, axis=-1):\n",
    "    ex = K.exp(x - K.max(x, axis=axis, keepdims=True))\n",
    "    return ex / K.sum(ex, axis=axis, keepdims=True)\n",
    "\n",
    "\n",
    "# define the margin loss like hinge loss\n",
    "def margin_loss(y_true, y_pred):\n",
    "    lamb, margin = 0.5, 0.1\n",
    "    return K.sum(y_true * K.square(K.relu(1 - margin - y_pred)) + lamb * (\n",
    "        1 - y_true) * K.square(K.relu(y_pred - margin)), axis=-1)\n",
    "\n",
    "\n",
    "class Capsule(Layer):\n",
    "    \"\"\"A Capsule Implement with Pure Keras\n",
    "    There are two vesions of Capsule.\n",
    "    One is like dense layer (for the fixed-shape input),\n",
    "    and the other is like timedistributed dense (for various length input).\n",
    "\n",
    "    The input shape of Capsule must be (batch_size,\n",
    "                                        input_num_capsule,\n",
    "                                        input_dim_capsule\n",
    "                                       )\n",
    "    and the output shape is (batch_size,\n",
    "                             num_capsule,\n",
    "                             dim_capsule\n",
    "                            )\n",
    "\n",
    "    Capsule Implement is from https://github.com/bojone/Capsule/\n",
    "    Capsule Paper: https://arxiv.org/abs/1710.09829\n",
    "    \"\"\"\n",
    "\n",
    "    def __init__(self,\n",
    "                 num_capsule,\n",
    "                 dim_capsule,\n",
    "                 routings=3,\n",
    "                 share_weights=True,\n",
    "                 activation='squash',\n",
    "                 **kwargs):\n",
    "        super(Capsule, self).__init__(**kwargs)\n",
    "        self.num_capsule = num_capsule\n",
    "        self.dim_capsule = dim_capsule\n",
    "        self.routings = routings\n",
    "        self.share_weights = share_weights\n",
    "        if activation == 'squash':\n",
    "            self.activation = squash\n",
    "        else:\n",
    "            self.activation = activations.get(activation)\n",
    "\n",
    "    def build(self, input_shape):\n",
    "        input_dim_capsule = input_shape[-1]\n",
    "        if self.share_weights:\n",
    "            self.kernel = self.add_weight(\n",
    "                name='capsule_kernel',\n",
    "                shape=(1, input_dim_capsule,\n",
    "                       self.num_capsule * self.dim_capsule),\n",
    "                initializer='glorot_uniform',\n",
    "                trainable=True)\n",
    "        else:\n",
    "            input_num_capsule = input_shape[-2]\n",
    "            self.kernel = self.add_weight(\n",
    "                name='capsule_kernel',\n",
    "                shape=(input_num_capsule, input_dim_capsule,\n",
    "                       self.num_capsule * self.dim_capsule),\n",
    "                initializer='glorot_uniform',\n",
    "                trainable=True)\n",
    "\n",
    "    def call(self, inputs):\n",
    "        \"\"\"Following the routing algorithm from Hinton's paper,\n",
    "        but replace b = b + <u,v> with b = <u,v>.\n",
    "\n",
    "        This change can improve the feature representation of Capsule.\n",
    "\n",
    "        However, you can replace\n",
    "            b = K.batch_dot(outputs, hat_inputs, [2, 3])\n",
    "        with\n",
    "            b += K.batch_dot(outputs, hat_inputs, [2, 3])\n",
    "        to realize a standard routing.\n",
    "        \"\"\"\n",
    "\n",
    "        if self.share_weights:\n",
    "            hat_inputs = K.conv1d(inputs, self.kernel)\n",
    "        else:\n",
    "            hat_inputs = K.local_conv1d(inputs, self.kernel, [1], [1])\n",
    "\n",
    "        batch_size = K.shape(inputs)[0]\n",
    "        input_num_capsule = K.shape(inputs)[1]\n",
    "        hat_inputs = K.reshape(hat_inputs,\n",
    "                               (batch_size, input_num_capsule,\n",
    "                                self.num_capsule, self.dim_capsule))\n",
    "        hat_inputs = K.permute_dimensions(hat_inputs, (0, 2, 1, 3))\n",
    "\n",
    "        b = K.zeros_like(hat_inputs[:, :, :, 0])\n",
    "        for i in range(self.routings):\n",
    "            c = softmax(b, 1)\n",
    "            o = self.activation(K.batch_dot(c, hat_inputs, [2, 2]))\n",
    "            if i < self.routings - 1:\n",
    "                b = K.batch_dot(o, hat_inputs, [2, 3])\n",
    "                if K.backend() == 'theano':\n",
    "                    o = K.sum(o, axis=1)\n",
    "\n",
    "        return o\n",
    "\n",
    "    def compute_output_shape(self, input_shape):\n",
    "        return (None, self.num_capsule, self.dim_capsule)"
   ]
  },
  {
   "cell_type": "code",
   "execution_count": 8,
   "metadata": {},
   "outputs": [
    {
     "name": "stdout",
     "output_type": "stream",
     "text": [
      "WARNING:tensorflow:From C:\\Users\\ASUS\\Anaconda3\\envs\\tensorflow-gpu\\lib\\site-packages\\tensorflow\\python\\framework\\op_def_library.py:263: colocate_with (from tensorflow.python.framework.ops) is deprecated and will be removed in a future version.\n",
      "Instructions for updating:\n",
      "Colocations handled automatically by placer.\n",
      "WARNING:tensorflow:From C:\\Users\\ASUS\\Anaconda3\\envs\\tensorflow-gpu\\lib\\site-packages\\keras\\backend\\tensorflow_backend.py:3445: calling dropout (from tensorflow.python.ops.nn_ops) with keep_prob is deprecated and will be removed in a future version.\n",
      "Instructions for updating:\n",
      "Please use `rate` instead of `keep_prob`. Rate should be set to `rate = 1 - keep_prob`.\n",
      "_________________________________________________________________\n",
      "Layer (type)                 Output Shape              Param #   \n",
      "=================================================================\n",
      "input_1 (InputLayer)         (None, 28, 28, 1)         0         \n",
      "_________________________________________________________________\n",
      "conv2d_1 (Conv2D)            (None, 20, 20, 240)       19680     \n",
      "_________________________________________________________________\n",
      "dropout_1 (Dropout)          (None, 20, 20, 240)       0         \n",
      "_________________________________________________________________\n",
      "reshape_1 (Reshape)          (None, 400, 240)          0         \n",
      "_________________________________________________________________\n",
      "capsule_1 (Capsule)          (None, 10, 16)            38400     \n",
      "_________________________________________________________________\n",
      "lambda_1 (Lambda)            (None, 10)                0         \n",
      "=================================================================\n",
      "Total params: 58,080\n",
      "Trainable params: 58,080\n",
      "Non-trainable params: 0\n",
      "_________________________________________________________________\n"
     ]
    }
   ],
   "source": [
    "\"\"\"one-CONV-LAYERS-THICK\"\"\"\n",
    "input_image = Input(shape=(x_train.shape[1], x_train.shape[2], x_train.shape[3]))\n",
    "x_0 = Conv2D(filters= 240, kernel_size= 9, activation='relu', \n",
    "             padding= 'valid')(input_image)\n",
    "x_0= Dropout(0.1)(x_0)\n",
    "\n",
    "\n",
    "\"\"\"now we reshape it as (batch_size, input_num_capsule, input_dim_capsule)\n",
    "then connect a Capsule layer.\n",
    "\n",
    "the output of final model is the lengths of 10 Capsule, whose dim=16.\n",
    "\n",
    "the length of Capsule is the proba,\n",
    "so the problem becomes a 10 two-classification problem.\n",
    "\"\"\"\n",
    "\n",
    "x_0 = Reshape((-1, 240))(x_0)\n",
    "capsule_0 = Capsule(num_classes, 16, 3, True)(x_0)\n",
    "output_0 = Lambda(lambda z: K.sqrt(K.sum(K.square(z), 2)))(capsule_0)\n",
    "model_0 = Model(inputs= input_image, outputs= output_0)\n",
    "\n",
    "# we use a margin loss\n",
    "model_0.compile(loss =margin_loss, optimizer='adam', metrics=['accuracy'])\n",
    "model_0.summary()\n",
    "\n",
    "# we can compare the performance with or without data augmentation\n",
    "data_augmentation = False"
   ]
  },
  {
   "cell_type": "code",
   "execution_count": 9,
   "metadata": {},
   "outputs": [
    {
     "name": "stdout",
     "output_type": "stream",
     "text": [
      "_________________________________________________________________\n",
      "Layer (type)                 Output Shape              Param #   \n",
      "=================================================================\n",
      "input_2 (InputLayer)         (None, 28, 28, 1)         0         \n",
      "_________________________________________________________________\n",
      "conv2d_2 (Conv2D)            (None, 20, 20, 10)        820       \n",
      "_________________________________________________________________\n",
      "dropout_2 (Dropout)          (None, 20, 20, 10)        0         \n",
      "_________________________________________________________________\n",
      "conv2d_3 (Conv2D)            (None, 12, 12, 52)        42172     \n",
      "_________________________________________________________________\n",
      "dropout_3 (Dropout)          (None, 12, 12, 52)        0         \n",
      "_________________________________________________________________\n",
      "reshape_2 (Reshape)          (None, 144, 52)           0         \n",
      "_________________________________________________________________\n",
      "capsule_2 (Capsule)          (None, 10, 16)            8320      \n",
      "_________________________________________________________________\n",
      "lambda_2 (Lambda)            (None, 10)                0         \n",
      "=================================================================\n",
      "Total params: 51,312\n",
      "Trainable params: 51,312\n",
      "Non-trainable params: 0\n",
      "_________________________________________________________________\n"
     ]
    }
   ],
   "source": [
    "\"\"\"two-CONV-LAYERS-THICK\"\"\"\n",
    "input_image = Input(shape=(x_train.shape[1], x_train.shape[2], x_train.shape[3]))\n",
    "x_1 = Conv2D(filters= 10, kernel_size= 9, activation='relu', \n",
    "             padding= 'valid')(input_image)\n",
    "x_1= Dropout(0.1)(x_1)\n",
    "x_1 = Conv2D(filters= 52, kernel_size= 9, activation='relu',\n",
    "             strides= 1)(x_1)\n",
    "x_1 = Dropout(0.1)(x_1)\n",
    "\n",
    "\n",
    "\"\"\"now we reshape it as (batch_size, input_num_capsule, input_dim_capsule)\n",
    "then connect a Capsule layer.\n",
    "\n",
    "the output of final model is the lengths of 10 Capsule, whose dim=16.\n",
    "\n",
    "the length of Capsule is the proba,\n",
    "so the problem becomes a 10 two-classification problem.\n",
    "\"\"\"\n",
    "\n",
    "x_1 = Reshape((-1, 52))(x_1)\n",
    "capsule_1 = Capsule(num_classes, 16, 3, True)(x_1)\n",
    "output_1 = Lambda(lambda z: K.sqrt(K.sum(K.square(z), 2)))(capsule_1)\n",
    "model_1= Model(inputs= input_image, outputs= output_1)\n",
    "\n",
    "# we use a margin loss\n",
    "model_1.compile(loss =margin_loss, optimizer='adam', metrics=['accuracy'])\n",
    "model_1.summary()\n",
    "\n",
    "# we can compare the performance with or without data augmentation\n",
    "data_augmentation = False"
   ]
  },
  {
   "cell_type": "code",
   "execution_count": 10,
   "metadata": {},
   "outputs": [
    {
     "name": "stdout",
     "output_type": "stream",
     "text": [
      "_________________________________________________________________\n",
      "Layer (type)                 Output Shape              Param #   \n",
      "=================================================================\n",
      "input_3 (InputLayer)         (None, 28, 28, 1)         0         \n",
      "_________________________________________________________________\n",
      "conv2d_4 (Conv2D)            (None, 20, 20, 10)        820       \n",
      "_________________________________________________________________\n",
      "dropout_4 (Dropout)          (None, 20, 20, 10)        0         \n",
      "_________________________________________________________________\n",
      "conv2d_5 (Conv2D)            (None, 12, 12, 20)        16220     \n",
      "_________________________________________________________________\n",
      "dropout_5 (Dropout)          (None, 12, 12, 20)        0         \n",
      "_________________________________________________________________\n",
      "conv2d_6 (Conv2D)            (None, 4, 4, 22)          35662     \n",
      "_________________________________________________________________\n",
      "dropout_6 (Dropout)          (None, 4, 4, 22)          0         \n",
      "_________________________________________________________________\n",
      "reshape_3 (Reshape)          (None, 16, 22)            0         \n",
      "_________________________________________________________________\n",
      "capsule_3 (Capsule)          (None, 10, 16)            3520      \n",
      "_________________________________________________________________\n",
      "lambda_3 (Lambda)            (None, 10)                0         \n",
      "=================================================================\n",
      "Total params: 56,222\n",
      "Trainable params: 56,222\n",
      "Non-trainable params: 0\n",
      "_________________________________________________________________\n"
     ]
    }
   ],
   "source": [
    "\"\"\"three-CONV-LAYERS-THICK\"\"\"\n",
    "input_image = Input(shape=(x_train.shape[1], x_train.shape[2], x_train.shape[3]))\n",
    "x_2 = Conv2D(filters=10, kernel_size= 9, activation='relu', \n",
    "             padding= 'valid')(input_image)\n",
    "x_2= Dropout(0.1)(x_2)\n",
    "x_2 = Conv2D(filters= 20 , kernel_size= 9, activation='relu',\n",
    "             strides= 1)(x_2)\n",
    "x_2 = Dropout(0.1)(x_2)\n",
    "x_2 = Conv2D(filters= 22, kernel_size= 9, activation='relu',\n",
    "             strides= 1)(x_2)\n",
    "x_2 = Dropout(0.1)(x_2)\n",
    "\n",
    "\n",
    "\"\"\"now we reshape it as (batch_size, input_num_capsule, input_dim_capsule)\n",
    "then connect a Capsule layer.\n",
    "\n",
    "the output of final model is the lengths of 10 Capsule, whose dim=16.\n",
    "\n",
    "the length of Capsule is the proba,\n",
    "so the problem becomes a 10 two-classification problem.\n",
    "\"\"\"\n",
    "\n",
    "x_2 = Reshape((-1, 22))(x_2)\n",
    "capsule_2 = Capsule(num_classes, 16, 3, True)(x_2)\n",
    "output_2 = Lambda(lambda z: K.sqrt(K.sum(K.square(z), 2)))(capsule_2)\n",
    "model_2= Model(inputs= input_image, outputs= output_2)\n",
    "\n",
    "# we use a margin loss\n",
    "model_2.compile(loss =margin_loss, optimizer='adam', metrics=['accuracy'])\n",
    "model_2.summary()\n",
    "\n",
    "# we can compare the performance with or without data augmentation\n",
    "data_augmentation = False"
   ]
  },
  {
   "cell_type": "code",
   "execution_count": 11,
   "metadata": {},
   "outputs": [
    {
     "name": "stdout",
     "output_type": "stream",
     "text": [
      "_________________________________________________________________\n",
      "Layer (type)                 Output Shape              Param #   \n",
      "=================================================================\n",
      "input_4 (InputLayer)         (None, 28, 28, 1)         0         \n",
      "_________________________________________________________________\n",
      "conv2d_7 (Conv2D)            (None, 28, 28, 10)        820       \n",
      "_________________________________________________________________\n",
      "dropout_7 (Dropout)          (None, 28, 28, 10)        0         \n",
      "_________________________________________________________________\n",
      "conv2d_8 (Conv2D)            (None, 20, 20, 15)        12165     \n",
      "_________________________________________________________________\n",
      "dropout_8 (Dropout)          (None, 20, 20, 15)        0         \n",
      "_________________________________________________________________\n",
      "conv2d_9 (Conv2D)            (None, 12, 12, 15)        18240     \n",
      "_________________________________________________________________\n",
      "dropout_9 (Dropout)          (None, 12, 12, 15)        0         \n",
      "_________________________________________________________________\n",
      "conv2d_10 (Conv2D)           (None, 4, 4, 20)          24320     \n",
      "_________________________________________________________________\n",
      "dropout_10 (Dropout)         (None, 4, 4, 20)          0         \n",
      "_________________________________________________________________\n",
      "reshape_4 (Reshape)          (None, 16, 20)            0         \n",
      "_________________________________________________________________\n",
      "capsule_4 (Capsule)          (None, 10, 16)            3200      \n",
      "_________________________________________________________________\n",
      "lambda_4 (Lambda)            (None, 10)                0         \n",
      "=================================================================\n",
      "Total params: 58,745\n",
      "Trainable params: 58,745\n",
      "Non-trainable params: 0\n",
      "_________________________________________________________________\n"
     ]
    }
   ],
   "source": [
    "\"\"\"four-CONV-LAYERS-THICK\"\"\"\n",
    "input_image = Input(shape=(x_train.shape[1], x_train.shape[2], x_train.shape[3]))\n",
    "x_3 = Conv2D(filters= 10, kernel_size= 9, activation='relu', \n",
    "              padding= 'same')(input_image)\n",
    "x_3= Dropout(0.1)(x_3)\n",
    "x_3 = Conv2D(filters= 15 ,kernel_size= 9, activation='relu',\n",
    "             strides= 1)(x_3)\n",
    "x_3 = Dropout(0.1)(x_3)\n",
    "x_3 = Conv2D(filters= 15, kernel_size= 9, activation='relu',\n",
    "             strides= 1)(x_3)\n",
    "x_3= Dropout(0.1)(x_3)\n",
    "x_3 = Conv2D(filters= 20,kernel_size= 9, activation='relu',\n",
    "             strides= 1)(x_3)\n",
    "x_3= Dropout(0.1)(x_3)\n",
    "\n",
    "\n",
    "\"\"\"now we reshape it as (batch_size, input_num_capsule, input_dim_capsule)\n",
    "then connect a Capsule layer.\n",
    "\n",
    "the output of final model is the lengths of 10 Capsule, whose dim=16.\n",
    "\n",
    "the length of Capsule is the proba,\n",
    "so the problem becomes a 10 two-classification problem.\n",
    "\"\"\"\n",
    "\n",
    "x_3 = Reshape((-1, 20))(x_3)\n",
    "capsule_3 = Capsule(num_classes, 16, 3, True)(x_3)\n",
    "output_3 = Lambda(lambda z: K.sqrt(K.sum(K.square(z), 2)))(capsule_3)\n",
    "model_3= Model(inputs= input_image, outputs= output_3)\n",
    "\n",
    "# we use a margin loss\n",
    "model_3.compile(loss =margin_loss, optimizer='adam', metrics=['accuracy'])\n",
    "model_3.summary()\n",
    "\n",
    "# we can compare the performance with or without data augmentation\n",
    "data_augmentation = False"
   ]
  },
  {
   "cell_type": "code",
   "execution_count": 12,
   "metadata": {},
   "outputs": [
    {
     "name": "stdout",
     "output_type": "stream",
     "text": [
      "_________________________________________________________________\n",
      "Layer (type)                 Output Shape              Param #   \n",
      "=================================================================\n",
      "conv2d_11 (Conv2D)           (None, 20, 20, 5)         410       \n",
      "_________________________________________________________________\n",
      "max_pooling2d_1 (MaxPooling2 (None, 10, 10, 5)         0         \n",
      "_________________________________________________________________\n",
      "conv2d_12 (Conv2D)           (None, 10, 10, 20)        8120      \n",
      "_________________________________________________________________\n",
      "dropout_11 (Dropout)         (None, 10, 10, 20)        0         \n",
      "_________________________________________________________________\n",
      "max_pooling2d_2 (MaxPooling2 (None, 5, 5, 20)          0         \n",
      "_________________________________________________________________\n",
      "flatten_1 (Flatten)          (None, 500)               0         \n",
      "_________________________________________________________________\n",
      "dropout_12 (Dropout)         (None, 500)               0         \n",
      "_________________________________________________________________\n",
      "dense_1 (Dense)              (None, 256)               128256    \n",
      "_________________________________________________________________\n",
      "dense_2 (Dense)              (None, 10)                2570      \n",
      "=================================================================\n",
      "Total params: 139,356\n",
      "Trainable params: 139,356\n",
      "Non-trainable params: 0\n",
      "_________________________________________________________________\n",
      "None\n"
     ]
    }
   ],
   "source": [
    "\"\"\"CNN-3-CONV-LAYERS\"\"\"\n",
    "from keras.models import Sequential\n",
    "from keras.layers import Dense, Dropout, Activation, Flatten, Conv2D, MaxPooling2D, \\\n",
    "                         ZeroPadding2D\n",
    "\n",
    "model_4= Sequential()\n",
    "model_4.add(Conv2D(filters= 5, kernel_size= (9, 9), padding= 'valid', \n",
    "                   input_shape=(x_train.shape[1], x_train.shape[2], x_train.shape[3]), \n",
    "                   activation='relu'))\n",
    "model_4.add(MaxPooling2D(pool_size=(2,2)))\n",
    "model_4.add(Conv2D(filters= 20, kernel_size= (9, 9), \n",
    "                    padding='same', activation='relu'))\n",
    "model_4.add(Dropout(0.4))\n",
    "model_4.add(MaxPooling2D(pool_size=(2,2)))\n",
    "\n",
    "model_4.add(Flatten())\n",
    "model_4.add(Dropout(0.6))\n",
    "model_4.add(Dense(256, activation='relu'))\n",
    "model_4.add(Dense(num_classes, activation='softmax'))\n",
    "print(model_4.summary())"
   ]
  },
  {
   "cell_type": "code",
   "execution_count": 13,
   "metadata": {},
   "outputs": [
    {
     "name": "stdout",
     "output_type": "stream",
     "text": [
      "Not using data augmentation.\n",
      "WARNING:tensorflow:From C:\\Users\\ASUS\\Anaconda3\\envs\\tensorflow-gpu\\lib\\site-packages\\tensorflow\\python\\ops\\math_ops.py:3066: to_int32 (from tensorflow.python.ops.math_ops) is deprecated and will be removed in a future version.\n",
      "Instructions for updating:\n",
      "Use tf.cast instead.\n",
      "WARNING:tensorflow:From C:\\Users\\ASUS\\Anaconda3\\envs\\tensorflow-gpu\\lib\\site-packages\\tensorflow\\python\\ops\\math_grad.py:102: div (from tensorflow.python.ops.math_ops) is deprecated and will be removed in a future version.\n",
      "Instructions for updating:\n",
      "Deprecated in favor of operator or tf.math.divide.\n",
      "Train on 54546 samples, validate on 5454 samples\n",
      "Epoch 1/30\n",
      "54546/54546 [==============================] - 13s 235us/step - loss: 0.2860 - acc: 0.6785 - val_loss: 0.1808 - val_acc: 0.7743\n",
      "Epoch 2/30\n",
      "54546/54546 [==============================] - 11s 202us/step - loss: 0.1655 - acc: 0.7840 - val_loss: 0.1544 - val_acc: 0.8040\n",
      "Epoch 3/30\n",
      "54546/54546 [==============================] - 11s 207us/step - loss: 0.1508 - acc: 0.8044 - val_loss: 0.1425 - val_acc: 0.8181\n",
      "Epoch 4/30\n",
      "54546/54546 [==============================] - 11s 204us/step - loss: 0.1428 - acc: 0.8168 - val_loss: 0.1380 - val_acc: 0.8256\n",
      "Epoch 5/30\n",
      "54546/54546 [==============================] - 11s 203us/step - loss: 0.1360 - acc: 0.8255 - val_loss: 0.1397 - val_acc: 0.8262\n",
      "Epoch 6/30\n",
      "54546/54546 [==============================] - 11s 202us/step - loss: 0.1324 - acc: 0.8316 - val_loss: 0.1289 - val_acc: 0.8370\n",
      "Epoch 7/30\n",
      "54546/54546 [==============================] - 11s 205us/step - loss: 0.1288 - acc: 0.8351 - val_loss: 0.1261 - val_acc: 0.8399\n",
      "Epoch 8/30\n",
      "54546/54546 [==============================] - 11s 205us/step - loss: 0.1261 - acc: 0.8404 - val_loss: 0.1194 - val_acc: 0.8432\n",
      "Epoch 9/30\n",
      "54546/54546 [==============================] - 11s 202us/step - loss: 0.1223 - acc: 0.8441 - val_loss: 0.1227 - val_acc: 0.8436\n",
      "Epoch 10/30\n",
      "54546/54546 [==============================] - 11s 203us/step - loss: 0.1207 - acc: 0.8483 - val_loss: 0.1172 - val_acc: 0.8438\n",
      "Epoch 11/30\n",
      "54546/54546 [==============================] - 11s 204us/step - loss: 0.1189 - acc: 0.8496 - val_loss: 0.1170 - val_acc: 0.8506\n",
      "Epoch 12/30\n",
      "54546/54546 [==============================] - 11s 205us/step - loss: 0.1164 - acc: 0.8535 - val_loss: 0.1166 - val_acc: 0.8491\n",
      "Epoch 13/30\n",
      "54546/54546 [==============================] - 11s 203us/step - loss: 0.1153 - acc: 0.8536 - val_loss: 0.1146 - val_acc: 0.8537\n",
      "Epoch 14/30\n",
      "54546/54546 [==============================] - 11s 204us/step - loss: 0.1138 - acc: 0.8567 - val_loss: 0.1091 - val_acc: 0.8546\n",
      "Epoch 15/30\n",
      "54546/54546 [==============================] - 11s 204us/step - loss: 0.1129 - acc: 0.8592 - val_loss: 0.1155 - val_acc: 0.8541\n",
      "Epoch 16/30\n",
      "54546/54546 [==============================] - 11s 206us/step - loss: 0.1116 - acc: 0.8608 - val_loss: 0.1102 - val_acc: 0.8596\n",
      "Epoch 17/30\n",
      "54546/54546 [==============================] - 11s 206us/step - loss: 0.1106 - acc: 0.8622 - val_loss: 0.1081 - val_acc: 0.8645\n",
      "Epoch 18/30\n",
      "54546/54546 [==============================] - 11s 204us/step - loss: 0.1093 - acc: 0.8622 - val_loss: 0.1072 - val_acc: 0.8592\n",
      "Epoch 19/30\n",
      "54546/54546 [==============================] - 11s 204us/step - loss: 0.1084 - acc: 0.8637 - val_loss: 0.1082 - val_acc: 0.8594\n",
      "Epoch 20/30\n",
      "54546/54546 [==============================] - 11s 204us/step - loss: 0.1084 - acc: 0.8643 - val_loss: 0.1050 - val_acc: 0.8623\n",
      "Epoch 21/30\n",
      "54546/54546 [==============================] - 11s 205us/step - loss: 0.1064 - acc: 0.8658 - val_loss: 0.1083 - val_acc: 0.8616\n",
      "Epoch 22/30\n",
      "54546/54546 [==============================] - 11s 205us/step - loss: 0.1062 - acc: 0.8674 - val_loss: 0.1059 - val_acc: 0.8649\n",
      "Epoch 23/30\n",
      "54546/54546 [==============================] - 11s 205us/step - loss: 0.1056 - acc: 0.8678 - val_loss: 0.1049 - val_acc: 0.8629\n",
      "Epoch 24/30\n",
      "54546/54546 [==============================] - 11s 205us/step - loss: 0.1042 - acc: 0.8687 - val_loss: 0.1050 - val_acc: 0.8691\n",
      "Epoch 25/30\n",
      "54546/54546 [==============================] - 11s 205us/step - loss: 0.1032 - acc: 0.8704 - val_loss: 0.1030 - val_acc: 0.8630\n",
      "Epoch 26/30\n",
      "54546/54546 [==============================] - 11s 205us/step - loss: 0.1035 - acc: 0.8707 - val_loss: 0.1081 - val_acc: 0.8687\n",
      "Epoch 27/30\n",
      "54546/54546 [==============================] - 11s 205us/step - loss: 0.1030 - acc: 0.8708 - val_loss: 0.1047 - val_acc: 0.8660\n",
      "Epoch 28/30\n",
      "54546/54546 [==============================] - 11s 205us/step - loss: 0.1026 - acc: 0.8726 - val_loss: 0.1015 - val_acc: 0.8709\n",
      "Epoch 29/30\n",
      "54546/54546 [==============================] - 11s 205us/step - loss: 0.1010 - acc: 0.8743 - val_loss: 0.1035 - val_acc: 0.8707\n",
      "Epoch 30/30\n",
      "54546/54546 [==============================] - 11s 205us/step - loss: 0.1006 - acc: 0.8757 - val_loss: 0.1005 - val_acc: 0.8746\n"
     ]
    }
   ],
   "source": [
    "\"\"\"one-CONV-LAYERS-THICK\"\"\"\n",
    "if not data_augmentation:\n",
    "    print('Not using data augmentation.')\n",
    "    train_history_0= model_0.fit(\n",
    "        x_train,\n",
    "        y_train,\n",
    "        batch_size=batch_size,\n",
    "        epochs=epochs,\n",
    "        validation_split= Vld_Splt,\n",
    "        shuffle=True)\n",
    "else:\n",
    "    print('Using real-time data augmentation.')\n",
    "    # This will do preprocessing and realtime data augmentation:\n",
    "    datagen = ImageDataGenerator(\n",
    "        featurewise_center=False,  # set input mean to 0 over the dataset\n",
    "        samplewise_center=False,  # set each sample mean to 0\n",
    "        featurewise_std_normalization=False,  # divide inputs by dataset std\n",
    "        samplewise_std_normalization=False,  # divide each input by its std\n",
    "        zca_whitening=False,  # apply ZCA whitening\n",
    "        zca_epsilon=1e-06,  # epsilon for ZCA whitening\n",
    "        rotation_range=0,  # randomly rotate images in 0 to 180 degrees\n",
    "        width_shift_range=0.1,  # randomly shift images horizontally\n",
    "        height_shift_range=0.1,  # randomly shift images vertically\n",
    "        shear_range=0.,  # set range for random shear\n",
    "        zoom_range=0.,  # set range for random zoom\n",
    "        channel_shift_range=0.,  # set range for random channel shifts\n",
    "        # set mode for filling points outside the input boundaries\n",
    "        fill_mode='nearest',\n",
    "        cval=0.,  # value used for fill_mode = \"constant\"\n",
    "        horizontal_flip=True,  # randomly flip images\n",
    "        vertical_flip=False,  # randomly flip images\n",
    "        # set rescaling factor (applied before any other transformation)\n",
    "        rescale=None,\n",
    "        # set function that will be applied on each input\n",
    "        preprocessing_function=None,\n",
    "        # image data format, either \"channels_first\" or \"channels_last\"\n",
    "        data_format=None,\n",
    "        # fraction of images reserved for validation (strictly between 0 and 1)\n",
    "        validation_split=0.0)\n",
    "\n",
    "    # Compute quantities required for feature-wise normalization\n",
    "    # (std, mean, and principal components if ZCA whitening is applied).\n",
    "    datagen.fit(x_train)\n",
    "\n",
    "    # Fit the model on the batches generated by datagen.flow().\n",
    "    train_history_0= model_0.fit_generator(\n",
    "        datagen.flow(x_train, y_train, batch_size=batch_size),\n",
    "        epochs= epochs,\n",
    "        validation_split= Vld_Splt,\n",
    "        steps_per_epoch= int(x_train.shape[0]/ batch_size),\n",
    "        workers=4)"
   ]
  },
  {
   "cell_type": "code",
   "execution_count": 14,
   "metadata": {},
   "outputs": [
    {
     "name": "stdout",
     "output_type": "stream",
     "text": [
      "Not using data augmentation.\n",
      "Train on 54546 samples, validate on 5454 samples\n",
      "Epoch 1/30\n",
      "54546/54546 [==============================] - 5s 92us/step - loss: 0.2512 - acc: 0.6848 - val_loss: 0.1477 - val_acc: 0.7912\n",
      "Epoch 2/30\n",
      "54546/54546 [==============================] - 5s 83us/step - loss: 0.1422 - acc: 0.8055 - val_loss: 0.1288 - val_acc: 0.8269\n",
      "Epoch 3/30\n",
      "54546/54546 [==============================] - 5s 84us/step - loss: 0.1280 - acc: 0.8292 - val_loss: 0.1194 - val_acc: 0.8414\n",
      "Epoch 4/30\n",
      "54546/54546 [==============================] - 5s 84us/step - loss: 0.1180 - acc: 0.8447 - val_loss: 0.1132 - val_acc: 0.8454\n",
      "Epoch 5/30\n",
      "54546/54546 [==============================] - 5s 84us/step - loss: 0.1113 - acc: 0.8531 - val_loss: 0.1119 - val_acc: 0.8497\n",
      "Epoch 6/30\n",
      "54546/54546 [==============================] - 5s 84us/step - loss: 0.1061 - acc: 0.8598 - val_loss: 0.1042 - val_acc: 0.8548\n",
      "Epoch 7/30\n",
      "54546/54546 [==============================] - 5s 86us/step - loss: 0.1024 - acc: 0.8663 - val_loss: 0.0980 - val_acc: 0.8640\n",
      "Epoch 8/30\n",
      "54546/54546 [==============================] - 5s 84us/step - loss: 0.0988 - acc: 0.8698 - val_loss: 0.0970 - val_acc: 0.8707 - loss: 0.0992 \n",
      "Epoch 9/30\n",
      "54546/54546 [==============================] - 5s 85us/step - loss: 0.0960 - acc: 0.8751 - val_loss: 0.0929 - val_acc: 0.8735\n",
      "Epoch 10/30\n",
      "54546/54546 [==============================] - 5s 84us/step - loss: 0.0924 - acc: 0.8800 - val_loss: 0.0913 - val_acc: 0.8757\n",
      "Epoch 11/30\n",
      "54546/54546 [==============================] - 5s 84us/step - loss: 0.0910 - acc: 0.8828 - val_loss: 0.0942 - val_acc: 0.8764\n",
      "Epoch 12/30\n",
      "54546/54546 [==============================] - 5s 84us/step - loss: 0.0896 - acc: 0.8843 - val_loss: 0.0903 - val_acc: 0.8772\n",
      "Epoch 13/30\n",
      "54546/54546 [==============================] - 5s 84us/step - loss: 0.0879 - acc: 0.8863 - val_loss: 0.0900 - val_acc: 0.8790\n",
      "Epoch 14/30\n",
      "54546/54546 [==============================] - 5s 84us/step - loss: 0.0859 - acc: 0.8900 - val_loss: 0.0885 - val_acc: 0.8841\n",
      "Epoch 15/30\n",
      "54546/54546 [==============================] - 5s 84us/step - loss: 0.0838 - acc: 0.8923 - val_loss: 0.0886 - val_acc: 0.8852\n",
      "Epoch 16/30\n",
      "54546/54546 [==============================] - 5s 85us/step - loss: 0.0831 - acc: 0.8934 - val_loss: 0.0877 - val_acc: 0.8852\n",
      "Epoch 17/30\n",
      "54546/54546 [==============================] - 5s 86us/step - loss: 0.0825 - acc: 0.8947 - val_loss: 0.0836 - val_acc: 0.8900\n",
      "Epoch 18/30\n",
      "54546/54546 [==============================] - 5s 85us/step - loss: 0.0807 - acc: 0.8970 - val_loss: 0.0825 - val_acc: 0.8938\n",
      "Epoch 19/30\n",
      "54546/54546 [==============================] - 5s 86us/step - loss: 0.0793 - acc: 0.8988 - val_loss: 0.0838 - val_acc: 0.8893\n",
      "Epoch 20/30\n",
      "54546/54546 [==============================] - 5s 86us/step - loss: 0.0787 - acc: 0.8998 - val_loss: 0.0810 - val_acc: 0.8922\n",
      "Epoch 21/30\n",
      "54546/54546 [==============================] - 5s 86us/step - loss: 0.0774 - acc: 0.9012 - val_loss: 0.0803 - val_acc: 0.8938\n",
      "Epoch 22/30\n",
      "54546/54546 [==============================] - 5s 86us/step - loss: 0.0765 - acc: 0.9036 - val_loss: 0.0871 - val_acc: 0.8876\n",
      "Epoch 23/30\n",
      "54546/54546 [==============================] - 5s 84us/step - loss: 0.0762 - acc: 0.9029 - val_loss: 0.0828 - val_acc: 0.8920\n",
      "Epoch 24/30\n",
      "54546/54546 [==============================] - 5s 84us/step - loss: 0.0749 - acc: 0.9053 - val_loss: 0.0786 - val_acc: 0.8951\n",
      "Epoch 25/30\n",
      "54546/54546 [==============================] - 5s 85us/step - loss: 0.0741 - acc: 0.9067 - val_loss: 0.0780 - val_acc: 0.8966\n",
      "Epoch 26/30\n",
      "54546/54546 [==============================] - 5s 85us/step - loss: 0.0736 - acc: 0.9077 - val_loss: 0.0782 - val_acc: 0.8953\n",
      "Epoch 27/30\n",
      "54546/54546 [==============================] - 5s 85us/step - loss: 0.0731 - acc: 0.9085 - val_loss: 0.0783 - val_acc: 0.8944\n",
      "Epoch 28/30\n",
      "54546/54546 [==============================] - 5s 86us/step - loss: 0.0722 - acc: 0.9095 - val_loss: 0.0805 - val_acc: 0.8920\n",
      "Epoch 29/30\n",
      "54546/54546 [==============================] - 5s 85us/step - loss: 0.0721 - acc: 0.9089 - val_loss: 0.0768 - val_acc: 0.8986\n",
      "Epoch 30/30\n",
      "54546/54546 [==============================] - 5s 84us/step - loss: 0.0708 - acc: 0.9114 - val_loss: 0.0781 - val_acc: 0.8968\n"
     ]
    }
   ],
   "source": [
    "\"\"\"two-CONV-LAYERS-THICK\"\"\"\n",
    "if not data_augmentation:\n",
    "    print('Not using data augmentation.')\n",
    "    train_history_1= model_1.fit(\n",
    "        x_train,\n",
    "        y_train,\n",
    "        batch_size=batch_size,\n",
    "        epochs=epochs,\n",
    "        validation_split= Vld_Splt,\n",
    "        shuffle=True)\n",
    "else:\n",
    "    print('Using real-time data augmentation.')\n",
    "    # This will do preprocessing and realtime data augmentation:\n",
    "    datagen = ImageDataGenerator(\n",
    "        featurewise_center=False,  # set input mean to 0 over the dataset\n",
    "        samplewise_center=False,  # set each sample mean to 0\n",
    "        featurewise_std_normalization=False,  # divide inputs by dataset std\n",
    "        samplewise_std_normalization=False,  # divide each input by its std\n",
    "        zca_whitening=False,  # apply ZCA whitening\n",
    "        zca_epsilon=1e-06,  # epsilon for ZCA whitening\n",
    "        rotation_range=0,  # randomly rotate images in 0 to 180 degrees\n",
    "        width_shift_range=0.1,  # randomly shift images horizontally\n",
    "        height_shift_range=0.1,  # randomly shift images vertically\n",
    "        shear_range=0.,  # set range for random shear\n",
    "        zoom_range=0.,  # set range for random zoom\n",
    "        channel_shift_range=0.,  # set range for random channel shifts\n",
    "        # set mode for filling points outside the input boundaries\n",
    "        fill_mode='nearest',\n",
    "        cval=0.,  # value used for fill_mode = \"constant\"\n",
    "        horizontal_flip=True,  # randomly flip images\n",
    "        vertical_flip=False,  # randomly flip images\n",
    "        # set rescaling factor (applied before any other transformation)\n",
    "        rescale=None,\n",
    "        # set function that will be applied on each input\n",
    "        preprocessing_function=None,\n",
    "        # image data format, either \"channels_first\" or \"channels_last\"\n",
    "        data_format=None,\n",
    "        # fraction of images reserved for validation (strictly between 0 and 1)\n",
    "        validation_split=0.0)\n",
    "\n",
    "    # Compute quantities required for feature-wise normalization\n",
    "    # (std, mean, and principal components if ZCA whitening is applied).\n",
    "    datagen.fit(x_train)\n",
    "\n",
    "    # Fit the model on the batches generated by datagen.flow().\n",
    "    train_history_1= model_1.fit_generator(\n",
    "        datagen.flow(x_train, y_train, batch_size=batch_size),\n",
    "        epochs= epochs,\n",
    "        validation_split= Vld_Splt,\n",
    "        steps_per_epoch= int(x_train.shape[0]/ batch_size),\n",
    "        workers=4)"
   ]
  },
  {
   "cell_type": "code",
   "execution_count": 15,
   "metadata": {},
   "outputs": [
    {
     "name": "stdout",
     "output_type": "stream",
     "text": [
      "Not using data augmentation.\n",
      "Train on 54546 samples, validate on 5454 samples\n",
      "Epoch 1/30\n",
      "54546/54546 [==============================] - 4s 67us/step - loss: 0.2378 - acc: 0.6861 - val_loss: 0.1376 - val_acc: 0.7923\n",
      "Epoch 2/30\n",
      "54546/54546 [==============================] - 3s 61us/step - loss: 0.1301 - acc: 0.8158 - val_loss: 0.1155 - val_acc: 0.8348\n",
      "Epoch 3/30\n",
      "54546/54546 [==============================] - 3s 64us/step - loss: 0.1113 - acc: 0.8463 - val_loss: 0.1021 - val_acc: 0.8574\n",
      "Epoch 4/30\n",
      "54546/54546 [==============================] - 4s 66us/step - loss: 0.0995 - acc: 0.8637 - val_loss: 0.0921 - val_acc: 0.8680\n",
      "Epoch 5/30\n",
      "54546/54546 [==============================] - 4s 66us/step - loss: 0.0929 - acc: 0.8733 - val_loss: 0.0872 - val_acc: 0.8768\n",
      "Epoch 6/30\n",
      "54546/54546 [==============================] - 4s 80us/step - loss: 0.0887 - acc: 0.8785 - val_loss: 0.0862 - val_acc: 0.8788\n",
      "Epoch 7/30\n",
      "54546/54546 [==============================] - 4s 68us/step - loss: 0.0846 - acc: 0.8856 - val_loss: 0.0849 - val_acc: 0.8797\n",
      "Epoch 8/30\n",
      "54546/54546 [==============================] - 3s 58us/step - loss: 0.0816 - acc: 0.8892 - val_loss: 0.0807 - val_acc: 0.8856\n",
      "Epoch 9/30\n",
      "54546/54546 [==============================] - 3s 63us/step - loss: 0.0792 - acc: 0.8925 - val_loss: 0.0789 - val_acc: 0.8900\n",
      "Epoch 10/30\n",
      "54546/54546 [==============================] - 4s 70us/step - loss: 0.0776 - acc: 0.8941 - val_loss: 0.0766 - val_acc: 0.8907\n",
      "Epoch 11/30\n",
      "54546/54546 [==============================] - 4s 67us/step - loss: 0.0757 - acc: 0.8984 - val_loss: 0.0752 - val_acc: 0.8975\n",
      "Epoch 12/30\n",
      "54546/54546 [==============================] - 4s 67us/step - loss: 0.0743 - acc: 0.8994 - val_loss: 0.0725 - val_acc: 0.8975\n",
      "Epoch 13/30\n",
      "54546/54546 [==============================] - 4s 65us/step - loss: 0.0723 - acc: 0.9022 - val_loss: 0.0753 - val_acc: 0.8920\n",
      "Epoch 14/30\n",
      "54546/54546 [==============================] - 3s 62us/step - loss: 0.0705 - acc: 0.9053 - val_loss: 0.0718 - val_acc: 0.8986\n",
      "Epoch 15/30\n",
      "54546/54546 [==============================] - 3s 57us/step - loss: 0.0690 - acc: 0.9070 - val_loss: 0.0720 - val_acc: 0.8995\n",
      "Epoch 16/30\n",
      "54546/54546 [==============================] - 3s 56us/step - loss: 0.0675 - acc: 0.9082 - val_loss: 0.0730 - val_acc: 0.8988\n",
      "Epoch 17/30\n",
      "54546/54546 [==============================] - 3s 60us/step - loss: 0.0674 - acc: 0.9093 - val_loss: 0.0731 - val_acc: 0.8959\n",
      "Epoch 18/30\n",
      "54546/54546 [==============================] - 3s 60us/step - loss: 0.0665 - acc: 0.9090 - val_loss: 0.0770 - val_acc: 0.8918\n",
      "Epoch 19/30\n",
      "54546/54546 [==============================] - 4s 68us/step - loss: 0.0652 - acc: 0.9121 - val_loss: 0.0722 - val_acc: 0.9006\n",
      "Epoch 20/30\n",
      "54546/54546 [==============================] - 3s 56us/step - loss: 0.0645 - acc: 0.9126 - val_loss: 0.0688 - val_acc: 0.9012\n",
      "Epoch 21/30\n",
      "54546/54546 [==============================] - 3s 55us/step - loss: 0.0631 - acc: 0.9152 - val_loss: 0.0688 - val_acc: 0.9017\n",
      "Epoch 22/30\n",
      "54546/54546 [==============================] - 3s 60us/step - loss: 0.0620 - acc: 0.9164 - val_loss: 0.0702 - val_acc: 0.9028\n",
      "Epoch 23/30\n",
      "54546/54546 [==============================] - 3s 59us/step - loss: 0.0617 - acc: 0.9162 - val_loss: 0.0693 - val_acc: 0.9015\n",
      "Epoch 24/30\n",
      "54546/54546 [==============================] - 3s 58us/step - loss: 0.0603 - acc: 0.9194 - val_loss: 0.0683 - val_acc: 0.9047\n",
      "Epoch 25/30\n",
      "54546/54546 [==============================] - 3s 61us/step - loss: 0.0606 - acc: 0.9194 - val_loss: 0.0657 - val_acc: 0.9076\n",
      "Epoch 26/30\n",
      "54546/54546 [==============================] - 3s 63us/step - loss: 0.0594 - acc: 0.9203 - val_loss: 0.0675 - val_acc: 0.9052\n",
      "Epoch 27/30\n",
      "54546/54546 [==============================] - 3s 62us/step - loss: 0.0585 - acc: 0.9225 - val_loss: 0.0684 - val_acc: 0.9034\n",
      "Epoch 28/30\n",
      "54546/54546 [==============================] - 3s 61us/step - loss: 0.0582 - acc: 0.9217 - val_loss: 0.0680 - val_acc: 0.9056\n",
      "Epoch 29/30\n",
      "54546/54546 [==============================] - 3s 58us/step - loss: 0.0569 - acc: 0.9244 - val_loss: 0.0665 - val_acc: 0.9091\n",
      "Epoch 30/30\n",
      "54546/54546 [==============================] - 3s 56us/step - loss: 0.0569 - acc: 0.9239 - val_loss: 0.0667 - val_acc: 0.9047\n"
     ]
    }
   ],
   "source": [
    "\"\"\"three-CONV-LAYERS-THICK\"\"\"\n",
    "if not data_augmentation:\n",
    "    print('Not using data augmentation.')\n",
    "    train_history_2= model_2.fit(\n",
    "        x_train,\n",
    "        y_train,\n",
    "        batch_size=batch_size,\n",
    "        epochs=epochs,\n",
    "        validation_split= Vld_Splt,\n",
    "        shuffle=True)\n",
    "else:\n",
    "    print('Using real-time data augmentation.')\n",
    "    # This will do preprocessing and realtime data augmentation:\n",
    "    datagen = ImageDataGenerator(\n",
    "        featurewise_center=False,  # set input mean to 0 over the dataset\n",
    "        samplewise_center=False,  # set each sample mean to 0\n",
    "        featurewise_std_normalization=False,  # divide inputs by dataset std\n",
    "        samplewise_std_normalization=False,  # divide each input by its std\n",
    "        zca_whitening=False,  # apply ZCA whitening\n",
    "        zca_epsilon=1e-06,  # epsilon for ZCA whitening\n",
    "        rotation_range=0,  # randomly rotate images in 0 to 180 degrees\n",
    "        width_shift_range=0.1,  # randomly shift images horizontally\n",
    "        height_shift_range=0.1,  # randomly shift images vertically\n",
    "        shear_range=0.,  # set range for random shear\n",
    "        zoom_range=0.,  # set range for random zoom\n",
    "        channel_shift_range=0.,  # set range for random channel shifts\n",
    "        # set mode for filling points outside the input boundaries\n",
    "        fill_mode='nearest',\n",
    "        cval=0.,  # value used for fill_mode = \"constant\"\n",
    "        horizontal_flip=True,  # randomly flip images\n",
    "        vertical_flip=False,  # randomly flip images\n",
    "        # set rescaling factor (applied before any other transformation)\n",
    "        rescale=None,\n",
    "        # set function that will be applied on each input\n",
    "        preprocessing_function=None,\n",
    "        # image data format, either \"channels_first\" or \"channels_last\"\n",
    "        data_format=None,\n",
    "        # fraction of images reserved for validation (strictly between 0 and 1)\n",
    "        validation_split=0.0)\n",
    "\n",
    "    # Compute quantities required for feature-wise normalization\n",
    "    # (std, mean, and principal components if ZCA whitening is applied).\n",
    "    datagen.fit(x_train)\n",
    "\n",
    "    # Fit the model on the batches generated by datagen.flow().\n",
    "    train_history_2= model_2.fit_generator(\n",
    "        datagen.flow(x_train, y_train, batch_size=batch_size),\n",
    "        epochs= epochs,\n",
    "        validation_split= Vld_Splt,\n",
    "        steps_per_epoch= int(x_train.shape[0]/ batch_size),\n",
    "        workers=4)"
   ]
  },
  {
   "cell_type": "code",
   "execution_count": 16,
   "metadata": {},
   "outputs": [
    {
     "name": "stdout",
     "output_type": "stream",
     "text": [
      "Not using data augmentation.\n",
      "Train on 54546 samples, validate on 5454 samples\n",
      "Epoch 1/30\n",
      "54546/54546 [==============================] - 5s 95us/step - loss: 0.2478 - acc: 0.6772 - val_loss: 0.1218 - val_acc: 0.8304\n",
      "Epoch 2/30\n",
      "54546/54546 [==============================] - 4s 79us/step - loss: 0.1157 - acc: 0.8411 - val_loss: 0.1038 - val_acc: 0.8597\n",
      "Epoch 3/30\n",
      "54546/54546 [==============================] - 4s 80us/step - loss: 0.0968 - acc: 0.8662 - val_loss: 0.0869 - val_acc: 0.8755\n",
      "Epoch 4/30\n",
      "54546/54546 [==============================] - 4s 80us/step - loss: 0.0895 - acc: 0.8756 - val_loss: 0.0845 - val_acc: 0.8817\n",
      "Epoch 5/30\n",
      "54546/54546 [==============================] - 4s 80us/step - loss: 0.0835 - acc: 0.8838 - val_loss: 0.0832 - val_acc: 0.8823\n",
      "Epoch 6/30\n",
      "54546/54546 [==============================] - 4s 80us/step - loss: 0.0799 - acc: 0.8890 - val_loss: 0.0785 - val_acc: 0.8894\n",
      "Epoch 7/30\n",
      "54546/54546 [==============================] - 4s 80us/step - loss: 0.0771 - acc: 0.8932 - val_loss: 0.0772 - val_acc: 0.8913\n",
      "Epoch 8/30\n",
      "54546/54546 [==============================] - 4s 80us/step - loss: 0.0736 - acc: 0.8979 - val_loss: 0.0738 - val_acc: 0.8931\n",
      "Epoch 9/30\n",
      "54546/54546 [==============================] - 4s 80us/step - loss: 0.0719 - acc: 0.9008 - val_loss: 0.0726 - val_acc: 0.9010\n",
      "Epoch 10/30\n",
      "54546/54546 [==============================] - 4s 80us/step - loss: 0.0703 - acc: 0.9034 - val_loss: 0.0725 - val_acc: 0.8968\n",
      "Epoch 11/30\n",
      "54546/54546 [==============================] - 4s 80us/step - loss: 0.0684 - acc: 0.9055 - val_loss: 0.0734 - val_acc: 0.8968\n",
      "Epoch 12/30\n",
      "54546/54546 [==============================] - 5s 83us/step - loss: 0.0663 - acc: 0.9077 - val_loss: 0.0706 - val_acc: 0.8992\n",
      "Epoch 13/30\n",
      "54546/54546 [==============================] - 5s 83us/step - loss: 0.0655 - acc: 0.9099 - val_loss: 0.0691 - val_acc: 0.9014\n",
      "Epoch 14/30\n",
      "54546/54546 [==============================] - 5s 83us/step - loss: 0.0636 - acc: 0.9123 - val_loss: 0.0688 - val_acc: 0.9039\n",
      "Epoch 15/30\n",
      "54546/54546 [==============================] - 4s 81us/step - loss: 0.0630 - acc: 0.9137 - val_loss: 0.0661 - val_acc: 0.9096\n",
      "Epoch 16/30\n",
      "54546/54546 [==============================] - 4s 82us/step - loss: 0.0619 - acc: 0.9142 - val_loss: 0.0682 - val_acc: 0.9048\n",
      "Epoch 17/30\n",
      "54546/54546 [==============================] - 4s 81us/step - loss: 0.0611 - acc: 0.9150 - val_loss: 0.0697 - val_acc: 0.9021\n",
      "Epoch 18/30\n",
      "54546/54546 [==============================] - 10s 181us/step - loss: 0.0594 - acc: 0.9187 - val_loss: 0.0654 - val_acc: 0.9102\n",
      "Epoch 19/30\n",
      "54546/54546 [==============================] - 4s 80us/step - loss: 0.0586 - acc: 0.9202 - val_loss: 0.0697 - val_acc: 0.9014\n",
      "Epoch 20/30\n",
      "54546/54546 [==============================] - 4s 79us/step - loss: 0.0579 - acc: 0.9217 - val_loss: 0.0649 - val_acc: 0.9107\n",
      "Epoch 21/30\n",
      "54546/54546 [==============================] - 4s 79us/step - loss: 0.0561 - acc: 0.9227 - val_loss: 0.0668 - val_acc: 0.9078\n",
      "Epoch 22/30\n",
      "54546/54546 [==============================] - 4s 79us/step - loss: 0.0559 - acc: 0.9232 - val_loss: 0.0646 - val_acc: 0.9083\n",
      "Epoch 23/30\n",
      "54546/54546 [==============================] - 4s 79us/step - loss: 0.0547 - acc: 0.9260 - val_loss: 0.0653 - val_acc: 0.9107\n",
      "Epoch 24/30\n",
      "54546/54546 [==============================] - 4s 79us/step - loss: 0.0548 - acc: 0.9257 - val_loss: 0.0694 - val_acc: 0.9021\n",
      "Epoch 25/30\n",
      "54546/54546 [==============================] - 4s 80us/step - loss: 0.0547 - acc: 0.9257 - val_loss: 0.0631 - val_acc: 0.9118\n",
      "Epoch 26/30\n",
      "54546/54546 [==============================] - 4s 82us/step - loss: 0.0536 - acc: 0.9265 - val_loss: 0.0621 - val_acc: 0.9146\n",
      "Epoch 27/30\n",
      "54546/54546 [==============================] - 4s 80us/step - loss: 0.0531 - acc: 0.9278 - val_loss: 0.0633 - val_acc: 0.9089\n",
      "Epoch 28/30\n",
      "54546/54546 [==============================] - 4s 80us/step - loss: 0.0526 - acc: 0.9288 - val_loss: 0.0665 - val_acc: 0.9052\n",
      "Epoch 29/30\n",
      "54546/54546 [==============================] - 4s 80us/step - loss: 0.0515 - acc: 0.9299 - val_loss: 0.0636 - val_acc: 0.9151\n",
      "Epoch 30/30\n",
      "54546/54546 [==============================] - 4s 80us/step - loss: 0.0508 - acc: 0.9325 - val_loss: 0.0629 - val_acc: 0.9129\n"
     ]
    }
   ],
   "source": [
    "\"\"\"four-CONV-LAYERS-THICK\"\"\"\n",
    "if not data_augmentation:\n",
    "    print('Not using data augmentation.')\n",
    "    train_history_3= model_3.fit(\n",
    "        x_train,\n",
    "        y_train,\n",
    "        batch_size=batch_size,\n",
    "        epochs=epochs,\n",
    "        validation_split= Vld_Splt,\n",
    "        shuffle=True)\n",
    "else:\n",
    "    print('Using real-time data augmentation.')\n",
    "    # This will do preprocessing and realtime data augmentation:\n",
    "    datagen = ImageDataGenerator(\n",
    "        featurewise_center=False,  # set input mean to 0 over the dataset\n",
    "        samplewise_center=False,  # set each sample mean to 0\n",
    "        featurewise_std_normalization=False,  # divide inputs by dataset std\n",
    "        samplewise_std_normalization=False,  # divide each input by its std\n",
    "        zca_whitening=False,  # apply ZCA whitening\n",
    "        zca_epsilon=1e-06,  # epsilon for ZCA whitening\n",
    "        rotation_range=0,  # randomly rotate images in 0 to 180 degrees\n",
    "        width_shift_range=0.1,  # randomly shift images horizontally\n",
    "        height_shift_range=0.1,  # randomly shift images vertically\n",
    "        shear_range=0.,  # set range for random shear\n",
    "        zoom_range=0.,  # set range for random zoom\n",
    "        channel_shift_range=0.,  # set range for random channel shifts\n",
    "        # set mode for filling points outside the input boundaries\n",
    "        fill_mode='nearest',\n",
    "        cval=0.,  # value used for fill_mode = \"constant\"\n",
    "        horizontal_flip=True,  # randomly flip images\n",
    "        vertical_flip=False,  # randomly flip images\n",
    "        # set rescaling factor (applied before any other transformation)\n",
    "        rescale=None,\n",
    "        # set function that will be applied on each input\n",
    "        preprocessing_function=None,\n",
    "        # image data format, either \"channels_first\" or \"channels_last\"\n",
    "        data_format=None,\n",
    "        # fraction of images reserved for validation (strictly between 0 and 1)\n",
    "        validation_split=0.0)\n",
    "\n",
    "    # Compute quantities required for feature-wise normalization\n",
    "    # (std, mean, and principal components if ZCA whitening is applied).\n",
    "    datagen.fit(x_train)\n",
    "\n",
    "    # Fit the model on the batches generated by datagen.flow().\n",
    "    train_history_3= model_3.fit_generator(\n",
    "        datagen.flow(x_train, y_train, batch_size=batch_size),\n",
    "        epochs= epochs,\n",
    "        validation_split= Vld_Splt,\n",
    "        steps_per_epoch= int(x_train.shape[0]/ batch_size),\n",
    "        workers=4)"
   ]
  },
  {
   "cell_type": "code",
   "execution_count": 17,
   "metadata": {},
   "outputs": [
    {
     "name": "stdout",
     "output_type": "stream",
     "text": [
      "Train on 54546 samples, validate on 5454 samples\n",
      "Epoch 1/30\n",
      "54546/54546 [==============================] - 2s 44us/step - loss: 0.8062 - acc: 0.7000 - val_loss: 0.5575 - val_acc: 0.8102\n",
      "Epoch 2/30\n",
      "54546/54546 [==============================] - 2s 32us/step - loss: 0.5644 - acc: 0.7884 - val_loss: 0.4970 - val_acc: 0.8251\n",
      "Epoch 3/30\n",
      "54546/54546 [==============================] - 2s 31us/step - loss: 0.5056 - acc: 0.8134 - val_loss: 0.4299 - val_acc: 0.8524\n",
      "Epoch 4/30\n",
      "54546/54546 [==============================] - 2s 33us/step - loss: 0.4680 - acc: 0.8297 - val_loss: 0.4192 - val_acc: 0.8539\n",
      "Epoch 5/30\n",
      "54546/54546 [==============================] - 2s 31us/step - loss: 0.4457 - acc: 0.8347 - val_loss: 0.3869 - val_acc: 0.8616\n",
      "Epoch 6/30\n",
      "54546/54546 [==============================] - 2s 31us/step - loss: 0.4275 - acc: 0.8444 - val_loss: 0.3733 - val_acc: 0.8652\n",
      "Epoch 7/30\n",
      "54546/54546 [==============================] - 2s 31us/step - loss: 0.4123 - acc: 0.8489 - val_loss: 0.3630 - val_acc: 0.8687\n",
      "Epoch 8/30\n",
      "54546/54546 [==============================] - 2s 31us/step - loss: 0.4035 - acc: 0.8518 - val_loss: 0.3508 - val_acc: 0.8720\n",
      "Epoch 9/30\n",
      "54546/54546 [==============================] - 2s 31us/step - loss: 0.3894 - acc: 0.8550 - val_loss: 0.3638 - val_acc: 0.8684\n",
      "Epoch 10/30\n",
      "54546/54546 [==============================] - 2s 31us/step - loss: 0.3843 - acc: 0.8600 - val_loss: 0.3531 - val_acc: 0.8772\n",
      "Epoch 11/30\n",
      "54546/54546 [==============================] - 2s 31us/step - loss: 0.3763 - acc: 0.8608 - val_loss: 0.3401 - val_acc: 0.8790\n",
      "Epoch 12/30\n",
      "54546/54546 [==============================] - 2s 32us/step - loss: 0.3694 - acc: 0.8635 - val_loss: 0.3347 - val_acc: 0.8748\n",
      "Epoch 13/30\n",
      "54546/54546 [==============================] - 2s 32us/step - loss: 0.3617 - acc: 0.8660 - val_loss: 0.3336 - val_acc: 0.8838\n",
      "Epoch 14/30\n",
      "54546/54546 [==============================] - 2s 34us/step - loss: 0.3600 - acc: 0.8679 - val_loss: 0.3414 - val_acc: 0.8731\n",
      "Epoch 15/30\n",
      "54546/54546 [==============================] - 2s 34us/step - loss: 0.3538 - acc: 0.8700 - val_loss: 0.3175 - val_acc: 0.8860\n",
      "Epoch 16/30\n",
      "54546/54546 [==============================] - 2s 34us/step - loss: 0.3481 - acc: 0.8721 - val_loss: 0.3129 - val_acc: 0.8854\n",
      "Epoch 17/30\n",
      "54546/54546 [==============================] - 2s 34us/step - loss: 0.3465 - acc: 0.8720 - val_loss: 0.3161 - val_acc: 0.8803\n",
      "Epoch 18/30\n",
      "54546/54546 [==============================] - 2s 34us/step - loss: 0.3424 - acc: 0.8726 - val_loss: 0.3132 - val_acc: 0.8883\n",
      "Epoch 19/30\n",
      "54546/54546 [==============================] - 2s 34us/step - loss: 0.3371 - acc: 0.8739 - val_loss: 0.3104 - val_acc: 0.8869\n",
      "Epoch 20/30\n",
      "54546/54546 [==============================] - 2s 34us/step - loss: 0.3352 - acc: 0.8761 - val_loss: 0.3060 - val_acc: 0.8894\n",
      "Epoch 21/30\n",
      "54546/54546 [==============================] - 2s 34us/step - loss: 0.3304 - acc: 0.8774 - val_loss: 0.3109 - val_acc: 0.8843\n",
      "Epoch 22/30\n",
      "54546/54546 [==============================] - 2s 34us/step - loss: 0.3269 - acc: 0.8787 - val_loss: 0.3023 - val_acc: 0.8876\n",
      "Epoch 23/30\n",
      "54546/54546 [==============================] - ETA: 0s - loss: 0.3238 - acc: 0.880 - 2s 34us/step - loss: 0.3232 - acc: 0.8806 - val_loss: 0.2918 - val_acc: 0.8937\n",
      "Epoch 24/30\n",
      "54546/54546 [==============================] - 2s 34us/step - loss: 0.3224 - acc: 0.8800 - val_loss: 0.3015 - val_acc: 0.8871\n",
      "Epoch 25/30\n",
      "54546/54546 [==============================] - 2s 38us/step - loss: 0.3161 - acc: 0.8828 - val_loss: 0.2937 - val_acc: 0.8929\n",
      "Epoch 26/30\n",
      "54546/54546 [==============================] - 2s 36us/step - loss: 0.3179 - acc: 0.8811 - val_loss: 0.2929 - val_acc: 0.8931\n",
      "Epoch 27/30\n",
      "54546/54546 [==============================] - 2s 33us/step - loss: 0.3140 - acc: 0.8826 - val_loss: 0.2912 - val_acc: 0.8926\n",
      "Epoch 28/30\n",
      "54546/54546 [==============================] - 2s 31us/step - loss: 0.3125 - acc: 0.8828 - val_loss: 0.2861 - val_acc: 0.8944\n",
      "Epoch 29/30\n",
      "54546/54546 [==============================] - 2s 31us/step - loss: 0.3091 - acc: 0.8846 - val_loss: 0.2885 - val_acc: 0.8946\n",
      "Epoch 30/30\n",
      "54546/54546 [==============================] - 2s 31us/step - loss: 0.3072 - acc: 0.8854 - val_loss: 0.2888 - val_acc: 0.8949\n"
     ]
    }
   ],
   "source": [
    "\"\"\"CNN-3-CONV-LAYERS\"\"\"\n",
    "model_4.compile(loss='categorical_crossentropy',\n",
    "              optimizer='adam', metrics=['accuracy'])\n",
    "train_history_4= model_4.fit(x= x_train, y= y_train, validation_split= Vld_Splt,\n",
    "                         epochs= epochs, batch_size= batch_size, verbose=1)"
   ]
  },
  {
   "cell_type": "code",
   "execution_count": 18,
   "metadata": {},
   "outputs": [
    {
     "name": "stdout",
     "output_type": "stream",
     "text": [
      "10000/10000 [==============================] - 1s 87us/step\n"
     ]
    },
    {
     "data": {
      "text/plain": [
       "0.8669"
      ]
     },
     "execution_count": 18,
     "metadata": {},
     "output_type": "execute_result"
    }
   ],
   "source": [
    "\"\"\"one-CONV-LAYERS-THICK\"\"\"\n",
    "scores_0= model_0.evaluate(x_test, y_test)\n",
    "scores_0[1]"
   ]
  },
  {
   "cell_type": "code",
   "execution_count": 19,
   "metadata": {},
   "outputs": [
    {
     "name": "stdout",
     "output_type": "stream",
     "text": [
      "10000/10000 [==============================] - 1s 72us/step\n"
     ]
    },
    {
     "data": {
      "text/plain": [
       "0.895"
      ]
     },
     "execution_count": 19,
     "metadata": {},
     "output_type": "execute_result"
    }
   ],
   "source": [
    "\"\"\"two-CONV-LAYERS-THICK\"\"\"\n",
    "scores_1= model_1.evaluate(x_test, y_test)\n",
    "scores_1[1]"
   ]
  },
  {
   "cell_type": "code",
   "execution_count": 20,
   "metadata": {},
   "outputs": [
    {
     "name": "stdout",
     "output_type": "stream",
     "text": [
      "10000/10000 [==============================] - 1s 75us/step\n"
     ]
    },
    {
     "data": {
      "text/plain": [
       "0.9032"
      ]
     },
     "execution_count": 20,
     "metadata": {},
     "output_type": "execute_result"
    }
   ],
   "source": [
    "\"\"\"three-CONV-LAYERS-THICK\"\"\"\n",
    "scores_2= model_2.evaluate(x_test, y_test)\n",
    "scores_2[1]"
   ]
  },
  {
   "cell_type": "code",
   "execution_count": 21,
   "metadata": {},
   "outputs": [
    {
     "name": "stdout",
     "output_type": "stream",
     "text": [
      "10000/10000 [==============================] - 1s 77us/step\n"
     ]
    },
    {
     "data": {
      "text/plain": [
       "0.9062"
      ]
     },
     "execution_count": 21,
     "metadata": {},
     "output_type": "execute_result"
    }
   ],
   "source": [
    "\"\"\"four-CONV-LAYERS-THICK\"\"\"\n",
    "scores_3= model_3.evaluate(x_test, y_test)\n",
    "scores_3[1]"
   ]
  },
  {
   "cell_type": "code",
   "execution_count": 22,
   "metadata": {},
   "outputs": [
    {
     "name": "stdout",
     "output_type": "stream",
     "text": [
      "10000/10000 [==============================] - 1s 57us/step\n"
     ]
    },
    {
     "data": {
      "text/plain": [
       "0.8921"
      ]
     },
     "execution_count": 22,
     "metadata": {},
     "output_type": "execute_result"
    }
   ],
   "source": [
    "\"\"\"CNN\"\"\"\n",
    "scores_4= model_4.evaluate(x_test, y_test)\n",
    "scores_4[1]"
   ]
  },
  {
   "cell_type": "code",
   "execution_count": 23,
   "metadata": {},
   "outputs": [],
   "source": [
    "import matplotlib.pyplot as plt\n",
    "def show_train_history(train_history, train, validation):\n",
    "    plt.plot(train_history.history[train])\n",
    "    plt.plot(train_history.history[validation])\n",
    "    plt.title('Train History')\n",
    "    plt.ylabel(train)\n",
    "    plt.xlabel('Epoch')\n",
    "    plt.legend(['train', 'validation'], loc='best')\n",
    "    plt.show()"
   ]
  },
  {
   "cell_type": "code",
   "execution_count": 24,
   "metadata": {},
   "outputs": [
    {
     "data": {
      "image/png": "[encoded data removed]",
      "text/plain": [
       "<Figure size 432x288 with 1 Axes>"
      ]
     },
     "metadata": {
      "needs_background": "light"
     },
     "output_type": "display_data"
    }
   ],
   "source": [
    "show_train_history(train_history_0, 'acc', 'val_acc')"
   ]
  },
  {
   "cell_type": "code",
   "execution_count": 25,
   "metadata": {},
   "outputs": [
    {
     "data": {
      "image/png": "[encoded data removed]",
      "text/plain": [
       "<Figure size 432x288 with 1 Axes>"
      ]
     },
     "metadata": {
      "needs_background": "light"
     },
     "output_type": "display_data"
    }
   ],
   "source": [
    "show_train_history(train_history_1, 'acc', 'val_acc')"
   ]
  },
  {
   "cell_type": "code",
   "execution_count": 26,
   "metadata": {},
   "outputs": [
    {
     "data": {
      "image/png": "[encoded data removed]",
      "text/plain": [
       "<Figure size 432x288 with 1 Axes>"
      ]
     },
     "metadata": {
      "needs_background": "light"
     },
     "output_type": "display_data"
    }
   ],
   "source": [
    "show_train_history(train_history_2, 'acc', 'val_acc')"
   ]
  },
  {
   "cell_type": "code",
   "execution_count": 27,
   "metadata": {},
   "outputs": [
    {
     "data": {
      "image/png": "[encoded data removed]",
      "text/plain": [
       "<Figure size 432x288 with 1 Axes>"
      ]
     },
     "metadata": {
      "needs_background": "light"
     },
     "output_type": "display_data"
    }
   ],
   "source": [
    "show_train_history(train_history_3, 'acc', 'val_acc')"
   ]
  },
  {
   "cell_type": "code",
   "execution_count": 28,
   "metadata": {},
   "outputs": [
    {
     "data": {
      "image/png": "[encoded data removed]",
      "text/plain": [
       "<Figure size 432x288 with 1 Axes>"
      ]
     },
     "metadata": {
      "needs_background": "light"
     },
     "output_type": "display_data"
    }
   ],
   "source": [
    "show_train_history(train_history_4, 'acc', 'val_acc')"
   ]
  },
  {
   "cell_type": "code",
   "execution_count": 29,
   "metadata": {},
   "outputs": [],
   "source": [
    "# show_train_history(train_history_5, 'acc', 'val_acc')"
   ]
  },
  {
   "cell_type": "code",
   "execution_count": 30,
   "metadata": {},
   "outputs": [],
   "source": [
    "# show_train_history(train_history_6, 'acc', 'val_acc')"
   ]
  },
  {
   "cell_type": "code",
   "execution_count": 31,
   "metadata": {},
   "outputs": [
    {
     "data": {
      "image/png": "[encoded data removed]",
      "text/plain": [
       "<Figure size 432x288 with 1 Axes>"
      ]
     },
     "metadata": {
      "needs_background": "light"
     },
     "output_type": "display_data"
    }
   ],
   "source": [
    "plt.plot(train_history_0.history['val_acc'], 'r-')\n",
    "plt.plot(train_history_1.history['val_acc'], 'b--')\n",
    "plt.plot(train_history_2.history['val_acc'], 'k.')\n",
    "plt.plot(train_history_3.history['val_acc'], 'b-')\n",
    "plt.plot(train_history_4.history['val_acc'], 'h-')\n",
    "# plt.plot(train_history_5.history['val_acc'], 'c-')\n",
    "# plt.plot(train_history_6.history['val_acc'], 'g*-')\n",
    "# plt.plot(train_history_7.history['val_acc'], 'k-.')\n",
    "plt.title('Training on MNIST')\n",
    "plt.ylabel('Validation Accuracy')\n",
    "plt.xlabel('Epoch')\n",
    "plt.legend(['CapsNet: 1-conv','CapsNet: 2-conv','CapsNet: 3-conv','CapsNet: 4-conv','CNN-2CONV'], loc='best')\n",
    "plt.show()"
   ]
  },
  {
   "cell_type": "code",
   "execution_count": null,
   "metadata": {},
   "outputs": [],
   "source": []
  }
 ],
 "metadata": {
  "kernelspec": {
   "display_name": "Python 3",
   "language": "python",
   "name": "python3"
  },
  "language_info": {
   "codemirror_mode": {
    "name": "ipython",
    "version": 3
   },
   "file_extension": ".py",
   "mimetype": "text/x-python",
   "name": "python",
   "nbconvert_exporter": "python",
   "pygments_lexer": "ipython3",
   "version": "3.6.10"
  }
 },
 "nbformat": 4,
 "nbformat_minor": 2
}
