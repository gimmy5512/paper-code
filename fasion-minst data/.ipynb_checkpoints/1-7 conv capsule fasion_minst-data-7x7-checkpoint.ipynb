{
 "cells": [
  {
   "cell_type": "code",
   "execution_count": 1,
   "metadata": {},
   "outputs": [],
   "source": [
    "import os\n"
   ]
  },
  {
   "cell_type": "code",
   "execution_count": 2,
   "metadata": {},
   "outputs": [
    {
     "name": "stderr",
     "output_type": "stream",
     "text": [
      "Using TensorFlow backend.\n",
      "C:\\Users\\ASUS\\Anaconda3\\envs\\tensorflow-gpu\\lib\\site-packages\\tensorflow\\python\\framework\\dtypes.py:526: FutureWarning: Passing (type, 1) or '1type' as a synonym of type is deprecated; in a future version of numpy, it will be understood as (type, (1,)) / '(1,)type'.\n",
      "  _np_qint8 = np.dtype([(\"qint8\", np.int8, 1)])\n",
      "C:\\Users\\ASUS\\Anaconda3\\envs\\tensorflow-gpu\\lib\\site-packages\\tensorflow\\python\\framework\\dtypes.py:527: FutureWarning: Passing (type, 1) or '1type' as a synonym of type is deprecated; in a future version of numpy, it will be understood as (type, (1,)) / '(1,)type'.\n",
      "  _np_quint8 = np.dtype([(\"quint8\", np.uint8, 1)])\n",
      "C:\\Users\\ASUS\\Anaconda3\\envs\\tensorflow-gpu\\lib\\site-packages\\tensorflow\\python\\framework\\dtypes.py:528: FutureWarning: Passing (type, 1) or '1type' as a synonym of type is deprecated; in a future version of numpy, it will be understood as (type, (1,)) / '(1,)type'.\n",
      "  _np_qint16 = np.dtype([(\"qint16\", np.int16, 1)])\n",
      "C:\\Users\\ASUS\\Anaconda3\\envs\\tensorflow-gpu\\lib\\site-packages\\tensorflow\\python\\framework\\dtypes.py:529: FutureWarning: Passing (type, 1) or '1type' as a synonym of type is deprecated; in a future version of numpy, it will be understood as (type, (1,)) / '(1,)type'.\n",
      "  _np_quint16 = np.dtype([(\"quint16\", np.uint16, 1)])\n",
      "C:\\Users\\ASUS\\Anaconda3\\envs\\tensorflow-gpu\\lib\\site-packages\\tensorflow\\python\\framework\\dtypes.py:530: FutureWarning: Passing (type, 1) or '1type' as a synonym of type is deprecated; in a future version of numpy, it will be understood as (type, (1,)) / '(1,)type'.\n",
      "  _np_qint32 = np.dtype([(\"qint32\", np.int32, 1)])\n",
      "C:\\Users\\ASUS\\Anaconda3\\envs\\tensorflow-gpu\\lib\\site-packages\\tensorflow\\python\\framework\\dtypes.py:535: FutureWarning: Passing (type, 1) or '1type' as a synonym of type is deprecated; in a future version of numpy, it will be understood as (type, (1,)) / '(1,)type'.\n",
      "  np_resource = np.dtype([(\"resource\", np.ubyte, 1)])\n"
     ]
    }
   ],
   "source": [
    "from __future__ import print_function\n",
    "from keras import backend as K\n",
    "from keras.layers import Layer\n",
    "from keras import activations\n",
    "from keras import utils\n",
    "from keras.datasets import fashion_mnist\n",
    "from keras.datasets import mnist\n",
    "from keras.models import Model\n",
    "from keras.layers import *\n",
    "from keras.preprocessing.image import ImageDataGenerator\n",
    "import cv2"
   ]
  },
  {
   "cell_type": "code",
   "execution_count": 3,
   "metadata": {},
   "outputs": [],
   "source": [
    "from tensorflow.compat.v1 import ConfigProto\n",
    "from tensorflow.compat.v1 import InteractiveSession\n",
    "\n",
    "config = ConfigProto()\n",
    "config.gpu_options.allow_growth = True\n",
    "session = InteractiveSession(config=config)"
   ]
  },
  {
   "cell_type": "code",
   "execution_count": 4,
   "metadata": {},
   "outputs": [],
   "source": [
    "Vld_Splt= 0.0909\n",
    "batch_size = 200\n",
    "num_classes = 10\n",
    "epochs = 30"
   ]
  },
  {
   "cell_type": "code",
   "execution_count": 5,
   "metadata": {},
   "outputs": [],
   "source": [
    "(x_train, y_train), (x_test, y_test) = fashion_mnist.load_data()\n",
    "\n",
    "x_train = x_train.reshape(x_train.shape[0], x_train.shape[1], x_train.shape[2], 1)\\\n",
    "         .astype('float32')\n",
    "x_test = x_test.reshape(x_test.shape[0], x_test.shape[1], x_test.shape[2], 1).\\\n",
    "         astype('float32')\n",
    "x_train /= 255\n",
    "x_test /= 255\n",
    "y_train = utils.to_categorical(y_train, num_classes)\n",
    "y_test = utils.to_categorical(y_test, num_classes)"
   ]
  },
  {
   "cell_type": "code",
   "execution_count": 6,
   "metadata": {},
   "outputs": [
    {
     "name": "stdout",
     "output_type": "stream",
     "text": [
      "(60000, 10) \n",
      " (10000, 10) \n",
      " (60000, 28, 28, 1) \n",
      " (10000, 28, 28, 1)\n"
     ]
    }
   ],
   "source": [
    "print(y_train.shape, '\\n',y_test.shape,'\\n',\n",
    "      x_train.shape,'\\n', x_test.shape)"
   ]
  },
  {
   "cell_type": "code",
   "execution_count": 7,
   "metadata": {},
   "outputs": [],
   "source": [
    "# the squashing function.\n",
    "# we use 0.5 in stead of 1 in hinton's paper.\n",
    "# if 1, the norm of vector will be zoomed out.\n",
    "# if 0.5, the norm will be zoomed in while original norm is less than 0.5\n",
    "# and be zoomed out while original norm is greater than 0.5.\n",
    "def squash(x, axis=-1):\n",
    "    s_squared_norm = K.sum(K.square(x), axis, keepdims=True) + K.epsilon()\n",
    "    scale = K.sqrt(s_squared_norm) / (0.5 + s_squared_norm)\n",
    "    return scale * x\n",
    "\n",
    "\n",
    "# define our own softmax function instead of K.softmax\n",
    "# because K.softmax can not specify axis.\n",
    "def softmax(x, axis=-1):\n",
    "    ex = K.exp(x - K.max(x, axis=axis, keepdims=True))\n",
    "    return ex / K.sum(ex, axis=axis, keepdims=True)\n",
    "\n",
    "\n",
    "# define the margin loss like hinge loss\n",
    "def margin_loss(y_true, y_pred):\n",
    "    lamb, margin = 0.5, 0.1\n",
    "    return K.sum(y_true * K.square(K.relu(1 - margin - y_pred)) + lamb * (\n",
    "        1 - y_true) * K.square(K.relu(y_pred - margin)), axis=-1)\n",
    "\n",
    "\n",
    "class Capsule(Layer):\n",
    "    \"\"\"A Capsule Implement with Pure Keras\n",
    "    There are two vesions of Capsule.\n",
    "    One is like dense layer (for the fixed-shape input),\n",
    "    and the other is like timedistributed dense (for various length input).\n",
    "\n",
    "    The input shape of Capsule must be (batch_size,\n",
    "                                        input_num_capsule,\n",
    "                                        input_dim_capsule\n",
    "                                       )\n",
    "    and the output shape is (batch_size,\n",
    "                             num_capsule,\n",
    "                             dim_capsule\n",
    "                            )\n",
    "\n",
    "    Capsule Implement is from https://github.com/bojone/Capsule/\n",
    "    Capsule Paper: https://arxiv.org/abs/1710.09829\n",
    "    \"\"\"\n",
    "\n",
    "    def __init__(self,\n",
    "                 num_capsule,\n",
    "                 dim_capsule,\n",
    "                 routings=3,\n",
    "                 share_weights=True,\n",
    "                 activation='squash',\n",
    "                 **kwargs):\n",
    "        super(Capsule, self).__init__(**kwargs)\n",
    "        self.num_capsule = num_capsule\n",
    "        self.dim_capsule = dim_capsule\n",
    "        self.routings = routings\n",
    "        self.share_weights = share_weights\n",
    "        if activation == 'squash':\n",
    "            self.activation = squash\n",
    "        else:\n",
    "            self.activation = activations.get(activation)\n",
    "\n",
    "    def build(self, input_shape):\n",
    "        input_dim_capsule = input_shape[-1]\n",
    "        if self.share_weights:\n",
    "            self.kernel = self.add_weight(\n",
    "                name='capsule_kernel',\n",
    "                shape=(1, input_dim_capsule,\n",
    "                       self.num_capsule * self.dim_capsule),\n",
    "                initializer='glorot_uniform',\n",
    "                trainable=True)\n",
    "        else:\n",
    "            input_num_capsule = input_shape[-2]\n",
    "            self.kernel = self.add_weight(\n",
    "                name='capsule_kernel',\n",
    "                shape=(input_num_capsule, input_dim_capsule,\n",
    "                       self.num_capsule * self.dim_capsule),\n",
    "                initializer='glorot_uniform',\n",
    "                trainable=True)\n",
    "\n",
    "    def call(self, inputs):\n",
    "        \"\"\"Following the routing algorithm from Hinton's paper,\n",
    "        but replace b = b + <u,v> with b = <u,v>.\n",
    "\n",
    "        This change can improve the feature representation of Capsule.\n",
    "\n",
    "        However, you can replace\n",
    "            b = K.batch_dot(outputs, hat_inputs, [2, 3])\n",
    "        with\n",
    "            b += K.batch_dot(outputs, hat_inputs, [2, 3])\n",
    "        to realize a standard routing.\n",
    "        \"\"\"\n",
    "\n",
    "        if self.share_weights:\n",
    "            hat_inputs = K.conv1d(inputs, self.kernel)\n",
    "        else:\n",
    "            hat_inputs = K.local_conv1d(inputs, self.kernel, [1], [1])\n",
    "\n",
    "        batch_size = K.shape(inputs)[0]\n",
    "        input_num_capsule = K.shape(inputs)[1]\n",
    "        hat_inputs = K.reshape(hat_inputs,\n",
    "                               (batch_size, input_num_capsule,\n",
    "                                self.num_capsule, self.dim_capsule))\n",
    "        hat_inputs = K.permute_dimensions(hat_inputs, (0, 2, 1, 3))\n",
    "\n",
    "        b = K.zeros_like(hat_inputs[:, :, :, 0])\n",
    "        for i in range(self.routings):\n",
    "            c = softmax(b, 1)\n",
    "            o = self.activation(K.batch_dot(c, hat_inputs, [2, 2]))\n",
    "            if i < self.routings - 1:\n",
    "                b = K.batch_dot(o, hat_inputs, [2, 3])\n",
    "                if K.backend() == 'theano':\n",
    "                    o = K.sum(o, axis=1)\n",
    "\n",
    "        return o\n",
    "\n",
    "    def compute_output_shape(self, input_shape):\n",
    "        return (None, self.num_capsule, self.dim_capsule)"
   ]
  },
  {
   "cell_type": "code",
   "execution_count": 8,
   "metadata": {},
   "outputs": [
    {
     "name": "stdout",
     "output_type": "stream",
     "text": [
      "WARNING:tensorflow:From C:\\Users\\ASUS\\Anaconda3\\envs\\tensorflow-gpu\\lib\\site-packages\\tensorflow\\python\\framework\\op_def_library.py:263: colocate_with (from tensorflow.python.framework.ops) is deprecated and will be removed in a future version.\n",
      "Instructions for updating:\n",
      "Colocations handled automatically by placer.\n",
      "WARNING:tensorflow:From C:\\Users\\ASUS\\Anaconda3\\envs\\tensorflow-gpu\\lib\\site-packages\\keras\\backend\\tensorflow_backend.py:3445: calling dropout (from tensorflow.python.ops.nn_ops) with keep_prob is deprecated and will be removed in a future version.\n",
      "Instructions for updating:\n",
      "Please use `rate` instead of `keep_prob`. Rate should be set to `rate = 1 - keep_prob`.\n",
      "_________________________________________________________________\n",
      "Layer (type)                 Output Shape              Param #   \n",
      "=================================================================\n",
      "input_1 (InputLayer)         (None, 28, 28, 1)         0         \n",
      "_________________________________________________________________\n",
      "conv2d_1 (Conv2D)            (None, 22, 22, 250)       12500     \n",
      "_________________________________________________________________\n",
      "dropout_1 (Dropout)          (None, 22, 22, 250)       0         \n",
      "_________________________________________________________________\n",
      "reshape_1 (Reshape)          (None, 484, 250)          0         \n",
      "_________________________________________________________________\n",
      "capsule_1 (Capsule)          (None, 10, 16)            40000     \n",
      "_________________________________________________________________\n",
      "lambda_1 (Lambda)            (None, 10)                0         \n",
      "=================================================================\n",
      "Total params: 52,500\n",
      "Trainable params: 52,500\n",
      "Non-trainable params: 0\n",
      "_________________________________________________________________\n"
     ]
    }
   ],
   "source": [
    "\"\"\"one-CONV-LAYERS-THICK\"\"\"\n",
    "input_image = Input(shape=(x_train.shape[1], x_train.shape[2], x_train.shape[3]))\n",
    "x_0 = Conv2D(filters= 250, kernel_size= 7, activation='relu', \n",
    "             padding= 'valid')(input_image)\n",
    "x_0= Dropout(0.1)(x_0)\n",
    "\n",
    "\n",
    "\"\"\"now we reshape it as (batch_size, input_num_capsule, input_dim_capsule)\n",
    "then connect a Capsule layer.\n",
    "\n",
    "the output of final model is the lengths of 10 Capsule, whose dim=16.\n",
    "\n",
    "the length of Capsule is the proba,\n",
    "so the problem becomes a 10 two-classification problem.\n",
    "\"\"\"\n",
    "\n",
    "x_0 = Reshape((-1, 250))(x_0)\n",
    "capsule_0 = Capsule(num_classes, 16, 3, True)(x_0)\n",
    "output_0 = Lambda(lambda z: K.sqrt(K.sum(K.square(z), 2)))(capsule_0)\n",
    "model_0 = Model(inputs= input_image, outputs= output_0)\n",
    "\n",
    "# we use a margin loss\n",
    "model_0.compile(loss =margin_loss, optimizer='adam', metrics=['accuracy'])\n",
    "model_0.summary()\n",
    "\n",
    "# we can compare the performance with or without data augmentation\n",
    "data_augmentation = False"
   ]
  },
  {
   "cell_type": "code",
   "execution_count": 9,
   "metadata": {},
   "outputs": [
    {
     "name": "stdout",
     "output_type": "stream",
     "text": [
      "_________________________________________________________________\n",
      "Layer (type)                 Output Shape              Param #   \n",
      "=================================================================\n",
      "input_2 (InputLayer)         (None, 28, 28, 1)         0         \n",
      "_________________________________________________________________\n",
      "conv2d_2 (Conv2D)            (None, 22, 22, 15)        750       \n",
      "_________________________________________________________________\n",
      "dropout_2 (Dropout)          (None, 22, 22, 15)        0         \n",
      "_________________________________________________________________\n",
      "conv2d_3 (Conv2D)            (None, 16, 16, 60)        44160     \n",
      "_________________________________________________________________\n",
      "dropout_3 (Dropout)          (None, 16, 16, 60)        0         \n",
      "_________________________________________________________________\n",
      "reshape_2 (Reshape)          (None, 256, 60)           0         \n",
      "_________________________________________________________________\n",
      "capsule_2 (Capsule)          (None, 10, 16)            9600      \n",
      "_________________________________________________________________\n",
      "lambda_2 (Lambda)            (None, 10)                0         \n",
      "=================================================================\n",
      "Total params: 54,510\n",
      "Trainable params: 54,510\n",
      "Non-trainable params: 0\n",
      "_________________________________________________________________\n"
     ]
    }
   ],
   "source": [
    "\"\"\"two-CONV-LAYERS-THICK\"\"\"\n",
    "input_image = Input(shape=(x_train.shape[1], x_train.shape[2], x_train.shape[3]))\n",
    "x_1 = Conv2D(filters= 15, kernel_size= 7, activation='relu', \n",
    "             padding= 'valid')(input_image)\n",
    "x_1= Dropout(0.1)(x_1)\n",
    "x_1 = Conv2D(filters= 60, kernel_size= 7, activation='relu',\n",
    "             strides= 1)(x_1)\n",
    "x_1 = Dropout(0.1)(x_1)\n",
    "\n",
    "\n",
    "\"\"\"now we reshape it as (batch_size, input_num_capsule, input_dim_capsule)\n",
    "then connect a Capsule layer.\n",
    "\n",
    "the output of final model is the lengths of 10 Capsule, whose dim=16.\n",
    "\n",
    "the length of Capsule is the proba,\n",
    "so the problem becomes a 10 two-classification problem.\n",
    "\"\"\"\n",
    "\n",
    "x_1 = Reshape((-1, 60))(x_1)\n",
    "capsule_1 = Capsule(num_classes, 16, 3, True)(x_1)\n",
    "output_1 = Lambda(lambda z: K.sqrt(K.sum(K.square(z), 2)))(capsule_1)\n",
    "model_1= Model(inputs= input_image, outputs= output_1)\n",
    "\n",
    "# we use a margin loss\n",
    "model_1.compile(loss =margin_loss, optimizer='adam', metrics=['accuracy'])\n",
    "model_1.summary()\n",
    "\n",
    "# we can compare the performance with or without data augmentation\n",
    "data_augmentation = False"
   ]
  },
  {
   "cell_type": "code",
   "execution_count": 35,
   "metadata": {},
   "outputs": [
    {
     "name": "stdout",
     "output_type": "stream",
     "text": [
      "_________________________________________________________________\n",
      "Layer (type)                 Output Shape              Param #   \n",
      "=================================================================\n",
      "input_8 (InputLayer)         (None, 28, 28, 1)         0         \n",
      "_________________________________________________________________\n",
      "conv2d_24 (Conv2D)           (None, 22, 22, 15)        750       \n",
      "_________________________________________________________________\n",
      "dropout_24 (Dropout)         (None, 22, 22, 15)        0         \n",
      "_________________________________________________________________\n",
      "conv2d_25 (Conv2D)           (None, 16, 16, 25)        18400     \n",
      "_________________________________________________________________\n",
      "dropout_25 (Dropout)         (None, 16, 16, 25)        0         \n",
      "_________________________________________________________________\n",
      "conv2d_26 (Conv2D)           (None, 10, 10, 25)        30650     \n",
      "_________________________________________________________________\n",
      "dropout_26 (Dropout)         (None, 10, 10, 25)        0         \n",
      "_________________________________________________________________\n",
      "reshape_8 (Reshape)          (None, 100, 25)           0         \n",
      "_________________________________________________________________\n",
      "capsule_8 (Capsule)          (None, 10, 16)            4000      \n",
      "_________________________________________________________________\n",
      "lambda_8 (Lambda)            (None, 10)                0         \n",
      "=================================================================\n",
      "Total params: 53,800\n",
      "Trainable params: 53,800\n",
      "Non-trainable params: 0\n",
      "_________________________________________________________________\n"
     ]
    }
   ],
   "source": [
    "\"\"\"three-CONV-LAYERS-THICK\"\"\"\n",
    "input_image = Input(shape=(x_train.shape[1], x_train.shape[2], x_train.shape[3]))\n",
    "x_2 = Conv2D(filters= 15, kernel_size= 7, activation='relu', \n",
    "             padding= 'valid')(input_image)\n",
    "x_2= Dropout(0.1)(x_2)\n",
    "x_2 = Conv2D(filters= 25, kernel_size= 7, activation='relu',\n",
    "             strides= 1)(x_2)\n",
    "x_2 = Dropout(0.1)(x_2)\n",
    "x_2 = Conv2D(filters= 25, kernel_size= 7, activation='relu',\n",
    "             strides= 1)(x_2)\n",
    "x_2 = Dropout(0.1)(x_2)\n",
    "\n",
    "\n",
    "\"\"\"now we reshape it as (batch_size, input_num_capsule, input_dim_capsule)\n",
    "then connect a Capsule layer.\n",
    "\n",
    "the output of final model is the lengths of 10 Capsule, whose dim=16.\n",
    "\n",
    "the length of Capsule is the proba,\n",
    "so the problem becomes a 10 two-classification problem.\n",
    "\"\"\"\n",
    "\n",
    "x_2 = Reshape((-1, 25))(x_2)\n",
    "capsule_2 = Capsule(num_classes, 16, 3, True)(x_2)\n",
    "output_2 = Lambda(lambda z: K.sqrt(K.sum(K.square(z), 2)))(capsule_2)\n",
    "model_2= Model(inputs= input_image, outputs= output_2)\n",
    "\n",
    "# we use a margin loss\n",
    "model_2.compile(loss =margin_loss, optimizer='adam', metrics=['accuracy'])\n",
    "model_2.summary()\n",
    "\n",
    "# we can compare the performance with or without data augmentation\n",
    "data_augmentation = False"
   ]
  },
  {
   "cell_type": "code",
   "execution_count": 36,
   "metadata": {},
   "outputs": [
    {
     "name": "stdout",
     "output_type": "stream",
     "text": [
      "_________________________________________________________________\n",
      "Layer (type)                 Output Shape              Param #   \n",
      "=================================================================\n",
      "input_9 (InputLayer)         (None, 28, 28, 1)         0         \n",
      "_________________________________________________________________\n",
      "conv2d_27 (Conv2D)           (None, 22, 22, 15)        750       \n",
      "_________________________________________________________________\n",
      "dropout_27 (Dropout)         (None, 22, 22, 15)        0         \n",
      "_________________________________________________________________\n",
      "conv2d_28 (Conv2D)           (None, 16, 16, 15)        11040     \n",
      "_________________________________________________________________\n",
      "dropout_28 (Dropout)         (None, 16, 16, 15)        0         \n",
      "_________________________________________________________________\n",
      "conv2d_29 (Conv2D)           (None, 10, 10, 20)        14720     \n",
      "_________________________________________________________________\n",
      "dropout_29 (Dropout)         (None, 10, 10, 20)        0         \n",
      "_________________________________________________________________\n",
      "conv2d_30 (Conv2D)           (None, 4, 4, 30)          29430     \n",
      "_________________________________________________________________\n",
      "dropout_30 (Dropout)         (None, 4, 4, 30)          0         \n",
      "_________________________________________________________________\n",
      "reshape_9 (Reshape)          (None, 16, 30)            0         \n",
      "_________________________________________________________________\n",
      "capsule_9 (Capsule)          (None, 10, 16)            4800      \n",
      "_________________________________________________________________\n",
      "lambda_9 (Lambda)            (None, 10)                0         \n",
      "=================================================================\n",
      "Total params: 60,740\n",
      "Trainable params: 60,740\n",
      "Non-trainable params: 0\n",
      "_________________________________________________________________\n"
     ]
    }
   ],
   "source": [
    "\"\"\"four-CONV-LAYERS-THICK\"\"\"\n",
    "input_image = Input(shape=(x_train.shape[1], x_train.shape[2], x_train.shape[3]))\n",
    "x_3 = Conv2D(filters= 15, kernel_size= 7, activation='relu', \n",
    "             padding= 'valid')(input_image)\n",
    "x_3= Dropout(0.1)(x_3)\n",
    "x_3 = Conv2D(filters= 15 ,kernel_size= 7, activation='relu',\n",
    "             strides= 1)(x_3)\n",
    "x_3 = Dropout(0.1)(x_3)\n",
    "x_3 = Conv2D(filters= 20, kernel_size= 7, activation='relu',\n",
    "             strides= 1)(x_3)\n",
    "x_3= Dropout(0.1)(x_3)\n",
    "x_3 = Conv2D(filters= 30,kernel_size= 7, activation='relu',\n",
    "             strides= 1)(x_3)\n",
    "x_3= Dropout(0.1)(x_3)\n",
    "\n",
    "\n",
    "\"\"\"now we reshape it as (batch_size, input_num_capsule, input_dim_capsule)\n",
    "then connect a Capsule layer.\n",
    "\n",
    "the output of final model is the lengths of 10 Capsule, whose dim=16.\n",
    "\n",
    "the length of Capsule is the proba,\n",
    "so the problem becomes a 10 two-classification problem.\n",
    "\"\"\"\n",
    "\n",
    "x_3 = Reshape((-1, 30))(x_3)\n",
    "capsule_3 = Capsule(num_classes, 16, 3, True)(x_3)\n",
    "output_3 = Lambda(lambda z: K.sqrt(K.sum(K.square(z), 2)))(capsule_3)\n",
    "model_3= Model(inputs= input_image, outputs= output_3)\n",
    "\n",
    "# we use a margin loss\n",
    "model_3.compile(loss =margin_loss, optimizer='adam', metrics=['accuracy'])\n",
    "model_3.summary()\n",
    "\n",
    "# we can compare the performance with or without data augmentation\n",
    "data_augmentation = False"
   ]
  },
  {
   "cell_type": "code",
   "execution_count": 12,
   "metadata": {},
   "outputs": [
    {
     "name": "stdout",
     "output_type": "stream",
     "text": [
      "_________________________________________________________________\n",
      "Layer (type)                 Output Shape              Param #   \n",
      "=================================================================\n",
      "conv2d_11 (Conv2D)           (None, 28, 28, 5)         250       \n",
      "_________________________________________________________________\n",
      "max_pooling2d_1 (MaxPooling2 (None, 14, 14, 5)         0         \n",
      "_________________________________________________________________\n",
      "conv2d_12 (Conv2D)           (None, 14, 14, 10)        2460      \n",
      "_________________________________________________________________\n",
      "dropout_11 (Dropout)         (None, 14, 14, 10)        0         \n",
      "_________________________________________________________________\n",
      "max_pooling2d_2 (MaxPooling2 (None, 7, 7, 10)          0         \n",
      "_________________________________________________________________\n",
      "flatten_1 (Flatten)          (None, 490)               0         \n",
      "_________________________________________________________________\n",
      "dropout_12 (Dropout)         (None, 490)               0         \n",
      "_________________________________________________________________\n",
      "dense_1 (Dense)              (None, 256)               125696    \n",
      "_________________________________________________________________\n",
      "dense_2 (Dense)              (None, 10)                2570      \n",
      "=================================================================\n",
      "Total params: 130,976\n",
      "Trainable params: 130,976\n",
      "Non-trainable params: 0\n",
      "_________________________________________________________________\n",
      "None\n"
     ]
    }
   ],
   "source": [
    "\"\"\"CNN-3-CONV-LAYERS\"\"\"\n",
    "from keras.models import Sequential\n",
    "from keras.layers import Dense, Dropout, Activation, Flatten, Conv2D, MaxPooling2D, \\\n",
    "                         ZeroPadding2D\n",
    "\n",
    "model_4= Sequential()\n",
    "model_4.add(Conv2D(filters= 5, kernel_size= (7, 7), padding= 'same', \n",
    "                   input_shape=(x_train.shape[1], x_train.shape[2], x_train.shape[3]), \n",
    "                   activation='relu'))\n",
    "model_4.add(MaxPooling2D(pool_size=(2,2)))\n",
    "model_4.add(Conv2D(filters= 10, kernel_size= (7, 7), \n",
    "                    padding= 'same', activation='relu'))\n",
    "model_4.add(Dropout(0.4))\n",
    "model_4.add(MaxPooling2D(pool_size=(2,2)))\n",
    "\n",
    "model_4.add(Flatten())\n",
    "model_4.add(Dropout(0.5))\n",
    "model_4.add(Dense(256, activation='relu'))\n",
    "model_4.add(Dense(num_classes, activation='softmax'))\n",
    "print(model_4.summary())"
   ]
  },
  {
   "cell_type": "code",
   "execution_count": 13,
   "metadata": {},
   "outputs": [
    {
     "name": "stdout",
     "output_type": "stream",
     "text": [
      "Not using data augmentation.\n",
      "WARNING:tensorflow:From C:\\Users\\ASUS\\Anaconda3\\envs\\tensorflow-gpu\\lib\\site-packages\\tensorflow\\python\\ops\\math_ops.py:3066: to_int32 (from tensorflow.python.ops.math_ops) is deprecated and will be removed in a future version.\n",
      "Instructions for updating:\n",
      "Use tf.cast instead.\n",
      "WARNING:tensorflow:From C:\\Users\\ASUS\\Anaconda3\\envs\\tensorflow-gpu\\lib\\site-packages\\tensorflow\\python\\ops\\math_grad.py:102: div (from tensorflow.python.ops.math_ops) is deprecated and will be removed in a future version.\n",
      "Instructions for updating:\n",
      "Deprecated in favor of operator or tf.math.divide.\n",
      "Train on 54546 samples, validate on 5454 samples\n",
      "Epoch 1/30\n",
      "54546/54546 [==============================] - 16s 294us/step - loss: 0.3152 - acc: 0.6767 - val_loss: 0.1828 - val_acc: 0.7748\n",
      "Epoch 2/30\n",
      "54546/54546 [==============================] - 14s 263us/step - loss: 0.1750 - acc: 0.7777 - val_loss: 0.1628 - val_acc: 0.7917\n",
      "Epoch 3/30\n",
      "54546/54546 [==============================] - 14s 263us/step - loss: 0.1622 - acc: 0.7951 - val_loss: 0.1538 - val_acc: 0.8051\n",
      "Epoch 4/30\n",
      "54546/54546 [==============================] - 14s 265us/step - loss: 0.1536 - acc: 0.8096 - val_loss: 0.1473 - val_acc: 0.8185\n",
      "Epoch 5/30\n",
      "54546/54546 [==============================] - 14s 265us/step - loss: 0.1482 - acc: 0.8137 - val_loss: 0.1462 - val_acc: 0.8223\n",
      "Epoch 6/30\n",
      "54546/54546 [==============================] - 14s 264us/step - loss: 0.1443 - acc: 0.8207 - val_loss: 0.1376 - val_acc: 0.8282\n",
      "Epoch 7/30\n",
      "54546/54546 [==============================] - 14s 265us/step - loss: 0.1398 - acc: 0.8277 - val_loss: 0.1419 - val_acc: 0.8238\n",
      "Epoch 8/30\n",
      "54546/54546 [==============================] - 14s 264us/step - loss: 0.1363 - acc: 0.8319 - val_loss: 0.1310 - val_acc: 0.8355\n",
      "Epoch 9/30\n",
      "54546/54546 [==============================] - 14s 265us/step - loss: 0.1349 - acc: 0.8338 - val_loss: 0.1327 - val_acc: 0.8339\n",
      "Epoch 10/30\n",
      "54546/54546 [==============================] - 14s 265us/step - loss: 0.1310 - acc: 0.8377 - val_loss: 0.1274 - val_acc: 0.8385\n",
      "Epoch 11/30\n",
      "54546/54546 [==============================] - 15s 266us/step - loss: 0.1292 - acc: 0.8405 - val_loss: 0.1266 - val_acc: 0.8425\n",
      "Epoch 12/30\n",
      "54546/54546 [==============================] - 15s 266us/step - loss: 0.1276 - acc: 0.8409 - val_loss: 0.1268 - val_acc: 0.8392\n",
      "Epoch 13/30\n",
      "54546/54546 [==============================] - 15s 267us/step - loss: 0.1254 - acc: 0.8447 - val_loss: 0.1223 - val_acc: 0.8431\n",
      "Epoch 14/30\n",
      "54546/54546 [==============================] - 15s 267us/step - loss: 0.1237 - acc: 0.8472 - val_loss: 0.1264 - val_acc: 0.8431\n",
      "Epoch 15/30\n",
      "54546/54546 [==============================] - 15s 267us/step - loss: 0.1228 - acc: 0.8490 - val_loss: 0.1208 - val_acc: 0.8489\n",
      "Epoch 16/30\n",
      "54546/54546 [==============================] - 15s 267us/step - loss: 0.1211 - acc: 0.8506 - val_loss: 0.1181 - val_acc: 0.8489\n",
      "Epoch 17/30\n",
      "54546/54546 [==============================] - 15s 274us/step - loss: 0.1205 - acc: 0.8519 - val_loss: 0.1196 - val_acc: 0.8509\n",
      "Epoch 18/30\n",
      "54546/54546 [==============================] - 16s 287us/step - loss: 0.1201 - acc: 0.8524 - val_loss: 0.1171 - val_acc: 0.8495\n",
      "Epoch 19/30\n",
      "54546/54546 [==============================] - 15s 270us/step - loss: 0.1188 - acc: 0.8545 - val_loss: 0.1194 - val_acc: 0.8533\n",
      "Epoch 20/30\n",
      "54546/54546 [==============================] - 17s 306us/step - loss: 0.1169 - acc: 0.8566 - val_loss: 0.1155 - val_acc: 0.8550\n",
      "Epoch 21/30\n",
      "54546/54546 [==============================] - 16s 288us/step - loss: 0.1166 - acc: 0.8565 - val_loss: 0.1177 - val_acc: 0.8546\n",
      "Epoch 22/30\n",
      "54546/54546 [==============================] - 14s 266us/step - loss: 0.1159 - acc: 0.8587 - val_loss: 0.1145 - val_acc: 0.8561\n",
      "Epoch 23/30\n",
      "54546/54546 [==============================] - 14s 263us/step - loss: 0.1148 - acc: 0.8598 - val_loss: 0.1169 - val_acc: 0.8592\n",
      "Epoch 24/30\n",
      "54546/54546 [==============================] - 14s 264us/step - loss: 0.1127 - acc: 0.8612 - val_loss: 0.1108 - val_acc: 0.8597\n",
      "Epoch 25/30\n",
      "54546/54546 [==============================] - 14s 264us/step - loss: 0.1133 - acc: 0.8622 - val_loss: 0.1101 - val_acc: 0.8588\n",
      "Epoch 26/30\n",
      "54546/54546 [==============================] - 15s 267us/step - loss: 0.1126 - acc: 0.8638 - val_loss: 0.1099 - val_acc: 0.8651\n",
      "Epoch 27/30\n",
      "54546/54546 [==============================] - 15s 266us/step - loss: 0.1113 - acc: 0.8652 - val_loss: 0.1098 - val_acc: 0.8634\n",
      "Epoch 28/30\n",
      "54546/54546 [==============================] - 15s 277us/step - loss: 0.1109 - acc: 0.8655 - val_loss: 0.1113 - val_acc: 0.8621\n",
      "Epoch 29/30\n",
      "54546/54546 [==============================] - 14s 264us/step - loss: 0.1103 - acc: 0.8663 - val_loss: 0.1098 - val_acc: 0.8643\n",
      "Epoch 30/30\n",
      "54546/54546 [==============================] - 15s 269us/step - loss: 0.1100 - acc: 0.8668 - val_loss: 0.1142 - val_acc: 0.8592\n"
     ]
    }
   ],
   "source": [
    "\"\"\"one-CONV-LAYERS-THICK\"\"\"\n",
    "if not data_augmentation:\n",
    "    print('Not using data augmentation.')\n",
    "    train_history_0= model_0.fit(\n",
    "        x_train,\n",
    "        y_train,\n",
    "        batch_size=batch_size,\n",
    "        epochs=epochs,\n",
    "        validation_split= Vld_Splt,\n",
    "        shuffle=True)\n",
    "else:\n",
    "    print('Using real-time data augmentation.')\n",
    "    # This will do preprocessing and realtime data augmentation:\n",
    "    datagen = ImageDataGenerator(\n",
    "        featurewise_center=False,  # set input mean to 0 over the dataset\n",
    "        samplewise_center=False,  # set each sample mean to 0\n",
    "        featurewise_std_normalization=False,  # divide inputs by dataset std\n",
    "        samplewise_std_normalization=False,  # divide each input by its std\n",
    "        zca_whitening=False,  # apply ZCA whitening\n",
    "        zca_epsilon=1e-06,  # epsilon for ZCA whitening\n",
    "        rotation_range=0,  # randomly rotate images in 0 to 180 degrees\n",
    "        width_shift_range=0.1,  # randomly shift images horizontally\n",
    "        height_shift_range=0.1,  # randomly shift images vertically\n",
    "        shear_range=0.,  # set range for random shear\n",
    "        zoom_range=0.,  # set range for random zoom\n",
    "        channel_shift_range=0.,  # set range for random channel shifts\n",
    "        # set mode for filling points outside the input boundaries\n",
    "        fill_mode='nearest',\n",
    "        cval=0.,  # value used for fill_mode = \"constant\"\n",
    "        horizontal_flip=True,  # randomly flip images\n",
    "        vertical_flip=False,  # randomly flip images\n",
    "        # set rescaling factor (applied before any other transformation)\n",
    "        rescale=None,\n",
    "        # set function that will be applied on each input\n",
    "        preprocessing_function=None,\n",
    "        # image data format, either \"channels_first\" or \"channels_last\"\n",
    "        data_format=None,\n",
    "        # fraction of images reserved for validation (strictly between 0 and 1)\n",
    "        validation_split=0.0)\n",
    "\n",
    "    # Compute quantities required for feature-wise normalization\n",
    "    # (std, mean, and principal components if ZCA whitening is applied).\n",
    "    datagen.fit(x_train)\n",
    "\n",
    "    # Fit the model on the batches generated by datagen.flow().\n",
    "    train_history_0= model_0.fit_generator(\n",
    "        datagen.flow(x_train, y_train, batch_size=batch_size),\n",
    "        epochs= epochs,\n",
    "        validation_split= Vld_Splt,\n",
    "        steps_per_epoch= int(x_train.shape[0]/ batch_size),\n",
    "        workers=4)"
   ]
  },
  {
   "cell_type": "code",
   "execution_count": 14,
   "metadata": {},
   "outputs": [
    {
     "name": "stdout",
     "output_type": "stream",
     "text": [
      "Not using data augmentation.\n",
      "Train on 54546 samples, validate on 5454 samples\n",
      "Epoch 1/30\n",
      "54546/54546 [==============================] - 7s 135us/step - loss: 0.2879 - acc: 0.6564 - val_loss: 0.1663 - val_acc: 0.7728\n",
      "Epoch 2/30\n",
      "54546/54546 [==============================] - 6s 118us/step - loss: 0.1605 - acc: 0.7792 - val_loss: 0.1475 - val_acc: 0.8062\n",
      "Epoch 3/30\n",
      "54546/54546 [==============================] - 7s 121us/step - loss: 0.1403 - acc: 0.8119 - val_loss: 0.1295 - val_acc: 0.8295\n",
      "Epoch 4/30\n",
      "54546/54546 [==============================] - 7s 123us/step - loss: 0.1282 - acc: 0.8321 - val_loss: 0.1225 - val_acc: 0.8409\n",
      "Epoch 5/30\n",
      "54546/54546 [==============================] - 6s 117us/step - loss: 0.1203 - acc: 0.8418 - val_loss: 0.1129 - val_acc: 0.8511\n",
      "Epoch 6/30\n",
      "54546/54546 [==============================] - 6s 117us/step - loss: 0.1148 - acc: 0.8506 - val_loss: 0.1096 - val_acc: 0.8546\n",
      "Epoch 7/30\n",
      "54546/54546 [==============================] - 6s 118us/step - loss: 0.1103 - acc: 0.8557 - val_loss: 0.1073 - val_acc: 0.8607\n",
      "Epoch 8/30\n",
      "54546/54546 [==============================] - 6s 117us/step - loss: 0.1067 - acc: 0.8629 - val_loss: 0.1060 - val_acc: 0.8625\n",
      "Epoch 9/30\n",
      "54546/54546 [==============================] - 6s 119us/step - loss: 0.1023 - acc: 0.8680 - val_loss: 0.0984 - val_acc: 0.8682\n",
      "Epoch 10/30\n",
      "54546/54546 [==============================] - 7s 122us/step - loss: 0.0997 - acc: 0.8710 - val_loss: 0.0977 - val_acc: 0.8687\n",
      "Epoch 11/30\n",
      "54546/54546 [==============================] - 6s 118us/step - loss: 0.0970 - acc: 0.8762 - val_loss: 0.0974 - val_acc: 0.8751\n",
      "Epoch 12/30\n",
      "54546/54546 [==============================] - 6s 117us/step - loss: 0.0947 - acc: 0.8801 - val_loss: 0.0932 - val_acc: 0.8762\n",
      "Epoch 13/30\n",
      "54546/54546 [==============================] - 6s 117us/step - loss: 0.0920 - acc: 0.8832 - val_loss: 0.0938 - val_acc: 0.8792\n",
      "Epoch 14/30\n",
      "54546/54546 [==============================] - 7s 119us/step - loss: 0.0906 - acc: 0.8847 - val_loss: 0.0912 - val_acc: 0.8834\n",
      "Epoch 15/30\n",
      "54546/54546 [==============================] - 6s 117us/step - loss: 0.0893 - acc: 0.8867 - val_loss: 0.0895 - val_acc: 0.8854\n",
      "Epoch 16/30\n",
      "54546/54546 [==============================] - 7s 119us/step - loss: 0.0875 - acc: 0.8895 - val_loss: 0.0884 - val_acc: 0.8898\n",
      "Epoch 17/30\n",
      "54546/54546 [==============================] - 7s 121us/step - loss: 0.0860 - acc: 0.8916 - val_loss: 0.0870 - val_acc: 0.8850\n",
      "Epoch 18/30\n",
      "54546/54546 [==============================] - 7s 123us/step - loss: 0.0837 - acc: 0.8951 - val_loss: 0.0882 - val_acc: 0.8871\n",
      "Epoch 19/30\n",
      "54546/54546 [==============================] - 7s 119us/step - loss: 0.0836 - acc: 0.8971 - val_loss: 0.0873 - val_acc: 0.8898\n",
      "Epoch 20/30\n",
      "54546/54546 [==============================] - 7s 123us/step - loss: 0.0825 - acc: 0.8972 - val_loss: 0.0878 - val_acc: 0.8929\n",
      "Epoch 21/30\n",
      "54546/54546 [==============================] - 6s 119us/step - loss: 0.0825 - acc: 0.8978 - val_loss: 0.0865 - val_acc: 0.8911\n",
      "Epoch 22/30\n",
      "54546/54546 [==============================] - 6s 117us/step - loss: 0.0802 - acc: 0.9004 - val_loss: 0.0830 - val_acc: 0.8979\n",
      "Epoch 23/30\n",
      "54546/54546 [==============================] - 6s 118us/step - loss: 0.0792 - acc: 0.9019 - val_loss: 0.0827 - val_acc: 0.8933\n",
      "Epoch 24/30\n",
      "54546/54546 [==============================] - 6s 116us/step - loss: 0.0798 - acc: 0.9012 - val_loss: 0.0821 - val_acc: 0.8990\n",
      "Epoch 25/30\n",
      "54546/54546 [==============================] - 6s 116us/step - loss: 0.0778 - acc: 0.9049 - val_loss: 0.0826 - val_acc: 0.8953\n",
      "Epoch 26/30\n",
      "54546/54546 [==============================] - 6s 118us/step - loss: 0.0768 - acc: 0.9057 - val_loss: 0.0917 - val_acc: 0.8889\n",
      "Epoch 27/30\n",
      "54546/54546 [==============================] - 7s 122us/step - loss: 0.0768 - acc: 0.9063 - val_loss: 0.0871 - val_acc: 0.8900\n",
      "Epoch 28/30\n",
      "54546/54546 [==============================] - 7s 125us/step - loss: 0.0755 - acc: 0.9085 - val_loss: 0.0799 - val_acc: 0.9001\n",
      "Epoch 29/30\n",
      "54546/54546 [==============================] - 6s 118us/step - loss: 0.0743 - acc: 0.9093 - val_loss: 0.0797 - val_acc: 0.9004\n",
      "Epoch 30/30\n",
      "54546/54546 [==============================] - 6s 118us/step - loss: 0.0741 - acc: 0.9097 - val_loss: 0.0815 - val_acc: 0.8968\n"
     ]
    }
   ],
   "source": [
    "\"\"\"two-CONV-LAYERS-THICK\"\"\"\n",
    "if not data_augmentation:\n",
    "    print('Not using data augmentation.')\n",
    "    train_history_1= model_1.fit(\n",
    "        x_train,\n",
    "        y_train,\n",
    "        batch_size=batch_size,\n",
    "        epochs=epochs,\n",
    "        validation_split= Vld_Splt,\n",
    "        shuffle=True)\n",
    "else:\n",
    "    print('Using real-time data augmentation.')\n",
    "    # This will do preprocessing and realtime data augmentation:\n",
    "    datagen = ImageDataGenerator(\n",
    "        featurewise_center=False,  # set input mean to 0 over the dataset\n",
    "        samplewise_center=False,  # set each sample mean to 0\n",
    "        featurewise_std_normalization=False,  # divide inputs by dataset std\n",
    "        samplewise_std_normalization=False,  # divide each input by its std\n",
    "        zca_whitening=False,  # apply ZCA whitening\n",
    "        zca_epsilon=1e-06,  # epsilon for ZCA whitening\n",
    "        rotation_range=0,  # randomly rotate images in 0 to 180 degrees\n",
    "        width_shift_range=0.1,  # randomly shift images horizontally\n",
    "        height_shift_range=0.1,  # randomly shift images vertically\n",
    "        shear_range=0.,  # set range for random shear\n",
    "        zoom_range=0.,  # set range for random zoom\n",
    "        channel_shift_range=0.,  # set range for random channel shifts\n",
    "        # set mode for filling points outside the input boundaries\n",
    "        fill_mode='nearest',\n",
    "        cval=0.,  # value used for fill_mode = \"constant\"\n",
    "        horizontal_flip=True,  # randomly flip images\n",
    "        vertical_flip=False,  # randomly flip images\n",
    "        # set rescaling factor (applied before any other transformation)\n",
    "        rescale=None,\n",
    "        # set function that will be applied on each input\n",
    "        preprocessing_function=None,\n",
    "        # image data format, either \"channels_first\" or \"channels_last\"\n",
    "        data_format=None,\n",
    "        # fraction of images reserved for validation (strictly between 0 and 1)\n",
    "        validation_split=0.0)\n",
    "\n",
    "    # Compute quantities required for feature-wise normalization\n",
    "    # (std, mean, and principal components if ZCA whitening is applied).\n",
    "    datagen.fit(x_train)\n",
    "\n",
    "    # Fit the model on the batches generated by datagen.flow().\n",
    "    train_history_1= model_1.fit_generator(\n",
    "        datagen.flow(x_train, y_train, batch_size=batch_size),\n",
    "        epochs= epochs,\n",
    "        validation_split= Vld_Splt,\n",
    "        steps_per_epoch= int(x_train.shape[0]/ batch_size),\n",
    "        workers=4)"
   ]
  },
  {
   "cell_type": "code",
   "execution_count": 37,
   "metadata": {},
   "outputs": [
    {
     "name": "stdout",
     "output_type": "stream",
     "text": [
      "Not using data augmentation.\n",
      "Train on 54546 samples, validate on 5454 samples\n",
      "Epoch 1/30\n",
      "54546/54546 [==============================] - 6s 105us/step - loss: 0.2825 - acc: 0.6443 - val_loss: 0.1537 - val_acc: 0.7792\n",
      "Epoch 2/30\n",
      "54546/54546 [==============================] - 4s 81us/step - loss: 0.1449 - acc: 0.7948 - val_loss: 0.1310 - val_acc: 0.8106\n",
      "Epoch 3/30\n",
      "54546/54546 [==============================] - 4s 81us/step - loss: 0.1252 - acc: 0.8275 - val_loss: 0.1128 - val_acc: 0.8491\n",
      "Epoch 4/30\n",
      "54546/54546 [==============================] - 4s 81us/step - loss: 0.1114 - acc: 0.8514 - val_loss: 0.1037 - val_acc: 0.8599\n",
      "Epoch 5/30\n",
      "54546/54546 [==============================] - 4s 81us/step - loss: 0.1029 - acc: 0.8633 - val_loss: 0.1009 - val_acc: 0.8645\n",
      "Epoch 6/30\n",
      "54546/54546 [==============================] - 4s 81us/step - loss: 0.0973 - acc: 0.8716 - val_loss: 0.0933 - val_acc: 0.8740\n",
      "Epoch 7/30\n",
      "54546/54546 [==============================] - 4s 81us/step - loss: 0.0940 - acc: 0.8771 - val_loss: 0.0906 - val_acc: 0.8781\n",
      "Epoch 8/30\n",
      "54546/54546 [==============================] - 4s 81us/step - loss: 0.0911 - acc: 0.8798 - val_loss: 0.0892 - val_acc: 0.8814\n",
      "Epoch 9/30\n",
      "54546/54546 [==============================] - 4s 82us/step - loss: 0.0884 - acc: 0.8836 - val_loss: 0.0878 - val_acc: 0.8839\n",
      "Epoch 10/30\n",
      "54546/54546 [==============================] - 4s 82us/step - loss: 0.0866 - acc: 0.8862 - val_loss: 0.0831 - val_acc: 0.8887\n",
      "Epoch 11/30\n",
      "54546/54546 [==============================] - 4s 81us/step - loss: 0.0842 - acc: 0.8899 - val_loss: 0.0868 - val_acc: 0.8834\n",
      "Epoch 12/30\n",
      "54546/54546 [==============================] - 4s 81us/step - loss: 0.0824 - acc: 0.8932 - val_loss: 0.0892 - val_acc: 0.8797\n",
      "Epoch 13/30\n",
      "54546/54546 [==============================] - 4s 81us/step - loss: 0.0806 - acc: 0.8958 - val_loss: 0.0828 - val_acc: 0.8913\n",
      "Epoch 14/30\n",
      "54546/54546 [==============================] - 4s 82us/step - loss: 0.0797 - acc: 0.8962 - val_loss: 0.0793 - val_acc: 0.8924\n",
      "Epoch 15/30\n",
      "54546/54546 [==============================] - 4s 81us/step - loss: 0.0776 - acc: 0.8995 - val_loss: 0.0786 - val_acc: 0.8973\n",
      "Epoch 16/30\n",
      "54546/54546 [==============================] - 4s 82us/step - loss: 0.0765 - acc: 0.9000 - val_loss: 0.0800 - val_acc: 0.8948\n",
      "Epoch 17/30\n",
      "54546/54546 [==============================] - 4s 82us/step - loss: 0.0759 - acc: 0.9013 - val_loss: 0.0784 - val_acc: 0.8935\n",
      "Epoch 18/30\n",
      "54546/54546 [==============================] - 4s 82us/step - loss: 0.0745 - acc: 0.9045 - val_loss: 0.0774 - val_acc: 0.8990\n",
      "Epoch 19/30\n",
      "54546/54546 [==============================] - 4s 81us/step - loss: 0.0739 - acc: 0.9060 - val_loss: 0.0762 - val_acc: 0.8984\n",
      "Epoch 20/30\n",
      "54546/54546 [==============================] - 4s 82us/step - loss: 0.0719 - acc: 0.9079 - val_loss: 0.0758 - val_acc: 0.8951\n",
      "Epoch 21/30\n",
      "54546/54546 [==============================] - 4s 82us/step - loss: 0.0709 - acc: 0.9089 - val_loss: 0.0762 - val_acc: 0.9003\n",
      "Epoch 22/30\n",
      "54546/54546 [==============================] - 4s 82us/step - loss: 0.0697 - acc: 0.9102 - val_loss: 0.0768 - val_acc: 0.8981\n",
      "Epoch 23/30\n",
      "54546/54546 [==============================] - 4s 82us/step - loss: 0.0692 - acc: 0.9110 - val_loss: 0.0734 - val_acc: 0.9015\n",
      "Epoch 24/30\n",
      "54546/54546 [==============================] - 5s 83us/step - loss: 0.0691 - acc: 0.9112 - val_loss: 0.0756 - val_acc: 0.9023\n",
      "Epoch 25/30\n",
      "54546/54546 [==============================] - 4s 82us/step - loss: 0.0676 - acc: 0.9135 - val_loss: 0.0739 - val_acc: 0.9012\n",
      "Epoch 26/30\n",
      "54546/54546 [==============================] - 4s 82us/step - loss: 0.0666 - acc: 0.9170 - val_loss: 0.0756 - val_acc: 0.9014\n",
      "Epoch 27/30\n",
      "54546/54546 [==============================] - 5s 84us/step - loss: 0.0654 - acc: 0.9171 - val_loss: 0.0730 - val_acc: 0.9032\n",
      "Epoch 28/30\n",
      "54546/54546 [==============================] - 5s 84us/step - loss: 0.0654 - acc: 0.9182 - val_loss: 0.0724 - val_acc: 0.9030\n",
      "Epoch 29/30\n",
      "54546/54546 [==============================] - 4s 82us/step - loss: 0.0638 - acc: 0.9193 - val_loss: 0.0726 - val_acc: 0.9012\n",
      "Epoch 30/30\n",
      "54546/54546 [==============================] - 5s 83us/step - loss: 0.0634 - acc: 0.9201 - val_loss: 0.0706 - val_acc: 0.9063\n"
     ]
    }
   ],
   "source": [
    "\"\"\"three-CONV-LAYERS-THICK\"\"\"\n",
    "if not data_augmentation:\n",
    "    print('Not using data augmentation.')\n",
    "    train_history_2= model_2.fit(\n",
    "        x_train,\n",
    "        y_train,\n",
    "        batch_size=batch_size,\n",
    "        epochs=epochs,\n",
    "        validation_split= Vld_Splt,\n",
    "        shuffle=True)\n",
    "else:\n",
    "    print('Using real-time data augmentation.')\n",
    "    # This will do preprocessing and realtime data augmentation:\n",
    "    datagen = ImageDataGenerator(\n",
    "        featurewise_center=False,  # set input mean to 0 over the dataset\n",
    "        samplewise_center=False,  # set each sample mean to 0\n",
    "        featurewise_std_normalization=False,  # divide inputs by dataset std\n",
    "        samplewise_std_normalization=False,  # divide each input by its std\n",
    "        zca_whitening=False,  # apply ZCA whitening\n",
    "        zca_epsilon=1e-06,  # epsilon for ZCA whitening\n",
    "        rotation_range=0,  # randomly rotate images in 0 to 180 degrees\n",
    "        width_shift_range=0.1,  # randomly shift images horizontally\n",
    "        height_shift_range=0.1,  # randomly shift images vertically\n",
    "        shear_range=0.,  # set range for random shear\n",
    "        zoom_range=0.,  # set range for random zoom\n",
    "        channel_shift_range=0.,  # set range for random channel shifts\n",
    "        # set mode for filling points outside the input boundaries\n",
    "        fill_mode='nearest',\n",
    "        cval=0.,  # value used for fill_mode = \"constant\"\n",
    "        horizontal_flip=True,  # randomly flip images\n",
    "        vertical_flip=False,  # randomly flip images\n",
    "        # set rescaling factor (applied before any other transformation)\n",
    "        rescale=None,\n",
    "        # set function that will be applied on each input\n",
    "        preprocessing_function=None,\n",
    "        # image data format, either \"channels_first\" or \"channels_last\"\n",
    "        data_format=None,\n",
    "        # fraction of images reserved for validation (strictly between 0 and 1)\n",
    "        validation_split=0.0)\n",
    "\n",
    "    # Compute quantities required for feature-wise normalization\n",
    "    # (std, mean, and principal components if ZCA whitening is applied).\n",
    "    datagen.fit(x_train)\n",
    "\n",
    "    # Fit the model on the batches generated by datagen.flow().\n",
    "    train_history_2= model_2.fit_generator(\n",
    "        datagen.flow(x_train, y_train, batch_size=batch_size),\n",
    "        epochs= epochs,\n",
    "        validation_split= Vld_Splt,\n",
    "        steps_per_epoch= int(x_train.shape[0]/ batch_size),\n",
    "        workers=4)"
   ]
  },
  {
   "cell_type": "code",
   "execution_count": 38,
   "metadata": {},
   "outputs": [
    {
     "name": "stdout",
     "output_type": "stream",
     "text": [
      "Not using data augmentation.\n",
      "Train on 54546 samples, validate on 5454 samples\n",
      "Epoch 1/30\n",
      "54546/54546 [==============================] - 5s 84us/step - loss: 0.2458 - acc: 0.6712 - val_loss: 0.1445 - val_acc: 0.7888\n",
      "Epoch 2/30\n",
      "54546/54546 [==============================] - 4s 65us/step - loss: 0.1322 - acc: 0.8100 - val_loss: 0.1150 - val_acc: 0.8420\n",
      "Epoch 3/30\n",
      "54546/54546 [==============================] - 4s 66us/step - loss: 0.1129 - acc: 0.8412 - val_loss: 0.0992 - val_acc: 0.8548\n",
      "Epoch 4/30\n",
      "54546/54546 [==============================] - 4s 66us/step - loss: 0.1012 - acc: 0.8591 - val_loss: 0.0919 - val_acc: 0.8669\n",
      "Epoch 5/30\n",
      "54546/54546 [==============================] - 4s 66us/step - loss: 0.0941 - acc: 0.8680 - val_loss: 0.0910 - val_acc: 0.8625\n",
      "Epoch 6/30\n",
      "54546/54546 [==============================] - 4s 65us/step - loss: 0.0888 - acc: 0.8754 - val_loss: 0.0844 - val_acc: 0.8772\n",
      "Epoch 7/30\n",
      "54546/54546 [==============================] - 4s 65us/step - loss: 0.0856 - acc: 0.8800 - val_loss: 0.0836 - val_acc: 0.8797\n",
      "Epoch 8/30\n",
      "54546/54546 [==============================] - 4s 66us/step - loss: 0.0821 - acc: 0.8855 - val_loss: 0.0777 - val_acc: 0.8838\n",
      "Epoch 9/30\n",
      "54546/54546 [==============================] - 4s 65us/step - loss: 0.0805 - acc: 0.8884 - val_loss: 0.0818 - val_acc: 0.8816\n",
      "Epoch 10/30\n",
      "54546/54546 [==============================] - 4s 67us/step - loss: 0.0774 - acc: 0.8919 - val_loss: 0.0778 - val_acc: 0.8871\n",
      "Epoch 11/30\n",
      "54546/54546 [==============================] - 4s 70us/step - loss: 0.0756 - acc: 0.8951 - val_loss: 0.0793 - val_acc: 0.8854\n",
      "Epoch 12/30\n",
      "54546/54546 [==============================] - 4s 66us/step - loss: 0.0749 - acc: 0.8962 - val_loss: 0.0742 - val_acc: 0.8922\n",
      "Epoch 13/30\n",
      "54546/54546 [==============================] - 4s 66us/step - loss: 0.0731 - acc: 0.8986 - val_loss: 0.0793 - val_acc: 0.8865\n",
      "Epoch 14/30\n",
      "54546/54546 [==============================] - 4s 66us/step - loss: 0.0707 - acc: 0.9010 - val_loss: 0.0718 - val_acc: 0.8999\n",
      "Epoch 15/30\n",
      "54546/54546 [==============================] - 4s 65us/step - loss: 0.0702 - acc: 0.9019 - val_loss: 0.0717 - val_acc: 0.8977\n",
      "Epoch 16/30\n",
      "54546/54546 [==============================] - 4s 65us/step - loss: 0.0686 - acc: 0.9061 - val_loss: 0.0764 - val_acc: 0.8913\n",
      "Epoch 17/30\n",
      "54546/54546 [==============================] - 4s 65us/step - loss: 0.0679 - acc: 0.9070 - val_loss: 0.0716 - val_acc: 0.8957\n",
      "Epoch 18/30\n",
      "54546/54546 [==============================] - 4s 66us/step - loss: 0.0667 - acc: 0.9085 - val_loss: 0.0689 - val_acc: 0.9032\n",
      "Epoch 19/30\n",
      "54546/54546 [==============================] - 4s 66us/step - loss: 0.0654 - acc: 0.9101 - val_loss: 0.0722 - val_acc: 0.8955\n",
      "Epoch 20/30\n",
      "54546/54546 [==============================] - 4s 66us/step - loss: 0.0644 - acc: 0.9111 - val_loss: 0.0683 - val_acc: 0.8990\n",
      "Epoch 21/30\n",
      "54546/54546 [==============================] - 4s 66us/step - loss: 0.0628 - acc: 0.9150 - val_loss: 0.0684 - val_acc: 0.9017\n",
      "Epoch 22/30\n",
      "54546/54546 [==============================] - 4s 66us/step - loss: 0.0629 - acc: 0.9145 - val_loss: 0.0687 - val_acc: 0.9047\n",
      "Epoch 23/30\n",
      "54546/54546 [==============================] - 4s 66us/step - loss: 0.0624 - acc: 0.9146 - val_loss: 0.0695 - val_acc: 0.9012\n",
      "Epoch 24/30\n",
      "54546/54546 [==============================] - 4s 68us/step - loss: 0.0612 - acc: 0.9161 - val_loss: 0.0668 - val_acc: 0.9032\n",
      "Epoch 25/30\n",
      "54546/54546 [==============================] - 4s 66us/step - loss: 0.0599 - acc: 0.9186 - val_loss: 0.0678 - val_acc: 0.9034\n",
      "Epoch 26/30\n",
      "54546/54546 [==============================] - 4s 66us/step - loss: 0.0600 - acc: 0.9182 - val_loss: 0.0717 - val_acc: 0.8977\n",
      "Epoch 27/30\n",
      "54546/54546 [==============================] - 4s 66us/step - loss: 0.0596 - acc: 0.9187 - val_loss: 0.0668 - val_acc: 0.9047\n",
      "Epoch 28/30\n",
      "54546/54546 [==============================] - 4s 67us/step - loss: 0.0579 - acc: 0.9220 - val_loss: 0.0689 - val_acc: 0.9069\n",
      "Epoch 29/30\n",
      "54546/54546 [==============================] - 4s 70us/step - loss: 0.0583 - acc: 0.9209 - val_loss: 0.0674 - val_acc: 0.9019\n",
      "Epoch 30/30\n",
      "54546/54546 [==============================] - 4s 67us/step - loss: 0.0571 - acc: 0.9228 - val_loss: 0.0676 - val_acc: 0.9030\n"
     ]
    }
   ],
   "source": [
    "\"\"\"four-CONV-LAYERS-THICK\"\"\"\n",
    "if not data_augmentation:\n",
    "    print('Not using data augmentation.')\n",
    "    train_history_3= model_3.fit(\n",
    "        x_train,\n",
    "        y_train,\n",
    "        batch_size=batch_size,\n",
    "        epochs=epochs,\n",
    "        validation_split= Vld_Splt,\n",
    "        shuffle=True)\n",
    "else:\n",
    "    print('Using real-time data augmentation.')\n",
    "    # This will do preprocessing and realtime data augmentation:\n",
    "    datagen = ImageDataGenerator(\n",
    "        featurewise_center=False,  # set input mean to 0 over the dataset\n",
    "        samplewise_center=False,  # set each sample mean to 0\n",
    "        featurewise_std_normalization=False,  # divide inputs by dataset std\n",
    "        samplewise_std_normalization=False,  # divide each input by its std\n",
    "        zca_whitening=False,  # apply ZCA whitening\n",
    "        zca_epsilon=1e-06,  # epsilon for ZCA whitening\n",
    "        rotation_range=0,  # randomly rotate images in 0 to 180 degrees\n",
    "        width_shift_range=0.1,  # randomly shift images horizontally\n",
    "        height_shift_range=0.1,  # randomly shift images vertically\n",
    "        shear_range=0.,  # set range for random shear\n",
    "        zoom_range=0.,  # set range for random zoom\n",
    "        channel_shift_range=0.,  # set range for random channel shifts\n",
    "        # set mode for filling points outside the input boundaries\n",
    "        fill_mode='nearest',\n",
    "        cval=0.,  # value used for fill_mode = \"constant\"\n",
    "        horizontal_flip=True,  # randomly flip images\n",
    "        vertical_flip=False,  # randomly flip images\n",
    "        # set rescaling factor (applied before any other transformation)\n",
    "        rescale=None,\n",
    "        # set function that will be applied on each input\n",
    "        preprocessing_function=None,\n",
    "        # image data format, either \"channels_first\" or \"channels_last\"\n",
    "        data_format=None,\n",
    "        # fraction of images reserved for validation (strictly between 0 and 1)\n",
    "        validation_split=0.0)\n",
    "\n",
    "    # Compute quantities required for feature-wise normalization\n",
    "    # (std, mean, and principal components if ZCA whitening is applied).\n",
    "    datagen.fit(x_train)\n",
    "\n",
    "    # Fit the model on the batches generated by datagen.flow().\n",
    "    train_history_3= model_3.fit_generator(\n",
    "        datagen.flow(x_train, y_train, batch_size=batch_size),\n",
    "        epochs= epochs,\n",
    "        validation_split= Vld_Splt,\n",
    "        steps_per_epoch= int(x_train.shape[0]/ batch_size),\n",
    "        workers=4)"
   ]
  },
  {
   "cell_type": "code",
   "execution_count": 17,
   "metadata": {},
   "outputs": [
    {
     "name": "stdout",
     "output_type": "stream",
     "text": [
      "Train on 54546 samples, validate on 5454 samples\n",
      "Epoch 1/30\n",
      "54546/54546 [==============================] - 3s 51us/step - loss: 0.7416 - acc: 0.7276 - val_loss: 0.5119 - val_acc: 0.8188\n",
      "Epoch 2/30\n",
      "54546/54546 [==============================] - 2s 39us/step - loss: 0.5120 - acc: 0.8132 - val_loss: 0.4456 - val_acc: 0.8489\n",
      "Epoch 3/30\n",
      "54546/54546 [==============================] - 2s 41us/step - loss: 0.4618 - acc: 0.8301 - val_loss: 0.4034 - val_acc: 0.8645\n",
      "Epoch 4/30\n",
      "54546/54546 [==============================] - 2s 41us/step - loss: 0.4334 - acc: 0.8419 - val_loss: 0.3854 - val_acc: 0.8656\n",
      "Epoch 5/30\n",
      "54546/54546 [==============================] - 2s 40us/step - loss: 0.4123 - acc: 0.8503 - val_loss: 0.3614 - val_acc: 0.8693\n",
      "Epoch 6/30\n",
      "54546/54546 [==============================] - 2s 40us/step - loss: 0.3924 - acc: 0.8554 - val_loss: 0.3497 - val_acc: 0.8720\n",
      "Epoch 7/30\n",
      "54546/54546 [==============================] - 2s 38us/step - loss: 0.3805 - acc: 0.8597 - val_loss: 0.3399 - val_acc: 0.8843\n",
      "Epoch 8/30\n",
      "54546/54546 [==============================] - 2s 38us/step - loss: 0.3674 - acc: 0.8646 - val_loss: 0.3271 - val_acc: 0.8849\n",
      "Epoch 9/30\n",
      "54546/54546 [==============================] - 2s 37us/step - loss: 0.3580 - acc: 0.8683 - val_loss: 0.3246 - val_acc: 0.8871\n",
      "Epoch 10/30\n",
      "54546/54546 [==============================] - 2s 38us/step - loss: 0.3502 - acc: 0.8696 - val_loss: 0.3166 - val_acc: 0.8863\n",
      "Epoch 11/30\n",
      "54546/54546 [==============================] - 2s 39us/step - loss: 0.3421 - acc: 0.8747 - val_loss: 0.3021 - val_acc: 0.8911\n",
      "Epoch 12/30\n",
      "54546/54546 [==============================] - 2s 44us/step - loss: 0.3360 - acc: 0.8752 - val_loss: 0.3003 - val_acc: 0.8966\n",
      "Epoch 13/30\n",
      "54546/54546 [==============================] - 2s 41us/step - loss: 0.3277 - acc: 0.8787 - val_loss: 0.3069 - val_acc: 0.8931\n",
      "Epoch 14/30\n",
      "54546/54546 [==============================] - 2s 40us/step - loss: 0.3238 - acc: 0.8792 - val_loss: 0.2885 - val_acc: 0.8962\n",
      "Epoch 15/30\n",
      "54546/54546 [==============================] - 2s 39us/step - loss: 0.3182 - acc: 0.8811 - val_loss: 0.2837 - val_acc: 0.8993\n",
      "Epoch 16/30\n",
      "54546/54546 [==============================] - 2s 38us/step - loss: 0.3139 - acc: 0.8809 - val_loss: 0.2845 - val_acc: 0.8979\n",
      "Epoch 17/30\n",
      "54546/54546 [==============================] - 2s 39us/step - loss: 0.3094 - acc: 0.8848 - val_loss: 0.2941 - val_acc: 0.9004\n",
      "Epoch 18/30\n",
      "54546/54546 [==============================] - 2s 40us/step - loss: 0.3045 - acc: 0.8851 - val_loss: 0.2801 - val_acc: 0.8990\n",
      "Epoch 19/30\n",
      "54546/54546 [==============================] - 2s 39us/step - loss: 0.3013 - acc: 0.8870 - val_loss: 0.2737 - val_acc: 0.9025\n",
      "Epoch 20/30\n",
      "54546/54546 [==============================] - 2s 37us/step - loss: 0.3006 - acc: 0.8880 - val_loss: 0.2799 - val_acc: 0.9032\n",
      "Epoch 21/30\n",
      "54546/54546 [==============================] - 2s 37us/step - loss: 0.2931 - acc: 0.8896 - val_loss: 0.2748 - val_acc: 0.9059\n",
      "Epoch 22/30\n",
      "54546/54546 [==============================] - 2s 38us/step - loss: 0.2923 - acc: 0.8908 - val_loss: 0.2733 - val_acc: 0.9034\n",
      "Epoch 23/30\n",
      "54546/54546 [==============================] - 2s 39us/step - loss: 0.2912 - acc: 0.8900 - val_loss: 0.2711 - val_acc: 0.9054\n",
      "Epoch 24/30\n",
      "54546/54546 [==============================] - 2s 40us/step - loss: 0.2890 - acc: 0.8915 - val_loss: 0.2725 - val_acc: 0.9036\n",
      "Epoch 25/30\n",
      "54546/54546 [==============================] - 2s 39us/step - loss: 0.2832 - acc: 0.8933 - val_loss: 0.2627 - val_acc: 0.9076\n",
      "Epoch 26/30\n",
      "54546/54546 [==============================] - 2s 39us/step - loss: 0.2829 - acc: 0.8932 - val_loss: 0.2720 - val_acc: 0.9054\n",
      "Epoch 27/30\n",
      "54546/54546 [==============================] - 2s 39us/step - loss: 0.2804 - acc: 0.8947 - val_loss: 0.2640 - val_acc: 0.9083\n",
      "Epoch 28/30\n",
      "54546/54546 [==============================] - 2s 37us/step - loss: 0.2795 - acc: 0.8950 - val_loss: 0.2670 - val_acc: 0.9039\n",
      "Epoch 29/30\n",
      "54546/54546 [==============================] - 2s 38us/step - loss: 0.2722 - acc: 0.8962 - val_loss: 0.2640 - val_acc: 0.9052\n",
      "Epoch 30/30\n",
      "54546/54546 [==============================] - 2s 37us/step - loss: 0.2725 - acc: 0.8971 - val_loss: 0.2646 - val_acc: 0.9072\n"
     ]
    }
   ],
   "source": [
    "\"\"\"CNN-3-CONV-LAYERS\"\"\"\n",
    "model_4.compile(loss='categorical_crossentropy',\n",
    "              optimizer='adam', metrics=['accuracy'])\n",
    "train_history_4= model_4.fit(x= x_train, y= y_train, validation_split= Vld_Splt,\n",
    "                         epochs= epochs, batch_size= batch_size, verbose=1)"
   ]
  },
  {
   "cell_type": "code",
   "execution_count": 39,
   "metadata": {},
   "outputs": [
    {
     "name": "stdout",
     "output_type": "stream",
     "text": [
      "10000/10000 [==============================] - 1s 111us/step\n"
     ]
    },
    {
     "data": {
      "text/plain": [
       "0.8485"
      ]
     },
     "execution_count": 39,
     "metadata": {},
     "output_type": "execute_result"
    }
   ],
   "source": [
    "\"\"\"one-CONV-LAYERS-THICK\"\"\"\n",
    "scores_0= model_0.evaluate(x_test, y_test)\n",
    "scores_0[1]"
   ]
  },
  {
   "cell_type": "code",
   "execution_count": 40,
   "metadata": {},
   "outputs": [
    {
     "name": "stdout",
     "output_type": "stream",
     "text": [
      "10000/10000 [==============================] - 1s 82us/step\n"
     ]
    },
    {
     "data": {
      "text/plain": [
       "0.8924"
      ]
     },
     "execution_count": 40,
     "metadata": {},
     "output_type": "execute_result"
    }
   ],
   "source": [
    "\"\"\"two-CONV-LAYERS-THICK\"\"\"\n",
    "scores_1= model_1.evaluate(x_test, y_test)\n",
    "scores_1[1]"
   ]
  },
  {
   "cell_type": "code",
   "execution_count": 41,
   "metadata": {},
   "outputs": [
    {
     "name": "stdout",
     "output_type": "stream",
     "text": [
      "10000/10000 [==============================] - 1s 88us/step\n"
     ]
    },
    {
     "data": {
      "text/plain": [
       "0.9008"
      ]
     },
     "execution_count": 41,
     "metadata": {},
     "output_type": "execute_result"
    }
   ],
   "source": [
    "\"\"\"three-CONV-LAYERS-THICK\"\"\"\n",
    "scores_2= model_2.evaluate(x_test, y_test)\n",
    "scores_2[1]"
   ]
  },
  {
   "cell_type": "code",
   "execution_count": 42,
   "metadata": {},
   "outputs": [
    {
     "name": "stdout",
     "output_type": "stream",
     "text": [
      "10000/10000 [==============================] - 1s 89us/step\n"
     ]
    },
    {
     "data": {
      "text/plain": [
       "0.9014"
      ]
     },
     "execution_count": 42,
     "metadata": {},
     "output_type": "execute_result"
    }
   ],
   "source": [
    "\"\"\"four-CONV-LAYERS-THICK\"\"\"\n",
    "scores_3= model_3.evaluate(x_test, y_test)\n",
    "scores_3[1]"
   ]
  },
  {
   "cell_type": "code",
   "execution_count": 43,
   "metadata": {},
   "outputs": [
    {
     "name": "stdout",
     "output_type": "stream",
     "text": [
      "10000/10000 [==============================] - 1s 65us/step\n"
     ]
    },
    {
     "data": {
      "text/plain": [
       "0.9001"
      ]
     },
     "execution_count": 43,
     "metadata": {},
     "output_type": "execute_result"
    }
   ],
   "source": [
    "\"\"\"CNN\"\"\"\n",
    "scores_4= model_4.evaluate(x_test, y_test)\n",
    "scores_4[1]"
   ]
  },
  {
   "cell_type": "code",
   "execution_count": 44,
   "metadata": {},
   "outputs": [],
   "source": [
    "import matplotlib.pyplot as plt\n",
    "def show_train_history(train_history, train, validation):\n",
    "    plt.plot(train_history.history[train])\n",
    "    plt.plot(train_history.history[validation])\n",
    "    plt.title('Train History')\n",
    "    plt.ylabel(train)\n",
    "    plt.xlabel('Epoch')\n",
    "    plt.legend(['train', 'validation'], loc='best')\n",
    "    plt.show()"
   ]
  },
  {
   "cell_type": "code",
   "execution_count": 45,
   "metadata": {},
   "outputs": [
    {
     "data": {
      "image/png": "[encoded data removed]",
      "text/plain": [
       "<Figure size 432x288 with 1 Axes>"
      ]
     },
     "metadata": {
      "needs_background": "light"
     },
     "output_type": "display_data"
    }
   ],
   "source": [
    "show_train_history(train_history_0, 'acc', 'val_acc')"
   ]
  },
  {
   "cell_type": "code",
   "execution_count": 46,
   "metadata": {},
   "outputs": [
    {
     "data": {
      "image/png": "[encoded data removed]",
      "text/plain": [
       "<Figure size 432x288 with 1 Axes>"
      ]
     },
     "metadata": {
      "needs_background": "light"
     },
     "output_type": "display_data"
    }
   ],
   "source": [
    "show_train_history(train_history_1, 'acc', 'val_acc')"
   ]
  },
  {
   "cell_type": "code",
   "execution_count": 47,
   "metadata": {},
   "outputs": [
    {
     "data": {
      "image/png": "[encoded data removed]",
      "text/plain": [
       "<Figure size 432x288 with 1 Axes>"
      ]
     },
     "metadata": {
      "needs_background": "light"
     },
     "output_type": "display_data"
    }
   ],
   "source": [
    "show_train_history(train_history_2, 'acc', 'val_acc')"
   ]
  },
  {
   "cell_type": "code",
   "execution_count": 48,
   "metadata": {},
   "outputs": [
    {
     "data": {
      "image/png": "[encoded data removed]",
      "text/plain": [
       "<Figure size 432x288 with 1 Axes>"
      ]
     },
     "metadata": {
      "needs_background": "light"
     },
     "output_type": "display_data"
    }
   ],
   "source": [
    "show_train_history(train_history_3, 'acc', 'val_acc')"
   ]
  },
  {
   "cell_type": "code",
   "execution_count": 49,
   "metadata": {},
   "outputs": [
    {
     "data": {
      "image/png": "[encoded data removed]",
      "text/plain": [
       "<Figure size 432x288 with 1 Axes>"
      ]
     },
     "metadata": {
      "needs_background": "light"
     },
     "output_type": "display_data"
    }
   ],
   "source": [
    "show_train_history(train_history_4, 'acc', 'val_acc')"
   ]
  },
  {
   "cell_type": "code",
   "execution_count": 50,
   "metadata": {},
   "outputs": [],
   "source": [
    "# show_train_history(train_history_5, 'acc', 'val_acc')"
   ]
  },
  {
   "cell_type": "code",
   "execution_count": 51,
   "metadata": {},
   "outputs": [],
   "source": [
    "# show_train_history(train_history_6, 'acc', 'val_acc')"
   ]
  },
  {
   "cell_type": "code",
   "execution_count": 52,
   "metadata": {},
   "outputs": [
    {
     "data": {
      "image/png": "[encoded data removed]",
      "text/plain": [
       "<Figure size 432x288 with 1 Axes>"
      ]
     },
     "metadata": {
      "needs_background": "light"
     },
     "output_type": "display_data"
    }
   ],
   "source": [
    "plt.plot(train_history_0.history['val_acc'], 'r-')\n",
    "plt.plot(train_history_1.history['val_acc'], 'b--')\n",
    "plt.plot(train_history_2.history['val_acc'], 'k.')\n",
    "plt.plot(train_history_3.history['val_acc'], 'b-')\n",
    "plt.plot(train_history_4.history['val_acc'], 'h-')\n",
    "# plt.plot(train_history_5.history['val_acc'], 'c-')\n",
    "# plt.plot(train_history_6.history['val_acc'], 'g*-')\n",
    "# plt.plot(train_history_7.history['val_acc'], 'k-.')\n",
    "plt.title('Training on fasion_MNIST')\n",
    "plt.ylabel('Validation Accuracy')\n",
    "plt.xlabel('Epoch')\n",
    "plt.legend(['CapsNet: 1-conv','CapsNet: 2-conv','CapsNet: 3-conv','CapsNet: 4-conv','CNN-2CONV'], loc='best')\n",
    "plt.show()"
   ]
  },
  {
   "cell_type": "code",
   "execution_count": null,
   "metadata": {},
   "outputs": [],
   "source": []
  }
 ],
 "metadata": {
  "kernelspec": {
   "display_name": "Python 3",
   "language": "python",
   "name": "python3"
  },
  "language_info": {
   "codemirror_mode": {
    "name": "ipython",
    "version": 3
   },
   "file_extension": ".py",
   "mimetype": "text/x-python",
   "name": "python",
   "nbconvert_exporter": "python",
   "pygments_lexer": "ipython3",
   "version": "3.6.10"
  }
 },
 "nbformat": 4,
 "nbformat_minor": 2
}
