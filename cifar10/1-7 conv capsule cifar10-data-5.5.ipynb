{
 "cells": [
  {
   "cell_type": "code",
   "execution_count": 1,
   "metadata": {},
   "outputs": [],
   "source": [
    "import os\n"
   ]
  },
  {
   "cell_type": "code",
   "execution_count": 2,
   "metadata": {},
   "outputs": [
    {
     "name": "stderr",
     "output_type": "stream",
     "text": [
      "Using TensorFlow backend.\n",
      "C:\\Users\\ASUS\\Anaconda3\\envs\\tensorflow-gpu\\lib\\site-packages\\tensorflow\\python\\framework\\dtypes.py:526: FutureWarning: Passing (type, 1) or '1type' as a synonym of type is deprecated; in a future version of numpy, it will be understood as (type, (1,)) / '(1,)type'.\n",
      "  _np_qint8 = np.dtype([(\"qint8\", np.int8, 1)])\n",
      "C:\\Users\\ASUS\\Anaconda3\\envs\\tensorflow-gpu\\lib\\site-packages\\tensorflow\\python\\framework\\dtypes.py:527: FutureWarning: Passing (type, 1) or '1type' as a synonym of type is deprecated; in a future version of numpy, it will be understood as (type, (1,)) / '(1,)type'.\n",
      "  _np_quint8 = np.dtype([(\"quint8\", np.uint8, 1)])\n",
      "C:\\Users\\ASUS\\Anaconda3\\envs\\tensorflow-gpu\\lib\\site-packages\\tensorflow\\python\\framework\\dtypes.py:528: FutureWarning: Passing (type, 1) or '1type' as a synonym of type is deprecated; in a future version of numpy, it will be understood as (type, (1,)) / '(1,)type'.\n",
      "  _np_qint16 = np.dtype([(\"qint16\", np.int16, 1)])\n",
      "C:\\Users\\ASUS\\Anaconda3\\envs\\tensorflow-gpu\\lib\\site-packages\\tensorflow\\python\\framework\\dtypes.py:529: FutureWarning: Passing (type, 1) or '1type' as a synonym of type is deprecated; in a future version of numpy, it will be understood as (type, (1,)) / '(1,)type'.\n",
      "  _np_quint16 = np.dtype([(\"quint16\", np.uint16, 1)])\n",
      "C:\\Users\\ASUS\\Anaconda3\\envs\\tensorflow-gpu\\lib\\site-packages\\tensorflow\\python\\framework\\dtypes.py:530: FutureWarning: Passing (type, 1) or '1type' as a synonym of type is deprecated; in a future version of numpy, it will be understood as (type, (1,)) / '(1,)type'.\n",
      "  _np_qint32 = np.dtype([(\"qint32\", np.int32, 1)])\n",
      "C:\\Users\\ASUS\\Anaconda3\\envs\\tensorflow-gpu\\lib\\site-packages\\tensorflow\\python\\framework\\dtypes.py:535: FutureWarning: Passing (type, 1) or '1type' as a synonym of type is deprecated; in a future version of numpy, it will be understood as (type, (1,)) / '(1,)type'.\n",
      "  np_resource = np.dtype([(\"resource\", np.ubyte, 1)])\n"
     ]
    }
   ],
   "source": [
    "from __future__ import print_function\n",
    "from keras import backend as K\n",
    "from keras.layers import Layer\n",
    "from keras import activations\n",
    "from keras import utils\n",
    "from keras.datasets import fashion_mnist\n",
    "from keras.datasets import mnist\n",
    "from keras.datasets import cifar10\n",
    "from keras.models import Model\n",
    "from keras.layers import *\n",
    "from keras.preprocessing.image import ImageDataGenerator\n",
    "import cv2"
   ]
  },
  {
   "cell_type": "code",
   "execution_count": 3,
   "metadata": {},
   "outputs": [],
   "source": [
    "from tensorflow.compat.v1 import ConfigProto\n",
    "from tensorflow.compat.v1 import InteractiveSession\n",
    "\n",
    "config = ConfigProto()\n",
    "config.gpu_options.allow_growth = True\n",
    "session = InteractiveSession(config=config)"
   ]
  },
  {
   "cell_type": "code",
   "execution_count": 4,
   "metadata": {},
   "outputs": [],
   "source": [
    "Vld_Splt= 0.0909\n",
    "batch_size = 200\n",
    "num_classes = 10\n",
    "epochs = 30"
   ]
  },
  {
   "cell_type": "code",
   "execution_count": 5,
   "metadata": {},
   "outputs": [],
   "source": [
    "(x_train, y_train), (x_test, y_test) = cifar10.load_data()\n",
    "\n",
    "x_train = x_train.astype('float32')\n",
    "x_test = x_test.astype('float32')\n",
    "x_train /= 255\n",
    "x_test /= 255\n",
    "y_train = utils.to_categorical(y_train, num_classes)\n",
    "y_test = utils.to_categorical(y_test, num_classes)"
   ]
  },
  {
   "cell_type": "code",
   "execution_count": 6,
   "metadata": {},
   "outputs": [
    {
     "name": "stdout",
     "output_type": "stream",
     "text": [
      "(50000, 10) \n",
      " (10000, 10) \n",
      " (50000, 32, 32, 3) \n",
      " (10000, 32, 32, 3)\n"
     ]
    }
   ],
   "source": [
    "print(y_train.shape, '\\n',y_test.shape,'\\n',\n",
    "      x_train.shape,'\\n', x_test.shape)"
   ]
  },
  {
   "cell_type": "code",
   "execution_count": 7,
   "metadata": {},
   "outputs": [],
   "source": [
    "# the squashing function.\n",
    "# we use 0.5 in stead of 1 in hinton's paper.\n",
    "# if 1, the norm of vector will be zoomed out.\n",
    "# if 0.5, the norm will be zoomed in while original norm is less than 0.5\n",
    "# and be zoomed out while original norm is greater than 0.5.\n",
    "def squash(x, axis=-1):\n",
    "    s_squared_norm = K.sum(K.square(x), axis, keepdims=True) + K.epsilon()\n",
    "    scale = K.sqrt(s_squared_norm) / (0.5 + s_squared_norm)\n",
    "    return scale * x\n",
    "\n",
    "\n",
    "# define our own softmax function instead of K.softmax\n",
    "# because K.softmax can not specify axis.\n",
    "def softmax(x, axis=-1):\n",
    "    ex = K.exp(x - K.max(x, axis=axis, keepdims=True))\n",
    "    return ex / K.sum(ex, axis=axis, keepdims=True)\n",
    "\n",
    "\n",
    "# define the margin loss like hinge loss\n",
    "def margin_loss(y_true, y_pred):\n",
    "    lamb, margin = 0.5, 0.1\n",
    "    return K.sum(y_true * K.square(K.relu(1 - margin - y_pred)) + lamb * (\n",
    "        1 - y_true) * K.square(K.relu(y_pred - margin)), axis=-1)\n",
    "\n",
    "\n",
    "class Capsule(Layer):\n",
    "    \"\"\"A Capsule Implement with Pure Keras\n",
    "    There are two vesions of Capsule.\n",
    "    One is like dense layer (for the fixed-shape input),\n",
    "    and the other is like timedistributed dense (for various length input).\n",
    "\n",
    "    The input shape of Capsule must be (batch_size,\n",
    "                                        input_num_capsule,\n",
    "                                        input_dim_capsule\n",
    "                                       )\n",
    "    and the output shape is (batch_size,\n",
    "                             num_capsule,\n",
    "                             dim_capsule\n",
    "                            )\n",
    "\n",
    "    Capsule Implement is from https://github.com/bojone/Capsule/\n",
    "    Capsule Paper: https://arxiv.org/abs/1710.09829\n",
    "    \"\"\"\n",
    "\n",
    "    def __init__(self,\n",
    "                 num_capsule,\n",
    "                 dim_capsule,\n",
    "                 routings=3,\n",
    "                 share_weights=True,\n",
    "                 activation='squash',\n",
    "                 **kwargs):\n",
    "        super(Capsule, self).__init__(**kwargs)\n",
    "        self.num_capsule = num_capsule\n",
    "        self.dim_capsule = dim_capsule\n",
    "        self.routings = routings\n",
    "        self.share_weights = share_weights\n",
    "        if activation == 'squash':\n",
    "            self.activation = squash\n",
    "        else:\n",
    "            self.activation = activations.get(activation)\n",
    "\n",
    "    def build(self, input_shape):\n",
    "        input_dim_capsule = input_shape[-1]\n",
    "        if self.share_weights:\n",
    "            self.kernel = self.add_weight(\n",
    "                name='capsule_kernel',\n",
    "                shape=(1, input_dim_capsule,\n",
    "                       self.num_capsule * self.dim_capsule),\n",
    "                initializer='glorot_uniform',\n",
    "                trainable=True)\n",
    "        else:\n",
    "            input_num_capsule = input_shape[-2]\n",
    "            self.kernel = self.add_weight(\n",
    "                name='capsule_kernel',\n",
    "                shape=(input_num_capsule, input_dim_capsule,\n",
    "                       self.num_capsule * self.dim_capsule),\n",
    "                initializer='glorot_uniform',\n",
    "                trainable=True)\n",
    "\n",
    "    def call(self, inputs):\n",
    "        \"\"\"Following the routing algorithm from Hinton's paper,\n",
    "        but replace b = b + <u,v> with b = <u,v>.\n",
    "\n",
    "        This change can improve the feature representation of Capsule.\n",
    "\n",
    "        However, you can replace\n",
    "            b = K.batch_dot(outputs, hat_inputs, [2, 3])\n",
    "        with\n",
    "            b += K.batch_dot(outputs, hat_inputs, [2, 3])\n",
    "        to realize a standard routing.\n",
    "        \"\"\"\n",
    "\n",
    "        if self.share_weights:\n",
    "            hat_inputs = K.conv1d(inputs, self.kernel)\n",
    "        else:\n",
    "            hat_inputs = K.local_conv1d(inputs, self.kernel, [1], [1])\n",
    "\n",
    "        batch_size = K.shape(inputs)[0]\n",
    "        input_num_capsule = K.shape(inputs)[1]\n",
    "        hat_inputs = K.reshape(hat_inputs,\n",
    "                               (batch_size, input_num_capsule,\n",
    "                                self.num_capsule, self.dim_capsule))\n",
    "        hat_inputs = K.permute_dimensions(hat_inputs, (0, 2, 1, 3))\n",
    "\n",
    "        b = K.zeros_like(hat_inputs[:, :, :, 0])\n",
    "        for i in range(self.routings):\n",
    "            c = softmax(b, 1)\n",
    "            o = self.activation(K.batch_dot(c, hat_inputs, [2, 2]))\n",
    "            if i < self.routings - 1:\n",
    "                b = K.batch_dot(o, hat_inputs, [2, 3])\n",
    "                if K.backend() == 'theano':\n",
    "                    o = K.sum(o, axis=1)\n",
    "\n",
    "        return o\n",
    "\n",
    "    def compute_output_shape(self, input_shape):\n",
    "        return (None, self.num_capsule, self.dim_capsule)"
   ]
  },
  {
   "cell_type": "code",
   "execution_count": 8,
   "metadata": {},
   "outputs": [
    {
     "name": "stdout",
     "output_type": "stream",
     "text": [
      "WARNING:tensorflow:From C:\\Users\\ASUS\\Anaconda3\\envs\\tensorflow-gpu\\lib\\site-packages\\tensorflow\\python\\framework\\op_def_library.py:263: colocate_with (from tensorflow.python.framework.ops) is deprecated and will be removed in a future version.\n",
      "Instructions for updating:\n",
      "Colocations handled automatically by placer.\n",
      "WARNING:tensorflow:From C:\\Users\\ASUS\\Anaconda3\\envs\\tensorflow-gpu\\lib\\site-packages\\keras\\backend\\tensorflow_backend.py:3445: calling dropout (from tensorflow.python.ops.nn_ops) with keep_prob is deprecated and will be removed in a future version.\n",
      "Instructions for updating:\n",
      "Please use `rate` instead of `keep_prob`. Rate should be set to `rate = 1 - keep_prob`.\n",
      "_________________________________________________________________\n",
      "Layer (type)                 Output Shape              Param #   \n",
      "=================================================================\n",
      "input_1 (InputLayer)         (None, 32, 32, 3)         0         \n",
      "_________________________________________________________________\n",
      "conv2d_1 (Conv2D)            (None, 28, 28, 220)       16720     \n",
      "_________________________________________________________________\n",
      "dropout_1 (Dropout)          (None, 28, 28, 220)       0         \n",
      "_________________________________________________________________\n",
      "reshape_1 (Reshape)          (None, 784, 220)          0         \n",
      "_________________________________________________________________\n",
      "capsule_1 (Capsule)          (None, 10, 16)            35200     \n",
      "_________________________________________________________________\n",
      "lambda_1 (Lambda)            (None, 10)                0         \n",
      "=================================================================\n",
      "Total params: 51,920\n",
      "Trainable params: 51,920\n",
      "Non-trainable params: 0\n",
      "_________________________________________________________________\n"
     ]
    }
   ],
   "source": [
    "\"\"\"one-CONV-LAYERS-THICK\"\"\"\n",
    "input_image = Input(shape=(x_train.shape[1], x_train.shape[2], x_train.shape[3]))\n",
    "x_0 = Conv2D(filters= 220, kernel_size= 5, activation='relu', \n",
    "             padding= 'valid')(input_image)\n",
    "x_0= Dropout(0.1)(x_0)\n",
    "\n",
    "\n",
    "\"\"\"now we reshape it as (batch_size, input_num_capsule, input_dim_capsule)\n",
    "then connect a Capsule layer.\n",
    "\n",
    "the output of final model is the lengths of 10 Capsule, whose dim=16.\n",
    "\n",
    "the length of Capsule is the proba,\n",
    "so the problem becomes a 10 two-classification problem.\n",
    "\"\"\"\n",
    "\n",
    "x_0 = Reshape((-1, 220))(x_0)\n",
    "capsule_0 = Capsule(num_classes, 16, 3, True)(x_0)\n",
    "output_0 = Lambda(lambda z: K.sqrt(K.sum(K.square(z), 2)))(capsule_0)\n",
    "model_0 = Model(inputs= input_image, outputs= output_0)\n",
    "\n",
    "# we use a margin loss\n",
    "model_0.compile(loss =margin_loss, optimizer='adam', metrics=['accuracy'])\n",
    "model_0.summary()\n",
    "\n",
    "# we can compare the performance with or without data augmentation\n",
    "data_augmentation = False"
   ]
  },
  {
   "cell_type": "code",
   "execution_count": 9,
   "metadata": {},
   "outputs": [
    {
     "name": "stdout",
     "output_type": "stream",
     "text": [
      "_________________________________________________________________\n",
      "Layer (type)                 Output Shape              Param #   \n",
      "=================================================================\n",
      "input_2 (InputLayer)         (None, 32, 32, 3)         0         \n",
      "_________________________________________________________________\n",
      "conv2d_2 (Conv2D)            (None, 28, 28, 15)        1140      \n",
      "_________________________________________________________________\n",
      "dropout_2 (Dropout)          (None, 28, 28, 15)        0         \n",
      "_________________________________________________________________\n",
      "conv2d_3 (Conv2D)            (None, 24, 24, 95)        35720     \n",
      "_________________________________________________________________\n",
      "dropout_3 (Dropout)          (None, 24, 24, 95)        0         \n",
      "_________________________________________________________________\n",
      "reshape_2 (Reshape)          (None, 576, 95)           0         \n",
      "_________________________________________________________________\n",
      "capsule_2 (Capsule)          (None, 10, 16)            15200     \n",
      "_________________________________________________________________\n",
      "lambda_2 (Lambda)            (None, 10)                0         \n",
      "=================================================================\n",
      "Total params: 52,060\n",
      "Trainable params: 52,060\n",
      "Non-trainable params: 0\n",
      "_________________________________________________________________\n"
     ]
    }
   ],
   "source": [
    "\"\"\"two-CONV-LAYERS-THICK\"\"\"\n",
    "input_image = Input(shape=(x_train.shape[1], x_train.shape[2], x_train.shape[3]))\n",
    "x_1 = Conv2D(filters= 15, kernel_size= 5, activation='relu', \n",
    "             padding= 'valid')(input_image)\n",
    "x_1= Dropout(0.1)(x_1)\n",
    "x_1 = Conv2D(filters= 95, kernel_size= 5, activation='relu',\n",
    "             strides= 1)(x_1)\n",
    "x_1 = Dropout(0.1)(x_1)\n",
    "\n",
    "\n",
    "\"\"\"now we reshape it as (batch_size, input_num_capsule, input_dim_capsule)\n",
    "then connect a Capsule layer.\n",
    "\n",
    "the output of final model is the lengths of 10 Capsule, whose dim=16.\n",
    "\n",
    "the length of Capsule is the proba,\n",
    "so the problem becomes a 10 two-classification problem.\n",
    "\"\"\"\n",
    "\n",
    "x_1 = Reshape((-1, 95))(x_1)\n",
    "capsule_1 = Capsule(num_classes, 16, 3, True)(x_1)\n",
    "output_1 = Lambda(lambda z: K.sqrt(K.sum(K.square(z), 2)))(capsule_1)\n",
    "model_1= Model(inputs= input_image, outputs= output_1)\n",
    "\n",
    "# we use a margin loss\n",
    "model_1.compile(loss =margin_loss, optimizer='adam', metrics=['accuracy'])\n",
    "model_1.summary()\n",
    "\n",
    "# we can compare the performance with or without data augmentation\n",
    "data_augmentation = False"
   ]
  },
  {
   "cell_type": "code",
   "execution_count": 10,
   "metadata": {},
   "outputs": [
    {
     "name": "stdout",
     "output_type": "stream",
     "text": [
      "_________________________________________________________________\n",
      "Layer (type)                 Output Shape              Param #   \n",
      "=================================================================\n",
      "input_3 (InputLayer)         (None, 32, 32, 3)         0         \n",
      "_________________________________________________________________\n",
      "conv2d_4 (Conv2D)            (None, 28, 28, 15)        1140      \n",
      "_________________________________________________________________\n",
      "dropout_4 (Dropout)          (None, 28, 28, 15)        0         \n",
      "_________________________________________________________________\n",
      "conv2d_5 (Conv2D)            (None, 24, 24, 30)        11280     \n",
      "_________________________________________________________________\n",
      "dropout_5 (Dropout)          (None, 24, 24, 30)        0         \n",
      "_________________________________________________________________\n",
      "conv2d_6 (Conv2D)            (None, 20, 20, 45)        33795     \n",
      "_________________________________________________________________\n",
      "dropout_6 (Dropout)          (None, 20, 20, 45)        0         \n",
      "_________________________________________________________________\n",
      "reshape_3 (Reshape)          (None, 400, 45)           0         \n",
      "_________________________________________________________________\n",
      "capsule_3 (Capsule)          (None, 10, 16)            7200      \n",
      "_________________________________________________________________\n",
      "lambda_3 (Lambda)            (None, 10)                0         \n",
      "=================================================================\n",
      "Total params: 53,415\n",
      "Trainable params: 53,415\n",
      "Non-trainable params: 0\n",
      "_________________________________________________________________\n"
     ]
    }
   ],
   "source": [
    "\"\"\"three-CONV-LAYERS-THICK\"\"\"\n",
    "input_image = Input(shape=(x_train.shape[1], x_train.shape[2], x_train.shape[3]))\n",
    "x_2 = Conv2D(filters= 15, kernel_size= 5, activation='relu', \n",
    "             padding= 'valid')(input_image)\n",
    "x_2= Dropout(0.1)(x_2)\n",
    "x_2 = Conv2D(filters= 30, kernel_size= 5, activation='relu',\n",
    "             strides= 1)(x_2)\n",
    "x_2 = Dropout(0.1)(x_2)\n",
    "x_2 = Conv2D(filters= 45, kernel_size= 5, activation='relu',\n",
    "             strides= 1)(x_2)\n",
    "x_2 = Dropout(0.1)(x_2)\n",
    "\n",
    "\n",
    "\"\"\"now we reshape it as (batch_size, input_num_capsule, input_dim_capsule)\n",
    "then connect a Capsule layer.\n",
    "\n",
    "the output of final model is the lengths of 10 Capsule, whose dim=16.\n",
    "\n",
    "the length of Capsule is the proba,\n",
    "so the problem becomes a 10 two-classification problem.\n",
    "\"\"\"\n",
    "\n",
    "x_2 = Reshape((-1, 45))(x_2)\n",
    "capsule_2 = Capsule(num_classes, 16, 3, True)(x_2)\n",
    "output_2 = Lambda(lambda z: K.sqrt(K.sum(K.square(z), 2)))(capsule_2)\n",
    "model_2= Model(inputs= input_image, outputs= output_2)\n",
    "\n",
    "# we use a margin loss\n",
    "model_2.compile(loss =margin_loss, optimizer='adam', metrics=['accuracy'])\n",
    "model_2.summary()\n",
    "\n",
    "# we can compare the performance with or without data augmentation\n",
    "data_augmentation = False"
   ]
  },
  {
   "cell_type": "code",
   "execution_count": 70,
   "metadata": {},
   "outputs": [
    {
     "name": "stdout",
     "output_type": "stream",
     "text": [
      "_________________________________________________________________\n",
      "Layer (type)                 Output Shape              Param #   \n",
      "=================================================================\n",
      "input_13 (InputLayer)        (None, 32, 32, 3)         0         \n",
      "_________________________________________________________________\n",
      "conv2d_55 (Conv2D)           (None, 28, 28, 15)        1140      \n",
      "_________________________________________________________________\n",
      "dropout_54 (Dropout)         (None, 28, 28, 15)        0         \n",
      "_________________________________________________________________\n",
      "conv2d_56 (Conv2D)           (None, 24, 24, 25)        9400      \n",
      "_________________________________________________________________\n",
      "dropout_55 (Dropout)         (None, 24, 24, 25)        0         \n",
      "_________________________________________________________________\n",
      "conv2d_57 (Conv2D)           (None, 20, 20, 27)        16902     \n",
      "_________________________________________________________________\n",
      "dropout_56 (Dropout)         (None, 20, 20, 27)        0         \n",
      "_________________________________________________________________\n",
      "conv2d_58 (Conv2D)           (None, 16, 16, 30)        20280     \n",
      "_________________________________________________________________\n",
      "dropout_57 (Dropout)         (None, 16, 16, 30)        0         \n",
      "_________________________________________________________________\n",
      "reshape_12 (Reshape)         (None, 256, 30)           0         \n",
      "_________________________________________________________________\n",
      "capsule_12 (Capsule)         (None, 10, 16)            4800      \n",
      "_________________________________________________________________\n",
      "lambda_12 (Lambda)           (None, 10)                0         \n",
      "=================================================================\n",
      "Total params: 52,522\n",
      "Trainable params: 52,522\n",
      "Non-trainable params: 0\n",
      "_________________________________________________________________\n"
     ]
    }
   ],
   "source": [
    "\"\"\"four-CONV-LAYERS-THICK\"\"\"\n",
    "input_image = Input(shape=(x_train.shape[1], x_train.shape[2], x_train.shape[3]))\n",
    "x_3 = Conv2D(filters= 15, kernel_size= 5, activation='relu', \n",
    "             padding= 'valid')(input_image)\n",
    "x_3= Dropout(0.1)(x_3)\n",
    "x_3 = Conv2D(filters= 25 ,kernel_size= 5, activation='relu',\n",
    "             strides= 1)(x_3)\n",
    "x_3 = Dropout(0.1)(x_3)\n",
    "x_3 = Conv2D(filters= 27, kernel_size= 5, activation='relu',\n",
    "             strides= 1)(x_3)\n",
    "x_3= Dropout(0.1)(x_3)\n",
    "x_3 = Conv2D(filters= 30,kernel_size= 5, activation='relu',\n",
    "             strides= 1)(x_3)\n",
    "x_3= Dropout(0.1)(x_3)\n",
    "\n",
    "\n",
    "\"\"\"now we reshape it as (batch_size, input_num_capsule, input_dim_capsule)\n",
    "then connect a Capsule layer.\n",
    "\n",
    "the output of final model is the lengths of 10 Capsule, whose dim=16.\n",
    "\n",
    "the length of Capsule is the proba,\n",
    "so the problem becomes a 10 two-classification problem.\n",
    "\"\"\"\n",
    "\n",
    "x_3 = Reshape((-1, 30))(x_3)\n",
    "capsule_3 = Capsule(num_classes, 16, 3, True)(x_3)\n",
    "output_3 = Lambda(lambda z: K.sqrt(K.sum(K.square(z), 2)))(capsule_3)\n",
    "model_3= Model(inputs= input_image, outputs= output_3)\n",
    "\n",
    "# we use a margin loss\n",
    "model_3.compile(loss =margin_loss, optimizer='adam', metrics=['accuracy'])\n",
    "model_3.summary()\n",
    "\n",
    "# we can compare the performance with or without data augmentation\n",
    "data_augmentation = False"
   ]
  },
  {
   "cell_type": "code",
   "execution_count": 71,
   "metadata": {},
   "outputs": [
    {
     "name": "stdout",
     "output_type": "stream",
     "text": [
      "_________________________________________________________________\n",
      "Layer (type)                 Output Shape              Param #   \n",
      "=================================================================\n",
      "input_14 (InputLayer)        (None, 32, 32, 3)         0         \n",
      "_________________________________________________________________\n",
      "conv2d_59 (Conv2D)           (None, 28, 28, 15)        1140      \n",
      "_________________________________________________________________\n",
      "dropout_58 (Dropout)         (None, 28, 28, 15)        0         \n",
      "_________________________________________________________________\n",
      "conv2d_60 (Conv2D)           (None, 24, 24, 20)        7520      \n",
      "_________________________________________________________________\n",
      "dropout_59 (Dropout)         (None, 24, 24, 20)        0         \n",
      "_________________________________________________________________\n",
      "conv2d_61 (Conv2D)           (None, 20, 20, 20)        10020     \n",
      "_________________________________________________________________\n",
      "dropout_60 (Dropout)         (None, 20, 20, 20)        0         \n",
      "_________________________________________________________________\n",
      "conv2d_62 (Conv2D)           (None, 16, 16, 25)        12525     \n",
      "_________________________________________________________________\n",
      "dropout_61 (Dropout)         (None, 16, 16, 25)        0         \n",
      "_________________________________________________________________\n",
      "conv2d_63 (Conv2D)           (None, 12, 12, 32)        20032     \n",
      "_________________________________________________________________\n",
      "dropout_62 (Dropout)         (None, 12, 12, 32)        0         \n",
      "_________________________________________________________________\n",
      "reshape_13 (Reshape)         (None, 144, 32)           0         \n",
      "_________________________________________________________________\n",
      "capsule_13 (Capsule)         (None, 10, 16)            5120      \n",
      "_________________________________________________________________\n",
      "lambda_13 (Lambda)           (None, 10)                0         \n",
      "=================================================================\n",
      "Total params: 56,357\n",
      "Trainable params: 56,357\n",
      "Non-trainable params: 0\n",
      "_________________________________________________________________\n"
     ]
    }
   ],
   "source": [
    "\"\"\"five-CONV-LAYERS-THICK\"\"\"\n",
    "input_image = Input(shape=(x_train.shape[1], x_train.shape[2], x_train.shape[3]))\n",
    "x_4 = Conv2D(filters= 15, kernel_size= 5, activation='relu', \n",
    "             padding= 'valid')(input_image)\n",
    "x_4= Dropout(0.1)(x_4)\n",
    "x_4 = Conv2D(filters= 20 ,kernel_size= 5, activation='relu',\n",
    "             strides= 1)(x_4)\n",
    "x_4 = Dropout(0.1)(x_4)\n",
    "x_4 = Conv2D(filters= 20, kernel_size= 5, activation='relu',\n",
    "             strides= 1)(x_4)\n",
    "x_4= Dropout(0.1)(x_4)\n",
    "x_4 = Conv2D(filters= 25,kernel_size= 5, activation='relu',\n",
    "              strides= 1)(x_4)\n",
    "x_4= Dropout(0.1)(x_4)\n",
    "x_4 = Conv2D(filters= 32,kernel_size= 5, activation='relu',\n",
    "             strides= 1)(x_4)\n",
    "x_4= Dropout(0.1)(x_4)\n",
    "\n",
    "\"\"\"now we reshape it as (batch_size, input_num_capsule, input_dim_capsule)\n",
    "then connect a Capsule layer.\n",
    "\n",
    "the output of final model is the lengths of 10 Capsule, whose dim=16.\n",
    "\n",
    "the length of Capsule is the proba,\n",
    "so the problem becomes a 10 two-classification problem.\n",
    "\"\"\"\n",
    "\n",
    "x_4 = Reshape((-1, 32))(x_4)\n",
    "capsule_4 = Capsule(num_classes, 16, 3, True)(x_4)\n",
    "output_4 = Lambda(lambda z: K.sqrt(K.sum(K.square(z), 2)))(capsule_4)\n",
    "model_4= Model(inputs= input_image, outputs= output_4)\n",
    "\n",
    "# we use a margin loss\n",
    "model_4.compile(loss =margin_loss, optimizer='adam', metrics=['accuracy'])\n",
    "model_4.summary()\n",
    "\n",
    "# we can compare the performance with or without data augmentation\n",
    "data_augmentation = False"
   ]
  },
  {
   "cell_type": "code",
   "execution_count": 42,
   "metadata": {},
   "outputs": [
    {
     "name": "stdout",
     "output_type": "stream",
     "text": [
      "_________________________________________________________________\n",
      "Layer (type)                 Output Shape              Param #   \n",
      "=================================================================\n",
      "input_8 (InputLayer)         (None, 32, 32, 3)         0         \n",
      "_________________________________________________________________\n",
      "conv2d_31 (Conv2D)           (None, 28, 28, 15)        1140      \n",
      "_________________________________________________________________\n",
      "dropout_31 (Dropout)         (None, 28, 28, 15)        0         \n",
      "_________________________________________________________________\n",
      "conv2d_32 (Conv2D)           (None, 28, 28, 15)        5640      \n",
      "_________________________________________________________________\n",
      "dropout_32 (Dropout)         (None, 28, 28, 15)        0         \n",
      "_________________________________________________________________\n",
      "conv2d_33 (Conv2D)           (None, 12, 12, 15)        5640      \n",
      "_________________________________________________________________\n",
      "dropout_33 (Dropout)         (None, 12, 12, 15)        0         \n",
      "_________________________________________________________________\n",
      "conv2d_34 (Conv2D)           (None, 8, 8, 20)          7520      \n",
      "_________________________________________________________________\n",
      "dropout_34 (Dropout)         (None, 8, 8, 20)          0         \n",
      "_________________________________________________________________\n",
      "conv2d_35 (Conv2D)           (None, 8, 8, 25)          12525     \n",
      "_________________________________________________________________\n",
      "dropout_35 (Dropout)         (None, 8, 8, 25)          0         \n",
      "_________________________________________________________________\n",
      "conv2d_36 (Conv2D)           (None, 4, 4, 30)          18780     \n",
      "_________________________________________________________________\n",
      "dropout_36 (Dropout)         (None, 4, 4, 30)          0         \n",
      "_________________________________________________________________\n",
      "reshape_8 (Reshape)          (None, 16, 30)            0         \n",
      "_________________________________________________________________\n",
      "capsule_8 (Capsule)          (None, 10, 16)            4800      \n",
      "_________________________________________________________________\n",
      "lambda_8 (Lambda)            (None, 10)                0         \n",
      "=================================================================\n",
      "Total params: 56,045\n",
      "Trainable params: 56,045\n",
      "Non-trainable params: 0\n",
      "_________________________________________________________________\n"
     ]
    }
   ],
   "source": [
    "\"\"\"six-CONV-LAYERS-THICK\"\"\"\n",
    "input_image = Input(shape=(x_train.shape[1], x_train.shape[2], x_train.shape[3]))\n",
    "x_5 = Conv2D(filters= 15, kernel_size= 5, activation='relu', \n",
    "             padding= 'valid')(input_image)\n",
    "x_5= Dropout(0.1)(x_5)\n",
    "x_5 = Conv2D(filters= 15 ,kernel_size= 5, activation='relu',\n",
    "             padding= 'same')(x_5)\n",
    "x_5 = Dropout(0.1)(x_5)\n",
    "x_5 = Conv2D(filters= 15, kernel_size= 5, activation='relu',\n",
    "             strides= 2)(x_5)\n",
    "x_5= Dropout(0.1)(x_5)\n",
    "x_5 = Conv2D(filters= 20,kernel_size= 5, activation='relu',\n",
    "             strides= 1)(x_5)\n",
    "x_5= Dropout(0.1)(x_5)\n",
    "x_5 = Conv2D(filters= 25,kernel_size= 5, activation='relu',\n",
    "             padding= 'same')(x_5)\n",
    "x_5= Dropout(0.1)(x_5)\n",
    "x_5 = Conv2D(filters= 30,kernel_size= 5, activation='relu',\n",
    "             strides= 1)(x_5)\n",
    "x_5= Dropout(0.1)(x_5)\n",
    "\n",
    "\"\"\"now we reshape it as (batch_size, input_num_capsule, input_dim_capsule)\n",
    "then connect a Capsule layer.\n",
    "\n",
    "the output of final model is the lengths of 10 Capsule, whose dim=16.\n",
    "\n",
    "the length of Capsule is the proba,\n",
    "so the problem becomes a 10 two-classification problem.\n",
    "\"\"\"\n",
    "\n",
    "x_5 = Reshape((-1, 30))(x_5)\n",
    "capsule_5 = Capsule(num_classes, 16, 3, True)(x_5)\n",
    "output_5 = Lambda(lambda z: K.sqrt(K.sum(K.square(z), 2)))(capsule_5)\n",
    "model_5= Model(inputs= input_image, outputs= output_5)\n",
    "\n",
    "# we use a margin loss\n",
    "model_5.compile(loss =margin_loss, optimizer='adam', metrics=['accuracy'])\n",
    "model_5.summary()\n",
    "\n",
    "# we can compare the performance with or without data augmentation\n",
    "data_augmentation = False"
   ]
  },
  {
   "cell_type": "code",
   "execution_count": 14,
   "metadata": {},
   "outputs": [
    {
     "name": "stdout",
     "output_type": "stream",
     "text": [
      "_________________________________________________________________\n",
      "Layer (type)                 Output Shape              Param #   \n",
      "=================================================================\n",
      "input_7 (InputLayer)         (None, 32, 32, 3)         0         \n",
      "_________________________________________________________________\n",
      "conv2d_22 (Conv2D)           (None, 28, 28, 15)        1140      \n",
      "_________________________________________________________________\n",
      "dropout_22 (Dropout)         (None, 28, 28, 15)        0         \n",
      "_________________________________________________________________\n",
      "conv2d_23 (Conv2D)           (None, 28, 28, 15)        5640      \n",
      "_________________________________________________________________\n",
      "dropout_23 (Dropout)         (None, 28, 28, 15)        0         \n",
      "_________________________________________________________________\n",
      "conv2d_24 (Conv2D)           (None, 12, 12, 15)        5640      \n",
      "_________________________________________________________________\n",
      "dropout_24 (Dropout)         (None, 12, 12, 15)        0         \n",
      "_________________________________________________________________\n",
      "conv2d_25 (Conv2D)           (None, 12, 12, 20)        7520      \n",
      "_________________________________________________________________\n",
      "dropout_25 (Dropout)         (None, 12, 12, 20)        0         \n",
      "_________________________________________________________________\n",
      "conv2d_26 (Conv2D)           (None, 12, 12, 20)        10020     \n",
      "_________________________________________________________________\n",
      "dropout_26 (Dropout)         (None, 12, 12, 20)        0         \n",
      "_________________________________________________________________\n",
      "conv2d_27 (Conv2D)           (None, 8, 8, 25)          12525     \n",
      "_________________________________________________________________\n",
      "dropout_27 (Dropout)         (None, 8, 8, 25)          0         \n",
      "_________________________________________________________________\n",
      "conv2d_28 (Conv2D)           (None, 4, 4, 25)          15650     \n",
      "_________________________________________________________________\n",
      "dropout_28 (Dropout)         (None, 4, 4, 25)          0         \n",
      "_________________________________________________________________\n",
      "reshape_7 (Reshape)          (None, 16, 25)            0         \n",
      "_________________________________________________________________\n",
      "capsule_7 (Capsule)          (None, 10, 16)            4000      \n",
      "_________________________________________________________________\n",
      "lambda_7 (Lambda)            (None, 10)                0         \n",
      "=================================================================\n",
      "Total params: 62,135\n",
      "Trainable params: 62,135\n",
      "Non-trainable params: 0\n",
      "_________________________________________________________________\n"
     ]
    }
   ],
   "source": [
    "\"\"\"seven-CONV-LAYERS-THICK\"\"\"\n",
    "input_image = Input(shape=(x_train.shape[1], x_train.shape[2], x_train.shape[3]))\n",
    "x_6 = Conv2D(filters= 15, kernel_size= 5, activation='relu', \n",
    "             padding= 'valid')(input_image)\n",
    "x_6= Dropout(0.1)(x_6)\n",
    "x_6 = Conv2D(filters= 15 ,kernel_size= 5, activation='relu',\n",
    "            padding= 'same')(x_6)\n",
    "x_6 = Dropout(0.1)(x_6)\n",
    "x_6 = Conv2D(filters= 15, kernel_size= 5, activation='relu',\n",
    "              strides= 2)(x_6)\n",
    "x_6= Dropout(0.1)(x_6)\n",
    "x_6 = Conv2D(filters= 20,kernel_size= 5, activation='relu',\n",
    "              padding= 'same')(x_6)\n",
    "x_6= Dropout(0.1)(x_6)\n",
    "x_6 = Conv2D(filters= 20,kernel_size= 5, activation='relu',\n",
    "             padding= 'same')(x_6)\n",
    "x_6= Dropout(0.1)(x_6)\n",
    "x_6 = Conv2D(filters= 25,kernel_size= 5, activation='relu',\n",
    "              strides= 1)(x_6)\n",
    "x_6= Dropout(0.1)(x_6)\n",
    "x_6 = Conv2D(filters= 25,kernel_size= 5, activation='relu',\n",
    "             strides= 1)(x_6)\n",
    "x_6= Dropout(0.1)(x_6)\n",
    "\n",
    "\"\"\"now we reshape it as (batch_size, input_num_capsule, input_dim_capsule)\n",
    "then connect a Capsule layer.\n",
    "\n",
    "the output of final model is the lengths of 10 Capsule, whose dim=16.\n",
    "\n",
    "the length of Capsule is the proba,\n",
    "so the problem becomes a 10 two-classification problem.\n",
    "\"\"\"\n",
    "\n",
    "x_6 = Reshape((-1, 25))(x_6)\n",
    "capsule_6 = Capsule(num_classes, 16, 3, True)(x_6)\n",
    "output_6 = Lambda(lambda z: K.sqrt(K.sum(K.square(z), 2)))(capsule_6)\n",
    "model_6= Model(inputs= input_image, outputs= output_6)\n",
    "\n",
    "# we use a margin loss\n",
    "model_6.compile(loss =margin_loss, optimizer='adam', metrics=['accuracy'])\n",
    "model_6.summary()\n",
    "\n",
    "# we can compare the performance with or without data augmentation\n",
    "data_augmentation = False"
   ]
  },
  {
   "cell_type": "code",
   "execution_count": 15,
   "metadata": {},
   "outputs": [
    {
     "name": "stdout",
     "output_type": "stream",
     "text": [
      "_________________________________________________________________\n",
      "Layer (type)                 Output Shape              Param #   \n",
      "=================================================================\n",
      "conv2d_29 (Conv2D)           (None, 32, 32, 5)         380       \n",
      "_________________________________________________________________\n",
      "max_pooling2d_1 (MaxPooling2 (None, 16, 16, 5)         0         \n",
      "_________________________________________________________________\n",
      "conv2d_30 (Conv2D)           (None, 12, 12, 13)        1638      \n",
      "_________________________________________________________________\n",
      "dropout_29 (Dropout)         (None, 12, 12, 13)        0         \n",
      "_________________________________________________________________\n",
      "max_pooling2d_2 (MaxPooling2 (None, 6, 6, 13)          0         \n",
      "_________________________________________________________________\n",
      "flatten_1 (Flatten)          (None, 468)               0         \n",
      "_________________________________________________________________\n",
      "dropout_30 (Dropout)         (None, 468)               0         \n",
      "_________________________________________________________________\n",
      "dense_1 (Dense)              (None, 256)               120064    \n",
      "_________________________________________________________________\n",
      "dense_2 (Dense)              (None, 10)                2570      \n",
      "=================================================================\n",
      "Total params: 124,652\n",
      "Trainable params: 124,652\n",
      "Non-trainable params: 0\n",
      "_________________________________________________________________\n",
      "None\n"
     ]
    }
   ],
   "source": [
    "\"\"\"CNN-3-CONV-LAYERS\"\"\"\n",
    "from keras.models import Sequential\n",
    "from keras.layers import Dense, Dropout, Activation, Flatten, Conv2D, MaxPooling2D, \\\n",
    "                         ZeroPadding2D\n",
    "\n",
    "model_7= Sequential()\n",
    "model_7.add(Conv2D(filters= 5, kernel_size= (5, 5), padding= 'same', \n",
    "                   input_shape=(x_train.shape[1], x_train.shape[2], x_train.shape[3]), \n",
    "                   activation='relu'))\n",
    "model_7.add(MaxPooling2D(pool_size=(2,2)))\n",
    "model_7.add(Conv2D(filters= 13, kernel_size= (5, 5), \n",
    "                    padding= 'valid', activation='relu'))\n",
    "model_7.add(Dropout(0.3))\n",
    "model_7.add(MaxPooling2D(pool_size=(2,2)))\n",
    "\n",
    "model_7.add(Flatten())\n",
    "model_7.add(Dropout(0.4))\n",
    "model_7.add(Dense(256, activation='relu'))\n",
    "model_7.add(Dense(num_classes, activation='softmax'))\n",
    "print(model_7.summary())"
   ]
  },
  {
   "cell_type": "code",
   "execution_count": 16,
   "metadata": {},
   "outputs": [
    {
     "name": "stdout",
     "output_type": "stream",
     "text": [
      "Not using data augmentation.\n",
      "WARNING:tensorflow:From C:\\Users\\ASUS\\Anaconda3\\envs\\tensorflow-gpu\\lib\\site-packages\\tensorflow\\python\\ops\\math_ops.py:3066: to_int32 (from tensorflow.python.ops.math_ops) is deprecated and will be removed in a future version.\n",
      "Instructions for updating:\n",
      "Use tf.cast instead.\n",
      "WARNING:tensorflow:From C:\\Users\\ASUS\\Anaconda3\\envs\\tensorflow-gpu\\lib\\site-packages\\tensorflow\\python\\ops\\math_grad.py:102: div (from tensorflow.python.ops.math_ops) is deprecated and will be removed in a future version.\n",
      "Instructions for updating:\n",
      "Deprecated in favor of operator or tf.math.divide.\n",
      "Train on 45455 samples, validate on 4545 samples\n",
      "Epoch 1/30\n",
      "45455/45455 [==============================] - 20s 451us/step - loss: 0.6799 - acc: 0.2385 - val_loss: 0.4532 - val_acc: 0.3050\n",
      "Epoch 2/30\n",
      "45455/45455 [==============================] - 18s 398us/step - loss: 0.4450 - acc: 0.3272 - val_loss: 0.4285 - val_acc: 0.3536\n",
      "Epoch 3/30\n",
      "45455/45455 [==============================] - 18s 404us/step - loss: 0.4262 - acc: 0.3639 - val_loss: 0.4196 - val_acc: 0.3765\n",
      "Epoch 4/30\n",
      "45455/45455 [==============================] - 18s 404us/step - loss: 0.4184 - acc: 0.3802 - val_loss: 0.4034 - val_acc: 0.4073\n",
      "Epoch 5/30\n",
      "45455/45455 [==============================] - 18s 404us/step - loss: 0.4112 - acc: 0.3944 - val_loss: 0.4303 - val_acc: 0.3593\n",
      "Epoch 6/30\n",
      "45455/45455 [==============================] - 18s 407us/step - loss: 0.4052 - acc: 0.4103 - val_loss: 0.4027 - val_acc: 0.4152\n",
      "Epoch 7/30\n",
      "45455/45455 [==============================] - 18s 404us/step - loss: 0.3989 - acc: 0.4195 - val_loss: 0.3974 - val_acc: 0.4106\n",
      "Epoch 8/30\n",
      "45455/45455 [==============================] - 18s 403us/step - loss: 0.3969 - acc: 0.4219 - val_loss: 0.3875 - val_acc: 0.4264\n",
      "Epoch 9/30\n",
      "45455/45455 [==============================] - 18s 406us/step - loss: 0.3908 - acc: 0.4363 - val_loss: 0.3883 - val_acc: 0.4321\n",
      "Epoch 10/30\n",
      "45455/45455 [==============================] - 18s 406us/step - loss: 0.3887 - acc: 0.4382 - val_loss: 0.3890 - val_acc: 0.4282\n",
      "Epoch 11/30\n",
      "45455/45455 [==============================] - 19s 407us/step - loss: 0.3836 - acc: 0.4479 - val_loss: 0.4040 - val_acc: 0.4018\n",
      "Epoch 12/30\n",
      "45455/45455 [==============================] - 19s 416us/step - loss: 0.3830 - acc: 0.4468 - val_loss: 0.3921 - val_acc: 0.4238\n",
      "Epoch 13/30\n",
      "45455/45455 [==============================] - 19s 412us/step - loss: 0.3818 - acc: 0.4500 - val_loss: 0.3851 - val_acc: 0.4451\n",
      "Epoch 14/30\n",
      "45455/45455 [==============================] - 18s 406us/step - loss: 0.3789 - acc: 0.4548 - val_loss: 0.3746 - val_acc: 0.4763\n",
      "Epoch 15/30\n",
      "45455/45455 [==============================] - 18s 401us/step - loss: 0.3782 - acc: 0.4589 - val_loss: 0.3789 - val_acc: 0.4491\n",
      "Epoch 16/30\n",
      "45455/45455 [==============================] - 18s 400us/step - loss: 0.3753 - acc: 0.4636 - val_loss: 0.3825 - val_acc: 0.4444\n",
      "Epoch 17/30\n",
      "45455/45455 [==============================] - 18s 401us/step - loss: 0.3739 - acc: 0.4651 - val_loss: 0.3835 - val_acc: 0.4499\n",
      "Epoch 18/30\n",
      "45455/45455 [==============================] - 19s 407us/step - loss: 0.3714 - acc: 0.4718 - val_loss: 0.3809 - val_acc: 0.4539\n",
      "Epoch 19/30\n",
      "45455/45455 [==============================] - 49s 1ms/step - loss: 0.3685 - acc: 0.4779 - val_loss: 0.3723 - val_acc: 0.4629\n",
      "Epoch 20/30\n",
      "45455/45455 [==============================] - 18s 405us/step - loss: 0.3697 - acc: 0.4746 - val_loss: 0.3632 - val_acc: 0.4777\n",
      "Epoch 21/30\n",
      "45455/45455 [==============================] - 18s 401us/step - loss: 0.3664 - acc: 0.4807 - val_loss: 0.3783 - val_acc: 0.4691\n",
      "Epoch 22/30\n",
      "45455/45455 [==============================] - 18s 402us/step - loss: 0.3650 - acc: 0.4847 - val_loss: 0.3739 - val_acc: 0.4636\n",
      "Epoch 23/30\n",
      "45455/45455 [==============================] - 18s 404us/step - loss: 0.3639 - acc: 0.4872 - val_loss: 0.3784 - val_acc: 0.4436\n",
      "Epoch 24/30\n",
      "45455/45455 [==============================] - 18s 405us/step - loss: 0.3631 - acc: 0.4891 - val_loss: 0.3589 - val_acc: 0.4992\n",
      "Epoch 25/30\n",
      "45455/45455 [==============================] - 18s 402us/step - loss: 0.3619 - acc: 0.4920 - val_loss: 0.3610 - val_acc: 0.4917\n",
      "Epoch 26/30\n",
      "45455/45455 [==============================] - 21s 462us/step - loss: 0.3599 - acc: 0.4961 - val_loss: 0.3721 - val_acc: 0.4662\n",
      "Epoch 27/30\n",
      "45455/45455 [==============================] - 18s 401us/step - loss: 0.3589 - acc: 0.4973 - val_loss: 0.3642 - val_acc: 0.4774\n",
      "Epoch 28/30\n",
      "45455/45455 [==============================] - 18s 401us/step - loss: 0.3576 - acc: 0.4998 - val_loss: 0.3682 - val_acc: 0.4497\n",
      "Epoch 29/30\n",
      "45455/45455 [==============================] - 18s 401us/step - loss: 0.3571 - acc: 0.5004 - val_loss: 0.3585 - val_acc: 0.4983\n",
      "Epoch 30/30\n",
      "45455/45455 [==============================] - 18s 402us/step - loss: 0.3568 - acc: 0.5017 - val_loss: 0.3537 - val_acc: 0.5017\n"
     ]
    }
   ],
   "source": [
    "\"\"\"one-CONV-LAYERS-THICK\"\"\"\n",
    "if not data_augmentation:\n",
    "    print('Not using data augmentation.')\n",
    "    train_history_0= model_0.fit(\n",
    "        x_train,\n",
    "        y_train,\n",
    "        batch_size=batch_size,\n",
    "        epochs=epochs,\n",
    "        validation_split= Vld_Splt,\n",
    "        shuffle=True)\n",
    "else:\n",
    "    print('Using real-time data augmentation.')\n",
    "    # This will do preprocessing and realtime data augmentation:\n",
    "    datagen = ImageDataGenerator(\n",
    "        featurewise_center=False,  # set input mean to 0 over the dataset\n",
    "        samplewise_center=False,  # set each sample mean to 0\n",
    "        featurewise_std_normalization=False,  # divide inputs by dataset std\n",
    "        samplewise_std_normalization=False,  # divide each input by its std\n",
    "        zca_whitening=False,  # apply ZCA whitening\n",
    "        zca_epsilon=1e-06,  # epsilon for ZCA whitening\n",
    "        rotation_range=0,  # randomly rotate images in 0 to 180 degrees\n",
    "        width_shift_range=0.1,  # randomly shift images horizontally\n",
    "        height_shift_range=0.1,  # randomly shift images vertically\n",
    "        shear_range=0.,  # set range for random shear\n",
    "        zoom_range=0.,  # set range for random zoom\n",
    "        channel_shift_range=0.,  # set range for random channel shifts\n",
    "        # set mode for filling points outside the input boundaries\n",
    "        fill_mode='nearest',\n",
    "        cval=0.,  # value used for fill_mode = \"constant\"\n",
    "        horizontal_flip=True,  # randomly flip images\n",
    "        vertical_flip=False,  # randomly flip images\n",
    "        # set rescaling factor (applied before any other transformation)\n",
    "        rescale=None,\n",
    "        # set function that will be applied on each input\n",
    "        preprocessing_function=None,\n",
    "        # image data format, either \"channels_first\" or \"channels_last\"\n",
    "        data_format=None,\n",
    "        # fraction of images reserved for validation (strictly between 0 and 1)\n",
    "        validation_split=0.0)\n",
    "\n",
    "    # Compute quantities required for feature-wise normalization\n",
    "    # (std, mean, and principal components if ZCA whitening is applied).\n",
    "    datagen.fit(x_train)\n",
    "\n",
    "    # Fit the model on the batches generated by datagen.flow().\n",
    "    train_history_0= model_0.fit_generator(\n",
    "        datagen.flow(x_train, y_train, batch_size=batch_size),\n",
    "        epochs= epochs,\n",
    "        validation_split= Vld_Splt,\n",
    "        steps_per_epoch= int(x_train.shape[0]/ batch_size),\n",
    "        workers=4)"
   ]
  },
  {
   "cell_type": "code",
   "execution_count": 17,
   "metadata": {},
   "outputs": [
    {
     "name": "stdout",
     "output_type": "stream",
     "text": [
      "Not using data augmentation.\n",
      "Train on 45455 samples, validate on 4545 samples\n",
      "Epoch 1/30\n",
      "45455/45455 [==============================] - 12s 267us/step - loss: 0.5279 - acc: 0.3179 - val_loss: 0.4137 - val_acc: 0.4026\n",
      "Epoch 2/30\n",
      "45455/45455 [==============================] - 15s 336us/step - loss: 0.3826 - acc: 0.4540 - val_loss: 0.3748 - val_acc: 0.4493\n",
      "Epoch 3/30\n",
      "45455/45455 [==============================] - 12s 254us/step - loss: 0.3584 - acc: 0.4962 - val_loss: 0.3498 - val_acc: 0.5146\n",
      "Epoch 4/30\n",
      "45455/45455 [==============================] - 11s 252us/step - loss: 0.3417 - acc: 0.5261 - val_loss: 0.3292 - val_acc: 0.5474\n",
      "Epoch 5/30\n",
      "45455/45455 [==============================] - 17s 364us/step - loss: 0.3313 - acc: 0.5449 - val_loss: 0.3274 - val_acc: 0.5549\n",
      "Epoch 6/30\n",
      "45455/45455 [==============================] - 11s 252us/step - loss: 0.3216 - acc: 0.5630 - val_loss: 0.3154 - val_acc: 0.5714\n",
      "Epoch 7/30\n",
      "45455/45455 [==============================] - 11s 249us/step - loss: 0.3145 - acc: 0.5738 - val_loss: 0.3074 - val_acc: 0.5809\n",
      "Epoch 8/30\n",
      "45455/45455 [==============================] - 11s 250us/step - loss: 0.3097 - acc: 0.5817 - val_loss: 0.3153 - val_acc: 0.5683\n",
      "Epoch 9/30\n",
      "45455/45455 [==============================] - 11s 251us/step - loss: 0.3048 - acc: 0.5896 - val_loss: 0.3072 - val_acc: 0.5754\n",
      "Epoch 10/30\n",
      "45455/45455 [==============================] - 11s 253us/step - loss: 0.2982 - acc: 0.6014 - val_loss: 0.2967 - val_acc: 0.6075\n",
      "Epoch 11/30\n",
      "45455/45455 [==============================] - 11s 251us/step - loss: 0.2942 - acc: 0.6075 - val_loss: 0.3018 - val_acc: 0.6007\n",
      "Epoch 12/30\n",
      "45455/45455 [==============================] - 11s 251us/step - loss: 0.2891 - acc: 0.6158 - val_loss: 0.2915 - val_acc: 0.6088\n",
      "Epoch 13/30\n",
      "45455/45455 [==============================] - 11s 251us/step - loss: 0.2858 - acc: 0.6234 - val_loss: 0.2913 - val_acc: 0.6216\n",
      "Epoch 14/30\n",
      "45455/45455 [==============================] - 11s 251us/step - loss: 0.2823 - acc: 0.6286 - val_loss: 0.2838 - val_acc: 0.6257\n",
      "Epoch 15/30\n",
      "45455/45455 [==============================] - 11s 253us/step - loss: 0.2798 - acc: 0.6338 - val_loss: 0.2892 - val_acc: 0.6185\n",
      "Epoch 16/30\n",
      "45455/45455 [==============================] - 11s 251us/step - loss: 0.2759 - acc: 0.6394 - val_loss: 0.2885 - val_acc: 0.6202\n",
      "Epoch 17/30\n",
      "45455/45455 [==============================] - 11s 251us/step - loss: 0.2738 - acc: 0.6455 - val_loss: 0.2891 - val_acc: 0.6180\n",
      "Epoch 18/30\n",
      "45455/45455 [==============================] - 11s 251us/step - loss: 0.2716 - acc: 0.6459 - val_loss: 0.2813 - val_acc: 0.6354\n",
      "Epoch 19/30\n",
      "45455/45455 [==============================] - 11s 252us/step - loss: 0.2688 - acc: 0.6511 - val_loss: 0.2769 - val_acc: 0.6392\n",
      "Epoch 20/30\n",
      "45455/45455 [==============================] - 11s 252us/step - loss: 0.2666 - acc: 0.6536 - val_loss: 0.2672 - val_acc: 0.6515\n",
      "Epoch 21/30\n",
      "45455/45455 [==============================] - 15s 336us/step - loss: 0.2645 - acc: 0.6585 - val_loss: 0.2734 - val_acc: 0.6515\n",
      "Epoch 22/30\n",
      "45455/45455 [==============================] - 11s 249us/step - loss: 0.2620 - acc: 0.6654 - val_loss: 0.2712 - val_acc: 0.6471\n",
      "Epoch 23/30\n",
      "45455/45455 [==============================] - 11s 250us/step - loss: 0.2602 - acc: 0.6669 - val_loss: 0.2680 - val_acc: 0.6636\n",
      "Epoch 24/30\n",
      "45455/45455 [==============================] - 15s 336us/step - loss: 0.2600 - acc: 0.6659 - val_loss: 0.2776 - val_acc: 0.6411\n",
      "Epoch 25/30\n",
      "45455/45455 [==============================] - 11s 249us/step - loss: 0.2580 - acc: 0.6723 - val_loss: 0.2705 - val_acc: 0.6508\n",
      "Epoch 26/30\n",
      "45455/45455 [==============================] - 11s 251us/step - loss: 0.2548 - acc: 0.6753 - val_loss: 0.2669 - val_acc: 0.6605\n",
      "Epoch 27/30\n",
      "45455/45455 [==============================] - 15s 334us/step - loss: 0.2532 - acc: 0.6771 - val_loss: 0.2640 - val_acc: 0.6642\n",
      "Epoch 28/30\n",
      "45455/45455 [==============================] - 11s 249us/step - loss: 0.2538 - acc: 0.6759 - val_loss: 0.2665 - val_acc: 0.6515\n",
      "Epoch 29/30\n",
      "45455/45455 [==============================] - 11s 250us/step - loss: 0.2511 - acc: 0.6786 - val_loss: 0.2657 - val_acc: 0.6570\n",
      "Epoch 30/30\n",
      "45455/45455 [==============================] - 16s 348us/step - loss: 0.2506 - acc: 0.6790 - val_loss: 0.2698 - val_acc: 0.6607\n"
     ]
    }
   ],
   "source": [
    "\"\"\"two-CONV-LAYERS-THICK\"\"\"\n",
    "if not data_augmentation:\n",
    "    print('Not using data augmentation.')\n",
    "    train_history_1= model_1.fit(\n",
    "        x_train,\n",
    "        y_train,\n",
    "        batch_size=batch_size,\n",
    "        epochs=epochs,\n",
    "        validation_split= Vld_Splt,\n",
    "        shuffle=True)\n",
    "else:\n",
    "    print('Using real-time data augmentation.')\n",
    "    # This will do preprocessing and realtime data augmentation:\n",
    "    datagen = ImageDataGenerator(\n",
    "        featurewise_center=False,  # set input mean to 0 over the dataset\n",
    "        samplewise_center=False,  # set each sample mean to 0\n",
    "        featurewise_std_normalization=False,  # divide inputs by dataset std\n",
    "        samplewise_std_normalization=False,  # divide each input by its std\n",
    "        zca_whitening=False,  # apply ZCA whitening\n",
    "        zca_epsilon=1e-06,  # epsilon for ZCA whitening\n",
    "        rotation_range=0,  # randomly rotate images in 0 to 180 degrees\n",
    "        width_shift_range=0.1,  # randomly shift images horizontally\n",
    "        height_shift_range=0.1,  # randomly shift images vertically\n",
    "        shear_range=0.,  # set range for random shear\n",
    "        zoom_range=0.,  # set range for random zoom\n",
    "        channel_shift_range=0.,  # set range for random channel shifts\n",
    "        # set mode for filling points outside the input boundaries\n",
    "        fill_mode='nearest',\n",
    "        cval=0.,  # value used for fill_mode = \"constant\"\n",
    "        horizontal_flip=True,  # randomly flip images\n",
    "        vertical_flip=False,  # randomly flip images\n",
    "        # set rescaling factor (applied before any other transformation)\n",
    "        rescale=None,\n",
    "        # set function that will be applied on each input\n",
    "        preprocessing_function=None,\n",
    "        # image data format, either \"channels_first\" or \"channels_last\"\n",
    "        data_format=None,\n",
    "        # fraction of images reserved for validation (strictly between 0 and 1)\n",
    "        validation_split=0.0)\n",
    "\n",
    "    # Compute quantities required for feature-wise normalization\n",
    "    # (std, mean, and principal components if ZCA whitening is applied).\n",
    "    datagen.fit(x_train)\n",
    "\n",
    "    # Fit the model on the batches generated by datagen.flow().\n",
    "    train_history_1= model_1.fit_generator(\n",
    "        datagen.flow(x_train, y_train, batch_size=batch_size),\n",
    "        epochs= epochs,\n",
    "        validation_split= Vld_Splt,\n",
    "        steps_per_epoch= int(x_train.shape[0]/ batch_size),\n",
    "        workers=4)"
   ]
  },
  {
   "cell_type": "code",
   "execution_count": 18,
   "metadata": {},
   "outputs": [
    {
     "name": "stdout",
     "output_type": "stream",
     "text": [
      "Not using data augmentation.\n",
      "Train on 45455 samples, validate on 4545 samples\n",
      "Epoch 1/30\n",
      "45455/45455 [==============================] - 10s 220us/step - loss: 0.4821 - acc: 0.2787 - val_loss: 0.4171 - val_acc: 0.3573\n",
      "Epoch 2/30\n",
      "45455/45455 [==============================] - 9s 202us/step - loss: 0.4023 - acc: 0.3939 - val_loss: 0.3803 - val_acc: 0.4429\n",
      "Epoch 3/30\n",
      "45455/45455 [==============================] - 9s 202us/step - loss: 0.3658 - acc: 0.4675 - val_loss: 0.3578 - val_acc: 0.4856\n",
      "Epoch 4/30\n",
      "45455/45455 [==============================] - 14s 298us/step - loss: 0.3417 - acc: 0.5141 - val_loss: 0.3457 - val_acc: 0.5003\n",
      "Epoch 5/30\n",
      "45455/45455 [==============================] - 9s 202us/step - loss: 0.3274 - acc: 0.5379 - val_loss: 0.3268 - val_acc: 0.5362\n",
      "Epoch 6/30\n",
      "45455/45455 [==============================] - 9s 203us/step - loss: 0.3156 - acc: 0.5598 - val_loss: 0.3092 - val_acc: 0.5688\n",
      "Epoch 7/30\n",
      "45455/45455 [==============================] - 9s 203us/step - loss: 0.3036 - acc: 0.5796 - val_loss: 0.3087 - val_acc: 0.5771\n",
      "Epoch 8/30\n",
      "45455/45455 [==============================] - 9s 203us/step - loss: 0.2952 - acc: 0.5933 - val_loss: 0.2986 - val_acc: 0.5866\n",
      "Epoch 9/30\n",
      "45455/45455 [==============================] - 9s 203us/step - loss: 0.2877 - acc: 0.6076 - val_loss: 0.2844 - val_acc: 0.6191\n",
      "Epoch 10/30\n",
      "45455/45455 [==============================] - 14s 315us/step - loss: 0.2828 - acc: 0.6150 - val_loss: 0.2836 - val_acc: 0.6097\n",
      "Epoch 11/30\n",
      "45455/45455 [==============================] - 9s 203us/step - loss: 0.2756 - acc: 0.6269 - val_loss: 0.2759 - val_acc: 0.6211\n",
      "Epoch 12/30\n",
      "45455/45455 [==============================] - 9s 203us/step - loss: 0.2716 - acc: 0.6341 - val_loss: 0.2683 - val_acc: 0.6319\n",
      "Epoch 13/30\n",
      "45455/45455 [==============================] - 9s 202us/step - loss: 0.2666 - acc: 0.6414 - val_loss: 0.2758 - val_acc: 0.6361\n",
      "Epoch 14/30\n",
      "45455/45455 [==============================] - 14s 302us/step - loss: 0.2630 - acc: 0.6485 - val_loss: 0.2757 - val_acc: 0.6312\n",
      "Epoch 15/30\n",
      "45455/45455 [==============================] - 9s 203us/step - loss: 0.2601 - acc: 0.6546 - val_loss: 0.2592 - val_acc: 0.6495\n",
      "Epoch 16/30\n",
      "45455/45455 [==============================] - 9s 202us/step - loss: 0.2552 - acc: 0.6588 - val_loss: 0.2581 - val_acc: 0.6497\n",
      "Epoch 17/30\n",
      "45455/45455 [==============================] - 9s 203us/step - loss: 0.2529 - acc: 0.6632 - val_loss: 0.2629 - val_acc: 0.6449\n",
      "Epoch 18/30\n",
      "45455/45455 [==============================] - 9s 207us/step - loss: 0.2517 - acc: 0.6654 - val_loss: 0.2515 - val_acc: 0.6609\n",
      "Epoch 19/30\n",
      "45455/45455 [==============================] - 15s 339us/step - loss: 0.2469 - acc: 0.6741 - val_loss: 0.2539 - val_acc: 0.6603\n",
      "Epoch 20/30\n",
      "45455/45455 [==============================] - 9s 203us/step - loss: 0.2458 - acc: 0.6766 - val_loss: 0.2486 - val_acc: 0.6607\n",
      "Epoch 21/30\n",
      "45455/45455 [==============================] - 9s 203us/step - loss: 0.2413 - acc: 0.6840 - val_loss: 0.2517 - val_acc: 0.6625\n",
      "Epoch 22/30\n",
      "45455/45455 [==============================] - 9s 203us/step - loss: 0.2409 - acc: 0.6834 - val_loss: 0.2646 - val_acc: 0.6530\n",
      "Epoch 23/30\n",
      "45455/45455 [==============================] - 9s 203us/step - loss: 0.2396 - acc: 0.6851 - val_loss: 0.2539 - val_acc: 0.6616\n",
      "Epoch 24/30\n",
      "45455/45455 [==============================] - 9s 203us/step - loss: 0.2350 - acc: 0.6924 - val_loss: 0.2430 - val_acc: 0.6834\n",
      "Epoch 25/30\n",
      "45455/45455 [==============================] - 9s 203us/step - loss: 0.2352 - acc: 0.6931 - val_loss: 0.2496 - val_acc: 0.6697\n",
      "Epoch 26/30\n",
      "45455/45455 [==============================] - 9s 203us/step - loss: 0.2335 - acc: 0.6967 - val_loss: 0.2401 - val_acc: 0.6812\n",
      "Epoch 27/30\n",
      "45455/45455 [==============================] - 9s 203us/step - loss: 0.2312 - acc: 0.7003 - val_loss: 0.2490 - val_acc: 0.6638\n",
      "Epoch 28/30\n",
      "45455/45455 [==============================] - 14s 299us/step - loss: 0.2317 - acc: 0.6996 - val_loss: 0.2651 - val_acc: 0.6403\n",
      "Epoch 29/30\n",
      "45455/45455 [==============================] - 9s 202us/step - loss: 0.2291 - acc: 0.7047 - val_loss: 0.2439 - val_acc: 0.6761\n",
      "Epoch 30/30\n",
      "45455/45455 [==============================] - 13s 296us/step - loss: 0.2268 - acc: 0.7068 - val_loss: 0.2399 - val_acc: 0.6829\n"
     ]
    }
   ],
   "source": [
    "\"\"\"three-CONV-LAYERS-THICK\"\"\"\n",
    "if not data_augmentation:\n",
    "    print('Not using data augmentation.')\n",
    "    train_history_2= model_2.fit(\n",
    "        x_train,\n",
    "        y_train,\n",
    "        batch_size=batch_size,\n",
    "        epochs=epochs,\n",
    "        validation_split= Vld_Splt,\n",
    "        shuffle=True)\n",
    "else:\n",
    "    print('Using real-time data augmentation.')\n",
    "    # This will do preprocessing and realtime data augmentation:\n",
    "    datagen = ImageDataGenerator(\n",
    "        featurewise_center=False,  # set input mean to 0 over the dataset\n",
    "        samplewise_center=False,  # set each sample mean to 0\n",
    "        featurewise_std_normalization=False,  # divide inputs by dataset std\n",
    "        samplewise_std_normalization=False,  # divide each input by its std\n",
    "        zca_whitening=False,  # apply ZCA whitening\n",
    "        zca_epsilon=1e-06,  # epsilon for ZCA whitening\n",
    "        rotation_range=0,  # randomly rotate images in 0 to 180 degrees\n",
    "        width_shift_range=0.1,  # randomly shift images horizontally\n",
    "        height_shift_range=0.1,  # randomly shift images vertically\n",
    "        shear_range=0.,  # set range for random shear\n",
    "        zoom_range=0.,  # set range for random zoom\n",
    "        channel_shift_range=0.,  # set range for random channel shifts\n",
    "        # set mode for filling points outside the input boundaries\n",
    "        fill_mode='nearest',\n",
    "        cval=0.,  # value used for fill_mode = \"constant\"\n",
    "        horizontal_flip=True,  # randomly flip images\n",
    "        vertical_flip=False,  # randomly flip images\n",
    "        # set rescaling factor (applied before any other transformation)\n",
    "        rescale=None,\n",
    "        # set function that will be applied on each input\n",
    "        preprocessing_function=None,\n",
    "        # image data format, either \"channels_first\" or \"channels_last\"\n",
    "        data_format=None,\n",
    "        # fraction of images reserved for validation (strictly between 0 and 1)\n",
    "        validation_split=0.0)\n",
    "\n",
    "    # Compute quantities required for feature-wise normalization\n",
    "    # (std, mean, and principal components if ZCA whitening is applied).\n",
    "    datagen.fit(x_train)\n",
    "\n",
    "    # Fit the model on the batches generated by datagen.flow().\n",
    "    train_history_2= model_2.fit_generator(\n",
    "        datagen.flow(x_train, y_train, batch_size=batch_size),\n",
    "        epochs= epochs,\n",
    "        validation_split= Vld_Splt,\n",
    "        steps_per_epoch= int(x_train.shape[0]/ batch_size),\n",
    "        workers=4)"
   ]
  },
  {
   "cell_type": "code",
   "execution_count": 72,
   "metadata": {},
   "outputs": [
    {
     "name": "stdout",
     "output_type": "stream",
     "text": [
      "Not using data augmentation.\n",
      "Train on 45455 samples, validate on 4545 samples\n",
      "Epoch 1/30\n",
      "45455/45455 [==============================] - 10s 217us/step - loss: 0.4960 - acc: 0.2507 - val_loss: 0.4439 - val_acc: 0.3184\n",
      "Epoch 2/30\n",
      "45455/45455 [==============================] - 8s 177us/step - loss: 0.4074 - acc: 0.3877 - val_loss: 0.3817 - val_acc: 0.4361\n",
      "Epoch 3/30\n",
      "45455/45455 [==============================] - 8s 181us/step - loss: 0.3693 - acc: 0.4646 - val_loss: 0.3616 - val_acc: 0.4858\n",
      "Epoch 4/30\n",
      "45455/45455 [==============================] - 8s 180us/step - loss: 0.3427 - acc: 0.5103 - val_loss: 0.3333 - val_acc: 0.5316\n",
      "Epoch 5/30\n",
      "45455/45455 [==============================] - 8s 183us/step - loss: 0.3210 - acc: 0.5475 - val_loss: 0.3089 - val_acc: 0.5659\n",
      "Epoch 6/30\n",
      "45455/45455 [==============================] - 8s 174us/step - loss: 0.3067 - acc: 0.5690 - val_loss: 0.3025 - val_acc: 0.5674\n",
      "Epoch 7/30\n",
      "45455/45455 [==============================] - 8s 173us/step - loss: 0.2958 - acc: 0.5847 - val_loss: 0.2792 - val_acc: 0.6143\n",
      "Epoch 8/30\n",
      "45455/45455 [==============================] - 8s 172us/step - loss: 0.2842 - acc: 0.6047 - val_loss: 0.2817 - val_acc: 0.6110\n",
      "Epoch 9/30\n",
      "45455/45455 [==============================] - 8s 172us/step - loss: 0.2763 - acc: 0.6163 - val_loss: 0.2748 - val_acc: 0.6174\n",
      "Epoch 10/30\n",
      "45455/45455 [==============================] - 8s 171us/step - loss: 0.2704 - acc: 0.6280 - val_loss: 0.2650 - val_acc: 0.6383\n",
      "Epoch 11/30\n",
      "45455/45455 [==============================] - 8s 173us/step - loss: 0.2640 - acc: 0.6371 - val_loss: 0.2655 - val_acc: 0.6378\n",
      "Epoch 12/30\n",
      "45455/45455 [==============================] - 8s 172us/step - loss: 0.2579 - acc: 0.6468 - val_loss: 0.2691 - val_acc: 0.6244\n",
      "Epoch 13/30\n",
      "45455/45455 [==============================] - 8s 173us/step - loss: 0.2539 - acc: 0.6544 - val_loss: 0.2570 - val_acc: 0.6524\n",
      "Epoch 14/30\n",
      "45455/45455 [==============================] - 8s 173us/step - loss: 0.2494 - acc: 0.6616 - val_loss: 0.2697 - val_acc: 0.6392\n",
      "Epoch 15/30\n",
      "45455/45455 [==============================] - 8s 171us/step - loss: 0.2469 - acc: 0.6666 - val_loss: 0.2513 - val_acc: 0.6623\n",
      "Epoch 16/30\n",
      "45455/45455 [==============================] - 8s 174us/step - loss: 0.2434 - acc: 0.6713 - val_loss: 0.2475 - val_acc: 0.6700\n",
      "Epoch 17/30\n",
      "45455/45455 [==============================] - 8s 172us/step - loss: 0.2410 - acc: 0.6739 - val_loss: 0.2456 - val_acc: 0.6697\n",
      "Epoch 18/30\n",
      "45455/45455 [==============================] - 8s 173us/step - loss: 0.2390 - acc: 0.6783 - val_loss: 0.2428 - val_acc: 0.6739\n",
      "Epoch 19/30\n",
      "45455/45455 [==============================] - 8s 172us/step - loss: 0.2347 - acc: 0.6840 - val_loss: 0.2381 - val_acc: 0.6772\n",
      "Epoch 20/30\n",
      "45455/45455 [==============================] - 8s 173us/step - loss: 0.2357 - acc: 0.6834 - val_loss: 0.2368 - val_acc: 0.6766\n",
      "Epoch 21/30\n",
      "45455/45455 [==============================] - 8s 173us/step - loss: 0.2309 - acc: 0.6916 - val_loss: 0.2358 - val_acc: 0.6814\n",
      "Epoch 22/30\n",
      "45455/45455 [==============================] - 8s 174us/step - loss: 0.2274 - acc: 0.6961 - val_loss: 0.2430 - val_acc: 0.6682\n",
      "Epoch 23/30\n",
      "45455/45455 [==============================] - 8s 172us/step - loss: 0.2278 - acc: 0.6957 - val_loss: 0.2355 - val_acc: 0.6741\n",
      "Epoch 24/30\n",
      "45455/45455 [==============================] - 8s 175us/step - loss: 0.2238 - acc: 0.7026 - val_loss: 0.2343 - val_acc: 0.6816\n",
      "Epoch 25/30\n",
      "45455/45455 [==============================] - 8s 174us/step - loss: 0.2228 - acc: 0.7022 - val_loss: 0.2340 - val_acc: 0.6796\n",
      "Epoch 26/30\n",
      "45455/45455 [==============================] - 8s 174us/step - loss: 0.2225 - acc: 0.7047 - val_loss: 0.2337 - val_acc: 0.6887\n",
      "Epoch 27/30\n",
      "45455/45455 [==============================] - 8s 174us/step - loss: 0.2194 - acc: 0.7085 - val_loss: 0.2289 - val_acc: 0.6926\n",
      "Epoch 28/30\n",
      "45455/45455 [==============================] - 8s 182us/step - loss: 0.2182 - acc: 0.7098 - val_loss: 0.2271 - val_acc: 0.6981\n",
      "Epoch 29/30\n",
      "45455/45455 [==============================] - 8s 182us/step - loss: 0.2192 - acc: 0.7090 - val_loss: 0.2317 - val_acc: 0.6917\n",
      "Epoch 30/30\n",
      "45455/45455 [==============================] - 9s 190us/step - loss: 0.2153 - acc: 0.7158 - val_loss: 0.2288 - val_acc: 0.6895\n"
     ]
    }
   ],
   "source": [
    "\"\"\"four-CONV-LAYERS-THICK\"\"\"\n",
    "if not data_augmentation:\n",
    "    print('Not using data augmentation.')\n",
    "    train_history_3= model_3.fit(\n",
    "        x_train,\n",
    "        y_train,\n",
    "        batch_size=batch_size,\n",
    "        epochs=epochs,\n",
    "        validation_split= Vld_Splt,\n",
    "        shuffle=True)\n",
    "else:\n",
    "    print('Using real-time data augmentation.')\n",
    "    # This will do preprocessing and realtime data augmentation:\n",
    "    datagen = ImageDataGenerator(\n",
    "        featurewise_center=False,  # set input mean to 0 over the dataset\n",
    "        samplewise_center=False,  # set each sample mean to 0\n",
    "        featurewise_std_normalization=False,  # divide inputs by dataset std\n",
    "        samplewise_std_normalization=False,  # divide each input by its std\n",
    "        zca_whitening=False,  # apply ZCA whitening\n",
    "        zca_epsilon=1e-06,  # epsilon for ZCA whitening\n",
    "        rotation_range=0,  # randomly rotate images in 0 to 180 degrees\n",
    "        width_shift_range=0.1,  # randomly shift images horizontally\n",
    "        height_shift_range=0.1,  # randomly shift images vertically\n",
    "        shear_range=0.,  # set range for random shear\n",
    "        zoom_range=0.,  # set range for random zoom\n",
    "        channel_shift_range=0.,  # set range for random channel shifts\n",
    "        # set mode for filling points outside the input boundaries\n",
    "        fill_mode='nearest',\n",
    "        cval=0.,  # value used for fill_mode = \"constant\"\n",
    "        horizontal_flip=True,  # randomly flip images\n",
    "        vertical_flip=False,  # randomly flip images\n",
    "        # set rescaling factor (applied before any other transformation)\n",
    "        rescale=None,\n",
    "        # set function that will be applied on each input\n",
    "        preprocessing_function=None,\n",
    "        # image data format, either \"channels_first\" or \"channels_last\"\n",
    "        data_format=None,\n",
    "        # fraction of images reserved for validation (strictly between 0 and 1)\n",
    "        validation_split=0.0)\n",
    "\n",
    "    # Compute quantities required for feature-wise normalization\n",
    "    # (std, mean, and principal components if ZCA whitening is applied).\n",
    "    datagen.fit(x_train)\n",
    "\n",
    "    # Fit the model on the batches generated by datagen.flow().\n",
    "    train_history_3= model_3.fit_generator(\n",
    "        datagen.flow(x_train, y_train, batch_size=batch_size),\n",
    "        epochs= epochs,\n",
    "        validation_split= Vld_Splt,\n",
    "        steps_per_epoch= int(x_train.shape[0]/ batch_size),\n",
    "        workers=4)"
   ]
  },
  {
   "cell_type": "code",
   "execution_count": 73,
   "metadata": {},
   "outputs": [
    {
     "name": "stdout",
     "output_type": "stream",
     "text": [
      "Not using data augmentation.\n",
      "Train on 45455 samples, validate on 4545 samples\n",
      "Epoch 1/30\n",
      "45455/45455 [==============================] - 9s 201us/step - loss: 0.4873 - acc: 0.2267 - val_loss: 0.4356 - val_acc: 0.3069\n",
      "Epoch 2/30\n",
      "45455/45455 [==============================] - 7s 157us/step - loss: 0.4119 - acc: 0.3686 - val_loss: 0.3922 - val_acc: 0.4090\n",
      "Epoch 3/30\n",
      "45455/45455 [==============================] - 7s 153us/step - loss: 0.3725 - acc: 0.4477 - val_loss: 0.3547 - val_acc: 0.4735\n",
      "Epoch 4/30\n",
      "45455/45455 [==============================] - 7s 160us/step - loss: 0.3441 - acc: 0.4936 - val_loss: 0.3240 - val_acc: 0.5261\n",
      "Epoch 5/30\n",
      "45455/45455 [==============================] - 7s 156us/step - loss: 0.3224 - acc: 0.5304 - val_loss: 0.3110 - val_acc: 0.5413\n",
      "Epoch 6/30\n",
      "45455/45455 [==============================] - 7s 155us/step - loss: 0.3074 - acc: 0.5540 - val_loss: 0.3060 - val_acc: 0.5586\n",
      "Epoch 7/30\n",
      "45455/45455 [==============================] - 8s 165us/step - loss: 0.2967 - acc: 0.5711 - val_loss: 0.2887 - val_acc: 0.5844\n",
      "Epoch 8/30\n",
      "45455/45455 [==============================] - 7s 156us/step - loss: 0.2867 - acc: 0.5861 - val_loss: 0.2821 - val_acc: 0.5947\n",
      "Epoch 9/30\n",
      "45455/45455 [==============================] - 7s 153us/step - loss: 0.2774 - acc: 0.6027 - val_loss: 0.2682 - val_acc: 0.6209\n",
      "Epoch 10/30\n",
      "45455/45455 [==============================] - 7s 155us/step - loss: 0.2727 - acc: 0.6086 - val_loss: 0.2778 - val_acc: 0.6145\n",
      "Epoch 11/30\n",
      "45455/45455 [==============================] - 7s 154us/step - loss: 0.2637 - acc: 0.6257 - val_loss: 0.2632 - val_acc: 0.6275\n",
      "Epoch 12/30\n",
      "45455/45455 [==============================] - 7s 156us/step - loss: 0.2608 - acc: 0.6290 - val_loss: 0.2653 - val_acc: 0.6271\n",
      "Epoch 13/30\n",
      "45455/45455 [==============================] - 7s 154us/step - loss: 0.2577 - acc: 0.6339 - val_loss: 0.2478 - val_acc: 0.6464\n",
      "Epoch 14/30\n",
      "45455/45455 [==============================] - 7s 155us/step - loss: 0.2553 - acc: 0.6365 - val_loss: 0.2556 - val_acc: 0.6363\n",
      "Epoch 15/30\n",
      "45455/45455 [==============================] - 7s 153us/step - loss: 0.2493 - acc: 0.6470 - val_loss: 0.2449 - val_acc: 0.6634\n",
      "Epoch 16/30\n",
      "45455/45455 [==============================] - 7s 153us/step - loss: 0.2451 - acc: 0.6559 - val_loss: 0.2437 - val_acc: 0.6609\n",
      "Epoch 17/30\n",
      "45455/45455 [==============================] - 8s 166us/step - loss: 0.2457 - acc: 0.6563 - val_loss: 0.2460 - val_acc: 0.6499\n",
      "Epoch 18/30\n",
      "45455/45455 [==============================] - 7s 162us/step - loss: 0.2412 - acc: 0.6610 - val_loss: 0.2402 - val_acc: 0.6614\n",
      "Epoch 19/30\n",
      "45455/45455 [==============================] - 8s 167us/step - loss: 0.2381 - acc: 0.6686 - val_loss: 0.2506 - val_acc: 0.6422\n",
      "Epoch 20/30\n",
      "45455/45455 [==============================] - 7s 165us/step - loss: 0.2363 - acc: 0.6707 - val_loss: 0.2351 - val_acc: 0.6664\n",
      "Epoch 21/30\n",
      "45455/45455 [==============================] - 8s 167us/step - loss: 0.2326 - acc: 0.6754 - val_loss: 0.2447 - val_acc: 0.6570\n",
      "Epoch 22/30\n",
      "45455/45455 [==============================] - 8s 165us/step - loss: 0.2341 - acc: 0.6738 - val_loss: 0.2373 - val_acc: 0.6673\n",
      "Epoch 23/30\n",
      "45455/45455 [==============================] - 7s 162us/step - loss: 0.2301 - acc: 0.6806 - val_loss: 0.2338 - val_acc: 0.6741\n",
      "Epoch 24/30\n",
      "45455/45455 [==============================] - 7s 157us/step - loss: 0.2283 - acc: 0.6834 - val_loss: 0.2352 - val_acc: 0.6715\n",
      "Epoch 25/30\n",
      "45455/45455 [==============================] - 7s 158us/step - loss: 0.2260 - acc: 0.6869 - val_loss: 0.2405 - val_acc: 0.6616\n",
      "Epoch 26/30\n",
      "45455/45455 [==============================] - 7s 157us/step - loss: 0.2242 - acc: 0.6909 - val_loss: 0.2322 - val_acc: 0.6777\n",
      "Epoch 27/30\n",
      "45455/45455 [==============================] - 7s 157us/step - loss: 0.2227 - acc: 0.6928 - val_loss: 0.2321 - val_acc: 0.6785\n",
      "Epoch 28/30\n",
      "45455/45455 [==============================] - 7s 156us/step - loss: 0.2218 - acc: 0.6959 - val_loss: 0.2243 - val_acc: 0.6871\n",
      "Epoch 29/30\n",
      "45455/45455 [==============================] - 7s 157us/step - loss: 0.2191 - acc: 0.6985 - val_loss: 0.2328 - val_acc: 0.6794\n",
      "Epoch 30/30\n",
      "45455/45455 [==============================] - 7s 157us/step - loss: 0.2186 - acc: 0.7017 - val_loss: 0.2198 - val_acc: 0.6988\n"
     ]
    }
   ],
   "source": [
    "\"\"\"five-CONV-LAYERS-THICK\"\"\"\n",
    "if not data_augmentation:\n",
    "    print('Not using data augmentation.')\n",
    "    train_history_4= model_4.fit(\n",
    "        x_train,\n",
    "        y_train,\n",
    "        batch_size=batch_size,\n",
    "        epochs=epochs,\n",
    "        validation_split= Vld_Splt,\n",
    "        shuffle=True)\n",
    "else:\n",
    "    print('Using real-time data augmentation.')\n",
    "    # This will do preprocessing and realtime data augmentation:\n",
    "    datagen = ImageDataGenerator(\n",
    "        featurewise_center=False,  # set input mean to 0 over the dataset\n",
    "        samplewise_center=False,  # set each sample mean to 0\n",
    "        featurewise_std_normalization=False,  # divide inputs by dataset std\n",
    "        samplewise_std_normalization=False,  # divide each input by its std\n",
    "        zca_whitening=False,  # apply ZCA whitening\n",
    "        zca_epsilon=1e-06,  # epsilon for ZCA whitening\n",
    "        rotation_range=0,  # randomly rotate images in 0 to 180 degrees\n",
    "        width_shift_range=0.1,  # randomly shift images horizontally\n",
    "        height_shift_range=0.1,  # randomly shift images vertically\n",
    "        shear_range=0.,  # set range for random shear\n",
    "        zoom_range=0.,  # set range for random zoom\n",
    "        channel_shift_range=0.,  # set range for random channel shifts\n",
    "        # set mode for filling points outside the input boundaries\n",
    "        fill_mode='nearest',\n",
    "        cval=0.,  # value used for fill_mode = \"constant\"\n",
    "        horizontal_flip=True,  # randomly flip images\n",
    "        vertical_flip=False,  # randomly flip images\n",
    "        # set rescaling factor (applied before any other transformation)\n",
    "        rescale=None,\n",
    "        # set function that will be applied on each input\n",
    "        preprocessing_function=None,\n",
    "        # image data format, either \"channels_first\" or \"channels_last\"\n",
    "        data_format=None,\n",
    "        # fraction of images reserved for validation (strictly between 0 and 1)\n",
    "        validation_split=0.0)\n",
    "\n",
    "    # Compute quantities required for feature-wise normalization\n",
    "    # (std, mean, and principal components if ZCA whitening is applied).\n",
    "    datagen.fit(x_train)\n",
    "\n",
    "    # Fit the model on the batches generated by datagen.flow().\n",
    "    train_history_4= model_4.fit_generator(\n",
    "        datagen.flow(x_train, y_train, batch_size=batch_size),\n",
    "        epochs= epochs,\n",
    "        validation_split= Vld_Splt,\n",
    "        steps_per_epoch= int(x_train.shape[0]/ batch_size),\n",
    "        workers=4)"
   ]
  },
  {
   "cell_type": "code",
   "execution_count": 67,
   "metadata": {},
   "outputs": [
    {
     "name": "stdout",
     "output_type": "stream",
     "text": [
      "Not using data augmentation.\n",
      "Train on 45455 samples, validate on 4545 samples\n",
      "Epoch 1/30\n",
      "45455/45455 [==============================] - 5s 107us/step - loss: 0.2033 - acc: 0.7115 - val_loss: 0.2081 - val_acc: 0.7012\n",
      "Epoch 2/30\n",
      "45455/45455 [==============================] - 5s 107us/step - loss: 0.2034 - acc: 0.7125 - val_loss: 0.2082 - val_acc: 0.6999\n",
      "Epoch 3/30\n",
      "45455/45455 [==============================] - 5s 108us/step - loss: 0.1997 - acc: 0.7169 - val_loss: 0.2118 - val_acc: 0.6915\n",
      "Epoch 4/30\n",
      "45455/45455 [==============================] - 5s 109us/step - loss: 0.1982 - acc: 0.7226 - val_loss: 0.2065 - val_acc: 0.7028\n",
      "Epoch 5/30\n",
      "45455/45455 [==============================] - 5s 104us/step - loss: 0.1982 - acc: 0.7208 - val_loss: 0.2152 - val_acc: 0.6876\n",
      "Epoch 6/30\n",
      "45455/45455 [==============================] - 5s 104us/step - loss: 0.1968 - acc: 0.7211 - val_loss: 0.2057 - val_acc: 0.7054\n",
      "Epoch 7/30\n",
      "45455/45455 [==============================] - 5s 108us/step - loss: 0.1941 - acc: 0.7280 - val_loss: 0.2056 - val_acc: 0.7021\n",
      "Epoch 8/30\n",
      "45455/45455 [==============================] - 5s 105us/step - loss: 0.1926 - acc: 0.7302 - val_loss: 0.2169 - val_acc: 0.6924\n",
      "Epoch 9/30\n",
      "45455/45455 [==============================] - 5s 106us/step - loss: 0.1932 - acc: 0.7285 - val_loss: 0.2124 - val_acc: 0.6942\n",
      "Epoch 10/30\n",
      "45455/45455 [==============================] - 5s 104us/step - loss: 0.1908 - acc: 0.7330 - val_loss: 0.2116 - val_acc: 0.6979\n",
      "Epoch 11/30\n",
      "45455/45455 [==============================] - 5s 107us/step - loss: 0.1921 - acc: 0.7289 - val_loss: 0.2068 - val_acc: 0.7041\n",
      "Epoch 12/30\n",
      "45455/45455 [==============================] - 5s 109us/step - loss: 0.1902 - acc: 0.7329 - val_loss: 0.1954 - val_acc: 0.7188\n",
      "Epoch 13/30\n",
      "45455/45455 [==============================] - 5s 107us/step - loss: 0.1894 - acc: 0.7325 - val_loss: 0.2004 - val_acc: 0.7142\n",
      "Epoch 14/30\n",
      "45455/45455 [==============================] - 5s 104us/step - loss: 0.1896 - acc: 0.7335 - val_loss: 0.2048 - val_acc: 0.7047\n",
      "Epoch 15/30\n",
      "45455/45455 [==============================] - 5s 106us/step - loss: 0.1867 - acc: 0.7382 - val_loss: 0.1962 - val_acc: 0.7206\n",
      "Epoch 16/30\n",
      "45455/45455 [==============================] - 5s 119us/step - loss: 0.1863 - acc: 0.7407 - val_loss: 0.1950 - val_acc: 0.7186\n",
      "Epoch 17/30\n",
      "45455/45455 [==============================] - 5s 117us/step - loss: 0.1845 - acc: 0.7423 - val_loss: 0.1947 - val_acc: 0.7162\n",
      "Epoch 18/30\n",
      "45455/45455 [==============================] - 5s 119us/step - loss: 0.1862 - acc: 0.7400 - val_loss: 0.2022 - val_acc: 0.7072\n",
      "Epoch 19/30\n",
      "45455/45455 [==============================] - 5s 108us/step - loss: 0.1829 - acc: 0.7443 - val_loss: 0.1966 - val_acc: 0.7210\n",
      "Epoch 20/30\n",
      "45455/45455 [==============================] - 5s 117us/step - loss: 0.1814 - acc: 0.7461 - val_loss: 0.1974 - val_acc: 0.7142\n",
      "Epoch 21/30\n",
      "45455/45455 [==============================] - 6s 125us/step - loss: 0.1807 - acc: 0.7499 - val_loss: 0.1961 - val_acc: 0.7190\n",
      "Epoch 22/30\n",
      "45455/45455 [==============================] - 5s 120us/step - loss: 0.1821 - acc: 0.7463 - val_loss: 0.1955 - val_acc: 0.7232\n",
      "Epoch 23/30\n",
      "45455/45455 [==============================] - 5s 111us/step - loss: 0.1814 - acc: 0.7467 - val_loss: 0.2000 - val_acc: 0.7129\n",
      "Epoch 24/30\n",
      "45455/45455 [==============================] - 5s 107us/step - loss: 0.1788 - acc: 0.7515 - val_loss: 0.1932 - val_acc: 0.7197\n",
      "Epoch 25/30\n",
      "45455/45455 [==============================] - 5s 103us/step - loss: 0.1795 - acc: 0.7488 - val_loss: 0.1937 - val_acc: 0.7210\n",
      "Epoch 26/30\n",
      "45455/45455 [==============================] - 5s 104us/step - loss: 0.1789 - acc: 0.7496 - val_loss: 0.1978 - val_acc: 0.7201\n",
      "Epoch 27/30\n",
      "45455/45455 [==============================] - 5s 107us/step - loss: 0.1790 - acc: 0.7491 - val_loss: 0.1986 - val_acc: 0.7171\n",
      "Epoch 28/30\n",
      "45455/45455 [==============================] - 5s 104us/step - loss: 0.1770 - acc: 0.7552 - val_loss: 0.1976 - val_acc: 0.7212\n",
      "Epoch 29/30\n",
      "45455/45455 [==============================] - 5s 106us/step - loss: 0.1757 - acc: 0.7539 - val_loss: 0.1918 - val_acc: 0.7307\n",
      "Epoch 30/30\n",
      "45455/45455 [==============================] - 5s 108us/step - loss: 0.1762 - acc: 0.7554 - val_loss: 0.1906 - val_acc: 0.7292\n"
     ]
    }
   ],
   "source": [
    "\"\"\"six-CONV-LAYERS-THICK\"\"\"\n",
    "if not data_augmentation:\n",
    "    print('Not using data augmentation.')\n",
    "    train_history_5= model_5.fit(\n",
    "        x_train,\n",
    "        y_train,\n",
    "        batch_size=batch_size,\n",
    "        epochs=epochs,\n",
    "        validation_split= Vld_Splt,\n",
    "        shuffle=True)\n",
    "else:\n",
    "    print('Using real-time data augmentation.')\n",
    "    # This will do preprocessing and realtime data augmentation:\n",
    "    datagen = ImageDataGenerator(\n",
    "        featurewise_center=False,  # set input mean to 0 over the dataset\n",
    "        samplewise_center=False,  # set each sample mean to 0\n",
    "        featurewise_std_normalization=False,  # divide inputs by dataset std\n",
    "        samplewise_std_normalization=False,  # divide each input by its std\n",
    "        zca_whitening=False,  # apply ZCA whitening\n",
    "        zca_epsilon=1e-06,  # epsilon for ZCA whitening\n",
    "        rotation_range=0,  # randomly rotate images in 0 to 180 degrees\n",
    "        width_shift_range=0.1,  # randomly shift images horizontally\n",
    "        height_shift_range=0.1,  # randomly shift images vertically\n",
    "        shear_range=0.,  # set range for random shear\n",
    "        zoom_range=0.,  # set range for random zoom\n",
    "        channel_shift_range=0.,  # set range for random channel shifts\n",
    "        # set mode for filling points outside the input boundaries\n",
    "        fill_mode='nearest',\n",
    "        cval=0.,  # value used for fill_mode = \"constant\"\n",
    "        horizontal_flip=True,  # randomly flip images\n",
    "        vertical_flip=False,  # randomly flip images\n",
    "        # set rescaling factor (applied before any other transformation)\n",
    "        rescale=None,\n",
    "        # set function that will be applied on each input\n",
    "        preprocessing_function=None,\n",
    "        # image data format, either \"channels_first\" or \"channels_last\"\n",
    "        data_format=None,\n",
    "        # fraction of images reserved for validation (strictly between 0 and 1)\n",
    "        validation_split=0.0)\n",
    "\n",
    "    # Compute quantities required for feature-wise normalization\n",
    "    # (std, mean, and principal components if ZCA whitening is applied).\n",
    "    datagen.fit(x_train)\n",
    "\n",
    "    # Fit the model on the batches generated by datagen.flow().\n",
    "    train_history_5= model_5.fit_generator(\n",
    "        datagen.flow(x_train, y_train, batch_size=batch_size),\n",
    "        epochs= epochs,\n",
    "        validation_split= Vld_Splt,\n",
    "        steps_per_epoch= int(x_train.shape[0]/ batch_size),\n",
    "        workers=4)"
   ]
  },
  {
   "cell_type": "code",
   "execution_count": 68,
   "metadata": {},
   "outputs": [
    {
     "name": "stdout",
     "output_type": "stream",
     "text": [
      "Not using data augmentation.\n",
      "Train on 45455 samples, validate on 4545 samples\n",
      "Epoch 1/30\n",
      "45455/45455 [==============================] - 6s 124us/step - loss: 0.1618 - acc: 0.7745 - val_loss: 0.1841 - val_acc: 0.7426\n",
      "Epoch 2/30\n",
      "45455/45455 [==============================] - 5s 117us/step - loss: 0.1632 - acc: 0.7729 - val_loss: 0.1895 - val_acc: 0.7338\n",
      "Epoch 3/30\n",
      "45455/45455 [==============================] - 5s 117us/step - loss: 0.1626 - acc: 0.7748 - val_loss: 0.1846 - val_acc: 0.7355\n",
      "Epoch 4/30\n",
      "45455/45455 [==============================] - 5s 115us/step - loss: 0.1621 - acc: 0.7739 - val_loss: 0.1816 - val_acc: 0.7468\n",
      "Epoch 5/30\n",
      "45455/45455 [==============================] - 5s 116us/step - loss: 0.1614 - acc: 0.7753 - val_loss: 0.1828 - val_acc: 0.7435\n",
      "Epoch 6/30\n",
      "45455/45455 [==============================] - 5s 113us/step - loss: 0.1617 - acc: 0.7754 - val_loss: 0.1804 - val_acc: 0.7459\n",
      "Epoch 7/30\n",
      "45455/45455 [==============================] - 5s 115us/step - loss: 0.1597 - acc: 0.7795 - val_loss: 0.1850 - val_acc: 0.7457\n",
      "Epoch 8/30\n",
      "45455/45455 [==============================] - 5s 116us/step - loss: 0.1598 - acc: 0.7785 - val_loss: 0.1804 - val_acc: 0.7496\n",
      "Epoch 9/30\n",
      "45455/45455 [==============================] - 5s 114us/step - loss: 0.1600 - acc: 0.7790 - val_loss: 0.1830 - val_acc: 0.7446\n",
      "Epoch 10/30\n",
      "45455/45455 [==============================] - 5s 114us/step - loss: 0.1577 - acc: 0.7809 - val_loss: 0.1818 - val_acc: 0.7435\n",
      "Epoch 11/30\n",
      "45455/45455 [==============================] - 5s 117us/step - loss: 0.1561 - acc: 0.7832 - val_loss: 0.1811 - val_acc: 0.7483\n",
      "Epoch 12/30\n",
      "45455/45455 [==============================] - 5s 114us/step - loss: 0.1583 - acc: 0.7799 - val_loss: 0.1814 - val_acc: 0.7432\n",
      "Epoch 13/30\n",
      "45455/45455 [==============================] - 5s 114us/step - loss: 0.1573 - acc: 0.7824 - val_loss: 0.1819 - val_acc: 0.7490\n",
      "Epoch 14/30\n",
      "45455/45455 [==============================] - 5s 117us/step - loss: 0.1577 - acc: 0.7819 - val_loss: 0.1799 - val_acc: 0.7472\n",
      "Epoch 15/30\n",
      "45455/45455 [==============================] - 5s 114us/step - loss: 0.1563 - acc: 0.7837 - val_loss: 0.1795 - val_acc: 0.7450\n",
      "Epoch 16/30\n",
      "45455/45455 [==============================] - 5s 117us/step - loss: 0.1555 - acc: 0.7841 - val_loss: 0.1800 - val_acc: 0.7446\n",
      "Epoch 17/30\n",
      "45455/45455 [==============================] - 5s 117us/step - loss: 0.1560 - acc: 0.7830 - val_loss: 0.1883 - val_acc: 0.7375\n",
      "Epoch 18/30\n",
      "45455/45455 [==============================] - 5s 116us/step - loss: 0.1556 - acc: 0.7844 - val_loss: 0.1878 - val_acc: 0.7349\n",
      "Epoch 19/30\n",
      "45455/45455 [==============================] - 5s 114us/step - loss: 0.1560 - acc: 0.7838 - val_loss: 0.1772 - val_acc: 0.7560\n",
      "Epoch 20/30\n",
      "45455/45455 [==============================] - 5s 115us/step - loss: 0.1552 - acc: 0.7852 - val_loss: 0.1829 - val_acc: 0.7446\n",
      "Epoch 21/30\n",
      "45455/45455 [==============================] - 5s 115us/step - loss: 0.1537 - acc: 0.7879 - val_loss: 0.1766 - val_acc: 0.7547\n",
      "Epoch 22/30\n",
      "45455/45455 [==============================] - 5s 114us/step - loss: 0.1548 - acc: 0.7866 - val_loss: 0.1762 - val_acc: 0.7540\n",
      "Epoch 23/30\n",
      "45455/45455 [==============================] - 5s 119us/step - loss: 0.1534 - acc: 0.7898 - val_loss: 0.1775 - val_acc: 0.7520\n",
      "Epoch 24/30\n",
      "45455/45455 [==============================] - 5s 117us/step - loss: 0.1529 - acc: 0.7891 - val_loss: 0.1757 - val_acc: 0.7595\n",
      "Epoch 25/30\n",
      "45455/45455 [==============================] - 5s 115us/step - loss: 0.1527 - acc: 0.7899 - val_loss: 0.1819 - val_acc: 0.7490\n",
      "Epoch 26/30\n",
      "45455/45455 [==============================] - 5s 115us/step - loss: 0.1537 - acc: 0.7885 - val_loss: 0.1722 - val_acc: 0.7641\n",
      "Epoch 27/30\n",
      "45455/45455 [==============================] - 5s 115us/step - loss: 0.1520 - acc: 0.7904 - val_loss: 0.1759 - val_acc: 0.7523\n",
      "Epoch 28/30\n",
      "45455/45455 [==============================] - 5s 115us/step - loss: 0.1520 - acc: 0.7890 - val_loss: 0.1786 - val_acc: 0.7525\n",
      "Epoch 29/30\n",
      "45455/45455 [==============================] - 5s 116us/step - loss: 0.1511 - acc: 0.7909 - val_loss: 0.1770 - val_acc: 0.7553\n",
      "Epoch 30/30\n",
      "45455/45455 [==============================] - 5s 118us/step - loss: 0.1514 - acc: 0.7925 - val_loss: 0.1747 - val_acc: 0.7613\n"
     ]
    }
   ],
   "source": [
    "\"\"\"seven-CONV-LAYERS-THICK\"\"\"\n",
    "if not data_augmentation:\n",
    "    print('Not using data augmentation.')\n",
    "    train_history_6= model_6.fit(\n",
    "        x_train,\n",
    "        y_train,\n",
    "        batch_size=batch_size,\n",
    "        epochs=epochs,\n",
    "        validation_split= Vld_Splt,\n",
    "        shuffle=True)\n",
    "else:\n",
    "    print('Using real-time data augmentation.')\n",
    "    # This will do preprocessing and realtime data augmentation:\n",
    "    datagen = ImageDataGenerator(\n",
    "        featurewise_center=False,  # set input mean to 0 over the dataset\n",
    "        samplewise_center=False,  # set each sample mean to 0\n",
    "        featurewise_std_normalization=False,  # divide inputs by dataset std\n",
    "        samplewise_std_normalization=False,  # divide each input by its std\n",
    "        zca_whitening=False,  # apply ZCA whitening\n",
    "        zca_epsilon=1e-06,  # epsilon for ZCA whitening\n",
    "        rotation_range=0,  # randomly rotate images in 0 to 180 degrees\n",
    "        width_shift_range=0.1,  # randomly shift images horizontally\n",
    "        height_shift_range=0.1,  # randomly shift images vertically\n",
    "        shear_range=0.,  # set range for random shear\n",
    "        zoom_range=0.,  # set range for random zoom\n",
    "        channel_shift_range=0.,  # set range for random channel shifts\n",
    "        # set mode for filling points outside the input boundaries\n",
    "        fill_mode='nearest',\n",
    "        cval=0.,  # value used for fill_mode = \"constant\"\n",
    "        horizontal_flip=True,  # randomly flip images\n",
    "        vertical_flip=False,  # randomly flip images\n",
    "        # set rescaling factor (applied before any other transformation)\n",
    "        rescale=None,\n",
    "        # set function that will be applied on each input\n",
    "        preprocessing_function=None,\n",
    "        # image data format, either \"channels_first\" or \"channels_last\"\n",
    "        data_format=None,\n",
    "        # fraction of images reserved for validation (strictly between 0 and 1)\n",
    "        validation_split=0.0)\n",
    "\n",
    "    # Compute quantities required for feature-wise normalization\n",
    "    # (std, mean, and principal components if ZCA whitening is applied).\n",
    "    datagen.fit(x_train)\n",
    "\n",
    "    # Fit the model on the batches generated by datagen.flow().\n",
    "    train_history_6= model_6.fit_generator(\n",
    "        datagen.flow(x_train, y_train, batch_size=batch_size),\n",
    "        epochs= epochs,\n",
    "        validation_split= Vld_Splt,\n",
    "        steps_per_epoch= int(x_train.shape[0]/ batch_size),\n",
    "        workers=4)"
   ]
  },
  {
   "cell_type": "code",
   "execution_count": 23,
   "metadata": {},
   "outputs": [
    {
     "name": "stdout",
     "output_type": "stream",
     "text": [
      "Train on 45455 samples, validate on 4545 samples\n",
      "Epoch 1/30\n",
      "45455/45455 [==============================] - 4s 82us/step - loss: 1.8305 - acc: 0.3295 - val_loss: 1.6069 - val_acc: 0.4279\n",
      "Epoch 2/30\n",
      "45455/45455 [==============================] - 3s 62us/step - loss: 1.5479 - acc: 0.4398 - val_loss: 1.4480 - val_acc: 0.4988\n",
      "Epoch 3/30\n",
      "45455/45455 [==============================] - 3s 59us/step - loss: 1.4570 - acc: 0.4788 - val_loss: 1.4093 - val_acc: 0.5155\n",
      "Epoch 4/30\n",
      "45455/45455 [==============================] - 3s 59us/step - loss: 1.4097 - acc: 0.4946 - val_loss: 1.3472 - val_acc: 0.5441\n",
      "Epoch 5/30\n",
      "45455/45455 [==============================] - 3s 58us/step - loss: 1.3642 - acc: 0.5106 - val_loss: 1.2937 - val_acc: 0.5593\n",
      "Epoch 6/30\n",
      "45455/45455 [==============================] - 3s 58us/step - loss: 1.3277 - acc: 0.5291 - val_loss: 1.2729 - val_acc: 0.5705\n",
      "Epoch 7/30\n",
      "45455/45455 [==============================] - 3s 61us/step - loss: 1.2955 - acc: 0.5400 - val_loss: 1.2427 - val_acc: 0.5793\n",
      "Epoch 8/30\n",
      "45455/45455 [==============================] - 3s 59us/step - loss: 1.2704 - acc: 0.5496 - val_loss: 1.1952 - val_acc: 0.5949\n",
      "Epoch 9/30\n",
      "45455/45455 [==============================] - 3s 59us/step - loss: 1.2413 - acc: 0.5592 - val_loss: 1.2290 - val_acc: 0.5802\n",
      "Epoch 10/30\n",
      "45455/45455 [==============================] - 3s 59us/step - loss: 1.2200 - acc: 0.5651 - val_loss: 1.1658 - val_acc: 0.6044\n",
      "Epoch 11/30\n",
      "45455/45455 [==============================] - 3s 58us/step - loss: 1.1929 - acc: 0.5778 - val_loss: 1.1379 - val_acc: 0.6260\n",
      "Epoch 12/30\n",
      "45455/45455 [==============================] - 3s 57us/step - loss: 1.1754 - acc: 0.5844 - val_loss: 1.1321 - val_acc: 0.6229\n",
      "Epoch 13/30\n",
      "45455/45455 [==============================] - ETA: 0s - loss: 1.1645 - acc: 0.589 - 3s 59us/step - loss: 1.1641 - acc: 0.5894 - val_loss: 1.1231 - val_acc: 0.6249\n",
      "Epoch 14/30\n",
      "45455/45455 [==============================] - 3s 58us/step - loss: 1.1479 - acc: 0.5951 - val_loss: 1.1112 - val_acc: 0.6341\n",
      "Epoch 15/30\n",
      "45455/45455 [==============================] - 3s 58us/step - loss: 1.1294 - acc: 0.5995 - val_loss: 1.1071 - val_acc: 0.6341\n",
      "Epoch 16/30\n",
      "45455/45455 [==============================] - 3s 57us/step - loss: 1.1117 - acc: 0.6052 - val_loss: 1.1018 - val_acc: 0.6337\n",
      "Epoch 17/30\n",
      "45455/45455 [==============================] - 3s 58us/step - loss: 1.0966 - acc: 0.6087 - val_loss: 1.0817 - val_acc: 0.6398\n",
      "Epoch 18/30\n",
      "45455/45455 [==============================] - 3s 56us/step - loss: 1.0794 - acc: 0.6150 - val_loss: 1.0577 - val_acc: 0.6497\n",
      "Epoch 19/30\n",
      "45455/45455 [==============================] - 3s 57us/step - loss: 1.0767 - acc: 0.6203 - val_loss: 1.0712 - val_acc: 0.6394\n",
      "Epoch 20/30\n",
      "45455/45455 [==============================] - 3s 58us/step - loss: 1.0595 - acc: 0.6232 - val_loss: 1.0412 - val_acc: 0.6550\n",
      "Epoch 21/30\n",
      "45455/45455 [==============================] - 3s 58us/step - loss: 1.0479 - acc: 0.6314 - val_loss: 1.0438 - val_acc: 0.6466\n",
      "Epoch 22/30\n",
      "45455/45455 [==============================] - 3s 58us/step - loss: 1.0366 - acc: 0.6328 - val_loss: 1.0305 - val_acc: 0.6583\n",
      "Epoch 23/30\n",
      "45455/45455 [==============================] - 3s 58us/step - loss: 1.0235 - acc: 0.6382 - val_loss: 1.0295 - val_acc: 0.6649\n",
      "Epoch 24/30\n",
      "45455/45455 [==============================] - 3s 58us/step - loss: 1.0129 - acc: 0.6421 - val_loss: 1.0365 - val_acc: 0.6526\n",
      "Epoch 25/30\n",
      "45455/45455 [==============================] - 3s 59us/step - loss: 1.0076 - acc: 0.6436 - val_loss: 1.0146 - val_acc: 0.6587\n",
      "Epoch 26/30\n",
      "45455/45455 [==============================] - 3s 57us/step - loss: 0.9898 - acc: 0.6508 - val_loss: 1.0240 - val_acc: 0.6568\n",
      "Epoch 27/30\n",
      "45455/45455 [==============================] - 3s 58us/step - loss: 0.9844 - acc: 0.6528 - val_loss: 1.0362 - val_acc: 0.6444\n",
      "Epoch 28/30\n",
      "45455/45455 [==============================] - 3s 59us/step - loss: 0.9751 - acc: 0.6533 - val_loss: 0.9959 - val_acc: 0.6728\n",
      "Epoch 29/30\n",
      "45455/45455 [==============================] - 3s 59us/step - loss: 0.9743 - acc: 0.6548 - val_loss: 1.0207 - val_acc: 0.6616\n",
      "Epoch 30/30\n",
      "45455/45455 [==============================] - 3s 57us/step - loss: 0.9606 - acc: 0.6617 - val_loss: 1.0010 - val_acc: 0.6620\n"
     ]
    }
   ],
   "source": [
    "\"\"\"CNN-3-CONV-LAYERS\"\"\"\n",
    "model_7.compile(loss='categorical_crossentropy',\n",
    "              optimizer='adam', metrics=['accuracy'])\n",
    "train_history_7= model_7.fit(x= x_train, y= y_train, validation_split= Vld_Splt,\n",
    "                         epochs= epochs, batch_size= batch_size, verbose=1)"
   ]
  },
  {
   "cell_type": "code",
   "execution_count": 74,
   "metadata": {},
   "outputs": [
    {
     "name": "stdout",
     "output_type": "stream",
     "text": [
      "10000/10000 [==============================] - 2s 162us/step\n"
     ]
    },
    {
     "data": {
      "text/plain": [
       "0.506"
      ]
     },
     "execution_count": 74,
     "metadata": {},
     "output_type": "execute_result"
    }
   ],
   "source": [
    "\"\"\"one-CONV-LAYERS-THICK\"\"\"\n",
    "scores_0= model_0.evaluate(x_test, y_test)\n",
    "scores_0[1]"
   ]
  },
  {
   "cell_type": "code",
   "execution_count": 75,
   "metadata": {},
   "outputs": [
    {
     "name": "stdout",
     "output_type": "stream",
     "text": [
      "10000/10000 [==============================] - 1s 148us/step\n"
     ]
    },
    {
     "data": {
      "text/plain": [
       "0.647"
      ]
     },
     "execution_count": 75,
     "metadata": {},
     "output_type": "execute_result"
    }
   ],
   "source": [
    "\"\"\"two-CONV-LAYERS-THICK\"\"\"\n",
    "scores_1= model_1.evaluate(x_test, y_test)\n",
    "scores_1[1]"
   ]
  },
  {
   "cell_type": "code",
   "execution_count": 76,
   "metadata": {},
   "outputs": [
    {
     "name": "stdout",
     "output_type": "stream",
     "text": [
      "10000/10000 [==============================] - 1s 137us/step\n"
     ]
    },
    {
     "data": {
      "text/plain": [
       "0.6811"
      ]
     },
     "execution_count": 76,
     "metadata": {},
     "output_type": "execute_result"
    }
   ],
   "source": [
    "\"\"\"three-CONV-LAYERS-THICK\"\"\"\n",
    "scores_2= model_2.evaluate(x_test, y_test)\n",
    "scores_2[1]"
   ]
  },
  {
   "cell_type": "code",
   "execution_count": 77,
   "metadata": {},
   "outputs": [
    {
     "name": "stdout",
     "output_type": "stream",
     "text": [
      "10000/10000 [==============================] - 1s 144us/step\n"
     ]
    },
    {
     "data": {
      "text/plain": [
       "0.683"
      ]
     },
     "execution_count": 77,
     "metadata": {},
     "output_type": "execute_result"
    }
   ],
   "source": [
    "\"\"\"four-CONV-LAYERS-THICK\"\"\"\n",
    "scores_3= model_3.evaluate(x_test, y_test)\n",
    "scores_3[1]"
   ]
  },
  {
   "cell_type": "code",
   "execution_count": 78,
   "metadata": {},
   "outputs": [
    {
     "name": "stdout",
     "output_type": "stream",
     "text": [
      "10000/10000 [==============================] - 1s 128us/step\n"
     ]
    },
    {
     "data": {
      "text/plain": [
       "0.6801"
      ]
     },
     "execution_count": 78,
     "metadata": {},
     "output_type": "execute_result"
    }
   ],
   "source": [
    "\"\"\"five-CONV-LAYERS-THICK\"\"\"\n",
    "scores_4= model_4.evaluate(x_test, y_test)\n",
    "scores_4[1]"
   ]
  },
  {
   "cell_type": "code",
   "execution_count": 79,
   "metadata": {},
   "outputs": [
    {
     "name": "stdout",
     "output_type": "stream",
     "text": [
      "10000/10000 [==============================] - 1s 123us/step\n"
     ]
    },
    {
     "data": {
      "text/plain": [
       "0.7278"
      ]
     },
     "execution_count": 79,
     "metadata": {},
     "output_type": "execute_result"
    }
   ],
   "source": [
    "\"\"\"six-CONV-LAYERS-THICK\"\"\"\n",
    "scores_5= model_5.evaluate(x_test, y_test)\n",
    "scores_5[1]"
   ]
  },
  {
   "cell_type": "code",
   "execution_count": 80,
   "metadata": {},
   "outputs": [
    {
     "name": "stdout",
     "output_type": "stream",
     "text": [
      "10000/10000 [==============================] - 1s 119us/step\n"
     ]
    },
    {
     "data": {
      "text/plain": [
       "0.758"
      ]
     },
     "execution_count": 80,
     "metadata": {},
     "output_type": "execute_result"
    }
   ],
   "source": [
    "\"\"\"seven-CONV-LAYERS-THICK\"\"\"\n",
    "scores_6= model_6.evaluate(x_test, y_test)\n",
    "scores_6[1]"
   ]
  },
  {
   "cell_type": "code",
   "execution_count": 81,
   "metadata": {},
   "outputs": [
    {
     "name": "stdout",
     "output_type": "stream",
     "text": [
      "10000/10000 [==============================] - 1s 88us/step\n"
     ]
    },
    {
     "data": {
      "text/plain": [
       "0.6459"
      ]
     },
     "execution_count": 81,
     "metadata": {},
     "output_type": "execute_result"
    }
   ],
   "source": [
    "\"\"\"CNN\"\"\"\n",
    "scores_7= model_7.evaluate(x_test, y_test)\n",
    "scores_7[1]"
   ]
  },
  {
   "cell_type": "code",
   "execution_count": 82,
   "metadata": {},
   "outputs": [],
   "source": [
    "import matplotlib.pyplot as plt\n",
    "def show_train_history(train_history, train, validation):\n",
    "    plt.plot(train_history.history[train])\n",
    "    plt.plot(train_history.history[validation])\n",
    "    plt.title('Train History')\n",
    "    plt.ylabel(train)\n",
    "    plt.xlabel('Epoch')\n",
    "    plt.legend(['train', 'validation'], loc='best')\n",
    "    plt.show()"
   ]
  },
  {
   "cell_type": "code",
   "execution_count": 83,
   "metadata": {},
   "outputs": [
    {
     "data": {
      "image/png": "[encoded data removed]",
      "text/plain": [
       "<Figure size 432x288 with 1 Axes>"
      ]
     },
     "metadata": {
      "needs_background": "light"
     },
     "output_type": "display_data"
    }
   ],
   "source": [
    "show_train_history(train_history_0, 'acc', 'val_acc')"
   ]
  },
  {
   "cell_type": "code",
   "execution_count": 84,
   "metadata": {},
   "outputs": [
    {
     "data": {
      "image/png": "[encoded data removed]",
      "text/plain": [
       "<Figure size 432x288 with 1 Axes>"
      ]
     },
     "metadata": {
      "needs_background": "light"
     },
     "output_type": "display_data"
    }
   ],
   "source": [
    "show_train_history(train_history_1, 'acc', 'val_acc')"
   ]
  },
  {
   "cell_type": "code",
   "execution_count": 85,
   "metadata": {},
   "outputs": [
    {
     "data": {
      "image/png": "[encoded data removed]",
      "text/plain": [
       "<Figure size 432x288 with 1 Axes>"
      ]
     },
     "metadata": {
      "needs_background": "light"
     },
     "output_type": "display_data"
    }
   ],
   "source": [
    "show_train_history(train_history_2, 'acc', 'val_acc')"
   ]
  },
  {
   "cell_type": "code",
   "execution_count": 86,
   "metadata": {},
   "outputs": [
    {
     "data": {
      "image/png": "[encoded data removed]",
      "text/plain": [
       "<Figure size 432x288 with 1 Axes>"
      ]
     },
     "metadata": {
      "needs_background": "light"
     },
     "output_type": "display_data"
    }
   ],
   "source": [
    "show_train_history(train_history_3, 'acc', 'val_acc')"
   ]
  },
  {
   "cell_type": "code",
   "execution_count": 87,
   "metadata": {},
   "outputs": [
    {
     "data": {
      "image/png": "[encoded data removed]",
      "text/plain": [
       "<Figure size 432x288 with 1 Axes>"
      ]
     },
     "metadata": {
      "needs_background": "light"
     },
     "output_type": "display_data"
    }
   ],
   "source": [
    "show_train_history(train_history_4, 'acc', 'val_acc')"
   ]
  },
  {
   "cell_type": "code",
   "execution_count": 88,
   "metadata": {},
   "outputs": [
    {
     "data": {
      "image/png": "[encoded data removed]",
      "text/plain": [
       "<Figure size 432x288 with 1 Axes>"
      ]
     },
     "metadata": {
      "needs_background": "light"
     },
     "output_type": "display_data"
    }
   ],
   "source": [
    "show_train_history(train_history_5, 'acc', 'val_acc')"
   ]
  },
  {
   "cell_type": "code",
   "execution_count": 89,
   "metadata": {},
   "outputs": [
    {
     "data": {
      "image/png": "[encoded data removed]",
      "text/plain": [
       "<Figure size 432x288 with 1 Axes>"
      ]
     },
     "metadata": {
      "needs_background": "light"
     },
     "output_type": "display_data"
    }
   ],
   "source": [
    "show_train_history(train_history_6, 'acc', 'val_acc')"
   ]
  },
  {
   "cell_type": "code",
   "execution_count": 90,
   "metadata": {},
   "outputs": [
    {
     "data": {
      "image/png": "[encoded data removed]",
      "text/plain": [
       "<Figure size 432x288 with 1 Axes>"
      ]
     },
     "metadata": {
      "needs_background": "light"
     },
     "output_type": "display_data"
    }
   ],
   "source": [
    "show_train_history(train_history_7, 'acc', 'val_acc')"
   ]
  },
  {
   "cell_type": "code",
   "execution_count": 91,
   "metadata": {},
   "outputs": [
    {
     "data": {
      "image/png": "[encoded data removed]",
      "text/plain": [
       "<Figure size 432x288 with 1 Axes>"
      ]
     },
     "metadata": {
      "needs_background": "light"
     },
     "output_type": "display_data"
    }
   ],
   "source": [
    "plt.plot(train_history_0.history['val_acc'], 'r-')\n",
    "plt.plot(train_history_1.history['val_acc'], 'b--')\n",
    "plt.plot(train_history_2.history['val_acc'], 'k.')\n",
    "plt.plot(train_history_3.history['val_acc'], 'b-')\n",
    "plt.plot(train_history_4.history['val_acc'], 'h-')\n",
    "plt.plot(train_history_5.history['val_acc'], 'c-')\n",
    "plt.plot(train_history_6.history['val_acc'], 'g*-')\n",
    "plt.plot(train_history_7.history['val_acc'], 'k-.')\n",
    "plt.title('Training on cifar10')\n",
    "plt.ylabel('Validation Accuracy')\n",
    "plt.xlabel('Epoch')\n",
    "plt.legend(['CapsNet: 1-conv','CapsNet: 2-conv','CapsNet: 3-conv','CapsNet: 4-conv','CapsNet: 5-conv','CapsNet: 6-conv',\n",
    "           'CapsNet: 7-conv','CNN-2CONV'], loc='best')\n",
    "plt.show()"
   ]
  },
  {
   "cell_type": "code",
   "execution_count": null,
   "metadata": {},
   "outputs": [],
   "source": []
  },
  {
   "cell_type": "code",
   "execution_count": null,
   "metadata": {},
   "outputs": [],
   "source": []
  }
 ],
 "metadata": {
  "kernelspec": {
   "display_name": "Python 3",
   "language": "python",
   "name": "python3"
  },
  "language_info": {
   "codemirror_mode": {
    "name": "ipython",
    "version": 3
   },
   "file_extension": ".py",
   "mimetype": "text/x-python",
   "name": "python",
   "nbconvert_exporter": "python",
   "pygments_lexer": "ipython3",
   "version": "3.6.10"
  }
 },
 "nbformat": 4,
 "nbformat_minor": 2
}
